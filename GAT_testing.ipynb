{
 "cells": [
  {
   "cell_type": "code",
   "execution_count": 6,
   "id": "66002d14",
   "metadata": {},
   "outputs": [],
   "source": [
    "import mlflow\n",
    "import mlflow.pytorch\n",
    "import json\n",
    "import torch\n",
    "import matplotlib.pyplot as plt\n",
    "import pandas as pd\n",
    "from torch.nn import CrossEntropyLoss\n",
    "from torch_geometric.loader import DataLoader\n",
    "from torch_geometric.nn.models import GAT\n",
    "import os\n",
    "from torch_geometric.data import Data\n",
    "from torch_geometric.data.data import DataEdgeAttr, DataTensorAttr\n",
    "from torch_geometric.data.storage import GlobalStorage\n",
    "import torch.serialization\n",
    "import optuna\n",
    "from sklearn.model_selection import KFold\n",
    "import numpy as np\n",
    "\n",
    "# from sklearn.model_selection import KFold\n",
    "from sklearn.model_selection import StratifiedKFold\n",
    "# import numpy as np\n",
    "\n",
    "\n"
   ]
  },
  {
   "cell_type": "code",
   "execution_count": 7,
   "id": "c8f8db16",
   "metadata": {},
   "outputs": [
    {
     "data": {
      "text/plain": [
       "device(type='cuda')"
      ]
     },
     "execution_count": 7,
     "metadata": {},
     "output_type": "execute_result"
    }
   ],
   "source": [
    "device = torch.device('cuda' if torch.cuda.is_available() else 'cpu')\n",
    "device"
   ]
  },
  {
   "cell_type": "code",
   "execution_count": 8,
   "id": "82d84458",
   "metadata": {},
   "outputs": [],
   "source": [
    "\n",
    "# Load data \n",
    "with torch.serialization.safe_globals([Data]):\n",
    "    data_list = torch.load(\"training_data\\Datacheckpoint_latest_22\", map_location='cuda', weights_only=False)\n",
    "\n",
    "labels = json.load(open(\"label_encoding.json\"))\n",
    "batch_size = 1\n",
    "\n",
    "train_split = int(len(data_list) * 0.8)\n",
    "train_data = data_list[:train_split]\n",
    "val_data = data_list[train_split:]\n",
    "\n",
    "train_loader = DataLoader(train_data, batch_size=batch_size, shuffle=True)\n",
    "val_loader = DataLoader(val_data, batch_size=batch_size)\n",
    "\n",
    "in_channels = data_list[0].x.size(1)\n",
    "# in_channels =18\n",
    "num_classes = len(labels)\n",
    "\n",
    "model_dir = \"C:\\\\Users\\\\User\\\\OneDrive\\\\Desktop\\\\GAT-model testing\\\\GAT-test\\\\models\\\\model\"\n",
    "results_dir = \"C:\\\\Users\\\\User\\\\OneDrive\\\\Desktop\\\\GAT-model testing\\\\GAT-test\\\\results\"\n",
    "plots_dir = \"C:\\\\Users\\\\User\\\\OneDrive\\\\Desktop\\\\GAT-model testing\\\\GAT-test\\\\plots\"\n",
    "os.makedirs(model_dir, exist_ok=True)\n",
    "os.makedirs(results_dir, exist_ok=True)\n",
    "os.makedirs(plots_dir, exist_ok=True)"
   ]
  },
  {
   "cell_type": "code",
   "execution_count": 9,
   "id": "8de613d8",
   "metadata": {},
   "outputs": [],
   "source": [
    "from sklearn.model_selection import KFold\n",
    "import mlflow\n",
    "import mlflow.pytorch\n",
    "\n",
    "\n",
    "\n",
    "\n",
    "def objective(trial):\n",
    "    config = {\n",
    "        'hidden_channels': trial.suggest_categorical('hidden_channels', [64, 128, 256]),\n",
    "        'num_layers': trial.suggest_int('num_layers', 1, 3),\n",
    "        'heads': trial.suggest_categorical('heads', [1, 2, 4, 8]),\n",
    "        'dropout': trial.suggest_float('dropout', 0.0, 0.5),\n",
    "        'hidden_dim': trial.suggest_categorical('hidden_dim', [64, 128, 256])\n",
    "    }\n",
    "\n",
    "    with mlflow.start_run(run_name=f\"trial_{trial.number}\", nested=True):\n",
    "        mlflow.log_params(config)\n",
    "        mlflow.set_tag(\"cv_strategy\", \"KFold\")\n",
    "        mlflow.set_tag(\"model\", \"GATv2\")\n",
    "\n",
    "        kf = KFold(n_splits=5, shuffle=True, random_state=42)\n",
    "        data_indices = list(range(len(data_list)))\n",
    "        fold_val_acc = []\n",
    "\n",
    "        for fold, (train_idx, val_idx) in enumerate(kf.split(data_indices)):\n",
    "            train_data = [data_list[i] for i in train_idx]\n",
    "            val_data = [data_list[i] for i in val_idx]\n",
    "\n",
    "            train_loader = DataLoader(train_data, batch_size=batch_size, shuffle=True)\n",
    "            val_loader = DataLoader(val_data, batch_size=batch_size)\n",
    "\n",
    "            model = GAT(\n",
    "                in_channels=in_channels,\n",
    "                hidden_channels=config['hidden_channels'],\n",
    "                num_layers=config['num_layers'],\n",
    "                out_channels=num_classes,\n",
    "                dropout=config['dropout'],\n",
    "                heads=config['heads'],\n",
    "                v2=True,\n",
    "                edge_dim=1,\n",
    "                jk='lstm'\n",
    "            ).to(device)\n",
    "\n",
    "            all_train_labels = torch.cat([data.y for data in train_loader.dataset])\n",
    "            class_weights = 1.0 / (torch.bincount(all_train_labels, minlength=num_classes).float() + 1e-6)\n",
    "            class_weights = class_weights / class_weights.sum()\n",
    "            class_weights = class_weights.to(device)\n",
    "\n",
    "            criterion = CrossEntropyLoss(weight=class_weights)\n",
    "            optimizer = torch.optim.Adam(model.parameters(), lr=0.0005, weight_decay=5e-4)\n",
    "            scheduler = torch.optim.lr_scheduler.ReduceLROnPlateau(optimizer, mode='min', factor=0.5, patience=10)\n",
    "\n",
    "            best_val_acc = 0\n",
    "            best_val_loss = float('inf')\n",
    "            wait = 0\n",
    "            patience = 30\n",
    "            min_delta = 1e-4\n",
    "\n",
    "            training_loss, validation_loss, validation_acc = [], [], []\n",
    "\n",
    "            for epoch in range(501):\n",
    "                model.train()\n",
    "                total_loss = 0\n",
    "                correct_train = 0\n",
    "                total_train = 0\n",
    "\n",
    "                for data in train_loader:\n",
    "                    data = data.to(device)\n",
    "                    optimizer.zero_grad()\n",
    "                    out = model(data.x, data.edge_index, edge_weight=data.edge_attr)\n",
    "                    loss = criterion(out, data.y)\n",
    "                    loss.backward()\n",
    "                    optimizer.step()\n",
    "                    total_loss += loss.item()\n",
    "                    correct_train += (out.argmax(dim=1) == data.y).sum().item()\n",
    "                    total_train += data.y.size(0)\n",
    "\n",
    "                avg_train_loss = total_loss / len(train_loader)\n",
    "                train_acc = correct_train / total_train\n",
    "                training_loss.append(avg_train_loss)\n",
    "\n",
    "                model.eval()\n",
    "                val_loss = 0\n",
    "                correct, total = 0, 0\n",
    "                with torch.no_grad():\n",
    "                    for data in val_loader:\n",
    "                        data = data.to(device)\n",
    "                        out = model(data.x, data.edge_index, edge_weight=data.edge_attr)\n",
    "                        loss = criterion(out, data.y)\n",
    "                        val_loss += loss.item()\n",
    "                        correct += (out.argmax(dim=1) == data.y).sum().item()\n",
    "                        total += data.y.size(0)\n",
    "\n",
    "                avg_val_loss = val_loss / len(val_loader)\n",
    "                val_acc = correct / total\n",
    "                validation_loss.append(avg_val_loss)\n",
    "                validation_acc.append(val_acc)\n",
    "\n",
    "                # Log metrics per epoch\n",
    "                mlflow.log_metric(f\"fold{fold+1}_train_loss\", avg_train_loss, step=epoch)\n",
    "                mlflow.log_metric(f\"fold{fold+1}_val_loss\", avg_val_loss, step=epoch)\n",
    "                mlflow.log_metric(f\"fold{fold+1}_val_acc\", val_acc, step=epoch)\n",
    "                mlflow.log_metric(f\"fold{fold+1}_val_acc\", train_acc, step=epoch)\n",
    "\n",
    "                scheduler.step(avg_val_loss)\n",
    "                trial.report(val_acc, epoch)\n",
    "\n",
    "                print(f\"Epoch {epoch+1:03d} | Fold {fold+1} | Train Acc: {train_acc:.4f} | Val Acc: {val_acc:.4f} | Train loss: {avg_train_loss:.4f} Val Loss: {avg_val_loss:.4f}\")\n",
    "\n",
    "                if avg_val_loss < best_val_loss - min_delta:\n",
    "                    best_val_loss = avg_val_loss\n",
    "                    best_val_acc = val_acc\n",
    "                    wait = 0\n",
    "                else:\n",
    "                    wait += 1\n",
    "                    if wait >= patience:\n",
    "                        print(f\" Early stopping at epoch {epoch+1} for fold {fold+1}\")\n",
    "                        break\n",
    "\n",
    "                if trial.should_prune():\n",
    "                    raise optuna.exceptions.TrialPruned()\n",
    "\n",
    "            print(f\" Fold {fold+1}: Best Val Acc = {best_val_acc:.4f}\")\n",
    "            fold_val_acc.append(float(best_val_acc))\n",
    "\n",
    "        mean_val_acc = float(np.mean(fold_val_acc))\n",
    "        mlflow.log_metric(\"mean_val_acc\", mean_val_acc)\n",
    "\n",
    "        return mean_val_acc\n"
   ]
  },
  {
   "cell_type": "code",
   "execution_count": 10,
   "id": "822a368f",
   "metadata": {},
   "outputs": [
    {
     "name": "stderr",
     "output_type": "stream",
     "text": [
      "2025/07/15 00:08:40 INFO mlflow.tracking.fluent: Experiment with name 'GATv2_Optuna_Experiment' does not exist. Creating a new experiment.\n",
      "[I 2025-07-15 00:08:40,326] A new study created in memory with name: no-name-d7f9bc4c-8f1c-4e3f-b2d0-d43f3f87b3a4\n"
     ]
    },
    {
     "name": "stdout",
     "output_type": "stream",
     "text": [
      "Epoch 001 | Fold 1 | Train Acc: 0.1868 | Val Acc: 0.4528 | Train loss: 1.3807 Val Loss: 1.3555\n",
      "Epoch 002 | Fold 1 | Train Acc: 0.2979 | Val Acc: 0.4686 | Train loss: 1.3652 Val Loss: 1.3473\n",
      "Epoch 003 | Fold 1 | Train Acc: 0.4733 | Val Acc: 0.5157 | Train loss: 1.3488 Val Loss: 1.3248\n",
      "Epoch 004 | Fold 1 | Train Acc: 0.5548 | Val Acc: 0.5535 | Train loss: 1.3283 Val Loss: 1.2932\n",
      "Epoch 005 | Fold 1 | Train Acc: 0.5089 | Val Acc: 0.5440 | Train loss: 1.3017 Val Loss: 1.2371\n",
      "Epoch 006 | Fold 1 | Train Acc: 0.4076 | Val Acc: 0.6541 | Train loss: 1.2631 Val Loss: 1.1631\n",
      "Epoch 007 | Fold 1 | Train Acc: 0.4960 | Val Acc: 0.6792 | Train loss: 1.1974 Val Loss: 1.0602\n",
      "Epoch 008 | Fold 1 | Train Acc: 0.5504 | Val Acc: 0.6792 | Train loss: 1.0936 Val Loss: 0.8141\n",
      "Epoch 009 | Fold 1 | Train Acc: 0.5227 | Val Acc: 0.7138 | Train loss: 0.9169 Val Loss: 0.5829\n",
      "Epoch 010 | Fold 1 | Train Acc: 0.4960 | Val Acc: 0.7421 | Train loss: 0.7799 Val Loss: 0.4817\n",
      "Epoch 011 | Fold 1 | Train Acc: 0.5845 | Val Acc: 0.7767 | Train loss: 0.6921 Val Loss: 0.4709\n",
      "Epoch 012 | Fold 1 | Train Acc: 0.5776 | Val Acc: 0.7673 | Train loss: 0.6265 Val Loss: 0.4427\n",
      "Epoch 013 | Fold 1 | Train Acc: 0.5642 | Val Acc: 0.7642 | Train loss: 0.6075 Val Loss: 0.4560\n",
      "Epoch 014 | Fold 1 | Train Acc: 0.5662 | Val Acc: 0.7704 | Train loss: 0.5942 Val Loss: 0.4394\n",
      "Epoch 015 | Fold 1 | Train Acc: 0.6191 | Val Acc: 0.7767 | Train loss: 0.5721 Val Loss: 0.4427\n",
      "Epoch 016 | Fold 1 | Train Acc: 0.5909 | Val Acc: 0.7579 | Train loss: 0.5640 Val Loss: 0.4482\n",
      "Epoch 017 | Fold 1 | Train Acc: 0.6146 | Val Acc: 0.7673 | Train loss: 0.5605 Val Loss: 0.4455\n",
      "Epoch 018 | Fold 1 | Train Acc: 0.6467 | Val Acc: 0.7704 | Train loss: 0.5484 Val Loss: 0.4233\n",
      "Epoch 019 | Fold 1 | Train Acc: 0.5657 | Val Acc: 0.7547 | Train loss: 0.5658 Val Loss: 0.4431\n",
      "Epoch 020 | Fold 1 | Train Acc: 0.6630 | Val Acc: 0.7704 | Train loss: 0.5414 Val Loss: 0.4465\n",
      "Epoch 021 | Fold 1 | Train Acc: 0.5889 | Val Acc: 0.7704 | Train loss: 0.5330 Val Loss: 0.4299\n",
      "Epoch 022 | Fold 1 | Train Acc: 0.6413 | Val Acc: 0.7704 | Train loss: 0.5325 Val Loss: 0.4438\n",
      "Epoch 023 | Fold 1 | Train Acc: 0.6364 | Val Acc: 0.7767 | Train loss: 0.5198 Val Loss: 0.4256\n",
      "Epoch 024 | Fold 1 | Train Acc: 0.6171 | Val Acc: 0.7862 | Train loss: 0.5182 Val Loss: 0.4439\n",
      "Epoch 025 | Fold 1 | Train Acc: 0.6571 | Val Acc: 0.7704 | Train loss: 0.5099 Val Loss: 0.4355\n",
      "Epoch 026 | Fold 1 | Train Acc: 0.6260 | Val Acc: 0.7704 | Train loss: 0.5123 Val Loss: 0.4459\n",
      "Epoch 027 | Fold 1 | Train Acc: 0.6319 | Val Acc: 0.7893 | Train loss: 0.5090 Val Loss: 0.4426\n",
      "Epoch 028 | Fold 1 | Train Acc: 0.6808 | Val Acc: 0.7830 | Train loss: 0.5021 Val Loss: 0.4567\n",
      "Epoch 029 | Fold 1 | Train Acc: 0.6621 | Val Acc: 0.7862 | Train loss: 0.4906 Val Loss: 0.4364\n",
      "Epoch 030 | Fold 1 | Train Acc: 0.6542 | Val Acc: 0.7830 | Train loss: 0.4905 Val Loss: 0.4371\n",
      "Epoch 031 | Fold 1 | Train Acc: 0.6645 | Val Acc: 0.7830 | Train loss: 0.4938 Val Loss: 0.4404\n",
      "Epoch 032 | Fold 1 | Train Acc: 0.6542 | Val Acc: 0.7830 | Train loss: 0.4883 Val Loss: 0.4378\n",
      "Epoch 033 | Fold 1 | Train Acc: 0.6645 | Val Acc: 0.7830 | Train loss: 0.4885 Val Loss: 0.4444\n",
      "Epoch 034 | Fold 1 | Train Acc: 0.6759 | Val Acc: 0.7862 | Train loss: 0.4826 Val Loss: 0.4364\n",
      "Epoch 035 | Fold 1 | Train Acc: 0.6680 | Val Acc: 0.7830 | Train loss: 0.4896 Val Loss: 0.4501\n",
      "Epoch 036 | Fold 1 | Train Acc: 0.6670 | Val Acc: 0.7830 | Train loss: 0.4813 Val Loss: 0.4462\n",
      "Epoch 037 | Fold 1 | Train Acc: 0.6655 | Val Acc: 0.7830 | Train loss: 0.4867 Val Loss: 0.4412\n",
      "Epoch 038 | Fold 1 | Train Acc: 0.6665 | Val Acc: 0.7830 | Train loss: 0.4991 Val Loss: 0.4489\n",
      "Epoch 039 | Fold 1 | Train Acc: 0.6764 | Val Acc: 0.7799 | Train loss: 0.4913 Val Loss: 0.4448\n",
      "Epoch 040 | Fold 1 | Train Acc: 0.6640 | Val Acc: 0.7799 | Train loss: 0.4868 Val Loss: 0.4373\n",
      "Epoch 041 | Fold 1 | Train Acc: 0.6665 | Val Acc: 0.7799 | Train loss: 0.4766 Val Loss: 0.4380\n",
      "Epoch 042 | Fold 1 | Train Acc: 0.6779 | Val Acc: 0.7830 | Train loss: 0.4757 Val Loss: 0.4483\n",
      "Epoch 043 | Fold 1 | Train Acc: 0.6803 | Val Acc: 0.7830 | Train loss: 0.4801 Val Loss: 0.4443\n",
      "Epoch 044 | Fold 1 | Train Acc: 0.6793 | Val Acc: 0.7830 | Train loss: 0.4742 Val Loss: 0.4463\n",
      "Epoch 045 | Fold 1 | Train Acc: 0.6843 | Val Acc: 0.7830 | Train loss: 0.4722 Val Loss: 0.4471\n",
      "Epoch 046 | Fold 1 | Train Acc: 0.6843 | Val Acc: 0.7830 | Train loss: 0.4789 Val Loss: 0.4427\n",
      "Epoch 047 | Fold 1 | Train Acc: 0.6705 | Val Acc: 0.7830 | Train loss: 0.4849 Val Loss: 0.4425\n",
      "Epoch 048 | Fold 1 | Train Acc: 0.6813 | Val Acc: 0.7799 | Train loss: 0.4746 Val Loss: 0.4407\n",
      " Early stopping at epoch 48 for fold 1\n",
      " Fold 1: Best Val Acc = 0.7704\n"
     ]
    },
    {
     "name": "stderr",
     "output_type": "stream",
     "text": [
      "c:\\Users\\User\\anaconda3\\envs\\ENVGAT\\lib\\site-packages\\optuna\\trial\\_trial.py:501: UserWarning: The reported value is ignored because this `step` 0 is already reported.\n",
      "  warnings.warn(\n"
     ]
    },
    {
     "name": "stdout",
     "output_type": "stream",
     "text": [
      "Epoch 001 | Fold 2 | Train Acc: 0.2032 | Val Acc: 0.2212 | Train loss: 1.3861 Val Loss: 1.3747\n"
     ]
    },
    {
     "name": "stderr",
     "output_type": "stream",
     "text": [
      "c:\\Users\\User\\anaconda3\\envs\\ENVGAT\\lib\\site-packages\\optuna\\trial\\_trial.py:501: UserWarning: The reported value is ignored because this `step` 1 is already reported.\n",
      "  warnings.warn(\n"
     ]
    },
    {
     "name": "stdout",
     "output_type": "stream",
     "text": [
      "Epoch 002 | Fold 2 | Train Acc: 0.2460 | Val Acc: 0.3717 | Train loss: 1.3688 Val Loss: 1.3598\n"
     ]
    },
    {
     "name": "stderr",
     "output_type": "stream",
     "text": [
      "c:\\Users\\User\\anaconda3\\envs\\ENVGAT\\lib\\site-packages\\optuna\\trial\\_trial.py:501: UserWarning: The reported value is ignored because this `step` 2 is already reported.\n",
      "  warnings.warn(\n"
     ]
    },
    {
     "name": "stdout",
     "output_type": "stream",
     "text": [
      "Epoch 003 | Fold 2 | Train Acc: 0.2688 | Val Acc: 0.3097 | Train loss: 1.3541 Val Loss: 1.3384\n"
     ]
    },
    {
     "name": "stderr",
     "output_type": "stream",
     "text": [
      "c:\\Users\\User\\anaconda3\\envs\\ENVGAT\\lib\\site-packages\\optuna\\trial\\_trial.py:501: UserWarning: The reported value is ignored because this `step` 3 is already reported.\n",
      "  warnings.warn(\n"
     ]
    },
    {
     "name": "stdout",
     "output_type": "stream",
     "text": [
      "Epoch 004 | Fold 2 | Train Acc: 0.3614 | Val Acc: 0.5619 | Train loss: 1.3313 Val Loss: 1.3166\n"
     ]
    },
    {
     "name": "stderr",
     "output_type": "stream",
     "text": [
      "c:\\Users\\User\\anaconda3\\envs\\ENVGAT\\lib\\site-packages\\optuna\\trial\\_trial.py:501: UserWarning: The reported value is ignored because this `step` 4 is already reported.\n",
      "  warnings.warn(\n"
     ]
    },
    {
     "name": "stdout",
     "output_type": "stream",
     "text": [
      "Epoch 005 | Fold 2 | Train Acc: 0.4815 | Val Acc: 0.4956 | Train loss: 1.3004 Val Loss: 1.2778\n"
     ]
    },
    {
     "name": "stderr",
     "output_type": "stream",
     "text": [
      "c:\\Users\\User\\anaconda3\\envs\\ENVGAT\\lib\\site-packages\\optuna\\trial\\_trial.py:501: UserWarning: The reported value is ignored because this `step` 5 is already reported.\n",
      "  warnings.warn(\n"
     ]
    },
    {
     "name": "stdout",
     "output_type": "stream",
     "text": [
      "Epoch 006 | Fold 2 | Train Acc: 0.4815 | Val Acc: 0.5973 | Train loss: 1.2584 Val Loss: 1.2246\n"
     ]
    },
    {
     "name": "stderr",
     "output_type": "stream",
     "text": [
      "c:\\Users\\User\\anaconda3\\envs\\ENVGAT\\lib\\site-packages\\optuna\\trial\\_trial.py:501: UserWarning: The reported value is ignored because this `step` 6 is already reported.\n",
      "  warnings.warn(\n"
     ]
    },
    {
     "name": "stdout",
     "output_type": "stream",
     "text": [
      "Epoch 007 | Fold 2 | Train Acc: 0.4794 | Val Acc: 0.5354 | Train loss: 1.1893 Val Loss: 1.1232\n"
     ]
    },
    {
     "name": "stderr",
     "output_type": "stream",
     "text": [
      "c:\\Users\\User\\anaconda3\\envs\\ENVGAT\\lib\\site-packages\\optuna\\trial\\_trial.py:501: UserWarning: The reported value is ignored because this `step` 7 is already reported.\n",
      "  warnings.warn(\n"
     ]
    },
    {
     "name": "stdout",
     "output_type": "stream",
     "text": [
      "Epoch 008 | Fold 2 | Train Acc: 0.5741 | Val Acc: 0.5708 | Train loss: 1.0560 Val Loss: 0.9533\n"
     ]
    },
    {
     "name": "stderr",
     "output_type": "stream",
     "text": [
      "c:\\Users\\User\\anaconda3\\envs\\ENVGAT\\lib\\site-packages\\optuna\\trial\\_trial.py:501: UserWarning: The reported value is ignored because this `step` 8 is already reported.\n",
      "  warnings.warn(\n"
     ]
    },
    {
     "name": "stdout",
     "output_type": "stream",
     "text": [
      "Epoch 009 | Fold 2 | Train Acc: 0.5407 | Val Acc: 0.4956 | Train loss: 0.9062 Val Loss: 0.7971\n"
     ]
    },
    {
     "name": "stderr",
     "output_type": "stream",
     "text": [
      "c:\\Users\\User\\anaconda3\\envs\\ENVGAT\\lib\\site-packages\\optuna\\trial\\_trial.py:501: UserWarning: The reported value is ignored because this `step` 9 is already reported.\n",
      "  warnings.warn(\n"
     ]
    },
    {
     "name": "stdout",
     "output_type": "stream",
     "text": [
      "Epoch 010 | Fold 2 | Train Acc: 0.6148 | Val Acc: 0.5951 | Train loss: 0.7832 Val Loss: 0.7081\n"
     ]
    },
    {
     "name": "stderr",
     "output_type": "stream",
     "text": [
      "c:\\Users\\User\\anaconda3\\envs\\ENVGAT\\lib\\site-packages\\optuna\\trial\\_trial.py:501: UserWarning: The reported value is ignored because this `step` 10 is already reported.\n",
      "  warnings.warn(\n"
     ]
    },
    {
     "name": "stdout",
     "output_type": "stream",
     "text": [
      "Epoch 011 | Fold 2 | Train Acc: 0.6000 | Val Acc: 0.6239 | Train loss: 0.7391 Val Loss: 0.6438\n"
     ]
    },
    {
     "name": "stderr",
     "output_type": "stream",
     "text": [
      "c:\\Users\\User\\anaconda3\\envs\\ENVGAT\\lib\\site-packages\\optuna\\trial\\_trial.py:501: UserWarning: The reported value is ignored because this `step` 11 is already reported.\n",
      "  warnings.warn(\n"
     ]
    },
    {
     "name": "stdout",
     "output_type": "stream",
     "text": [
      "Epoch 012 | Fold 2 | Train Acc: 0.5984 | Val Acc: 0.5819 | Train loss: 0.6805 Val Loss: 0.5932\n"
     ]
    },
    {
     "name": "stderr",
     "output_type": "stream",
     "text": [
      "c:\\Users\\User\\anaconda3\\envs\\ENVGAT\\lib\\site-packages\\optuna\\trial\\_trial.py:501: UserWarning: The reported value is ignored because this `step` 12 is already reported.\n",
      "  warnings.warn(\n"
     ]
    },
    {
     "name": "stdout",
     "output_type": "stream",
     "text": [
      "Epoch 013 | Fold 2 | Train Acc: 0.6365 | Val Acc: 0.5885 | Train loss: 0.6537 Val Loss: 0.5638\n"
     ]
    },
    {
     "name": "stderr",
     "output_type": "stream",
     "text": [
      "c:\\Users\\User\\anaconda3\\envs\\ENVGAT\\lib\\site-packages\\optuna\\trial\\_trial.py:501: UserWarning: The reported value is ignored because this `step` 13 is already reported.\n",
      "  warnings.warn(\n"
     ]
    },
    {
     "name": "stdout",
     "output_type": "stream",
     "text": [
      "Epoch 014 | Fold 2 | Train Acc: 0.6434 | Val Acc: 0.6482 | Train loss: 0.6305 Val Loss: 0.5419\n"
     ]
    },
    {
     "name": "stderr",
     "output_type": "stream",
     "text": [
      "c:\\Users\\User\\anaconda3\\envs\\ENVGAT\\lib\\site-packages\\optuna\\trial\\_trial.py:501: UserWarning: The reported value is ignored because this `step` 14 is already reported.\n",
      "  warnings.warn(\n"
     ]
    },
    {
     "name": "stdout",
     "output_type": "stream",
     "text": [
      "Epoch 015 | Fold 2 | Train Acc: 0.6651 | Val Acc: 0.6018 | Train loss: 0.6074 Val Loss: 0.5165\n"
     ]
    },
    {
     "name": "stderr",
     "output_type": "stream",
     "text": [
      "c:\\Users\\User\\anaconda3\\envs\\ENVGAT\\lib\\site-packages\\optuna\\trial\\_trial.py:501: UserWarning: The reported value is ignored because this `step` 15 is already reported.\n",
      "  warnings.warn(\n"
     ]
    },
    {
     "name": "stdout",
     "output_type": "stream",
     "text": [
      "Epoch 016 | Fold 2 | Train Acc: 0.6074 | Val Acc: 0.5973 | Train loss: 0.6099 Val Loss: 0.4990\n"
     ]
    },
    {
     "name": "stderr",
     "output_type": "stream",
     "text": [
      "c:\\Users\\User\\anaconda3\\envs\\ENVGAT\\lib\\site-packages\\optuna\\trial\\_trial.py:501: UserWarning: The reported value is ignored because this `step` 16 is already reported.\n",
      "  warnings.warn(\n"
     ]
    },
    {
     "name": "stdout",
     "output_type": "stream",
     "text": [
      "Epoch 017 | Fold 2 | Train Acc: 0.6593 | Val Acc: 0.6571 | Train loss: 0.5786 Val Loss: 0.4993\n"
     ]
    },
    {
     "name": "stderr",
     "output_type": "stream",
     "text": [
      "c:\\Users\\User\\anaconda3\\envs\\ENVGAT\\lib\\site-packages\\optuna\\trial\\_trial.py:501: UserWarning: The reported value is ignored because this `step` 17 is already reported.\n",
      "  warnings.warn(\n"
     ]
    },
    {
     "name": "stdout",
     "output_type": "stream",
     "text": [
      "Epoch 018 | Fold 2 | Train Acc: 0.6582 | Val Acc: 0.6239 | Train loss: 0.5769 Val Loss: 0.4866\n"
     ]
    },
    {
     "name": "stderr",
     "output_type": "stream",
     "text": [
      "c:\\Users\\User\\anaconda3\\envs\\ENVGAT\\lib\\site-packages\\optuna\\trial\\_trial.py:501: UserWarning: The reported value is ignored because this `step` 18 is already reported.\n",
      "  warnings.warn(\n"
     ]
    },
    {
     "name": "stdout",
     "output_type": "stream",
     "text": [
      "Epoch 019 | Fold 2 | Train Acc: 0.6381 | Val Acc: 0.6549 | Train loss: 0.5749 Val Loss: 0.4779\n"
     ]
    },
    {
     "name": "stderr",
     "output_type": "stream",
     "text": [
      "c:\\Users\\User\\anaconda3\\envs\\ENVGAT\\lib\\site-packages\\optuna\\trial\\_trial.py:501: UserWarning: The reported value is ignored because this `step` 19 is already reported.\n",
      "  warnings.warn(\n"
     ]
    },
    {
     "name": "stdout",
     "output_type": "stream",
     "text": [
      "Epoch 020 | Fold 2 | Train Acc: 0.6614 | Val Acc: 0.6460 | Train loss: 0.5616 Val Loss: 0.4693\n"
     ]
    },
    {
     "name": "stderr",
     "output_type": "stream",
     "text": [
      "c:\\Users\\User\\anaconda3\\envs\\ENVGAT\\lib\\site-packages\\optuna\\trial\\_trial.py:501: UserWarning: The reported value is ignored because this `step` 20 is already reported.\n",
      "  warnings.warn(\n"
     ]
    },
    {
     "name": "stdout",
     "output_type": "stream",
     "text": [
      "Epoch 021 | Fold 2 | Train Acc: 0.6698 | Val Acc: 0.6394 | Train loss: 0.5631 Val Loss: 0.4616\n"
     ]
    },
    {
     "name": "stderr",
     "output_type": "stream",
     "text": [
      "c:\\Users\\User\\anaconda3\\envs\\ENVGAT\\lib\\site-packages\\optuna\\trial\\_trial.py:501: UserWarning: The reported value is ignored because this `step` 21 is already reported.\n",
      "  warnings.warn(\n"
     ]
    },
    {
     "name": "stdout",
     "output_type": "stream",
     "text": [
      "Epoch 022 | Fold 2 | Train Acc: 0.6646 | Val Acc: 0.6084 | Train loss: 0.5498 Val Loss: 0.4566\n"
     ]
    },
    {
     "name": "stderr",
     "output_type": "stream",
     "text": [
      "c:\\Users\\User\\anaconda3\\envs\\ENVGAT\\lib\\site-packages\\optuna\\trial\\_trial.py:501: UserWarning: The reported value is ignored because this `step` 22 is already reported.\n",
      "  warnings.warn(\n"
     ]
    },
    {
     "name": "stdout",
     "output_type": "stream",
     "text": [
      "Epoch 023 | Fold 2 | Train Acc: 0.6381 | Val Acc: 0.6438 | Train loss: 0.5548 Val Loss: 0.4579\n"
     ]
    },
    {
     "name": "stderr",
     "output_type": "stream",
     "text": [
      "c:\\Users\\User\\anaconda3\\envs\\ENVGAT\\lib\\site-packages\\optuna\\trial\\_trial.py:501: UserWarning: The reported value is ignored because this `step` 23 is already reported.\n",
      "  warnings.warn(\n"
     ]
    },
    {
     "name": "stdout",
     "output_type": "stream",
     "text": [
      "Epoch 024 | Fold 2 | Train Acc: 0.6757 | Val Acc: 0.6593 | Train loss: 0.5528 Val Loss: 0.4601\n"
     ]
    },
    {
     "name": "stderr",
     "output_type": "stream",
     "text": [
      "c:\\Users\\User\\anaconda3\\envs\\ENVGAT\\lib\\site-packages\\optuna\\trial\\_trial.py:501: UserWarning: The reported value is ignored because this `step` 24 is already reported.\n",
      "  warnings.warn(\n"
     ]
    },
    {
     "name": "stdout",
     "output_type": "stream",
     "text": [
      "Epoch 025 | Fold 2 | Train Acc: 0.6481 | Val Acc: 0.6062 | Train loss: 0.5503 Val Loss: 0.4465\n"
     ]
    },
    {
     "name": "stderr",
     "output_type": "stream",
     "text": [
      "c:\\Users\\User\\anaconda3\\envs\\ENVGAT\\lib\\site-packages\\optuna\\trial\\_trial.py:501: UserWarning: The reported value is ignored because this `step` 25 is already reported.\n",
      "  warnings.warn(\n"
     ]
    },
    {
     "name": "stdout",
     "output_type": "stream",
     "text": [
      "Epoch 026 | Fold 2 | Train Acc: 0.6757 | Val Acc: 0.6925 | Train loss: 0.5414 Val Loss: 0.4530\n"
     ]
    },
    {
     "name": "stderr",
     "output_type": "stream",
     "text": [
      "c:\\Users\\User\\anaconda3\\envs\\ENVGAT\\lib\\site-packages\\optuna\\trial\\_trial.py:501: UserWarning: The reported value is ignored because this `step` 26 is already reported.\n",
      "  warnings.warn(\n"
     ]
    },
    {
     "name": "stdout",
     "output_type": "stream",
     "text": [
      "Epoch 027 | Fold 2 | Train Acc: 0.6862 | Val Acc: 0.6438 | Train loss: 0.5326 Val Loss: 0.4389\n"
     ]
    },
    {
     "name": "stderr",
     "output_type": "stream",
     "text": [
      "c:\\Users\\User\\anaconda3\\envs\\ENVGAT\\lib\\site-packages\\optuna\\trial\\_trial.py:501: UserWarning: The reported value is ignored because this `step` 27 is already reported.\n",
      "  warnings.warn(\n"
     ]
    },
    {
     "name": "stdout",
     "output_type": "stream",
     "text": [
      "Epoch 028 | Fold 2 | Train Acc: 0.6587 | Val Acc: 0.6438 | Train loss: 0.5379 Val Loss: 0.4372\n"
     ]
    },
    {
     "name": "stderr",
     "output_type": "stream",
     "text": [
      "c:\\Users\\User\\anaconda3\\envs\\ENVGAT\\lib\\site-packages\\optuna\\trial\\_trial.py:501: UserWarning: The reported value is ignored because this `step` 28 is already reported.\n",
      "  warnings.warn(\n"
     ]
    },
    {
     "name": "stdout",
     "output_type": "stream",
     "text": [
      "Epoch 029 | Fold 2 | Train Acc: 0.6746 | Val Acc: 0.7035 | Train loss: 0.5416 Val Loss: 0.4451\n"
     ]
    },
    {
     "name": "stderr",
     "output_type": "stream",
     "text": [
      "c:\\Users\\User\\anaconda3\\envs\\ENVGAT\\lib\\site-packages\\optuna\\trial\\_trial.py:501: UserWarning: The reported value is ignored because this `step` 29 is already reported.\n",
      "  warnings.warn(\n"
     ]
    },
    {
     "name": "stdout",
     "output_type": "stream",
     "text": [
      "Epoch 030 | Fold 2 | Train Acc: 0.6603 | Val Acc: 0.6549 | Train loss: 0.5511 Val Loss: 0.4361\n"
     ]
    },
    {
     "name": "stderr",
     "output_type": "stream",
     "text": [
      "c:\\Users\\User\\anaconda3\\envs\\ENVGAT\\lib\\site-packages\\optuna\\trial\\_trial.py:501: UserWarning: The reported value is ignored because this `step` 30 is already reported.\n",
      "  warnings.warn(\n"
     ]
    },
    {
     "name": "stdout",
     "output_type": "stream",
     "text": [
      "Epoch 031 | Fold 2 | Train Acc: 0.6847 | Val Acc: 0.7102 | Train loss: 0.5258 Val Loss: 0.4418\n"
     ]
    },
    {
     "name": "stderr",
     "output_type": "stream",
     "text": [
      "c:\\Users\\User\\anaconda3\\envs\\ENVGAT\\lib\\site-packages\\optuna\\trial\\_trial.py:501: UserWarning: The reported value is ignored because this `step` 31 is already reported.\n",
      "  warnings.warn(\n"
     ]
    },
    {
     "name": "stdout",
     "output_type": "stream",
     "text": [
      "Epoch 032 | Fold 2 | Train Acc: 0.6730 | Val Acc: 0.6438 | Train loss: 0.5315 Val Loss: 0.4298\n"
     ]
    },
    {
     "name": "stderr",
     "output_type": "stream",
     "text": [
      "c:\\Users\\User\\anaconda3\\envs\\ENVGAT\\lib\\site-packages\\optuna\\trial\\_trial.py:501: UserWarning: The reported value is ignored because this `step` 32 is already reported.\n",
      "  warnings.warn(\n"
     ]
    },
    {
     "name": "stdout",
     "output_type": "stream",
     "text": [
      "Epoch 033 | Fold 2 | Train Acc: 0.6841 | Val Acc: 0.7102 | Train loss: 0.5139 Val Loss: 0.4349\n"
     ]
    },
    {
     "name": "stderr",
     "output_type": "stream",
     "text": [
      "c:\\Users\\User\\anaconda3\\envs\\ENVGAT\\lib\\site-packages\\optuna\\trial\\_trial.py:501: UserWarning: The reported value is ignored because this `step` 33 is already reported.\n",
      "  warnings.warn(\n"
     ]
    },
    {
     "name": "stdout",
     "output_type": "stream",
     "text": [
      "Epoch 034 | Fold 2 | Train Acc: 0.7005 | Val Acc: 0.6814 | Train loss: 0.5281 Val Loss: 0.4244\n"
     ]
    },
    {
     "name": "stderr",
     "output_type": "stream",
     "text": [
      "c:\\Users\\User\\anaconda3\\envs\\ENVGAT\\lib\\site-packages\\optuna\\trial\\_trial.py:501: UserWarning: The reported value is ignored because this `step` 34 is already reported.\n",
      "  warnings.warn(\n"
     ]
    },
    {
     "name": "stdout",
     "output_type": "stream",
     "text": [
      "Epoch 035 | Fold 2 | Train Acc: 0.6614 | Val Acc: 0.6593 | Train loss: 0.5287 Val Loss: 0.4246\n"
     ]
    },
    {
     "name": "stderr",
     "output_type": "stream",
     "text": [
      "c:\\Users\\User\\anaconda3\\envs\\ENVGAT\\lib\\site-packages\\optuna\\trial\\_trial.py:501: UserWarning: The reported value is ignored because this `step` 35 is already reported.\n",
      "  warnings.warn(\n"
     ]
    },
    {
     "name": "stdout",
     "output_type": "stream",
     "text": [
      "Epoch 036 | Fold 2 | Train Acc: 0.7058 | Val Acc: 0.7168 | Train loss: 0.5256 Val Loss: 0.4288\n"
     ]
    },
    {
     "name": "stderr",
     "output_type": "stream",
     "text": [
      "c:\\Users\\User\\anaconda3\\envs\\ENVGAT\\lib\\site-packages\\optuna\\trial\\_trial.py:501: UserWarning: The reported value is ignored because this `step` 36 is already reported.\n",
      "  warnings.warn(\n"
     ]
    },
    {
     "name": "stdout",
     "output_type": "stream",
     "text": [
      "Epoch 037 | Fold 2 | Train Acc: 0.7048 | Val Acc: 0.7080 | Train loss: 0.5202 Val Loss: 0.4232\n"
     ]
    },
    {
     "name": "stderr",
     "output_type": "stream",
     "text": [
      "c:\\Users\\User\\anaconda3\\envs\\ENVGAT\\lib\\site-packages\\optuna\\trial\\_trial.py:501: UserWarning: The reported value is ignored because this `step` 37 is already reported.\n",
      "  warnings.warn(\n"
     ]
    },
    {
     "name": "stdout",
     "output_type": "stream",
     "text": [
      "Epoch 038 | Fold 2 | Train Acc: 0.6540 | Val Acc: 0.6637 | Train loss: 0.5335 Val Loss: 0.4227\n"
     ]
    },
    {
     "name": "stderr",
     "output_type": "stream",
     "text": [
      "c:\\Users\\User\\anaconda3\\envs\\ENVGAT\\lib\\site-packages\\optuna\\trial\\_trial.py:501: UserWarning: The reported value is ignored because this `step` 38 is already reported.\n",
      "  warnings.warn(\n"
     ]
    },
    {
     "name": "stdout",
     "output_type": "stream",
     "text": [
      "Epoch 039 | Fold 2 | Train Acc: 0.6788 | Val Acc: 0.7235 | Train loss: 0.5219 Val Loss: 0.4323\n"
     ]
    },
    {
     "name": "stderr",
     "output_type": "stream",
     "text": [
      "c:\\Users\\User\\anaconda3\\envs\\ENVGAT\\lib\\site-packages\\optuna\\trial\\_trial.py:501: UserWarning: The reported value is ignored because this `step` 39 is already reported.\n",
      "  warnings.warn(\n"
     ]
    },
    {
     "name": "stdout",
     "output_type": "stream",
     "text": [
      "Epoch 040 | Fold 2 | Train Acc: 0.7212 | Val Acc: 0.6925 | Train loss: 0.5309 Val Loss: 0.4155\n"
     ]
    },
    {
     "name": "stderr",
     "output_type": "stream",
     "text": [
      "c:\\Users\\User\\anaconda3\\envs\\ENVGAT\\lib\\site-packages\\optuna\\trial\\_trial.py:501: UserWarning: The reported value is ignored because this `step` 40 is already reported.\n",
      "  warnings.warn(\n"
     ]
    },
    {
     "name": "stdout",
     "output_type": "stream",
     "text": [
      "Epoch 041 | Fold 2 | Train Acc: 0.6884 | Val Acc: 0.6770 | Train loss: 0.5132 Val Loss: 0.4166\n"
     ]
    },
    {
     "name": "stderr",
     "output_type": "stream",
     "text": [
      "c:\\Users\\User\\anaconda3\\envs\\ENVGAT\\lib\\site-packages\\optuna\\trial\\_trial.py:501: UserWarning: The reported value is ignored because this `step` 41 is already reported.\n",
      "  warnings.warn(\n"
     ]
    },
    {
     "name": "stdout",
     "output_type": "stream",
     "text": [
      "Epoch 042 | Fold 2 | Train Acc: 0.6968 | Val Acc: 0.7146 | Train loss: 0.5180 Val Loss: 0.4170\n"
     ]
    },
    {
     "name": "stderr",
     "output_type": "stream",
     "text": [
      "c:\\Users\\User\\anaconda3\\envs\\ENVGAT\\lib\\site-packages\\optuna\\trial\\_trial.py:501: UserWarning: The reported value is ignored because this `step` 42 is already reported.\n",
      "  warnings.warn(\n"
     ]
    },
    {
     "name": "stdout",
     "output_type": "stream",
     "text": [
      "Epoch 043 | Fold 2 | Train Acc: 0.7011 | Val Acc: 0.7102 | Train loss: 0.5123 Val Loss: 0.4142\n"
     ]
    },
    {
     "name": "stderr",
     "output_type": "stream",
     "text": [
      "c:\\Users\\User\\anaconda3\\envs\\ENVGAT\\lib\\site-packages\\optuna\\trial\\_trial.py:501: UserWarning: The reported value is ignored because this `step` 43 is already reported.\n",
      "  warnings.warn(\n"
     ]
    },
    {
     "name": "stdout",
     "output_type": "stream",
     "text": [
      "Epoch 044 | Fold 2 | Train Acc: 0.6735 | Val Acc: 0.6947 | Train loss: 0.5192 Val Loss: 0.4129\n"
     ]
    },
    {
     "name": "stderr",
     "output_type": "stream",
     "text": [
      "c:\\Users\\User\\anaconda3\\envs\\ENVGAT\\lib\\site-packages\\optuna\\trial\\_trial.py:501: UserWarning: The reported value is ignored because this `step` 44 is already reported.\n",
      "  warnings.warn(\n"
     ]
    },
    {
     "name": "stdout",
     "output_type": "stream",
     "text": [
      "Epoch 045 | Fold 2 | Train Acc: 0.6937 | Val Acc: 0.7235 | Train loss: 0.5047 Val Loss: 0.4230\n"
     ]
    },
    {
     "name": "stderr",
     "output_type": "stream",
     "text": [
      "c:\\Users\\User\\anaconda3\\envs\\ENVGAT\\lib\\site-packages\\optuna\\trial\\_trial.py:501: UserWarning: The reported value is ignored because this `step` 45 is already reported.\n",
      "  warnings.warn(\n"
     ]
    },
    {
     "name": "stdout",
     "output_type": "stream",
     "text": [
      "Epoch 046 | Fold 2 | Train Acc: 0.7143 | Val Acc: 0.7035 | Train loss: 0.5054 Val Loss: 0.4110\n"
     ]
    },
    {
     "name": "stderr",
     "output_type": "stream",
     "text": [
      "c:\\Users\\User\\anaconda3\\envs\\ENVGAT\\lib\\site-packages\\optuna\\trial\\_trial.py:501: UserWarning: The reported value is ignored because this `step` 46 is already reported.\n",
      "  warnings.warn(\n"
     ]
    },
    {
     "name": "stdout",
     "output_type": "stream",
     "text": [
      "Epoch 047 | Fold 2 | Train Acc: 0.6857 | Val Acc: 0.6947 | Train loss: 0.5153 Val Loss: 0.4113\n"
     ]
    },
    {
     "name": "stderr",
     "output_type": "stream",
     "text": [
      "c:\\Users\\User\\anaconda3\\envs\\ENVGAT\\lib\\site-packages\\optuna\\trial\\_trial.py:501: UserWarning: The reported value is ignored because this `step` 47 is already reported.\n",
      "  warnings.warn(\n"
     ]
    },
    {
     "name": "stdout",
     "output_type": "stream",
     "text": [
      "Epoch 048 | Fold 2 | Train Acc: 0.6995 | Val Acc: 0.7168 | Train loss: 0.5126 Val Loss: 0.4237\n",
      "Epoch 049 | Fold 2 | Train Acc: 0.6815 | Val Acc: 0.6947 | Train loss: 0.5200 Val Loss: 0.4085\n",
      "Epoch 050 | Fold 2 | Train Acc: 0.7090 | Val Acc: 0.7168 | Train loss: 0.5060 Val Loss: 0.4192\n",
      "Epoch 051 | Fold 2 | Train Acc: 0.6820 | Val Acc: 0.7080 | Train loss: 0.5090 Val Loss: 0.4043\n",
      "Epoch 052 | Fold 2 | Train Acc: 0.6968 | Val Acc: 0.7235 | Train loss: 0.5080 Val Loss: 0.4119\n",
      "Epoch 053 | Fold 2 | Train Acc: 0.6952 | Val Acc: 0.6925 | Train loss: 0.5158 Val Loss: 0.4051\n",
      "Epoch 054 | Fold 2 | Train Acc: 0.7016 | Val Acc: 0.7168 | Train loss: 0.5080 Val Loss: 0.4080\n",
      "Epoch 055 | Fold 2 | Train Acc: 0.7042 | Val Acc: 0.7035 | Train loss: 0.4986 Val Loss: 0.4054\n",
      "Epoch 056 | Fold 2 | Train Acc: 0.6984 | Val Acc: 0.7080 | Train loss: 0.5026 Val Loss: 0.4032\n",
      "Epoch 057 | Fold 2 | Train Acc: 0.7021 | Val Acc: 0.7190 | Train loss: 0.4969 Val Loss: 0.4048\n",
      "Epoch 058 | Fold 2 | Train Acc: 0.6947 | Val Acc: 0.7190 | Train loss: 0.5020 Val Loss: 0.4048\n",
      "Epoch 059 | Fold 2 | Train Acc: 0.7148 | Val Acc: 0.7190 | Train loss: 0.4968 Val Loss: 0.4015\n",
      "Epoch 060 | Fold 2 | Train Acc: 0.6942 | Val Acc: 0.7102 | Train loss: 0.4954 Val Loss: 0.4006\n",
      "Epoch 061 | Fold 2 | Train Acc: 0.7011 | Val Acc: 0.7146 | Train loss: 0.5126 Val Loss: 0.4073\n",
      "Epoch 062 | Fold 2 | Train Acc: 0.6905 | Val Acc: 0.7080 | Train loss: 0.5027 Val Loss: 0.4006\n",
      "Epoch 063 | Fold 2 | Train Acc: 0.7048 | Val Acc: 0.7212 | Train loss: 0.4893 Val Loss: 0.4069\n",
      "Epoch 064 | Fold 2 | Train Acc: 0.7016 | Val Acc: 0.7190 | Train loss: 0.4986 Val Loss: 0.3993\n",
      "Epoch 065 | Fold 2 | Train Acc: 0.7079 | Val Acc: 0.7190 | Train loss: 0.4896 Val Loss: 0.4013\n",
      "Epoch 066 | Fold 2 | Train Acc: 0.7169 | Val Acc: 0.7212 | Train loss: 0.4892 Val Loss: 0.3943\n",
      "Epoch 067 | Fold 2 | Train Acc: 0.7005 | Val Acc: 0.7190 | Train loss: 0.4931 Val Loss: 0.3956\n",
      "Epoch 068 | Fold 2 | Train Acc: 0.6974 | Val Acc: 0.7190 | Train loss: 0.4987 Val Loss: 0.3986\n",
      "Epoch 069 | Fold 2 | Train Acc: 0.7090 | Val Acc: 0.7190 | Train loss: 0.4888 Val Loss: 0.3974\n",
      "Epoch 070 | Fold 2 | Train Acc: 0.6995 | Val Acc: 0.7124 | Train loss: 0.4918 Val Loss: 0.3959\n",
      "Epoch 071 | Fold 2 | Train Acc: 0.7000 | Val Acc: 0.7168 | Train loss: 0.4919 Val Loss: 0.3962\n",
      "Epoch 072 | Fold 2 | Train Acc: 0.7074 | Val Acc: 0.7212 | Train loss: 0.4776 Val Loss: 0.3978\n",
      "Epoch 073 | Fold 2 | Train Acc: 0.7116 | Val Acc: 0.7190 | Train loss: 0.4902 Val Loss: 0.3921\n",
      "Epoch 074 | Fold 2 | Train Acc: 0.7063 | Val Acc: 0.7190 | Train loss: 0.4889 Val Loss: 0.3920\n",
      "Epoch 075 | Fold 2 | Train Acc: 0.7032 | Val Acc: 0.7190 | Train loss: 0.4872 Val Loss: 0.3933\n",
      "Epoch 076 | Fold 2 | Train Acc: 0.7021 | Val Acc: 0.7190 | Train loss: 0.4884 Val Loss: 0.3956\n",
      "Epoch 077 | Fold 2 | Train Acc: 0.7026 | Val Acc: 0.7257 | Train loss: 0.4881 Val Loss: 0.3977\n",
      "Epoch 078 | Fold 2 | Train Acc: 0.7138 | Val Acc: 0.7212 | Train loss: 0.4841 Val Loss: 0.3952\n",
      "Epoch 079 | Fold 2 | Train Acc: 0.7095 | Val Acc: 0.7212 | Train loss: 0.4868 Val Loss: 0.3927\n",
      "Epoch 080 | Fold 2 | Train Acc: 0.7053 | Val Acc: 0.7190 | Train loss: 0.4893 Val Loss: 0.3905\n",
      "Epoch 081 | Fold 2 | Train Acc: 0.7143 | Val Acc: 0.7212 | Train loss: 0.4966 Val Loss: 0.3933\n",
      "Epoch 082 | Fold 2 | Train Acc: 0.7169 | Val Acc: 0.7168 | Train loss: 0.4832 Val Loss: 0.3905\n",
      "Epoch 083 | Fold 2 | Train Acc: 0.6952 | Val Acc: 0.7168 | Train loss: 0.4820 Val Loss: 0.3932\n",
      "Epoch 084 | Fold 2 | Train Acc: 0.7122 | Val Acc: 0.7035 | Train loss: 0.4874 Val Loss: 0.3962\n",
      "Epoch 085 | Fold 2 | Train Acc: 0.7005 | Val Acc: 0.7168 | Train loss: 0.4855 Val Loss: 0.3893\n",
      "Epoch 086 | Fold 2 | Train Acc: 0.7127 | Val Acc: 0.7235 | Train loss: 0.4805 Val Loss: 0.3907\n",
      "Epoch 087 | Fold 2 | Train Acc: 0.7206 | Val Acc: 0.7257 | Train loss: 0.4860 Val Loss: 0.3942\n",
      "Epoch 088 | Fold 2 | Train Acc: 0.7026 | Val Acc: 0.7035 | Train loss: 0.4893 Val Loss: 0.3895\n",
      "Epoch 089 | Fold 2 | Train Acc: 0.6979 | Val Acc: 0.7257 | Train loss: 0.4753 Val Loss: 0.3948\n",
      "Epoch 090 | Fold 2 | Train Acc: 0.7243 | Val Acc: 0.7235 | Train loss: 0.4830 Val Loss: 0.3875\n",
      "Epoch 091 | Fold 2 | Train Acc: 0.7106 | Val Acc: 0.7212 | Train loss: 0.4716 Val Loss: 0.3850\n",
      "Epoch 092 | Fold 2 | Train Acc: 0.7069 | Val Acc: 0.7212 | Train loss: 0.4820 Val Loss: 0.3874\n",
      "Epoch 093 | Fold 2 | Train Acc: 0.7085 | Val Acc: 0.7257 | Train loss: 0.4780 Val Loss: 0.3912\n",
      "Epoch 094 | Fold 2 | Train Acc: 0.7148 | Val Acc: 0.7257 | Train loss: 0.4752 Val Loss: 0.3889\n",
      "Epoch 095 | Fold 2 | Train Acc: 0.6995 | Val Acc: 0.7257 | Train loss: 0.4813 Val Loss: 0.3902\n",
      "Epoch 096 | Fold 2 | Train Acc: 0.7021 | Val Acc: 0.7212 | Train loss: 0.4815 Val Loss: 0.3875\n",
      "Epoch 097 | Fold 2 | Train Acc: 0.7111 | Val Acc: 0.7257 | Train loss: 0.4711 Val Loss: 0.3916\n",
      "Epoch 098 | Fold 2 | Train Acc: 0.7122 | Val Acc: 0.7257 | Train loss: 0.4784 Val Loss: 0.3870\n",
      "Epoch 099 | Fold 2 | Train Acc: 0.7079 | Val Acc: 0.7013 | Train loss: 0.4764 Val Loss: 0.3859\n",
      "Epoch 100 | Fold 2 | Train Acc: 0.7111 | Val Acc: 0.7235 | Train loss: 0.4855 Val Loss: 0.3922\n",
      "Epoch 101 | Fold 2 | Train Acc: 0.7164 | Val Acc: 0.7235 | Train loss: 0.4624 Val Loss: 0.3849\n",
      "Epoch 102 | Fold 2 | Train Acc: 0.7132 | Val Acc: 0.7257 | Train loss: 0.4691 Val Loss: 0.3828\n",
      "Epoch 103 | Fold 2 | Train Acc: 0.7058 | Val Acc: 0.7058 | Train loss: 0.4787 Val Loss: 0.3839\n",
      "Epoch 104 | Fold 2 | Train Acc: 0.7053 | Val Acc: 0.7080 | Train loss: 0.4662 Val Loss: 0.3887\n",
      "Epoch 105 | Fold 2 | Train Acc: 0.7116 | Val Acc: 0.7279 | Train loss: 0.4675 Val Loss: 0.3888\n",
      "Epoch 106 | Fold 2 | Train Acc: 0.7201 | Val Acc: 0.7080 | Train loss: 0.4669 Val Loss: 0.3827\n",
      "Epoch 107 | Fold 2 | Train Acc: 0.7000 | Val Acc: 0.7212 | Train loss: 0.4711 Val Loss: 0.3839\n",
      "Epoch 108 | Fold 2 | Train Acc: 0.7101 | Val Acc: 0.7102 | Train loss: 0.4721 Val Loss: 0.3904\n",
      "Epoch 109 | Fold 2 | Train Acc: 0.7175 | Val Acc: 0.7279 | Train loss: 0.4705 Val Loss: 0.3891\n",
      "Epoch 110 | Fold 2 | Train Acc: 0.7005 | Val Acc: 0.7190 | Train loss: 0.4775 Val Loss: 0.3821\n",
      "Epoch 111 | Fold 2 | Train Acc: 0.7111 | Val Acc: 0.7323 | Train loss: 0.4738 Val Loss: 0.3925\n",
      "Epoch 112 | Fold 2 | Train Acc: 0.7153 | Val Acc: 0.7058 | Train loss: 0.4713 Val Loss: 0.3821\n",
      "Epoch 113 | Fold 2 | Train Acc: 0.7063 | Val Acc: 0.7190 | Train loss: 0.4693 Val Loss: 0.3798\n",
      "Epoch 114 | Fold 2 | Train Acc: 0.7074 | Val Acc: 0.7323 | Train loss: 0.4736 Val Loss: 0.3896\n",
      "Epoch 115 | Fold 2 | Train Acc: 0.7079 | Val Acc: 0.7212 | Train loss: 0.4814 Val Loss: 0.3817\n",
      "Epoch 116 | Fold 2 | Train Acc: 0.7138 | Val Acc: 0.7212 | Train loss: 0.4737 Val Loss: 0.3785\n",
      "Epoch 117 | Fold 2 | Train Acc: 0.7026 | Val Acc: 0.7235 | Train loss: 0.4702 Val Loss: 0.3850\n",
      "Epoch 118 | Fold 2 | Train Acc: 0.7164 | Val Acc: 0.7235 | Train loss: 0.4701 Val Loss: 0.3857\n",
      "Epoch 119 | Fold 2 | Train Acc: 0.7243 | Val Acc: 0.7235 | Train loss: 0.4725 Val Loss: 0.3782\n",
      "Epoch 120 | Fold 2 | Train Acc: 0.6947 | Val Acc: 0.7058 | Train loss: 0.4817 Val Loss: 0.3833\n",
      "Epoch 121 | Fold 2 | Train Acc: 0.7201 | Val Acc: 0.7279 | Train loss: 0.4666 Val Loss: 0.3849\n",
      "Epoch 122 | Fold 2 | Train Acc: 0.7016 | Val Acc: 0.7058 | Train loss: 0.4649 Val Loss: 0.3807\n",
      "Epoch 123 | Fold 2 | Train Acc: 0.7122 | Val Acc: 0.7212 | Train loss: 0.4639 Val Loss: 0.3796\n",
      "Epoch 124 | Fold 2 | Train Acc: 0.7164 | Val Acc: 0.7323 | Train loss: 0.4688 Val Loss: 0.3910\n",
      "Epoch 125 | Fold 2 | Train Acc: 0.7317 | Val Acc: 0.7279 | Train loss: 0.4663 Val Loss: 0.3808\n",
      "Epoch 126 | Fold 2 | Train Acc: 0.7190 | Val Acc: 0.7080 | Train loss: 0.4576 Val Loss: 0.3803\n",
      "Epoch 127 | Fold 2 | Train Acc: 0.7021 | Val Acc: 0.7257 | Train loss: 0.4769 Val Loss: 0.3829\n",
      "Epoch 128 | Fold 2 | Train Acc: 0.7153 | Val Acc: 0.7279 | Train loss: 0.4699 Val Loss: 0.3796\n",
      "Epoch 129 | Fold 2 | Train Acc: 0.7032 | Val Acc: 0.7035 | Train loss: 0.4706 Val Loss: 0.3803\n",
      "Epoch 130 | Fold 2 | Train Acc: 0.7159 | Val Acc: 0.7323 | Train loss: 0.4573 Val Loss: 0.3872\n",
      "Epoch 131 | Fold 2 | Train Acc: 0.7196 | Val Acc: 0.7058 | Train loss: 0.4596 Val Loss: 0.3785\n",
      "Epoch 132 | Fold 2 | Train Acc: 0.7127 | Val Acc: 0.7235 | Train loss: 0.4526 Val Loss: 0.3779\n",
      "Epoch 133 | Fold 2 | Train Acc: 0.7175 | Val Acc: 0.7301 | Train loss: 0.4562 Val Loss: 0.3815\n",
      "Epoch 134 | Fold 2 | Train Acc: 0.7164 | Val Acc: 0.7235 | Train loss: 0.4592 Val Loss: 0.3785\n",
      "Epoch 135 | Fold 2 | Train Acc: 0.7138 | Val Acc: 0.7257 | Train loss: 0.4598 Val Loss: 0.3778\n",
      "Epoch 136 | Fold 2 | Train Acc: 0.7122 | Val Acc: 0.7124 | Train loss: 0.4604 Val Loss: 0.3792\n",
      "Epoch 137 | Fold 2 | Train Acc: 0.7164 | Val Acc: 0.7301 | Train loss: 0.4677 Val Loss: 0.3805\n",
      "Epoch 138 | Fold 2 | Train Acc: 0.7079 | Val Acc: 0.7257 | Train loss: 0.4598 Val Loss: 0.3798\n",
      "Epoch 139 | Fold 2 | Train Acc: 0.7122 | Val Acc: 0.7257 | Train loss: 0.4627 Val Loss: 0.3794\n",
      "Epoch 140 | Fold 2 | Train Acc: 0.7212 | Val Acc: 0.7235 | Train loss: 0.4598 Val Loss: 0.3778\n",
      "Epoch 141 | Fold 2 | Train Acc: 0.7138 | Val Acc: 0.7124 | Train loss: 0.4558 Val Loss: 0.3813\n",
      "Epoch 142 | Fold 2 | Train Acc: 0.7148 | Val Acc: 0.7080 | Train loss: 0.4586 Val Loss: 0.3779\n",
      "Epoch 143 | Fold 2 | Train Acc: 0.7111 | Val Acc: 0.7235 | Train loss: 0.4630 Val Loss: 0.3768\n",
      "Epoch 144 | Fold 2 | Train Acc: 0.7212 | Val Acc: 0.7257 | Train loss: 0.4549 Val Loss: 0.3796\n",
      "Epoch 145 | Fold 2 | Train Acc: 0.7148 | Val Acc: 0.7080 | Train loss: 0.4673 Val Loss: 0.3786\n",
      "Epoch 146 | Fold 2 | Train Acc: 0.7106 | Val Acc: 0.7323 | Train loss: 0.4541 Val Loss: 0.3841\n",
      "Epoch 147 | Fold 2 | Train Acc: 0.7148 | Val Acc: 0.7279 | Train loss: 0.4616 Val Loss: 0.3801\n",
      "Epoch 148 | Fold 2 | Train Acc: 0.7048 | Val Acc: 0.7080 | Train loss: 0.4524 Val Loss: 0.3775\n",
      "Epoch 149 | Fold 2 | Train Acc: 0.7101 | Val Acc: 0.7257 | Train loss: 0.4623 Val Loss: 0.3780\n",
      "Epoch 150 | Fold 2 | Train Acc: 0.7169 | Val Acc: 0.7279 | Train loss: 0.4549 Val Loss: 0.3818\n",
      "Epoch 151 | Fold 2 | Train Acc: 0.7201 | Val Acc: 0.7279 | Train loss: 0.4573 Val Loss: 0.3792\n",
      "Epoch 152 | Fold 2 | Train Acc: 0.7132 | Val Acc: 0.7080 | Train loss: 0.4548 Val Loss: 0.3776\n",
      "Epoch 153 | Fold 2 | Train Acc: 0.7138 | Val Acc: 0.7279 | Train loss: 0.4654 Val Loss: 0.3772\n",
      "Epoch 154 | Fold 2 | Train Acc: 0.7169 | Val Acc: 0.7257 | Train loss: 0.4534 Val Loss: 0.3765\n",
      "Epoch 155 | Fold 2 | Train Acc: 0.7138 | Val Acc: 0.7080 | Train loss: 0.4538 Val Loss: 0.3781\n",
      "Epoch 156 | Fold 2 | Train Acc: 0.7111 | Val Acc: 0.7279 | Train loss: 0.4597 Val Loss: 0.3808\n",
      "Epoch 157 | Fold 2 | Train Acc: 0.7143 | Val Acc: 0.7257 | Train loss: 0.4598 Val Loss: 0.3775\n",
      "Epoch 158 | Fold 2 | Train Acc: 0.7138 | Val Acc: 0.7235 | Train loss: 0.4480 Val Loss: 0.3776\n",
      "Epoch 159 | Fold 2 | Train Acc: 0.7106 | Val Acc: 0.7212 | Train loss: 0.4603 Val Loss: 0.3744\n",
      "Epoch 160 | Fold 2 | Train Acc: 0.7106 | Val Acc: 0.7279 | Train loss: 0.4554 Val Loss: 0.3786\n",
      "Epoch 161 | Fold 2 | Train Acc: 0.7185 | Val Acc: 0.7301 | Train loss: 0.4561 Val Loss: 0.3802\n",
      "Epoch 162 | Fold 2 | Train Acc: 0.7101 | Val Acc: 0.7058 | Train loss: 0.4571 Val Loss: 0.3739\n",
      "Epoch 163 | Fold 2 | Train Acc: 0.7159 | Val Acc: 0.7146 | Train loss: 0.4528 Val Loss: 0.3809\n",
      "Epoch 164 | Fold 2 | Train Acc: 0.7169 | Val Acc: 0.7257 | Train loss: 0.4490 Val Loss: 0.3771\n",
      "Epoch 165 | Fold 2 | Train Acc: 0.7190 | Val Acc: 0.7080 | Train loss: 0.4486 Val Loss: 0.3756\n",
      "Epoch 166 | Fold 2 | Train Acc: 0.7138 | Val Acc: 0.7235 | Train loss: 0.4565 Val Loss: 0.3766\n",
      "Epoch 167 | Fold 2 | Train Acc: 0.7206 | Val Acc: 0.7124 | Train loss: 0.4498 Val Loss: 0.3807\n",
      "Epoch 168 | Fold 2 | Train Acc: 0.7143 | Val Acc: 0.7279 | Train loss: 0.4584 Val Loss: 0.3786\n",
      "Epoch 169 | Fold 2 | Train Acc: 0.7180 | Val Acc: 0.7124 | Train loss: 0.4535 Val Loss: 0.3800\n",
      "Epoch 170 | Fold 2 | Train Acc: 0.7111 | Val Acc: 0.7212 | Train loss: 0.4552 Val Loss: 0.3748\n",
      "Epoch 171 | Fold 2 | Train Acc: 0.7206 | Val Acc: 0.7323 | Train loss: 0.4528 Val Loss: 0.3821\n",
      "Epoch 172 | Fold 2 | Train Acc: 0.7148 | Val Acc: 0.7345 | Train loss: 0.4522 Val Loss: 0.3808\n",
      "Epoch 173 | Fold 2 | Train Acc: 0.7138 | Val Acc: 0.7257 | Train loss: 0.4544 Val Loss: 0.3754\n",
      "Epoch 174 | Fold 2 | Train Acc: 0.7243 | Val Acc: 0.7279 | Train loss: 0.4516 Val Loss: 0.3772\n",
      "Epoch 175 | Fold 2 | Train Acc: 0.7153 | Val Acc: 0.7279 | Train loss: 0.4536 Val Loss: 0.3753\n",
      "Epoch 176 | Fold 2 | Train Acc: 0.7095 | Val Acc: 0.7102 | Train loss: 0.4562 Val Loss: 0.3772\n",
      "Epoch 177 | Fold 2 | Train Acc: 0.7190 | Val Acc: 0.7257 | Train loss: 0.4494 Val Loss: 0.3750\n",
      "Epoch 178 | Fold 2 | Train Acc: 0.7063 | Val Acc: 0.7279 | Train loss: 0.4538 Val Loss: 0.3776\n",
      "Epoch 179 | Fold 2 | Train Acc: 0.7190 | Val Acc: 0.7124 | Train loss: 0.4550 Val Loss: 0.3764\n",
      "Epoch 180 | Fold 2 | Train Acc: 0.7185 | Val Acc: 0.7124 | Train loss: 0.4523 Val Loss: 0.3770\n",
      "Epoch 181 | Fold 2 | Train Acc: 0.7175 | Val Acc: 0.7279 | Train loss: 0.4497 Val Loss: 0.3776\n",
      "Epoch 182 | Fold 2 | Train Acc: 0.7138 | Val Acc: 0.7257 | Train loss: 0.4457 Val Loss: 0.3749\n",
      "Epoch 183 | Fold 2 | Train Acc: 0.7132 | Val Acc: 0.7102 | Train loss: 0.4501 Val Loss: 0.3764\n",
      "Epoch 184 | Fold 2 | Train Acc: 0.7201 | Val Acc: 0.7279 | Train loss: 0.4537 Val Loss: 0.3780\n",
      "Epoch 185 | Fold 2 | Train Acc: 0.7180 | Val Acc: 0.7279 | Train loss: 0.4439 Val Loss: 0.3767\n",
      "Epoch 186 | Fold 2 | Train Acc: 0.7175 | Val Acc: 0.7102 | Train loss: 0.4519 Val Loss: 0.3757\n",
      "Epoch 187 | Fold 2 | Train Acc: 0.7122 | Val Acc: 0.7279 | Train loss: 0.4569 Val Loss: 0.3766\n",
      "Epoch 188 | Fold 2 | Train Acc: 0.7180 | Val Acc: 0.7279 | Train loss: 0.4486 Val Loss: 0.3778\n",
      "Epoch 189 | Fold 2 | Train Acc: 0.7169 | Val Acc: 0.7279 | Train loss: 0.4546 Val Loss: 0.3775\n",
      "Epoch 190 | Fold 2 | Train Acc: 0.7201 | Val Acc: 0.7279 | Train loss: 0.4502 Val Loss: 0.3771\n",
      "Epoch 191 | Fold 2 | Train Acc: 0.7180 | Val Acc: 0.7279 | Train loss: 0.4520 Val Loss: 0.3767\n",
      "Epoch 192 | Fold 2 | Train Acc: 0.7101 | Val Acc: 0.7279 | Train loss: 0.4545 Val Loss: 0.3761\n",
      " Early stopping at epoch 192 for fold 2\n",
      " Fold 2: Best Val Acc = 0.7058\n",
      "Epoch 001 | Fold 3 | Train Acc: 0.2153 | Val Acc: 0.3327 | Train loss: 1.3771 Val Loss: 1.3725\n",
      "Epoch 002 | Fold 3 | Train Acc: 0.3258 | Val Acc: 0.3504 | Train loss: 1.3566 Val Loss: 1.3627\n",
      "Epoch 003 | Fold 3 | Train Acc: 0.3630 | Val Acc: 0.3539 | Train loss: 1.3304 Val Loss: 1.3461\n",
      "Epoch 004 | Fold 3 | Train Acc: 0.3918 | Val Acc: 0.3680 | Train loss: 1.2910 Val Loss: 1.3273\n",
      "Epoch 005 | Fold 3 | Train Acc: 0.4442 | Val Acc: 0.5053 | Train loss: 1.2411 Val Loss: 1.2949\n",
      "Epoch 006 | Fold 3 | Train Acc: 0.5524 | Val Acc: 0.5000 | Train loss: 1.1524 Val Loss: 1.2395\n",
      "Epoch 007 | Fold 3 | Train Acc: 0.5919 | Val Acc: 0.5264 | Train loss: 0.9761 Val Loss: 1.1443\n",
      "Epoch 008 | Fold 3 | Train Acc: 0.5671 | Val Acc: 0.5088 | Train loss: 0.8092 Val Loss: 1.0511\n",
      "Epoch 009 | Fold 3 | Train Acc: 0.5327 | Val Acc: 0.5528 | Train loss: 0.7186 Val Loss: 1.0039\n",
      "Epoch 010 | Fold 3 | Train Acc: 0.6364 | Val Acc: 0.5440 | Train loss: 0.6490 Val Loss: 0.9422\n",
      "Epoch 011 | Fold 3 | Train Acc: 0.6280 | Val Acc: 0.5687 | Train loss: 0.6213 Val Loss: 0.9027\n",
      "Epoch 012 | Fold 3 | Train Acc: 0.5462 | Val Acc: 0.5299 | Train loss: 0.6040 Val Loss: 0.8235\n",
      "Epoch 013 | Fold 3 | Train Acc: 0.6697 | Val Acc: 0.5951 | Train loss: 0.5458 Val Loss: 0.8937\n",
      "Epoch 014 | Fold 3 | Train Acc: 0.6325 | Val Acc: 0.5968 | Train loss: 0.5555 Val Loss: 0.7806\n",
      "Epoch 015 | Fold 3 | Train Acc: 0.6353 | Val Acc: 0.6039 | Train loss: 0.5327 Val Loss: 0.7886\n",
      "Epoch 016 | Fold 3 | Train Acc: 0.6669 | Val Acc: 0.5968 | Train loss: 0.5236 Val Loss: 0.8083\n",
      "Epoch 017 | Fold 3 | Train Acc: 0.6809 | Val Acc: 0.6180 | Train loss: 0.5203 Val Loss: 0.7654\n",
      "Epoch 018 | Fold 3 | Train Acc: 0.6623 | Val Acc: 0.6021 | Train loss: 0.5174 Val Loss: 0.7757\n",
      "Epoch 019 | Fold 3 | Train Acc: 0.6477 | Val Acc: 0.6408 | Train loss: 0.5038 Val Loss: 0.7588\n",
      "Epoch 020 | Fold 3 | Train Acc: 0.7074 | Val Acc: 0.6514 | Train loss: 0.5115 Val Loss: 0.7739\n",
      "Epoch 021 | Fold 3 | Train Acc: 0.6522 | Val Acc: 0.6514 | Train loss: 0.5031 Val Loss: 0.7421\n",
      "Epoch 022 | Fold 3 | Train Acc: 0.6804 | Val Acc: 0.6673 | Train loss: 0.4799 Val Loss: 0.7806\n",
      "Epoch 023 | Fold 3 | Train Acc: 0.6900 | Val Acc: 0.6549 | Train loss: 0.4837 Val Loss: 0.7212\n",
      "Epoch 024 | Fold 3 | Train Acc: 0.6860 | Val Acc: 0.6813 | Train loss: 0.4754 Val Loss: 0.7472\n",
      "Epoch 025 | Fold 3 | Train Acc: 0.6640 | Val Acc: 0.6796 | Train loss: 0.4882 Val Loss: 0.7190\n",
      "Epoch 026 | Fold 3 | Train Acc: 0.7187 | Val Acc: 0.6708 | Train loss: 0.4818 Val Loss: 0.7754\n",
      "Epoch 027 | Fold 3 | Train Acc: 0.6866 | Val Acc: 0.6585 | Train loss: 0.4846 Val Loss: 0.6877\n",
      "Epoch 028 | Fold 3 | Train Acc: 0.6860 | Val Acc: 0.6831 | Train loss: 0.4661 Val Loss: 0.7370\n",
      "Epoch 029 | Fold 3 | Train Acc: 0.7249 | Val Acc: 0.6813 | Train loss: 0.4668 Val Loss: 0.7426\n",
      "Epoch 030 | Fold 3 | Train Acc: 0.7136 | Val Acc: 0.6849 | Train loss: 0.4604 Val Loss: 0.7352\n",
      "Epoch 031 | Fold 3 | Train Acc: 0.6826 | Val Acc: 0.6884 | Train loss: 0.4750 Val Loss: 0.7409\n",
      "Epoch 032 | Fold 3 | Train Acc: 0.7018 | Val Acc: 0.6937 | Train loss: 0.4631 Val Loss: 0.7133\n",
      "Epoch 033 | Fold 3 | Train Acc: 0.7007 | Val Acc: 0.6849 | Train loss: 0.4611 Val Loss: 0.7021\n",
      "Epoch 034 | Fold 3 | Train Acc: 0.7063 | Val Acc: 0.6954 | Train loss: 0.4513 Val Loss: 0.7315\n",
      "Epoch 035 | Fold 3 | Train Acc: 0.7097 | Val Acc: 0.6796 | Train loss: 0.4600 Val Loss: 0.7458\n",
      "Epoch 036 | Fold 3 | Train Acc: 0.6764 | Val Acc: 0.7007 | Train loss: 0.4756 Val Loss: 0.7055\n",
      "Epoch 037 | Fold 3 | Train Acc: 0.7249 | Val Acc: 0.6972 | Train loss: 0.4537 Val Loss: 0.7344\n",
      "Epoch 038 | Fold 3 | Train Acc: 0.7114 | Val Acc: 0.6954 | Train loss: 0.4560 Val Loss: 0.7182\n",
      "Epoch 039 | Fold 3 | Train Acc: 0.7232 | Val Acc: 0.6972 | Train loss: 0.4495 Val Loss: 0.7276\n",
      "Epoch 040 | Fold 3 | Train Acc: 0.7046 | Val Acc: 0.7060 | Train loss: 0.4472 Val Loss: 0.6969\n",
      "Epoch 041 | Fold 3 | Train Acc: 0.7148 | Val Acc: 0.7025 | Train loss: 0.4361 Val Loss: 0.7091\n",
      "Epoch 042 | Fold 3 | Train Acc: 0.7244 | Val Acc: 0.6972 | Train loss: 0.4555 Val Loss: 0.7295\n",
      "Epoch 043 | Fold 3 | Train Acc: 0.7249 | Val Acc: 0.7042 | Train loss: 0.4509 Val Loss: 0.7073\n",
      "Epoch 044 | Fold 3 | Train Acc: 0.7114 | Val Acc: 0.7025 | Train loss: 0.4461 Val Loss: 0.7055\n",
      "Epoch 045 | Fold 3 | Train Acc: 0.7069 | Val Acc: 0.7077 | Train loss: 0.4560 Val Loss: 0.6902\n",
      "Epoch 046 | Fold 3 | Train Acc: 0.7159 | Val Acc: 0.6972 | Train loss: 0.4413 Val Loss: 0.7164\n",
      "Epoch 047 | Fold 3 | Train Acc: 0.7232 | Val Acc: 0.7060 | Train loss: 0.4505 Val Loss: 0.7028\n",
      "Epoch 048 | Fold 3 | Train Acc: 0.7221 | Val Acc: 0.6972 | Train loss: 0.4517 Val Loss: 0.7186\n"
     ]
    },
    {
     "name": "stderr",
     "output_type": "stream",
     "text": [
      "c:\\Users\\User\\anaconda3\\envs\\ENVGAT\\lib\\site-packages\\optuna\\trial\\_trial.py:501: UserWarning: The reported value is ignored because this `step` 48 is already reported.\n",
      "  warnings.warn(\n"
     ]
    },
    {
     "name": "stdout",
     "output_type": "stream",
     "text": [
      "Epoch 049 | Fold 3 | Train Acc: 0.7086 | Val Acc: 0.7042 | Train loss: 0.4449 Val Loss: 0.6965\n"
     ]
    },
    {
     "name": "stderr",
     "output_type": "stream",
     "text": [
      "c:\\Users\\User\\anaconda3\\envs\\ENVGAT\\lib\\site-packages\\optuna\\trial\\_trial.py:501: UserWarning: The reported value is ignored because this `step` 49 is already reported.\n",
      "  warnings.warn(\n"
     ]
    },
    {
     "name": "stdout",
     "output_type": "stream",
     "text": [
      "Epoch 050 | Fold 3 | Train Acc: 0.7187 | Val Acc: 0.6972 | Train loss: 0.4459 Val Loss: 0.7094\n"
     ]
    },
    {
     "name": "stderr",
     "output_type": "stream",
     "text": [
      "c:\\Users\\User\\anaconda3\\envs\\ENVGAT\\lib\\site-packages\\optuna\\trial\\_trial.py:501: UserWarning: The reported value is ignored because this `step` 50 is already reported.\n",
      "  warnings.warn(\n"
     ]
    },
    {
     "name": "stdout",
     "output_type": "stream",
     "text": [
      "Epoch 051 | Fold 3 | Train Acc: 0.7334 | Val Acc: 0.7077 | Train loss: 0.4315 Val Loss: 0.7082\n"
     ]
    },
    {
     "name": "stderr",
     "output_type": "stream",
     "text": [
      "c:\\Users\\User\\anaconda3\\envs\\ENVGAT\\lib\\site-packages\\optuna\\trial\\_trial.py:501: UserWarning: The reported value is ignored because this `step` 51 is already reported.\n",
      "  warnings.warn(\n"
     ]
    },
    {
     "name": "stdout",
     "output_type": "stream",
     "text": [
      "Epoch 052 | Fold 3 | Train Acc: 0.7221 | Val Acc: 0.7025 | Train loss: 0.4443 Val Loss: 0.7106\n"
     ]
    },
    {
     "name": "stderr",
     "output_type": "stream",
     "text": [
      "c:\\Users\\User\\anaconda3\\envs\\ENVGAT\\lib\\site-packages\\optuna\\trial\\_trial.py:501: UserWarning: The reported value is ignored because this `step` 52 is already reported.\n",
      "  warnings.warn(\n"
     ]
    },
    {
     "name": "stdout",
     "output_type": "stream",
     "text": [
      "Epoch 053 | Fold 3 | Train Acc: 0.7351 | Val Acc: 0.7007 | Train loss: 0.4383 Val Loss: 0.7134\n"
     ]
    },
    {
     "name": "stderr",
     "output_type": "stream",
     "text": [
      "c:\\Users\\User\\anaconda3\\envs\\ENVGAT\\lib\\site-packages\\optuna\\trial\\_trial.py:501: UserWarning: The reported value is ignored because this `step` 53 is already reported.\n",
      "  warnings.warn(\n"
     ]
    },
    {
     "name": "stdout",
     "output_type": "stream",
     "text": [
      "Epoch 054 | Fold 3 | Train Acc: 0.7317 | Val Acc: 0.6972 | Train loss: 0.4370 Val Loss: 0.7027\n"
     ]
    },
    {
     "name": "stderr",
     "output_type": "stream",
     "text": [
      "c:\\Users\\User\\anaconda3\\envs\\ENVGAT\\lib\\site-packages\\optuna\\trial\\_trial.py:501: UserWarning: The reported value is ignored because this `step` 54 is already reported.\n",
      "  warnings.warn(\n"
     ]
    },
    {
     "name": "stdout",
     "output_type": "stream",
     "text": [
      "Epoch 055 | Fold 3 | Train Acc: 0.7131 | Val Acc: 0.7077 | Train loss: 0.4378 Val Loss: 0.7025\n"
     ]
    },
    {
     "name": "stderr",
     "output_type": "stream",
     "text": [
      "c:\\Users\\User\\anaconda3\\envs\\ENVGAT\\lib\\site-packages\\optuna\\trial\\_trial.py:501: UserWarning: The reported value is ignored because this `step` 55 is already reported.\n",
      "  warnings.warn(\n"
     ]
    },
    {
     "name": "stdout",
     "output_type": "stream",
     "text": [
      "Epoch 056 | Fold 3 | Train Acc: 0.7153 | Val Acc: 0.7025 | Train loss: 0.4422 Val Loss: 0.7032\n"
     ]
    },
    {
     "name": "stderr",
     "output_type": "stream",
     "text": [
      "c:\\Users\\User\\anaconda3\\envs\\ENVGAT\\lib\\site-packages\\optuna\\trial\\_trial.py:501: UserWarning: The reported value is ignored because this `step` 56 is already reported.\n",
      "  warnings.warn(\n"
     ]
    },
    {
     "name": "stdout",
     "output_type": "stream",
     "text": [
      "Epoch 057 | Fold 3 | Train Acc: 0.7255 | Val Acc: 0.7007 | Train loss: 0.4523 Val Loss: 0.7150\n",
      " Early stopping at epoch 57 for fold 3\n",
      " Fold 3: Best Val Acc = 0.6585\n",
      "Epoch 001 | Fold 4 | Train Acc: 0.1397 | Val Acc: 0.1553 | Train loss: 1.3891 Val Loss: 1.3773\n",
      "Epoch 002 | Fold 4 | Train Acc: 0.2400 | Val Acc: 0.3881 | Train loss: 1.3675 Val Loss: 1.3591\n",
      "Epoch 003 | Fold 4 | Train Acc: 0.2910 | Val Acc: 0.3128 | Train loss: 1.3525 Val Loss: 1.3413\n",
      "Epoch 004 | Fold 4 | Train Acc: 0.3718 | Val Acc: 0.4795 | Train loss: 1.3327 Val Loss: 1.3132\n",
      "Epoch 005 | Fold 4 | Train Acc: 0.4407 | Val Acc: 0.4886 | Train loss: 1.3028 Val Loss: 1.2768\n",
      "Epoch 006 | Fold 4 | Train Acc: 0.3713 | Val Acc: 0.4521 | Train loss: 1.2667 Val Loss: 1.2185\n",
      "Epoch 007 | Fold 4 | Train Acc: 0.4569 | Val Acc: 0.5594 | Train loss: 1.2070 Val Loss: 1.1202\n",
      "Epoch 008 | Fold 4 | Train Acc: 0.5247 | Val Acc: 0.5982 | Train loss: 1.1082 Val Loss: 0.9418\n",
      "Epoch 009 | Fold 4 | Train Acc: 0.5704 | Val Acc: 0.5753 | Train loss: 0.9458 Val Loss: 0.7671\n",
      "Epoch 010 | Fold 4 | Train Acc: 0.5037 | Val Acc: 0.5137 | Train loss: 0.8104 Val Loss: 0.6818\n",
      "Epoch 011 | Fold 4 | Train Acc: 0.5751 | Val Acc: 0.6210 | Train loss: 0.7067 Val Loss: 0.5934\n",
      "Epoch 012 | Fold 4 | Train Acc: 0.5809 | Val Acc: 0.6096 | Train loss: 0.6496 Val Loss: 0.5667\n",
      "Epoch 013 | Fold 4 | Train Acc: 0.5804 | Val Acc: 0.6005 | Train loss: 0.6267 Val Loss: 0.5477\n",
      "Epoch 014 | Fold 4 | Train Acc: 0.5972 | Val Acc: 0.6530 | Train loss: 0.6039 Val Loss: 0.5302\n",
      "Epoch 015 | Fold 4 | Train Acc: 0.6534 | Val Acc: 0.5639 | Train loss: 0.5836 Val Loss: 0.5362\n",
      "Epoch 016 | Fold 4 | Train Acc: 0.5945 | Val Acc: 0.5799 | Train loss: 0.5726 Val Loss: 0.5288\n",
      "Epoch 017 | Fold 4 | Train Acc: 0.6066 | Val Acc: 0.6027 | Train loss: 0.5594 Val Loss: 0.5200\n",
      "Epoch 018 | Fold 4 | Train Acc: 0.6329 | Val Acc: 0.6804 | Train loss: 0.5468 Val Loss: 0.4938\n",
      "Epoch 019 | Fold 4 | Train Acc: 0.6513 | Val Acc: 0.6507 | Train loss: 0.5442 Val Loss: 0.4971\n",
      "Epoch 020 | Fold 4 | Train Acc: 0.6334 | Val Acc: 0.6941 | Train loss: 0.5437 Val Loss: 0.4898\n",
      "Epoch 021 | Fold 4 | Train Acc: 0.6686 | Val Acc: 0.6096 | Train loss: 0.5311 Val Loss: 0.5136\n",
      "Epoch 022 | Fold 4 | Train Acc: 0.6497 | Val Acc: 0.6279 | Train loss: 0.5266 Val Loss: 0.5052\n",
      "Epoch 023 | Fold 4 | Train Acc: 0.6434 | Val Acc: 0.6689 | Train loss: 0.5288 Val Loss: 0.4911\n",
      "Epoch 024 | Fold 4 | Train Acc: 0.6413 | Val Acc: 0.6598 | Train loss: 0.5167 Val Loss: 0.4988\n",
      "Epoch 025 | Fold 4 | Train Acc: 0.6838 | Val Acc: 0.6849 | Train loss: 0.5334 Val Loss: 0.4868\n",
      "Epoch 026 | Fold 4 | Train Acc: 0.6297 | Val Acc: 0.6598 | Train loss: 0.5339 Val Loss: 0.4977\n",
      "Epoch 027 | Fold 4 | Train Acc: 0.6618 | Val Acc: 0.6986 | Train loss: 0.5180 Val Loss: 0.4775\n",
      "Epoch 028 | Fold 4 | Train Acc: 0.6859 | Val Acc: 0.6986 | Train loss: 0.5212 Val Loss: 0.4819\n",
      "Epoch 029 | Fold 4 | Train Acc: 0.6444 | Val Acc: 0.6644 | Train loss: 0.5218 Val Loss: 0.4959\n",
      "Epoch 030 | Fold 4 | Train Acc: 0.6880 | Val Acc: 0.7169 | Train loss: 0.5182 Val Loss: 0.4695\n",
      "Epoch 031 | Fold 4 | Train Acc: 0.6339 | Val Acc: 0.6301 | Train loss: 0.5201 Val Loss: 0.5186\n",
      "Epoch 032 | Fold 4 | Train Acc: 0.6744 | Val Acc: 0.7169 | Train loss: 0.5149 Val Loss: 0.4713\n",
      "Epoch 033 | Fold 4 | Train Acc: 0.6907 | Val Acc: 0.6689 | Train loss: 0.4972 Val Loss: 0.4989\n",
      "Epoch 034 | Fold 4 | Train Acc: 0.6476 | Val Acc: 0.6872 | Train loss: 0.5071 Val Loss: 0.4840\n",
      "Epoch 035 | Fold 4 | Train Acc: 0.6712 | Val Acc: 0.7146 | Train loss: 0.5000 Val Loss: 0.4766\n",
      "Epoch 036 | Fold 4 | Train Acc: 0.6917 | Val Acc: 0.7100 | Train loss: 0.5003 Val Loss: 0.4793\n",
      "Epoch 037 | Fold 4 | Train Acc: 0.6502 | Val Acc: 0.6918 | Train loss: 0.5007 Val Loss: 0.4912\n",
      "Epoch 038 | Fold 4 | Train Acc: 0.6864 | Val Acc: 0.7100 | Train loss: 0.4955 Val Loss: 0.4759\n",
      "Epoch 039 | Fold 4 | Train Acc: 0.6639 | Val Acc: 0.6804 | Train loss: 0.4922 Val Loss: 0.4978\n",
      "Epoch 040 | Fold 4 | Train Acc: 0.6791 | Val Acc: 0.7192 | Train loss: 0.5102 Val Loss: 0.4654\n",
      "Epoch 041 | Fold 4 | Train Acc: 0.6691 | Val Acc: 0.7055 | Train loss: 0.4931 Val Loss: 0.4886\n",
      "Epoch 042 | Fold 4 | Train Acc: 0.6828 | Val Acc: 0.7146 | Train loss: 0.4993 Val Loss: 0.4748\n",
      "Epoch 043 | Fold 4 | Train Acc: 0.7001 | Val Acc: 0.7169 | Train loss: 0.5003 Val Loss: 0.4825\n",
      "Epoch 044 | Fold 4 | Train Acc: 0.6928 | Val Acc: 0.7215 | Train loss: 0.4933 Val Loss: 0.4779\n",
      "Epoch 045 | Fold 4 | Train Acc: 0.6822 | Val Acc: 0.6986 | Train loss: 0.4924 Val Loss: 0.4872\n",
      "Epoch 046 | Fold 4 | Train Acc: 0.6822 | Val Acc: 0.6963 | Train loss: 0.4916 Val Loss: 0.4793\n",
      "Epoch 047 | Fold 4 | Train Acc: 0.6759 | Val Acc: 0.6918 | Train loss: 0.4898 Val Loss: 0.4899\n",
      "Epoch 048 | Fold 4 | Train Acc: 0.6954 | Val Acc: 0.7215 | Train loss: 0.4990 Val Loss: 0.4672\n",
      "Epoch 049 | Fold 4 | Train Acc: 0.6807 | Val Acc: 0.7215 | Train loss: 0.4887 Val Loss: 0.4751\n",
      "Epoch 050 | Fold 4 | Train Acc: 0.6812 | Val Acc: 0.7192 | Train loss: 0.4848 Val Loss: 0.4666\n",
      "Epoch 051 | Fold 4 | Train Acc: 0.7096 | Val Acc: 0.7192 | Train loss: 0.4718 Val Loss: 0.4700\n",
      "Epoch 052 | Fold 4 | Train Acc: 0.6975 | Val Acc: 0.7009 | Train loss: 0.4781 Val Loss: 0.4746\n",
      "Epoch 053 | Fold 4 | Train Acc: 0.6796 | Val Acc: 0.6986 | Train loss: 0.4801 Val Loss: 0.4896\n",
      "Epoch 054 | Fold 4 | Train Acc: 0.6880 | Val Acc: 0.7192 | Train loss: 0.4792 Val Loss: 0.4656\n",
      "Epoch 055 | Fold 4 | Train Acc: 0.7054 | Val Acc: 0.7055 | Train loss: 0.4679 Val Loss: 0.4766\n",
      "Epoch 056 | Fold 4 | Train Acc: 0.6954 | Val Acc: 0.7055 | Train loss: 0.4746 Val Loss: 0.4717\n",
      "Epoch 057 | Fold 4 | Train Acc: 0.6980 | Val Acc: 0.7192 | Train loss: 0.4706 Val Loss: 0.4697\n"
     ]
    },
    {
     "name": "stderr",
     "output_type": "stream",
     "text": [
      "c:\\Users\\User\\anaconda3\\envs\\ENVGAT\\lib\\site-packages\\optuna\\trial\\_trial.py:501: UserWarning: The reported value is ignored because this `step` 57 is already reported.\n",
      "  warnings.warn(\n"
     ]
    },
    {
     "name": "stdout",
     "output_type": "stream",
     "text": [
      "Epoch 058 | Fold 4 | Train Acc: 0.7096 | Val Acc: 0.7100 | Train loss: 0.4620 Val Loss: 0.4759\n"
     ]
    },
    {
     "name": "stderr",
     "output_type": "stream",
     "text": [
      "c:\\Users\\User\\anaconda3\\envs\\ENVGAT\\lib\\site-packages\\optuna\\trial\\_trial.py:501: UserWarning: The reported value is ignored because this `step` 58 is already reported.\n",
      "  warnings.warn(\n"
     ]
    },
    {
     "name": "stdout",
     "output_type": "stream",
     "text": [
      "Epoch 059 | Fold 4 | Train Acc: 0.6928 | Val Acc: 0.7078 | Train loss: 0.4748 Val Loss: 0.4824\n"
     ]
    },
    {
     "name": "stderr",
     "output_type": "stream",
     "text": [
      "c:\\Users\\User\\anaconda3\\envs\\ENVGAT\\lib\\site-packages\\optuna\\trial\\_trial.py:501: UserWarning: The reported value is ignored because this `step` 59 is already reported.\n",
      "  warnings.warn(\n"
     ]
    },
    {
     "name": "stdout",
     "output_type": "stream",
     "text": [
      "Epoch 060 | Fold 4 | Train Acc: 0.7027 | Val Acc: 0.7215 | Train loss: 0.4703 Val Loss: 0.4669\n"
     ]
    },
    {
     "name": "stderr",
     "output_type": "stream",
     "text": [
      "c:\\Users\\User\\anaconda3\\envs\\ENVGAT\\lib\\site-packages\\optuna\\trial\\_trial.py:501: UserWarning: The reported value is ignored because this `step` 60 is already reported.\n",
      "  warnings.warn(\n"
     ]
    },
    {
     "name": "stdout",
     "output_type": "stream",
     "text": [
      "Epoch 061 | Fold 4 | Train Acc: 0.7027 | Val Acc: 0.7192 | Train loss: 0.4728 Val Loss: 0.4663\n"
     ]
    },
    {
     "name": "stderr",
     "output_type": "stream",
     "text": [
      "c:\\Users\\User\\anaconda3\\envs\\ENVGAT\\lib\\site-packages\\optuna\\trial\\_trial.py:501: UserWarning: The reported value is ignored because this `step` 61 is already reported.\n",
      "  warnings.warn(\n"
     ]
    },
    {
     "name": "stdout",
     "output_type": "stream",
     "text": [
      "Epoch 062 | Fold 4 | Train Acc: 0.6975 | Val Acc: 0.7192 | Train loss: 0.4686 Val Loss: 0.4664\n"
     ]
    },
    {
     "name": "stderr",
     "output_type": "stream",
     "text": [
      "c:\\Users\\User\\anaconda3\\envs\\ENVGAT\\lib\\site-packages\\optuna\\trial\\_trial.py:501: UserWarning: The reported value is ignored because this `step` 62 is already reported.\n",
      "  warnings.warn(\n"
     ]
    },
    {
     "name": "stdout",
     "output_type": "stream",
     "text": [
      "Epoch 063 | Fold 4 | Train Acc: 0.7048 | Val Acc: 0.7215 | Train loss: 0.4722 Val Loss: 0.4733\n"
     ]
    },
    {
     "name": "stderr",
     "output_type": "stream",
     "text": [
      "c:\\Users\\User\\anaconda3\\envs\\ENVGAT\\lib\\site-packages\\optuna\\trial\\_trial.py:501: UserWarning: The reported value is ignored because this `step` 63 is already reported.\n",
      "  warnings.warn(\n"
     ]
    },
    {
     "name": "stdout",
     "output_type": "stream",
     "text": [
      "Epoch 064 | Fold 4 | Train Acc: 0.6922 | Val Acc: 0.7055 | Train loss: 0.4750 Val Loss: 0.4725\n"
     ]
    },
    {
     "name": "stderr",
     "output_type": "stream",
     "text": [
      "c:\\Users\\User\\anaconda3\\envs\\ENVGAT\\lib\\site-packages\\optuna\\trial\\_trial.py:501: UserWarning: The reported value is ignored because this `step` 64 is already reported.\n",
      "  warnings.warn(\n"
     ]
    },
    {
     "name": "stdout",
     "output_type": "stream",
     "text": [
      "Epoch 065 | Fold 4 | Train Acc: 0.6996 | Val Acc: 0.7192 | Train loss: 0.4665 Val Loss: 0.4675\n"
     ]
    },
    {
     "name": "stderr",
     "output_type": "stream",
     "text": [
      "c:\\Users\\User\\anaconda3\\envs\\ENVGAT\\lib\\site-packages\\optuna\\trial\\_trial.py:501: UserWarning: The reported value is ignored because this `step` 65 is already reported.\n",
      "  warnings.warn(\n"
     ]
    },
    {
     "name": "stdout",
     "output_type": "stream",
     "text": [
      "Epoch 066 | Fold 4 | Train Acc: 0.7033 | Val Acc: 0.7078 | Train loss: 0.4653 Val Loss: 0.4679\n"
     ]
    },
    {
     "name": "stderr",
     "output_type": "stream",
     "text": [
      "c:\\Users\\User\\anaconda3\\envs\\ENVGAT\\lib\\site-packages\\optuna\\trial\\_trial.py:501: UserWarning: The reported value is ignored because this `step` 66 is already reported.\n",
      "  warnings.warn(\n"
     ]
    },
    {
     "name": "stdout",
     "output_type": "stream",
     "text": [
      "Epoch 067 | Fold 4 | Train Acc: 0.7006 | Val Acc: 0.7192 | Train loss: 0.4758 Val Loss: 0.4699\n"
     ]
    },
    {
     "name": "stderr",
     "output_type": "stream",
     "text": [
      "c:\\Users\\User\\anaconda3\\envs\\ENVGAT\\lib\\site-packages\\optuna\\trial\\_trial.py:501: UserWarning: The reported value is ignored because this `step` 67 is already reported.\n",
      "  warnings.warn(\n"
     ]
    },
    {
     "name": "stdout",
     "output_type": "stream",
     "text": [
      "Epoch 068 | Fold 4 | Train Acc: 0.6996 | Val Acc: 0.7192 | Train loss: 0.4722 Val Loss: 0.4678\n"
     ]
    },
    {
     "name": "stderr",
     "output_type": "stream",
     "text": [
      "c:\\Users\\User\\anaconda3\\envs\\ENVGAT\\lib\\site-packages\\optuna\\trial\\_trial.py:501: UserWarning: The reported value is ignored because this `step` 68 is already reported.\n",
      "  warnings.warn(\n"
     ]
    },
    {
     "name": "stdout",
     "output_type": "stream",
     "text": [
      "Epoch 069 | Fold 4 | Train Acc: 0.7022 | Val Acc: 0.7055 | Train loss: 0.4700 Val Loss: 0.4716\n"
     ]
    },
    {
     "name": "stderr",
     "output_type": "stream",
     "text": [
      "c:\\Users\\User\\anaconda3\\envs\\ENVGAT\\lib\\site-packages\\optuna\\trial\\_trial.py:501: UserWarning: The reported value is ignored because this `step` 69 is already reported.\n",
      "  warnings.warn(\n"
     ]
    },
    {
     "name": "stdout",
     "output_type": "stream",
     "text": [
      "Epoch 070 | Fold 4 | Train Acc: 0.7069 | Val Acc: 0.7055 | Train loss: 0.4657 Val Loss: 0.4713\n",
      " Early stopping at epoch 70 for fold 4\n",
      " Fold 4: Best Val Acc = 0.7192\n",
      "Epoch 001 | Fold 5 | Train Acc: 0.2736 | Val Acc: 0.2580 | Train loss: 1.3822 Val Loss: 1.3737\n",
      "Epoch 002 | Fold 5 | Train Acc: 0.3598 | Val Acc: 0.4170 | Train loss: 1.3654 Val Loss: 1.3589\n",
      "Epoch 003 | Fold 5 | Train Acc: 0.3750 | Val Acc: 0.4081 | Train loss: 1.3483 Val Loss: 1.3424\n",
      "Epoch 004 | Fold 5 | Train Acc: 0.3998 | Val Acc: 0.3604 | Train loss: 1.3224 Val Loss: 1.3234\n",
      "Epoch 005 | Fold 5 | Train Acc: 0.4854 | Val Acc: 0.6113 | Train loss: 1.2874 Val Loss: 1.2633\n",
      "Epoch 006 | Fold 5 | Train Acc: 0.5135 | Val Acc: 0.5883 | Train loss: 1.2280 Val Loss: 1.1926\n",
      "Epoch 007 | Fold 5 | Train Acc: 0.5653 | Val Acc: 0.5636 | Train loss: 1.1114 Val Loss: 1.0381\n",
      "Epoch 008 | Fold 5 | Train Acc: 0.5586 | Val Acc: 0.4240 | Train loss: 0.9420 Val Loss: 0.9135\n",
      "Epoch 009 | Fold 5 | Train Acc: 0.6075 | Val Acc: 0.5442 | Train loss: 0.7983 Val Loss: 0.7793\n",
      "Epoch 010 | Fold 5 | Train Acc: 0.6171 | Val Acc: 0.5353 | Train loss: 0.7062 Val Loss: 0.7578\n",
      "Epoch 011 | Fold 5 | Train Acc: 0.6498 | Val Acc: 0.4982 | Train loss: 0.6477 Val Loss: 0.7147\n",
      "Epoch 012 | Fold 5 | Train Acc: 0.6526 | Val Acc: 0.4735 | Train loss: 0.6265 Val Loss: 0.7093\n",
      "Epoch 013 | Fold 5 | Train Acc: 0.6740 | Val Acc: 0.4947 | Train loss: 0.5930 Val Loss: 0.6788\n",
      "Epoch 014 | Fold 5 | Train Acc: 0.6605 | Val Acc: 0.4947 | Train loss: 0.5833 Val Loss: 0.6652\n",
      "Epoch 015 | Fold 5 | Train Acc: 0.6481 | Val Acc: 0.5018 | Train loss: 0.5749 Val Loss: 0.6395\n",
      "Epoch 016 | Fold 5 | Train Acc: 0.6695 | Val Acc: 0.4982 | Train loss: 0.5674 Val Loss: 0.6411\n",
      "Epoch 017 | Fold 5 | Train Acc: 0.6593 | Val Acc: 0.5636 | Train loss: 0.5560 Val Loss: 0.6187\n",
      "Epoch 018 | Fold 5 | Train Acc: 0.6948 | Val Acc: 0.4929 | Train loss: 0.5460 Val Loss: 0.6660\n",
      "Epoch 019 | Fold 5 | Train Acc: 0.6830 | Val Acc: 0.5124 | Train loss: 0.5393 Val Loss: 0.6273\n",
      "Epoch 020 | Fold 5 | Train Acc: 0.6774 | Val Acc: 0.4982 | Train loss: 0.5326 Val Loss: 0.6225\n",
      "Epoch 021 | Fold 5 | Train Acc: 0.6954 | Val Acc: 0.5371 | Train loss: 0.5261 Val Loss: 0.6197\n",
      "Epoch 022 | Fold 5 | Train Acc: 0.6858 | Val Acc: 0.5283 | Train loss: 0.5312 Val Loss: 0.6173\n",
      "Epoch 023 | Fold 5 | Train Acc: 0.6959 | Val Acc: 0.5071 | Train loss: 0.5242 Val Loss: 0.6389\n",
      "Epoch 024 | Fold 5 | Train Acc: 0.6813 | Val Acc: 0.5636 | Train loss: 0.5282 Val Loss: 0.6138\n",
      "Epoch 025 | Fold 5 | Train Acc: 0.7050 | Val Acc: 0.5035 | Train loss: 0.5221 Val Loss: 0.6255\n",
      "Epoch 026 | Fold 5 | Train Acc: 0.6903 | Val Acc: 0.5177 | Train loss: 0.5136 Val Loss: 0.6373\n",
      "Epoch 027 | Fold 5 | Train Acc: 0.7095 | Val Acc: 0.6060 | Train loss: 0.5154 Val Loss: 0.5817\n",
      "Epoch 028 | Fold 5 | Train Acc: 0.7016 | Val Acc: 0.5760 | Train loss: 0.5046 Val Loss: 0.6039\n",
      "Epoch 029 | Fold 5 | Train Acc: 0.7252 | Val Acc: 0.5760 | Train loss: 0.5046 Val Loss: 0.5908\n",
      "Epoch 030 | Fold 5 | Train Acc: 0.6982 | Val Acc: 0.5583 | Train loss: 0.5142 Val Loss: 0.6330\n",
      "Epoch 031 | Fold 5 | Train Acc: 0.7275 | Val Acc: 0.6042 | Train loss: 0.5047 Val Loss: 0.5884\n",
      "Epoch 032 | Fold 5 | Train Acc: 0.7005 | Val Acc: 0.5654 | Train loss: 0.5062 Val Loss: 0.6082\n",
      "Epoch 033 | Fold 5 | Train Acc: 0.7241 | Val Acc: 0.5954 | Train loss: 0.4942 Val Loss: 0.5970\n",
      "Epoch 034 | Fold 5 | Train Acc: 0.7202 | Val Acc: 0.5671 | Train loss: 0.5011 Val Loss: 0.6272\n",
      "Epoch 035 | Fold 5 | Train Acc: 0.7083 | Val Acc: 0.5972 | Train loss: 0.5022 Val Loss: 0.5822\n",
      "Epoch 036 | Fold 5 | Train Acc: 0.7190 | Val Acc: 0.5972 | Train loss: 0.5025 Val Loss: 0.5918\n",
      "Epoch 037 | Fold 5 | Train Acc: 0.7151 | Val Acc: 0.5901 | Train loss: 0.4948 Val Loss: 0.5910\n",
      "Epoch 038 | Fold 5 | Train Acc: 0.7095 | Val Acc: 0.6060 | Train loss: 0.5023 Val Loss: 0.5854\n",
      "Epoch 039 | Fold 5 | Train Acc: 0.7309 | Val Acc: 0.6060 | Train loss: 0.4959 Val Loss: 0.5789\n",
      "Epoch 040 | Fold 5 | Train Acc: 0.7179 | Val Acc: 0.5989 | Train loss: 0.4904 Val Loss: 0.5983\n",
      "Epoch 041 | Fold 5 | Train Acc: 0.7151 | Val Acc: 0.6060 | Train loss: 0.4824 Val Loss: 0.5847\n",
      "Epoch 042 | Fold 5 | Train Acc: 0.7275 | Val Acc: 0.6060 | Train loss: 0.4954 Val Loss: 0.5860\n",
      "Epoch 043 | Fold 5 | Train Acc: 0.7224 | Val Acc: 0.6078 | Train loss: 0.4858 Val Loss: 0.5831\n",
      "Epoch 044 | Fold 5 | Train Acc: 0.7258 | Val Acc: 0.6078 | Train loss: 0.4887 Val Loss: 0.5813\n",
      "Epoch 045 | Fold 5 | Train Acc: 0.7303 | Val Acc: 0.6095 | Train loss: 0.4851 Val Loss: 0.5730\n",
      "Epoch 046 | Fold 5 | Train Acc: 0.7275 | Val Acc: 0.5989 | Train loss: 0.4906 Val Loss: 0.5950\n",
      "Epoch 047 | Fold 5 | Train Acc: 0.7145 | Val Acc: 0.6007 | Train loss: 0.4848 Val Loss: 0.5845\n",
      "Epoch 048 | Fold 5 | Train Acc: 0.7286 | Val Acc: 0.6078 | Train loss: 0.4819 Val Loss: 0.5810\n",
      "Epoch 049 | Fold 5 | Train Acc: 0.7128 | Val Acc: 0.6060 | Train loss: 0.4920 Val Loss: 0.5920\n",
      "Epoch 050 | Fold 5 | Train Acc: 0.7247 | Val Acc: 0.6095 | Train loss: 0.4823 Val Loss: 0.5730\n",
      "Epoch 051 | Fold 5 | Train Acc: 0.7314 | Val Acc: 0.6378 | Train loss: 0.4953 Val Loss: 0.5647\n",
      "Epoch 052 | Fold 5 | Train Acc: 0.7196 | Val Acc: 0.5989 | Train loss: 0.4815 Val Loss: 0.5934\n",
      "Epoch 053 | Fold 5 | Train Acc: 0.7247 | Val Acc: 0.6095 | Train loss: 0.4826 Val Loss: 0.5619\n",
      "Epoch 054 | Fold 5 | Train Acc: 0.7235 | Val Acc: 0.5989 | Train loss: 0.4817 Val Loss: 0.6004\n",
      "Epoch 055 | Fold 5 | Train Acc: 0.7241 | Val Acc: 0.5989 | Train loss: 0.4889 Val Loss: 0.5903\n",
      "Epoch 056 | Fold 5 | Train Acc: 0.7252 | Val Acc: 0.6113 | Train loss: 0.4833 Val Loss: 0.5597\n",
      "Epoch 057 | Fold 5 | Train Acc: 0.7258 | Val Acc: 0.5989 | Train loss: 0.4889 Val Loss: 0.5970\n",
      "Epoch 058 | Fold 5 | Train Acc: 0.7275 | Val Acc: 0.6025 | Train loss: 0.4752 Val Loss: 0.5692\n",
      "Epoch 059 | Fold 5 | Train Acc: 0.7342 | Val Acc: 0.6060 | Train loss: 0.4805 Val Loss: 0.5765\n",
      "Epoch 060 | Fold 5 | Train Acc: 0.7168 | Val Acc: 0.5989 | Train loss: 0.4869 Val Loss: 0.5981\n",
      "Epoch 061 | Fold 5 | Train Acc: 0.7258 | Val Acc: 0.6307 | Train loss: 0.4877 Val Loss: 0.5621\n",
      "Epoch 062 | Fold 5 | Train Acc: 0.7207 | Val Acc: 0.6042 | Train loss: 0.4872 Val Loss: 0.5861\n",
      "Epoch 063 | Fold 5 | Train Acc: 0.7218 | Val Acc: 0.5989 | Train loss: 0.4855 Val Loss: 0.5902\n",
      "Epoch 064 | Fold 5 | Train Acc: 0.7235 | Val Acc: 0.6343 | Train loss: 0.4801 Val Loss: 0.5541\n",
      "Epoch 065 | Fold 5 | Train Acc: 0.7252 | Val Acc: 0.6078 | Train loss: 0.4749 Val Loss: 0.5786\n",
      "Epoch 066 | Fold 5 | Train Acc: 0.7202 | Val Acc: 0.5989 | Train loss: 0.4792 Val Loss: 0.5931\n",
      "Epoch 067 | Fold 5 | Train Acc: 0.7314 | Val Acc: 0.6025 | Train loss: 0.4781 Val Loss: 0.5662\n",
      "Epoch 068 | Fold 5 | Train Acc: 0.7309 | Val Acc: 0.6078 | Train loss: 0.4789 Val Loss: 0.5838\n",
      "Epoch 069 | Fold 5 | Train Acc: 0.7359 | Val Acc: 0.6307 | Train loss: 0.4771 Val Loss: 0.5649\n",
      "Epoch 070 | Fold 5 | Train Acc: 0.7280 | Val Acc: 0.6025 | Train loss: 0.4787 Val Loss: 0.5734\n"
     ]
    },
    {
     "name": "stderr",
     "output_type": "stream",
     "text": [
      "c:\\Users\\User\\anaconda3\\envs\\ENVGAT\\lib\\site-packages\\optuna\\trial\\_trial.py:501: UserWarning: The reported value is ignored because this `step` 70 is already reported.\n",
      "  warnings.warn(\n"
     ]
    },
    {
     "name": "stdout",
     "output_type": "stream",
     "text": [
      "Epoch 071 | Fold 5 | Train Acc: 0.7258 | Val Acc: 0.6095 | Train loss: 0.4799 Val Loss: 0.5760\n"
     ]
    },
    {
     "name": "stderr",
     "output_type": "stream",
     "text": [
      "c:\\Users\\User\\anaconda3\\envs\\ENVGAT\\lib\\site-packages\\optuna\\trial\\_trial.py:501: UserWarning: The reported value is ignored because this `step` 71 is already reported.\n",
      "  warnings.warn(\n"
     ]
    },
    {
     "name": "stdout",
     "output_type": "stream",
     "text": [
      "Epoch 072 | Fold 5 | Train Acc: 0.7297 | Val Acc: 0.6007 | Train loss: 0.4769 Val Loss: 0.5810\n"
     ]
    },
    {
     "name": "stderr",
     "output_type": "stream",
     "text": [
      "c:\\Users\\User\\anaconda3\\envs\\ENVGAT\\lib\\site-packages\\optuna\\trial\\_trial.py:501: UserWarning: The reported value is ignored because this `step` 72 is already reported.\n",
      "  warnings.warn(\n"
     ]
    },
    {
     "name": "stdout",
     "output_type": "stream",
     "text": [
      "Epoch 073 | Fold 5 | Train Acc: 0.7399 | Val Acc: 0.6095 | Train loss: 0.4719 Val Loss: 0.5759\n"
     ]
    },
    {
     "name": "stderr",
     "output_type": "stream",
     "text": [
      "c:\\Users\\User\\anaconda3\\envs\\ENVGAT\\lib\\site-packages\\optuna\\trial\\_trial.py:501: UserWarning: The reported value is ignored because this `step` 73 is already reported.\n",
      "  warnings.warn(\n"
     ]
    },
    {
     "name": "stdout",
     "output_type": "stream",
     "text": [
      "Epoch 074 | Fold 5 | Train Acc: 0.7342 | Val Acc: 0.6007 | Train loss: 0.4761 Val Loss: 0.5806\n"
     ]
    },
    {
     "name": "stderr",
     "output_type": "stream",
     "text": [
      "c:\\Users\\User\\anaconda3\\envs\\ENVGAT\\lib\\site-packages\\optuna\\trial\\_trial.py:501: UserWarning: The reported value is ignored because this `step` 74 is already reported.\n",
      "  warnings.warn(\n"
     ]
    },
    {
     "name": "stdout",
     "output_type": "stream",
     "text": [
      "Epoch 075 | Fold 5 | Train Acc: 0.7235 | Val Acc: 0.6042 | Train loss: 0.4721 Val Loss: 0.5869\n"
     ]
    },
    {
     "name": "stderr",
     "output_type": "stream",
     "text": [
      "c:\\Users\\User\\anaconda3\\envs\\ENVGAT\\lib\\site-packages\\optuna\\trial\\_trial.py:501: UserWarning: The reported value is ignored because this `step` 75 is already reported.\n",
      "  warnings.warn(\n"
     ]
    },
    {
     "name": "stdout",
     "output_type": "stream",
     "text": [
      "Epoch 076 | Fold 5 | Train Acc: 0.7320 | Val Acc: 0.6078 | Train loss: 0.4675 Val Loss: 0.5638\n"
     ]
    },
    {
     "name": "stderr",
     "output_type": "stream",
     "text": [
      "c:\\Users\\User\\anaconda3\\envs\\ENVGAT\\lib\\site-packages\\optuna\\trial\\_trial.py:501: UserWarning: The reported value is ignored because this `step` 76 is already reported.\n",
      "  warnings.warn(\n"
     ]
    },
    {
     "name": "stdout",
     "output_type": "stream",
     "text": [
      "Epoch 077 | Fold 5 | Train Acc: 0.7269 | Val Acc: 0.6095 | Train loss: 0.4784 Val Loss: 0.5646\n"
     ]
    },
    {
     "name": "stderr",
     "output_type": "stream",
     "text": [
      "c:\\Users\\User\\anaconda3\\envs\\ENVGAT\\lib\\site-packages\\optuna\\trial\\_trial.py:501: UserWarning: The reported value is ignored because this `step` 77 is already reported.\n",
      "  warnings.warn(\n"
     ]
    },
    {
     "name": "stdout",
     "output_type": "stream",
     "text": [
      "Epoch 078 | Fold 5 | Train Acc: 0.7320 | Val Acc: 0.6060 | Train loss: 0.4743 Val Loss: 0.5817\n"
     ]
    },
    {
     "name": "stderr",
     "output_type": "stream",
     "text": [
      "c:\\Users\\User\\anaconda3\\envs\\ENVGAT\\lib\\site-packages\\optuna\\trial\\_trial.py:501: UserWarning: The reported value is ignored because this `step` 78 is already reported.\n",
      "  warnings.warn(\n"
     ]
    },
    {
     "name": "stdout",
     "output_type": "stream",
     "text": [
      "Epoch 079 | Fold 5 | Train Acc: 0.7292 | Val Acc: 0.6078 | Train loss: 0.4669 Val Loss: 0.5724\n"
     ]
    },
    {
     "name": "stderr",
     "output_type": "stream",
     "text": [
      "c:\\Users\\User\\anaconda3\\envs\\ENVGAT\\lib\\site-packages\\optuna\\trial\\_trial.py:501: UserWarning: The reported value is ignored because this `step` 79 is already reported.\n",
      "  warnings.warn(\n"
     ]
    },
    {
     "name": "stdout",
     "output_type": "stream",
     "text": [
      "Epoch 080 | Fold 5 | Train Acc: 0.7342 | Val Acc: 0.6078 | Train loss: 0.4779 Val Loss: 0.5774\n"
     ]
    },
    {
     "name": "stderr",
     "output_type": "stream",
     "text": [
      "c:\\Users\\User\\anaconda3\\envs\\ENVGAT\\lib\\site-packages\\optuna\\trial\\_trial.py:501: UserWarning: The reported value is ignored because this `step` 80 is already reported.\n",
      "  warnings.warn(\n"
     ]
    },
    {
     "name": "stdout",
     "output_type": "stream",
     "text": [
      "Epoch 081 | Fold 5 | Train Acc: 0.7331 | Val Acc: 0.6060 | Train loss: 0.4683 Val Loss: 0.5797\n"
     ]
    },
    {
     "name": "stderr",
     "output_type": "stream",
     "text": [
      "c:\\Users\\User\\anaconda3\\envs\\ENVGAT\\lib\\site-packages\\optuna\\trial\\_trial.py:501: UserWarning: The reported value is ignored because this `step` 81 is already reported.\n",
      "  warnings.warn(\n"
     ]
    },
    {
     "name": "stdout",
     "output_type": "stream",
     "text": [
      "Epoch 082 | Fold 5 | Train Acc: 0.7337 | Val Acc: 0.6095 | Train loss: 0.4647 Val Loss: 0.5711\n"
     ]
    },
    {
     "name": "stderr",
     "output_type": "stream",
     "text": [
      "c:\\Users\\User\\anaconda3\\envs\\ENVGAT\\lib\\site-packages\\optuna\\trial\\_trial.py:501: UserWarning: The reported value is ignored because this `step` 82 is already reported.\n",
      "  warnings.warn(\n"
     ]
    },
    {
     "name": "stdout",
     "output_type": "stream",
     "text": [
      "Epoch 083 | Fold 5 | Train Acc: 0.7354 | Val Acc: 0.6307 | Train loss: 0.4604 Val Loss: 0.5618\n"
     ]
    },
    {
     "name": "stderr",
     "output_type": "stream",
     "text": [
      "c:\\Users\\User\\anaconda3\\envs\\ENVGAT\\lib\\site-packages\\optuna\\trial\\_trial.py:501: UserWarning: The reported value is ignored because this `step` 83 is already reported.\n",
      "  warnings.warn(\n"
     ]
    },
    {
     "name": "stdout",
     "output_type": "stream",
     "text": [
      "Epoch 084 | Fold 5 | Train Acc: 0.7309 | Val Acc: 0.6095 | Train loss: 0.4793 Val Loss: 0.5701\n"
     ]
    },
    {
     "name": "stderr",
     "output_type": "stream",
     "text": [
      "c:\\Users\\User\\anaconda3\\envs\\ENVGAT\\lib\\site-packages\\optuna\\trial\\_trial.py:501: UserWarning: The reported value is ignored because this `step` 84 is already reported.\n",
      "  warnings.warn(\n"
     ]
    },
    {
     "name": "stdout",
     "output_type": "stream",
     "text": [
      "Epoch 085 | Fold 5 | Train Acc: 0.7264 | Val Acc: 0.6060 | Train loss: 0.4726 Val Loss: 0.5833\n"
     ]
    },
    {
     "name": "stderr",
     "output_type": "stream",
     "text": [
      "c:\\Users\\User\\anaconda3\\envs\\ENVGAT\\lib\\site-packages\\optuna\\trial\\_trial.py:501: UserWarning: The reported value is ignored because this `step` 85 is already reported.\n",
      "  warnings.warn(\n"
     ]
    },
    {
     "name": "stdout",
     "output_type": "stream",
     "text": [
      "Epoch 086 | Fold 5 | Train Acc: 0.7393 | Val Acc: 0.6113 | Train loss: 0.4723 Val Loss: 0.5651\n"
     ]
    },
    {
     "name": "stderr",
     "output_type": "stream",
     "text": [
      "c:\\Users\\User\\anaconda3\\envs\\ENVGAT\\lib\\site-packages\\optuna\\trial\\_trial.py:501: UserWarning: The reported value is ignored because this `step` 86 is already reported.\n",
      "  warnings.warn(\n"
     ]
    },
    {
     "name": "stdout",
     "output_type": "stream",
     "text": [
      "Epoch 087 | Fold 5 | Train Acc: 0.7354 | Val Acc: 0.6113 | Train loss: 0.4698 Val Loss: 0.5668\n"
     ]
    },
    {
     "name": "stderr",
     "output_type": "stream",
     "text": [
      "c:\\Users\\User\\anaconda3\\envs\\ENVGAT\\lib\\site-packages\\optuna\\trial\\_trial.py:501: UserWarning: The reported value is ignored because this `step` 87 is already reported.\n",
      "  warnings.warn(\n"
     ]
    },
    {
     "name": "stdout",
     "output_type": "stream",
     "text": [
      "Epoch 088 | Fold 5 | Train Acc: 0.7286 | Val Acc: 0.6095 | Train loss: 0.4720 Val Loss: 0.5678\n"
     ]
    },
    {
     "name": "stderr",
     "output_type": "stream",
     "text": [
      "c:\\Users\\User\\anaconda3\\envs\\ENVGAT\\lib\\site-packages\\optuna\\trial\\_trial.py:501: UserWarning: The reported value is ignored because this `step` 88 is already reported.\n",
      "  warnings.warn(\n"
     ]
    },
    {
     "name": "stdout",
     "output_type": "stream",
     "text": [
      "Epoch 089 | Fold 5 | Train Acc: 0.7359 | Val Acc: 0.6113 | Train loss: 0.4692 Val Loss: 0.5681\n"
     ]
    },
    {
     "name": "stderr",
     "output_type": "stream",
     "text": [
      "c:\\Users\\User\\anaconda3\\envs\\ENVGAT\\lib\\site-packages\\optuna\\trial\\_trial.py:501: UserWarning: The reported value is ignored because this `step` 89 is already reported.\n",
      "  warnings.warn(\n"
     ]
    },
    {
     "name": "stdout",
     "output_type": "stream",
     "text": [
      "Epoch 090 | Fold 5 | Train Acc: 0.7348 | Val Acc: 0.6095 | Train loss: 0.4707 Val Loss: 0.5710\n"
     ]
    },
    {
     "name": "stderr",
     "output_type": "stream",
     "text": [
      "c:\\Users\\User\\anaconda3\\envs\\ENVGAT\\lib\\site-packages\\optuna\\trial\\_trial.py:501: UserWarning: The reported value is ignored because this `step` 90 is already reported.\n",
      "  warnings.warn(\n"
     ]
    },
    {
     "name": "stdout",
     "output_type": "stream",
     "text": [
      "Epoch 091 | Fold 5 | Train Acc: 0.7314 | Val Acc: 0.6095 | Train loss: 0.4719 Val Loss: 0.5760\n"
     ]
    },
    {
     "name": "stderr",
     "output_type": "stream",
     "text": [
      "c:\\Users\\User\\anaconda3\\envs\\ENVGAT\\lib\\site-packages\\optuna\\trial\\_trial.py:501: UserWarning: The reported value is ignored because this `step` 91 is already reported.\n",
      "  warnings.warn(\n"
     ]
    },
    {
     "name": "stdout",
     "output_type": "stream",
     "text": [
      "Epoch 092 | Fold 5 | Train Acc: 0.7337 | Val Acc: 0.6095 | Train loss: 0.4661 Val Loss: 0.5689\n"
     ]
    },
    {
     "name": "stderr",
     "output_type": "stream",
     "text": [
      "c:\\Users\\User\\anaconda3\\envs\\ENVGAT\\lib\\site-packages\\optuna\\trial\\_trial.py:501: UserWarning: The reported value is ignored because this `step` 92 is already reported.\n",
      "  warnings.warn(\n"
     ]
    },
    {
     "name": "stdout",
     "output_type": "stream",
     "text": [
      "Epoch 093 | Fold 5 | Train Acc: 0.7297 | Val Acc: 0.6113 | Train loss: 0.4678 Val Loss: 0.5702\n"
     ]
    },
    {
     "name": "stderr",
     "output_type": "stream",
     "text": [
      "c:\\Users\\User\\anaconda3\\envs\\ENVGAT\\lib\\site-packages\\optuna\\trial\\_trial.py:501: UserWarning: The reported value is ignored because this `step` 93 is already reported.\n",
      "  warnings.warn(\n"
     ]
    },
    {
     "name": "stdout",
     "output_type": "stream",
     "text": [
      "Epoch 094 | Fold 5 | Train Acc: 0.7303 | Val Acc: 0.6095 | Train loss: 0.4702 Val Loss: 0.5722\n",
      " Early stopping at epoch 94 for fold 5\n",
      " Fold 5: Best Val Acc = 0.6343\n"
     ]
    },
    {
     "name": "stderr",
     "output_type": "stream",
     "text": [
      "[I 2025-07-15 00:14:48,744] Trial 0 finished with value: 0.6976193737506798 and parameters: {'hidden_channels': 256, 'num_layers': 2, 'heads': 8, 'dropout': 0.13364013933076618, 'hidden_dim': 128}. Best is trial 0 with value: 0.6976193737506798.\n"
     ]
    },
    {
     "name": "stdout",
     "output_type": "stream",
     "text": [
      "🏃 View run trial_0 at: http://127.0.0.1:5000/#/experiments/906754211394743286/runs/edad39dbb7214bc6953be05860f6444e\n",
      "🧪 View experiment at: http://127.0.0.1:5000/#/experiments/906754211394743286\n",
      "Epoch 001 | Fold 1 | Train Acc: 0.5252 | Val Acc: 0.2453 | Train loss: 1.3898 Val Loss: 1.4175\n",
      "Epoch 002 | Fold 1 | Train Acc: 0.5188 | Val Acc: 0.2453 | Train loss: 1.3842 Val Loss: 1.3989\n",
      "Epoch 003 | Fold 1 | Train Acc: 0.5124 | Val Acc: 0.2296 | Train loss: 1.3771 Val Loss: 1.3887\n",
      "Epoch 004 | Fold 1 | Train Acc: 0.5153 | Val Acc: 0.2736 | Train loss: 1.3711 Val Loss: 1.3787\n",
      "Epoch 005 | Fold 1 | Train Acc: 0.4644 | Val Acc: 0.3365 | Train loss: 1.3675 Val Loss: 1.3627\n",
      "Epoch 006 | Fold 1 | Train Acc: 0.4293 | Val Acc: 0.3396 | Train loss: 1.3587 Val Loss: 1.3476\n",
      "Epoch 007 | Fold 1 | Train Acc: 0.4699 | Val Acc: 0.4434 | Train loss: 1.3495 Val Loss: 1.3412\n",
      "Epoch 008 | Fold 1 | Train Acc: 0.5010 | Val Acc: 0.4182 | Train loss: 1.3392 Val Loss: 1.3229\n",
      "Epoch 009 | Fold 1 | Train Acc: 0.4679 | Val Acc: 0.4497 | Train loss: 1.3294 Val Loss: 1.2941\n",
      "Epoch 010 | Fold 1 | Train Acc: 0.4728 | Val Acc: 0.5440 | Train loss: 1.3087 Val Loss: 1.2674\n",
      "Epoch 011 | Fold 1 | Train Acc: 0.5469 | Val Acc: 0.5660 | Train loss: 1.2856 Val Loss: 1.2330\n",
      "Epoch 012 | Fold 1 | Train Acc: 0.5410 | Val Acc: 0.6101 | Train loss: 1.2436 Val Loss: 1.1758\n",
      "Epoch 013 | Fold 1 | Train Acc: 0.5054 | Val Acc: 0.6132 | Train loss: 1.1994 Val Loss: 1.1030\n",
      "Epoch 014 | Fold 1 | Train Acc: 0.4763 | Val Acc: 0.6981 | Train loss: 1.1568 Val Loss: 0.9729\n",
      "Epoch 015 | Fold 1 | Train Acc: 0.4684 | Val Acc: 0.7075 | Train loss: 1.0845 Val Loss: 0.8783\n",
      "Epoch 016 | Fold 1 | Train Acc: 0.4783 | Val Acc: 0.7233 | Train loss: 1.0208 Val Loss: 0.7665\n",
      "Epoch 017 | Fold 1 | Train Acc: 0.4748 | Val Acc: 0.7264 | Train loss: 0.9471 Val Loss: 0.6666\n",
      "Epoch 018 | Fold 1 | Train Acc: 0.4649 | Val Acc: 0.7610 | Train loss: 0.8894 Val Loss: 0.5961\n",
      "Epoch 019 | Fold 1 | Train Acc: 0.5054 | Val Acc: 0.7704 | Train loss: 0.8362 Val Loss: 0.5327\n",
      "Epoch 020 | Fold 1 | Train Acc: 0.5040 | Val Acc: 0.7736 | Train loss: 0.8064 Val Loss: 0.5111\n",
      "Epoch 021 | Fold 1 | Train Acc: 0.5173 | Val Acc: 0.7704 | Train loss: 0.7767 Val Loss: 0.4966\n",
      "Epoch 022 | Fold 1 | Train Acc: 0.5222 | Val Acc: 0.7673 | Train loss: 0.7534 Val Loss: 0.4726\n",
      "Epoch 023 | Fold 1 | Train Acc: 0.5296 | Val Acc: 0.7704 | Train loss: 0.7375 Val Loss: 0.4916\n",
      "Epoch 024 | Fold 1 | Train Acc: 0.5331 | Val Acc: 0.7673 | Train loss: 0.7193 Val Loss: 0.4666\n",
      "Epoch 025 | Fold 1 | Train Acc: 0.5331 | Val Acc: 0.7579 | Train loss: 0.7115 Val Loss: 0.4590\n",
      "Epoch 026 | Fold 1 | Train Acc: 0.5415 | Val Acc: 0.7516 | Train loss: 0.6863 Val Loss: 0.4642\n",
      "Epoch 027 | Fold 1 | Train Acc: 0.5366 | Val Acc: 0.7642 | Train loss: 0.7012 Val Loss: 0.4752\n",
      "Epoch 028 | Fold 1 | Train Acc: 0.5593 | Val Acc: 0.7642 | Train loss: 0.6811 Val Loss: 0.4684\n",
      "Epoch 029 | Fold 1 | Train Acc: 0.5331 | Val Acc: 0.7547 | Train loss: 0.6755 Val Loss: 0.4582\n",
      "Epoch 030 | Fold 1 | Train Acc: 0.5489 | Val Acc: 0.7547 | Train loss: 0.6805 Val Loss: 0.4580\n",
      "Epoch 031 | Fold 1 | Train Acc: 0.5420 | Val Acc: 0.7547 | Train loss: 0.6506 Val Loss: 0.4612\n",
      "Epoch 032 | Fold 1 | Train Acc: 0.5583 | Val Acc: 0.7516 | Train loss: 0.6566 Val Loss: 0.4685\n",
      "Epoch 033 | Fold 1 | Train Acc: 0.5529 | Val Acc: 0.7516 | Train loss: 0.6653 Val Loss: 0.4652\n",
      "Epoch 034 | Fold 1 | Train Acc: 0.5568 | Val Acc: 0.7516 | Train loss: 0.6467 Val Loss: 0.4687\n",
      "Epoch 035 | Fold 1 | Train Acc: 0.5375 | Val Acc: 0.7547 | Train loss: 0.6354 Val Loss: 0.4511\n",
      "Epoch 036 | Fold 1 | Train Acc: 0.5435 | Val Acc: 0.7547 | Train loss: 0.6305 Val Loss: 0.4523\n",
      "Epoch 037 | Fold 1 | Train Acc: 0.5588 | Val Acc: 0.7484 | Train loss: 0.6367 Val Loss: 0.4670\n",
      "Epoch 038 | Fold 1 | Train Acc: 0.5548 | Val Acc: 0.7547 | Train loss: 0.6198 Val Loss: 0.4538\n",
      "Epoch 039 | Fold 1 | Train Acc: 0.5726 | Val Acc: 0.7516 | Train loss: 0.6128 Val Loss: 0.4579\n",
      "Epoch 040 | Fold 1 | Train Acc: 0.5657 | Val Acc: 0.7547 | Train loss: 0.6096 Val Loss: 0.4437\n",
      "Epoch 041 | Fold 1 | Train Acc: 0.5667 | Val Acc: 0.7547 | Train loss: 0.6211 Val Loss: 0.4834\n",
      "Epoch 042 | Fold 1 | Train Acc: 0.5593 | Val Acc: 0.7547 | Train loss: 0.6283 Val Loss: 0.4506\n",
      "Epoch 043 | Fold 1 | Train Acc: 0.5588 | Val Acc: 0.7610 | Train loss: 0.5833 Val Loss: 0.4562\n",
      "Epoch 044 | Fold 1 | Train Acc: 0.5578 | Val Acc: 0.7579 | Train loss: 0.6197 Val Loss: 0.4590\n",
      "Epoch 045 | Fold 1 | Train Acc: 0.5795 | Val Acc: 0.7516 | Train loss: 0.6105 Val Loss: 0.4565\n",
      "Epoch 046 | Fold 1 | Train Acc: 0.5805 | Val Acc: 0.7547 | Train loss: 0.5918 Val Loss: 0.4475\n",
      "Epoch 047 | Fold 1 | Train Acc: 0.5662 | Val Acc: 0.7610 | Train loss: 0.5877 Val Loss: 0.4596\n",
      "Epoch 048 | Fold 1 | Train Acc: 0.5514 | Val Acc: 0.7610 | Train loss: 0.5919 Val Loss: 0.4542\n",
      "Epoch 049 | Fold 1 | Train Acc: 0.5929 | Val Acc: 0.7579 | Train loss: 0.5839 Val Loss: 0.4709\n",
      "Epoch 050 | Fold 1 | Train Acc: 0.5716 | Val Acc: 0.7642 | Train loss: 0.5771 Val Loss: 0.4509\n",
      "Epoch 051 | Fold 1 | Train Acc: 0.5573 | Val Acc: 0.7610 | Train loss: 0.5961 Val Loss: 0.4566\n",
      "Epoch 052 | Fold 1 | Train Acc: 0.5736 | Val Acc: 0.7579 | Train loss: 0.5842 Val Loss: 0.4681\n",
      "Epoch 053 | Fold 1 | Train Acc: 0.5924 | Val Acc: 0.7579 | Train loss: 0.5870 Val Loss: 0.4668\n",
      "Epoch 054 | Fold 1 | Train Acc: 0.5904 | Val Acc: 0.7642 | Train loss: 0.5777 Val Loss: 0.4516\n",
      "Epoch 055 | Fold 1 | Train Acc: 0.5870 | Val Acc: 0.7610 | Train loss: 0.5886 Val Loss: 0.4544\n",
      "Epoch 056 | Fold 1 | Train Acc: 0.5939 | Val Acc: 0.7579 | Train loss: 0.5659 Val Loss: 0.4582\n",
      "Epoch 057 | Fold 1 | Train Acc: 0.6023 | Val Acc: 0.7610 | Train loss: 0.5647 Val Loss: 0.4448\n",
      "Epoch 058 | Fold 1 | Train Acc: 0.5904 | Val Acc: 0.7579 | Train loss: 0.5692 Val Loss: 0.4565\n",
      "Epoch 059 | Fold 1 | Train Acc: 0.5889 | Val Acc: 0.7610 | Train loss: 0.5603 Val Loss: 0.4459\n",
      "Epoch 060 | Fold 1 | Train Acc: 0.5791 | Val Acc: 0.7610 | Train loss: 0.5834 Val Loss: 0.4529\n",
      "Epoch 061 | Fold 1 | Train Acc: 0.5865 | Val Acc: 0.7579 | Train loss: 0.5755 Val Loss: 0.4581\n",
      "Epoch 062 | Fold 1 | Train Acc: 0.5879 | Val Acc: 0.7579 | Train loss: 0.5800 Val Loss: 0.4601\n",
      "Epoch 063 | Fold 1 | Train Acc: 0.5914 | Val Acc: 0.7610 | Train loss: 0.5841 Val Loss: 0.4603\n",
      "Epoch 064 | Fold 1 | Train Acc: 0.6003 | Val Acc: 0.7610 | Train loss: 0.5633 Val Loss: 0.4562\n",
      "Epoch 065 | Fold 1 | Train Acc: 0.5949 | Val Acc: 0.7610 | Train loss: 0.5765 Val Loss: 0.4542\n",
      "Epoch 066 | Fold 1 | Train Acc: 0.5983 | Val Acc: 0.7610 | Train loss: 0.5600 Val Loss: 0.4566\n",
      "Epoch 067 | Fold 1 | Train Acc: 0.5835 | Val Acc: 0.7610 | Train loss: 0.5740 Val Loss: 0.4499\n",
      "Epoch 068 | Fold 1 | Train Acc: 0.5904 | Val Acc: 0.7610 | Train loss: 0.5678 Val Loss: 0.4531\n",
      "Epoch 069 | Fold 1 | Train Acc: 0.5963 | Val Acc: 0.7579 | Train loss: 0.5817 Val Loss: 0.4570\n",
      "Epoch 070 | Fold 1 | Train Acc: 0.6038 | Val Acc: 0.7547 | Train loss: 0.5619 Val Loss: 0.4573\n",
      " Early stopping at epoch 70 for fold 1\n",
      " Fold 1: Best Val Acc = 0.7547\n",
      "Epoch 001 | Fold 2 | Train Acc: 0.1429 | Val Acc: 0.1527 | Train loss: 1.3894 Val Loss: 1.3824\n",
      "Epoch 002 | Fold 2 | Train Acc: 0.1624 | Val Acc: 0.1549 | Train loss: 1.3817 Val Loss: 1.3770\n",
      "Epoch 003 | Fold 2 | Train Acc: 0.1963 | Val Acc: 0.1836 | Train loss: 1.3769 Val Loss: 1.3703\n",
      "Epoch 004 | Fold 2 | Train Acc: 0.2212 | Val Acc: 0.2544 | Train loss: 1.3694 Val Loss: 1.3634\n",
      "Epoch 005 | Fold 2 | Train Acc: 0.2677 | Val Acc: 0.3097 | Train loss: 1.3618 Val Loss: 1.3555\n",
      "Epoch 006 | Fold 2 | Train Acc: 0.2931 | Val Acc: 0.3584 | Train loss: 1.3511 Val Loss: 1.3424\n",
      "Epoch 007 | Fold 2 | Train Acc: 0.3460 | Val Acc: 0.4115 | Train loss: 1.3325 Val Loss: 1.3257\n",
      "Epoch 008 | Fold 2 | Train Acc: 0.4111 | Val Acc: 0.4735 | Train loss: 1.3099 Val Loss: 1.3010\n",
      "Epoch 009 | Fold 2 | Train Acc: 0.4005 | Val Acc: 0.3960 | Train loss: 1.2860 Val Loss: 1.2593\n",
      "Epoch 010 | Fold 2 | Train Acc: 0.4132 | Val Acc: 0.4027 | Train loss: 1.2354 Val Loss: 1.2068\n",
      "Epoch 011 | Fold 2 | Train Acc: 0.4508 | Val Acc: 0.4137 | Train loss: 1.1703 Val Loss: 1.1328\n",
      "Epoch 012 | Fold 2 | Train Acc: 0.4566 | Val Acc: 0.4226 | Train loss: 1.0838 Val Loss: 1.0193\n",
      "Epoch 013 | Fold 2 | Train Acc: 0.4714 | Val Acc: 0.4602 | Train loss: 0.9768 Val Loss: 0.8885\n",
      "Epoch 014 | Fold 2 | Train Acc: 0.4884 | Val Acc: 0.4889 | Train loss: 0.8877 Val Loss: 0.8030\n",
      "Epoch 015 | Fold 2 | Train Acc: 0.5317 | Val Acc: 0.5199 | Train loss: 0.8323 Val Loss: 0.7489\n",
      "Epoch 016 | Fold 2 | Train Acc: 0.5661 | Val Acc: 0.5531 | Train loss: 0.8075 Val Loss: 0.7187\n",
      "Epoch 017 | Fold 2 | Train Acc: 0.5857 | Val Acc: 0.5398 | Train loss: 0.7907 Val Loss: 0.6816\n",
      "Epoch 018 | Fold 2 | Train Acc: 0.5582 | Val Acc: 0.5442 | Train loss: 0.7696 Val Loss: 0.6554\n",
      "Epoch 019 | Fold 2 | Train Acc: 0.5735 | Val Acc: 0.5398 | Train loss: 0.7440 Val Loss: 0.6452\n",
      "Epoch 020 | Fold 2 | Train Acc: 0.5788 | Val Acc: 0.5420 | Train loss: 0.7214 Val Loss: 0.6305\n",
      "Epoch 021 | Fold 2 | Train Acc: 0.5947 | Val Acc: 0.5465 | Train loss: 0.7197 Val Loss: 0.6162\n",
      "Epoch 022 | Fold 2 | Train Acc: 0.5995 | Val Acc: 0.5465 | Train loss: 0.7126 Val Loss: 0.6027\n",
      "Epoch 023 | Fold 2 | Train Acc: 0.6011 | Val Acc: 0.5642 | Train loss: 0.6842 Val Loss: 0.5900\n",
      "Epoch 024 | Fold 2 | Train Acc: 0.6069 | Val Acc: 0.5597 | Train loss: 0.7071 Val Loss: 0.5829\n",
      "Epoch 025 | Fold 2 | Train Acc: 0.6175 | Val Acc: 0.5686 | Train loss: 0.6879 Val Loss: 0.5815\n",
      "Epoch 026 | Fold 2 | Train Acc: 0.6259 | Val Acc: 0.5597 | Train loss: 0.6698 Val Loss: 0.5643\n",
      "Epoch 027 | Fold 2 | Train Acc: 0.6011 | Val Acc: 0.5575 | Train loss: 0.6675 Val Loss: 0.5506\n",
      "Epoch 028 | Fold 2 | Train Acc: 0.5894 | Val Acc: 0.5796 | Train loss: 0.6817 Val Loss: 0.5500\n",
      "Epoch 029 | Fold 2 | Train Acc: 0.6037 | Val Acc: 0.5863 | Train loss: 0.6629 Val Loss: 0.5417\n",
      "Epoch 030 | Fold 2 | Train Acc: 0.6048 | Val Acc: 0.5708 | Train loss: 0.6511 Val Loss: 0.5355\n",
      "Epoch 031 | Fold 2 | Train Acc: 0.5926 | Val Acc: 0.5619 | Train loss: 0.6590 Val Loss: 0.5349\n",
      "Epoch 032 | Fold 2 | Train Acc: 0.6101 | Val Acc: 0.5819 | Train loss: 0.6585 Val Loss: 0.5356\n",
      "Epoch 033 | Fold 2 | Train Acc: 0.6101 | Val Acc: 0.5841 | Train loss: 0.6558 Val Loss: 0.5290\n",
      "Epoch 034 | Fold 2 | Train Acc: 0.6233 | Val Acc: 0.5907 | Train loss: 0.6397 Val Loss: 0.5158\n",
      "Epoch 035 | Fold 2 | Train Acc: 0.6265 | Val Acc: 0.5885 | Train loss: 0.6474 Val Loss: 0.5180\n",
      "Epoch 036 | Fold 2 | Train Acc: 0.6122 | Val Acc: 0.6040 | Train loss: 0.6423 Val Loss: 0.5183\n",
      "Epoch 037 | Fold 2 | Train Acc: 0.6016 | Val Acc: 0.5863 | Train loss: 0.6513 Val Loss: 0.5125\n",
      "Epoch 038 | Fold 2 | Train Acc: 0.6196 | Val Acc: 0.6040 | Train loss: 0.6329 Val Loss: 0.5111\n",
      "Epoch 039 | Fold 2 | Train Acc: 0.6169 | Val Acc: 0.5929 | Train loss: 0.6187 Val Loss: 0.5032\n",
      "Epoch 040 | Fold 2 | Train Acc: 0.6026 | Val Acc: 0.5907 | Train loss: 0.6332 Val Loss: 0.5011\n",
      "Epoch 041 | Fold 2 | Train Acc: 0.5963 | Val Acc: 0.5973 | Train loss: 0.6390 Val Loss: 0.4984\n",
      "Epoch 042 | Fold 2 | Train Acc: 0.6063 | Val Acc: 0.6438 | Train loss: 0.6374 Val Loss: 0.5034\n",
      "Epoch 043 | Fold 2 | Train Acc: 0.6339 | Val Acc: 0.6062 | Train loss: 0.6134 Val Loss: 0.4968\n",
      "Epoch 044 | Fold 2 | Train Acc: 0.6106 | Val Acc: 0.6394 | Train loss: 0.6117 Val Loss: 0.4915\n",
      "Epoch 045 | Fold 2 | Train Acc: 0.6344 | Val Acc: 0.6394 | Train loss: 0.6186 Val Loss: 0.4949\n",
      "Epoch 046 | Fold 2 | Train Acc: 0.6349 | Val Acc: 0.6527 | Train loss: 0.6054 Val Loss: 0.4897\n",
      "Epoch 047 | Fold 2 | Train Acc: 0.6153 | Val Acc: 0.6261 | Train loss: 0.6253 Val Loss: 0.4806\n",
      "Epoch 048 | Fold 2 | Train Acc: 0.6317 | Val Acc: 0.6615 | Train loss: 0.6084 Val Loss: 0.4891\n",
      "Epoch 049 | Fold 2 | Train Acc: 0.6423 | Val Acc: 0.6571 | Train loss: 0.6080 Val Loss: 0.4829\n",
      "Epoch 050 | Fold 2 | Train Acc: 0.6217 | Val Acc: 0.6305 | Train loss: 0.6185 Val Loss: 0.4778\n",
      "Epoch 051 | Fold 2 | Train Acc: 0.6349 | Val Acc: 0.6416 | Train loss: 0.5989 Val Loss: 0.4755\n",
      "Epoch 052 | Fold 2 | Train Acc: 0.6466 | Val Acc: 0.6637 | Train loss: 0.6025 Val Loss: 0.4742\n",
      "Epoch 053 | Fold 2 | Train Acc: 0.6492 | Val Acc: 0.6991 | Train loss: 0.6118 Val Loss: 0.4799\n",
      "Epoch 054 | Fold 2 | Train Acc: 0.6418 | Val Acc: 0.6615 | Train loss: 0.6107 Val Loss: 0.4649\n",
      "Epoch 055 | Fold 2 | Train Acc: 0.6487 | Val Acc: 0.6903 | Train loss: 0.6053 Val Loss: 0.4751\n",
      "Epoch 056 | Fold 2 | Train Acc: 0.6413 | Val Acc: 0.6504 | Train loss: 0.6009 Val Loss: 0.4643\n",
      "Epoch 057 | Fold 2 | Train Acc: 0.6339 | Val Acc: 0.7035 | Train loss: 0.5953 Val Loss: 0.4665\n",
      "Epoch 058 | Fold 2 | Train Acc: 0.6476 | Val Acc: 0.6969 | Train loss: 0.5979 Val Loss: 0.4610\n",
      "Epoch 059 | Fold 2 | Train Acc: 0.6598 | Val Acc: 0.7058 | Train loss: 0.5940 Val Loss: 0.4622\n",
      "Epoch 060 | Fold 2 | Train Acc: 0.6651 | Val Acc: 0.6969 | Train loss: 0.5964 Val Loss: 0.4637\n",
      "Epoch 061 | Fold 2 | Train Acc: 0.6630 | Val Acc: 0.6925 | Train loss: 0.5816 Val Loss: 0.4563\n",
      "Epoch 062 | Fold 2 | Train Acc: 0.6513 | Val Acc: 0.7035 | Train loss: 0.5859 Val Loss: 0.4528\n",
      "Epoch 063 | Fold 2 | Train Acc: 0.6550 | Val Acc: 0.6969 | Train loss: 0.5731 Val Loss: 0.4508\n",
      "Epoch 064 | Fold 2 | Train Acc: 0.6556 | Val Acc: 0.6792 | Train loss: 0.5827 Val Loss: 0.4532\n",
      "Epoch 065 | Fold 2 | Train Acc: 0.6508 | Val Acc: 0.6947 | Train loss: 0.5776 Val Loss: 0.4579\n",
      "Epoch 066 | Fold 2 | Train Acc: 0.6513 | Val Acc: 0.6881 | Train loss: 0.5926 Val Loss: 0.4513\n",
      "Epoch 067 | Fold 2 | Train Acc: 0.6492 | Val Acc: 0.6947 | Train loss: 0.5850 Val Loss: 0.4484\n",
      "Epoch 068 | Fold 2 | Train Acc: 0.6683 | Val Acc: 0.7013 | Train loss: 0.5821 Val Loss: 0.4575\n",
      "Epoch 069 | Fold 2 | Train Acc: 0.6577 | Val Acc: 0.6947 | Train loss: 0.5744 Val Loss: 0.4481\n",
      "Epoch 070 | Fold 2 | Train Acc: 0.6741 | Val Acc: 0.6903 | Train loss: 0.5825 Val Loss: 0.4456\n",
      "Epoch 071 | Fold 2 | Train Acc: 0.6667 | Val Acc: 0.6947 | Train loss: 0.5794 Val Loss: 0.4427\n",
      "Epoch 072 | Fold 2 | Train Acc: 0.6566 | Val Acc: 0.7013 | Train loss: 0.5666 Val Loss: 0.4443\n",
      "Epoch 073 | Fold 2 | Train Acc: 0.6735 | Val Acc: 0.7102 | Train loss: 0.5881 Val Loss: 0.4446\n",
      "Epoch 074 | Fold 2 | Train Acc: 0.6656 | Val Acc: 0.6903 | Train loss: 0.5612 Val Loss: 0.4455\n",
      "Epoch 075 | Fold 2 | Train Acc: 0.6540 | Val Acc: 0.6947 | Train loss: 0.5882 Val Loss: 0.4475\n",
      "Epoch 076 | Fold 2 | Train Acc: 0.6646 | Val Acc: 0.7102 | Train loss: 0.5859 Val Loss: 0.4421\n",
      "Epoch 077 | Fold 2 | Train Acc: 0.6788 | Val Acc: 0.7124 | Train loss: 0.5616 Val Loss: 0.4423\n",
      "Epoch 078 | Fold 2 | Train Acc: 0.6640 | Val Acc: 0.7190 | Train loss: 0.5605 Val Loss: 0.4406\n",
      "Epoch 079 | Fold 2 | Train Acc: 0.6741 | Val Acc: 0.7124 | Train loss: 0.5746 Val Loss: 0.4427\n",
      "Epoch 080 | Fold 2 | Train Acc: 0.6857 | Val Acc: 0.7212 | Train loss: 0.5417 Val Loss: 0.4355\n",
      "Epoch 081 | Fold 2 | Train Acc: 0.6677 | Val Acc: 0.7146 | Train loss: 0.5594 Val Loss: 0.4315\n",
      "Epoch 082 | Fold 2 | Train Acc: 0.6704 | Val Acc: 0.7190 | Train loss: 0.5647 Val Loss: 0.4389\n",
      "Epoch 083 | Fold 2 | Train Acc: 0.6799 | Val Acc: 0.7235 | Train loss: 0.5631 Val Loss: 0.4421\n",
      "Epoch 084 | Fold 2 | Train Acc: 0.6714 | Val Acc: 0.7080 | Train loss: 0.5691 Val Loss: 0.4368\n",
      "Epoch 085 | Fold 2 | Train Acc: 0.6746 | Val Acc: 0.7035 | Train loss: 0.5574 Val Loss: 0.4383\n",
      "Epoch 086 | Fold 2 | Train Acc: 0.6751 | Val Acc: 0.7102 | Train loss: 0.5517 Val Loss: 0.4303\n",
      "Epoch 087 | Fold 2 | Train Acc: 0.6646 | Val Acc: 0.7168 | Train loss: 0.5615 Val Loss: 0.4340\n",
      "Epoch 088 | Fold 2 | Train Acc: 0.6899 | Val Acc: 0.7190 | Train loss: 0.5513 Val Loss: 0.4376\n",
      "Epoch 089 | Fold 2 | Train Acc: 0.6698 | Val Acc: 0.7235 | Train loss: 0.5716 Val Loss: 0.4337\n",
      "Epoch 090 | Fold 2 | Train Acc: 0.6667 | Val Acc: 0.7168 | Train loss: 0.5685 Val Loss: 0.4361\n",
      "Epoch 091 | Fold 2 | Train Acc: 0.6746 | Val Acc: 0.7235 | Train loss: 0.5713 Val Loss: 0.4323\n",
      "Epoch 092 | Fold 2 | Train Acc: 0.6709 | Val Acc: 0.7190 | Train loss: 0.5805 Val Loss: 0.4292\n",
      "Epoch 093 | Fold 2 | Train Acc: 0.6868 | Val Acc: 0.7168 | Train loss: 0.5471 Val Loss: 0.4284\n",
      "Epoch 094 | Fold 2 | Train Acc: 0.6804 | Val Acc: 0.7124 | Train loss: 0.5555 Val Loss: 0.4266\n",
      "Epoch 095 | Fold 2 | Train Acc: 0.6672 | Val Acc: 0.7190 | Train loss: 0.5689 Val Loss: 0.4299\n",
      "Epoch 096 | Fold 2 | Train Acc: 0.6725 | Val Acc: 0.7257 | Train loss: 0.5704 Val Loss: 0.4321\n",
      "Epoch 097 | Fold 2 | Train Acc: 0.6778 | Val Acc: 0.7168 | Train loss: 0.5650 Val Loss: 0.4336\n",
      "Epoch 098 | Fold 2 | Train Acc: 0.6593 | Val Acc: 0.7146 | Train loss: 0.5771 Val Loss: 0.4278\n",
      "Epoch 099 | Fold 2 | Train Acc: 0.6698 | Val Acc: 0.7168 | Train loss: 0.5584 Val Loss: 0.4283\n",
      "Epoch 100 | Fold 2 | Train Acc: 0.6720 | Val Acc: 0.7235 | Train loss: 0.5678 Val Loss: 0.4330\n",
      "Epoch 101 | Fold 2 | Train Acc: 0.6926 | Val Acc: 0.7212 | Train loss: 0.5413 Val Loss: 0.4340\n",
      "Epoch 102 | Fold 2 | Train Acc: 0.6725 | Val Acc: 0.7168 | Train loss: 0.5516 Val Loss: 0.4286\n",
      "Epoch 103 | Fold 2 | Train Acc: 0.6598 | Val Acc: 0.6947 | Train loss: 0.5553 Val Loss: 0.4237\n",
      "Epoch 104 | Fold 2 | Train Acc: 0.6735 | Val Acc: 0.7168 | Train loss: 0.5526 Val Loss: 0.4241\n",
      "Epoch 105 | Fold 2 | Train Acc: 0.6709 | Val Acc: 0.7235 | Train loss: 0.5533 Val Loss: 0.4297\n",
      "Epoch 106 | Fold 2 | Train Acc: 0.6767 | Val Acc: 0.7212 | Train loss: 0.5490 Val Loss: 0.4264\n",
      "Epoch 107 | Fold 2 | Train Acc: 0.6704 | Val Acc: 0.7235 | Train loss: 0.5593 Val Loss: 0.4245\n",
      "Epoch 108 | Fold 2 | Train Acc: 0.6688 | Val Acc: 0.7190 | Train loss: 0.5593 Val Loss: 0.4272\n",
      "Epoch 109 | Fold 2 | Train Acc: 0.6788 | Val Acc: 0.7190 | Train loss: 0.5462 Val Loss: 0.4245\n",
      "Epoch 110 | Fold 2 | Train Acc: 0.6751 | Val Acc: 0.7235 | Train loss: 0.5360 Val Loss: 0.4222\n",
      "Epoch 111 | Fold 2 | Train Acc: 0.6767 | Val Acc: 0.7235 | Train loss: 0.5483 Val Loss: 0.4267\n",
      "Epoch 112 | Fold 2 | Train Acc: 0.6677 | Val Acc: 0.7124 | Train loss: 0.5696 Val Loss: 0.4169\n",
      "Epoch 113 | Fold 2 | Train Acc: 0.6836 | Val Acc: 0.7190 | Train loss: 0.5485 Val Loss: 0.4309\n",
      "Epoch 114 | Fold 2 | Train Acc: 0.6857 | Val Acc: 0.7168 | Train loss: 0.5515 Val Loss: 0.4257\n",
      "Epoch 115 | Fold 2 | Train Acc: 0.6762 | Val Acc: 0.7168 | Train loss: 0.5521 Val Loss: 0.4205\n",
      "Epoch 116 | Fold 2 | Train Acc: 0.6714 | Val Acc: 0.7190 | Train loss: 0.5463 Val Loss: 0.4186\n",
      "Epoch 117 | Fold 2 | Train Acc: 0.6767 | Val Acc: 0.7212 | Train loss: 0.5515 Val Loss: 0.4235\n",
      "Epoch 118 | Fold 2 | Train Acc: 0.6847 | Val Acc: 0.7190 | Train loss: 0.5468 Val Loss: 0.4259\n",
      "Epoch 119 | Fold 2 | Train Acc: 0.6693 | Val Acc: 0.7212 | Train loss: 0.5369 Val Loss: 0.4186\n",
      "Epoch 120 | Fold 2 | Train Acc: 0.6751 | Val Acc: 0.7235 | Train loss: 0.5272 Val Loss: 0.4226\n",
      "Epoch 121 | Fold 2 | Train Acc: 0.6862 | Val Acc: 0.7190 | Train loss: 0.5486 Val Loss: 0.4148\n",
      "Epoch 122 | Fold 2 | Train Acc: 0.6831 | Val Acc: 0.7212 | Train loss: 0.5392 Val Loss: 0.4166\n",
      "Epoch 123 | Fold 2 | Train Acc: 0.6915 | Val Acc: 0.7190 | Train loss: 0.5462 Val Loss: 0.4218\n",
      "Epoch 124 | Fold 2 | Train Acc: 0.6942 | Val Acc: 0.7190 | Train loss: 0.5404 Val Loss: 0.4161\n",
      "Epoch 125 | Fold 2 | Train Acc: 0.6688 | Val Acc: 0.7146 | Train loss: 0.5463 Val Loss: 0.4151\n",
      "Epoch 126 | Fold 2 | Train Acc: 0.6825 | Val Acc: 0.7235 | Train loss: 0.5400 Val Loss: 0.4218\n",
      "Epoch 127 | Fold 2 | Train Acc: 0.6751 | Val Acc: 0.7190 | Train loss: 0.5483 Val Loss: 0.4251\n",
      "Epoch 128 | Fold 2 | Train Acc: 0.6968 | Val Acc: 0.7257 | Train loss: 0.5379 Val Loss: 0.4202\n",
      "Epoch 129 | Fold 2 | Train Acc: 0.6810 | Val Acc: 0.7146 | Train loss: 0.5427 Val Loss: 0.4119\n",
      "Epoch 130 | Fold 2 | Train Acc: 0.6683 | Val Acc: 0.7146 | Train loss: 0.5409 Val Loss: 0.4176\n",
      "Epoch 131 | Fold 2 | Train Acc: 0.6788 | Val Acc: 0.7190 | Train loss: 0.5415 Val Loss: 0.4200\n",
      "Epoch 132 | Fold 2 | Train Acc: 0.6778 | Val Acc: 0.7212 | Train loss: 0.5373 Val Loss: 0.4171\n",
      "Epoch 133 | Fold 2 | Train Acc: 0.6815 | Val Acc: 0.7168 | Train loss: 0.5640 Val Loss: 0.4196\n",
      "Epoch 134 | Fold 2 | Train Acc: 0.6683 | Val Acc: 0.7146 | Train loss: 0.5444 Val Loss: 0.4145\n",
      "Epoch 135 | Fold 2 | Train Acc: 0.6825 | Val Acc: 0.7190 | Train loss: 0.5310 Val Loss: 0.4153\n",
      "Epoch 136 | Fold 2 | Train Acc: 0.6772 | Val Acc: 0.7168 | Train loss: 0.5396 Val Loss: 0.4178\n",
      "Epoch 137 | Fold 2 | Train Acc: 0.6646 | Val Acc: 0.7168 | Train loss: 0.5448 Val Loss: 0.4201\n",
      "Epoch 138 | Fold 2 | Train Acc: 0.6873 | Val Acc: 0.7190 | Train loss: 0.5305 Val Loss: 0.4182\n",
      "Epoch 139 | Fold 2 | Train Acc: 0.6905 | Val Acc: 0.7168 | Train loss: 0.5411 Val Loss: 0.4126\n",
      "Epoch 140 | Fold 2 | Train Acc: 0.6767 | Val Acc: 0.7168 | Train loss: 0.5389 Val Loss: 0.4163\n",
      "Epoch 141 | Fold 2 | Train Acc: 0.6735 | Val Acc: 0.7146 | Train loss: 0.5389 Val Loss: 0.4168\n",
      "Epoch 142 | Fold 2 | Train Acc: 0.6757 | Val Acc: 0.7146 | Train loss: 0.5421 Val Loss: 0.4174\n",
      "Epoch 143 | Fold 2 | Train Acc: 0.7000 | Val Acc: 0.7190 | Train loss: 0.5182 Val Loss: 0.4164\n",
      "Epoch 144 | Fold 2 | Train Acc: 0.6810 | Val Acc: 0.7146 | Train loss: 0.5325 Val Loss: 0.4146\n",
      "Epoch 145 | Fold 2 | Train Acc: 0.6847 | Val Acc: 0.7168 | Train loss: 0.5488 Val Loss: 0.4154\n",
      "Epoch 146 | Fold 2 | Train Acc: 0.6857 | Val Acc: 0.7146 | Train loss: 0.5281 Val Loss: 0.4137\n",
      "Epoch 147 | Fold 2 | Train Acc: 0.6778 | Val Acc: 0.7146 | Train loss: 0.5358 Val Loss: 0.4153\n",
      "Epoch 148 | Fold 2 | Train Acc: 0.6836 | Val Acc: 0.7168 | Train loss: 0.5500 Val Loss: 0.4199\n",
      "Epoch 149 | Fold 2 | Train Acc: 0.6672 | Val Acc: 0.7168 | Train loss: 0.5385 Val Loss: 0.4173\n",
      "Epoch 150 | Fold 2 | Train Acc: 0.6772 | Val Acc: 0.7146 | Train loss: 0.5396 Val Loss: 0.4155\n",
      "Epoch 151 | Fold 2 | Train Acc: 0.6857 | Val Acc: 0.7168 | Train loss: 0.5296 Val Loss: 0.4170\n",
      "Epoch 152 | Fold 2 | Train Acc: 0.6889 | Val Acc: 0.7168 | Train loss: 0.5441 Val Loss: 0.4159\n",
      "Epoch 153 | Fold 2 | Train Acc: 0.6820 | Val Acc: 0.7146 | Train loss: 0.5435 Val Loss: 0.4131\n",
      "Epoch 154 | Fold 2 | Train Acc: 0.6704 | Val Acc: 0.7168 | Train loss: 0.5416 Val Loss: 0.4139\n",
      "Epoch 155 | Fold 2 | Train Acc: 0.6847 | Val Acc: 0.7146 | Train loss: 0.5278 Val Loss: 0.4125\n",
      "Epoch 156 | Fold 2 | Train Acc: 0.6831 | Val Acc: 0.7146 | Train loss: 0.5378 Val Loss: 0.4148\n",
      "Epoch 157 | Fold 2 | Train Acc: 0.6820 | Val Acc: 0.7168 | Train loss: 0.5495 Val Loss: 0.4172\n",
      "Epoch 158 | Fold 2 | Train Acc: 0.6852 | Val Acc: 0.7146 | Train loss: 0.5286 Val Loss: 0.4158\n",
      "Epoch 159 | Fold 2 | Train Acc: 0.6894 | Val Acc: 0.7168 | Train loss: 0.5381 Val Loss: 0.4137\n",
      " Early stopping at epoch 159 for fold 2\n",
      " Fold 2: Best Val Acc = 0.7146\n",
      "Epoch 001 | Fold 3 | Train Acc: 0.1798 | Val Acc: 0.2077 | Train loss: 1.3843 Val Loss: 1.3806\n",
      "Epoch 002 | Fold 3 | Train Acc: 0.1804 | Val Acc: 0.2271 | Train loss: 1.3785 Val Loss: 1.3774\n",
      "Epoch 003 | Fold 3 | Train Acc: 0.1911 | Val Acc: 0.2518 | Train loss: 1.3699 Val Loss: 1.3744\n",
      "Epoch 004 | Fold 3 | Train Acc: 0.2120 | Val Acc: 0.1989 | Train loss: 1.3628 Val Loss: 1.3708\n",
      "Epoch 005 | Fold 3 | Train Acc: 0.2182 | Val Acc: 0.2324 | Train loss: 1.3536 Val Loss: 1.3664\n",
      "Epoch 006 | Fold 3 | Train Acc: 0.2537 | Val Acc: 0.2324 | Train loss: 1.3403 Val Loss: 1.3599\n",
      "Epoch 007 | Fold 3 | Train Acc: 0.2779 | Val Acc: 0.2940 | Train loss: 1.3236 Val Loss: 1.3508\n",
      "Epoch 008 | Fold 3 | Train Acc: 0.3467 | Val Acc: 0.3539 | Train loss: 1.3016 Val Loss: 1.3375\n",
      "Epoch 009 | Fold 3 | Train Acc: 0.3884 | Val Acc: 0.3627 | Train loss: 1.2697 Val Loss: 1.3158\n",
      "Epoch 010 | Fold 3 | Train Acc: 0.4200 | Val Acc: 0.4067 | Train loss: 1.2222 Val Loss: 1.2879\n",
      "Epoch 011 | Fold 3 | Train Acc: 0.4301 | Val Acc: 0.3768 | Train loss: 1.1746 Val Loss: 1.2561\n",
      "Epoch 012 | Fold 3 | Train Acc: 0.4290 | Val Acc: 0.4173 | Train loss: 1.1197 Val Loss: 1.2209\n",
      "Epoch 013 | Fold 3 | Train Acc: 0.4391 | Val Acc: 0.4137 | Train loss: 1.0700 Val Loss: 1.1880\n",
      "Epoch 014 | Fold 3 | Train Acc: 0.4549 | Val Acc: 0.4313 | Train loss: 1.0058 Val Loss: 1.1543\n",
      "Epoch 015 | Fold 3 | Train Acc: 0.4763 | Val Acc: 0.4401 | Train loss: 0.9519 Val Loss: 1.1161\n",
      "Epoch 016 | Fold 3 | Train Acc: 0.4763 | Val Acc: 0.4366 | Train loss: 0.9012 Val Loss: 1.0688\n",
      "Epoch 017 | Fold 3 | Train Acc: 0.4921 | Val Acc: 0.4947 | Train loss: 0.8304 Val Loss: 1.0259\n",
      "Epoch 018 | Fold 3 | Train Acc: 0.4938 | Val Acc: 0.4718 | Train loss: 0.7890 Val Loss: 0.9807\n",
      "Epoch 019 | Fold 3 | Train Acc: 0.5180 | Val Acc: 0.5546 | Train loss: 0.7802 Val Loss: 0.9489\n",
      "Epoch 020 | Fold 3 | Train Acc: 0.5378 | Val Acc: 0.5511 | Train loss: 0.7314 Val Loss: 0.9241\n",
      "Epoch 021 | Fold 3 | Train Acc: 0.5727 | Val Acc: 0.5845 | Train loss: 0.7055 Val Loss: 0.9085\n",
      "Epoch 022 | Fold 3 | Train Acc: 0.5614 | Val Acc: 0.5669 | Train loss: 0.6873 Val Loss: 0.8892\n",
      "Epoch 023 | Fold 3 | Train Acc: 0.5265 | Val Acc: 0.5229 | Train loss: 0.6916 Val Loss: 0.8646\n",
      "Epoch 024 | Fold 3 | Train Acc: 0.5671 | Val Acc: 0.6092 | Train loss: 0.6910 Val Loss: 0.8646\n",
      "Epoch 025 | Fold 3 | Train Acc: 0.5823 | Val Acc: 0.5775 | Train loss: 0.6590 Val Loss: 0.8455\n",
      "Epoch 026 | Fold 3 | Train Acc: 0.5964 | Val Acc: 0.5986 | Train loss: 0.6497 Val Loss: 0.8342\n",
      "Epoch 027 | Fold 3 | Train Acc: 0.6150 | Val Acc: 0.6215 | Train loss: 0.6349 Val Loss: 0.8299\n",
      "Epoch 028 | Fold 3 | Train Acc: 0.5992 | Val Acc: 0.5722 | Train loss: 0.6240 Val Loss: 0.7906\n",
      "Epoch 029 | Fold 3 | Train Acc: 0.5953 | Val Acc: 0.5827 | Train loss: 0.6301 Val Loss: 0.7993\n",
      "Epoch 030 | Fold 3 | Train Acc: 0.6263 | Val Acc: 0.5863 | Train loss: 0.6157 Val Loss: 0.7825\n",
      "Epoch 031 | Fold 3 | Train Acc: 0.6161 | Val Acc: 0.5845 | Train loss: 0.6078 Val Loss: 0.7687\n",
      "Epoch 032 | Fold 3 | Train Acc: 0.6088 | Val Acc: 0.6039 | Train loss: 0.5973 Val Loss: 0.7615\n",
      "Epoch 033 | Fold 3 | Train Acc: 0.6263 | Val Acc: 0.5951 | Train loss: 0.5982 Val Loss: 0.7543\n",
      "Epoch 034 | Fold 3 | Train Acc: 0.6150 | Val Acc: 0.6056 | Train loss: 0.5896 Val Loss: 0.7527\n",
      "Epoch 035 | Fold 3 | Train Acc: 0.6392 | Val Acc: 0.6268 | Train loss: 0.5794 Val Loss: 0.7442\n",
      "Epoch 036 | Fold 3 | Train Acc: 0.6415 | Val Acc: 0.6232 | Train loss: 0.5710 Val Loss: 0.7456\n",
      "Epoch 037 | Fold 3 | Train Acc: 0.6561 | Val Acc: 0.6092 | Train loss: 0.5489 Val Loss: 0.7410\n",
      "Epoch 038 | Fold 3 | Train Acc: 0.6144 | Val Acc: 0.6232 | Train loss: 0.5834 Val Loss: 0.7331\n",
      "Epoch 039 | Fold 3 | Train Acc: 0.6556 | Val Acc: 0.6127 | Train loss: 0.5735 Val Loss: 0.7322\n",
      "Epoch 040 | Fold 3 | Train Acc: 0.6342 | Val Acc: 0.6356 | Train loss: 0.5662 Val Loss: 0.7117\n",
      "Epoch 041 | Fold 3 | Train Acc: 0.6392 | Val Acc: 0.6285 | Train loss: 0.5639 Val Loss: 0.7284\n",
      "Epoch 042 | Fold 3 | Train Acc: 0.6646 | Val Acc: 0.6320 | Train loss: 0.5554 Val Loss: 0.7241\n",
      "Epoch 043 | Fold 3 | Train Acc: 0.6646 | Val Acc: 0.6514 | Train loss: 0.5433 Val Loss: 0.7226\n",
      "Epoch 044 | Fold 3 | Train Acc: 0.6691 | Val Acc: 0.6602 | Train loss: 0.5473 Val Loss: 0.7322\n",
      "Epoch 045 | Fold 3 | Train Acc: 0.6888 | Val Acc: 0.6602 | Train loss: 0.5475 Val Loss: 0.7100\n",
      "Epoch 046 | Fold 3 | Train Acc: 0.6708 | Val Acc: 0.6673 | Train loss: 0.5404 Val Loss: 0.7121\n",
      "Epoch 047 | Fold 3 | Train Acc: 0.6437 | Val Acc: 0.6602 | Train loss: 0.5416 Val Loss: 0.6914\n",
      "Epoch 048 | Fold 3 | Train Acc: 0.6623 | Val Acc: 0.6708 | Train loss: 0.5403 Val Loss: 0.7053\n",
      "Epoch 049 | Fold 3 | Train Acc: 0.6838 | Val Acc: 0.6743 | Train loss: 0.5392 Val Loss: 0.7039\n",
      "Epoch 050 | Fold 3 | Train Acc: 0.6663 | Val Acc: 0.6708 | Train loss: 0.5309 Val Loss: 0.7025\n",
      "Epoch 051 | Fold 3 | Train Acc: 0.6759 | Val Acc: 0.6637 | Train loss: 0.5277 Val Loss: 0.7149\n",
      "Epoch 052 | Fold 3 | Train Acc: 0.6685 | Val Acc: 0.6690 | Train loss: 0.5393 Val Loss: 0.7007\n",
      "Epoch 053 | Fold 3 | Train Acc: 0.6928 | Val Acc: 0.6831 | Train loss: 0.4992 Val Loss: 0.7083\n",
      "Epoch 054 | Fold 3 | Train Acc: 0.6714 | Val Acc: 0.6690 | Train loss: 0.5433 Val Loss: 0.7027\n",
      "Epoch 055 | Fold 3 | Train Acc: 0.6759 | Val Acc: 0.6849 | Train loss: 0.5345 Val Loss: 0.6970\n",
      "Epoch 056 | Fold 3 | Train Acc: 0.6821 | Val Acc: 0.7007 | Train loss: 0.5207 Val Loss: 0.7000\n",
      "Epoch 057 | Fold 3 | Train Acc: 0.6911 | Val Acc: 0.6725 | Train loss: 0.5218 Val Loss: 0.7076\n",
      "Epoch 058 | Fold 3 | Train Acc: 0.6860 | Val Acc: 0.6725 | Train loss: 0.5345 Val Loss: 0.7037\n",
      "Epoch 059 | Fold 3 | Train Acc: 0.6939 | Val Acc: 0.6725 | Train loss: 0.5017 Val Loss: 0.7018\n",
      "Epoch 060 | Fold 3 | Train Acc: 0.6894 | Val Acc: 0.6813 | Train loss: 0.5191 Val Loss: 0.6924\n",
      "Epoch 061 | Fold 3 | Train Acc: 0.6719 | Val Acc: 0.6954 | Train loss: 0.5217 Val Loss: 0.6879\n",
      "Epoch 062 | Fold 3 | Train Acc: 0.6663 | Val Acc: 0.6989 | Train loss: 0.5246 Val Loss: 0.6949\n",
      "Epoch 063 | Fold 3 | Train Acc: 0.6708 | Val Acc: 0.6901 | Train loss: 0.5159 Val Loss: 0.6816\n",
      "Epoch 064 | Fold 3 | Train Acc: 0.6871 | Val Acc: 0.7007 | Train loss: 0.5147 Val Loss: 0.6858\n",
      "Epoch 065 | Fold 3 | Train Acc: 0.6708 | Val Acc: 0.6989 | Train loss: 0.5255 Val Loss: 0.6907\n",
      "Epoch 066 | Fold 3 | Train Acc: 0.6821 | Val Acc: 0.6954 | Train loss: 0.5246 Val Loss: 0.6967\n",
      "Epoch 067 | Fold 3 | Train Acc: 0.6900 | Val Acc: 0.6972 | Train loss: 0.5295 Val Loss: 0.6948\n",
      "Epoch 068 | Fold 3 | Train Acc: 0.6967 | Val Acc: 0.7007 | Train loss: 0.5157 Val Loss: 0.6899\n",
      "Epoch 069 | Fold 3 | Train Acc: 0.6883 | Val Acc: 0.6972 | Train loss: 0.5217 Val Loss: 0.6936\n",
      "Epoch 070 | Fold 3 | Train Acc: 0.6832 | Val Acc: 0.6937 | Train loss: 0.5185 Val Loss: 0.6841\n",
      "Epoch 071 | Fold 3 | Train Acc: 0.6905 | Val Acc: 0.7025 | Train loss: 0.5160 Val Loss: 0.6890\n",
      "Epoch 072 | Fold 3 | Train Acc: 0.6900 | Val Acc: 0.7007 | Train loss: 0.4928 Val Loss: 0.6927\n",
      "Epoch 073 | Fold 3 | Train Acc: 0.6809 | Val Acc: 0.7007 | Train loss: 0.5134 Val Loss: 0.6887\n",
      "Epoch 074 | Fold 3 | Train Acc: 0.6843 | Val Acc: 0.7007 | Train loss: 0.5248 Val Loss: 0.6941\n",
      "Epoch 075 | Fold 3 | Train Acc: 0.6804 | Val Acc: 0.7007 | Train loss: 0.5144 Val Loss: 0.6889\n",
      "Epoch 076 | Fold 3 | Train Acc: 0.6866 | Val Acc: 0.7007 | Train loss: 0.5206 Val Loss: 0.6912\n",
      "Epoch 077 | Fold 3 | Train Acc: 0.6917 | Val Acc: 0.6989 | Train loss: 0.5038 Val Loss: 0.6902\n",
      "Epoch 078 | Fold 3 | Train Acc: 0.6871 | Val Acc: 0.6989 | Train loss: 0.5095 Val Loss: 0.6935\n",
      "Epoch 079 | Fold 3 | Train Acc: 0.6956 | Val Acc: 0.7007 | Train loss: 0.4940 Val Loss: 0.6873\n",
      "Epoch 080 | Fold 3 | Train Acc: 0.6747 | Val Acc: 0.7025 | Train loss: 0.5041 Val Loss: 0.6844\n",
      "Epoch 081 | Fold 3 | Train Acc: 0.6843 | Val Acc: 0.7007 | Train loss: 0.5194 Val Loss: 0.6881\n",
      "Epoch 082 | Fold 3 | Train Acc: 0.6928 | Val Acc: 0.7007 | Train loss: 0.5067 Val Loss: 0.6911\n",
      "Epoch 083 | Fold 3 | Train Acc: 0.6905 | Val Acc: 0.7007 | Train loss: 0.4951 Val Loss: 0.6899\n",
      "Epoch 084 | Fold 3 | Train Acc: 0.6826 | Val Acc: 0.6989 | Train loss: 0.5243 Val Loss: 0.6846\n",
      "Epoch 085 | Fold 3 | Train Acc: 0.6950 | Val Acc: 0.7007 | Train loss: 0.4934 Val Loss: 0.6838\n",
      "Epoch 086 | Fold 3 | Train Acc: 0.6939 | Val Acc: 0.7007 | Train loss: 0.5125 Val Loss: 0.6851\n",
      "Epoch 087 | Fold 3 | Train Acc: 0.6843 | Val Acc: 0.7007 | Train loss: 0.5124 Val Loss: 0.6864\n",
      "Epoch 088 | Fold 3 | Train Acc: 0.6832 | Val Acc: 0.7007 | Train loss: 0.5225 Val Loss: 0.6876\n",
      "Epoch 089 | Fold 3 | Train Acc: 0.6894 | Val Acc: 0.7007 | Train loss: 0.5171 Val Loss: 0.6865\n",
      "Epoch 090 | Fold 3 | Train Acc: 0.6911 | Val Acc: 0.7025 | Train loss: 0.5084 Val Loss: 0.6838\n",
      "Epoch 091 | Fold 3 | Train Acc: 0.6866 | Val Acc: 0.7007 | Train loss: 0.4982 Val Loss: 0.6874\n",
      "Epoch 092 | Fold 3 | Train Acc: 0.6838 | Val Acc: 0.7025 | Train loss: 0.5106 Val Loss: 0.6849\n",
      "Epoch 093 | Fold 3 | Train Acc: 0.6933 | Val Acc: 0.7007 | Train loss: 0.5128 Val Loss: 0.6856\n",
      " Early stopping at epoch 93 for fold 3\n",
      " Fold 3: Best Val Acc = 0.6901\n",
      "Epoch 001 | Fold 4 | Train Acc: 0.3304 | Val Acc: 0.2991 | Train loss: 1.3912 Val Loss: 1.3814\n",
      "Epoch 002 | Fold 4 | Train Acc: 0.3230 | Val Acc: 0.3447 | Train loss: 1.3829 Val Loss: 1.3755\n",
      "Epoch 003 | Fold 4 | Train Acc: 0.3057 | Val Acc: 0.2763 | Train loss: 1.3758 Val Loss: 1.3696\n",
      "Epoch 004 | Fold 4 | Train Acc: 0.2747 | Val Acc: 0.2603 | Train loss: 1.3684 Val Loss: 1.3638\n",
      "Epoch 005 | Fold 4 | Train Acc: 0.2621 | Val Acc: 0.3037 | Train loss: 1.3630 Val Loss: 1.3568\n",
      "Epoch 006 | Fold 4 | Train Acc: 0.2862 | Val Acc: 0.3516 | Train loss: 1.3536 Val Loss: 1.3476\n",
      "Epoch 007 | Fold 4 | Train Acc: 0.3388 | Val Acc: 0.4155 | Train loss: 1.3439 Val Loss: 1.3351\n",
      "Epoch 008 | Fold 4 | Train Acc: 0.3739 | Val Acc: 0.4384 | Train loss: 1.3300 Val Loss: 1.3184\n",
      "Epoch 009 | Fold 4 | Train Acc: 0.3908 | Val Acc: 0.4703 | Train loss: 1.3108 Val Loss: 1.2900\n",
      "Epoch 010 | Fold 4 | Train Acc: 0.4023 | Val Acc: 0.4840 | Train loss: 1.2829 Val Loss: 1.2490\n",
      "Epoch 011 | Fold 4 | Train Acc: 0.4238 | Val Acc: 0.4977 | Train loss: 1.2464 Val Loss: 1.1962\n",
      "Epoch 012 | Fold 4 | Train Acc: 0.4464 | Val Acc: 0.5046 | Train loss: 1.1999 Val Loss: 1.1409\n",
      "Epoch 013 | Fold 4 | Train Acc: 0.4522 | Val Acc: 0.5068 | Train loss: 1.1546 Val Loss: 1.0893\n",
      "Epoch 014 | Fold 4 | Train Acc: 0.4606 | Val Acc: 0.4749 | Train loss: 1.1124 Val Loss: 1.0258\n",
      "Epoch 015 | Fold 4 | Train Acc: 0.4538 | Val Acc: 0.4795 | Train loss: 1.0495 Val Loss: 0.9535\n",
      "Epoch 016 | Fold 4 | Train Acc: 0.4454 | Val Acc: 0.4795 | Train loss: 0.9883 Val Loss: 0.8598\n",
      "Epoch 017 | Fold 4 | Train Acc: 0.4496 | Val Acc: 0.4932 | Train loss: 0.9262 Val Loss: 0.8032\n",
      "Epoch 018 | Fold 4 | Train Acc: 0.4869 | Val Acc: 0.5023 | Train loss: 0.8663 Val Loss: 0.7607\n",
      "Epoch 019 | Fold 4 | Train Acc: 0.4921 | Val Acc: 0.5091 | Train loss: 0.8435 Val Loss: 0.7280\n",
      "Epoch 020 | Fold 4 | Train Acc: 0.5063 | Val Acc: 0.5320 | Train loss: 0.8153 Val Loss: 0.7061\n",
      "Epoch 021 | Fold 4 | Train Acc: 0.5305 | Val Acc: 0.5639 | Train loss: 0.8001 Val Loss: 0.6865\n",
      "Epoch 022 | Fold 4 | Train Acc: 0.5499 | Val Acc: 0.5548 | Train loss: 0.7752 Val Loss: 0.6715\n",
      "Epoch 023 | Fold 4 | Train Acc: 0.5315 | Val Acc: 0.5548 | Train loss: 0.7650 Val Loss: 0.6575\n",
      "Epoch 024 | Fold 4 | Train Acc: 0.5567 | Val Acc: 0.5662 | Train loss: 0.7361 Val Loss: 0.6468\n",
      "Epoch 025 | Fold 4 | Train Acc: 0.5562 | Val Acc: 0.5708 | Train loss: 0.7310 Val Loss: 0.6334\n",
      "Epoch 026 | Fold 4 | Train Acc: 0.5499 | Val Acc: 0.5571 | Train loss: 0.7278 Val Loss: 0.6247\n",
      "Epoch 027 | Fold 4 | Train Acc: 0.5578 | Val Acc: 0.5571 | Train loss: 0.7103 Val Loss: 0.6181\n",
      "Epoch 028 | Fold 4 | Train Acc: 0.5572 | Val Acc: 0.5708 | Train loss: 0.6962 Val Loss: 0.6098\n",
      "Epoch 029 | Fold 4 | Train Acc: 0.5572 | Val Acc: 0.5616 | Train loss: 0.6888 Val Loss: 0.6013\n",
      "Epoch 030 | Fold 4 | Train Acc: 0.5593 | Val Acc: 0.5639 | Train loss: 0.6947 Val Loss: 0.5991\n",
      "Epoch 031 | Fold 4 | Train Acc: 0.5562 | Val Acc: 0.5685 | Train loss: 0.6722 Val Loss: 0.5881\n",
      "Epoch 032 | Fold 4 | Train Acc: 0.5809 | Val Acc: 0.5639 | Train loss: 0.6643 Val Loss: 0.5822\n",
      "Epoch 033 | Fold 4 | Train Acc: 0.5772 | Val Acc: 0.5639 | Train loss: 0.6582 Val Loss: 0.5793\n",
      "Epoch 034 | Fold 4 | Train Acc: 0.5672 | Val Acc: 0.5639 | Train loss: 0.6539 Val Loss: 0.5754\n",
      "Epoch 035 | Fold 4 | Train Acc: 0.5814 | Val Acc: 0.5731 | Train loss: 0.6510 Val Loss: 0.5690\n",
      "Epoch 036 | Fold 4 | Train Acc: 0.5835 | Val Acc: 0.5639 | Train loss: 0.6410 Val Loss: 0.5738\n",
      "Epoch 037 | Fold 4 | Train Acc: 0.5809 | Val Acc: 0.5639 | Train loss: 0.6371 Val Loss: 0.5631\n",
      "Epoch 038 | Fold 4 | Train Acc: 0.5893 | Val Acc: 0.5685 | Train loss: 0.6254 Val Loss: 0.5553\n",
      "Epoch 039 | Fold 4 | Train Acc: 0.5898 | Val Acc: 0.5662 | Train loss: 0.6092 Val Loss: 0.5596\n",
      "Epoch 040 | Fold 4 | Train Acc: 0.5851 | Val Acc: 0.5685 | Train loss: 0.6235 Val Loss: 0.5559\n",
      "Epoch 041 | Fold 4 | Train Acc: 0.5882 | Val Acc: 0.5662 | Train loss: 0.6234 Val Loss: 0.5555\n",
      "Epoch 042 | Fold 4 | Train Acc: 0.5851 | Val Acc: 0.5662 | Train loss: 0.6092 Val Loss: 0.5531\n",
      "Epoch 043 | Fold 4 | Train Acc: 0.5893 | Val Acc: 0.5639 | Train loss: 0.6277 Val Loss: 0.5514\n",
      "Epoch 044 | Fold 4 | Train Acc: 0.5987 | Val Acc: 0.5639 | Train loss: 0.5978 Val Loss: 0.5516\n",
      "Epoch 045 | Fold 4 | Train Acc: 0.5835 | Val Acc: 0.5662 | Train loss: 0.6175 Val Loss: 0.5476\n",
      "Epoch 046 | Fold 4 | Train Acc: 0.5861 | Val Acc: 0.6073 | Train loss: 0.5939 Val Loss: 0.5441\n",
      "Epoch 047 | Fold 4 | Train Acc: 0.5830 | Val Acc: 0.6005 | Train loss: 0.6146 Val Loss: 0.5417\n",
      "Epoch 048 | Fold 4 | Train Acc: 0.5982 | Val Acc: 0.5639 | Train loss: 0.6064 Val Loss: 0.5438\n",
      "Epoch 049 | Fold 4 | Train Acc: 0.5987 | Val Acc: 0.5662 | Train loss: 0.5933 Val Loss: 0.5409\n",
      "Epoch 050 | Fold 4 | Train Acc: 0.5846 | Val Acc: 0.6073 | Train loss: 0.6146 Val Loss: 0.5356\n",
      "Epoch 051 | Fold 4 | Train Acc: 0.5830 | Val Acc: 0.5639 | Train loss: 0.6060 Val Loss: 0.5480\n",
      "Epoch 052 | Fold 4 | Train Acc: 0.6040 | Val Acc: 0.5662 | Train loss: 0.5852 Val Loss: 0.5448\n",
      "Epoch 053 | Fold 4 | Train Acc: 0.6035 | Val Acc: 0.6187 | Train loss: 0.5963 Val Loss: 0.5307\n",
      "Epoch 054 | Fold 4 | Train Acc: 0.6050 | Val Acc: 0.5616 | Train loss: 0.5979 Val Loss: 0.5497\n",
      "Epoch 055 | Fold 4 | Train Acc: 0.5961 | Val Acc: 0.6210 | Train loss: 0.5859 Val Loss: 0.5363\n",
      "Epoch 056 | Fold 4 | Train Acc: 0.6066 | Val Acc: 0.5845 | Train loss: 0.5971 Val Loss: 0.5373\n",
      "Epoch 057 | Fold 4 | Train Acc: 0.6092 | Val Acc: 0.6119 | Train loss: 0.5845 Val Loss: 0.5307\n",
      "Epoch 058 | Fold 4 | Train Acc: 0.6003 | Val Acc: 0.6073 | Train loss: 0.5869 Val Loss: 0.5305\n",
      "Epoch 059 | Fold 4 | Train Acc: 0.6029 | Val Acc: 0.6096 | Train loss: 0.5802 Val Loss: 0.5237\n",
      "Epoch 060 | Fold 4 | Train Acc: 0.6150 | Val Acc: 0.6187 | Train loss: 0.5680 Val Loss: 0.5226\n",
      "Epoch 061 | Fold 4 | Train Acc: 0.6140 | Val Acc: 0.6119 | Train loss: 0.5757 Val Loss: 0.5237\n",
      "Epoch 062 | Fold 4 | Train Acc: 0.6092 | Val Acc: 0.6096 | Train loss: 0.5893 Val Loss: 0.5264\n",
      "Epoch 063 | Fold 4 | Train Acc: 0.6008 | Val Acc: 0.6187 | Train loss: 0.5908 Val Loss: 0.5212\n",
      "Epoch 064 | Fold 4 | Train Acc: 0.6171 | Val Acc: 0.6096 | Train loss: 0.5767 Val Loss: 0.5278\n",
      "Epoch 065 | Fold 4 | Train Acc: 0.5982 | Val Acc: 0.6073 | Train loss: 0.5785 Val Loss: 0.5251\n",
      "Epoch 066 | Fold 4 | Train Acc: 0.5982 | Val Acc: 0.6187 | Train loss: 0.5892 Val Loss: 0.5172\n",
      "Epoch 067 | Fold 4 | Train Acc: 0.6192 | Val Acc: 0.6301 | Train loss: 0.5727 Val Loss: 0.5337\n",
      "Epoch 068 | Fold 4 | Train Acc: 0.6145 | Val Acc: 0.6187 | Train loss: 0.5585 Val Loss: 0.5192\n",
      "Epoch 069 | Fold 4 | Train Acc: 0.6239 | Val Acc: 0.6438 | Train loss: 0.5658 Val Loss: 0.5286\n",
      "Epoch 070 | Fold 4 | Train Acc: 0.6213 | Val Acc: 0.6187 | Train loss: 0.5725 Val Loss: 0.5162\n",
      "Epoch 071 | Fold 4 | Train Acc: 0.6166 | Val Acc: 0.6210 | Train loss: 0.5643 Val Loss: 0.5125\n",
      "Epoch 072 | Fold 4 | Train Acc: 0.6271 | Val Acc: 0.6324 | Train loss: 0.5721 Val Loss: 0.5228\n",
      "Epoch 073 | Fold 4 | Train Acc: 0.6329 | Val Acc: 0.6393 | Train loss: 0.5563 Val Loss: 0.5176\n",
      "Epoch 074 | Fold 4 | Train Acc: 0.6192 | Val Acc: 0.6256 | Train loss: 0.5595 Val Loss: 0.5080\n",
      "Epoch 075 | Fold 4 | Train Acc: 0.6176 | Val Acc: 0.6164 | Train loss: 0.5671 Val Loss: 0.5125\n",
      "Epoch 076 | Fold 4 | Train Acc: 0.6303 | Val Acc: 0.6233 | Train loss: 0.5588 Val Loss: 0.5160\n",
      "Epoch 077 | Fold 4 | Train Acc: 0.6224 | Val Acc: 0.6393 | Train loss: 0.5639 Val Loss: 0.5128\n",
      "Epoch 078 | Fold 4 | Train Acc: 0.6313 | Val Acc: 0.6575 | Train loss: 0.5749 Val Loss: 0.5084\n",
      "Epoch 079 | Fold 4 | Train Acc: 0.6355 | Val Acc: 0.6301 | Train loss: 0.5642 Val Loss: 0.5057\n",
      "Epoch 080 | Fold 4 | Train Acc: 0.6350 | Val Acc: 0.6233 | Train loss: 0.5674 Val Loss: 0.5132\n",
      "Epoch 081 | Fold 4 | Train Acc: 0.6271 | Val Acc: 0.6324 | Train loss: 0.5524 Val Loss: 0.5082\n",
      "Epoch 082 | Fold 4 | Train Acc: 0.6434 | Val Acc: 0.6347 | Train loss: 0.5553 Val Loss: 0.5104\n",
      "Epoch 083 | Fold 4 | Train Acc: 0.6402 | Val Acc: 0.6393 | Train loss: 0.5456 Val Loss: 0.5062\n",
      "Epoch 084 | Fold 4 | Train Acc: 0.6597 | Val Acc: 0.6347 | Train loss: 0.5368 Val Loss: 0.5069\n",
      "Epoch 085 | Fold 4 | Train Acc: 0.6444 | Val Acc: 0.6347 | Train loss: 0.5454 Val Loss: 0.5026\n",
      "Epoch 086 | Fold 4 | Train Acc: 0.6460 | Val Acc: 0.6347 | Train loss: 0.5487 Val Loss: 0.5046\n",
      "Epoch 087 | Fold 4 | Train Acc: 0.6408 | Val Acc: 0.6553 | Train loss: 0.5522 Val Loss: 0.5049\n",
      "Epoch 088 | Fold 4 | Train Acc: 0.6523 | Val Acc: 0.6279 | Train loss: 0.5447 Val Loss: 0.5097\n",
      "Epoch 089 | Fold 4 | Train Acc: 0.6381 | Val Acc: 0.6347 | Train loss: 0.5470 Val Loss: 0.5018\n",
      "Epoch 090 | Fold 4 | Train Acc: 0.6492 | Val Acc: 0.6416 | Train loss: 0.5510 Val Loss: 0.5038\n",
      "Epoch 091 | Fold 4 | Train Acc: 0.6539 | Val Acc: 0.6575 | Train loss: 0.5317 Val Loss: 0.4913\n",
      "Epoch 092 | Fold 4 | Train Acc: 0.6539 | Val Acc: 0.6575 | Train loss: 0.5463 Val Loss: 0.4923\n",
      "Epoch 093 | Fold 4 | Train Acc: 0.6471 | Val Acc: 0.6279 | Train loss: 0.5629 Val Loss: 0.4980\n",
      "Epoch 094 | Fold 4 | Train Acc: 0.6465 | Val Acc: 0.6461 | Train loss: 0.5401 Val Loss: 0.4958\n"
     ]
    },
    {
     "name": "stderr",
     "output_type": "stream",
     "text": [
      "c:\\Users\\User\\anaconda3\\envs\\ENVGAT\\lib\\site-packages\\optuna\\trial\\_trial.py:501: UserWarning: The reported value is ignored because this `step` 94 is already reported.\n",
      "  warnings.warn(\n"
     ]
    },
    {
     "name": "stdout",
     "output_type": "stream",
     "text": [
      "Epoch 095 | Fold 4 | Train Acc: 0.6570 | Val Acc: 0.6461 | Train loss: 0.5353 Val Loss: 0.4981\n"
     ]
    },
    {
     "name": "stderr",
     "output_type": "stream",
     "text": [
      "c:\\Users\\User\\anaconda3\\envs\\ENVGAT\\lib\\site-packages\\optuna\\trial\\_trial.py:501: UserWarning: The reported value is ignored because this `step` 95 is already reported.\n",
      "  warnings.warn(\n"
     ]
    },
    {
     "name": "stdout",
     "output_type": "stream",
     "text": [
      "Epoch 096 | Fold 4 | Train Acc: 0.6492 | Val Acc: 0.6507 | Train loss: 0.5444 Val Loss: 0.4980\n"
     ]
    },
    {
     "name": "stderr",
     "output_type": "stream",
     "text": [
      "c:\\Users\\User\\anaconda3\\envs\\ENVGAT\\lib\\site-packages\\optuna\\trial\\_trial.py:501: UserWarning: The reported value is ignored because this `step` 96 is already reported.\n",
      "  warnings.warn(\n"
     ]
    },
    {
     "name": "stdout",
     "output_type": "stream",
     "text": [
      "Epoch 097 | Fold 4 | Train Acc: 0.6654 | Val Acc: 0.6689 | Train loss: 0.5305 Val Loss: 0.4912\n"
     ]
    },
    {
     "name": "stderr",
     "output_type": "stream",
     "text": [
      "c:\\Users\\User\\anaconda3\\envs\\ENVGAT\\lib\\site-packages\\optuna\\trial\\_trial.py:501: UserWarning: The reported value is ignored because this `step` 97 is already reported.\n",
      "  warnings.warn(\n"
     ]
    },
    {
     "name": "stdout",
     "output_type": "stream",
     "text": [
      "Epoch 098 | Fold 4 | Train Acc: 0.6686 | Val Acc: 0.6689 | Train loss: 0.5454 Val Loss: 0.4922\n"
     ]
    },
    {
     "name": "stderr",
     "output_type": "stream",
     "text": [
      "c:\\Users\\User\\anaconda3\\envs\\ENVGAT\\lib\\site-packages\\optuna\\trial\\_trial.py:501: UserWarning: The reported value is ignored because this `step` 98 is already reported.\n",
      "  warnings.warn(\n"
     ]
    },
    {
     "name": "stdout",
     "output_type": "stream",
     "text": [
      "Epoch 099 | Fold 4 | Train Acc: 0.6565 | Val Acc: 0.6507 | Train loss: 0.5351 Val Loss: 0.4949\n"
     ]
    },
    {
     "name": "stderr",
     "output_type": "stream",
     "text": [
      "c:\\Users\\User\\anaconda3\\envs\\ENVGAT\\lib\\site-packages\\optuna\\trial\\_trial.py:501: UserWarning: The reported value is ignored because this `step` 99 is already reported.\n",
      "  warnings.warn(\n"
     ]
    },
    {
     "name": "stdout",
     "output_type": "stream",
     "text": [
      "Epoch 100 | Fold 4 | Train Acc: 0.6555 | Val Acc: 0.6758 | Train loss: 0.5268 Val Loss: 0.4908\n"
     ]
    },
    {
     "name": "stderr",
     "output_type": "stream",
     "text": [
      "c:\\Users\\User\\anaconda3\\envs\\ENVGAT\\lib\\site-packages\\optuna\\trial\\_trial.py:501: UserWarning: The reported value is ignored because this `step` 100 is already reported.\n",
      "  warnings.warn(\n"
     ]
    },
    {
     "name": "stdout",
     "output_type": "stream",
     "text": [
      "Epoch 101 | Fold 4 | Train Acc: 0.6696 | Val Acc: 0.6484 | Train loss: 0.5271 Val Loss: 0.4971\n"
     ]
    },
    {
     "name": "stderr",
     "output_type": "stream",
     "text": [
      "c:\\Users\\User\\anaconda3\\envs\\ENVGAT\\lib\\site-packages\\optuna\\trial\\_trial.py:501: UserWarning: The reported value is ignored because this `step` 101 is already reported.\n",
      "  warnings.warn(\n"
     ]
    },
    {
     "name": "stdout",
     "output_type": "stream",
     "text": [
      "Epoch 102 | Fold 4 | Train Acc: 0.6597 | Val Acc: 0.6644 | Train loss: 0.5427 Val Loss: 0.4955\n"
     ]
    },
    {
     "name": "stderr",
     "output_type": "stream",
     "text": [
      "c:\\Users\\User\\anaconda3\\envs\\ENVGAT\\lib\\site-packages\\optuna\\trial\\_trial.py:501: UserWarning: The reported value is ignored because this `step` 102 is already reported.\n",
      "  warnings.warn(\n"
     ]
    },
    {
     "name": "stdout",
     "output_type": "stream",
     "text": [
      "Epoch 103 | Fold 4 | Train Acc: 0.6649 | Val Acc: 0.6735 | Train loss: 0.5301 Val Loss: 0.4904\n"
     ]
    },
    {
     "name": "stderr",
     "output_type": "stream",
     "text": [
      "c:\\Users\\User\\anaconda3\\envs\\ENVGAT\\lib\\site-packages\\optuna\\trial\\_trial.py:501: UserWarning: The reported value is ignored because this `step` 103 is already reported.\n",
      "  warnings.warn(\n"
     ]
    },
    {
     "name": "stdout",
     "output_type": "stream",
     "text": [
      "Epoch 104 | Fold 4 | Train Acc: 0.6602 | Val Acc: 0.6370 | Train loss: 0.5426 Val Loss: 0.5035\n"
     ]
    },
    {
     "name": "stderr",
     "output_type": "stream",
     "text": [
      "c:\\Users\\User\\anaconda3\\envs\\ENVGAT\\lib\\site-packages\\optuna\\trial\\_trial.py:501: UserWarning: The reported value is ignored because this `step` 104 is already reported.\n",
      "  warnings.warn(\n"
     ]
    },
    {
     "name": "stdout",
     "output_type": "stream",
     "text": [
      "Epoch 105 | Fold 4 | Train Acc: 0.6607 | Val Acc: 0.6507 | Train loss: 0.5256 Val Loss: 0.4924\n"
     ]
    },
    {
     "name": "stderr",
     "output_type": "stream",
     "text": [
      "c:\\Users\\User\\anaconda3\\envs\\ENVGAT\\lib\\site-packages\\optuna\\trial\\_trial.py:501: UserWarning: The reported value is ignored because this `step` 105 is already reported.\n",
      "  warnings.warn(\n"
     ]
    },
    {
     "name": "stdout",
     "output_type": "stream",
     "text": [
      "Epoch 106 | Fold 4 | Train Acc: 0.6539 | Val Acc: 0.6758 | Train loss: 0.5503 Val Loss: 0.4890\n"
     ]
    },
    {
     "name": "stderr",
     "output_type": "stream",
     "text": [
      "c:\\Users\\User\\anaconda3\\envs\\ENVGAT\\lib\\site-packages\\optuna\\trial\\_trial.py:501: UserWarning: The reported value is ignored because this `step` 106 is already reported.\n",
      "  warnings.warn(\n"
     ]
    },
    {
     "name": "stdout",
     "output_type": "stream",
     "text": [
      "Epoch 107 | Fold 4 | Train Acc: 0.6644 | Val Acc: 0.6644 | Train loss: 0.5186 Val Loss: 0.4897\n"
     ]
    },
    {
     "name": "stderr",
     "output_type": "stream",
     "text": [
      "c:\\Users\\User\\anaconda3\\envs\\ENVGAT\\lib\\site-packages\\optuna\\trial\\_trial.py:501: UserWarning: The reported value is ignored because this `step` 107 is already reported.\n",
      "  warnings.warn(\n"
     ]
    },
    {
     "name": "stdout",
     "output_type": "stream",
     "text": [
      "Epoch 108 | Fold 4 | Train Acc: 0.6707 | Val Acc: 0.6735 | Train loss: 0.5246 Val Loss: 0.4839\n"
     ]
    },
    {
     "name": "stderr",
     "output_type": "stream",
     "text": [
      "c:\\Users\\User\\anaconda3\\envs\\ENVGAT\\lib\\site-packages\\optuna\\trial\\_trial.py:501: UserWarning: The reported value is ignored because this `step` 108 is already reported.\n",
      "  warnings.warn(\n"
     ]
    },
    {
     "name": "stdout",
     "output_type": "stream",
     "text": [
      "Epoch 109 | Fold 4 | Train Acc: 0.6675 | Val Acc: 0.6484 | Train loss: 0.5421 Val Loss: 0.4937\n"
     ]
    },
    {
     "name": "stderr",
     "output_type": "stream",
     "text": [
      "c:\\Users\\User\\anaconda3\\envs\\ENVGAT\\lib\\site-packages\\optuna\\trial\\_trial.py:501: UserWarning: The reported value is ignored because this `step` 109 is already reported.\n",
      "  warnings.warn(\n"
     ]
    },
    {
     "name": "stdout",
     "output_type": "stream",
     "text": [
      "Epoch 110 | Fold 4 | Train Acc: 0.6591 | Val Acc: 0.6438 | Train loss: 0.5309 Val Loss: 0.5014\n"
     ]
    },
    {
     "name": "stderr",
     "output_type": "stream",
     "text": [
      "c:\\Users\\User\\anaconda3\\envs\\ENVGAT\\lib\\site-packages\\optuna\\trial\\_trial.py:501: UserWarning: The reported value is ignored because this `step` 110 is already reported.\n",
      "  warnings.warn(\n"
     ]
    },
    {
     "name": "stdout",
     "output_type": "stream",
     "text": [
      "Epoch 111 | Fold 4 | Train Acc: 0.6717 | Val Acc: 0.6507 | Train loss: 0.5200 Val Loss: 0.4897\n"
     ]
    },
    {
     "name": "stderr",
     "output_type": "stream",
     "text": [
      "c:\\Users\\User\\anaconda3\\envs\\ENVGAT\\lib\\site-packages\\optuna\\trial\\_trial.py:501: UserWarning: The reported value is ignored because this `step` 111 is already reported.\n",
      "  warnings.warn(\n"
     ]
    },
    {
     "name": "stdout",
     "output_type": "stream",
     "text": [
      "Epoch 112 | Fold 4 | Train Acc: 0.6738 | Val Acc: 0.6598 | Train loss: 0.5404 Val Loss: 0.4900\n"
     ]
    },
    {
     "name": "stderr",
     "output_type": "stream",
     "text": [
      "c:\\Users\\User\\anaconda3\\envs\\ENVGAT\\lib\\site-packages\\optuna\\trial\\_trial.py:501: UserWarning: The reported value is ignored because this `step` 112 is already reported.\n",
      "  warnings.warn(\n"
     ]
    },
    {
     "name": "stdout",
     "output_type": "stream",
     "text": [
      "Epoch 113 | Fold 4 | Train Acc: 0.6717 | Val Acc: 0.6621 | Train loss: 0.5293 Val Loss: 0.4905\n"
     ]
    },
    {
     "name": "stderr",
     "output_type": "stream",
     "text": [
      "c:\\Users\\User\\anaconda3\\envs\\ENVGAT\\lib\\site-packages\\optuna\\trial\\_trial.py:501: UserWarning: The reported value is ignored because this `step` 113 is already reported.\n",
      "  warnings.warn(\n"
     ]
    },
    {
     "name": "stdout",
     "output_type": "stream",
     "text": [
      "Epoch 114 | Fold 4 | Train Acc: 0.6649 | Val Acc: 0.6963 | Train loss: 0.5134 Val Loss: 0.4808\n"
     ]
    },
    {
     "name": "stderr",
     "output_type": "stream",
     "text": [
      "c:\\Users\\User\\anaconda3\\envs\\ENVGAT\\lib\\site-packages\\optuna\\trial\\_trial.py:501: UserWarning: The reported value is ignored because this `step` 114 is already reported.\n",
      "  warnings.warn(\n"
     ]
    },
    {
     "name": "stdout",
     "output_type": "stream",
     "text": [
      "Epoch 115 | Fold 4 | Train Acc: 0.6759 | Val Acc: 0.6507 | Train loss: 0.5185 Val Loss: 0.5008\n"
     ]
    },
    {
     "name": "stderr",
     "output_type": "stream",
     "text": [
      "c:\\Users\\User\\anaconda3\\envs\\ENVGAT\\lib\\site-packages\\optuna\\trial\\_trial.py:501: UserWarning: The reported value is ignored because this `step` 115 is already reported.\n",
      "  warnings.warn(\n"
     ]
    },
    {
     "name": "stdout",
     "output_type": "stream",
     "text": [
      "Epoch 116 | Fold 4 | Train Acc: 0.6633 | Val Acc: 0.6781 | Train loss: 0.5241 Val Loss: 0.4835\n"
     ]
    },
    {
     "name": "stderr",
     "output_type": "stream",
     "text": [
      "c:\\Users\\User\\anaconda3\\envs\\ENVGAT\\lib\\site-packages\\optuna\\trial\\_trial.py:501: UserWarning: The reported value is ignored because this `step` 116 is already reported.\n",
      "  warnings.warn(\n"
     ]
    },
    {
     "name": "stdout",
     "output_type": "stream",
     "text": [
      "Epoch 117 | Fold 4 | Train Acc: 0.6780 | Val Acc: 0.6598 | Train loss: 0.5186 Val Loss: 0.4937\n"
     ]
    },
    {
     "name": "stderr",
     "output_type": "stream",
     "text": [
      "c:\\Users\\User\\anaconda3\\envs\\ENVGAT\\lib\\site-packages\\optuna\\trial\\_trial.py:501: UserWarning: The reported value is ignored because this `step` 117 is already reported.\n",
      "  warnings.warn(\n"
     ]
    },
    {
     "name": "stdout",
     "output_type": "stream",
     "text": [
      "Epoch 118 | Fold 4 | Train Acc: 0.6654 | Val Acc: 0.6963 | Train loss: 0.5188 Val Loss: 0.4793\n"
     ]
    },
    {
     "name": "stderr",
     "output_type": "stream",
     "text": [
      "c:\\Users\\User\\anaconda3\\envs\\ENVGAT\\lib\\site-packages\\optuna\\trial\\_trial.py:501: UserWarning: The reported value is ignored because this `step` 118 is already reported.\n",
      "  warnings.warn(\n"
     ]
    },
    {
     "name": "stdout",
     "output_type": "stream",
     "text": [
      "Epoch 119 | Fold 4 | Train Acc: 0.6791 | Val Acc: 0.6530 | Train loss: 0.5256 Val Loss: 0.4948\n"
     ]
    },
    {
     "name": "stderr",
     "output_type": "stream",
     "text": [
      "c:\\Users\\User\\anaconda3\\envs\\ENVGAT\\lib\\site-packages\\optuna\\trial\\_trial.py:501: UserWarning: The reported value is ignored because this `step` 119 is already reported.\n",
      "  warnings.warn(\n"
     ]
    },
    {
     "name": "stdout",
     "output_type": "stream",
     "text": [
      "Epoch 120 | Fold 4 | Train Acc: 0.6728 | Val Acc: 0.6941 | Train loss: 0.5245 Val Loss: 0.4792\n"
     ]
    },
    {
     "name": "stderr",
     "output_type": "stream",
     "text": [
      "c:\\Users\\User\\anaconda3\\envs\\ENVGAT\\lib\\site-packages\\optuna\\trial\\_trial.py:501: UserWarning: The reported value is ignored because this `step` 120 is already reported.\n",
      "  warnings.warn(\n"
     ]
    },
    {
     "name": "stdout",
     "output_type": "stream",
     "text": [
      "Epoch 121 | Fold 4 | Train Acc: 0.6644 | Val Acc: 0.6735 | Train loss: 0.5180 Val Loss: 0.4924\n"
     ]
    },
    {
     "name": "stderr",
     "output_type": "stream",
     "text": [
      "c:\\Users\\User\\anaconda3\\envs\\ENVGAT\\lib\\site-packages\\optuna\\trial\\_trial.py:501: UserWarning: The reported value is ignored because this `step` 121 is already reported.\n",
      "  warnings.warn(\n"
     ]
    },
    {
     "name": "stdout",
     "output_type": "stream",
     "text": [
      "Epoch 122 | Fold 4 | Train Acc: 0.6822 | Val Acc: 0.6804 | Train loss: 0.5139 Val Loss: 0.4836\n"
     ]
    },
    {
     "name": "stderr",
     "output_type": "stream",
     "text": [
      "c:\\Users\\User\\anaconda3\\envs\\ENVGAT\\lib\\site-packages\\optuna\\trial\\_trial.py:501: UserWarning: The reported value is ignored because this `step` 122 is already reported.\n",
      "  warnings.warn(\n"
     ]
    },
    {
     "name": "stdout",
     "output_type": "stream",
     "text": [
      "Epoch 123 | Fold 4 | Train Acc: 0.6681 | Val Acc: 0.6598 | Train loss: 0.5278 Val Loss: 0.4918\n"
     ]
    },
    {
     "name": "stderr",
     "output_type": "stream",
     "text": [
      "c:\\Users\\User\\anaconda3\\envs\\ENVGAT\\lib\\site-packages\\optuna\\trial\\_trial.py:501: UserWarning: The reported value is ignored because this `step` 123 is already reported.\n",
      "  warnings.warn(\n"
     ]
    },
    {
     "name": "stdout",
     "output_type": "stream",
     "text": [
      "Epoch 124 | Fold 4 | Train Acc: 0.6696 | Val Acc: 0.6758 | Train loss: 0.5246 Val Loss: 0.4863\n"
     ]
    },
    {
     "name": "stderr",
     "output_type": "stream",
     "text": [
      "c:\\Users\\User\\anaconda3\\envs\\ENVGAT\\lib\\site-packages\\optuna\\trial\\_trial.py:501: UserWarning: The reported value is ignored because this `step` 124 is already reported.\n",
      "  warnings.warn(\n"
     ]
    },
    {
     "name": "stdout",
     "output_type": "stream",
     "text": [
      "Epoch 125 | Fold 4 | Train Acc: 0.6728 | Val Acc: 0.6849 | Train loss: 0.5179 Val Loss: 0.4835\n"
     ]
    },
    {
     "name": "stderr",
     "output_type": "stream",
     "text": [
      "c:\\Users\\User\\anaconda3\\envs\\ENVGAT\\lib\\site-packages\\optuna\\trial\\_trial.py:501: UserWarning: The reported value is ignored because this `step` 125 is already reported.\n",
      "  warnings.warn(\n"
     ]
    },
    {
     "name": "stdout",
     "output_type": "stream",
     "text": [
      "Epoch 126 | Fold 4 | Train Acc: 0.6807 | Val Acc: 0.6872 | Train loss: 0.5160 Val Loss: 0.4838\n"
     ]
    },
    {
     "name": "stderr",
     "output_type": "stream",
     "text": [
      "c:\\Users\\User\\anaconda3\\envs\\ENVGAT\\lib\\site-packages\\optuna\\trial\\_trial.py:501: UserWarning: The reported value is ignored because this `step` 126 is already reported.\n",
      "  warnings.warn(\n"
     ]
    },
    {
     "name": "stdout",
     "output_type": "stream",
     "text": [
      "Epoch 127 | Fold 4 | Train Acc: 0.6707 | Val Acc: 0.6826 | Train loss: 0.5233 Val Loss: 0.4868\n"
     ]
    },
    {
     "name": "stderr",
     "output_type": "stream",
     "text": [
      "c:\\Users\\User\\anaconda3\\envs\\ENVGAT\\lib\\site-packages\\optuna\\trial\\_trial.py:501: UserWarning: The reported value is ignored because this `step` 127 is already reported.\n",
      "  warnings.warn(\n"
     ]
    },
    {
     "name": "stdout",
     "output_type": "stream",
     "text": [
      "Epoch 128 | Fold 4 | Train Acc: 0.6754 | Val Acc: 0.6986 | Train loss: 0.5208 Val Loss: 0.4814\n"
     ]
    },
    {
     "name": "stderr",
     "output_type": "stream",
     "text": [
      "c:\\Users\\User\\anaconda3\\envs\\ENVGAT\\lib\\site-packages\\optuna\\trial\\_trial.py:501: UserWarning: The reported value is ignored because this `step` 128 is already reported.\n",
      "  warnings.warn(\n"
     ]
    },
    {
     "name": "stdout",
     "output_type": "stream",
     "text": [
      "Epoch 129 | Fold 4 | Train Acc: 0.6759 | Val Acc: 0.6804 | Train loss: 0.5199 Val Loss: 0.4843\n"
     ]
    },
    {
     "name": "stderr",
     "output_type": "stream",
     "text": [
      "c:\\Users\\User\\anaconda3\\envs\\ENVGAT\\lib\\site-packages\\optuna\\trial\\_trial.py:501: UserWarning: The reported value is ignored because this `step` 129 is already reported.\n",
      "  warnings.warn(\n"
     ]
    },
    {
     "name": "stdout",
     "output_type": "stream",
     "text": [
      "Epoch 130 | Fold 4 | Train Acc: 0.6681 | Val Acc: 0.6918 | Train loss: 0.5141 Val Loss: 0.4823\n"
     ]
    },
    {
     "name": "stderr",
     "output_type": "stream",
     "text": [
      "c:\\Users\\User\\anaconda3\\envs\\ENVGAT\\lib\\site-packages\\optuna\\trial\\_trial.py:501: UserWarning: The reported value is ignored because this `step` 130 is already reported.\n",
      "  warnings.warn(\n"
     ]
    },
    {
     "name": "stdout",
     "output_type": "stream",
     "text": [
      "Epoch 131 | Fold 4 | Train Acc: 0.6807 | Val Acc: 0.6758 | Train loss: 0.5154 Val Loss: 0.4833\n"
     ]
    },
    {
     "name": "stderr",
     "output_type": "stream",
     "text": [
      "c:\\Users\\User\\anaconda3\\envs\\ENVGAT\\lib\\site-packages\\optuna\\trial\\_trial.py:501: UserWarning: The reported value is ignored because this `step` 131 is already reported.\n",
      "  warnings.warn(\n"
     ]
    },
    {
     "name": "stdout",
     "output_type": "stream",
     "text": [
      "Epoch 132 | Fold 4 | Train Acc: 0.6838 | Val Acc: 0.6895 | Train loss: 0.5144 Val Loss: 0.4795\n"
     ]
    },
    {
     "name": "stderr",
     "output_type": "stream",
     "text": [
      "c:\\Users\\User\\anaconda3\\envs\\ENVGAT\\lib\\site-packages\\optuna\\trial\\_trial.py:501: UserWarning: The reported value is ignored because this `step` 132 is already reported.\n",
      "  warnings.warn(\n"
     ]
    },
    {
     "name": "stdout",
     "output_type": "stream",
     "text": [
      "Epoch 133 | Fold 4 | Train Acc: 0.6765 | Val Acc: 0.6644 | Train loss: 0.5130 Val Loss: 0.4861\n"
     ]
    },
    {
     "name": "stderr",
     "output_type": "stream",
     "text": [
      "c:\\Users\\User\\anaconda3\\envs\\ENVGAT\\lib\\site-packages\\optuna\\trial\\_trial.py:501: UserWarning: The reported value is ignored because this `step` 133 is already reported.\n",
      "  warnings.warn(\n"
     ]
    },
    {
     "name": "stdout",
     "output_type": "stream",
     "text": [
      "Epoch 134 | Fold 4 | Train Acc: 0.6801 | Val Acc: 0.6963 | Train loss: 0.5005 Val Loss: 0.4793\n"
     ]
    },
    {
     "name": "stderr",
     "output_type": "stream",
     "text": [
      "c:\\Users\\User\\anaconda3\\envs\\ENVGAT\\lib\\site-packages\\optuna\\trial\\_trial.py:501: UserWarning: The reported value is ignored because this `step` 134 is already reported.\n",
      "  warnings.warn(\n"
     ]
    },
    {
     "name": "stdout",
     "output_type": "stream",
     "text": [
      "Epoch 135 | Fold 4 | Train Acc: 0.6828 | Val Acc: 0.6872 | Train loss: 0.5244 Val Loss: 0.4832\n"
     ]
    },
    {
     "name": "stderr",
     "output_type": "stream",
     "text": [
      "c:\\Users\\User\\anaconda3\\envs\\ENVGAT\\lib\\site-packages\\optuna\\trial\\_trial.py:501: UserWarning: The reported value is ignored because this `step` 135 is already reported.\n",
      "  warnings.warn(\n"
     ]
    },
    {
     "name": "stdout",
     "output_type": "stream",
     "text": [
      "Epoch 136 | Fold 4 | Train Acc: 0.6817 | Val Acc: 0.6644 | Train loss: 0.5101 Val Loss: 0.4862\n"
     ]
    },
    {
     "name": "stderr",
     "output_type": "stream",
     "text": [
      "c:\\Users\\User\\anaconda3\\envs\\ENVGAT\\lib\\site-packages\\optuna\\trial\\_trial.py:501: UserWarning: The reported value is ignored because this `step` 136 is already reported.\n",
      "  warnings.warn(\n"
     ]
    },
    {
     "name": "stdout",
     "output_type": "stream",
     "text": [
      "Epoch 137 | Fold 4 | Train Acc: 0.6754 | Val Acc: 0.6735 | Train loss: 0.5028 Val Loss: 0.4827\n"
     ]
    },
    {
     "name": "stderr",
     "output_type": "stream",
     "text": [
      "c:\\Users\\User\\anaconda3\\envs\\ENVGAT\\lib\\site-packages\\optuna\\trial\\_trial.py:501: UserWarning: The reported value is ignored because this `step` 137 is already reported.\n",
      "  warnings.warn(\n"
     ]
    },
    {
     "name": "stdout",
     "output_type": "stream",
     "text": [
      "Epoch 138 | Fold 4 | Train Acc: 0.6828 | Val Acc: 0.6849 | Train loss: 0.5016 Val Loss: 0.4788\n"
     ]
    },
    {
     "name": "stderr",
     "output_type": "stream",
     "text": [
      "c:\\Users\\User\\anaconda3\\envs\\ENVGAT\\lib\\site-packages\\optuna\\trial\\_trial.py:501: UserWarning: The reported value is ignored because this `step` 138 is already reported.\n",
      "  warnings.warn(\n"
     ]
    },
    {
     "name": "stdout",
     "output_type": "stream",
     "text": [
      "Epoch 139 | Fold 4 | Train Acc: 0.6817 | Val Acc: 0.6895 | Train loss: 0.4963 Val Loss: 0.4760\n"
     ]
    },
    {
     "name": "stderr",
     "output_type": "stream",
     "text": [
      "c:\\Users\\User\\anaconda3\\envs\\ENVGAT\\lib\\site-packages\\optuna\\trial\\_trial.py:501: UserWarning: The reported value is ignored because this `step` 139 is already reported.\n",
      "  warnings.warn(\n"
     ]
    },
    {
     "name": "stdout",
     "output_type": "stream",
     "text": [
      "Epoch 140 | Fold 4 | Train Acc: 0.6907 | Val Acc: 0.6986 | Train loss: 0.4977 Val Loss: 0.4794\n"
     ]
    },
    {
     "name": "stderr",
     "output_type": "stream",
     "text": [
      "c:\\Users\\User\\anaconda3\\envs\\ENVGAT\\lib\\site-packages\\optuna\\trial\\_trial.py:501: UserWarning: The reported value is ignored because this `step` 140 is already reported.\n",
      "  warnings.warn(\n"
     ]
    },
    {
     "name": "stdout",
     "output_type": "stream",
     "text": [
      "Epoch 141 | Fold 4 | Train Acc: 0.6770 | Val Acc: 0.6826 | Train loss: 0.4952 Val Loss: 0.4865\n"
     ]
    },
    {
     "name": "stderr",
     "output_type": "stream",
     "text": [
      "c:\\Users\\User\\anaconda3\\envs\\ENVGAT\\lib\\site-packages\\optuna\\trial\\_trial.py:501: UserWarning: The reported value is ignored because this `step` 141 is already reported.\n",
      "  warnings.warn(\n"
     ]
    },
    {
     "name": "stdout",
     "output_type": "stream",
     "text": [
      "Epoch 142 | Fold 4 | Train Acc: 0.6886 | Val Acc: 0.7009 | Train loss: 0.4944 Val Loss: 0.4773\n"
     ]
    },
    {
     "name": "stderr",
     "output_type": "stream",
     "text": [
      "c:\\Users\\User\\anaconda3\\envs\\ENVGAT\\lib\\site-packages\\optuna\\trial\\_trial.py:501: UserWarning: The reported value is ignored because this `step` 142 is already reported.\n",
      "  warnings.warn(\n"
     ]
    },
    {
     "name": "stdout",
     "output_type": "stream",
     "text": [
      "Epoch 143 | Fold 4 | Train Acc: 0.6775 | Val Acc: 0.6986 | Train loss: 0.5068 Val Loss: 0.4803\n"
     ]
    },
    {
     "name": "stderr",
     "output_type": "stream",
     "text": [
      "c:\\Users\\User\\anaconda3\\envs\\ENVGAT\\lib\\site-packages\\optuna\\trial\\_trial.py:501: UserWarning: The reported value is ignored because this `step` 143 is already reported.\n",
      "  warnings.warn(\n"
     ]
    },
    {
     "name": "stdout",
     "output_type": "stream",
     "text": [
      "Epoch 144 | Fold 4 | Train Acc: 0.6765 | Val Acc: 0.6826 | Train loss: 0.5171 Val Loss: 0.4813\n"
     ]
    },
    {
     "name": "stderr",
     "output_type": "stream",
     "text": [
      "c:\\Users\\User\\anaconda3\\envs\\ENVGAT\\lib\\site-packages\\optuna\\trial\\_trial.py:501: UserWarning: The reported value is ignored because this `step` 144 is already reported.\n",
      "  warnings.warn(\n"
     ]
    },
    {
     "name": "stdout",
     "output_type": "stream",
     "text": [
      "Epoch 145 | Fold 4 | Train Acc: 0.6759 | Val Acc: 0.6689 | Train loss: 0.5223 Val Loss: 0.4860\n"
     ]
    },
    {
     "name": "stderr",
     "output_type": "stream",
     "text": [
      "c:\\Users\\User\\anaconda3\\envs\\ENVGAT\\lib\\site-packages\\optuna\\trial\\_trial.py:501: UserWarning: The reported value is ignored because this `step` 145 is already reported.\n",
      "  warnings.warn(\n"
     ]
    },
    {
     "name": "stdout",
     "output_type": "stream",
     "text": [
      "Epoch 146 | Fold 4 | Train Acc: 0.6875 | Val Acc: 0.6735 | Train loss: 0.5070 Val Loss: 0.4829\n"
     ]
    },
    {
     "name": "stderr",
     "output_type": "stream",
     "text": [
      "c:\\Users\\User\\anaconda3\\envs\\ENVGAT\\lib\\site-packages\\optuna\\trial\\_trial.py:501: UserWarning: The reported value is ignored because this `step` 146 is already reported.\n",
      "  warnings.warn(\n"
     ]
    },
    {
     "name": "stdout",
     "output_type": "stream",
     "text": [
      "Epoch 147 | Fold 4 | Train Acc: 0.6691 | Val Acc: 0.6849 | Train loss: 0.5147 Val Loss: 0.4813\n"
     ]
    },
    {
     "name": "stderr",
     "output_type": "stream",
     "text": [
      "c:\\Users\\User\\anaconda3\\envs\\ENVGAT\\lib\\site-packages\\optuna\\trial\\_trial.py:501: UserWarning: The reported value is ignored because this `step` 147 is already reported.\n",
      "  warnings.warn(\n"
     ]
    },
    {
     "name": "stdout",
     "output_type": "stream",
     "text": [
      "Epoch 148 | Fold 4 | Train Acc: 0.6807 | Val Acc: 0.6804 | Train loss: 0.5014 Val Loss: 0.4842\n"
     ]
    },
    {
     "name": "stderr",
     "output_type": "stream",
     "text": [
      "c:\\Users\\User\\anaconda3\\envs\\ENVGAT\\lib\\site-packages\\optuna\\trial\\_trial.py:501: UserWarning: The reported value is ignored because this `step` 148 is already reported.\n",
      "  warnings.warn(\n"
     ]
    },
    {
     "name": "stdout",
     "output_type": "stream",
     "text": [
      "Epoch 149 | Fold 4 | Train Acc: 0.6838 | Val Acc: 0.6986 | Train loss: 0.5094 Val Loss: 0.4800\n"
     ]
    },
    {
     "name": "stderr",
     "output_type": "stream",
     "text": [
      "c:\\Users\\User\\anaconda3\\envs\\ENVGAT\\lib\\site-packages\\optuna\\trial\\_trial.py:501: UserWarning: The reported value is ignored because this `step` 149 is already reported.\n",
      "  warnings.warn(\n"
     ]
    },
    {
     "name": "stdout",
     "output_type": "stream",
     "text": [
      "Epoch 150 | Fold 4 | Train Acc: 0.6801 | Val Acc: 0.6963 | Train loss: 0.4955 Val Loss: 0.4813\n"
     ]
    },
    {
     "name": "stderr",
     "output_type": "stream",
     "text": [
      "c:\\Users\\User\\anaconda3\\envs\\ENVGAT\\lib\\site-packages\\optuna\\trial\\_trial.py:501: UserWarning: The reported value is ignored because this `step` 150 is already reported.\n",
      "  warnings.warn(\n"
     ]
    },
    {
     "name": "stdout",
     "output_type": "stream",
     "text": [
      "Epoch 151 | Fold 4 | Train Acc: 0.6817 | Val Acc: 0.6826 | Train loss: 0.5020 Val Loss: 0.4816\n"
     ]
    },
    {
     "name": "stderr",
     "output_type": "stream",
     "text": [
      "c:\\Users\\User\\anaconda3\\envs\\ENVGAT\\lib\\site-packages\\optuna\\trial\\_trial.py:501: UserWarning: The reported value is ignored because this `step` 151 is already reported.\n",
      "  warnings.warn(\n"
     ]
    },
    {
     "name": "stdout",
     "output_type": "stream",
     "text": [
      "Epoch 152 | Fold 4 | Train Acc: 0.6875 | Val Acc: 0.6986 | Train loss: 0.5194 Val Loss: 0.4808\n"
     ]
    },
    {
     "name": "stderr",
     "output_type": "stream",
     "text": [
      "c:\\Users\\User\\anaconda3\\envs\\ENVGAT\\lib\\site-packages\\optuna\\trial\\_trial.py:501: UserWarning: The reported value is ignored because this `step` 152 is already reported.\n",
      "  warnings.warn(\n"
     ]
    },
    {
     "name": "stdout",
     "output_type": "stream",
     "text": [
      "Epoch 153 | Fold 4 | Train Acc: 0.6859 | Val Acc: 0.6986 | Train loss: 0.4969 Val Loss: 0.4804\n"
     ]
    },
    {
     "name": "stderr",
     "output_type": "stream",
     "text": [
      "c:\\Users\\User\\anaconda3\\envs\\ENVGAT\\lib\\site-packages\\optuna\\trial\\_trial.py:501: UserWarning: The reported value is ignored because this `step` 153 is already reported.\n",
      "  warnings.warn(\n"
     ]
    },
    {
     "name": "stdout",
     "output_type": "stream",
     "text": [
      "Epoch 154 | Fold 4 | Train Acc: 0.6875 | Val Acc: 0.7009 | Train loss: 0.5071 Val Loss: 0.4812\n"
     ]
    },
    {
     "name": "stderr",
     "output_type": "stream",
     "text": [
      "c:\\Users\\User\\anaconda3\\envs\\ENVGAT\\lib\\site-packages\\optuna\\trial\\_trial.py:501: UserWarning: The reported value is ignored because this `step` 154 is already reported.\n",
      "  warnings.warn(\n"
     ]
    },
    {
     "name": "stdout",
     "output_type": "stream",
     "text": [
      "Epoch 155 | Fold 4 | Train Acc: 0.6807 | Val Acc: 0.6986 | Train loss: 0.5056 Val Loss: 0.4809\n"
     ]
    },
    {
     "name": "stderr",
     "output_type": "stream",
     "text": [
      "c:\\Users\\User\\anaconda3\\envs\\ENVGAT\\lib\\site-packages\\optuna\\trial\\_trial.py:501: UserWarning: The reported value is ignored because this `step` 155 is already reported.\n",
      "  warnings.warn(\n"
     ]
    },
    {
     "name": "stdout",
     "output_type": "stream",
     "text": [
      "Epoch 156 | Fold 4 | Train Acc: 0.6833 | Val Acc: 0.6986 | Train loss: 0.5067 Val Loss: 0.4796\n"
     ]
    },
    {
     "name": "stderr",
     "output_type": "stream",
     "text": [
      "c:\\Users\\User\\anaconda3\\envs\\ENVGAT\\lib\\site-packages\\optuna\\trial\\_trial.py:501: UserWarning: The reported value is ignored because this `step` 156 is already reported.\n",
      "  warnings.warn(\n"
     ]
    },
    {
     "name": "stdout",
     "output_type": "stream",
     "text": [
      "Epoch 157 | Fold 4 | Train Acc: 0.6938 | Val Acc: 0.6986 | Train loss: 0.5112 Val Loss: 0.4786\n"
     ]
    },
    {
     "name": "stderr",
     "output_type": "stream",
     "text": [
      "c:\\Users\\User\\anaconda3\\envs\\ENVGAT\\lib\\site-packages\\optuna\\trial\\_trial.py:501: UserWarning: The reported value is ignored because this `step` 157 is already reported.\n",
      "  warnings.warn(\n"
     ]
    },
    {
     "name": "stdout",
     "output_type": "stream",
     "text": [
      "Epoch 158 | Fold 4 | Train Acc: 0.6775 | Val Acc: 0.6963 | Train loss: 0.5103 Val Loss: 0.4832\n"
     ]
    },
    {
     "name": "stderr",
     "output_type": "stream",
     "text": [
      "c:\\Users\\User\\anaconda3\\envs\\ENVGAT\\lib\\site-packages\\optuna\\trial\\_trial.py:501: UserWarning: The reported value is ignored because this `step` 158 is already reported.\n",
      "  warnings.warn(\n"
     ]
    },
    {
     "name": "stdout",
     "output_type": "stream",
     "text": [
      "Epoch 159 | Fold 4 | Train Acc: 0.6728 | Val Acc: 0.6689 | Train loss: 0.5195 Val Loss: 0.4862\n",
      "Epoch 160 | Fold 4 | Train Acc: 0.6733 | Val Acc: 0.7009 | Train loss: 0.5111 Val Loss: 0.4793\n",
      "Epoch 161 | Fold 4 | Train Acc: 0.6770 | Val Acc: 0.7009 | Train loss: 0.5116 Val Loss: 0.4790\n",
      "Epoch 162 | Fold 4 | Train Acc: 0.6791 | Val Acc: 0.6986 | Train loss: 0.4984 Val Loss: 0.4793\n",
      "Epoch 163 | Fold 4 | Train Acc: 0.6896 | Val Acc: 0.7009 | Train loss: 0.5085 Val Loss: 0.4794\n",
      "Epoch 164 | Fold 4 | Train Acc: 0.6849 | Val Acc: 0.7009 | Train loss: 0.5018 Val Loss: 0.4792\n",
      "Epoch 165 | Fold 4 | Train Acc: 0.6786 | Val Acc: 0.7009 | Train loss: 0.5270 Val Loss: 0.4810\n",
      "Epoch 166 | Fold 4 | Train Acc: 0.6933 | Val Acc: 0.7009 | Train loss: 0.5110 Val Loss: 0.4810\n",
      "Epoch 167 | Fold 4 | Train Acc: 0.6770 | Val Acc: 0.7009 | Train loss: 0.5206 Val Loss: 0.4816\n",
      "Epoch 168 | Fold 4 | Train Acc: 0.6807 | Val Acc: 0.7009 | Train loss: 0.5158 Val Loss: 0.4805\n",
      "Epoch 169 | Fold 4 | Train Acc: 0.6786 | Val Acc: 0.7009 | Train loss: 0.5011 Val Loss: 0.4822\n",
      " Early stopping at epoch 169 for fold 4\n",
      " Fold 4: Best Val Acc = 0.6895\n",
      "Epoch 001 | Fold 5 | Train Acc: 0.1655 | Val Acc: 0.1060 | Train loss: 1.3835 Val Loss: 1.3887\n",
      "Epoch 002 | Fold 5 | Train Acc: 0.1847 | Val Acc: 0.1290 | Train loss: 1.3756 Val Loss: 1.3837\n",
      "Epoch 003 | Fold 5 | Train Acc: 0.2264 | Val Acc: 0.1749 | Train loss: 1.3688 Val Loss: 1.3744\n",
      "Epoch 004 | Fold 5 | Train Acc: 0.2917 | Val Acc: 0.2509 | Train loss: 1.3633 Val Loss: 1.3655\n",
      "Epoch 005 | Fold 5 | Train Acc: 0.3587 | Val Acc: 0.5459 | Train loss: 1.3525 Val Loss: 1.3485\n",
      "Epoch 006 | Fold 5 | Train Acc: 0.4262 | Val Acc: 0.5777 | Train loss: 1.3420 Val Loss: 1.3318\n",
      "Epoch 007 | Fold 5 | Train Acc: 0.4910 | Val Acc: 0.5583 | Train loss: 1.3218 Val Loss: 1.3148\n",
      "Epoch 008 | Fold 5 | Train Acc: 0.4825 | Val Acc: 0.5212 | Train loss: 1.2988 Val Loss: 1.2904\n",
      "Epoch 009 | Fold 5 | Train Acc: 0.4899 | Val Acc: 0.4329 | Train loss: 1.2548 Val Loss: 1.2547\n",
      "Epoch 010 | Fold 5 | Train Acc: 0.5062 | Val Acc: 0.4011 | Train loss: 1.1989 Val Loss: 1.2099\n",
      "Epoch 011 | Fold 5 | Train Acc: 0.5214 | Val Acc: 0.3816 | Train loss: 1.1442 Val Loss: 1.1646\n",
      "Epoch 012 | Fold 5 | Train Acc: 0.5405 | Val Acc: 0.3763 | Train loss: 1.0836 Val Loss: 1.1235\n",
      "Epoch 013 | Fold 5 | Train Acc: 0.5439 | Val Acc: 0.4046 | Train loss: 1.0327 Val Loss: 1.0775\n",
      "Epoch 014 | Fold 5 | Train Acc: 0.5411 | Val Acc: 0.3975 | Train loss: 0.9919 Val Loss: 1.0447\n",
      "Epoch 015 | Fold 5 | Train Acc: 0.5518 | Val Acc: 0.3869 | Train loss: 0.9416 Val Loss: 1.0119\n",
      "Epoch 016 | Fold 5 | Train Acc: 0.5580 | Val Acc: 0.4223 | Train loss: 0.9071 Val Loss: 0.9747\n",
      "Epoch 017 | Fold 5 | Train Acc: 0.5602 | Val Acc: 0.4223 | Train loss: 0.8825 Val Loss: 0.9419\n",
      "Epoch 018 | Fold 5 | Train Acc: 0.5771 | Val Acc: 0.4329 | Train loss: 0.8428 Val Loss: 0.9199\n",
      "Epoch 019 | Fold 5 | Train Acc: 0.5755 | Val Acc: 0.4240 | Train loss: 0.8329 Val Loss: 0.9145\n",
      "Epoch 020 | Fold 5 | Train Acc: 0.5760 | Val Acc: 0.4276 | Train loss: 0.8022 Val Loss: 0.8951\n",
      "Epoch 021 | Fold 5 | Train Acc: 0.5800 | Val Acc: 0.4470 | Train loss: 0.7942 Val Loss: 0.8678\n",
      "Epoch 022 | Fold 5 | Train Acc: 0.5833 | Val Acc: 0.4417 | Train loss: 0.7739 Val Loss: 0.8607\n",
      "Epoch 023 | Fold 5 | Train Acc: 0.5828 | Val Acc: 0.4470 | Train loss: 0.7570 Val Loss: 0.8505\n",
      "Epoch 024 | Fold 5 | Train Acc: 0.6047 | Val Acc: 0.4576 | Train loss: 0.7313 Val Loss: 0.8330\n",
      "Epoch 025 | Fold 5 | Train Acc: 0.6030 | Val Acc: 0.4558 | Train loss: 0.7265 Val Loss: 0.8208\n",
      "Epoch 026 | Fold 5 | Train Acc: 0.5884 | Val Acc: 0.4523 | Train loss: 0.7285 Val Loss: 0.8168\n",
      "Epoch 027 | Fold 5 | Train Acc: 0.5980 | Val Acc: 0.4523 | Train loss: 0.7185 Val Loss: 0.8093\n",
      "Epoch 028 | Fold 5 | Train Acc: 0.6120 | Val Acc: 0.4629 | Train loss: 0.7180 Val Loss: 0.7950\n",
      "Epoch 029 | Fold 5 | Train Acc: 0.6059 | Val Acc: 0.4629 | Train loss: 0.7077 Val Loss: 0.7938\n",
      "Epoch 030 | Fold 5 | Train Acc: 0.6188 | Val Acc: 0.4629 | Train loss: 0.7003 Val Loss: 0.7895\n",
      "Epoch 031 | Fold 5 | Train Acc: 0.6137 | Val Acc: 0.4629 | Train loss: 0.6803 Val Loss: 0.7865\n",
      "Epoch 032 | Fold 5 | Train Acc: 0.6166 | Val Acc: 0.4717 | Train loss: 0.6780 Val Loss: 0.7773\n",
      "Epoch 033 | Fold 5 | Train Acc: 0.6239 | Val Acc: 0.4717 | Train loss: 0.6827 Val Loss: 0.7765\n",
      "Epoch 034 | Fold 5 | Train Acc: 0.6171 | Val Acc: 0.4717 | Train loss: 0.6623 Val Loss: 0.7733\n",
      "Epoch 035 | Fold 5 | Train Acc: 0.6177 | Val Acc: 0.4717 | Train loss: 0.6775 Val Loss: 0.7647\n",
      "Epoch 036 | Fold 5 | Train Acc: 0.6256 | Val Acc: 0.4717 | Train loss: 0.6585 Val Loss: 0.7641\n",
      "Epoch 037 | Fold 5 | Train Acc: 0.6222 | Val Acc: 0.4717 | Train loss: 0.6600 Val Loss: 0.7564\n",
      "Epoch 038 | Fold 5 | Train Acc: 0.6211 | Val Acc: 0.4735 | Train loss: 0.6648 Val Loss: 0.7512\n",
      "Epoch 039 | Fold 5 | Train Acc: 0.6250 | Val Acc: 0.4735 | Train loss: 0.6532 Val Loss: 0.7466\n",
      "Epoch 040 | Fold 5 | Train Acc: 0.6199 | Val Acc: 0.4735 | Train loss: 0.6637 Val Loss: 0.7507\n",
      "Epoch 041 | Fold 5 | Train Acc: 0.6227 | Val Acc: 0.4735 | Train loss: 0.6474 Val Loss: 0.7451\n",
      "Epoch 042 | Fold 5 | Train Acc: 0.6357 | Val Acc: 0.4735 | Train loss: 0.6341 Val Loss: 0.7428\n",
      "Epoch 043 | Fold 5 | Train Acc: 0.6391 | Val Acc: 0.4735 | Train loss: 0.6324 Val Loss: 0.7387\n",
      "Epoch 044 | Fold 5 | Train Acc: 0.6289 | Val Acc: 0.4735 | Train loss: 0.6368 Val Loss: 0.7356\n",
      "Epoch 045 | Fold 5 | Train Acc: 0.6256 | Val Acc: 0.4735 | Train loss: 0.6433 Val Loss: 0.7386\n",
      "Epoch 046 | Fold 5 | Train Acc: 0.6323 | Val Acc: 0.4735 | Train loss: 0.6301 Val Loss: 0.7287\n",
      "Epoch 047 | Fold 5 | Train Acc: 0.6413 | Val Acc: 0.4735 | Train loss: 0.6290 Val Loss: 0.7334\n",
      "Epoch 048 | Fold 5 | Train Acc: 0.6295 | Val Acc: 0.4735 | Train loss: 0.6266 Val Loss: 0.7272\n",
      "Epoch 049 | Fold 5 | Train Acc: 0.6323 | Val Acc: 0.4735 | Train loss: 0.6248 Val Loss: 0.7225\n",
      "Epoch 050 | Fold 5 | Train Acc: 0.6334 | Val Acc: 0.4735 | Train loss: 0.6245 Val Loss: 0.7275\n",
      "Epoch 051 | Fold 5 | Train Acc: 0.6233 | Val Acc: 0.4682 | Train loss: 0.6351 Val Loss: 0.7304\n",
      "Epoch 052 | Fold 5 | Train Acc: 0.6284 | Val Acc: 0.4735 | Train loss: 0.6235 Val Loss: 0.7141\n",
      "Epoch 053 | Fold 5 | Train Acc: 0.6374 | Val Acc: 0.4735 | Train loss: 0.6053 Val Loss: 0.7166\n",
      "Epoch 054 | Fold 5 | Train Acc: 0.6261 | Val Acc: 0.4682 | Train loss: 0.6346 Val Loss: 0.7228\n",
      "Epoch 055 | Fold 5 | Train Acc: 0.6323 | Val Acc: 0.4735 | Train loss: 0.6168 Val Loss: 0.7082\n",
      "Epoch 056 | Fold 5 | Train Acc: 0.6413 | Val Acc: 0.4682 | Train loss: 0.5999 Val Loss: 0.7169\n",
      "Epoch 057 | Fold 5 | Train Acc: 0.6289 | Val Acc: 0.4735 | Train loss: 0.6167 Val Loss: 0.7114\n",
      "Epoch 058 | Fold 5 | Train Acc: 0.6374 | Val Acc: 0.4682 | Train loss: 0.6139 Val Loss: 0.7014\n",
      "Epoch 059 | Fold 5 | Train Acc: 0.6391 | Val Acc: 0.4735 | Train loss: 0.6043 Val Loss: 0.7124\n",
      "Epoch 060 | Fold 5 | Train Acc: 0.6396 | Val Acc: 0.4682 | Train loss: 0.5942 Val Loss: 0.6983\n",
      "Epoch 061 | Fold 5 | Train Acc: 0.6380 | Val Acc: 0.4682 | Train loss: 0.6094 Val Loss: 0.6983\n",
      "Epoch 062 | Fold 5 | Train Acc: 0.6486 | Val Acc: 0.4682 | Train loss: 0.5969 Val Loss: 0.6966\n",
      "Epoch 063 | Fold 5 | Train Acc: 0.6413 | Val Acc: 0.4717 | Train loss: 0.6006 Val Loss: 0.6976\n",
      "Epoch 064 | Fold 5 | Train Acc: 0.6537 | Val Acc: 0.4682 | Train loss: 0.6035 Val Loss: 0.6845\n",
      "Epoch 065 | Fold 5 | Train Acc: 0.6323 | Val Acc: 0.4700 | Train loss: 0.6056 Val Loss: 0.6956\n",
      "Epoch 066 | Fold 5 | Train Acc: 0.6380 | Val Acc: 0.4664 | Train loss: 0.5910 Val Loss: 0.6946\n",
      "Epoch 067 | Fold 5 | Train Acc: 0.6577 | Val Acc: 0.4982 | Train loss: 0.5837 Val Loss: 0.6762\n",
      "Epoch 068 | Fold 5 | Train Acc: 0.6571 | Val Acc: 0.4982 | Train loss: 0.5797 Val Loss: 0.6806\n",
      "Epoch 069 | Fold 5 | Train Acc: 0.6593 | Val Acc: 0.4982 | Train loss: 0.5893 Val Loss: 0.6805\n",
      "Epoch 070 | Fold 5 | Train Acc: 0.6492 | Val Acc: 0.4965 | Train loss: 0.5889 Val Loss: 0.6666\n",
      "Epoch 071 | Fold 5 | Train Acc: 0.6639 | Val Acc: 0.4982 | Train loss: 0.5765 Val Loss: 0.6675\n",
      "Epoch 072 | Fold 5 | Train Acc: 0.6543 | Val Acc: 0.4982 | Train loss: 0.5752 Val Loss: 0.6784\n",
      "Epoch 073 | Fold 5 | Train Acc: 0.6543 | Val Acc: 0.4982 | Train loss: 0.5826 Val Loss: 0.6643\n",
      "Epoch 074 | Fold 5 | Train Acc: 0.6554 | Val Acc: 0.5053 | Train loss: 0.5781 Val Loss: 0.6539\n",
      "Epoch 075 | Fold 5 | Train Acc: 0.6627 | Val Acc: 0.4929 | Train loss: 0.5711 Val Loss: 0.6710\n",
      "Epoch 076 | Fold 5 | Train Acc: 0.6661 | Val Acc: 0.4929 | Train loss: 0.5707 Val Loss: 0.6615\n",
      "Epoch 077 | Fold 5 | Train Acc: 0.6661 | Val Acc: 0.5300 | Train loss: 0.5762 Val Loss: 0.6401\n",
      "Epoch 078 | Fold 5 | Train Acc: 0.6706 | Val Acc: 0.4929 | Train loss: 0.5728 Val Loss: 0.6617\n",
      "Epoch 079 | Fold 5 | Train Acc: 0.6779 | Val Acc: 0.5265 | Train loss: 0.5658 Val Loss: 0.6455\n",
      "Epoch 080 | Fold 5 | Train Acc: 0.6672 | Val Acc: 0.5247 | Train loss: 0.5697 Val Loss: 0.6523\n",
      "Epoch 081 | Fold 5 | Train Acc: 0.6695 | Val Acc: 0.5442 | Train loss: 0.5724 Val Loss: 0.6522\n",
      "Epoch 082 | Fold 5 | Train Acc: 0.6791 | Val Acc: 0.5654 | Train loss: 0.5662 Val Loss: 0.6310\n",
      "Epoch 083 | Fold 5 | Train Acc: 0.6695 | Val Acc: 0.5442 | Train loss: 0.5548 Val Loss: 0.6411\n",
      "Epoch 084 | Fold 5 | Train Acc: 0.6650 | Val Acc: 0.5442 | Train loss: 0.5599 Val Loss: 0.6418\n",
      "Epoch 085 | Fold 5 | Train Acc: 0.6712 | Val Acc: 0.5424 | Train loss: 0.5647 Val Loss: 0.6401\n",
      "Epoch 086 | Fold 5 | Train Acc: 0.6723 | Val Acc: 0.5442 | Train loss: 0.5542 Val Loss: 0.6414\n",
      "Epoch 087 | Fold 5 | Train Acc: 0.6881 | Val Acc: 0.5689 | Train loss: 0.5432 Val Loss: 0.6296\n",
      "Epoch 088 | Fold 5 | Train Acc: 0.6903 | Val Acc: 0.5442 | Train loss: 0.5466 Val Loss: 0.6481\n",
      "Epoch 089 | Fold 5 | Train Acc: 0.6779 | Val Acc: 0.5442 | Train loss: 0.5471 Val Loss: 0.6538\n",
      "Epoch 090 | Fold 5 | Train Acc: 0.6858 | Val Acc: 0.5654 | Train loss: 0.5374 Val Loss: 0.6208\n",
      "Epoch 091 | Fold 5 | Train Acc: 0.6937 | Val Acc: 0.5654 | Train loss: 0.5543 Val Loss: 0.6201\n",
      "Epoch 092 | Fold 5 | Train Acc: 0.6807 | Val Acc: 0.5459 | Train loss: 0.5591 Val Loss: 0.6366\n",
      "Epoch 093 | Fold 5 | Train Acc: 0.6824 | Val Acc: 0.5671 | Train loss: 0.5398 Val Loss: 0.6229\n",
      "Epoch 094 | Fold 5 | Train Acc: 0.6864 | Val Acc: 0.5671 | Train loss: 0.5589 Val Loss: 0.6304\n",
      "Epoch 095 | Fold 5 | Train Acc: 0.6914 | Val Acc: 0.5813 | Train loss: 0.5556 Val Loss: 0.6169\n",
      "Epoch 096 | Fold 5 | Train Acc: 0.7010 | Val Acc: 0.5742 | Train loss: 0.5272 Val Loss: 0.6309\n",
      "Epoch 097 | Fold 5 | Train Acc: 0.6926 | Val Acc: 0.5777 | Train loss: 0.5351 Val Loss: 0.6217\n",
      "Epoch 098 | Fold 5 | Train Acc: 0.6858 | Val Acc: 0.5689 | Train loss: 0.5503 Val Loss: 0.6283\n",
      "Epoch 099 | Fold 5 | Train Acc: 0.6943 | Val Acc: 0.5777 | Train loss: 0.5414 Val Loss: 0.6144\n",
      "Epoch 100 | Fold 5 | Train Acc: 0.6909 | Val Acc: 0.5742 | Train loss: 0.5394 Val Loss: 0.6330\n",
      "Epoch 101 | Fold 5 | Train Acc: 0.6774 | Val Acc: 0.5795 | Train loss: 0.5363 Val Loss: 0.6138\n",
      "Epoch 102 | Fold 5 | Train Acc: 0.6971 | Val Acc: 0.5795 | Train loss: 0.5426 Val Loss: 0.6069\n",
      "Epoch 103 | Fold 5 | Train Acc: 0.6903 | Val Acc: 0.6272 | Train loss: 0.5310 Val Loss: 0.6087\n",
      "Epoch 104 | Fold 5 | Train Acc: 0.7100 | Val Acc: 0.6272 | Train loss: 0.5267 Val Loss: 0.6007\n",
      "Epoch 105 | Fold 5 | Train Acc: 0.6858 | Val Acc: 0.5795 | Train loss: 0.5490 Val Loss: 0.6188\n",
      "Epoch 106 | Fold 5 | Train Acc: 0.6931 | Val Acc: 0.5813 | Train loss: 0.5339 Val Loss: 0.6298\n",
      "Epoch 107 | Fold 5 | Train Acc: 0.7016 | Val Acc: 0.5777 | Train loss: 0.5353 Val Loss: 0.6150\n",
      "Epoch 108 | Fold 5 | Train Acc: 0.7044 | Val Acc: 0.5813 | Train loss: 0.5243 Val Loss: 0.6160\n",
      "Epoch 109 | Fold 5 | Train Acc: 0.6898 | Val Acc: 0.5742 | Train loss: 0.5304 Val Loss: 0.6090\n",
      "Epoch 110 | Fold 5 | Train Acc: 0.7038 | Val Acc: 0.5813 | Train loss: 0.5259 Val Loss: 0.6038\n",
      "Epoch 111 | Fold 5 | Train Acc: 0.6988 | Val Acc: 0.6060 | Train loss: 0.5272 Val Loss: 0.6256\n",
      "Epoch 112 | Fold 5 | Train Acc: 0.7117 | Val Acc: 0.6060 | Train loss: 0.5268 Val Loss: 0.6062\n",
      "Epoch 113 | Fold 5 | Train Acc: 0.7095 | Val Acc: 0.6272 | Train loss: 0.5262 Val Loss: 0.6023\n",
      "Epoch 114 | Fold 5 | Train Acc: 0.7066 | Val Acc: 0.6025 | Train loss: 0.5326 Val Loss: 0.6129\n",
      "Epoch 115 | Fold 5 | Train Acc: 0.6971 | Val Acc: 0.5742 | Train loss: 0.5283 Val Loss: 0.6145\n",
      "Epoch 116 | Fold 5 | Train Acc: 0.7050 | Val Acc: 0.6025 | Train loss: 0.5356 Val Loss: 0.6116\n",
      "Epoch 117 | Fold 5 | Train Acc: 0.6976 | Val Acc: 0.6025 | Train loss: 0.5278 Val Loss: 0.6091\n",
      "Epoch 118 | Fold 5 | Train Acc: 0.7123 | Val Acc: 0.6272 | Train loss: 0.5149 Val Loss: 0.5985\n",
      "Epoch 119 | Fold 5 | Train Acc: 0.6976 | Val Acc: 0.6025 | Train loss: 0.5368 Val Loss: 0.6086\n",
      "Epoch 120 | Fold 5 | Train Acc: 0.7005 | Val Acc: 0.6025 | Train loss: 0.5278 Val Loss: 0.6087\n",
      "Epoch 121 | Fold 5 | Train Acc: 0.7044 | Val Acc: 0.6254 | Train loss: 0.5257 Val Loss: 0.6024\n",
      "Epoch 122 | Fold 5 | Train Acc: 0.7134 | Val Acc: 0.6060 | Train loss: 0.5166 Val Loss: 0.6156\n",
      "Epoch 123 | Fold 5 | Train Acc: 0.7066 | Val Acc: 0.6025 | Train loss: 0.5325 Val Loss: 0.6083\n",
      "Epoch 124 | Fold 5 | Train Acc: 0.7016 | Val Acc: 0.6025 | Train loss: 0.5307 Val Loss: 0.6110\n",
      "Epoch 125 | Fold 5 | Train Acc: 0.7066 | Val Acc: 0.6272 | Train loss: 0.5271 Val Loss: 0.6032\n",
      "Epoch 126 | Fold 5 | Train Acc: 0.7016 | Val Acc: 0.6042 | Train loss: 0.5221 Val Loss: 0.6094\n",
      "Epoch 127 | Fold 5 | Train Acc: 0.7061 | Val Acc: 0.6042 | Train loss: 0.5139 Val Loss: 0.6062\n",
      "Epoch 128 | Fold 5 | Train Acc: 0.7050 | Val Acc: 0.6042 | Train loss: 0.5275 Val Loss: 0.6054\n",
      "Epoch 129 | Fold 5 | Train Acc: 0.6982 | Val Acc: 0.6025 | Train loss: 0.5230 Val Loss: 0.6044\n",
      "Epoch 130 | Fold 5 | Train Acc: 0.7140 | Val Acc: 0.6042 | Train loss: 0.5241 Val Loss: 0.6030\n",
      "Epoch 131 | Fold 5 | Train Acc: 0.7005 | Val Acc: 0.6042 | Train loss: 0.5107 Val Loss: 0.6045\n",
      "Epoch 132 | Fold 5 | Train Acc: 0.7145 | Val Acc: 0.6042 | Train loss: 0.5156 Val Loss: 0.6055\n",
      "Epoch 133 | Fold 5 | Train Acc: 0.7089 | Val Acc: 0.6042 | Train loss: 0.5080 Val Loss: 0.5983\n",
      "Epoch 134 | Fold 5 | Train Acc: 0.6999 | Val Acc: 0.6042 | Train loss: 0.5253 Val Loss: 0.5975\n",
      "Epoch 135 | Fold 5 | Train Acc: 0.7128 | Val Acc: 0.6042 | Train loss: 0.5192 Val Loss: 0.6012\n",
      "Epoch 136 | Fold 5 | Train Acc: 0.7078 | Val Acc: 0.6042 | Train loss: 0.5112 Val Loss: 0.6057\n",
      "Epoch 137 | Fold 5 | Train Acc: 0.7061 | Val Acc: 0.6042 | Train loss: 0.5205 Val Loss: 0.6068\n",
      "Epoch 138 | Fold 5 | Train Acc: 0.7055 | Val Acc: 0.6254 | Train loss: 0.5164 Val Loss: 0.6027\n",
      "Epoch 139 | Fold 5 | Train Acc: 0.7100 | Val Acc: 0.6254 | Train loss: 0.5156 Val Loss: 0.6044\n",
      "Epoch 140 | Fold 5 | Train Acc: 0.7089 | Val Acc: 0.6254 | Train loss: 0.5163 Val Loss: 0.6045\n",
      "Epoch 141 | Fold 5 | Train Acc: 0.7140 | Val Acc: 0.6042 | Train loss: 0.5162 Val Loss: 0.6039\n",
      "Epoch 142 | Fold 5 | Train Acc: 0.6971 | Val Acc: 0.6042 | Train loss: 0.5229 Val Loss: 0.6061\n",
      "Epoch 143 | Fold 5 | Train Acc: 0.7055 | Val Acc: 0.6254 | Train loss: 0.5203 Val Loss: 0.5983\n",
      "Epoch 144 | Fold 5 | Train Acc: 0.7055 | Val Acc: 0.6254 | Train loss: 0.5232 Val Loss: 0.6062\n",
      "Epoch 145 | Fold 5 | Train Acc: 0.7145 | Val Acc: 0.6254 | Train loss: 0.5073 Val Loss: 0.6037\n",
      "Epoch 146 | Fold 5 | Train Acc: 0.7083 | Val Acc: 0.6254 | Train loss: 0.5145 Val Loss: 0.6010\n",
      "Epoch 147 | Fold 5 | Train Acc: 0.7151 | Val Acc: 0.6254 | Train loss: 0.5198 Val Loss: 0.6003\n",
      "Epoch 148 | Fold 5 | Train Acc: 0.7027 | Val Acc: 0.6042 | Train loss: 0.5256 Val Loss: 0.6020\n",
      "Epoch 149 | Fold 5 | Train Acc: 0.7089 | Val Acc: 0.6254 | Train loss: 0.5234 Val Loss: 0.6003\n",
      "Epoch 150 | Fold 5 | Train Acc: 0.7117 | Val Acc: 0.6254 | Train loss: 0.5192 Val Loss: 0.6025\n",
      "Epoch 151 | Fold 5 | Train Acc: 0.7072 | Val Acc: 0.6254 | Train loss: 0.5147 Val Loss: 0.5999\n",
      "Epoch 152 | Fold 5 | Train Acc: 0.7072 | Val Acc: 0.6254 | Train loss: 0.5126 Val Loss: 0.6023\n",
      "Epoch 153 | Fold 5 | Train Acc: 0.7061 | Val Acc: 0.6042 | Train loss: 0.5244 Val Loss: 0.6024\n",
      "Epoch 154 | Fold 5 | Train Acc: 0.7185 | Val Acc: 0.6254 | Train loss: 0.5229 Val Loss: 0.5988\n",
      "Epoch 155 | Fold 5 | Train Acc: 0.7078 | Val Acc: 0.6254 | Train loss: 0.5131 Val Loss: 0.6031\n",
      "Epoch 156 | Fold 5 | Train Acc: 0.7072 | Val Acc: 0.6254 | Train loss: 0.5087 Val Loss: 0.6002\n",
      "Epoch 157 | Fold 5 | Train Acc: 0.7162 | Val Acc: 0.6254 | Train loss: 0.5043 Val Loss: 0.6006\n",
      "Epoch 158 | Fold 5 | Train Acc: 0.7066 | Val Acc: 0.6254 | Train loss: 0.5250 Val Loss: 0.6013\n",
      "Epoch 159 | Fold 5 | Train Acc: 0.7202 | Val Acc: 0.6254 | Train loss: 0.5160 Val Loss: 0.6014\n"
     ]
    },
    {
     "name": "stderr",
     "output_type": "stream",
     "text": [
      "c:\\Users\\User\\anaconda3\\envs\\ENVGAT\\lib\\site-packages\\optuna\\trial\\_trial.py:501: UserWarning: The reported value is ignored because this `step` 159 is already reported.\n",
      "  warnings.warn(\n"
     ]
    },
    {
     "name": "stdout",
     "output_type": "stream",
     "text": [
      "Epoch 160 | Fold 5 | Train Acc: 0.7140 | Val Acc: 0.6254 | Train loss: 0.5215 Val Loss: 0.6014\n"
     ]
    },
    {
     "name": "stderr",
     "output_type": "stream",
     "text": [
      "c:\\Users\\User\\anaconda3\\envs\\ENVGAT\\lib\\site-packages\\optuna\\trial\\_trial.py:501: UserWarning: The reported value is ignored because this `step` 160 is already reported.\n",
      "  warnings.warn(\n"
     ]
    },
    {
     "name": "stdout",
     "output_type": "stream",
     "text": [
      "Epoch 161 | Fold 5 | Train Acc: 0.7083 | Val Acc: 0.6254 | Train loss: 0.5188 Val Loss: 0.6005\n"
     ]
    },
    {
     "name": "stderr",
     "output_type": "stream",
     "text": [
      "c:\\Users\\User\\anaconda3\\envs\\ENVGAT\\lib\\site-packages\\optuna\\trial\\_trial.py:501: UserWarning: The reported value is ignored because this `step` 161 is already reported.\n",
      "  warnings.warn(\n"
     ]
    },
    {
     "name": "stdout",
     "output_type": "stream",
     "text": [
      "Epoch 162 | Fold 5 | Train Acc: 0.7173 | Val Acc: 0.6254 | Train loss: 0.5060 Val Loss: 0.6011\n"
     ]
    },
    {
     "name": "stderr",
     "output_type": "stream",
     "text": [
      "c:\\Users\\User\\anaconda3\\envs\\ENVGAT\\lib\\site-packages\\optuna\\trial\\_trial.py:501: UserWarning: The reported value is ignored because this `step` 162 is already reported.\n",
      "  warnings.warn(\n"
     ]
    },
    {
     "name": "stdout",
     "output_type": "stream",
     "text": [
      "Epoch 163 | Fold 5 | Train Acc: 0.7050 | Val Acc: 0.6254 | Train loss: 0.5148 Val Loss: 0.6011\n"
     ]
    },
    {
     "name": "stderr",
     "output_type": "stream",
     "text": [
      "c:\\Users\\User\\anaconda3\\envs\\ENVGAT\\lib\\site-packages\\optuna\\trial\\_trial.py:501: UserWarning: The reported value is ignored because this `step` 163 is already reported.\n",
      "  warnings.warn(\n",
      "[I 2025-07-15 00:23:34,399] Trial 1 finished with value: 0.6906395191388984 and parameters: {'hidden_channels': 64, 'num_layers': 3, 'heads': 2, 'dropout': 0.12818020145528064, 'hidden_dim': 128}. Best is trial 0 with value: 0.6976193737506798.\n"
     ]
    },
    {
     "name": "stdout",
     "output_type": "stream",
     "text": [
      "Epoch 164 | Fold 5 | Train Acc: 0.7072 | Val Acc: 0.6254 | Train loss: 0.5215 Val Loss: 0.6003\n",
      " Early stopping at epoch 164 for fold 5\n",
      " Fold 5: Best Val Acc = 0.6042\n",
      "🏃 View run trial_1 at: http://127.0.0.1:5000/#/experiments/906754211394743286/runs/a76b04153679423b83e35305f2ee950e\n",
      "🧪 View experiment at: http://127.0.0.1:5000/#/experiments/906754211394743286\n",
      "Epoch 001 | Fold 1 | Train Acc: 0.1290 | Val Acc: 0.2736 | Train loss: 1.3887 Val Loss: 1.3581\n",
      "Epoch 002 | Fold 1 | Train Acc: 0.1744 | Val Acc: 0.4717 | Train loss: 1.3799 Val Loss: 1.3692\n",
      "Epoch 003 | Fold 1 | Train Acc: 0.2189 | Val Acc: 0.4403 | Train loss: 1.3720 Val Loss: 1.3451\n",
      "Epoch 004 | Fold 1 | Train Acc: 0.2238 | Val Acc: 0.4874 | Train loss: 1.3543 Val Loss: 1.3285\n",
      "Epoch 005 | Fold 1 | Train Acc: 0.2816 | Val Acc: 0.5975 | Train loss: 1.3340 Val Loss: 1.2950\n",
      "Epoch 006 | Fold 1 | Train Acc: 0.2856 | Val Acc: 0.6604 | Train loss: 1.3105 Val Loss: 1.2464\n",
      "Epoch 007 | Fold 1 | Train Acc: 0.2940 | Val Acc: 0.6792 | Train loss: 1.2750 Val Loss: 1.1910\n",
      "Epoch 008 | Fold 1 | Train Acc: 0.3300 | Val Acc: 0.7296 | Train loss: 1.2124 Val Loss: 1.1138\n",
      "Epoch 009 | Fold 1 | Train Acc: 0.3706 | Val Acc: 0.7642 | Train loss: 1.1765 Val Loss: 1.0182\n",
      "Epoch 010 | Fold 1 | Train Acc: 0.3157 | Val Acc: 0.7547 | Train loss: 1.1415 Val Loss: 0.9740\n",
      "Epoch 011 | Fold 1 | Train Acc: 0.3468 | Val Acc: 0.7799 | Train loss: 1.1079 Val Loss: 0.9248\n",
      "Epoch 012 | Fold 1 | Train Acc: 0.3775 | Val Acc: 0.7767 | Train loss: 1.0919 Val Loss: 0.8840\n",
      "Epoch 013 | Fold 1 | Train Acc: 0.3572 | Val Acc: 0.7673 | Train loss: 1.0654 Val Loss: 0.8695\n",
      "Epoch 014 | Fold 1 | Train Acc: 0.3760 | Val Acc: 0.7704 | Train loss: 1.0759 Val Loss: 0.8616\n",
      "Epoch 015 | Fold 1 | Train Acc: 0.3641 | Val Acc: 0.7673 | Train loss: 1.0573 Val Loss: 0.8011\n",
      "Epoch 016 | Fold 1 | Train Acc: 0.3809 | Val Acc: 0.7642 | Train loss: 1.0451 Val Loss: 0.8033\n",
      "Epoch 017 | Fold 1 | Train Acc: 0.3844 | Val Acc: 0.7547 | Train loss: 1.0173 Val Loss: 0.7966\n",
      "Epoch 018 | Fold 1 | Train Acc: 0.3893 | Val Acc: 0.7642 | Train loss: 1.0243 Val Loss: 0.7893\n",
      "Epoch 019 | Fold 1 | Train Acc: 0.4081 | Val Acc: 0.7642 | Train loss: 1.0155 Val Loss: 0.7672\n",
      "Epoch 020 | Fold 1 | Train Acc: 0.3913 | Val Acc: 0.7547 | Train loss: 1.0224 Val Loss: 0.7611\n",
      "Epoch 021 | Fold 1 | Train Acc: 0.4076 | Val Acc: 0.7547 | Train loss: 1.0115 Val Loss: 0.7470\n",
      "Epoch 022 | Fold 1 | Train Acc: 0.4125 | Val Acc: 0.7704 | Train loss: 0.9886 Val Loss: 0.7516\n",
      "Epoch 023 | Fold 1 | Train Acc: 0.3943 | Val Acc: 0.7547 | Train loss: 1.0098 Val Loss: 0.7241\n",
      "Epoch 024 | Fold 1 | Train Acc: 0.3804 | Val Acc: 0.7642 | Train loss: 0.9864 Val Loss: 0.7214\n",
      "Epoch 025 | Fold 1 | Train Acc: 0.4051 | Val Acc: 0.7642 | Train loss: 0.9836 Val Loss: 0.7223\n",
      "Epoch 026 | Fold 1 | Train Acc: 0.4012 | Val Acc: 0.7642 | Train loss: 1.0044 Val Loss: 0.7126\n",
      "Epoch 027 | Fold 1 | Train Acc: 0.3982 | Val Acc: 0.7642 | Train loss: 0.9621 Val Loss: 0.6921\n",
      "Epoch 028 | Fold 1 | Train Acc: 0.3893 | Val Acc: 0.7642 | Train loss: 1.0195 Val Loss: 0.6995\n",
      "Epoch 029 | Fold 1 | Train Acc: 0.4121 | Val Acc: 0.7673 | Train loss: 0.9587 Val Loss: 0.7235\n",
      "Epoch 030 | Fold 1 | Train Acc: 0.4343 | Val Acc: 0.7610 | Train loss: 0.9908 Val Loss: 0.6850\n",
      "Epoch 031 | Fold 1 | Train Acc: 0.3864 | Val Acc: 0.7642 | Train loss: 1.0096 Val Loss: 0.6814\n",
      "Epoch 032 | Fold 1 | Train Acc: 0.4155 | Val Acc: 0.7704 | Train loss: 0.9820 Val Loss: 0.6877\n",
      "Epoch 033 | Fold 1 | Train Acc: 0.4007 | Val Acc: 0.7704 | Train loss: 0.9678 Val Loss: 0.6742\n",
      "Epoch 034 | Fold 1 | Train Acc: 0.4185 | Val Acc: 0.7704 | Train loss: 0.9683 Val Loss: 0.6808\n",
      "Epoch 035 | Fold 1 | Train Acc: 0.3824 | Val Acc: 0.7704 | Train loss: 1.0019 Val Loss: 0.6677\n",
      "Epoch 036 | Fold 1 | Train Acc: 0.4096 | Val Acc: 0.7799 | Train loss: 0.9534 Val Loss: 0.6753\n",
      "Epoch 037 | Fold 1 | Train Acc: 0.4219 | Val Acc: 0.7799 | Train loss: 0.9524 Val Loss: 0.6678\n",
      "Epoch 038 | Fold 1 | Train Acc: 0.4140 | Val Acc: 0.7799 | Train loss: 0.9766 Val Loss: 0.6574\n",
      "Epoch 039 | Fold 1 | Train Acc: 0.4264 | Val Acc: 0.7799 | Train loss: 0.9676 Val Loss: 0.6588\n",
      "Epoch 040 | Fold 1 | Train Acc: 0.4239 | Val Acc: 0.7799 | Train loss: 0.9810 Val Loss: 0.6556\n",
      "Epoch 041 | Fold 1 | Train Acc: 0.4007 | Val Acc: 0.7767 | Train loss: 0.9566 Val Loss: 0.6558\n",
      "Epoch 042 | Fold 1 | Train Acc: 0.4116 | Val Acc: 0.7767 | Train loss: 0.9757 Val Loss: 0.6437\n",
      "Epoch 043 | Fold 1 | Train Acc: 0.4452 | Val Acc: 0.7767 | Train loss: 0.9602 Val Loss: 0.6533\n",
      "Epoch 044 | Fold 1 | Train Acc: 0.4545 | Val Acc: 0.7767 | Train loss: 0.9593 Val Loss: 0.6440\n",
      "Epoch 045 | Fold 1 | Train Acc: 0.4195 | Val Acc: 0.7704 | Train loss: 0.9580 Val Loss: 0.6310\n",
      "Epoch 046 | Fold 1 | Train Acc: 0.4333 | Val Acc: 0.7736 | Train loss: 0.9335 Val Loss: 0.6427\n",
      "Epoch 047 | Fold 1 | Train Acc: 0.4289 | Val Acc: 0.7704 | Train loss: 0.9619 Val Loss: 0.6432\n",
      "Epoch 048 | Fold 1 | Train Acc: 0.4343 | Val Acc: 0.7704 | Train loss: 0.9547 Val Loss: 0.6496\n",
      "Epoch 049 | Fold 1 | Train Acc: 0.4284 | Val Acc: 0.7736 | Train loss: 0.9695 Val Loss: 0.6557\n",
      "Epoch 050 | Fold 1 | Train Acc: 0.4461 | Val Acc: 0.7642 | Train loss: 0.9425 Val Loss: 0.6621\n",
      "Epoch 051 | Fold 1 | Train Acc: 0.4689 | Val Acc: 0.7673 | Train loss: 0.9284 Val Loss: 0.6607\n",
      "Epoch 052 | Fold 1 | Train Acc: 0.4526 | Val Acc: 0.7704 | Train loss: 0.9749 Val Loss: 0.6517\n",
      "Epoch 053 | Fold 1 | Train Acc: 0.4699 | Val Acc: 0.7484 | Train loss: 0.9561 Val Loss: 0.6606\n",
      "Epoch 054 | Fold 1 | Train Acc: 0.4629 | Val Acc: 0.7673 | Train loss: 0.9053 Val Loss: 0.6354\n",
      "Epoch 055 | Fold 1 | Train Acc: 0.4422 | Val Acc: 0.7642 | Train loss: 0.9290 Val Loss: 0.6365\n",
      "Epoch 056 | Fold 1 | Train Acc: 0.4437 | Val Acc: 0.7704 | Train loss: 0.9399 Val Loss: 0.6467\n",
      "Epoch 057 | Fold 1 | Train Acc: 0.4610 | Val Acc: 0.7799 | Train loss: 0.9259 Val Loss: 0.6557\n",
      "Epoch 058 | Fold 1 | Train Acc: 0.4516 | Val Acc: 0.7799 | Train loss: 0.9166 Val Loss: 0.6604\n",
      "Epoch 059 | Fold 1 | Train Acc: 0.4555 | Val Acc: 0.7767 | Train loss: 0.9115 Val Loss: 0.6614\n",
      "Epoch 060 | Fold 1 | Train Acc: 0.4679 | Val Acc: 0.7799 | Train loss: 0.9162 Val Loss: 0.6450\n",
      "Epoch 061 | Fold 1 | Train Acc: 0.4743 | Val Acc: 0.7516 | Train loss: 0.9279 Val Loss: 0.6539\n",
      "Epoch 062 | Fold 1 | Train Acc: 0.4718 | Val Acc: 0.7799 | Train loss: 0.9082 Val Loss: 0.6545\n",
      "Epoch 063 | Fold 1 | Train Acc: 0.4461 | Val Acc: 0.7673 | Train loss: 0.9468 Val Loss: 0.6818\n",
      "Epoch 064 | Fold 1 | Train Acc: 0.4679 | Val Acc: 0.7799 | Train loss: 0.9092 Val Loss: 0.6711\n",
      "Epoch 065 | Fold 1 | Train Acc: 0.4704 | Val Acc: 0.7704 | Train loss: 0.9472 Val Loss: 0.6879\n",
      "Epoch 066 | Fold 1 | Train Acc: 0.4555 | Val Acc: 0.7767 | Train loss: 0.9375 Val Loss: 0.6753\n",
      "Epoch 067 | Fold 1 | Train Acc: 0.4555 | Val Acc: 0.7799 | Train loss: 0.9381 Val Loss: 0.7069\n",
      "Epoch 068 | Fold 1 | Train Acc: 0.4921 | Val Acc: 0.7799 | Train loss: 0.8797 Val Loss: 0.7271\n",
      "Epoch 069 | Fold 1 | Train Acc: 0.4713 | Val Acc: 0.7799 | Train loss: 0.9357 Val Loss: 0.7083\n",
      "Epoch 070 | Fold 1 | Train Acc: 0.4768 | Val Acc: 0.7799 | Train loss: 0.9032 Val Loss: 0.7189\n",
      "Epoch 071 | Fold 1 | Train Acc: 0.4713 | Val Acc: 0.7233 | Train loss: 0.9068 Val Loss: 0.7463\n",
      "Epoch 072 | Fold 1 | Train Acc: 0.4832 | Val Acc: 0.7673 | Train loss: 0.9210 Val Loss: 0.7161\n",
      "Epoch 073 | Fold 1 | Train Acc: 0.4797 | Val Acc: 0.7233 | Train loss: 0.8907 Val Loss: 0.7284\n",
      "Epoch 074 | Fold 1 | Train Acc: 0.4718 | Val Acc: 0.7264 | Train loss: 0.9013 Val Loss: 0.7383\n",
      "Epoch 075 | Fold 1 | Train Acc: 0.4778 | Val Acc: 0.7264 | Train loss: 0.8935 Val Loss: 0.7436\n",
      " Early stopping at epoch 75 for fold 1\n",
      " Fold 1: Best Val Acc = 0.7704\n",
      "Epoch 001 | Fold 2 | Train Acc: 0.3418 | Val Acc: 0.3673 | Train loss: 1.3908 Val Loss: 1.3772\n",
      "Epoch 002 | Fold 2 | Train Acc: 0.3339 | Val Acc: 0.3274 | Train loss: 1.3722 Val Loss: 1.3635\n",
      "Epoch 003 | Fold 2 | Train Acc: 0.3138 | Val Acc: 0.3252 | Train loss: 1.3582 Val Loss: 1.3474\n",
      "Epoch 004 | Fold 2 | Train Acc: 0.3270 | Val Acc: 0.5531 | Train loss: 1.3388 Val Loss: 1.3289\n",
      "Epoch 005 | Fold 2 | Train Acc: 0.4175 | Val Acc: 0.5796 | Train loss: 1.3141 Val Loss: 1.2979\n",
      "Epoch 006 | Fold 2 | Train Acc: 0.4053 | Val Acc: 0.5000 | Train loss: 1.2587 Val Loss: 1.2514\n",
      "Epoch 007 | Fold 2 | Train Acc: 0.4190 | Val Acc: 0.4735 | Train loss: 1.1925 Val Loss: 1.1925\n",
      "Epoch 008 | Fold 2 | Train Acc: 0.4101 | Val Acc: 0.5819 | Train loss: 1.1767 Val Loss: 1.1460\n",
      "Epoch 009 | Fold 2 | Train Acc: 0.4095 | Val Acc: 0.5398 | Train loss: 1.1315 Val Loss: 1.0883\n",
      "Epoch 010 | Fold 2 | Train Acc: 0.4111 | Val Acc: 0.5575 | Train loss: 1.1182 Val Loss: 1.0657\n",
      "Epoch 011 | Fold 2 | Train Acc: 0.4328 | Val Acc: 0.5642 | Train loss: 1.0811 Val Loss: 1.0252\n",
      "Epoch 012 | Fold 2 | Train Acc: 0.4323 | Val Acc: 0.5465 | Train loss: 1.0408 Val Loss: 0.9886\n",
      "Epoch 013 | Fold 2 | Train Acc: 0.4169 | Val Acc: 0.5664 | Train loss: 1.0192 Val Loss: 0.9595\n",
      "Epoch 014 | Fold 2 | Train Acc: 0.4164 | Val Acc: 0.5664 | Train loss: 1.0408 Val Loss: 0.9392\n",
      "Epoch 015 | Fold 2 | Train Acc: 0.4392 | Val Acc: 0.5686 | Train loss: 0.9866 Val Loss: 0.9278\n",
      "Epoch 016 | Fold 2 | Train Acc: 0.4291 | Val Acc: 0.5752 | Train loss: 0.9964 Val Loss: 0.8954\n",
      "Epoch 017 | Fold 2 | Train Acc: 0.4291 | Val Acc: 0.5730 | Train loss: 0.9788 Val Loss: 0.8871\n",
      "Epoch 018 | Fold 2 | Train Acc: 0.4243 | Val Acc: 0.5774 | Train loss: 0.9961 Val Loss: 0.8648\n",
      "Epoch 019 | Fold 2 | Train Acc: 0.4460 | Val Acc: 0.5796 | Train loss: 0.9790 Val Loss: 0.8617\n",
      "Epoch 020 | Fold 2 | Train Acc: 0.4513 | Val Acc: 0.5774 | Train loss: 0.9495 Val Loss: 0.8515\n",
      "Epoch 021 | Fold 2 | Train Acc: 0.4344 | Val Acc: 0.5752 | Train loss: 0.9993 Val Loss: 0.8331\n",
      "Epoch 022 | Fold 2 | Train Acc: 0.4540 | Val Acc: 0.5752 | Train loss: 0.9494 Val Loss: 0.8248\n",
      "Epoch 023 | Fold 2 | Train Acc: 0.4524 | Val Acc: 0.5730 | Train loss: 0.9220 Val Loss: 0.8191\n",
      "Epoch 024 | Fold 2 | Train Acc: 0.4545 | Val Acc: 0.5996 | Train loss: 0.9521 Val Loss: 0.8216\n",
      "Epoch 025 | Fold 2 | Train Acc: 0.4762 | Val Acc: 0.5819 | Train loss: 0.9263 Val Loss: 0.8035\n",
      "Epoch 026 | Fold 2 | Train Acc: 0.4265 | Val Acc: 0.5752 | Train loss: 0.9842 Val Loss: 0.7908\n",
      "Epoch 027 | Fold 2 | Train Acc: 0.4407 | Val Acc: 0.6040 | Train loss: 0.9543 Val Loss: 0.8036\n",
      "Epoch 028 | Fold 2 | Train Acc: 0.4254 | Val Acc: 0.6018 | Train loss: 0.9957 Val Loss: 0.8008\n",
      "Epoch 029 | Fold 2 | Train Acc: 0.4587 | Val Acc: 0.6305 | Train loss: 0.9455 Val Loss: 0.7843\n",
      "Epoch 030 | Fold 2 | Train Acc: 0.4413 | Val Acc: 0.5951 | Train loss: 0.9346 Val Loss: 0.7746\n",
      "Epoch 031 | Fold 2 | Train Acc: 0.4693 | Val Acc: 0.6460 | Train loss: 0.9203 Val Loss: 0.7850\n",
      "Epoch 032 | Fold 2 | Train Acc: 0.4556 | Val Acc: 0.6327 | Train loss: 0.9454 Val Loss: 0.7640\n",
      "Epoch 033 | Fold 2 | Train Acc: 0.4820 | Val Acc: 0.6438 | Train loss: 0.9380 Val Loss: 0.7749\n",
      "Epoch 034 | Fold 2 | Train Acc: 0.4413 | Val Acc: 0.5951 | Train loss: 0.9539 Val Loss: 0.7449\n",
      "Epoch 035 | Fold 2 | Train Acc: 0.4381 | Val Acc: 0.6460 | Train loss: 0.9511 Val Loss: 0.7575\n",
      "Epoch 036 | Fold 2 | Train Acc: 0.4656 | Val Acc: 0.6482 | Train loss: 0.9514 Val Loss: 0.7650\n",
      "Epoch 037 | Fold 2 | Train Acc: 0.4635 | Val Acc: 0.6460 | Train loss: 0.9141 Val Loss: 0.7588\n",
      "Epoch 038 | Fold 2 | Train Acc: 0.4540 | Val Acc: 0.6394 | Train loss: 0.9286 Val Loss: 0.7536\n",
      "Epoch 039 | Fold 2 | Train Acc: 0.4487 | Val Acc: 0.6394 | Train loss: 0.9092 Val Loss: 0.7506\n",
      "Epoch 040 | Fold 2 | Train Acc: 0.4556 | Val Acc: 0.6593 | Train loss: 0.9285 Val Loss: 0.7608\n",
      "Epoch 041 | Fold 2 | Train Acc: 0.4582 | Val Acc: 0.6460 | Train loss: 0.8964 Val Loss: 0.7608\n",
      "Epoch 042 | Fold 2 | Train Acc: 0.4487 | Val Acc: 0.6460 | Train loss: 0.9237 Val Loss: 0.7480\n",
      "Epoch 043 | Fold 2 | Train Acc: 0.4630 | Val Acc: 0.6527 | Train loss: 0.9204 Val Loss: 0.8005\n",
      "Epoch 044 | Fold 2 | Train Acc: 0.4582 | Val Acc: 0.6726 | Train loss: 0.9134 Val Loss: 0.7548\n",
      "Epoch 045 | Fold 2 | Train Acc: 0.4735 | Val Acc: 0.6814 | Train loss: 0.9046 Val Loss: 0.7541\n",
      "Epoch 046 | Fold 2 | Train Acc: 0.4513 | Val Acc: 0.6726 | Train loss: 0.9329 Val Loss: 0.7605\n",
      "Epoch 047 | Fold 2 | Train Acc: 0.4619 | Val Acc: 0.6571 | Train loss: 0.9056 Val Loss: 0.7676\n",
      "Epoch 048 | Fold 2 | Train Acc: 0.4683 | Val Acc: 0.6792 | Train loss: 0.9209 Val Loss: 0.7775\n",
      "Epoch 049 | Fold 2 | Train Acc: 0.4556 | Val Acc: 0.6792 | Train loss: 0.9166 Val Loss: 0.7648\n",
      "Epoch 050 | Fold 2 | Train Acc: 0.4735 | Val Acc: 0.6748 | Train loss: 0.9140 Val Loss: 0.7661\n",
      "Epoch 051 | Fold 2 | Train Acc: 0.4704 | Val Acc: 0.6549 | Train loss: 0.8783 Val Loss: 0.7801\n",
      "Epoch 052 | Fold 2 | Train Acc: 0.4413 | Val Acc: 0.6571 | Train loss: 0.9319 Val Loss: 0.7489\n",
      "Epoch 053 | Fold 2 | Train Acc: 0.4561 | Val Acc: 0.6748 | Train loss: 0.9097 Val Loss: 0.7780\n",
      "Epoch 054 | Fold 2 | Train Acc: 0.4873 | Val Acc: 0.6527 | Train loss: 0.9005 Val Loss: 0.7853\n",
      "Epoch 055 | Fold 2 | Train Acc: 0.4508 | Val Acc: 0.6726 | Train loss: 0.8947 Val Loss: 0.8431\n",
      "Epoch 056 | Fold 2 | Train Acc: 0.4561 | Val Acc: 0.6991 | Train loss: 0.9298 Val Loss: 0.8933\n",
      "Epoch 057 | Fold 2 | Train Acc: 0.4783 | Val Acc: 0.6925 | Train loss: 0.8773 Val Loss: 0.8596\n",
      "Epoch 058 | Fold 2 | Train Acc: 0.4614 | Val Acc: 0.6925 | Train loss: 0.9068 Val Loss: 0.8406\n",
      "Epoch 059 | Fold 2 | Train Acc: 0.4524 | Val Acc: 0.6881 | Train loss: 0.9109 Val Loss: 0.8499\n",
      "Epoch 060 | Fold 2 | Train Acc: 0.4651 | Val Acc: 0.6858 | Train loss: 0.8987 Val Loss: 0.8984\n",
      "Epoch 061 | Fold 2 | Train Acc: 0.4873 | Val Acc: 0.6770 | Train loss: 0.8704 Val Loss: 0.9161\n",
      "Epoch 062 | Fold 2 | Train Acc: 0.4730 | Val Acc: 0.6770 | Train loss: 0.8731 Val Loss: 0.9379\n",
      "Epoch 063 | Fold 2 | Train Acc: 0.4810 | Val Acc: 0.6858 | Train loss: 0.8730 Val Loss: 0.9230\n",
      "Epoch 064 | Fold 2 | Train Acc: 0.4566 | Val Acc: 0.6549 | Train loss: 0.9095 Val Loss: 0.9383\n",
      " Early stopping at epoch 64 for fold 2\n",
      " Fold 2: Best Val Acc = 0.5951\n",
      "Epoch 001 | Fold 3 | Train Acc: 0.3286 | Val Acc: 0.3468 | Train loss: 1.3864 Val Loss: 1.3804\n",
      "Epoch 002 | Fold 3 | Train Acc: 0.3337 | Val Acc: 0.3680 | Train loss: 1.3734 Val Loss: 1.3737\n",
      "Epoch 003 | Fold 3 | Train Acc: 0.3219 | Val Acc: 0.5070 | Train loss: 1.3645 Val Loss: 1.3676\n",
      "Epoch 004 | Fold 3 | Train Acc: 0.3450 | Val Acc: 0.4419 | Train loss: 1.3438 Val Loss: 1.3592\n",
      "Epoch 005 | Fold 3 | Train Acc: 0.3596 | Val Acc: 0.4085 | Train loss: 1.3121 Val Loss: 1.3445\n",
      "Epoch 006 | Fold 3 | Train Acc: 0.3191 | Val Acc: 0.4085 | Train loss: 1.2766 Val Loss: 1.3192\n",
      "Epoch 007 | Fold 3 | Train Acc: 0.3253 | Val Acc: 0.4085 | Train loss: 1.2090 Val Loss: 1.2934\n",
      "Epoch 008 | Fold 3 | Train Acc: 0.3439 | Val Acc: 0.4701 | Train loss: 1.1428 Val Loss: 1.2497\n",
      "Epoch 009 | Fold 3 | Train Acc: 0.3675 | Val Acc: 0.4894 | Train loss: 1.0971 Val Loss: 1.2053\n",
      "Epoch 010 | Fold 3 | Train Acc: 0.3974 | Val Acc: 0.5528 | Train loss: 1.0557 Val Loss: 1.1687\n",
      "Epoch 011 | Fold 3 | Train Acc: 0.4177 | Val Acc: 0.5581 | Train loss: 1.0024 Val Loss: 1.1287\n",
      "Epoch 012 | Fold 3 | Train Acc: 0.3732 | Val Acc: 0.5194 | Train loss: 1.0101 Val Loss: 1.1081\n",
      "Epoch 013 | Fold 3 | Train Acc: 0.3771 | Val Acc: 0.5511 | Train loss: 1.0202 Val Loss: 1.0967\n",
      "Epoch 014 | Fold 3 | Train Acc: 0.3766 | Val Acc: 0.5880 | Train loss: 1.0380 Val Loss: 1.0855\n",
      "Epoch 015 | Fold 3 | Train Acc: 0.4177 | Val Acc: 0.5739 | Train loss: 1.0078 Val Loss: 1.0812\n",
      "Epoch 016 | Fold 3 | Train Acc: 0.4278 | Val Acc: 0.5546 | Train loss: 0.9660 Val Loss: 1.0651\n",
      "Epoch 017 | Fold 3 | Train Acc: 0.4087 | Val Acc: 0.6004 | Train loss: 0.9698 Val Loss: 1.0478\n",
      "Epoch 018 | Fold 3 | Train Acc: 0.4121 | Val Acc: 0.5651 | Train loss: 0.9680 Val Loss: 1.0533\n",
      "Epoch 019 | Fold 3 | Train Acc: 0.4340 | Val Acc: 0.5810 | Train loss: 0.9653 Val Loss: 1.0242\n",
      "Epoch 020 | Fold 3 | Train Acc: 0.4363 | Val Acc: 0.5845 | Train loss: 0.9405 Val Loss: 1.0211\n",
      "Epoch 021 | Fold 3 | Train Acc: 0.4363 | Val Acc: 0.5634 | Train loss: 0.9419 Val Loss: 1.0209\n",
      "Epoch 022 | Fold 3 | Train Acc: 0.4448 | Val Acc: 0.5968 | Train loss: 0.9336 Val Loss: 1.0114\n",
      "Epoch 023 | Fold 3 | Train Acc: 0.4504 | Val Acc: 0.5792 | Train loss: 0.8940 Val Loss: 0.9955\n",
      "Epoch 024 | Fold 3 | Train Acc: 0.4324 | Val Acc: 0.5968 | Train loss: 0.9298 Val Loss: 0.9888\n",
      "Epoch 025 | Fold 3 | Train Acc: 0.4549 | Val Acc: 0.5810 | Train loss: 0.9156 Val Loss: 1.0004\n",
      "Epoch 026 | Fold 3 | Train Acc: 0.4515 | Val Acc: 0.5933 | Train loss: 0.9310 Val Loss: 0.9744\n",
      "Epoch 027 | Fold 3 | Train Acc: 0.4684 | Val Acc: 0.5757 | Train loss: 0.9090 Val Loss: 0.9885\n",
      "Epoch 028 | Fold 3 | Train Acc: 0.4504 | Val Acc: 0.5687 | Train loss: 0.9193 Val Loss: 1.0010\n",
      "Epoch 029 | Fold 3 | Train Acc: 0.4560 | Val Acc: 0.5968 | Train loss: 0.9158 Val Loss: 1.0002\n",
      "Epoch 030 | Fold 3 | Train Acc: 0.4758 | Val Acc: 0.5880 | Train loss: 0.8997 Val Loss: 0.9930\n",
      "Epoch 031 | Fold 3 | Train Acc: 0.4419 | Val Acc: 0.5968 | Train loss: 0.9068 Val Loss: 0.9740\n",
      "Epoch 032 | Fold 3 | Train Acc: 0.4436 | Val Acc: 0.5968 | Train loss: 0.9255 Val Loss: 0.9794\n",
      "Epoch 033 | Fold 3 | Train Acc: 0.4611 | Val Acc: 0.5951 | Train loss: 0.9221 Val Loss: 0.9849\n",
      "Epoch 034 | Fold 3 | Train Acc: 0.4786 | Val Acc: 0.5775 | Train loss: 0.9254 Val Loss: 1.0224\n",
      "Epoch 035 | Fold 3 | Train Acc: 0.4797 | Val Acc: 0.5898 | Train loss: 0.8944 Val Loss: 1.0021\n",
      "Epoch 036 | Fold 3 | Train Acc: 0.4532 | Val Acc: 0.6004 | Train loss: 0.8731 Val Loss: 1.0017\n",
      "Epoch 037 | Fold 3 | Train Acc: 0.4729 | Val Acc: 0.5880 | Train loss: 0.8690 Val Loss: 1.0261\n",
      "Epoch 038 | Fold 3 | Train Acc: 0.4853 | Val Acc: 0.6092 | Train loss: 0.8808 Val Loss: 1.0632\n",
      "Epoch 039 | Fold 3 | Train Acc: 0.4814 | Val Acc: 0.6144 | Train loss: 0.8872 Val Loss: 1.0416\n",
      "Epoch 040 | Fold 3 | Train Acc: 0.4831 | Val Acc: 0.6144 | Train loss: 0.9185 Val Loss: 1.0219\n",
      "Epoch 041 | Fold 3 | Train Acc: 0.4853 | Val Acc: 0.5599 | Train loss: 0.8716 Val Loss: 1.1501\n",
      "Epoch 042 | Fold 3 | Train Acc: 0.4961 | Val Acc: 0.5739 | Train loss: 0.8605 Val Loss: 1.2217\n",
      "Epoch 043 | Fold 3 | Train Acc: 0.4910 | Val Acc: 0.5757 | Train loss: 0.8661 Val Loss: 1.1802\n",
      "Epoch 044 | Fold 3 | Train Acc: 0.4932 | Val Acc: 0.5863 | Train loss: 0.8858 Val Loss: 1.1675\n",
      "Epoch 045 | Fold 3 | Train Acc: 0.5186 | Val Acc: 0.5581 | Train loss: 0.8450 Val Loss: 1.2679\n",
      "Epoch 046 | Fold 3 | Train Acc: 0.4876 | Val Acc: 0.5704 | Train loss: 0.8589 Val Loss: 1.2417\n",
      "Epoch 047 | Fold 3 | Train Acc: 0.4673 | Val Acc: 0.5581 | Train loss: 0.8891 Val Loss: 1.3079\n",
      "Epoch 048 | Fold 3 | Train Acc: 0.4882 | Val Acc: 0.5722 | Train loss: 0.8893 Val Loss: 1.2384\n",
      "Epoch 049 | Fold 3 | Train Acc: 0.4938 | Val Acc: 0.5739 | Train loss: 0.8642 Val Loss: 1.1665\n",
      "Epoch 050 | Fold 3 | Train Acc: 0.4780 | Val Acc: 0.5704 | Train loss: 0.8883 Val Loss: 1.2461\n",
      "Epoch 051 | Fold 3 | Train Acc: 0.4786 | Val Acc: 0.5581 | Train loss: 0.8774 Val Loss: 1.4045\n",
      "Epoch 052 | Fold 3 | Train Acc: 0.4887 | Val Acc: 0.5775 | Train loss: 0.8566 Val Loss: 1.2352\n",
      "Epoch 053 | Fold 3 | Train Acc: 0.4887 | Val Acc: 0.5493 | Train loss: 0.8655 Val Loss: 1.4947\n",
      "Epoch 054 | Fold 3 | Train Acc: 0.5028 | Val Acc: 0.5493 | Train loss: 0.8308 Val Loss: 1.4648\n",
      "Epoch 055 | Fold 3 | Train Acc: 0.5135 | Val Acc: 0.5634 | Train loss: 0.8302 Val Loss: 1.4586\n",
      "Epoch 056 | Fold 3 | Train Acc: 0.4921 | Val Acc: 0.5563 | Train loss: 0.8927 Val Loss: 1.3659\n",
      "Epoch 057 | Fold 3 | Train Acc: 0.5214 | Val Acc: 0.5493 | Train loss: 0.8521 Val Loss: 1.3290\n",
      "Epoch 058 | Fold 3 | Train Acc: 0.4758 | Val Acc: 0.5475 | Train loss: 0.8731 Val Loss: 1.4983\n",
      "Epoch 059 | Fold 3 | Train Acc: 0.4831 | Val Acc: 0.5546 | Train loss: 0.8545 Val Loss: 1.4978\n",
      "Epoch 060 | Fold 3 | Train Acc: 0.4932 | Val Acc: 0.5511 | Train loss: 0.8602 Val Loss: 1.5337\n",
      "Epoch 061 | Fold 3 | Train Acc: 0.4927 | Val Acc: 0.5634 | Train loss: 0.8464 Val Loss: 1.3877\n",
      " Early stopping at epoch 61 for fold 3\n",
      " Fold 3: Best Val Acc = 0.5968\n",
      "Epoch 001 | Fold 4 | Train Acc: 0.2337 | Val Acc: 0.2968 | Train loss: 1.3884 Val Loss: 1.3726\n",
      "Epoch 002 | Fold 4 | Train Acc: 0.2500 | Val Acc: 0.2603 | Train loss: 1.3701 Val Loss: 1.3583\n",
      "Epoch 003 | Fold 4 | Train Acc: 0.2826 | Val Acc: 0.4132 | Train loss: 1.3536 Val Loss: 1.3392\n",
      "Epoch 004 | Fold 4 | Train Acc: 0.3283 | Val Acc: 0.4110 | Train loss: 1.3290 Val Loss: 1.3125\n",
      "Epoch 005 | Fold 4 | Train Acc: 0.3256 | Val Acc: 0.4452 | Train loss: 1.2926 Val Loss: 1.2719\n",
      "Epoch 006 | Fold 4 | Train Acc: 0.3493 | Val Acc: 0.4863 | Train loss: 1.2452 Val Loss: 1.2162\n",
      "Epoch 007 | Fold 4 | Train Acc: 0.3666 | Val Acc: 0.5411 | Train loss: 1.2016 Val Loss: 1.1505\n",
      "Epoch 008 | Fold 4 | Train Acc: 0.3582 | Val Acc: 0.5548 | Train loss: 1.1485 Val Loss: 1.0769\n",
      "Epoch 009 | Fold 4 | Train Acc: 0.3750 | Val Acc: 0.5479 | Train loss: 1.1186 Val Loss: 1.0172\n",
      "Epoch 010 | Fold 4 | Train Acc: 0.3813 | Val Acc: 0.5205 | Train loss: 1.0918 Val Loss: 0.9673\n",
      "Epoch 011 | Fold 4 | Train Acc: 0.3629 | Val Acc: 0.5274 | Train loss: 1.0629 Val Loss: 0.9306\n",
      "Epoch 012 | Fold 4 | Train Acc: 0.3950 | Val Acc: 0.5525 | Train loss: 1.0183 Val Loss: 0.8997\n",
      "Epoch 013 | Fold 4 | Train Acc: 0.3761 | Val Acc: 0.5388 | Train loss: 1.0462 Val Loss: 0.8831\n",
      "Epoch 014 | Fold 4 | Train Acc: 0.4039 | Val Acc: 0.6027 | Train loss: 1.0029 Val Loss: 0.8744\n",
      "Epoch 015 | Fold 4 | Train Acc: 0.3902 | Val Acc: 0.5548 | Train loss: 1.0183 Val Loss: 0.8481\n",
      "Epoch 016 | Fold 4 | Train Acc: 0.3934 | Val Acc: 0.5890 | Train loss: 0.9846 Val Loss: 0.8318\n",
      "Epoch 017 | Fold 4 | Train Acc: 0.3997 | Val Acc: 0.5959 | Train loss: 0.9855 Val Loss: 0.8195\n",
      "Epoch 018 | Fold 4 | Train Acc: 0.4065 | Val Acc: 0.5845 | Train loss: 0.9843 Val Loss: 0.8143\n",
      "Epoch 019 | Fold 4 | Train Acc: 0.3834 | Val Acc: 0.5776 | Train loss: 0.9905 Val Loss: 0.8041\n",
      "Epoch 020 | Fold 4 | Train Acc: 0.4076 | Val Acc: 0.5639 | Train loss: 0.9514 Val Loss: 0.7911\n",
      "Epoch 021 | Fold 4 | Train Acc: 0.3960 | Val Acc: 0.5731 | Train loss: 0.9501 Val Loss: 0.7806\n",
      "Epoch 022 | Fold 4 | Train Acc: 0.4028 | Val Acc: 0.5845 | Train loss: 0.9715 Val Loss: 0.7782\n",
      "Epoch 023 | Fold 4 | Train Acc: 0.4181 | Val Acc: 0.5753 | Train loss: 0.9583 Val Loss: 0.7702\n",
      "Epoch 024 | Fold 4 | Train Acc: 0.4286 | Val Acc: 0.5936 | Train loss: 0.9616 Val Loss: 0.7634\n",
      "Epoch 025 | Fold 4 | Train Acc: 0.3981 | Val Acc: 0.5959 | Train loss: 0.9918 Val Loss: 0.7566\n",
      "Epoch 026 | Fold 4 | Train Acc: 0.4049 | Val Acc: 0.5799 | Train loss: 0.9664 Val Loss: 0.7519\n",
      "Epoch 027 | Fold 4 | Train Acc: 0.4312 | Val Acc: 0.6005 | Train loss: 0.9410 Val Loss: 0.7447\n",
      "Epoch 028 | Fold 4 | Train Acc: 0.4270 | Val Acc: 0.5868 | Train loss: 0.9363 Val Loss: 0.7357\n",
      "Epoch 029 | Fold 4 | Train Acc: 0.4175 | Val Acc: 0.5799 | Train loss: 0.9473 Val Loss: 0.7233\n",
      "Epoch 030 | Fold 4 | Train Acc: 0.4034 | Val Acc: 0.5845 | Train loss: 0.9150 Val Loss: 0.7211\n",
      "Epoch 031 | Fold 4 | Train Acc: 0.4112 | Val Acc: 0.6096 | Train loss: 0.9357 Val Loss: 0.7232\n",
      "Epoch 032 | Fold 4 | Train Acc: 0.4244 | Val Acc: 0.5913 | Train loss: 0.9320 Val Loss: 0.7167\n",
      "Epoch 033 | Fold 4 | Train Acc: 0.4517 | Val Acc: 0.6164 | Train loss: 0.9109 Val Loss: 0.7272\n",
      "Epoch 034 | Fold 4 | Train Acc: 0.4181 | Val Acc: 0.5982 | Train loss: 0.9263 Val Loss: 0.7170\n",
      "Epoch 035 | Fold 4 | Train Acc: 0.4354 | Val Acc: 0.6073 | Train loss: 0.9176 Val Loss: 0.7126\n",
      "Epoch 036 | Fold 4 | Train Acc: 0.4386 | Val Acc: 0.6050 | Train loss: 0.9218 Val Loss: 0.7184\n",
      "Epoch 037 | Fold 4 | Train Acc: 0.4359 | Val Acc: 0.6027 | Train loss: 0.8896 Val Loss: 0.7205\n",
      "Epoch 038 | Fold 4 | Train Acc: 0.4165 | Val Acc: 0.6096 | Train loss: 0.9229 Val Loss: 0.7133\n",
      "Epoch 039 | Fold 4 | Train Acc: 0.4233 | Val Acc: 0.6164 | Train loss: 0.9119 Val Loss: 0.7136\n",
      "Epoch 040 | Fold 4 | Train Acc: 0.4328 | Val Acc: 0.6119 | Train loss: 0.9008 Val Loss: 0.7317\n",
      "Epoch 041 | Fold 4 | Train Acc: 0.4428 | Val Acc: 0.6279 | Train loss: 0.8955 Val Loss: 0.7190\n",
      "Epoch 042 | Fold 4 | Train Acc: 0.4328 | Val Acc: 0.6073 | Train loss: 0.9225 Val Loss: 0.6904\n",
      "Epoch 043 | Fold 4 | Train Acc: 0.4238 | Val Acc: 0.6210 | Train loss: 0.9020 Val Loss: 0.7159\n",
      "Epoch 044 | Fold 4 | Train Acc: 0.4322 | Val Acc: 0.6233 | Train loss: 0.8939 Val Loss: 0.7191\n",
      "Epoch 045 | Fold 4 | Train Acc: 0.4275 | Val Acc: 0.6279 | Train loss: 0.9030 Val Loss: 0.7348\n",
      "Epoch 046 | Fold 4 | Train Acc: 0.4154 | Val Acc: 0.6301 | Train loss: 0.9094 Val Loss: 0.7232\n",
      "Epoch 047 | Fold 4 | Train Acc: 0.4364 | Val Acc: 0.6301 | Train loss: 0.9181 Val Loss: 0.7336\n",
      "Epoch 048 | Fold 4 | Train Acc: 0.4433 | Val Acc: 0.6393 | Train loss: 0.8856 Val Loss: 0.7358\n",
      "Epoch 049 | Fold 4 | Train Acc: 0.4496 | Val Acc: 0.6324 | Train loss: 0.8774 Val Loss: 0.7414\n",
      "Epoch 050 | Fold 4 | Train Acc: 0.4501 | Val Acc: 0.6187 | Train loss: 0.9017 Val Loss: 0.8038\n",
      "Epoch 051 | Fold 4 | Train Acc: 0.4422 | Val Acc: 0.6256 | Train loss: 0.9005 Val Loss: 0.8071\n",
      "Epoch 052 | Fold 4 | Train Acc: 0.4685 | Val Acc: 0.6324 | Train loss: 0.8873 Val Loss: 0.7692\n",
      "Epoch 053 | Fold 4 | Train Acc: 0.4475 | Val Acc: 0.6256 | Train loss: 0.8735 Val Loss: 0.7972\n",
      "Epoch 054 | Fold 4 | Train Acc: 0.4617 | Val Acc: 0.5616 | Train loss: 0.8841 Val Loss: 0.9643\n",
      "Epoch 055 | Fold 4 | Train Acc: 0.4559 | Val Acc: 0.5913 | Train loss: 0.8756 Val Loss: 0.8887\n",
      "Epoch 056 | Fold 4 | Train Acc: 0.4412 | Val Acc: 0.6347 | Train loss: 0.8993 Val Loss: 0.8028\n",
      "Epoch 057 | Fold 4 | Train Acc: 0.4543 | Val Acc: 0.5936 | Train loss: 0.8935 Val Loss: 0.8563\n",
      "Epoch 058 | Fold 4 | Train Acc: 0.4643 | Val Acc: 0.5753 | Train loss: 0.8925 Val Loss: 1.0045\n",
      "Epoch 059 | Fold 4 | Train Acc: 0.4632 | Val Acc: 0.6210 | Train loss: 0.8625 Val Loss: 0.8678\n",
      "Epoch 060 | Fold 4 | Train Acc: 0.4580 | Val Acc: 0.6393 | Train loss: 0.8801 Val Loss: 0.8021\n",
      "Epoch 061 | Fold 4 | Train Acc: 0.4632 | Val Acc: 0.6119 | Train loss: 0.8923 Val Loss: 0.9110\n",
      "Epoch 062 | Fold 4 | Train Acc: 0.4674 | Val Acc: 0.6279 | Train loss: 0.8930 Val Loss: 1.0665\n",
      "Epoch 063 | Fold 4 | Train Acc: 0.4522 | Val Acc: 0.5822 | Train loss: 0.8932 Val Loss: 0.9663\n",
      "Epoch 064 | Fold 4 | Train Acc: 0.4622 | Val Acc: 0.6187 | Train loss: 0.8746 Val Loss: 0.8413\n",
      "Epoch 065 | Fold 4 | Train Acc: 0.4800 | Val Acc: 0.6164 | Train loss: 0.8726 Val Loss: 0.8794\n",
      "Epoch 066 | Fold 4 | Train Acc: 0.4632 | Val Acc: 0.6119 | Train loss: 0.8610 Val Loss: 0.9607\n",
      "Epoch 067 | Fold 4 | Train Acc: 0.4769 | Val Acc: 0.6187 | Train loss: 0.8761 Val Loss: 0.9295\n",
      "Epoch 068 | Fold 4 | Train Acc: 0.4643 | Val Acc: 0.6256 | Train loss: 0.8703 Val Loss: 0.9066\n",
      "Epoch 069 | Fold 4 | Train Acc: 0.4811 | Val Acc: 0.6164 | Train loss: 0.8505 Val Loss: 0.9030\n",
      "Epoch 070 | Fold 4 | Train Acc: 0.4785 | Val Acc: 0.6210 | Train loss: 0.8771 Val Loss: 0.9480\n",
      "Epoch 071 | Fold 4 | Train Acc: 0.4816 | Val Acc: 0.6347 | Train loss: 0.8451 Val Loss: 1.0169\n",
      "Epoch 072 | Fold 4 | Train Acc: 0.4737 | Val Acc: 0.6005 | Train loss: 0.8577 Val Loss: 0.9868\n",
      " Early stopping at epoch 72 for fold 4\n",
      " Fold 4: Best Val Acc = 0.6073\n",
      "Epoch 001 | Fold 5 | Train Acc: 0.2134 | Val Acc: 0.1855 | Train loss: 1.3852 Val Loss: 1.3906\n",
      "Epoch 002 | Fold 5 | Train Acc: 0.2258 | Val Acc: 0.2668 | Train loss: 1.3778 Val Loss: 1.3737\n",
      "Epoch 003 | Fold 5 | Train Acc: 0.2928 | Val Acc: 0.4753 | Train loss: 1.3615 Val Loss: 1.3500\n",
      "Epoch 004 | Fold 5 | Train Acc: 0.3468 | Val Acc: 0.4240 | Train loss: 1.3371 Val Loss: 1.3325\n",
      "Epoch 005 | Fold 5 | Train Acc: 0.3474 | Val Acc: 0.3816 | Train loss: 1.3107 Val Loss: 1.3100\n",
      "Epoch 006 | Fold 5 | Train Acc: 0.3750 | Val Acc: 0.3852 | Train loss: 1.2550 Val Loss: 1.2704\n",
      "Epoch 007 | Fold 5 | Train Acc: 0.3986 | Val Acc: 0.4311 | Train loss: 1.1908 Val Loss: 1.2062\n",
      "Epoch 008 | Fold 5 | Train Acc: 0.3936 | Val Acc: 0.4028 | Train loss: 1.1396 Val Loss: 1.1512\n",
      "Epoch 009 | Fold 5 | Train Acc: 0.3958 | Val Acc: 0.4170 | Train loss: 1.0980 Val Loss: 1.1009\n",
      "Epoch 010 | Fold 5 | Train Acc: 0.3998 | Val Acc: 0.4435 | Train loss: 1.0812 Val Loss: 1.0573\n",
      "Epoch 011 | Fold 5 | Train Acc: 0.4240 | Val Acc: 0.4594 | Train loss: 1.0561 Val Loss: 1.0256\n",
      "Epoch 012 | Fold 5 | Train Acc: 0.4161 | Val Acc: 0.4594 | Train loss: 1.0220 Val Loss: 0.9953\n",
      "Epoch 013 | Fold 5 | Train Acc: 0.4398 | Val Acc: 0.4806 | Train loss: 1.0199 Val Loss: 0.9842\n",
      "Epoch 014 | Fold 5 | Train Acc: 0.4245 | Val Acc: 0.4647 | Train loss: 1.0069 Val Loss: 0.9717\n",
      "Epoch 015 | Fold 5 | Train Acc: 0.4251 | Val Acc: 0.4682 | Train loss: 0.9719 Val Loss: 0.9417\n",
      "Epoch 016 | Fold 5 | Train Acc: 0.4341 | Val Acc: 0.5053 | Train loss: 0.9805 Val Loss: 0.9239\n",
      "Epoch 017 | Fold 5 | Train Acc: 0.4724 | Val Acc: 0.5106 | Train loss: 0.9731 Val Loss: 0.9099\n",
      "Epoch 018 | Fold 5 | Train Acc: 0.4459 | Val Acc: 0.4717 | Train loss: 0.9510 Val Loss: 0.9060\n",
      "Epoch 019 | Fold 5 | Train Acc: 0.4538 | Val Acc: 0.4823 | Train loss: 0.9702 Val Loss: 0.8929\n",
      "Epoch 020 | Fold 5 | Train Acc: 0.4493 | Val Acc: 0.4735 | Train loss: 0.9611 Val Loss: 0.8868\n",
      "Epoch 021 | Fold 5 | Train Acc: 0.4544 | Val Acc: 0.4735 | Train loss: 0.9524 Val Loss: 0.8791\n",
      "Epoch 022 | Fold 5 | Train Acc: 0.4595 | Val Acc: 0.4735 | Train loss: 0.9489 Val Loss: 0.8743\n",
      "Epoch 023 | Fold 5 | Train Acc: 0.4566 | Val Acc: 0.4841 | Train loss: 0.9408 Val Loss: 0.8574\n",
      "Epoch 024 | Fold 5 | Train Acc: 0.4645 | Val Acc: 0.4841 | Train loss: 0.9471 Val Loss: 0.8465\n",
      "Epoch 025 | Fold 5 | Train Acc: 0.4797 | Val Acc: 0.5071 | Train loss: 0.9414 Val Loss: 0.8422\n",
      "Epoch 026 | Fold 5 | Train Acc: 0.4735 | Val Acc: 0.4717 | Train loss: 0.9090 Val Loss: 0.8427\n",
      "Epoch 027 | Fold 5 | Train Acc: 0.4600 | Val Acc: 0.4841 | Train loss: 0.9641 Val Loss: 0.8277\n",
      "Epoch 028 | Fold 5 | Train Acc: 0.4544 | Val Acc: 0.4770 | Train loss: 0.9169 Val Loss: 0.8329\n",
      "Epoch 029 | Fold 5 | Train Acc: 0.4510 | Val Acc: 0.5336 | Train loss: 0.9216 Val Loss: 0.8203\n",
      "Epoch 030 | Fold 5 | Train Acc: 0.4572 | Val Acc: 0.5300 | Train loss: 0.9122 Val Loss: 0.8240\n",
      "Epoch 031 | Fold 5 | Train Acc: 0.4403 | Val Acc: 0.4965 | Train loss: 0.9298 Val Loss: 0.8204\n",
      "Epoch 032 | Fold 5 | Train Acc: 0.4566 | Val Acc: 0.5230 | Train loss: 0.9376 Val Loss: 0.8150\n",
      "Epoch 033 | Fold 5 | Train Acc: 0.4555 | Val Acc: 0.5247 | Train loss: 0.9315 Val Loss: 0.8069\n",
      "Epoch 034 | Fold 5 | Train Acc: 0.4600 | Val Acc: 0.5583 | Train loss: 0.9188 Val Loss: 0.8066\n",
      "Epoch 035 | Fold 5 | Train Acc: 0.4685 | Val Acc: 0.5654 | Train loss: 0.9347 Val Loss: 0.7981\n",
      "Epoch 036 | Fold 5 | Train Acc: 0.4825 | Val Acc: 0.5830 | Train loss: 0.9048 Val Loss: 0.8207\n",
      "Epoch 037 | Fold 5 | Train Acc: 0.4628 | Val Acc: 0.5512 | Train loss: 0.9032 Val Loss: 0.8111\n",
      "Epoch 038 | Fold 5 | Train Acc: 0.4752 | Val Acc: 0.5583 | Train loss: 0.9100 Val Loss: 0.7960\n",
      "Epoch 039 | Fold 5 | Train Acc: 0.4702 | Val Acc: 0.5954 | Train loss: 0.9052 Val Loss: 0.7894\n",
      "Epoch 040 | Fold 5 | Train Acc: 0.4803 | Val Acc: 0.5830 | Train loss: 0.8946 Val Loss: 0.8269\n",
      "Epoch 041 | Fold 5 | Train Acc: 0.4848 | Val Acc: 0.5936 | Train loss: 0.8991 Val Loss: 0.8183\n",
      "Epoch 042 | Fold 5 | Train Acc: 0.4820 | Val Acc: 0.6148 | Train loss: 0.8833 Val Loss: 0.8419\n",
      "Epoch 043 | Fold 5 | Train Acc: 0.4972 | Val Acc: 0.5866 | Train loss: 0.9030 Val Loss: 0.8031\n",
      "Epoch 044 | Fold 5 | Train Acc: 0.4870 | Val Acc: 0.6025 | Train loss: 0.9042 Val Loss: 0.8648\n",
      "Epoch 045 | Fold 5 | Train Acc: 0.5000 | Val Acc: 0.5866 | Train loss: 0.8961 Val Loss: 0.8352\n",
      "Epoch 046 | Fold 5 | Train Acc: 0.4966 | Val Acc: 0.5883 | Train loss: 0.8946 Val Loss: 0.8996\n",
      "Epoch 047 | Fold 5 | Train Acc: 0.4893 | Val Acc: 0.6007 | Train loss: 0.8939 Val Loss: 0.8506\n",
      "Epoch 048 | Fold 5 | Train Acc: 0.4837 | Val Acc: 0.5954 | Train loss: 0.8915 Val Loss: 0.8906\n",
      "Epoch 049 | Fold 5 | Train Acc: 0.5006 | Val Acc: 0.6519 | Train loss: 0.8639 Val Loss: 0.8614\n",
      "Epoch 050 | Fold 5 | Train Acc: 0.4887 | Val Acc: 0.6325 | Train loss: 0.8786 Val Loss: 0.8760\n",
      "Epoch 051 | Fold 5 | Train Acc: 0.4932 | Val Acc: 0.6572 | Train loss: 0.8788 Val Loss: 0.8599\n",
      "Epoch 052 | Fold 5 | Train Acc: 0.4989 | Val Acc: 0.6555 | Train loss: 0.8651 Val Loss: 0.8638\n",
      "Epoch 053 | Fold 5 | Train Acc: 0.5068 | Val Acc: 0.5901 | Train loss: 0.8653 Val Loss: 0.9638\n",
      "Epoch 054 | Fold 5 | Train Acc: 0.4786 | Val Acc: 0.6325 | Train loss: 0.8989 Val Loss: 0.9520\n",
      "Epoch 055 | Fold 5 | Train Acc: 0.5208 | Val Acc: 0.6060 | Train loss: 0.8688 Val Loss: 0.9324\n",
      "Epoch 056 | Fold 5 | Train Acc: 0.5039 | Val Acc: 0.6042 | Train loss: 0.8824 Val Loss: 0.9474\n",
      "Epoch 057 | Fold 5 | Train Acc: 0.4972 | Val Acc: 0.6078 | Train loss: 0.8658 Val Loss: 0.8788\n",
      "Epoch 058 | Fold 5 | Train Acc: 0.4876 | Val Acc: 0.5813 | Train loss: 0.8796 Val Loss: 0.8895\n",
      "Epoch 059 | Fold 5 | Train Acc: 0.4887 | Val Acc: 0.6290 | Train loss: 0.8684 Val Loss: 1.0324\n",
      "Epoch 060 | Fold 5 | Train Acc: 0.5039 | Val Acc: 0.6307 | Train loss: 0.8919 Val Loss: 0.9889\n",
      "Epoch 061 | Fold 5 | Train Acc: 0.4882 | Val Acc: 0.5866 | Train loss: 0.8724 Val Loss: 0.9684\n",
      "Epoch 062 | Fold 5 | Train Acc: 0.4983 | Val Acc: 0.6060 | Train loss: 0.8978 Val Loss: 0.9495\n",
      "Epoch 063 | Fold 5 | Train Acc: 0.5068 | Val Acc: 0.6254 | Train loss: 0.8793 Val Loss: 1.0071\n",
      "Epoch 064 | Fold 5 | Train Acc: 0.5265 | Val Acc: 0.6555 | Train loss: 0.8396 Val Loss: 0.9822\n",
      "Epoch 065 | Fold 5 | Train Acc: 0.5084 | Val Acc: 0.6290 | Train loss: 0.8871 Val Loss: 0.9704\n",
      "Epoch 066 | Fold 5 | Train Acc: 0.5096 | Val Acc: 0.6537 | Train loss: 0.8751 Val Loss: 0.9863\n",
      "Epoch 067 | Fold 5 | Train Acc: 0.5028 | Val Acc: 0.6555 | Train loss: 0.8575 Val Loss: 0.9817\n",
      "Epoch 068 | Fold 5 | Train Acc: 0.5253 | Val Acc: 0.6572 | Train loss: 0.8619 Val Loss: 0.9502\n"
     ]
    },
    {
     "name": "stderr",
     "output_type": "stream",
     "text": [
      "[I 2025-07-15 00:27:08,464] Trial 2 finished with value: 0.633023255469548 and parameters: {'hidden_channels': 256, 'num_layers': 2, 'heads': 1, 'dropout': 0.4917572464800533, 'hidden_dim': 128}. Best is trial 0 with value: 0.6976193737506798.\n"
     ]
    },
    {
     "name": "stdout",
     "output_type": "stream",
     "text": [
      "Epoch 069 | Fold 5 | Train Acc: 0.5068 | Val Acc: 0.6572 | Train loss: 0.8617 Val Loss: 0.9492\n",
      " Early stopping at epoch 69 for fold 5\n",
      " Fold 5: Best Val Acc = 0.5954\n",
      "🏃 View run trial_2 at: http://127.0.0.1:5000/#/experiments/906754211394743286/runs/443415dd6fb345798b72df850ac3d654\n",
      "🧪 View experiment at: http://127.0.0.1:5000/#/experiments/906754211394743286\n",
      "Epoch 001 | Fold 1 | Train Acc: 0.1571 | Val Acc: 0.2138 | Train loss: 1.3893 Val Loss: 1.3687\n",
      "Epoch 002 | Fold 1 | Train Acc: 0.1828 | Val Acc: 0.2107 | Train loss: 1.3802 Val Loss: 1.3612\n",
      "Epoch 003 | Fold 1 | Train Acc: 0.2031 | Val Acc: 0.2075 | Train loss: 1.3749 Val Loss: 1.3547\n",
      "Epoch 004 | Fold 1 | Train Acc: 0.2367 | Val Acc: 0.2233 | Train loss: 1.3630 Val Loss: 1.3445\n",
      "Epoch 005 | Fold 1 | Train Acc: 0.2559 | Val Acc: 0.3648 | Train loss: 1.3613 Val Loss: 1.3368\n",
      "Epoch 006 | Fold 1 | Train Acc: 0.2831 | Val Acc: 0.4371 | Train loss: 1.3503 Val Loss: 1.3215\n",
      "Epoch 007 | Fold 1 | Train Acc: 0.2875 | Val Acc: 0.4843 | Train loss: 1.3396 Val Loss: 1.3050\n",
      "Epoch 008 | Fold 1 | Train Acc: 0.2999 | Val Acc: 0.5346 | Train loss: 1.3282 Val Loss: 1.2835\n",
      "Epoch 009 | Fold 1 | Train Acc: 0.3236 | Val Acc: 0.5629 | Train loss: 1.3107 Val Loss: 1.2636\n",
      "Epoch 010 | Fold 1 | Train Acc: 0.3404 | Val Acc: 0.6572 | Train loss: 1.2945 Val Loss: 1.2380\n",
      "Epoch 011 | Fold 1 | Train Acc: 0.3607 | Val Acc: 0.6604 | Train loss: 1.2713 Val Loss: 1.2054\n",
      "Epoch 012 | Fold 1 | Train Acc: 0.3577 | Val Acc: 0.6855 | Train loss: 1.2554 Val Loss: 1.1671\n",
      "Epoch 013 | Fold 1 | Train Acc: 0.3710 | Val Acc: 0.6950 | Train loss: 1.2222 Val Loss: 1.1275\n",
      "Epoch 014 | Fold 1 | Train Acc: 0.4081 | Val Acc: 0.7044 | Train loss: 1.2022 Val Loss: 1.0808\n",
      "Epoch 015 | Fold 1 | Train Acc: 0.4007 | Val Acc: 0.7138 | Train loss: 1.1590 Val Loss: 1.0321\n",
      "Epoch 016 | Fold 1 | Train Acc: 0.4219 | Val Acc: 0.7201 | Train loss: 1.1245 Val Loss: 0.9835\n",
      "Epoch 017 | Fold 1 | Train Acc: 0.4051 | Val Acc: 0.7296 | Train loss: 1.0945 Val Loss: 0.9304\n",
      "Epoch 018 | Fold 1 | Train Acc: 0.4081 | Val Acc: 0.7296 | Train loss: 1.0762 Val Loss: 0.8921\n",
      "Epoch 019 | Fold 1 | Train Acc: 0.4284 | Val Acc: 0.7547 | Train loss: 1.0347 Val Loss: 0.8591\n",
      "Epoch 020 | Fold 1 | Train Acc: 0.4343 | Val Acc: 0.7610 | Train loss: 1.0302 Val Loss: 0.8242\n",
      "Epoch 021 | Fold 1 | Train Acc: 0.4605 | Val Acc: 0.7579 | Train loss: 0.9938 Val Loss: 0.7798\n",
      "Epoch 022 | Fold 1 | Train Acc: 0.4348 | Val Acc: 0.7610 | Train loss: 0.9880 Val Loss: 0.7524\n",
      "Epoch 023 | Fold 1 | Train Acc: 0.4565 | Val Acc: 0.7642 | Train loss: 0.9659 Val Loss: 0.7335\n",
      "Epoch 024 | Fold 1 | Train Acc: 0.4644 | Val Acc: 0.7610 | Train loss: 0.9552 Val Loss: 0.7101\n",
      "Epoch 025 | Fold 1 | Train Acc: 0.4531 | Val Acc: 0.7642 | Train loss: 0.9416 Val Loss: 0.6870\n",
      "Epoch 026 | Fold 1 | Train Acc: 0.4723 | Val Acc: 0.7642 | Train loss: 0.9050 Val Loss: 0.6644\n",
      "Epoch 027 | Fold 1 | Train Acc: 0.4817 | Val Acc: 0.7610 | Train loss: 0.8827 Val Loss: 0.6553\n",
      "Epoch 028 | Fold 1 | Train Acc: 0.4708 | Val Acc: 0.7610 | Train loss: 0.8971 Val Loss: 0.6384\n",
      "Epoch 029 | Fold 1 | Train Acc: 0.4960 | Val Acc: 0.7610 | Train loss: 0.8698 Val Loss: 0.6217\n",
      "Epoch 030 | Fold 1 | Train Acc: 0.4802 | Val Acc: 0.7610 | Train loss: 0.8791 Val Loss: 0.6063\n",
      "Epoch 031 | Fold 1 | Train Acc: 0.4941 | Val Acc: 0.7579 | Train loss: 0.8485 Val Loss: 0.5904\n",
      "Epoch 032 | Fold 1 | Train Acc: 0.4783 | Val Acc: 0.7610 | Train loss: 0.8686 Val Loss: 0.5756\n",
      "Epoch 033 | Fold 1 | Train Acc: 0.4921 | Val Acc: 0.7610 | Train loss: 0.8530 Val Loss: 0.5830\n",
      "Epoch 034 | Fold 1 | Train Acc: 0.5040 | Val Acc: 0.7547 | Train loss: 0.8369 Val Loss: 0.5640\n",
      "Epoch 035 | Fold 1 | Train Acc: 0.4881 | Val Acc: 0.7547 | Train loss: 0.8424 Val Loss: 0.5560\n",
      "Epoch 036 | Fold 1 | Train Acc: 0.5030 | Val Acc: 0.7579 | Train loss: 0.8317 Val Loss: 0.5562\n",
      "Epoch 037 | Fold 1 | Train Acc: 0.5049 | Val Acc: 0.7579 | Train loss: 0.8061 Val Loss: 0.5443\n",
      "Epoch 038 | Fold 1 | Train Acc: 0.5084 | Val Acc: 0.7579 | Train loss: 0.8245 Val Loss: 0.5428\n",
      "Epoch 039 | Fold 1 | Train Acc: 0.5183 | Val Acc: 0.7579 | Train loss: 0.8098 Val Loss: 0.5354\n",
      "Epoch 040 | Fold 1 | Train Acc: 0.5040 | Val Acc: 0.7579 | Train loss: 0.8323 Val Loss: 0.5362\n",
      "Epoch 041 | Fold 1 | Train Acc: 0.5000 | Val Acc: 0.7579 | Train loss: 0.7915 Val Loss: 0.5303\n",
      "Epoch 042 | Fold 1 | Train Acc: 0.5128 | Val Acc: 0.7579 | Train loss: 0.7993 Val Loss: 0.5165\n",
      "Epoch 043 | Fold 1 | Train Acc: 0.5035 | Val Acc: 0.7547 | Train loss: 0.7927 Val Loss: 0.5232\n",
      "Epoch 044 | Fold 1 | Train Acc: 0.5114 | Val Acc: 0.7516 | Train loss: 0.7851 Val Loss: 0.5173\n",
      "Epoch 045 | Fold 1 | Train Acc: 0.5222 | Val Acc: 0.7547 | Train loss: 0.7655 Val Loss: 0.5120\n",
      "Epoch 046 | Fold 1 | Train Acc: 0.5035 | Val Acc: 0.7516 | Train loss: 0.7776 Val Loss: 0.5089\n",
      "Epoch 047 | Fold 1 | Train Acc: 0.5306 | Val Acc: 0.7516 | Train loss: 0.7525 Val Loss: 0.5073\n",
      "Epoch 048 | Fold 1 | Train Acc: 0.5104 | Val Acc: 0.7516 | Train loss: 0.7597 Val Loss: 0.5120\n",
      "Epoch 049 | Fold 1 | Train Acc: 0.5257 | Val Acc: 0.7516 | Train loss: 0.7598 Val Loss: 0.5017\n",
      "Epoch 050 | Fold 1 | Train Acc: 0.5148 | Val Acc: 0.7642 | Train loss: 0.7553 Val Loss: 0.5041\n",
      "Epoch 051 | Fold 1 | Train Acc: 0.5306 | Val Acc: 0.7642 | Train loss: 0.7607 Val Loss: 0.5026\n",
      "Epoch 052 | Fold 1 | Train Acc: 0.5203 | Val Acc: 0.7516 | Train loss: 0.7362 Val Loss: 0.4972\n",
      "Epoch 053 | Fold 1 | Train Acc: 0.5168 | Val Acc: 0.7484 | Train loss: 0.7596 Val Loss: 0.4903\n",
      "Epoch 054 | Fold 1 | Train Acc: 0.5143 | Val Acc: 0.7642 | Train loss: 0.7587 Val Loss: 0.4891\n",
      "Epoch 055 | Fold 1 | Train Acc: 0.5321 | Val Acc: 0.7642 | Train loss: 0.7226 Val Loss: 0.4890\n",
      "Epoch 056 | Fold 1 | Train Acc: 0.5148 | Val Acc: 0.7642 | Train loss: 0.7470 Val Loss: 0.4861\n",
      "Epoch 057 | Fold 1 | Train Acc: 0.5301 | Val Acc: 0.7642 | Train loss: 0.7166 Val Loss: 0.4879\n",
      "Epoch 058 | Fold 1 | Train Acc: 0.5203 | Val Acc: 0.7642 | Train loss: 0.7331 Val Loss: 0.4831\n",
      "Epoch 059 | Fold 1 | Train Acc: 0.5227 | Val Acc: 0.7642 | Train loss: 0.7291 Val Loss: 0.4836\n",
      "Epoch 060 | Fold 1 | Train Acc: 0.5203 | Val Acc: 0.7610 | Train loss: 0.7480 Val Loss: 0.4815\n",
      "Epoch 061 | Fold 1 | Train Acc: 0.5217 | Val Acc: 0.7610 | Train loss: 0.7420 Val Loss: 0.4849\n",
      "Epoch 062 | Fold 1 | Train Acc: 0.5321 | Val Acc: 0.7642 | Train loss: 0.7132 Val Loss: 0.4730\n",
      "Epoch 063 | Fold 1 | Train Acc: 0.5356 | Val Acc: 0.7610 | Train loss: 0.7206 Val Loss: 0.4809\n",
      "Epoch 064 | Fold 1 | Train Acc: 0.5346 | Val Acc: 0.7610 | Train loss: 0.7041 Val Loss: 0.4755\n",
      "Epoch 065 | Fold 1 | Train Acc: 0.5356 | Val Acc: 0.7610 | Train loss: 0.7315 Val Loss: 0.4823\n",
      "Epoch 066 | Fold 1 | Train Acc: 0.5371 | Val Acc: 0.7610 | Train loss: 0.7213 Val Loss: 0.4732\n",
      "Epoch 067 | Fold 1 | Train Acc: 0.5292 | Val Acc: 0.7610 | Train loss: 0.7253 Val Loss: 0.4761\n",
      "Epoch 068 | Fold 1 | Train Acc: 0.5450 | Val Acc: 0.7610 | Train loss: 0.7095 Val Loss: 0.4752\n",
      "Epoch 069 | Fold 1 | Train Acc: 0.5445 | Val Acc: 0.7610 | Train loss: 0.6992 Val Loss: 0.4682\n",
      "Epoch 070 | Fold 1 | Train Acc: 0.5242 | Val Acc: 0.7610 | Train loss: 0.7385 Val Loss: 0.4832\n",
      "Epoch 071 | Fold 1 | Train Acc: 0.5464 | Val Acc: 0.7610 | Train loss: 0.7190 Val Loss: 0.4752\n",
      "Epoch 072 | Fold 1 | Train Acc: 0.5459 | Val Acc: 0.7642 | Train loss: 0.6996 Val Loss: 0.4688\n",
      "Epoch 073 | Fold 1 | Train Acc: 0.5272 | Val Acc: 0.7610 | Train loss: 0.7196 Val Loss: 0.4709\n",
      "Epoch 074 | Fold 1 | Train Acc: 0.5469 | Val Acc: 0.7610 | Train loss: 0.6875 Val Loss: 0.4716\n",
      "Epoch 075 | Fold 1 | Train Acc: 0.5459 | Val Acc: 0.7610 | Train loss: 0.7139 Val Loss: 0.4664\n",
      "Epoch 076 | Fold 1 | Train Acc: 0.5509 | Val Acc: 0.7610 | Train loss: 0.7040 Val Loss: 0.4695\n",
      "Epoch 077 | Fold 1 | Train Acc: 0.5336 | Val Acc: 0.7610 | Train loss: 0.7169 Val Loss: 0.4715\n",
      "Epoch 078 | Fold 1 | Train Acc: 0.5464 | Val Acc: 0.7610 | Train loss: 0.6992 Val Loss: 0.4695\n",
      "Epoch 079 | Fold 1 | Train Acc: 0.5588 | Val Acc: 0.7673 | Train loss: 0.7105 Val Loss: 0.4726\n",
      "Epoch 080 | Fold 1 | Train Acc: 0.5445 | Val Acc: 0.7610 | Train loss: 0.7168 Val Loss: 0.4654\n",
      "Epoch 081 | Fold 1 | Train Acc: 0.5474 | Val Acc: 0.7673 | Train loss: 0.6823 Val Loss: 0.4702\n",
      "Epoch 082 | Fold 1 | Train Acc: 0.5667 | Val Acc: 0.7610 | Train loss: 0.6827 Val Loss: 0.4620\n",
      "Epoch 083 | Fold 1 | Train Acc: 0.5262 | Val Acc: 0.7610 | Train loss: 0.7160 Val Loss: 0.4608\n",
      "Epoch 084 | Fold 1 | Train Acc: 0.5455 | Val Acc: 0.7673 | Train loss: 0.7021 Val Loss: 0.4714\n",
      "Epoch 085 | Fold 1 | Train Acc: 0.5608 | Val Acc: 0.7704 | Train loss: 0.6872 Val Loss: 0.4612\n",
      "Epoch 086 | Fold 1 | Train Acc: 0.5578 | Val Acc: 0.7673 | Train loss: 0.6764 Val Loss: 0.4614\n",
      "Epoch 087 | Fold 1 | Train Acc: 0.5529 | Val Acc: 0.7673 | Train loss: 0.7010 Val Loss: 0.4619\n",
      "Epoch 088 | Fold 1 | Train Acc: 0.5563 | Val Acc: 0.7673 | Train loss: 0.6941 Val Loss: 0.4605\n",
      "Epoch 089 | Fold 1 | Train Acc: 0.5598 | Val Acc: 0.7673 | Train loss: 0.6667 Val Loss: 0.4562\n",
      "Epoch 090 | Fold 1 | Train Acc: 0.5632 | Val Acc: 0.7673 | Train loss: 0.6853 Val Loss: 0.4676\n",
      "Epoch 091 | Fold 1 | Train Acc: 0.5657 | Val Acc: 0.7673 | Train loss: 0.6757 Val Loss: 0.4590\n",
      "Epoch 092 | Fold 1 | Train Acc: 0.5583 | Val Acc: 0.7673 | Train loss: 0.6865 Val Loss: 0.4634\n",
      "Epoch 093 | Fold 1 | Train Acc: 0.5558 | Val Acc: 0.7673 | Train loss: 0.6839 Val Loss: 0.4567\n",
      "Epoch 094 | Fold 1 | Train Acc: 0.5627 | Val Acc: 0.7673 | Train loss: 0.6814 Val Loss: 0.4611\n",
      "Epoch 095 | Fold 1 | Train Acc: 0.5514 | Val Acc: 0.7673 | Train loss: 0.6820 Val Loss: 0.4612\n",
      "Epoch 096 | Fold 1 | Train Acc: 0.5548 | Val Acc: 0.7673 | Train loss: 0.6667 Val Loss: 0.4523\n",
      "Epoch 097 | Fold 1 | Train Acc: 0.5548 | Val Acc: 0.7673 | Train loss: 0.6561 Val Loss: 0.4579\n",
      "Epoch 098 | Fold 1 | Train Acc: 0.5603 | Val Acc: 0.7704 | Train loss: 0.6704 Val Loss: 0.4526\n",
      "Epoch 099 | Fold 1 | Train Acc: 0.5642 | Val Acc: 0.7673 | Train loss: 0.6690 Val Loss: 0.4522\n",
      "Epoch 100 | Fold 1 | Train Acc: 0.5756 | Val Acc: 0.7704 | Train loss: 0.6619 Val Loss: 0.4501\n",
      "Epoch 101 | Fold 1 | Train Acc: 0.5632 | Val Acc: 0.7673 | Train loss: 0.6685 Val Loss: 0.4541\n",
      "Epoch 102 | Fold 1 | Train Acc: 0.5781 | Val Acc: 0.7673 | Train loss: 0.6524 Val Loss: 0.4535\n",
      "Epoch 103 | Fold 1 | Train Acc: 0.5588 | Val Acc: 0.7673 | Train loss: 0.6701 Val Loss: 0.4513\n",
      "Epoch 104 | Fold 1 | Train Acc: 0.5731 | Val Acc: 0.7704 | Train loss: 0.6612 Val Loss: 0.4509\n",
      "Epoch 105 | Fold 1 | Train Acc: 0.5677 | Val Acc: 0.7673 | Train loss: 0.6637 Val Loss: 0.4489\n",
      "Epoch 106 | Fold 1 | Train Acc: 0.5583 | Val Acc: 0.7673 | Train loss: 0.6942 Val Loss: 0.4509\n",
      "Epoch 107 | Fold 1 | Train Acc: 0.5677 | Val Acc: 0.7673 | Train loss: 0.6790 Val Loss: 0.4509\n",
      "Epoch 108 | Fold 1 | Train Acc: 0.5598 | Val Acc: 0.7673 | Train loss: 0.6896 Val Loss: 0.4532\n",
      "Epoch 109 | Fold 1 | Train Acc: 0.5726 | Val Acc: 0.7673 | Train loss: 0.6710 Val Loss: 0.4494\n",
      "Epoch 110 | Fold 1 | Train Acc: 0.5751 | Val Acc: 0.7673 | Train loss: 0.6688 Val Loss: 0.4505\n",
      "Epoch 111 | Fold 1 | Train Acc: 0.5697 | Val Acc: 0.7673 | Train loss: 0.6696 Val Loss: 0.4473\n",
      "Epoch 112 | Fold 1 | Train Acc: 0.5756 | Val Acc: 0.7610 | Train loss: 0.6707 Val Loss: 0.4520\n",
      "Epoch 113 | Fold 1 | Train Acc: 0.5702 | Val Acc: 0.7673 | Train loss: 0.6831 Val Loss: 0.4531\n",
      "Epoch 114 | Fold 1 | Train Acc: 0.5677 | Val Acc: 0.7704 | Train loss: 0.6630 Val Loss: 0.4421\n",
      "Epoch 115 | Fold 1 | Train Acc: 0.5563 | Val Acc: 0.7610 | Train loss: 0.6704 Val Loss: 0.4523\n",
      "Epoch 116 | Fold 1 | Train Acc: 0.5791 | Val Acc: 0.7673 | Train loss: 0.6510 Val Loss: 0.4469\n",
      "Epoch 117 | Fold 1 | Train Acc: 0.5677 | Val Acc: 0.7673 | Train loss: 0.6737 Val Loss: 0.4477\n",
      "Epoch 118 | Fold 1 | Train Acc: 0.5736 | Val Acc: 0.7673 | Train loss: 0.6670 Val Loss: 0.4464\n",
      "Epoch 119 | Fold 1 | Train Acc: 0.5716 | Val Acc: 0.7610 | Train loss: 0.6657 Val Loss: 0.4481\n",
      "Epoch 120 | Fold 1 | Train Acc: 0.5697 | Val Acc: 0.7673 | Train loss: 0.6576 Val Loss: 0.4407\n",
      "Epoch 121 | Fold 1 | Train Acc: 0.5697 | Val Acc: 0.7610 | Train loss: 0.6743 Val Loss: 0.4474\n",
      "Epoch 122 | Fold 1 | Train Acc: 0.5751 | Val Acc: 0.7704 | Train loss: 0.6539 Val Loss: 0.4394\n",
      "Epoch 123 | Fold 1 | Train Acc: 0.5613 | Val Acc: 0.7610 | Train loss: 0.6603 Val Loss: 0.4452\n",
      "Epoch 124 | Fold 1 | Train Acc: 0.5702 | Val Acc: 0.7610 | Train loss: 0.6598 Val Loss: 0.4451\n",
      "Epoch 125 | Fold 1 | Train Acc: 0.5731 | Val Acc: 0.7610 | Train loss: 0.6404 Val Loss: 0.4465\n",
      "Epoch 126 | Fold 1 | Train Acc: 0.5840 | Val Acc: 0.7610 | Train loss: 0.6637 Val Loss: 0.4424\n",
      "Epoch 127 | Fold 1 | Train Acc: 0.5711 | Val Acc: 0.7610 | Train loss: 0.6646 Val Loss: 0.4443\n",
      "Epoch 128 | Fold 1 | Train Acc: 0.5781 | Val Acc: 0.7610 | Train loss: 0.6520 Val Loss: 0.4470\n",
      "Epoch 129 | Fold 1 | Train Acc: 0.5845 | Val Acc: 0.7610 | Train loss: 0.6554 Val Loss: 0.4479\n",
      "Epoch 130 | Fold 1 | Train Acc: 0.5939 | Val Acc: 0.7610 | Train loss: 0.6309 Val Loss: 0.4454\n",
      "Epoch 131 | Fold 1 | Train Acc: 0.5766 | Val Acc: 0.7610 | Train loss: 0.6519 Val Loss: 0.4489\n",
      "Epoch 132 | Fold 1 | Train Acc: 0.5707 | Val Acc: 0.7610 | Train loss: 0.6622 Val Loss: 0.4469\n",
      "Epoch 133 | Fold 1 | Train Acc: 0.5855 | Val Acc: 0.7610 | Train loss: 0.6408 Val Loss: 0.4494\n",
      "Epoch 134 | Fold 1 | Train Acc: 0.5800 | Val Acc: 0.7610 | Train loss: 0.6338 Val Loss: 0.4486\n",
      "Epoch 135 | Fold 1 | Train Acc: 0.5707 | Val Acc: 0.7610 | Train loss: 0.6380 Val Loss: 0.4486\n",
      "Epoch 136 | Fold 1 | Train Acc: 0.5741 | Val Acc: 0.7610 | Train loss: 0.6654 Val Loss: 0.4463\n",
      "Epoch 137 | Fold 1 | Train Acc: 0.6057 | Val Acc: 0.7610 | Train loss: 0.6229 Val Loss: 0.4480\n",
      "Epoch 138 | Fold 1 | Train Acc: 0.5736 | Val Acc: 0.7610 | Train loss: 0.6496 Val Loss: 0.4467\n",
      "Epoch 139 | Fold 1 | Train Acc: 0.5810 | Val Acc: 0.7610 | Train loss: 0.6518 Val Loss: 0.4474\n",
      "Epoch 140 | Fold 1 | Train Acc: 0.5860 | Val Acc: 0.7610 | Train loss: 0.6374 Val Loss: 0.4477\n",
      "Epoch 141 | Fold 1 | Train Acc: 0.5884 | Val Acc: 0.7610 | Train loss: 0.6361 Val Loss: 0.4460\n",
      "Epoch 142 | Fold 1 | Train Acc: 0.5702 | Val Acc: 0.7610 | Train loss: 0.6622 Val Loss: 0.4476\n",
      "Epoch 143 | Fold 1 | Train Acc: 0.5741 | Val Acc: 0.7610 | Train loss: 0.6383 Val Loss: 0.4456\n",
      "Epoch 144 | Fold 1 | Train Acc: 0.5934 | Val Acc: 0.7610 | Train loss: 0.6408 Val Loss: 0.4451\n",
      "Epoch 145 | Fold 1 | Train Acc: 0.5692 | Val Acc: 0.7610 | Train loss: 0.6440 Val Loss: 0.4453\n",
      "Epoch 146 | Fold 1 | Train Acc: 0.5949 | Val Acc: 0.7610 | Train loss: 0.6283 Val Loss: 0.4464\n",
      "Epoch 147 | Fold 1 | Train Acc: 0.5939 | Val Acc: 0.7610 | Train loss: 0.6373 Val Loss: 0.4452\n",
      "Epoch 148 | Fold 1 | Train Acc: 0.5840 | Val Acc: 0.7610 | Train loss: 0.6267 Val Loss: 0.4451\n",
      "Epoch 149 | Fold 1 | Train Acc: 0.5692 | Val Acc: 0.7610 | Train loss: 0.6502 Val Loss: 0.4468\n",
      "Epoch 150 | Fold 1 | Train Acc: 0.5771 | Val Acc: 0.7610 | Train loss: 0.6341 Val Loss: 0.4462\n",
      "Epoch 151 | Fold 1 | Train Acc: 0.5766 | Val Acc: 0.7610 | Train loss: 0.6488 Val Loss: 0.4462\n",
      "Epoch 152 | Fold 1 | Train Acc: 0.5766 | Val Acc: 0.7610 | Train loss: 0.6449 Val Loss: 0.4468\n",
      " Early stopping at epoch 152 for fold 1\n",
      " Fold 1: Best Val Acc = 0.7704\n",
      "Epoch 001 | Fold 2 | Train Acc: 0.1683 | Val Acc: 0.1858 | Train loss: 1.3877 Val Loss: 1.3746\n",
      "Epoch 002 | Fold 2 | Train Acc: 0.1825 | Val Acc: 0.2102 | Train loss: 1.3759 Val Loss: 1.3679\n",
      "Epoch 003 | Fold 2 | Train Acc: 0.2101 | Val Acc: 0.2522 | Train loss: 1.3728 Val Loss: 1.3613\n",
      "Epoch 004 | Fold 2 | Train Acc: 0.2148 | Val Acc: 0.2544 | Train loss: 1.3685 Val Loss: 1.3547\n",
      "Epoch 005 | Fold 2 | Train Acc: 0.2608 | Val Acc: 0.2788 | Train loss: 1.3589 Val Loss: 1.3473\n",
      "Epoch 006 | Fold 2 | Train Acc: 0.2952 | Val Acc: 0.2854 | Train loss: 1.3466 Val Loss: 1.3383\n",
      "Epoch 007 | Fold 2 | Train Acc: 0.3021 | Val Acc: 0.3164 | Train loss: 1.3409 Val Loss: 1.3271\n",
      "Epoch 008 | Fold 2 | Train Acc: 0.3259 | Val Acc: 0.3805 | Train loss: 1.3309 Val Loss: 1.3127\n",
      "Epoch 009 | Fold 2 | Train Acc: 0.3672 | Val Acc: 0.4181 | Train loss: 1.3110 Val Loss: 1.2930\n",
      "Epoch 010 | Fold 2 | Train Acc: 0.3815 | Val Acc: 0.4690 | Train loss: 1.2889 Val Loss: 1.2686\n",
      "Epoch 011 | Fold 2 | Train Acc: 0.4180 | Val Acc: 0.4956 | Train loss: 1.2632 Val Loss: 1.2368\n",
      "Epoch 012 | Fold 2 | Train Acc: 0.4037 | Val Acc: 0.4978 | Train loss: 1.2391 Val Loss: 1.2026\n",
      "Epoch 013 | Fold 2 | Train Acc: 0.4164 | Val Acc: 0.4845 | Train loss: 1.2186 Val Loss: 1.1699\n",
      "Epoch 014 | Fold 2 | Train Acc: 0.4513 | Val Acc: 0.4867 | Train loss: 1.1748 Val Loss: 1.1360\n",
      "Epoch 015 | Fold 2 | Train Acc: 0.4593 | Val Acc: 0.4867 | Train loss: 1.1424 Val Loss: 1.0984\n",
      "Epoch 016 | Fold 2 | Train Acc: 0.4566 | Val Acc: 0.5044 | Train loss: 1.1207 Val Loss: 1.0642\n",
      "Epoch 017 | Fold 2 | Train Acc: 0.4778 | Val Acc: 0.4956 | Train loss: 1.0786 Val Loss: 1.0320\n",
      "Epoch 018 | Fold 2 | Train Acc: 0.4614 | Val Acc: 0.4889 | Train loss: 1.0861 Val Loss: 0.9992\n",
      "Epoch 019 | Fold 2 | Train Acc: 0.4741 | Val Acc: 0.4779 | Train loss: 1.0387 Val Loss: 0.9688\n",
      "Epoch 020 | Fold 2 | Train Acc: 0.4688 | Val Acc: 0.4889 | Train loss: 1.0132 Val Loss: 0.9433\n",
      "Epoch 021 | Fold 2 | Train Acc: 0.4672 | Val Acc: 0.4912 | Train loss: 1.0047 Val Loss: 0.9175\n",
      "Epoch 022 | Fold 2 | Train Acc: 0.4767 | Val Acc: 0.5022 | Train loss: 0.9937 Val Loss: 0.8952\n",
      "Epoch 023 | Fold 2 | Train Acc: 0.5042 | Val Acc: 0.4978 | Train loss: 0.9479 Val Loss: 0.8724\n",
      "Epoch 024 | Fold 2 | Train Acc: 0.5116 | Val Acc: 0.5022 | Train loss: 0.9437 Val Loss: 0.8537\n",
      "Epoch 025 | Fold 2 | Train Acc: 0.5148 | Val Acc: 0.5265 | Train loss: 0.9366 Val Loss: 0.8364\n",
      "Epoch 026 | Fold 2 | Train Acc: 0.5228 | Val Acc: 0.5088 | Train loss: 0.9194 Val Loss: 0.8170\n",
      "Epoch 027 | Fold 2 | Train Acc: 0.5079 | Val Acc: 0.5265 | Train loss: 0.8828 Val Loss: 0.8005\n",
      "Epoch 028 | Fold 2 | Train Acc: 0.5069 | Val Acc: 0.5265 | Train loss: 0.8658 Val Loss: 0.7849\n",
      "Epoch 029 | Fold 2 | Train Acc: 0.5238 | Val Acc: 0.5265 | Train loss: 0.8959 Val Loss: 0.7728\n",
      "Epoch 030 | Fold 2 | Train Acc: 0.5259 | Val Acc: 0.5265 | Train loss: 0.8804 Val Loss: 0.7591\n",
      "Epoch 031 | Fold 2 | Train Acc: 0.5328 | Val Acc: 0.5265 | Train loss: 0.8558 Val Loss: 0.7487\n",
      "Epoch 032 | Fold 2 | Train Acc: 0.5354 | Val Acc: 0.5288 | Train loss: 0.8311 Val Loss: 0.7363\n",
      "Epoch 033 | Fold 2 | Train Acc: 0.5392 | Val Acc: 0.5288 | Train loss: 0.8204 Val Loss: 0.7275\n",
      "Epoch 034 | Fold 2 | Train Acc: 0.5238 | Val Acc: 0.5310 | Train loss: 0.8220 Val Loss: 0.7153\n",
      "Epoch 035 | Fold 2 | Train Acc: 0.5328 | Val Acc: 0.5310 | Train loss: 0.8367 Val Loss: 0.7082\n",
      "Epoch 036 | Fold 2 | Train Acc: 0.5529 | Val Acc: 0.5310 | Train loss: 0.8120 Val Loss: 0.7003\n",
      "Epoch 037 | Fold 2 | Train Acc: 0.5270 | Val Acc: 0.5354 | Train loss: 0.8228 Val Loss: 0.6909\n",
      "Epoch 038 | Fold 2 | Train Acc: 0.5497 | Val Acc: 0.5310 | Train loss: 0.8169 Val Loss: 0.6907\n",
      "Epoch 039 | Fold 2 | Train Acc: 0.5397 | Val Acc: 0.5310 | Train loss: 0.8020 Val Loss: 0.6832\n",
      "Epoch 040 | Fold 2 | Train Acc: 0.5693 | Val Acc: 0.5310 | Train loss: 0.7964 Val Loss: 0.6756\n",
      "Epoch 041 | Fold 2 | Train Acc: 0.5566 | Val Acc: 0.5354 | Train loss: 0.7844 Val Loss: 0.6672\n",
      "Epoch 042 | Fold 2 | Train Acc: 0.5524 | Val Acc: 0.5597 | Train loss: 0.7968 Val Loss: 0.6646\n",
      "Epoch 043 | Fold 2 | Train Acc: 0.5656 | Val Acc: 0.5597 | Train loss: 0.7886 Val Loss: 0.6600\n",
      "Epoch 044 | Fold 2 | Train Acc: 0.5492 | Val Acc: 0.5597 | Train loss: 0.7859 Val Loss: 0.6556\n",
      "Epoch 045 | Fold 2 | Train Acc: 0.5646 | Val Acc: 0.5597 | Train loss: 0.7891 Val Loss: 0.6490\n",
      "Epoch 046 | Fold 2 | Train Acc: 0.5513 | Val Acc: 0.5597 | Train loss: 0.7799 Val Loss: 0.6452\n",
      "Epoch 047 | Fold 2 | Train Acc: 0.5730 | Val Acc: 0.5597 | Train loss: 0.7575 Val Loss: 0.6410\n",
      "Epoch 048 | Fold 2 | Train Acc: 0.5603 | Val Acc: 0.5597 | Train loss: 0.7701 Val Loss: 0.6347\n",
      "Epoch 049 | Fold 2 | Train Acc: 0.5608 | Val Acc: 0.5575 | Train loss: 0.7604 Val Loss: 0.6299\n",
      "Epoch 050 | Fold 2 | Train Acc: 0.5672 | Val Acc: 0.5597 | Train loss: 0.7610 Val Loss: 0.6300\n",
      "Epoch 051 | Fold 2 | Train Acc: 0.5762 | Val Acc: 0.5597 | Train loss: 0.7609 Val Loss: 0.6254\n",
      "Epoch 052 | Fold 2 | Train Acc: 0.5566 | Val Acc: 0.5531 | Train loss: 0.7547 Val Loss: 0.6197\n",
      "Epoch 053 | Fold 2 | Train Acc: 0.5587 | Val Acc: 0.5597 | Train loss: 0.7503 Val Loss: 0.6197\n",
      "Epoch 054 | Fold 2 | Train Acc: 0.5619 | Val Acc: 0.5597 | Train loss: 0.7565 Val Loss: 0.6157\n",
      "Epoch 055 | Fold 2 | Train Acc: 0.5577 | Val Acc: 0.5597 | Train loss: 0.7671 Val Loss: 0.6139\n",
      "Epoch 056 | Fold 2 | Train Acc: 0.5915 | Val Acc: 0.5575 | Train loss: 0.7296 Val Loss: 0.6096\n",
      "Epoch 057 | Fold 2 | Train Acc: 0.5656 | Val Acc: 0.5575 | Train loss: 0.7762 Val Loss: 0.6085\n",
      "Epoch 058 | Fold 2 | Train Acc: 0.5794 | Val Acc: 0.5575 | Train loss: 0.7350 Val Loss: 0.6054\n",
      "Epoch 059 | Fold 2 | Train Acc: 0.5735 | Val Acc: 0.5575 | Train loss: 0.7286 Val Loss: 0.6008\n",
      "Epoch 060 | Fold 2 | Train Acc: 0.5661 | Val Acc: 0.5487 | Train loss: 0.7494 Val Loss: 0.5994\n",
      "Epoch 061 | Fold 2 | Train Acc: 0.5735 | Val Acc: 0.5553 | Train loss: 0.7342 Val Loss: 0.5970\n",
      "Epoch 062 | Fold 2 | Train Acc: 0.5667 | Val Acc: 0.5487 | Train loss: 0.7329 Val Loss: 0.5916\n",
      "Epoch 063 | Fold 2 | Train Acc: 0.5656 | Val Acc: 0.5487 | Train loss: 0.7410 Val Loss: 0.5894\n",
      "Epoch 064 | Fold 2 | Train Acc: 0.5741 | Val Acc: 0.5487 | Train loss: 0.7300 Val Loss: 0.5870\n",
      "Epoch 065 | Fold 2 | Train Acc: 0.5704 | Val Acc: 0.5509 | Train loss: 0.7257 Val Loss: 0.5875\n",
      "Epoch 066 | Fold 2 | Train Acc: 0.5561 | Val Acc: 0.5509 | Train loss: 0.7327 Val Loss: 0.5834\n",
      "Epoch 067 | Fold 2 | Train Acc: 0.5683 | Val Acc: 0.5487 | Train loss: 0.7383 Val Loss: 0.5807\n",
      "Epoch 068 | Fold 2 | Train Acc: 0.5714 | Val Acc: 0.5509 | Train loss: 0.7314 Val Loss: 0.5791\n",
      "Epoch 069 | Fold 2 | Train Acc: 0.5714 | Val Acc: 0.5575 | Train loss: 0.7267 Val Loss: 0.5759\n",
      "Epoch 070 | Fold 2 | Train Acc: 0.5704 | Val Acc: 0.5575 | Train loss: 0.7248 Val Loss: 0.5752\n",
      "Epoch 071 | Fold 2 | Train Acc: 0.5810 | Val Acc: 0.5597 | Train loss: 0.7093 Val Loss: 0.5745\n",
      "Epoch 072 | Fold 2 | Train Acc: 0.5884 | Val Acc: 0.5973 | Train loss: 0.7089 Val Loss: 0.5741\n",
      "Epoch 073 | Fold 2 | Train Acc: 0.5820 | Val Acc: 0.5686 | Train loss: 0.7266 Val Loss: 0.5720\n",
      "Epoch 074 | Fold 2 | Train Acc: 0.5836 | Val Acc: 0.5597 | Train loss: 0.7089 Val Loss: 0.5684\n",
      "Epoch 075 | Fold 2 | Train Acc: 0.5751 | Val Acc: 0.5575 | Train loss: 0.7107 Val Loss: 0.5642\n",
      "Epoch 076 | Fold 2 | Train Acc: 0.5847 | Val Acc: 0.5774 | Train loss: 0.7003 Val Loss: 0.5639\n",
      "Epoch 077 | Fold 2 | Train Acc: 0.6021 | Val Acc: 0.5929 | Train loss: 0.7071 Val Loss: 0.5640\n",
      "Epoch 078 | Fold 2 | Train Acc: 0.6026 | Val Acc: 0.5597 | Train loss: 0.6994 Val Loss: 0.5584\n",
      "Epoch 079 | Fold 2 | Train Acc: 0.5783 | Val Acc: 0.5774 | Train loss: 0.7239 Val Loss: 0.5562\n",
      "Epoch 080 | Fold 2 | Train Acc: 0.5810 | Val Acc: 0.5796 | Train loss: 0.7175 Val Loss: 0.5553\n",
      "Epoch 081 | Fold 2 | Train Acc: 0.6011 | Val Acc: 0.6128 | Train loss: 0.6864 Val Loss: 0.5565\n",
      "Epoch 082 | Fold 2 | Train Acc: 0.5693 | Val Acc: 0.6106 | Train loss: 0.7227 Val Loss: 0.5543\n",
      "Epoch 083 | Fold 2 | Train Acc: 0.6074 | Val Acc: 0.6106 | Train loss: 0.6913 Val Loss: 0.5539\n",
      "Epoch 084 | Fold 2 | Train Acc: 0.5852 | Val Acc: 0.6128 | Train loss: 0.7058 Val Loss: 0.5502\n",
      "Epoch 085 | Fold 2 | Train Acc: 0.6021 | Val Acc: 0.6084 | Train loss: 0.7120 Val Loss: 0.5496\n",
      "Epoch 086 | Fold 2 | Train Acc: 0.5947 | Val Acc: 0.6062 | Train loss: 0.7103 Val Loss: 0.5474\n",
      "Epoch 087 | Fold 2 | Train Acc: 0.5831 | Val Acc: 0.6106 | Train loss: 0.7079 Val Loss: 0.5477\n",
      "Epoch 088 | Fold 2 | Train Acc: 0.5884 | Val Acc: 0.6106 | Train loss: 0.6928 Val Loss: 0.5444\n",
      "Epoch 089 | Fold 2 | Train Acc: 0.5995 | Val Acc: 0.6195 | Train loss: 0.7046 Val Loss: 0.5440\n",
      "Epoch 090 | Fold 2 | Train Acc: 0.5862 | Val Acc: 0.6217 | Train loss: 0.7033 Val Loss: 0.5438\n",
      "Epoch 091 | Fold 2 | Train Acc: 0.5799 | Val Acc: 0.6327 | Train loss: 0.7070 Val Loss: 0.5440\n",
      "Epoch 092 | Fold 2 | Train Acc: 0.5868 | Val Acc: 0.6195 | Train loss: 0.7065 Val Loss: 0.5409\n",
      "Epoch 093 | Fold 2 | Train Acc: 0.5931 | Val Acc: 0.6217 | Train loss: 0.6891 Val Loss: 0.5380\n",
      "Epoch 094 | Fold 2 | Train Acc: 0.5963 | Val Acc: 0.6261 | Train loss: 0.6989 Val Loss: 0.5386\n",
      "Epoch 095 | Fold 2 | Train Acc: 0.6011 | Val Acc: 0.6305 | Train loss: 0.6934 Val Loss: 0.5387\n",
      "Epoch 096 | Fold 2 | Train Acc: 0.5947 | Val Acc: 0.6327 | Train loss: 0.6803 Val Loss: 0.5356\n",
      "Epoch 097 | Fold 2 | Train Acc: 0.5984 | Val Acc: 0.6305 | Train loss: 0.7058 Val Loss: 0.5356\n",
      "Epoch 098 | Fold 2 | Train Acc: 0.5868 | Val Acc: 0.6305 | Train loss: 0.6858 Val Loss: 0.5360\n",
      "Epoch 099 | Fold 2 | Train Acc: 0.5947 | Val Acc: 0.6305 | Train loss: 0.6987 Val Loss: 0.5347\n",
      "Epoch 100 | Fold 2 | Train Acc: 0.6090 | Val Acc: 0.6239 | Train loss: 0.6699 Val Loss: 0.5320\n",
      "Epoch 101 | Fold 2 | Train Acc: 0.5947 | Val Acc: 0.6239 | Train loss: 0.6764 Val Loss: 0.5282\n",
      "Epoch 102 | Fold 2 | Train Acc: 0.6026 | Val Acc: 0.6527 | Train loss: 0.6882 Val Loss: 0.5324\n",
      "Epoch 103 | Fold 2 | Train Acc: 0.6069 | Val Acc: 0.6283 | Train loss: 0.6800 Val Loss: 0.5288\n",
      "Epoch 104 | Fold 2 | Train Acc: 0.6095 | Val Acc: 0.6350 | Train loss: 0.6517 Val Loss: 0.5246\n",
      "Epoch 105 | Fold 2 | Train Acc: 0.6016 | Val Acc: 0.6372 | Train loss: 0.6921 Val Loss: 0.5226\n",
      "Epoch 106 | Fold 2 | Train Acc: 0.6148 | Val Acc: 0.6372 | Train loss: 0.6914 Val Loss: 0.5248\n",
      "Epoch 107 | Fold 2 | Train Acc: 0.6153 | Val Acc: 0.6482 | Train loss: 0.6600 Val Loss: 0.5218\n",
      "Epoch 108 | Fold 2 | Train Acc: 0.6143 | Val Acc: 0.6504 | Train loss: 0.6651 Val Loss: 0.5195\n",
      "Epoch 109 | Fold 2 | Train Acc: 0.6101 | Val Acc: 0.6372 | Train loss: 0.6628 Val Loss: 0.5206\n",
      "Epoch 110 | Fold 2 | Train Acc: 0.6116 | Val Acc: 0.6283 | Train loss: 0.6927 Val Loss: 0.5184\n",
      "Epoch 111 | Fold 2 | Train Acc: 0.6143 | Val Acc: 0.6305 | Train loss: 0.6756 Val Loss: 0.5181\n",
      "Epoch 112 | Fold 2 | Train Acc: 0.5947 | Val Acc: 0.6327 | Train loss: 0.6917 Val Loss: 0.5155\n",
      "Epoch 113 | Fold 2 | Train Acc: 0.6069 | Val Acc: 0.6438 | Train loss: 0.6705 Val Loss: 0.5136\n",
      "Epoch 114 | Fold 2 | Train Acc: 0.6085 | Val Acc: 0.6372 | Train loss: 0.6731 Val Loss: 0.5160\n",
      "Epoch 115 | Fold 2 | Train Acc: 0.6106 | Val Acc: 0.6615 | Train loss: 0.6790 Val Loss: 0.5170\n",
      "Epoch 116 | Fold 2 | Train Acc: 0.6143 | Val Acc: 0.6659 | Train loss: 0.6630 Val Loss: 0.5164\n",
      "Epoch 117 | Fold 2 | Train Acc: 0.6106 | Val Acc: 0.6593 | Train loss: 0.6874 Val Loss: 0.5130\n",
      "Epoch 118 | Fold 2 | Train Acc: 0.5963 | Val Acc: 0.6615 | Train loss: 0.7141 Val Loss: 0.5115\n",
      "Epoch 119 | Fold 2 | Train Acc: 0.5937 | Val Acc: 0.6903 | Train loss: 0.6924 Val Loss: 0.5150\n",
      "Epoch 120 | Fold 2 | Train Acc: 0.6079 | Val Acc: 0.6659 | Train loss: 0.6509 Val Loss: 0.5133\n",
      "Epoch 121 | Fold 2 | Train Acc: 0.6063 | Val Acc: 0.6659 | Train loss: 0.6619 Val Loss: 0.5122\n",
      "Epoch 122 | Fold 2 | Train Acc: 0.6058 | Val Acc: 0.6615 | Train loss: 0.6836 Val Loss: 0.5072\n",
      "Epoch 123 | Fold 2 | Train Acc: 0.5979 | Val Acc: 0.6814 | Train loss: 0.6835 Val Loss: 0.5092\n",
      "Epoch 124 | Fold 2 | Train Acc: 0.6069 | Val Acc: 0.6659 | Train loss: 0.6733 Val Loss: 0.5097\n",
      "Epoch 125 | Fold 2 | Train Acc: 0.6159 | Val Acc: 0.6925 | Train loss: 0.6590 Val Loss: 0.5090\n",
      "Epoch 126 | Fold 2 | Train Acc: 0.6238 | Val Acc: 0.6704 | Train loss: 0.6536 Val Loss: 0.5050\n",
      "Epoch 127 | Fold 2 | Train Acc: 0.5899 | Val Acc: 0.6881 | Train loss: 0.6871 Val Loss: 0.5055\n",
      "Epoch 128 | Fold 2 | Train Acc: 0.6101 | Val Acc: 0.6925 | Train loss: 0.6800 Val Loss: 0.5080\n",
      "Epoch 129 | Fold 2 | Train Acc: 0.5989 | Val Acc: 0.6925 | Train loss: 0.6743 Val Loss: 0.5059\n",
      "Epoch 130 | Fold 2 | Train Acc: 0.6101 | Val Acc: 0.6947 | Train loss: 0.6626 Val Loss: 0.5071\n",
      "Epoch 131 | Fold 2 | Train Acc: 0.6233 | Val Acc: 0.6881 | Train loss: 0.6607 Val Loss: 0.5033\n",
      "Epoch 132 | Fold 2 | Train Acc: 0.6143 | Val Acc: 0.6748 | Train loss: 0.6847 Val Loss: 0.5024\n",
      "Epoch 133 | Fold 2 | Train Acc: 0.6175 | Val Acc: 0.6925 | Train loss: 0.6777 Val Loss: 0.5035\n",
      "Epoch 134 | Fold 2 | Train Acc: 0.6259 | Val Acc: 0.6925 | Train loss: 0.6453 Val Loss: 0.5028\n",
      "Epoch 135 | Fold 2 | Train Acc: 0.6063 | Val Acc: 0.6925 | Train loss: 0.6565 Val Loss: 0.5016\n",
      "Epoch 136 | Fold 2 | Train Acc: 0.6037 | Val Acc: 0.6748 | Train loss: 0.6745 Val Loss: 0.5015\n",
      "Epoch 137 | Fold 2 | Train Acc: 0.6106 | Val Acc: 0.6748 | Train loss: 0.6549 Val Loss: 0.5008\n",
      "Epoch 138 | Fold 2 | Train Acc: 0.6153 | Val Acc: 0.6748 | Train loss: 0.6496 Val Loss: 0.5004\n",
      "Epoch 139 | Fold 2 | Train Acc: 0.6127 | Val Acc: 0.6836 | Train loss: 0.6736 Val Loss: 0.5005\n",
      "Epoch 140 | Fold 2 | Train Acc: 0.6101 | Val Acc: 0.6792 | Train loss: 0.6694 Val Loss: 0.4981\n",
      "Epoch 141 | Fold 2 | Train Acc: 0.6185 | Val Acc: 0.6925 | Train loss: 0.6468 Val Loss: 0.4981\n",
      "Epoch 142 | Fold 2 | Train Acc: 0.6090 | Val Acc: 0.6814 | Train loss: 0.6696 Val Loss: 0.4965\n",
      "Epoch 143 | Fold 2 | Train Acc: 0.6111 | Val Acc: 0.6925 | Train loss: 0.6672 Val Loss: 0.4964\n",
      "Epoch 144 | Fold 2 | Train Acc: 0.6175 | Val Acc: 0.6925 | Train loss: 0.6726 Val Loss: 0.4967\n",
      "Epoch 145 | Fold 2 | Train Acc: 0.6042 | Val Acc: 0.6792 | Train loss: 0.6658 Val Loss: 0.4945\n",
      "Epoch 146 | Fold 2 | Train Acc: 0.6148 | Val Acc: 0.6925 | Train loss: 0.6537 Val Loss: 0.4970\n",
      "Epoch 147 | Fold 2 | Train Acc: 0.6222 | Val Acc: 0.6925 | Train loss: 0.6670 Val Loss: 0.4959\n",
      "Epoch 148 | Fold 2 | Train Acc: 0.5947 | Val Acc: 0.6858 | Train loss: 0.6816 Val Loss: 0.4948\n",
      "Epoch 149 | Fold 2 | Train Acc: 0.6085 | Val Acc: 0.6947 | Train loss: 0.6571 Val Loss: 0.4938\n",
      "Epoch 150 | Fold 2 | Train Acc: 0.6011 | Val Acc: 0.6947 | Train loss: 0.6613 Val Loss: 0.4920\n",
      "Epoch 151 | Fold 2 | Train Acc: 0.6164 | Val Acc: 0.6947 | Train loss: 0.6431 Val Loss: 0.4934\n",
      "Epoch 152 | Fold 2 | Train Acc: 0.6190 | Val Acc: 0.6925 | Train loss: 0.6543 Val Loss: 0.4929\n",
      "Epoch 153 | Fold 2 | Train Acc: 0.6090 | Val Acc: 0.6947 | Train loss: 0.6555 Val Loss: 0.4924\n",
      "Epoch 154 | Fold 2 | Train Acc: 0.6095 | Val Acc: 0.6947 | Train loss: 0.6814 Val Loss: 0.4951\n",
      "Epoch 155 | Fold 2 | Train Acc: 0.6212 | Val Acc: 0.6947 | Train loss: 0.6505 Val Loss: 0.4924\n",
      "Epoch 156 | Fold 2 | Train Acc: 0.6196 | Val Acc: 0.6881 | Train loss: 0.6392 Val Loss: 0.4926\n",
      "Epoch 157 | Fold 2 | Train Acc: 0.6111 | Val Acc: 0.6881 | Train loss: 0.6529 Val Loss: 0.4905\n",
      "Epoch 158 | Fold 2 | Train Acc: 0.6122 | Val Acc: 0.7035 | Train loss: 0.6409 Val Loss: 0.4926\n",
      "Epoch 159 | Fold 2 | Train Acc: 0.6323 | Val Acc: 0.6947 | Train loss: 0.6450 Val Loss: 0.4892\n",
      "Epoch 160 | Fold 2 | Train Acc: 0.6212 | Val Acc: 0.6947 | Train loss: 0.6374 Val Loss: 0.4908\n",
      "Epoch 161 | Fold 2 | Train Acc: 0.6196 | Val Acc: 0.6925 | Train loss: 0.6677 Val Loss: 0.4897\n",
      "Epoch 162 | Fold 2 | Train Acc: 0.6143 | Val Acc: 0.6947 | Train loss: 0.6637 Val Loss: 0.4889\n",
      "Epoch 163 | Fold 2 | Train Acc: 0.6238 | Val Acc: 0.6947 | Train loss: 0.6452 Val Loss: 0.4898\n",
      "Epoch 164 | Fold 2 | Train Acc: 0.6339 | Val Acc: 0.7035 | Train loss: 0.6447 Val Loss: 0.4898\n",
      "Epoch 165 | Fold 2 | Train Acc: 0.6005 | Val Acc: 0.7013 | Train loss: 0.6741 Val Loss: 0.4868\n",
      "Epoch 166 | Fold 2 | Train Acc: 0.6132 | Val Acc: 0.6947 | Train loss: 0.6459 Val Loss: 0.4896\n",
      "Epoch 167 | Fold 2 | Train Acc: 0.6127 | Val Acc: 0.6947 | Train loss: 0.6541 Val Loss: 0.4885\n",
      "Epoch 168 | Fold 2 | Train Acc: 0.6095 | Val Acc: 0.6947 | Train loss: 0.6512 Val Loss: 0.4874\n",
      "Epoch 169 | Fold 2 | Train Acc: 0.6116 | Val Acc: 0.7035 | Train loss: 0.6442 Val Loss: 0.4858\n",
      "Epoch 170 | Fold 2 | Train Acc: 0.6222 | Val Acc: 0.6991 | Train loss: 0.6361 Val Loss: 0.4864\n",
      "Epoch 171 | Fold 2 | Train Acc: 0.6259 | Val Acc: 0.6969 | Train loss: 0.6677 Val Loss: 0.4864\n",
      "Epoch 172 | Fold 2 | Train Acc: 0.6201 | Val Acc: 0.6836 | Train loss: 0.6500 Val Loss: 0.4859\n",
      "Epoch 173 | Fold 2 | Train Acc: 0.6233 | Val Acc: 0.6903 | Train loss: 0.6207 Val Loss: 0.4831\n",
      "Epoch 174 | Fold 2 | Train Acc: 0.5989 | Val Acc: 0.6881 | Train loss: 0.6551 Val Loss: 0.4823\n",
      "Epoch 175 | Fold 2 | Train Acc: 0.6302 | Val Acc: 0.7058 | Train loss: 0.6343 Val Loss: 0.4833\n",
      "Epoch 176 | Fold 2 | Train Acc: 0.6212 | Val Acc: 0.6969 | Train loss: 0.6473 Val Loss: 0.4834\n",
      "Epoch 177 | Fold 2 | Train Acc: 0.6164 | Val Acc: 0.6969 | Train loss: 0.6522 Val Loss: 0.4834\n",
      "Epoch 178 | Fold 2 | Train Acc: 0.6169 | Val Acc: 0.7035 | Train loss: 0.6585 Val Loss: 0.4826\n",
      "Epoch 179 | Fold 2 | Train Acc: 0.6074 | Val Acc: 0.7035 | Train loss: 0.6434 Val Loss: 0.4805\n",
      "Epoch 180 | Fold 2 | Train Acc: 0.6180 | Val Acc: 0.6969 | Train loss: 0.6677 Val Loss: 0.4832\n",
      "Epoch 181 | Fold 2 | Train Acc: 0.6249 | Val Acc: 0.7058 | Train loss: 0.6259 Val Loss: 0.4829\n",
      "Epoch 182 | Fold 2 | Train Acc: 0.6159 | Val Acc: 0.7035 | Train loss: 0.6564 Val Loss: 0.4813\n",
      "Epoch 183 | Fold 2 | Train Acc: 0.6190 | Val Acc: 0.7013 | Train loss: 0.6547 Val Loss: 0.4811\n",
      "Epoch 184 | Fold 2 | Train Acc: 0.6180 | Val Acc: 0.7013 | Train loss: 0.6614 Val Loss: 0.4795\n",
      "Epoch 185 | Fold 2 | Train Acc: 0.6217 | Val Acc: 0.7013 | Train loss: 0.6468 Val Loss: 0.4805\n",
      "Epoch 186 | Fold 2 | Train Acc: 0.6370 | Val Acc: 0.7080 | Train loss: 0.6364 Val Loss: 0.4795\n",
      "Epoch 187 | Fold 2 | Train Acc: 0.6317 | Val Acc: 0.7124 | Train loss: 0.6456 Val Loss: 0.4785\n",
      "Epoch 188 | Fold 2 | Train Acc: 0.6222 | Val Acc: 0.7146 | Train loss: 0.6505 Val Loss: 0.4778\n",
      "Epoch 189 | Fold 2 | Train Acc: 0.6323 | Val Acc: 0.7146 | Train loss: 0.6355 Val Loss: 0.4803\n",
      "Epoch 190 | Fold 2 | Train Acc: 0.6317 | Val Acc: 0.7146 | Train loss: 0.6338 Val Loss: 0.4800\n",
      "Epoch 191 | Fold 2 | Train Acc: 0.6328 | Val Acc: 0.7124 | Train loss: 0.6284 Val Loss: 0.4786\n",
      "Epoch 192 | Fold 2 | Train Acc: 0.6238 | Val Acc: 0.7124 | Train loss: 0.6494 Val Loss: 0.4770\n",
      "Epoch 193 | Fold 2 | Train Acc: 0.6190 | Val Acc: 0.7124 | Train loss: 0.6402 Val Loss: 0.4770\n",
      "Epoch 194 | Fold 2 | Train Acc: 0.6254 | Val Acc: 0.7124 | Train loss: 0.6439 Val Loss: 0.4764\n",
      "Epoch 195 | Fold 2 | Train Acc: 0.6228 | Val Acc: 0.7058 | Train loss: 0.6269 Val Loss: 0.4730\n",
      "Epoch 196 | Fold 2 | Train Acc: 0.6085 | Val Acc: 0.7146 | Train loss: 0.6632 Val Loss: 0.4740\n",
      "Epoch 197 | Fold 2 | Train Acc: 0.6238 | Val Acc: 0.7190 | Train loss: 0.6358 Val Loss: 0.4744\n",
      "Epoch 198 | Fold 2 | Train Acc: 0.6286 | Val Acc: 0.7190 | Train loss: 0.6474 Val Loss: 0.4743\n",
      "Epoch 199 | Fold 2 | Train Acc: 0.6317 | Val Acc: 0.7124 | Train loss: 0.6225 Val Loss: 0.4769\n",
      "Epoch 200 | Fold 2 | Train Acc: 0.6392 | Val Acc: 0.7190 | Train loss: 0.6172 Val Loss: 0.4756\n",
      "Epoch 201 | Fold 2 | Train Acc: 0.6280 | Val Acc: 0.7190 | Train loss: 0.6509 Val Loss: 0.4742\n",
      "Epoch 202 | Fold 2 | Train Acc: 0.6254 | Val Acc: 0.7190 | Train loss: 0.6483 Val Loss: 0.4740\n",
      "Epoch 203 | Fold 2 | Train Acc: 0.6259 | Val Acc: 0.7190 | Train loss: 0.6388 Val Loss: 0.4726\n",
      "Epoch 204 | Fold 2 | Train Acc: 0.6265 | Val Acc: 0.7146 | Train loss: 0.6295 Val Loss: 0.4715\n",
      "Epoch 205 | Fold 2 | Train Acc: 0.6381 | Val Acc: 0.7190 | Train loss: 0.6246 Val Loss: 0.4714\n",
      "Epoch 206 | Fold 2 | Train Acc: 0.6328 | Val Acc: 0.7190 | Train loss: 0.6360 Val Loss: 0.4707\n",
      "Epoch 207 | Fold 2 | Train Acc: 0.6354 | Val Acc: 0.7190 | Train loss: 0.6414 Val Loss: 0.4717\n",
      "Epoch 208 | Fold 2 | Train Acc: 0.6365 | Val Acc: 0.7190 | Train loss: 0.6291 Val Loss: 0.4715\n",
      "Epoch 209 | Fold 2 | Train Acc: 0.6217 | Val Acc: 0.7190 | Train loss: 0.6569 Val Loss: 0.4725\n",
      "Epoch 210 | Fold 2 | Train Acc: 0.6429 | Val Acc: 0.7190 | Train loss: 0.6372 Val Loss: 0.4735\n",
      "Epoch 211 | Fold 2 | Train Acc: 0.6407 | Val Acc: 0.7190 | Train loss: 0.6266 Val Loss: 0.4728\n",
      "Epoch 212 | Fold 2 | Train Acc: 0.6138 | Val Acc: 0.7190 | Train loss: 0.6187 Val Loss: 0.4704\n",
      "Epoch 213 | Fold 2 | Train Acc: 0.6280 | Val Acc: 0.7190 | Train loss: 0.6270 Val Loss: 0.4693\n",
      "Epoch 214 | Fold 2 | Train Acc: 0.6143 | Val Acc: 0.7190 | Train loss: 0.6515 Val Loss: 0.4712\n",
      "Epoch 215 | Fold 2 | Train Acc: 0.6333 | Val Acc: 0.7190 | Train loss: 0.6428 Val Loss: 0.4704\n",
      "Epoch 216 | Fold 2 | Train Acc: 0.6349 | Val Acc: 0.7190 | Train loss: 0.6490 Val Loss: 0.4701\n",
      "Epoch 217 | Fold 2 | Train Acc: 0.6222 | Val Acc: 0.7190 | Train loss: 0.6483 Val Loss: 0.4708\n",
      "Epoch 218 | Fold 2 | Train Acc: 0.6444 | Val Acc: 0.7190 | Train loss: 0.6159 Val Loss: 0.4705\n",
      "Epoch 219 | Fold 2 | Train Acc: 0.6206 | Val Acc: 0.7190 | Train loss: 0.6225 Val Loss: 0.4705\n",
      "Epoch 220 | Fold 2 | Train Acc: 0.6360 | Val Acc: 0.7190 | Train loss: 0.6327 Val Loss: 0.4688\n",
      "Epoch 221 | Fold 2 | Train Acc: 0.6185 | Val Acc: 0.7102 | Train loss: 0.6442 Val Loss: 0.4691\n",
      "Epoch 222 | Fold 2 | Train Acc: 0.6249 | Val Acc: 0.7102 | Train loss: 0.6265 Val Loss: 0.4693\n",
      "Epoch 223 | Fold 2 | Train Acc: 0.6270 | Val Acc: 0.7058 | Train loss: 0.6467 Val Loss: 0.4663\n",
      "Epoch 224 | Fold 2 | Train Acc: 0.6296 | Val Acc: 0.7212 | Train loss: 0.6313 Val Loss: 0.4679\n",
      "Epoch 225 | Fold 2 | Train Acc: 0.6302 | Val Acc: 0.7190 | Train loss: 0.6390 Val Loss: 0.4680\n",
      "Epoch 226 | Fold 2 | Train Acc: 0.6302 | Val Acc: 0.7190 | Train loss: 0.6530 Val Loss: 0.4688\n",
      "Epoch 227 | Fold 2 | Train Acc: 0.6349 | Val Acc: 0.7190 | Train loss: 0.6135 Val Loss: 0.4661\n",
      "Epoch 228 | Fold 2 | Train Acc: 0.6249 | Val Acc: 0.7212 | Train loss: 0.6396 Val Loss: 0.4687\n",
      "Epoch 229 | Fold 2 | Train Acc: 0.6392 | Val Acc: 0.7190 | Train loss: 0.6111 Val Loss: 0.4687\n",
      "Epoch 230 | Fold 2 | Train Acc: 0.6323 | Val Acc: 0.7080 | Train loss: 0.6136 Val Loss: 0.4652\n",
      "Epoch 231 | Fold 2 | Train Acc: 0.6233 | Val Acc: 0.7190 | Train loss: 0.6386 Val Loss: 0.4644\n",
      "Epoch 232 | Fold 2 | Train Acc: 0.6212 | Val Acc: 0.7168 | Train loss: 0.6173 Val Loss: 0.4645\n",
      "Epoch 233 | Fold 2 | Train Acc: 0.6376 | Val Acc: 0.7212 | Train loss: 0.6256 Val Loss: 0.4664\n",
      "Epoch 234 | Fold 2 | Train Acc: 0.6259 | Val Acc: 0.7190 | Train loss: 0.6222 Val Loss: 0.4650\n",
      "Epoch 235 | Fold 2 | Train Acc: 0.6201 | Val Acc: 0.7190 | Train loss: 0.6246 Val Loss: 0.4649\n",
      "Epoch 236 | Fold 2 | Train Acc: 0.6333 | Val Acc: 0.7190 | Train loss: 0.6284 Val Loss: 0.4662\n",
      "Epoch 237 | Fold 2 | Train Acc: 0.6354 | Val Acc: 0.7190 | Train loss: 0.6486 Val Loss: 0.4648\n",
      "Epoch 238 | Fold 2 | Train Acc: 0.6381 | Val Acc: 0.7190 | Train loss: 0.6252 Val Loss: 0.4634\n",
      "Epoch 239 | Fold 2 | Train Acc: 0.6307 | Val Acc: 0.7190 | Train loss: 0.6350 Val Loss: 0.4645\n",
      "Epoch 240 | Fold 2 | Train Acc: 0.6222 | Val Acc: 0.7190 | Train loss: 0.6153 Val Loss: 0.4647\n",
      "Epoch 241 | Fold 2 | Train Acc: 0.6381 | Val Acc: 0.7190 | Train loss: 0.6453 Val Loss: 0.4660\n",
      "Epoch 242 | Fold 2 | Train Acc: 0.6249 | Val Acc: 0.7190 | Train loss: 0.6571 Val Loss: 0.4655\n",
      "Epoch 243 | Fold 2 | Train Acc: 0.6185 | Val Acc: 0.7190 | Train loss: 0.6385 Val Loss: 0.4632\n",
      "Epoch 244 | Fold 2 | Train Acc: 0.6254 | Val Acc: 0.7190 | Train loss: 0.6231 Val Loss: 0.4645\n",
      "Epoch 245 | Fold 2 | Train Acc: 0.6243 | Val Acc: 0.7190 | Train loss: 0.6333 Val Loss: 0.4629\n",
      "Epoch 246 | Fold 2 | Train Acc: 0.6286 | Val Acc: 0.7190 | Train loss: 0.6278 Val Loss: 0.4629\n",
      "Epoch 247 | Fold 2 | Train Acc: 0.6217 | Val Acc: 0.7190 | Train loss: 0.6451 Val Loss: 0.4635\n",
      "Epoch 248 | Fold 2 | Train Acc: 0.6206 | Val Acc: 0.7190 | Train loss: 0.6427 Val Loss: 0.4634\n",
      "Epoch 249 | Fold 2 | Train Acc: 0.6302 | Val Acc: 0.7190 | Train loss: 0.6098 Val Loss: 0.4625\n",
      "Epoch 250 | Fold 2 | Train Acc: 0.6175 | Val Acc: 0.7190 | Train loss: 0.6300 Val Loss: 0.4619\n",
      "Epoch 251 | Fold 2 | Train Acc: 0.6365 | Val Acc: 0.7124 | Train loss: 0.6423 Val Loss: 0.4654\n",
      "Epoch 252 | Fold 2 | Train Acc: 0.6529 | Val Acc: 0.7190 | Train loss: 0.6238 Val Loss: 0.4646\n",
      "Epoch 253 | Fold 2 | Train Acc: 0.6344 | Val Acc: 0.7190 | Train loss: 0.6211 Val Loss: 0.4631\n",
      "Epoch 254 | Fold 2 | Train Acc: 0.6222 | Val Acc: 0.7190 | Train loss: 0.6347 Val Loss: 0.4638\n",
      "Epoch 255 | Fold 2 | Train Acc: 0.6280 | Val Acc: 0.7190 | Train loss: 0.6385 Val Loss: 0.4634\n",
      "Epoch 256 | Fold 2 | Train Acc: 0.6196 | Val Acc: 0.7190 | Train loss: 0.6236 Val Loss: 0.4647\n",
      "Epoch 257 | Fold 2 | Train Acc: 0.6349 | Val Acc: 0.7190 | Train loss: 0.6191 Val Loss: 0.4640\n",
      "Epoch 258 | Fold 2 | Train Acc: 0.6228 | Val Acc: 0.7190 | Train loss: 0.6154 Val Loss: 0.4636\n",
      "Epoch 259 | Fold 2 | Train Acc: 0.6307 | Val Acc: 0.7212 | Train loss: 0.6304 Val Loss: 0.4627\n",
      "Epoch 260 | Fold 2 | Train Acc: 0.6317 | Val Acc: 0.7146 | Train loss: 0.6361 Val Loss: 0.4666\n",
      "Epoch 261 | Fold 2 | Train Acc: 0.6243 | Val Acc: 0.7124 | Train loss: 0.6524 Val Loss: 0.4661\n",
      "Epoch 262 | Fold 2 | Train Acc: 0.6413 | Val Acc: 0.7190 | Train loss: 0.6295 Val Loss: 0.4654\n",
      "Epoch 263 | Fold 2 | Train Acc: 0.6302 | Val Acc: 0.7190 | Train loss: 0.6227 Val Loss: 0.4650\n",
      "Epoch 264 | Fold 2 | Train Acc: 0.6339 | Val Acc: 0.7190 | Train loss: 0.6132 Val Loss: 0.4632\n",
      "Epoch 265 | Fold 2 | Train Acc: 0.6429 | Val Acc: 0.7190 | Train loss: 0.6258 Val Loss: 0.4640\n",
      "Epoch 266 | Fold 2 | Train Acc: 0.6333 | Val Acc: 0.7190 | Train loss: 0.6214 Val Loss: 0.4640\n",
      "Epoch 267 | Fold 2 | Train Acc: 0.6460 | Val Acc: 0.7190 | Train loss: 0.6136 Val Loss: 0.4640\n",
      "Epoch 268 | Fold 2 | Train Acc: 0.6344 | Val Acc: 0.7190 | Train loss: 0.6047 Val Loss: 0.4627\n",
      "Epoch 269 | Fold 2 | Train Acc: 0.6344 | Val Acc: 0.7190 | Train loss: 0.6233 Val Loss: 0.4629\n",
      "Epoch 270 | Fold 2 | Train Acc: 0.6386 | Val Acc: 0.7190 | Train loss: 0.5972 Val Loss: 0.4632\n",
      "Epoch 271 | Fold 2 | Train Acc: 0.6296 | Val Acc: 0.7190 | Train loss: 0.6258 Val Loss: 0.4635\n",
      "Epoch 272 | Fold 2 | Train Acc: 0.6307 | Val Acc: 0.7190 | Train loss: 0.6446 Val Loss: 0.4638\n",
      "Epoch 273 | Fold 2 | Train Acc: 0.6349 | Val Acc: 0.7190 | Train loss: 0.6275 Val Loss: 0.4635\n",
      "Epoch 274 | Fold 2 | Train Acc: 0.6370 | Val Acc: 0.7190 | Train loss: 0.6160 Val Loss: 0.4630\n",
      "Epoch 275 | Fold 2 | Train Acc: 0.6439 | Val Acc: 0.7190 | Train loss: 0.6198 Val Loss: 0.4626\n",
      "Epoch 276 | Fold 2 | Train Acc: 0.6392 | Val Acc: 0.7190 | Train loss: 0.6228 Val Loss: 0.4623\n",
      "Epoch 277 | Fold 2 | Train Acc: 0.6317 | Val Acc: 0.7190 | Train loss: 0.6276 Val Loss: 0.4622\n",
      "Epoch 278 | Fold 2 | Train Acc: 0.6317 | Val Acc: 0.7190 | Train loss: 0.6419 Val Loss: 0.4620\n",
      "Epoch 279 | Fold 2 | Train Acc: 0.6296 | Val Acc: 0.7190 | Train loss: 0.6133 Val Loss: 0.4622\n",
      "Epoch 280 | Fold 2 | Train Acc: 0.6339 | Val Acc: 0.7190 | Train loss: 0.6330 Val Loss: 0.4620\n",
      " Early stopping at epoch 280 for fold 2\n",
      " Fold 2: Best Val Acc = 0.7190\n",
      "Epoch 001 | Fold 3 | Train Acc: 0.3591 | Val Acc: 0.4754 | Train loss: 1.3887 Val Loss: 1.3804\n",
      "Epoch 002 | Fold 3 | Train Acc: 0.3563 | Val Acc: 0.4613 | Train loss: 1.3769 Val Loss: 1.3761\n",
      "Epoch 003 | Fold 3 | Train Acc: 0.3315 | Val Acc: 0.5000 | Train loss: 1.3723 Val Loss: 1.3726\n",
      "Epoch 004 | Fold 3 | Train Acc: 0.3467 | Val Acc: 0.4683 | Train loss: 1.3666 Val Loss: 1.3693\n",
      "Epoch 005 | Fold 3 | Train Acc: 0.3647 | Val Acc: 0.4595 | Train loss: 1.3573 Val Loss: 1.3651\n",
      "Epoch 006 | Fold 3 | Train Acc: 0.3619 | Val Acc: 0.5070 | Train loss: 1.3500 Val Loss: 1.3600\n",
      "Epoch 007 | Fold 3 | Train Acc: 0.3856 | Val Acc: 0.4965 | Train loss: 1.3427 Val Loss: 1.3538\n",
      "Epoch 008 | Fold 3 | Train Acc: 0.3692 | Val Acc: 0.5158 | Train loss: 1.3330 Val Loss: 1.3460\n",
      "Epoch 009 | Fold 3 | Train Acc: 0.3749 | Val Acc: 0.4894 | Train loss: 1.3169 Val Loss: 1.3354\n",
      "Epoch 010 | Fold 3 | Train Acc: 0.3884 | Val Acc: 0.4965 | Train loss: 1.3000 Val Loss: 1.3225\n",
      "Epoch 011 | Fold 3 | Train Acc: 0.4030 | Val Acc: 0.4982 | Train loss: 1.2717 Val Loss: 1.3039\n",
      "Epoch 012 | Fold 3 | Train Acc: 0.4194 | Val Acc: 0.4577 | Train loss: 1.2538 Val Loss: 1.2788\n",
      "Epoch 013 | Fold 3 | Train Acc: 0.4346 | Val Acc: 0.4894 | Train loss: 1.2076 Val Loss: 1.2556\n",
      "Epoch 014 | Fold 3 | Train Acc: 0.4504 | Val Acc: 0.4930 | Train loss: 1.1705 Val Loss: 1.2281\n",
      "Epoch 015 | Fold 3 | Train Acc: 0.4340 | Val Acc: 0.4982 | Train loss: 1.1378 Val Loss: 1.2010\n",
      "Epoch 016 | Fold 3 | Train Acc: 0.4290 | Val Acc: 0.4489 | Train loss: 1.1090 Val Loss: 1.1732\n",
      "Epoch 017 | Fold 3 | Train Acc: 0.4408 | Val Acc: 0.4507 | Train loss: 1.0660 Val Loss: 1.1490\n",
      "Epoch 018 | Fold 3 | Train Acc: 0.4278 | Val Acc: 0.4507 | Train loss: 1.0423 Val Loss: 1.1232\n",
      "Epoch 019 | Fold 3 | Train Acc: 0.4504 | Val Acc: 0.4754 | Train loss: 0.9903 Val Loss: 1.1028\n",
      "Epoch 020 | Fold 3 | Train Acc: 0.4662 | Val Acc: 0.4789 | Train loss: 0.9569 Val Loss: 1.0822\n",
      "Epoch 021 | Fold 3 | Train Acc: 0.4741 | Val Acc: 0.4789 | Train loss: 0.9289 Val Loss: 1.0631\n",
      "Epoch 022 | Fold 3 | Train Acc: 0.4662 | Val Acc: 0.4859 | Train loss: 0.9346 Val Loss: 1.0466\n",
      "Epoch 023 | Fold 3 | Train Acc: 0.4915 | Val Acc: 0.5246 | Train loss: 0.9018 Val Loss: 1.0276\n",
      "Epoch 024 | Fold 3 | Train Acc: 0.4870 | Val Acc: 0.5246 | Train loss: 0.8885 Val Loss: 1.0110\n",
      "Epoch 025 | Fold 3 | Train Acc: 0.4718 | Val Acc: 0.5246 | Train loss: 0.8874 Val Loss: 0.9949\n",
      "Epoch 026 | Fold 3 | Train Acc: 0.4932 | Val Acc: 0.5299 | Train loss: 0.8641 Val Loss: 0.9839\n",
      "Epoch 027 | Fold 3 | Train Acc: 0.4927 | Val Acc: 0.5387 | Train loss: 0.8623 Val Loss: 0.9727\n",
      "Epoch 028 | Fold 3 | Train Acc: 0.5028 | Val Acc: 0.5440 | Train loss: 0.8422 Val Loss: 0.9660\n",
      "Epoch 029 | Fold 3 | Train Acc: 0.5141 | Val Acc: 0.5563 | Train loss: 0.8204 Val Loss: 0.9550\n",
      "Epoch 030 | Fold 3 | Train Acc: 0.5304 | Val Acc: 0.5546 | Train loss: 0.8180 Val Loss: 0.9456\n",
      "Epoch 031 | Fold 3 | Train Acc: 0.5248 | Val Acc: 0.5440 | Train loss: 0.8190 Val Loss: 0.9394\n",
      "Epoch 032 | Fold 3 | Train Acc: 0.5124 | Val Acc: 0.5546 | Train loss: 0.8026 Val Loss: 0.9308\n",
      "Epoch 033 | Fold 3 | Train Acc: 0.5299 | Val Acc: 0.5563 | Train loss: 0.8112 Val Loss: 0.9186\n",
      "Epoch 034 | Fold 3 | Train Acc: 0.5316 | Val Acc: 0.5563 | Train loss: 0.8005 Val Loss: 0.9116\n",
      "Epoch 035 | Fold 3 | Train Acc: 0.5457 | Val Acc: 0.5563 | Train loss: 0.7875 Val Loss: 0.9102\n",
      "Epoch 036 | Fold 3 | Train Acc: 0.5462 | Val Acc: 0.5581 | Train loss: 0.7673 Val Loss: 0.9038\n",
      "Epoch 037 | Fold 3 | Train Acc: 0.5468 | Val Acc: 0.5546 | Train loss: 0.7614 Val Loss: 0.8999\n",
      "Epoch 038 | Fold 3 | Train Acc: 0.5575 | Val Acc: 0.5546 | Train loss: 0.7624 Val Loss: 0.8890\n",
      "Epoch 039 | Fold 3 | Train Acc: 0.5524 | Val Acc: 0.5563 | Train loss: 0.7483 Val Loss: 0.8816\n",
      "Epoch 040 | Fold 3 | Train Acc: 0.5197 | Val Acc: 0.5528 | Train loss: 0.7577 Val Loss: 0.8811\n",
      "Epoch 041 | Fold 3 | Train Acc: 0.5536 | Val Acc: 0.5528 | Train loss: 0.7417 Val Loss: 0.8779\n",
      "Epoch 042 | Fold 3 | Train Acc: 0.5575 | Val Acc: 0.5528 | Train loss: 0.7517 Val Loss: 0.8697\n",
      "Epoch 043 | Fold 3 | Train Acc: 0.5558 | Val Acc: 0.5563 | Train loss: 0.7265 Val Loss: 0.8651\n",
      "Epoch 044 | Fold 3 | Train Acc: 0.5637 | Val Acc: 0.5581 | Train loss: 0.7513 Val Loss: 0.8682\n",
      "Epoch 045 | Fold 3 | Train Acc: 0.5581 | Val Acc: 0.5581 | Train loss: 0.7365 Val Loss: 0.8572\n",
      "Epoch 046 | Fold 3 | Train Acc: 0.5474 | Val Acc: 0.5634 | Train loss: 0.7428 Val Loss: 0.8534\n",
      "Epoch 047 | Fold 3 | Train Acc: 0.5468 | Val Acc: 0.5651 | Train loss: 0.7178 Val Loss: 0.8465\n",
      "Epoch 048 | Fold 3 | Train Acc: 0.5569 | Val Acc: 0.5651 | Train loss: 0.7097 Val Loss: 0.8416\n",
      "Epoch 049 | Fold 3 | Train Acc: 0.5631 | Val Acc: 0.5651 | Train loss: 0.7210 Val Loss: 0.8475\n",
      "Epoch 050 | Fold 3 | Train Acc: 0.5614 | Val Acc: 0.5651 | Train loss: 0.7009 Val Loss: 0.8382\n",
      "Epoch 051 | Fold 3 | Train Acc: 0.5716 | Val Acc: 0.5669 | Train loss: 0.7069 Val Loss: 0.8331\n",
      "Epoch 052 | Fold 3 | Train Acc: 0.5620 | Val Acc: 0.5669 | Train loss: 0.7082 Val Loss: 0.8312\n",
      "Epoch 053 | Fold 3 | Train Acc: 0.5626 | Val Acc: 0.5739 | Train loss: 0.7036 Val Loss: 0.8261\n",
      "Epoch 054 | Fold 3 | Train Acc: 0.5682 | Val Acc: 0.5739 | Train loss: 0.6832 Val Loss: 0.8223\n",
      "Epoch 055 | Fold 3 | Train Acc: 0.5637 | Val Acc: 0.5792 | Train loss: 0.7037 Val Loss: 0.8225\n",
      "Epoch 056 | Fold 3 | Train Acc: 0.5643 | Val Acc: 0.5775 | Train loss: 0.6773 Val Loss: 0.8229\n",
      "Epoch 057 | Fold 3 | Train Acc: 0.5710 | Val Acc: 0.5810 | Train loss: 0.7204 Val Loss: 0.8254\n",
      "Epoch 058 | Fold 3 | Train Acc: 0.5862 | Val Acc: 0.5792 | Train loss: 0.7089 Val Loss: 0.8235\n",
      "Epoch 059 | Fold 3 | Train Acc: 0.5710 | Val Acc: 0.5810 | Train loss: 0.6796 Val Loss: 0.8210\n",
      "Epoch 060 | Fold 3 | Train Acc: 0.5823 | Val Acc: 0.5827 | Train loss: 0.6899 Val Loss: 0.8134\n",
      "Epoch 061 | Fold 3 | Train Acc: 0.5598 | Val Acc: 0.5827 | Train loss: 0.6819 Val Loss: 0.8112\n",
      "Epoch 062 | Fold 3 | Train Acc: 0.5744 | Val Acc: 0.5933 | Train loss: 0.6828 Val Loss: 0.8105\n",
      "Epoch 063 | Fold 3 | Train Acc: 0.5755 | Val Acc: 0.5933 | Train loss: 0.6755 Val Loss: 0.8116\n",
      "Epoch 064 | Fold 3 | Train Acc: 0.5733 | Val Acc: 0.5845 | Train loss: 0.6699 Val Loss: 0.8053\n",
      "Epoch 065 | Fold 3 | Train Acc: 0.5682 | Val Acc: 0.5827 | Train loss: 0.6981 Val Loss: 0.8085\n",
      "Epoch 066 | Fold 3 | Train Acc: 0.5953 | Val Acc: 0.5933 | Train loss: 0.6992 Val Loss: 0.8111\n",
      "Epoch 067 | Fold 3 | Train Acc: 0.5761 | Val Acc: 0.5968 | Train loss: 0.6758 Val Loss: 0.8023\n",
      "Epoch 068 | Fold 3 | Train Acc: 0.5733 | Val Acc: 0.5951 | Train loss: 0.6685 Val Loss: 0.8008\n",
      "Epoch 069 | Fold 3 | Train Acc: 0.5823 | Val Acc: 0.5933 | Train loss: 0.7002 Val Loss: 0.7990\n",
      "Epoch 070 | Fold 3 | Train Acc: 0.6020 | Val Acc: 0.5951 | Train loss: 0.6515 Val Loss: 0.7935\n",
      "Epoch 071 | Fold 3 | Train Acc: 0.5851 | Val Acc: 0.5933 | Train loss: 0.6822 Val Loss: 0.7989\n",
      "Epoch 072 | Fold 3 | Train Acc: 0.5975 | Val Acc: 0.5915 | Train loss: 0.6786 Val Loss: 0.7998\n",
      "Epoch 073 | Fold 3 | Train Acc: 0.5885 | Val Acc: 0.6197 | Train loss: 0.6788 Val Loss: 0.7901\n",
      "Epoch 074 | Fold 3 | Train Acc: 0.6077 | Val Acc: 0.5933 | Train loss: 0.6413 Val Loss: 0.7956\n",
      "Epoch 075 | Fold 3 | Train Acc: 0.5986 | Val Acc: 0.5968 | Train loss: 0.6598 Val Loss: 0.7906\n",
      "Epoch 076 | Fold 3 | Train Acc: 0.5868 | Val Acc: 0.6004 | Train loss: 0.6647 Val Loss: 0.7921\n",
      "Epoch 077 | Fold 3 | Train Acc: 0.5970 | Val Acc: 0.6004 | Train loss: 0.6584 Val Loss: 0.7885\n",
      "Epoch 078 | Fold 3 | Train Acc: 0.5913 | Val Acc: 0.6004 | Train loss: 0.6614 Val Loss: 0.7932\n",
      "Epoch 079 | Fold 3 | Train Acc: 0.6043 | Val Acc: 0.6127 | Train loss: 0.6495 Val Loss: 0.7876\n",
      "Epoch 080 | Fold 3 | Train Acc: 0.5970 | Val Acc: 0.6127 | Train loss: 0.6567 Val Loss: 0.7857\n",
      "Epoch 081 | Fold 3 | Train Acc: 0.6127 | Val Acc: 0.6092 | Train loss: 0.6478 Val Loss: 0.7825\n",
      "Epoch 082 | Fold 3 | Train Acc: 0.6071 | Val Acc: 0.6074 | Train loss: 0.6433 Val Loss: 0.7818\n",
      "Epoch 083 | Fold 3 | Train Acc: 0.6139 | Val Acc: 0.6074 | Train loss: 0.6426 Val Loss: 0.7867\n",
      "Epoch 084 | Fold 3 | Train Acc: 0.6020 | Val Acc: 0.6127 | Train loss: 0.6420 Val Loss: 0.7819\n",
      "Epoch 085 | Fold 3 | Train Acc: 0.6094 | Val Acc: 0.6056 | Train loss: 0.6639 Val Loss: 0.7819\n",
      "Epoch 086 | Fold 3 | Train Acc: 0.6156 | Val Acc: 0.6109 | Train loss: 0.6538 Val Loss: 0.7825\n",
      "Epoch 087 | Fold 3 | Train Acc: 0.6110 | Val Acc: 0.6109 | Train loss: 0.6542 Val Loss: 0.7802\n",
      "Epoch 088 | Fold 3 | Train Acc: 0.6201 | Val Acc: 0.6092 | Train loss: 0.6527 Val Loss: 0.7801\n",
      "Epoch 089 | Fold 3 | Train Acc: 0.6020 | Val Acc: 0.6074 | Train loss: 0.6620 Val Loss: 0.7781\n",
      "Epoch 090 | Fold 3 | Train Acc: 0.6240 | Val Acc: 0.6303 | Train loss: 0.6439 Val Loss: 0.7750\n",
      "Epoch 091 | Fold 3 | Train Acc: 0.6156 | Val Acc: 0.6021 | Train loss: 0.6367 Val Loss: 0.7802\n",
      "Epoch 092 | Fold 3 | Train Acc: 0.6223 | Val Acc: 0.6479 | Train loss: 0.6450 Val Loss: 0.7704\n",
      "Epoch 093 | Fold 3 | Train Acc: 0.5981 | Val Acc: 0.6092 | Train loss: 0.6543 Val Loss: 0.7781\n",
      "Epoch 094 | Fold 3 | Train Acc: 0.6178 | Val Acc: 0.6232 | Train loss: 0.6449 Val Loss: 0.7739\n",
      "Epoch 095 | Fold 3 | Train Acc: 0.6234 | Val Acc: 0.6338 | Train loss: 0.6212 Val Loss: 0.7708\n",
      "Epoch 096 | Fold 3 | Train Acc: 0.6184 | Val Acc: 0.6197 | Train loss: 0.6298 Val Loss: 0.7780\n",
      "Epoch 097 | Fold 3 | Train Acc: 0.6156 | Val Acc: 0.6373 | Train loss: 0.6392 Val Loss: 0.7685\n",
      "Epoch 098 | Fold 3 | Train Acc: 0.6392 | Val Acc: 0.6373 | Train loss: 0.6414 Val Loss: 0.7709\n",
      "Epoch 099 | Fold 3 | Train Acc: 0.6189 | Val Acc: 0.6356 | Train loss: 0.6454 Val Loss: 0.7717\n",
      "Epoch 100 | Fold 3 | Train Acc: 0.6105 | Val Acc: 0.6602 | Train loss: 0.6288 Val Loss: 0.7632\n",
      "Epoch 101 | Fold 3 | Train Acc: 0.6263 | Val Acc: 0.6725 | Train loss: 0.6303 Val Loss: 0.7635\n",
      "Epoch 102 | Fold 3 | Train Acc: 0.6274 | Val Acc: 0.6778 | Train loss: 0.6385 Val Loss: 0.7660\n",
      "Epoch 103 | Fold 3 | Train Acc: 0.6280 | Val Acc: 0.6725 | Train loss: 0.6363 Val Loss: 0.7615\n",
      "Epoch 104 | Fold 3 | Train Acc: 0.6319 | Val Acc: 0.6567 | Train loss: 0.6232 Val Loss: 0.7673\n",
      "Epoch 105 | Fold 3 | Train Acc: 0.6415 | Val Acc: 0.6655 | Train loss: 0.5977 Val Loss: 0.7663\n",
      "Epoch 106 | Fold 3 | Train Acc: 0.6313 | Val Acc: 0.6725 | Train loss: 0.6097 Val Loss: 0.7622\n",
      "Epoch 107 | Fold 3 | Train Acc: 0.6325 | Val Acc: 0.6602 | Train loss: 0.6131 Val Loss: 0.7627\n",
      "Epoch 108 | Fold 3 | Train Acc: 0.6184 | Val Acc: 0.6655 | Train loss: 0.6373 Val Loss: 0.7647\n",
      "Epoch 109 | Fold 3 | Train Acc: 0.6178 | Val Acc: 0.6761 | Train loss: 0.6252 Val Loss: 0.7593\n",
      "Epoch 110 | Fold 3 | Train Acc: 0.6218 | Val Acc: 0.6778 | Train loss: 0.5993 Val Loss: 0.7611\n",
      "Epoch 111 | Fold 3 | Train Acc: 0.6257 | Val Acc: 0.6796 | Train loss: 0.6348 Val Loss: 0.7668\n",
      "Epoch 112 | Fold 3 | Train Acc: 0.6218 | Val Acc: 0.6637 | Train loss: 0.6414 Val Loss: 0.7631\n",
      "Epoch 113 | Fold 3 | Train Acc: 0.6375 | Val Acc: 0.6778 | Train loss: 0.6406 Val Loss: 0.7583\n",
      "Epoch 114 | Fold 3 | Train Acc: 0.6330 | Val Acc: 0.6778 | Train loss: 0.6028 Val Loss: 0.7622\n",
      "Epoch 115 | Fold 3 | Train Acc: 0.6223 | Val Acc: 0.6761 | Train loss: 0.6335 Val Loss: 0.7628\n",
      "Epoch 116 | Fold 3 | Train Acc: 0.6387 | Val Acc: 0.6778 | Train loss: 0.6150 Val Loss: 0.7550\n",
      "Epoch 117 | Fold 3 | Train Acc: 0.6201 | Val Acc: 0.6778 | Train loss: 0.6101 Val Loss: 0.7540\n",
      "Epoch 118 | Fold 3 | Train Acc: 0.6161 | Val Acc: 0.6743 | Train loss: 0.6375 Val Loss: 0.7615\n",
      "Epoch 119 | Fold 3 | Train Acc: 0.6342 | Val Acc: 0.6778 | Train loss: 0.6126 Val Loss: 0.7576\n",
      "Epoch 120 | Fold 3 | Train Acc: 0.6347 | Val Acc: 0.6725 | Train loss: 0.5973 Val Loss: 0.7529\n",
      "Epoch 121 | Fold 3 | Train Acc: 0.6257 | Val Acc: 0.6778 | Train loss: 0.6387 Val Loss: 0.7611\n",
      "Epoch 122 | Fold 3 | Train Acc: 0.6133 | Val Acc: 0.6778 | Train loss: 0.6292 Val Loss: 0.7593\n",
      "Epoch 123 | Fold 3 | Train Acc: 0.6370 | Val Acc: 0.6778 | Train loss: 0.6122 Val Loss: 0.7632\n",
      "Epoch 124 | Fold 3 | Train Acc: 0.6297 | Val Acc: 0.6778 | Train loss: 0.5993 Val Loss: 0.7602\n",
      "Epoch 125 | Fold 3 | Train Acc: 0.6347 | Val Acc: 0.6813 | Train loss: 0.6053 Val Loss: 0.7615\n",
      "Epoch 126 | Fold 3 | Train Acc: 0.6370 | Val Acc: 0.6884 | Train loss: 0.6036 Val Loss: 0.7659\n",
      "Epoch 127 | Fold 3 | Train Acc: 0.6251 | Val Acc: 0.6813 | Train loss: 0.6003 Val Loss: 0.7598\n",
      "Epoch 128 | Fold 3 | Train Acc: 0.6449 | Val Acc: 0.6901 | Train loss: 0.6048 Val Loss: 0.7627\n",
      "Epoch 129 | Fold 3 | Train Acc: 0.6353 | Val Acc: 0.6813 | Train loss: 0.5919 Val Loss: 0.7561\n",
      "Epoch 130 | Fold 3 | Train Acc: 0.6364 | Val Acc: 0.6813 | Train loss: 0.6156 Val Loss: 0.7579\n",
      "Epoch 131 | Fold 3 | Train Acc: 0.6404 | Val Acc: 0.6831 | Train loss: 0.5951 Val Loss: 0.7584\n",
      "Epoch 132 | Fold 3 | Train Acc: 0.6415 | Val Acc: 0.6831 | Train loss: 0.5941 Val Loss: 0.7553\n",
      "Epoch 133 | Fold 3 | Train Acc: 0.6437 | Val Acc: 0.6831 | Train loss: 0.5972 Val Loss: 0.7543\n",
      "Epoch 134 | Fold 3 | Train Acc: 0.6308 | Val Acc: 0.6831 | Train loss: 0.6358 Val Loss: 0.7549\n",
      "Epoch 135 | Fold 3 | Train Acc: 0.6409 | Val Acc: 0.6831 | Train loss: 0.6124 Val Loss: 0.7527\n",
      "Epoch 136 | Fold 3 | Train Acc: 0.6297 | Val Acc: 0.6831 | Train loss: 0.6214 Val Loss: 0.7548\n",
      "Epoch 137 | Fold 3 | Train Acc: 0.6263 | Val Acc: 0.6831 | Train loss: 0.6172 Val Loss: 0.7557\n",
      "Epoch 138 | Fold 3 | Train Acc: 0.6454 | Val Acc: 0.6901 | Train loss: 0.6116 Val Loss: 0.7559\n",
      "Epoch 139 | Fold 3 | Train Acc: 0.6556 | Val Acc: 0.6831 | Train loss: 0.6029 Val Loss: 0.7530\n",
      "Epoch 140 | Fold 3 | Train Acc: 0.6499 | Val Acc: 0.6831 | Train loss: 0.5849 Val Loss: 0.7496\n",
      "Epoch 141 | Fold 3 | Train Acc: 0.6280 | Val Acc: 0.6831 | Train loss: 0.6214 Val Loss: 0.7495\n",
      "Epoch 142 | Fold 3 | Train Acc: 0.6460 | Val Acc: 0.6831 | Train loss: 0.6024 Val Loss: 0.7516\n",
      "Epoch 143 | Fold 3 | Train Acc: 0.6240 | Val Acc: 0.6831 | Train loss: 0.6031 Val Loss: 0.7517\n",
      "Epoch 144 | Fold 3 | Train Acc: 0.6364 | Val Acc: 0.6831 | Train loss: 0.6115 Val Loss: 0.7509\n",
      "Epoch 145 | Fold 3 | Train Acc: 0.6488 | Val Acc: 0.6743 | Train loss: 0.5721 Val Loss: 0.7544\n",
      "Epoch 146 | Fold 3 | Train Acc: 0.6381 | Val Acc: 0.6761 | Train loss: 0.6054 Val Loss: 0.7534\n",
      "Epoch 147 | Fold 3 | Train Acc: 0.6212 | Val Acc: 0.6849 | Train loss: 0.6118 Val Loss: 0.7535\n",
      "Epoch 148 | Fold 3 | Train Acc: 0.6443 | Val Acc: 0.6849 | Train loss: 0.5924 Val Loss: 0.7521\n",
      "Epoch 149 | Fold 3 | Train Acc: 0.6437 | Val Acc: 0.6849 | Train loss: 0.6160 Val Loss: 0.7504\n",
      "Epoch 150 | Fold 3 | Train Acc: 0.6392 | Val Acc: 0.6831 | Train loss: 0.6151 Val Loss: 0.7471\n",
      "Epoch 151 | Fold 3 | Train Acc: 0.6308 | Val Acc: 0.6796 | Train loss: 0.6065 Val Loss: 0.7446\n",
      "Epoch 152 | Fold 3 | Train Acc: 0.6319 | Val Acc: 0.6849 | Train loss: 0.5860 Val Loss: 0.7495\n",
      "Epoch 153 | Fold 3 | Train Acc: 0.6421 | Val Acc: 0.6866 | Train loss: 0.5755 Val Loss: 0.7477\n",
      "Epoch 154 | Fold 3 | Train Acc: 0.6037 | Val Acc: 0.6866 | Train loss: 0.6055 Val Loss: 0.7474\n",
      "Epoch 155 | Fold 3 | Train Acc: 0.6370 | Val Acc: 0.6831 | Train loss: 0.6129 Val Loss: 0.7494\n",
      "Epoch 156 | Fold 3 | Train Acc: 0.6494 | Val Acc: 0.6919 | Train loss: 0.6016 Val Loss: 0.7507\n",
      "Epoch 157 | Fold 3 | Train Acc: 0.6297 | Val Acc: 0.6849 | Train loss: 0.6233 Val Loss: 0.7476\n",
      "Epoch 158 | Fold 3 | Train Acc: 0.6370 | Val Acc: 0.6937 | Train loss: 0.5905 Val Loss: 0.7483\n",
      "Epoch 159 | Fold 3 | Train Acc: 0.6319 | Val Acc: 0.6849 | Train loss: 0.6119 Val Loss: 0.7437\n",
      "Epoch 160 | Fold 3 | Train Acc: 0.6375 | Val Acc: 0.6831 | Train loss: 0.5947 Val Loss: 0.7446\n",
      "Epoch 161 | Fold 3 | Train Acc: 0.6263 | Val Acc: 0.6866 | Train loss: 0.6043 Val Loss: 0.7458\n",
      "Epoch 162 | Fold 3 | Train Acc: 0.6218 | Val Acc: 0.6919 | Train loss: 0.6128 Val Loss: 0.7480\n",
      "Epoch 163 | Fold 3 | Train Acc: 0.6432 | Val Acc: 0.6919 | Train loss: 0.6177 Val Loss: 0.7485\n",
      "Epoch 164 | Fold 3 | Train Acc: 0.6150 | Val Acc: 0.6849 | Train loss: 0.6038 Val Loss: 0.7463\n"
     ]
    },
    {
     "name": "stderr",
     "output_type": "stream",
     "text": [
      "c:\\Users\\User\\anaconda3\\envs\\ENVGAT\\lib\\site-packages\\optuna\\trial\\_trial.py:501: UserWarning: The reported value is ignored because this `step` 164 is already reported.\n",
      "  warnings.warn(\n"
     ]
    },
    {
     "name": "stdout",
     "output_type": "stream",
     "text": [
      "Epoch 165 | Fold 3 | Train Acc: 0.6268 | Val Acc: 0.6937 | Train loss: 0.6216 Val Loss: 0.7499\n"
     ]
    },
    {
     "name": "stderr",
     "output_type": "stream",
     "text": [
      "c:\\Users\\User\\anaconda3\\envs\\ENVGAT\\lib\\site-packages\\optuna\\trial\\_trial.py:501: UserWarning: The reported value is ignored because this `step` 165 is already reported.\n",
      "  warnings.warn(\n"
     ]
    },
    {
     "name": "stdout",
     "output_type": "stream",
     "text": [
      "Epoch 166 | Fold 3 | Train Acc: 0.6466 | Val Acc: 0.6919 | Train loss: 0.5937 Val Loss: 0.7489\n"
     ]
    },
    {
     "name": "stderr",
     "output_type": "stream",
     "text": [
      "c:\\Users\\User\\anaconda3\\envs\\ENVGAT\\lib\\site-packages\\optuna\\trial\\_trial.py:501: UserWarning: The reported value is ignored because this `step` 166 is already reported.\n",
      "  warnings.warn(\n"
     ]
    },
    {
     "name": "stdout",
     "output_type": "stream",
     "text": [
      "Epoch 167 | Fold 3 | Train Acc: 0.6387 | Val Acc: 0.6954 | Train loss: 0.6082 Val Loss: 0.7478\n"
     ]
    },
    {
     "name": "stderr",
     "output_type": "stream",
     "text": [
      "c:\\Users\\User\\anaconda3\\envs\\ENVGAT\\lib\\site-packages\\optuna\\trial\\_trial.py:501: UserWarning: The reported value is ignored because this `step` 167 is already reported.\n",
      "  warnings.warn(\n"
     ]
    },
    {
     "name": "stdout",
     "output_type": "stream",
     "text": [
      "Epoch 168 | Fold 3 | Train Acc: 0.6336 | Val Acc: 0.6937 | Train loss: 0.6162 Val Loss: 0.7494\n"
     ]
    },
    {
     "name": "stderr",
     "output_type": "stream",
     "text": [
      "c:\\Users\\User\\anaconda3\\envs\\ENVGAT\\lib\\site-packages\\optuna\\trial\\_trial.py:501: UserWarning: The reported value is ignored because this `step` 168 is already reported.\n",
      "  warnings.warn(\n"
     ]
    },
    {
     "name": "stdout",
     "output_type": "stream",
     "text": [
      "Epoch 169 | Fold 3 | Train Acc: 0.6251 | Val Acc: 0.6866 | Train loss: 0.5996 Val Loss: 0.7471\n"
     ]
    },
    {
     "name": "stderr",
     "output_type": "stream",
     "text": [
      "c:\\Users\\User\\anaconda3\\envs\\ENVGAT\\lib\\site-packages\\optuna\\trial\\_trial.py:501: UserWarning: The reported value is ignored because this `step` 169 is already reported.\n",
      "  warnings.warn(\n"
     ]
    },
    {
     "name": "stdout",
     "output_type": "stream",
     "text": [
      "Epoch 170 | Fold 3 | Train Acc: 0.6522 | Val Acc: 0.6919 | Train loss: 0.5848 Val Loss: 0.7498\n"
     ]
    },
    {
     "name": "stderr",
     "output_type": "stream",
     "text": [
      "c:\\Users\\User\\anaconda3\\envs\\ENVGAT\\lib\\site-packages\\optuna\\trial\\_trial.py:501: UserWarning: The reported value is ignored because this `step` 170 is already reported.\n",
      "  warnings.warn(\n"
     ]
    },
    {
     "name": "stdout",
     "output_type": "stream",
     "text": [
      "Epoch 171 | Fold 3 | Train Acc: 0.6437 | Val Acc: 0.6937 | Train loss: 0.5789 Val Loss: 0.7480\n"
     ]
    },
    {
     "name": "stderr",
     "output_type": "stream",
     "text": [
      "c:\\Users\\User\\anaconda3\\envs\\ENVGAT\\lib\\site-packages\\optuna\\trial\\_trial.py:501: UserWarning: The reported value is ignored because this `step` 171 is already reported.\n",
      "  warnings.warn(\n"
     ]
    },
    {
     "name": "stdout",
     "output_type": "stream",
     "text": [
      "Epoch 172 | Fold 3 | Train Acc: 0.6263 | Val Acc: 0.6919 | Train loss: 0.6036 Val Loss: 0.7483\n"
     ]
    },
    {
     "name": "stderr",
     "output_type": "stream",
     "text": [
      "c:\\Users\\User\\anaconda3\\envs\\ENVGAT\\lib\\site-packages\\optuna\\trial\\_trial.py:501: UserWarning: The reported value is ignored because this `step` 172 is already reported.\n",
      "  warnings.warn(\n"
     ]
    },
    {
     "name": "stdout",
     "output_type": "stream",
     "text": [
      "Epoch 173 | Fold 3 | Train Acc: 0.6392 | Val Acc: 0.6919 | Train loss: 0.5791 Val Loss: 0.7488\n"
     ]
    },
    {
     "name": "stderr",
     "output_type": "stream",
     "text": [
      "c:\\Users\\User\\anaconda3\\envs\\ENVGAT\\lib\\site-packages\\optuna\\trial\\_trial.py:501: UserWarning: The reported value is ignored because this `step` 173 is already reported.\n",
      "  warnings.warn(\n"
     ]
    },
    {
     "name": "stdout",
     "output_type": "stream",
     "text": [
      "Epoch 174 | Fold 3 | Train Acc: 0.6443 | Val Acc: 0.6919 | Train loss: 0.5964 Val Loss: 0.7500\n"
     ]
    },
    {
     "name": "stderr",
     "output_type": "stream",
     "text": [
      "c:\\Users\\User\\anaconda3\\envs\\ENVGAT\\lib\\site-packages\\optuna\\trial\\_trial.py:501: UserWarning: The reported value is ignored because this `step` 174 is already reported.\n",
      "  warnings.warn(\n"
     ]
    },
    {
     "name": "stdout",
     "output_type": "stream",
     "text": [
      "Epoch 175 | Fold 3 | Train Acc: 0.6398 | Val Acc: 0.6919 | Train loss: 0.6109 Val Loss: 0.7503\n"
     ]
    },
    {
     "name": "stderr",
     "output_type": "stream",
     "text": [
      "c:\\Users\\User\\anaconda3\\envs\\ENVGAT\\lib\\site-packages\\optuna\\trial\\_trial.py:501: UserWarning: The reported value is ignored because this `step` 175 is already reported.\n",
      "  warnings.warn(\n"
     ]
    },
    {
     "name": "stdout",
     "output_type": "stream",
     "text": [
      "Epoch 176 | Fold 3 | Train Acc: 0.6426 | Val Acc: 0.6919 | Train loss: 0.5928 Val Loss: 0.7498\n"
     ]
    },
    {
     "name": "stderr",
     "output_type": "stream",
     "text": [
      "c:\\Users\\User\\anaconda3\\envs\\ENVGAT\\lib\\site-packages\\optuna\\trial\\_trial.py:501: UserWarning: The reported value is ignored because this `step` 176 is already reported.\n",
      "  warnings.warn(\n"
     ]
    },
    {
     "name": "stdout",
     "output_type": "stream",
     "text": [
      "Epoch 177 | Fold 3 | Train Acc: 0.6415 | Val Acc: 0.6919 | Train loss: 0.6111 Val Loss: 0.7497\n"
     ]
    },
    {
     "name": "stderr",
     "output_type": "stream",
     "text": [
      "c:\\Users\\User\\anaconda3\\envs\\ENVGAT\\lib\\site-packages\\optuna\\trial\\_trial.py:501: UserWarning: The reported value is ignored because this `step` 177 is already reported.\n",
      "  warnings.warn(\n"
     ]
    },
    {
     "name": "stdout",
     "output_type": "stream",
     "text": [
      "Epoch 178 | Fold 3 | Train Acc: 0.6370 | Val Acc: 0.6919 | Train loss: 0.6013 Val Loss: 0.7473\n"
     ]
    },
    {
     "name": "stderr",
     "output_type": "stream",
     "text": [
      "c:\\Users\\User\\anaconda3\\envs\\ENVGAT\\lib\\site-packages\\optuna\\trial\\_trial.py:501: UserWarning: The reported value is ignored because this `step` 178 is already reported.\n",
      "  warnings.warn(\n"
     ]
    },
    {
     "name": "stdout",
     "output_type": "stream",
     "text": [
      "Epoch 179 | Fold 3 | Train Acc: 0.6347 | Val Acc: 0.6901 | Train loss: 0.6118 Val Loss: 0.7484\n"
     ]
    },
    {
     "name": "stderr",
     "output_type": "stream",
     "text": [
      "c:\\Users\\User\\anaconda3\\envs\\ENVGAT\\lib\\site-packages\\optuna\\trial\\_trial.py:501: UserWarning: The reported value is ignored because this `step` 179 is already reported.\n",
      "  warnings.warn(\n"
     ]
    },
    {
     "name": "stdout",
     "output_type": "stream",
     "text": [
      "Epoch 180 | Fold 3 | Train Acc: 0.6313 | Val Acc: 0.6919 | Train loss: 0.6008 Val Loss: 0.7462\n"
     ]
    },
    {
     "name": "stderr",
     "output_type": "stream",
     "text": [
      "c:\\Users\\User\\anaconda3\\envs\\ENVGAT\\lib\\site-packages\\optuna\\trial\\_trial.py:501: UserWarning: The reported value is ignored because this `step` 180 is already reported.\n",
      "  warnings.warn(\n"
     ]
    },
    {
     "name": "stdout",
     "output_type": "stream",
     "text": [
      "Epoch 181 | Fold 3 | Train Acc: 0.6494 | Val Acc: 0.6919 | Train loss: 0.6020 Val Loss: 0.7455\n"
     ]
    },
    {
     "name": "stderr",
     "output_type": "stream",
     "text": [
      "c:\\Users\\User\\anaconda3\\envs\\ENVGAT\\lib\\site-packages\\optuna\\trial\\_trial.py:501: UserWarning: The reported value is ignored because this `step` 181 is already reported.\n",
      "  warnings.warn(\n"
     ]
    },
    {
     "name": "stdout",
     "output_type": "stream",
     "text": [
      "Epoch 182 | Fold 3 | Train Acc: 0.6415 | Val Acc: 0.6919 | Train loss: 0.5923 Val Loss: 0.7466\n"
     ]
    },
    {
     "name": "stderr",
     "output_type": "stream",
     "text": [
      "c:\\Users\\User\\anaconda3\\envs\\ENVGAT\\lib\\site-packages\\optuna\\trial\\_trial.py:501: UserWarning: The reported value is ignored because this `step` 182 is already reported.\n",
      "  warnings.warn(\n"
     ]
    },
    {
     "name": "stdout",
     "output_type": "stream",
     "text": [
      "Epoch 183 | Fold 3 | Train Acc: 0.6488 | Val Acc: 0.6919 | Train loss: 0.6212 Val Loss: 0.7469\n"
     ]
    },
    {
     "name": "stderr",
     "output_type": "stream",
     "text": [
      "c:\\Users\\User\\anaconda3\\envs\\ENVGAT\\lib\\site-packages\\optuna\\trial\\_trial.py:501: UserWarning: The reported value is ignored because this `step` 183 is already reported.\n",
      "  warnings.warn(\n"
     ]
    },
    {
     "name": "stdout",
     "output_type": "stream",
     "text": [
      "Epoch 184 | Fold 3 | Train Acc: 0.6421 | Val Acc: 0.6919 | Train loss: 0.6195 Val Loss: 0.7472\n"
     ]
    },
    {
     "name": "stderr",
     "output_type": "stream",
     "text": [
      "c:\\Users\\User\\anaconda3\\envs\\ENVGAT\\lib\\site-packages\\optuna\\trial\\_trial.py:501: UserWarning: The reported value is ignored because this `step` 184 is already reported.\n",
      "  warnings.warn(\n"
     ]
    },
    {
     "name": "stdout",
     "output_type": "stream",
     "text": [
      "Epoch 185 | Fold 3 | Train Acc: 0.6432 | Val Acc: 0.6919 | Train loss: 0.6003 Val Loss: 0.7470\n"
     ]
    },
    {
     "name": "stderr",
     "output_type": "stream",
     "text": [
      "c:\\Users\\User\\anaconda3\\envs\\ENVGAT\\lib\\site-packages\\optuna\\trial\\_trial.py:501: UserWarning: The reported value is ignored because this `step` 185 is already reported.\n",
      "  warnings.warn(\n"
     ]
    },
    {
     "name": "stdout",
     "output_type": "stream",
     "text": [
      "Epoch 186 | Fold 3 | Train Acc: 0.6342 | Val Acc: 0.6919 | Train loss: 0.6041 Val Loss: 0.7468\n"
     ]
    },
    {
     "name": "stderr",
     "output_type": "stream",
     "text": [
      "c:\\Users\\User\\anaconda3\\envs\\ENVGAT\\lib\\site-packages\\optuna\\trial\\_trial.py:501: UserWarning: The reported value is ignored because this `step` 186 is already reported.\n",
      "  warnings.warn(\n"
     ]
    },
    {
     "name": "stdout",
     "output_type": "stream",
     "text": [
      "Epoch 187 | Fold 3 | Train Acc: 0.6404 | Val Acc: 0.6919 | Train loss: 0.6048 Val Loss: 0.7467\n"
     ]
    },
    {
     "name": "stderr",
     "output_type": "stream",
     "text": [
      "c:\\Users\\User\\anaconda3\\envs\\ENVGAT\\lib\\site-packages\\optuna\\trial\\_trial.py:501: UserWarning: The reported value is ignored because this `step` 187 is already reported.\n",
      "  warnings.warn(\n"
     ]
    },
    {
     "name": "stdout",
     "output_type": "stream",
     "text": [
      "Epoch 188 | Fold 3 | Train Acc: 0.6415 | Val Acc: 0.6937 | Train loss: 0.5998 Val Loss: 0.7462\n"
     ]
    },
    {
     "name": "stderr",
     "output_type": "stream",
     "text": [
      "c:\\Users\\User\\anaconda3\\envs\\ENVGAT\\lib\\site-packages\\optuna\\trial\\_trial.py:501: UserWarning: The reported value is ignored because this `step` 188 is already reported.\n",
      "  warnings.warn(\n"
     ]
    },
    {
     "name": "stdout",
     "output_type": "stream",
     "text": [
      "Epoch 189 | Fold 3 | Train Acc: 0.6257 | Val Acc: 0.6937 | Train loss: 0.6059 Val Loss: 0.7467\n",
      " Early stopping at epoch 189 for fold 3\n",
      " Fold 3: Best Val Acc = 0.6849\n",
      "Epoch 001 | Fold 4 | Train Acc: 0.2673 | Val Acc: 0.3995 | Train loss: 1.3957 Val Loss: 1.3868\n",
      "Epoch 002 | Fold 4 | Train Acc: 0.2411 | Val Acc: 0.1872 | Train loss: 1.3878 Val Loss: 1.3839\n",
      "Epoch 003 | Fold 4 | Train Acc: 0.2511 | Val Acc: 0.2374 | Train loss: 1.3838 Val Loss: 1.3801\n",
      "Epoch 004 | Fold 4 | Train Acc: 0.2794 | Val Acc: 0.3174 | Train loss: 1.3801 Val Loss: 1.3765\n",
      "Epoch 005 | Fold 4 | Train Acc: 0.2962 | Val Acc: 0.3493 | Train loss: 1.3754 Val Loss: 1.3727\n",
      "Epoch 006 | Fold 4 | Train Acc: 0.2999 | Val Acc: 0.3790 | Train loss: 1.3698 Val Loss: 1.3683\n",
      "Epoch 007 | Fold 4 | Train Acc: 0.3078 | Val Acc: 0.4338 | Train loss: 1.3664 Val Loss: 1.3626\n",
      "Epoch 008 | Fold 4 | Train Acc: 0.3330 | Val Acc: 0.4840 | Train loss: 1.3603 Val Loss: 1.3551\n",
      "Epoch 009 | Fold 4 | Train Acc: 0.3361 | Val Acc: 0.4772 | Train loss: 1.3551 Val Loss: 1.3469\n",
      "Epoch 010 | Fold 4 | Train Acc: 0.3272 | Val Acc: 0.4726 | Train loss: 1.3457 Val Loss: 1.3367\n",
      "Epoch 011 | Fold 4 | Train Acc: 0.3472 | Val Acc: 0.4749 | Train loss: 1.3337 Val Loss: 1.3240\n",
      "Epoch 012 | Fold 4 | Train Acc: 0.3498 | Val Acc: 0.4658 | Train loss: 1.3254 Val Loss: 1.3054\n",
      "Epoch 013 | Fold 4 | Train Acc: 0.3587 | Val Acc: 0.4772 | Train loss: 1.3091 Val Loss: 1.2829\n",
      "Epoch 014 | Fold 4 | Train Acc: 0.3624 | Val Acc: 0.4840 | Train loss: 1.2882 Val Loss: 1.2559\n",
      "Epoch 015 | Fold 4 | Train Acc: 0.3666 | Val Acc: 0.4772 | Train loss: 1.2630 Val Loss: 1.2201\n",
      "Epoch 016 | Fold 4 | Train Acc: 0.3645 | Val Acc: 0.4932 | Train loss: 1.2403 Val Loss: 1.1851\n",
      "Epoch 017 | Fold 4 | Train Acc: 0.3829 | Val Acc: 0.4886 | Train loss: 1.2169 Val Loss: 1.1460\n",
      "Epoch 018 | Fold 4 | Train Acc: 0.3939 | Val Acc: 0.4909 | Train loss: 1.1987 Val Loss: 1.1042\n",
      "Epoch 019 | Fold 4 | Train Acc: 0.3908 | Val Acc: 0.4909 | Train loss: 1.1652 Val Loss: 1.0666\n",
      "Epoch 020 | Fold 4 | Train Acc: 0.4123 | Val Acc: 0.5068 | Train loss: 1.1254 Val Loss: 1.0278\n",
      "Epoch 021 | Fold 4 | Train Acc: 0.4328 | Val Acc: 0.5023 | Train loss: 1.0788 Val Loss: 0.9893\n",
      "Epoch 022 | Fold 4 | Train Acc: 0.4128 | Val Acc: 0.5000 | Train loss: 1.0710 Val Loss: 0.9513\n",
      "Epoch 023 | Fold 4 | Train Acc: 0.4249 | Val Acc: 0.5114 | Train loss: 1.0446 Val Loss: 0.9213\n",
      "Epoch 024 | Fold 4 | Train Acc: 0.4338 | Val Acc: 0.5160 | Train loss: 1.0334 Val Loss: 0.8906\n",
      "Epoch 025 | Fold 4 | Train Acc: 0.4485 | Val Acc: 0.5297 | Train loss: 0.9985 Val Loss: 0.8606\n",
      "Epoch 026 | Fold 4 | Train Acc: 0.4543 | Val Acc: 0.5342 | Train loss: 0.9658 Val Loss: 0.8314\n",
      "Epoch 027 | Fold 4 | Train Acc: 0.4438 | Val Acc: 0.5411 | Train loss: 0.9704 Val Loss: 0.8090\n",
      "Epoch 028 | Fold 4 | Train Acc: 0.4470 | Val Acc: 0.5411 | Train loss: 0.9604 Val Loss: 0.7838\n",
      "Epoch 029 | Fold 4 | Train Acc: 0.4727 | Val Acc: 0.5411 | Train loss: 0.9162 Val Loss: 0.7666\n",
      "Epoch 030 | Fold 4 | Train Acc: 0.4716 | Val Acc: 0.5502 | Train loss: 0.9122 Val Loss: 0.7471\n",
      "Epoch 031 | Fold 4 | Train Acc: 0.4643 | Val Acc: 0.5525 | Train loss: 0.8931 Val Loss: 0.7295\n",
      "Epoch 032 | Fold 4 | Train Acc: 0.4879 | Val Acc: 0.5548 | Train loss: 0.8870 Val Loss: 0.7175\n",
      "Epoch 033 | Fold 4 | Train Acc: 0.4779 | Val Acc: 0.5525 | Train loss: 0.8811 Val Loss: 0.6940\n",
      "Epoch 034 | Fold 4 | Train Acc: 0.4816 | Val Acc: 0.5662 | Train loss: 0.8675 Val Loss: 0.6917\n",
      "Epoch 035 | Fold 4 | Train Acc: 0.4874 | Val Acc: 0.5662 | Train loss: 0.8687 Val Loss: 0.6771\n",
      "Epoch 036 | Fold 4 | Train Acc: 0.5005 | Val Acc: 0.5822 | Train loss: 0.8465 Val Loss: 0.6643\n",
      "Epoch 037 | Fold 4 | Train Acc: 0.5042 | Val Acc: 0.5708 | Train loss: 0.8404 Val Loss: 0.6538\n",
      "Epoch 038 | Fold 4 | Train Acc: 0.4837 | Val Acc: 0.5708 | Train loss: 0.8355 Val Loss: 0.6518\n",
      "Epoch 039 | Fold 4 | Train Acc: 0.4968 | Val Acc: 0.5708 | Train loss: 0.8233 Val Loss: 0.6497\n",
      "Epoch 040 | Fold 4 | Train Acc: 0.4916 | Val Acc: 0.5685 | Train loss: 0.8265 Val Loss: 0.6386\n",
      "Epoch 041 | Fold 4 | Train Acc: 0.5021 | Val Acc: 0.5708 | Train loss: 0.8188 Val Loss: 0.6238\n",
      "Epoch 042 | Fold 4 | Train Acc: 0.5074 | Val Acc: 0.5822 | Train loss: 0.8033 Val Loss: 0.6202\n",
      "Epoch 043 | Fold 4 | Train Acc: 0.5158 | Val Acc: 0.5753 | Train loss: 0.7985 Val Loss: 0.6173\n",
      "Epoch 044 | Fold 4 | Train Acc: 0.5137 | Val Acc: 0.5662 | Train loss: 0.8052 Val Loss: 0.6153\n",
      "Epoch 045 | Fold 4 | Train Acc: 0.5047 | Val Acc: 0.5639 | Train loss: 0.7940 Val Loss: 0.6154\n",
      "Epoch 046 | Fold 4 | Train Acc: 0.5158 | Val Acc: 0.5662 | Train loss: 0.7918 Val Loss: 0.6122\n",
      "Epoch 047 | Fold 4 | Train Acc: 0.5089 | Val Acc: 0.5616 | Train loss: 0.7964 Val Loss: 0.6033\n",
      "Epoch 048 | Fold 4 | Train Acc: 0.5074 | Val Acc: 0.5639 | Train loss: 0.7950 Val Loss: 0.6013\n",
      "Epoch 049 | Fold 4 | Train Acc: 0.5242 | Val Acc: 0.5639 | Train loss: 0.7726 Val Loss: 0.5983\n",
      "Epoch 050 | Fold 4 | Train Acc: 0.5326 | Val Acc: 0.5639 | Train loss: 0.7512 Val Loss: 0.5923\n",
      "Epoch 051 | Fold 4 | Train Acc: 0.5142 | Val Acc: 0.5571 | Train loss: 0.7748 Val Loss: 0.5927\n",
      "Epoch 052 | Fold 4 | Train Acc: 0.5089 | Val Acc: 0.5571 | Train loss: 0.7830 Val Loss: 0.5908\n",
      "Epoch 053 | Fold 4 | Train Acc: 0.5347 | Val Acc: 0.5639 | Train loss: 0.7458 Val Loss: 0.5897\n",
      "Epoch 054 | Fold 4 | Train Acc: 0.5284 | Val Acc: 0.5639 | Train loss: 0.7490 Val Loss: 0.5838\n",
      "Epoch 055 | Fold 4 | Train Acc: 0.5236 | Val Acc: 0.5639 | Train loss: 0.7625 Val Loss: 0.5875\n",
      "Epoch 056 | Fold 4 | Train Acc: 0.5326 | Val Acc: 0.5594 | Train loss: 0.7496 Val Loss: 0.5843\n",
      "Epoch 057 | Fold 4 | Train Acc: 0.5373 | Val Acc: 0.5616 | Train loss: 0.7534 Val Loss: 0.5833\n",
      "Epoch 058 | Fold 4 | Train Acc: 0.5394 | Val Acc: 0.5616 | Train loss: 0.7661 Val Loss: 0.5787\n",
      "Epoch 059 | Fold 4 | Train Acc: 0.5320 | Val Acc: 0.5594 | Train loss: 0.7537 Val Loss: 0.5818\n",
      "Epoch 060 | Fold 4 | Train Acc: 0.5268 | Val Acc: 0.5594 | Train loss: 0.7608 Val Loss: 0.5800\n",
      "Epoch 061 | Fold 4 | Train Acc: 0.5310 | Val Acc: 0.5662 | Train loss: 0.7547 Val Loss: 0.5759\n",
      "Epoch 062 | Fold 4 | Train Acc: 0.5331 | Val Acc: 0.5685 | Train loss: 0.7404 Val Loss: 0.5722\n",
      "Epoch 063 | Fold 4 | Train Acc: 0.5331 | Val Acc: 0.5685 | Train loss: 0.7254 Val Loss: 0.5712\n",
      "Epoch 064 | Fold 4 | Train Acc: 0.5425 | Val Acc: 0.5662 | Train loss: 0.7430 Val Loss: 0.5705\n",
      "Epoch 065 | Fold 4 | Train Acc: 0.5389 | Val Acc: 0.5662 | Train loss: 0.7279 Val Loss: 0.5684\n",
      "Epoch 066 | Fold 4 | Train Acc: 0.5284 | Val Acc: 0.5685 | Train loss: 0.7412 Val Loss: 0.5671\n",
      "Epoch 067 | Fold 4 | Train Acc: 0.5425 | Val Acc: 0.5662 | Train loss: 0.7290 Val Loss: 0.5675\n",
      "Epoch 068 | Fold 4 | Train Acc: 0.5362 | Val Acc: 0.5662 | Train loss: 0.7279 Val Loss: 0.5672\n",
      "Epoch 069 | Fold 4 | Train Acc: 0.5373 | Val Acc: 0.5662 | Train loss: 0.7130 Val Loss: 0.5651\n",
      "Epoch 070 | Fold 4 | Train Acc: 0.5278 | Val Acc: 0.5662 | Train loss: 0.7381 Val Loss: 0.5642\n",
      "Epoch 071 | Fold 4 | Train Acc: 0.5415 | Val Acc: 0.5662 | Train loss: 0.7291 Val Loss: 0.5641\n",
      "Epoch 072 | Fold 4 | Train Acc: 0.5336 | Val Acc: 0.5685 | Train loss: 0.7409 Val Loss: 0.5601\n",
      "Epoch 073 | Fold 4 | Train Acc: 0.5383 | Val Acc: 0.5662 | Train loss: 0.7366 Val Loss: 0.5632\n",
      "Epoch 074 | Fold 4 | Train Acc: 0.5446 | Val Acc: 0.5662 | Train loss: 0.7141 Val Loss: 0.5589\n",
      "Epoch 075 | Fold 4 | Train Acc: 0.5452 | Val Acc: 0.5662 | Train loss: 0.7179 Val Loss: 0.5584\n",
      "Epoch 076 | Fold 4 | Train Acc: 0.5326 | Val Acc: 0.5662 | Train loss: 0.7150 Val Loss: 0.5606\n",
      "Epoch 077 | Fold 4 | Train Acc: 0.5436 | Val Acc: 0.5662 | Train loss: 0.7138 Val Loss: 0.5596\n",
      "Epoch 078 | Fold 4 | Train Acc: 0.5341 | Val Acc: 0.5662 | Train loss: 0.7032 Val Loss: 0.5588\n",
      "Epoch 079 | Fold 4 | Train Acc: 0.5446 | Val Acc: 0.5662 | Train loss: 0.7010 Val Loss: 0.5549\n",
      "Epoch 080 | Fold 4 | Train Acc: 0.5415 | Val Acc: 0.5662 | Train loss: 0.7146 Val Loss: 0.5535\n",
      "Epoch 081 | Fold 4 | Train Acc: 0.5441 | Val Acc: 0.5662 | Train loss: 0.7115 Val Loss: 0.5537\n",
      "Epoch 082 | Fold 4 | Train Acc: 0.5420 | Val Acc: 0.5662 | Train loss: 0.6904 Val Loss: 0.5522\n",
      "Epoch 083 | Fold 4 | Train Acc: 0.5525 | Val Acc: 0.5662 | Train loss: 0.6999 Val Loss: 0.5524\n",
      "Epoch 084 | Fold 4 | Train Acc: 0.5572 | Val Acc: 0.5662 | Train loss: 0.6666 Val Loss: 0.5516\n",
      "Epoch 085 | Fold 4 | Train Acc: 0.5415 | Val Acc: 0.5662 | Train loss: 0.7072 Val Loss: 0.5498\n",
      "Epoch 086 | Fold 4 | Train Acc: 0.5525 | Val Acc: 0.5662 | Train loss: 0.6867 Val Loss: 0.5502\n",
      "Epoch 087 | Fold 4 | Train Acc: 0.5404 | Val Acc: 0.5708 | Train loss: 0.6975 Val Loss: 0.5476\n",
      "Epoch 088 | Fold 4 | Train Acc: 0.5504 | Val Acc: 0.5662 | Train loss: 0.7117 Val Loss: 0.5496\n",
      "Epoch 089 | Fold 4 | Train Acc: 0.5473 | Val Acc: 0.5662 | Train loss: 0.7017 Val Loss: 0.5484\n",
      "Epoch 090 | Fold 4 | Train Acc: 0.5436 | Val Acc: 0.5662 | Train loss: 0.6894 Val Loss: 0.5507\n",
      "Epoch 091 | Fold 4 | Train Acc: 0.5494 | Val Acc: 0.5662 | Train loss: 0.6894 Val Loss: 0.5496\n",
      "Epoch 092 | Fold 4 | Train Acc: 0.5604 | Val Acc: 0.5662 | Train loss: 0.6842 Val Loss: 0.5486\n",
      "Epoch 093 | Fold 4 | Train Acc: 0.5572 | Val Acc: 0.5662 | Train loss: 0.6947 Val Loss: 0.5482\n",
      "Epoch 094 | Fold 4 | Train Acc: 0.5515 | Val Acc: 0.5662 | Train loss: 0.6894 Val Loss: 0.5466\n",
      "Epoch 095 | Fold 4 | Train Acc: 0.5551 | Val Acc: 0.5662 | Train loss: 0.6877 Val Loss: 0.5452\n",
      "Epoch 096 | Fold 4 | Train Acc: 0.5572 | Val Acc: 0.5662 | Train loss: 0.6932 Val Loss: 0.5459\n",
      "Epoch 097 | Fold 4 | Train Acc: 0.5410 | Val Acc: 0.5662 | Train loss: 0.7065 Val Loss: 0.5448\n",
      "Epoch 098 | Fold 4 | Train Acc: 0.5572 | Val Acc: 0.5662 | Train loss: 0.6961 Val Loss: 0.5443\n",
      "Epoch 099 | Fold 4 | Train Acc: 0.5551 | Val Acc: 0.5662 | Train loss: 0.6738 Val Loss: 0.5438\n",
      "Epoch 100 | Fold 4 | Train Acc: 0.5541 | Val Acc: 0.5662 | Train loss: 0.6751 Val Loss: 0.5433\n",
      "Epoch 101 | Fold 4 | Train Acc: 0.5378 | Val Acc: 0.5662 | Train loss: 0.7026 Val Loss: 0.5428\n",
      "Epoch 102 | Fold 4 | Train Acc: 0.5567 | Val Acc: 0.5662 | Train loss: 0.6906 Val Loss: 0.5416\n",
      "Epoch 103 | Fold 4 | Train Acc: 0.5614 | Val Acc: 0.5662 | Train loss: 0.6571 Val Loss: 0.5400\n",
      "Epoch 104 | Fold 4 | Train Acc: 0.5609 | Val Acc: 0.5662 | Train loss: 0.6709 Val Loss: 0.5399\n",
      "Epoch 105 | Fold 4 | Train Acc: 0.5462 | Val Acc: 0.5662 | Train loss: 0.6870 Val Loss: 0.5400\n",
      "Epoch 106 | Fold 4 | Train Acc: 0.5578 | Val Acc: 0.5662 | Train loss: 0.6754 Val Loss: 0.5394\n",
      "Epoch 107 | Fold 4 | Train Acc: 0.5651 | Val Acc: 0.5708 | Train loss: 0.6574 Val Loss: 0.5375\n",
      "Epoch 108 | Fold 4 | Train Acc: 0.5572 | Val Acc: 0.5708 | Train loss: 0.6747 Val Loss: 0.5365\n",
      "Epoch 109 | Fold 4 | Train Acc: 0.5646 | Val Acc: 0.5731 | Train loss: 0.6902 Val Loss: 0.5361\n",
      "Epoch 110 | Fold 4 | Train Acc: 0.5688 | Val Acc: 0.5868 | Train loss: 0.6819 Val Loss: 0.5348\n",
      "Epoch 111 | Fold 4 | Train Acc: 0.5499 | Val Acc: 0.5753 | Train loss: 0.6804 Val Loss: 0.5359\n",
      "Epoch 112 | Fold 4 | Train Acc: 0.5483 | Val Acc: 0.5662 | Train loss: 0.6876 Val Loss: 0.5371\n",
      "Epoch 113 | Fold 4 | Train Acc: 0.5557 | Val Acc: 0.5662 | Train loss: 0.6742 Val Loss: 0.5364\n",
      "Epoch 114 | Fold 4 | Train Acc: 0.5741 | Val Acc: 0.5731 | Train loss: 0.6692 Val Loss: 0.5350\n",
      "Epoch 115 | Fold 4 | Train Acc: 0.5667 | Val Acc: 0.5731 | Train loss: 0.6631 Val Loss: 0.5336\n",
      "Epoch 116 | Fold 4 | Train Acc: 0.5562 | Val Acc: 0.5708 | Train loss: 0.6663 Val Loss: 0.5333\n",
      "Epoch 117 | Fold 4 | Train Acc: 0.5709 | Val Acc: 0.5753 | Train loss: 0.6671 Val Loss: 0.5312\n",
      "Epoch 118 | Fold 4 | Train Acc: 0.5777 | Val Acc: 0.5776 | Train loss: 0.6627 Val Loss: 0.5306\n",
      "Epoch 119 | Fold 4 | Train Acc: 0.5620 | Val Acc: 0.5753 | Train loss: 0.6829 Val Loss: 0.5304\n",
      "Epoch 120 | Fold 4 | Train Acc: 0.5714 | Val Acc: 0.5662 | Train loss: 0.6640 Val Loss: 0.5302\n",
      "Epoch 121 | Fold 4 | Train Acc: 0.5683 | Val Acc: 0.5662 | Train loss: 0.6842 Val Loss: 0.5316\n",
      "Epoch 122 | Fold 4 | Train Acc: 0.5609 | Val Acc: 0.5708 | Train loss: 0.6659 Val Loss: 0.5306\n",
      "Epoch 123 | Fold 4 | Train Acc: 0.5783 | Val Acc: 0.5753 | Train loss: 0.6511 Val Loss: 0.5290\n",
      "Epoch 124 | Fold 4 | Train Acc: 0.5583 | Val Acc: 0.5753 | Train loss: 0.6699 Val Loss: 0.5290\n",
      "Epoch 125 | Fold 4 | Train Acc: 0.5699 | Val Acc: 0.5731 | Train loss: 0.6548 Val Loss: 0.5286\n",
      "Epoch 126 | Fold 4 | Train Acc: 0.5730 | Val Acc: 0.5662 | Train loss: 0.6647 Val Loss: 0.5283\n",
      "Epoch 127 | Fold 4 | Train Acc: 0.5678 | Val Acc: 0.5753 | Train loss: 0.6718 Val Loss: 0.5276\n",
      "Epoch 128 | Fold 4 | Train Acc: 0.5678 | Val Acc: 0.5776 | Train loss: 0.6798 Val Loss: 0.5256\n",
      "Epoch 129 | Fold 4 | Train Acc: 0.5709 | Val Acc: 0.6050 | Train loss: 0.6586 Val Loss: 0.5242\n",
      "Epoch 130 | Fold 4 | Train Acc: 0.5914 | Val Acc: 0.6050 | Train loss: 0.6556 Val Loss: 0.5227\n",
      "Epoch 131 | Fold 4 | Train Acc: 0.5793 | Val Acc: 0.6027 | Train loss: 0.6542 Val Loss: 0.5222\n",
      "Epoch 132 | Fold 4 | Train Acc: 0.5898 | Val Acc: 0.6096 | Train loss: 0.6466 Val Loss: 0.5212\n",
      "Epoch 133 | Fold 4 | Train Acc: 0.5699 | Val Acc: 0.6027 | Train loss: 0.6647 Val Loss: 0.5211\n",
      "Epoch 134 | Fold 4 | Train Acc: 0.5877 | Val Acc: 0.6096 | Train loss: 0.6575 Val Loss: 0.5194\n",
      "Epoch 135 | Fold 4 | Train Acc: 0.5972 | Val Acc: 0.6187 | Train loss: 0.6641 Val Loss: 0.5189\n",
      "Epoch 136 | Fold 4 | Train Acc: 0.5835 | Val Acc: 0.6187 | Train loss: 0.6522 Val Loss: 0.5184\n",
      "Epoch 137 | Fold 4 | Train Acc: 0.5767 | Val Acc: 0.6050 | Train loss: 0.6633 Val Loss: 0.5194\n",
      "Epoch 138 | Fold 4 | Train Acc: 0.5767 | Val Acc: 0.6164 | Train loss: 0.6619 Val Loss: 0.5175\n",
      "Epoch 139 | Fold 4 | Train Acc: 0.6061 | Val Acc: 0.6096 | Train loss: 0.6460 Val Loss: 0.5175\n",
      "Epoch 140 | Fold 4 | Train Acc: 0.5924 | Val Acc: 0.5868 | Train loss: 0.6366 Val Loss: 0.5168\n",
      "Epoch 141 | Fold 4 | Train Acc: 0.5993 | Val Acc: 0.6027 | Train loss: 0.6423 Val Loss: 0.5167\n",
      "Epoch 142 | Fold 4 | Train Acc: 0.5945 | Val Acc: 0.6073 | Train loss: 0.6255 Val Loss: 0.5168\n",
      "Epoch 143 | Fold 4 | Train Acc: 0.5762 | Val Acc: 0.6142 | Train loss: 0.6746 Val Loss: 0.5173\n",
      "Epoch 144 | Fold 4 | Train Acc: 0.5903 | Val Acc: 0.6142 | Train loss: 0.6498 Val Loss: 0.5165\n",
      "Epoch 145 | Fold 4 | Train Acc: 0.5935 | Val Acc: 0.6027 | Train loss: 0.6430 Val Loss: 0.5163\n",
      "Epoch 146 | Fold 4 | Train Acc: 0.5809 | Val Acc: 0.6027 | Train loss: 0.6589 Val Loss: 0.5160\n",
      "Epoch 147 | Fold 4 | Train Acc: 0.5809 | Val Acc: 0.6142 | Train loss: 0.6658 Val Loss: 0.5142\n",
      "Epoch 148 | Fold 4 | Train Acc: 0.5924 | Val Acc: 0.6142 | Train loss: 0.6371 Val Loss: 0.5133\n",
      "Epoch 149 | Fold 4 | Train Acc: 0.6029 | Val Acc: 0.6164 | Train loss: 0.6231 Val Loss: 0.5137\n",
      "Epoch 150 | Fold 4 | Train Acc: 0.6056 | Val Acc: 0.6164 | Train loss: 0.6534 Val Loss: 0.5126\n",
      "Epoch 151 | Fold 4 | Train Acc: 0.6008 | Val Acc: 0.6164 | Train loss: 0.6256 Val Loss: 0.5126\n",
      "Epoch 152 | Fold 4 | Train Acc: 0.5893 | Val Acc: 0.6187 | Train loss: 0.6449 Val Loss: 0.5112\n",
      "Epoch 153 | Fold 4 | Train Acc: 0.5956 | Val Acc: 0.6187 | Train loss: 0.6568 Val Loss: 0.5114\n",
      "Epoch 154 | Fold 4 | Train Acc: 0.5856 | Val Acc: 0.6187 | Train loss: 0.6667 Val Loss: 0.5124\n",
      "Epoch 155 | Fold 4 | Train Acc: 0.5924 | Val Acc: 0.6164 | Train loss: 0.6295 Val Loss: 0.5109\n",
      "Epoch 156 | Fold 4 | Train Acc: 0.5935 | Val Acc: 0.6164 | Train loss: 0.6504 Val Loss: 0.5112\n",
      "Epoch 157 | Fold 4 | Train Acc: 0.6008 | Val Acc: 0.6256 | Train loss: 0.6349 Val Loss: 0.5093\n",
      "Epoch 158 | Fold 4 | Train Acc: 0.5898 | Val Acc: 0.6164 | Train loss: 0.6473 Val Loss: 0.5103\n",
      "Epoch 159 | Fold 4 | Train Acc: 0.5956 | Val Acc: 0.6256 | Train loss: 0.6646 Val Loss: 0.5096\n",
      "Epoch 160 | Fold 4 | Train Acc: 0.5888 | Val Acc: 0.6347 | Train loss: 0.6445 Val Loss: 0.5088\n",
      "Epoch 161 | Fold 4 | Train Acc: 0.6066 | Val Acc: 0.6347 | Train loss: 0.6380 Val Loss: 0.5075\n",
      "Epoch 162 | Fold 4 | Train Acc: 0.5987 | Val Acc: 0.6301 | Train loss: 0.6379 Val Loss: 0.5069\n",
      "Epoch 163 | Fold 4 | Train Acc: 0.5993 | Val Acc: 0.6301 | Train loss: 0.6239 Val Loss: 0.5076\n",
      "Epoch 164 | Fold 4 | Train Acc: 0.5819 | Val Acc: 0.6461 | Train loss: 0.6517 Val Loss: 0.5053\n",
      "Epoch 165 | Fold 4 | Train Acc: 0.6045 | Val Acc: 0.6370 | Train loss: 0.6341 Val Loss: 0.5047\n",
      "Epoch 166 | Fold 4 | Train Acc: 0.6092 | Val Acc: 0.6301 | Train loss: 0.6494 Val Loss: 0.5043\n",
      "Epoch 167 | Fold 4 | Train Acc: 0.6045 | Val Acc: 0.6301 | Train loss: 0.6430 Val Loss: 0.5043\n",
      "Epoch 168 | Fold 4 | Train Acc: 0.6014 | Val Acc: 0.6301 | Train loss: 0.6371 Val Loss: 0.5055\n",
      "Epoch 169 | Fold 4 | Train Acc: 0.6129 | Val Acc: 0.6301 | Train loss: 0.6146 Val Loss: 0.5056\n",
      "Epoch 170 | Fold 4 | Train Acc: 0.5987 | Val Acc: 0.6301 | Train loss: 0.6375 Val Loss: 0.5053\n",
      "Epoch 171 | Fold 4 | Train Acc: 0.5956 | Val Acc: 0.6347 | Train loss: 0.6286 Val Loss: 0.5057\n",
      "Epoch 172 | Fold 4 | Train Acc: 0.6087 | Val Acc: 0.6347 | Train loss: 0.6496 Val Loss: 0.5045\n",
      "Epoch 173 | Fold 4 | Train Acc: 0.6082 | Val Acc: 0.6324 | Train loss: 0.6582 Val Loss: 0.5050\n",
      "Epoch 174 | Fold 4 | Train Acc: 0.6050 | Val Acc: 0.6301 | Train loss: 0.6348 Val Loss: 0.5047\n",
      "Epoch 175 | Fold 4 | Train Acc: 0.6014 | Val Acc: 0.6461 | Train loss: 0.6383 Val Loss: 0.5024\n",
      "Epoch 176 | Fold 4 | Train Acc: 0.5945 | Val Acc: 0.6301 | Train loss: 0.6472 Val Loss: 0.5037\n",
      "Epoch 177 | Fold 4 | Train Acc: 0.5919 | Val Acc: 0.6324 | Train loss: 0.6245 Val Loss: 0.5034\n",
      "Epoch 178 | Fold 4 | Train Acc: 0.5935 | Val Acc: 0.6347 | Train loss: 0.6322 Val Loss: 0.5022\n",
      "Epoch 179 | Fold 4 | Train Acc: 0.6061 | Val Acc: 0.6461 | Train loss: 0.6254 Val Loss: 0.5021\n",
      "Epoch 180 | Fold 4 | Train Acc: 0.6134 | Val Acc: 0.6438 | Train loss: 0.6114 Val Loss: 0.5019\n",
      "Epoch 181 | Fold 4 | Train Acc: 0.5982 | Val Acc: 0.6461 | Train loss: 0.6449 Val Loss: 0.5003\n",
      "Epoch 182 | Fold 4 | Train Acc: 0.5998 | Val Acc: 0.6461 | Train loss: 0.6190 Val Loss: 0.5016\n",
      "Epoch 183 | Fold 4 | Train Acc: 0.5977 | Val Acc: 0.6416 | Train loss: 0.6182 Val Loss: 0.5016\n",
      "Epoch 184 | Fold 4 | Train Acc: 0.6045 | Val Acc: 0.6598 | Train loss: 0.6299 Val Loss: 0.5005\n",
      "Epoch 185 | Fold 4 | Train Acc: 0.6035 | Val Acc: 0.6461 | Train loss: 0.5971 Val Loss: 0.4997\n",
      "Epoch 186 | Fold 4 | Train Acc: 0.6098 | Val Acc: 0.6438 | Train loss: 0.6163 Val Loss: 0.5002\n",
      "Epoch 187 | Fold 4 | Train Acc: 0.6040 | Val Acc: 0.6621 | Train loss: 0.6222 Val Loss: 0.4997\n",
      "Epoch 188 | Fold 4 | Train Acc: 0.6161 | Val Acc: 0.6484 | Train loss: 0.6224 Val Loss: 0.4989\n",
      "Epoch 189 | Fold 4 | Train Acc: 0.6014 | Val Acc: 0.6598 | Train loss: 0.6199 Val Loss: 0.4973\n"
     ]
    },
    {
     "name": "stderr",
     "output_type": "stream",
     "text": [
      "c:\\Users\\User\\anaconda3\\envs\\ENVGAT\\lib\\site-packages\\optuna\\trial\\_trial.py:501: UserWarning: The reported value is ignored because this `step` 189 is already reported.\n",
      "  warnings.warn(\n"
     ]
    },
    {
     "name": "stdout",
     "output_type": "stream",
     "text": [
      "Epoch 190 | Fold 4 | Train Acc: 0.6008 | Val Acc: 0.6598 | Train loss: 0.6156 Val Loss: 0.4981\n"
     ]
    },
    {
     "name": "stderr",
     "output_type": "stream",
     "text": [
      "c:\\Users\\User\\anaconda3\\envs\\ENVGAT\\lib\\site-packages\\optuna\\trial\\_trial.py:501: UserWarning: The reported value is ignored because this `step` 190 is already reported.\n",
      "  warnings.warn(\n"
     ]
    },
    {
     "name": "stdout",
     "output_type": "stream",
     "text": [
      "Epoch 191 | Fold 4 | Train Acc: 0.6113 | Val Acc: 0.6644 | Train loss: 0.6063 Val Loss: 0.4965\n"
     ]
    },
    {
     "name": "stderr",
     "output_type": "stream",
     "text": [
      "c:\\Users\\User\\anaconda3\\envs\\ENVGAT\\lib\\site-packages\\optuna\\trial\\_trial.py:501: UserWarning: The reported value is ignored because this `step` 191 is already reported.\n",
      "  warnings.warn(\n"
     ]
    },
    {
     "name": "stdout",
     "output_type": "stream",
     "text": [
      "Epoch 192 | Fold 4 | Train Acc: 0.6192 | Val Acc: 0.6644 | Train loss: 0.6089 Val Loss: 0.4955\n"
     ]
    },
    {
     "name": "stderr",
     "output_type": "stream",
     "text": [
      "c:\\Users\\User\\anaconda3\\envs\\ENVGAT\\lib\\site-packages\\optuna\\trial\\_trial.py:501: UserWarning: The reported value is ignored because this `step` 192 is already reported.\n",
      "  warnings.warn(\n"
     ]
    },
    {
     "name": "stdout",
     "output_type": "stream",
     "text": [
      "Epoch 193 | Fold 4 | Train Acc: 0.6040 | Val Acc: 0.6621 | Train loss: 0.6231 Val Loss: 0.4966\n"
     ]
    },
    {
     "name": "stderr",
     "output_type": "stream",
     "text": [
      "c:\\Users\\User\\anaconda3\\envs\\ENVGAT\\lib\\site-packages\\optuna\\trial\\_trial.py:501: UserWarning: The reported value is ignored because this `step` 193 is already reported.\n",
      "  warnings.warn(\n"
     ]
    },
    {
     "name": "stdout",
     "output_type": "stream",
     "text": [
      "Epoch 194 | Fold 4 | Train Acc: 0.6092 | Val Acc: 0.6621 | Train loss: 0.6277 Val Loss: 0.4966\n"
     ]
    },
    {
     "name": "stderr",
     "output_type": "stream",
     "text": [
      "c:\\Users\\User\\anaconda3\\envs\\ENVGAT\\lib\\site-packages\\optuna\\trial\\_trial.py:501: UserWarning: The reported value is ignored because this `step` 194 is already reported.\n",
      "  warnings.warn(\n"
     ]
    },
    {
     "name": "stdout",
     "output_type": "stream",
     "text": [
      "Epoch 195 | Fold 4 | Train Acc: 0.6218 | Val Acc: 0.6621 | Train loss: 0.6435 Val Loss: 0.4961\n"
     ]
    },
    {
     "name": "stderr",
     "output_type": "stream",
     "text": [
      "c:\\Users\\User\\anaconda3\\envs\\ENVGAT\\lib\\site-packages\\optuna\\trial\\_trial.py:501: UserWarning: The reported value is ignored because this `step` 195 is already reported.\n",
      "  warnings.warn(\n"
     ]
    },
    {
     "name": "stdout",
     "output_type": "stream",
     "text": [
      "Epoch 196 | Fold 4 | Train Acc: 0.6071 | Val Acc: 0.6667 | Train loss: 0.6161 Val Loss: 0.4961\n"
     ]
    },
    {
     "name": "stderr",
     "output_type": "stream",
     "text": [
      "c:\\Users\\User\\anaconda3\\envs\\ENVGAT\\lib\\site-packages\\optuna\\trial\\_trial.py:501: UserWarning: The reported value is ignored because this `step` 196 is already reported.\n",
      "  warnings.warn(\n"
     ]
    },
    {
     "name": "stdout",
     "output_type": "stream",
     "text": [
      "Epoch 197 | Fold 4 | Train Acc: 0.6108 | Val Acc: 0.6667 | Train loss: 0.6166 Val Loss: 0.4958\n"
     ]
    },
    {
     "name": "stderr",
     "output_type": "stream",
     "text": [
      "c:\\Users\\User\\anaconda3\\envs\\ENVGAT\\lib\\site-packages\\optuna\\trial\\_trial.py:501: UserWarning: The reported value is ignored because this `step` 197 is already reported.\n",
      "  warnings.warn(\n"
     ]
    },
    {
     "name": "stdout",
     "output_type": "stream",
     "text": [
      "Epoch 198 | Fold 4 | Train Acc: 0.6014 | Val Acc: 0.6621 | Train loss: 0.6274 Val Loss: 0.4965\n"
     ]
    },
    {
     "name": "stderr",
     "output_type": "stream",
     "text": [
      "c:\\Users\\User\\anaconda3\\envs\\ENVGAT\\lib\\site-packages\\optuna\\trial\\_trial.py:501: UserWarning: The reported value is ignored because this `step` 198 is already reported.\n",
      "  warnings.warn(\n"
     ]
    },
    {
     "name": "stdout",
     "output_type": "stream",
     "text": [
      "Epoch 199 | Fold 4 | Train Acc: 0.6129 | Val Acc: 0.6689 | Train loss: 0.6289 Val Loss: 0.4966\n"
     ]
    },
    {
     "name": "stderr",
     "output_type": "stream",
     "text": [
      "c:\\Users\\User\\anaconda3\\envs\\ENVGAT\\lib\\site-packages\\optuna\\trial\\_trial.py:501: UserWarning: The reported value is ignored because this `step` 199 is already reported.\n",
      "  warnings.warn(\n"
     ]
    },
    {
     "name": "stdout",
     "output_type": "stream",
     "text": [
      "Epoch 200 | Fold 4 | Train Acc: 0.5987 | Val Acc: 0.6644 | Train loss: 0.6399 Val Loss: 0.4970\n"
     ]
    },
    {
     "name": "stderr",
     "output_type": "stream",
     "text": [
      "c:\\Users\\User\\anaconda3\\envs\\ENVGAT\\lib\\site-packages\\optuna\\trial\\_trial.py:501: UserWarning: The reported value is ignored because this `step` 200 is already reported.\n",
      "  warnings.warn(\n"
     ]
    },
    {
     "name": "stdout",
     "output_type": "stream",
     "text": [
      "Epoch 201 | Fold 4 | Train Acc: 0.6092 | Val Acc: 0.6621 | Train loss: 0.6353 Val Loss: 0.4963\n"
     ]
    },
    {
     "name": "stderr",
     "output_type": "stream",
     "text": [
      "c:\\Users\\User\\anaconda3\\envs\\ENVGAT\\lib\\site-packages\\optuna\\trial\\_trial.py:501: UserWarning: The reported value is ignored because this `step` 201 is already reported.\n",
      "  warnings.warn(\n"
     ]
    },
    {
     "name": "stdout",
     "output_type": "stream",
     "text": [
      "Epoch 202 | Fold 4 | Train Acc: 0.6092 | Val Acc: 0.6689 | Train loss: 0.6283 Val Loss: 0.4957\n"
     ]
    },
    {
     "name": "stderr",
     "output_type": "stream",
     "text": [
      "c:\\Users\\User\\anaconda3\\envs\\ENVGAT\\lib\\site-packages\\optuna\\trial\\_trial.py:501: UserWarning: The reported value is ignored because this `step` 202 is already reported.\n",
      "  warnings.warn(\n"
     ]
    },
    {
     "name": "stdout",
     "output_type": "stream",
     "text": [
      "Epoch 203 | Fold 4 | Train Acc: 0.5945 | Val Acc: 0.6689 | Train loss: 0.6522 Val Loss: 0.4967\n"
     ]
    },
    {
     "name": "stderr",
     "output_type": "stream",
     "text": [
      "c:\\Users\\User\\anaconda3\\envs\\ENVGAT\\lib\\site-packages\\optuna\\trial\\_trial.py:501: UserWarning: The reported value is ignored because this `step` 203 is already reported.\n",
      "  warnings.warn(\n"
     ]
    },
    {
     "name": "stdout",
     "output_type": "stream",
     "text": [
      "Epoch 204 | Fold 4 | Train Acc: 0.6019 | Val Acc: 0.6689 | Train loss: 0.6471 Val Loss: 0.4963\n"
     ]
    },
    {
     "name": "stderr",
     "output_type": "stream",
     "text": [
      "c:\\Users\\User\\anaconda3\\envs\\ENVGAT\\lib\\site-packages\\optuna\\trial\\_trial.py:501: UserWarning: The reported value is ignored because this `step` 204 is already reported.\n",
      "  warnings.warn(\n"
     ]
    },
    {
     "name": "stdout",
     "output_type": "stream",
     "text": [
      "Epoch 205 | Fold 4 | Train Acc: 0.6014 | Val Acc: 0.6598 | Train loss: 0.6314 Val Loss: 0.4968\n"
     ]
    },
    {
     "name": "stderr",
     "output_type": "stream",
     "text": [
      "c:\\Users\\User\\anaconda3\\envs\\ENVGAT\\lib\\site-packages\\optuna\\trial\\_trial.py:501: UserWarning: The reported value is ignored because this `step` 205 is already reported.\n",
      "  warnings.warn(\n"
     ]
    },
    {
     "name": "stdout",
     "output_type": "stream",
     "text": [
      "Epoch 206 | Fold 4 | Train Acc: 0.6024 | Val Acc: 0.6598 | Train loss: 0.6178 Val Loss: 0.4965\n"
     ]
    },
    {
     "name": "stderr",
     "output_type": "stream",
     "text": [
      "c:\\Users\\User\\anaconda3\\envs\\ENVGAT\\lib\\site-packages\\optuna\\trial\\_trial.py:501: UserWarning: The reported value is ignored because this `step` 206 is already reported.\n",
      "  warnings.warn(\n"
     ]
    },
    {
     "name": "stdout",
     "output_type": "stream",
     "text": [
      "Epoch 207 | Fold 4 | Train Acc: 0.6019 | Val Acc: 0.6598 | Train loss: 0.6321 Val Loss: 0.4965\n"
     ]
    },
    {
     "name": "stderr",
     "output_type": "stream",
     "text": [
      "c:\\Users\\User\\anaconda3\\envs\\ENVGAT\\lib\\site-packages\\optuna\\trial\\_trial.py:501: UserWarning: The reported value is ignored because this `step` 207 is already reported.\n",
      "  warnings.warn(\n"
     ]
    },
    {
     "name": "stdout",
     "output_type": "stream",
     "text": [
      "Epoch 208 | Fold 4 | Train Acc: 0.5993 | Val Acc: 0.6689 | Train loss: 0.6405 Val Loss: 0.4958\n"
     ]
    },
    {
     "name": "stderr",
     "output_type": "stream",
     "text": [
      "c:\\Users\\User\\anaconda3\\envs\\ENVGAT\\lib\\site-packages\\optuna\\trial\\_trial.py:501: UserWarning: The reported value is ignored because this `step` 208 is already reported.\n",
      "  warnings.warn(\n"
     ]
    },
    {
     "name": "stdout",
     "output_type": "stream",
     "text": [
      "Epoch 209 | Fold 4 | Train Acc: 0.6035 | Val Acc: 0.6689 | Train loss: 0.6256 Val Loss: 0.4954\n"
     ]
    },
    {
     "name": "stderr",
     "output_type": "stream",
     "text": [
      "c:\\Users\\User\\anaconda3\\envs\\ENVGAT\\lib\\site-packages\\optuna\\trial\\_trial.py:501: UserWarning: The reported value is ignored because this `step` 209 is already reported.\n",
      "  warnings.warn(\n"
     ]
    },
    {
     "name": "stdout",
     "output_type": "stream",
     "text": [
      "Epoch 210 | Fold 4 | Train Acc: 0.6066 | Val Acc: 0.6644 | Train loss: 0.6246 Val Loss: 0.4966\n"
     ]
    },
    {
     "name": "stderr",
     "output_type": "stream",
     "text": [
      "c:\\Users\\User\\anaconda3\\envs\\ENVGAT\\lib\\site-packages\\optuna\\trial\\_trial.py:501: UserWarning: The reported value is ignored because this `step` 210 is already reported.\n",
      "  warnings.warn(\n"
     ]
    },
    {
     "name": "stdout",
     "output_type": "stream",
     "text": [
      "Epoch 211 | Fold 4 | Train Acc: 0.6103 | Val Acc: 0.6644 | Train loss: 0.6448 Val Loss: 0.4964\n"
     ]
    },
    {
     "name": "stderr",
     "output_type": "stream",
     "text": [
      "c:\\Users\\User\\anaconda3\\envs\\ENVGAT\\lib\\site-packages\\optuna\\trial\\_trial.py:501: UserWarning: The reported value is ignored because this `step` 211 is already reported.\n",
      "  warnings.warn(\n"
     ]
    },
    {
     "name": "stdout",
     "output_type": "stream",
     "text": [
      "Epoch 212 | Fold 4 | Train Acc: 0.6029 | Val Acc: 0.6689 | Train loss: 0.6208 Val Loss: 0.4957\n"
     ]
    },
    {
     "name": "stderr",
     "output_type": "stream",
     "text": [
      "c:\\Users\\User\\anaconda3\\envs\\ENVGAT\\lib\\site-packages\\optuna\\trial\\_trial.py:501: UserWarning: The reported value is ignored because this `step` 212 is already reported.\n",
      "  warnings.warn(\n"
     ]
    },
    {
     "name": "stdout",
     "output_type": "stream",
     "text": [
      "Epoch 213 | Fold 4 | Train Acc: 0.6187 | Val Acc: 0.6689 | Train loss: 0.6313 Val Loss: 0.4957\n"
     ]
    },
    {
     "name": "stderr",
     "output_type": "stream",
     "text": [
      "c:\\Users\\User\\anaconda3\\envs\\ENVGAT\\lib\\site-packages\\optuna\\trial\\_trial.py:501: UserWarning: The reported value is ignored because this `step` 213 is already reported.\n",
      "  warnings.warn(\n"
     ]
    },
    {
     "name": "stdout",
     "output_type": "stream",
     "text": [
      "Epoch 214 | Fold 4 | Train Acc: 0.6035 | Val Acc: 0.6689 | Train loss: 0.6205 Val Loss: 0.4948\n"
     ]
    },
    {
     "name": "stderr",
     "output_type": "stream",
     "text": [
      "c:\\Users\\User\\anaconda3\\envs\\ENVGAT\\lib\\site-packages\\optuna\\trial\\_trial.py:501: UserWarning: The reported value is ignored because this `step` 214 is already reported.\n",
      "  warnings.warn(\n"
     ]
    },
    {
     "name": "stdout",
     "output_type": "stream",
     "text": [
      "Epoch 215 | Fold 4 | Train Acc: 0.6092 | Val Acc: 0.6689 | Train loss: 0.6248 Val Loss: 0.4947\n"
     ]
    },
    {
     "name": "stderr",
     "output_type": "stream",
     "text": [
      "c:\\Users\\User\\anaconda3\\envs\\ENVGAT\\lib\\site-packages\\optuna\\trial\\_trial.py:501: UserWarning: The reported value is ignored because this `step` 215 is already reported.\n",
      "  warnings.warn(\n"
     ]
    },
    {
     "name": "stdout",
     "output_type": "stream",
     "text": [
      "Epoch 216 | Fold 4 | Train Acc: 0.6008 | Val Acc: 0.6689 | Train loss: 0.6248 Val Loss: 0.4948\n"
     ]
    },
    {
     "name": "stderr",
     "output_type": "stream",
     "text": [
      "c:\\Users\\User\\anaconda3\\envs\\ENVGAT\\lib\\site-packages\\optuna\\trial\\_trial.py:501: UserWarning: The reported value is ignored because this `step` 216 is already reported.\n",
      "  warnings.warn(\n"
     ]
    },
    {
     "name": "stdout",
     "output_type": "stream",
     "text": [
      "Epoch 217 | Fold 4 | Train Acc: 0.6239 | Val Acc: 0.6712 | Train loss: 0.6006 Val Loss: 0.4941\n"
     ]
    },
    {
     "name": "stderr",
     "output_type": "stream",
     "text": [
      "c:\\Users\\User\\anaconda3\\envs\\ENVGAT\\lib\\site-packages\\optuna\\trial\\_trial.py:501: UserWarning: The reported value is ignored because this `step` 217 is already reported.\n",
      "  warnings.warn(\n"
     ]
    },
    {
     "name": "stdout",
     "output_type": "stream",
     "text": [
      "Epoch 218 | Fold 4 | Train Acc: 0.6050 | Val Acc: 0.6712 | Train loss: 0.6230 Val Loss: 0.4939\n"
     ]
    },
    {
     "name": "stderr",
     "output_type": "stream",
     "text": [
      "c:\\Users\\User\\anaconda3\\envs\\ENVGAT\\lib\\site-packages\\optuna\\trial\\_trial.py:501: UserWarning: The reported value is ignored because this `step` 218 is already reported.\n",
      "  warnings.warn(\n"
     ]
    },
    {
     "name": "stdout",
     "output_type": "stream",
     "text": [
      "Epoch 219 | Fold 4 | Train Acc: 0.6287 | Val Acc: 0.6712 | Train loss: 0.6089 Val Loss: 0.4938\n"
     ]
    },
    {
     "name": "stderr",
     "output_type": "stream",
     "text": [
      "c:\\Users\\User\\anaconda3\\envs\\ENVGAT\\lib\\site-packages\\optuna\\trial\\_trial.py:501: UserWarning: The reported value is ignored because this `step` 219 is already reported.\n",
      "  warnings.warn(\n"
     ]
    },
    {
     "name": "stdout",
     "output_type": "stream",
     "text": [
      "Epoch 220 | Fold 4 | Train Acc: 0.6008 | Val Acc: 0.6689 | Train loss: 0.6244 Val Loss: 0.4939\n"
     ]
    },
    {
     "name": "stderr",
     "output_type": "stream",
     "text": [
      "c:\\Users\\User\\anaconda3\\envs\\ENVGAT\\lib\\site-packages\\optuna\\trial\\_trial.py:501: UserWarning: The reported value is ignored because this `step` 220 is already reported.\n",
      "  warnings.warn(\n"
     ]
    },
    {
     "name": "stdout",
     "output_type": "stream",
     "text": [
      "Epoch 221 | Fold 4 | Train Acc: 0.6071 | Val Acc: 0.6735 | Train loss: 0.6183 Val Loss: 0.4928\n"
     ]
    },
    {
     "name": "stderr",
     "output_type": "stream",
     "text": [
      "c:\\Users\\User\\anaconda3\\envs\\ENVGAT\\lib\\site-packages\\optuna\\trial\\_trial.py:501: UserWarning: The reported value is ignored because this `step` 221 is already reported.\n",
      "  warnings.warn(\n"
     ]
    },
    {
     "name": "stdout",
     "output_type": "stream",
     "text": [
      "Epoch 222 | Fold 4 | Train Acc: 0.6087 | Val Acc: 0.6735 | Train loss: 0.6287 Val Loss: 0.4928\n"
     ]
    },
    {
     "name": "stderr",
     "output_type": "stream",
     "text": [
      "c:\\Users\\User\\anaconda3\\envs\\ENVGAT\\lib\\site-packages\\optuna\\trial\\_trial.py:501: UserWarning: The reported value is ignored because this `step` 222 is already reported.\n",
      "  warnings.warn(\n"
     ]
    },
    {
     "name": "stdout",
     "output_type": "stream",
     "text": [
      "Epoch 223 | Fold 4 | Train Acc: 0.5993 | Val Acc: 0.6781 | Train loss: 0.6402 Val Loss: 0.4924\n"
     ]
    },
    {
     "name": "stderr",
     "output_type": "stream",
     "text": [
      "c:\\Users\\User\\anaconda3\\envs\\ENVGAT\\lib\\site-packages\\optuna\\trial\\_trial.py:501: UserWarning: The reported value is ignored because this `step` 223 is already reported.\n",
      "  warnings.warn(\n"
     ]
    },
    {
     "name": "stdout",
     "output_type": "stream",
     "text": [
      "Epoch 224 | Fold 4 | Train Acc: 0.6119 | Val Acc: 0.6735 | Train loss: 0.6378 Val Loss: 0.4928\n"
     ]
    },
    {
     "name": "stderr",
     "output_type": "stream",
     "text": [
      "c:\\Users\\User\\anaconda3\\envs\\ENVGAT\\lib\\site-packages\\optuna\\trial\\_trial.py:501: UserWarning: The reported value is ignored because this `step` 224 is already reported.\n",
      "  warnings.warn(\n"
     ]
    },
    {
     "name": "stdout",
     "output_type": "stream",
     "text": [
      "Epoch 225 | Fold 4 | Train Acc: 0.5977 | Val Acc: 0.6712 | Train loss: 0.6263 Val Loss: 0.4937\n"
     ]
    },
    {
     "name": "stderr",
     "output_type": "stream",
     "text": [
      "c:\\Users\\User\\anaconda3\\envs\\ENVGAT\\lib\\site-packages\\optuna\\trial\\_trial.py:501: UserWarning: The reported value is ignored because this `step` 225 is already reported.\n",
      "  warnings.warn(\n"
     ]
    },
    {
     "name": "stdout",
     "output_type": "stream",
     "text": [
      "Epoch 226 | Fold 4 | Train Acc: 0.6276 | Val Acc: 0.6735 | Train loss: 0.6167 Val Loss: 0.4929\n"
     ]
    },
    {
     "name": "stderr",
     "output_type": "stream",
     "text": [
      "c:\\Users\\User\\anaconda3\\envs\\ENVGAT\\lib\\site-packages\\optuna\\trial\\_trial.py:501: UserWarning: The reported value is ignored because this `step` 226 is already reported.\n",
      "  warnings.warn(\n"
     ]
    },
    {
     "name": "stdout",
     "output_type": "stream",
     "text": [
      "Epoch 227 | Fold 4 | Train Acc: 0.6077 | Val Acc: 0.6712 | Train loss: 0.6215 Val Loss: 0.4920\n"
     ]
    },
    {
     "name": "stderr",
     "output_type": "stream",
     "text": [
      "c:\\Users\\User\\anaconda3\\envs\\ENVGAT\\lib\\site-packages\\optuna\\trial\\_trial.py:501: UserWarning: The reported value is ignored because this `step` 227 is already reported.\n",
      "  warnings.warn(\n"
     ]
    },
    {
     "name": "stdout",
     "output_type": "stream",
     "text": [
      "Epoch 228 | Fold 4 | Train Acc: 0.6255 | Val Acc: 0.6712 | Train loss: 0.5859 Val Loss: 0.4925\n"
     ]
    },
    {
     "name": "stderr",
     "output_type": "stream",
     "text": [
      "c:\\Users\\User\\anaconda3\\envs\\ENVGAT\\lib\\site-packages\\optuna\\trial\\_trial.py:501: UserWarning: The reported value is ignored because this `step` 228 is already reported.\n",
      "  warnings.warn(\n"
     ]
    },
    {
     "name": "stdout",
     "output_type": "stream",
     "text": [
      "Epoch 229 | Fold 4 | Train Acc: 0.5993 | Val Acc: 0.6712 | Train loss: 0.6457 Val Loss: 0.4932\n"
     ]
    },
    {
     "name": "stderr",
     "output_type": "stream",
     "text": [
      "c:\\Users\\User\\anaconda3\\envs\\ENVGAT\\lib\\site-packages\\optuna\\trial\\_trial.py:501: UserWarning: The reported value is ignored because this `step` 229 is already reported.\n",
      "  warnings.warn(\n"
     ]
    },
    {
     "name": "stdout",
     "output_type": "stream",
     "text": [
      "Epoch 230 | Fold 4 | Train Acc: 0.6108 | Val Acc: 0.6712 | Train loss: 0.6118 Val Loss: 0.4934\n"
     ]
    },
    {
     "name": "stderr",
     "output_type": "stream",
     "text": [
      "c:\\Users\\User\\anaconda3\\envs\\ENVGAT\\lib\\site-packages\\optuna\\trial\\_trial.py:501: UserWarning: The reported value is ignored because this `step` 230 is already reported.\n",
      "  warnings.warn(\n"
     ]
    },
    {
     "name": "stdout",
     "output_type": "stream",
     "text": [
      "Epoch 231 | Fold 4 | Train Acc: 0.6182 | Val Acc: 0.6712 | Train loss: 0.6083 Val Loss: 0.4933\n"
     ]
    },
    {
     "name": "stderr",
     "output_type": "stream",
     "text": [
      "c:\\Users\\User\\anaconda3\\envs\\ENVGAT\\lib\\site-packages\\optuna\\trial\\_trial.py:501: UserWarning: The reported value is ignored because this `step` 231 is already reported.\n",
      "  warnings.warn(\n"
     ]
    },
    {
     "name": "stdout",
     "output_type": "stream",
     "text": [
      "Epoch 232 | Fold 4 | Train Acc: 0.5898 | Val Acc: 0.6712 | Train loss: 0.6284 Val Loss: 0.4937\n"
     ]
    },
    {
     "name": "stderr",
     "output_type": "stream",
     "text": [
      "c:\\Users\\User\\anaconda3\\envs\\ENVGAT\\lib\\site-packages\\optuna\\trial\\_trial.py:501: UserWarning: The reported value is ignored because this `step` 232 is already reported.\n",
      "  warnings.warn(\n"
     ]
    },
    {
     "name": "stdout",
     "output_type": "stream",
     "text": [
      "Epoch 233 | Fold 4 | Train Acc: 0.6098 | Val Acc: 0.6735 | Train loss: 0.6252 Val Loss: 0.4924\n"
     ]
    },
    {
     "name": "stderr",
     "output_type": "stream",
     "text": [
      "c:\\Users\\User\\anaconda3\\envs\\ENVGAT\\lib\\site-packages\\optuna\\trial\\_trial.py:501: UserWarning: The reported value is ignored because this `step` 233 is already reported.\n",
      "  warnings.warn(\n"
     ]
    },
    {
     "name": "stdout",
     "output_type": "stream",
     "text": [
      "Epoch 234 | Fold 4 | Train Acc: 0.6161 | Val Acc: 0.6735 | Train loss: 0.6267 Val Loss: 0.4925\n"
     ]
    },
    {
     "name": "stderr",
     "output_type": "stream",
     "text": [
      "c:\\Users\\User\\anaconda3\\envs\\ENVGAT\\lib\\site-packages\\optuna\\trial\\_trial.py:501: UserWarning: The reported value is ignored because this `step` 234 is already reported.\n",
      "  warnings.warn(\n"
     ]
    },
    {
     "name": "stdout",
     "output_type": "stream",
     "text": [
      "Epoch 235 | Fold 4 | Train Acc: 0.6192 | Val Acc: 0.6712 | Train loss: 0.6036 Val Loss: 0.4931\n"
     ]
    },
    {
     "name": "stderr",
     "output_type": "stream",
     "text": [
      "c:\\Users\\User\\anaconda3\\envs\\ENVGAT\\lib\\site-packages\\optuna\\trial\\_trial.py:501: UserWarning: The reported value is ignored because this `step` 235 is already reported.\n",
      "  warnings.warn(\n"
     ]
    },
    {
     "name": "stdout",
     "output_type": "stream",
     "text": [
      "Epoch 236 | Fold 4 | Train Acc: 0.5987 | Val Acc: 0.6712 | Train loss: 0.6227 Val Loss: 0.4931\n"
     ]
    },
    {
     "name": "stderr",
     "output_type": "stream",
     "text": [
      "c:\\Users\\User\\anaconda3\\envs\\ENVGAT\\lib\\site-packages\\optuna\\trial\\_trial.py:501: UserWarning: The reported value is ignored because this `step` 236 is already reported.\n",
      "  warnings.warn(\n"
     ]
    },
    {
     "name": "stdout",
     "output_type": "stream",
     "text": [
      "Epoch 237 | Fold 4 | Train Acc: 0.6040 | Val Acc: 0.6735 | Train loss: 0.6357 Val Loss: 0.4924\n"
     ]
    },
    {
     "name": "stderr",
     "output_type": "stream",
     "text": [
      "c:\\Users\\User\\anaconda3\\envs\\ENVGAT\\lib\\site-packages\\optuna\\trial\\_trial.py:501: UserWarning: The reported value is ignored because this `step` 237 is already reported.\n",
      "  warnings.warn(\n"
     ]
    },
    {
     "name": "stdout",
     "output_type": "stream",
     "text": [
      "Epoch 238 | Fold 4 | Train Acc: 0.6056 | Val Acc: 0.6712 | Train loss: 0.6054 Val Loss: 0.4927\n"
     ]
    },
    {
     "name": "stderr",
     "output_type": "stream",
     "text": [
      "c:\\Users\\User\\anaconda3\\envs\\ENVGAT\\lib\\site-packages\\optuna\\trial\\_trial.py:501: UserWarning: The reported value is ignored because this `step` 238 is already reported.\n",
      "  warnings.warn(\n"
     ]
    },
    {
     "name": "stdout",
     "output_type": "stream",
     "text": [
      "Epoch 239 | Fold 4 | Train Acc: 0.6108 | Val Acc: 0.6712 | Train loss: 0.6136 Val Loss: 0.4930\n"
     ]
    },
    {
     "name": "stderr",
     "output_type": "stream",
     "text": [
      "c:\\Users\\User\\anaconda3\\envs\\ENVGAT\\lib\\site-packages\\optuna\\trial\\_trial.py:501: UserWarning: The reported value is ignored because this `step` 239 is already reported.\n",
      "  warnings.warn(\n"
     ]
    },
    {
     "name": "stdout",
     "output_type": "stream",
     "text": [
      "Epoch 240 | Fold 4 | Train Acc: 0.6182 | Val Acc: 0.6712 | Train loss: 0.6076 Val Loss: 0.4922\n"
     ]
    },
    {
     "name": "stderr",
     "output_type": "stream",
     "text": [
      "c:\\Users\\User\\anaconda3\\envs\\ENVGAT\\lib\\site-packages\\optuna\\trial\\_trial.py:501: UserWarning: The reported value is ignored because this `step` 240 is already reported.\n",
      "  warnings.warn(\n"
     ]
    },
    {
     "name": "stdout",
     "output_type": "stream",
     "text": [
      "Epoch 241 | Fold 4 | Train Acc: 0.6155 | Val Acc: 0.6712 | Train loss: 0.6200 Val Loss: 0.4927\n"
     ]
    },
    {
     "name": "stderr",
     "output_type": "stream",
     "text": [
      "c:\\Users\\User\\anaconda3\\envs\\ENVGAT\\lib\\site-packages\\optuna\\trial\\_trial.py:501: UserWarning: The reported value is ignored because this `step` 241 is already reported.\n",
      "  warnings.warn(\n"
     ]
    },
    {
     "name": "stdout",
     "output_type": "stream",
     "text": [
      "Epoch 242 | Fold 4 | Train Acc: 0.6150 | Val Acc: 0.6712 | Train loss: 0.6059 Val Loss: 0.4922\n"
     ]
    },
    {
     "name": "stderr",
     "output_type": "stream",
     "text": [
      "c:\\Users\\User\\anaconda3\\envs\\ENVGAT\\lib\\site-packages\\optuna\\trial\\_trial.py:501: UserWarning: The reported value is ignored because this `step` 242 is already reported.\n",
      "  warnings.warn(\n"
     ]
    },
    {
     "name": "stdout",
     "output_type": "stream",
     "text": [
      "Epoch 243 | Fold 4 | Train Acc: 0.6166 | Val Acc: 0.6735 | Train loss: 0.6177 Val Loss: 0.4921\n"
     ]
    },
    {
     "name": "stderr",
     "output_type": "stream",
     "text": [
      "c:\\Users\\User\\anaconda3\\envs\\ENVGAT\\lib\\site-packages\\optuna\\trial\\_trial.py:501: UserWarning: The reported value is ignored because this `step` 243 is already reported.\n",
      "  warnings.warn(\n"
     ]
    },
    {
     "name": "stdout",
     "output_type": "stream",
     "text": [
      "Epoch 244 | Fold 4 | Train Acc: 0.6197 | Val Acc: 0.6735 | Train loss: 0.6014 Val Loss: 0.4920\n"
     ]
    },
    {
     "name": "stderr",
     "output_type": "stream",
     "text": [
      "c:\\Users\\User\\anaconda3\\envs\\ENVGAT\\lib\\site-packages\\optuna\\trial\\_trial.py:501: UserWarning: The reported value is ignored because this `step` 244 is already reported.\n",
      "  warnings.warn(\n"
     ]
    },
    {
     "name": "stdout",
     "output_type": "stream",
     "text": [
      "Epoch 245 | Fold 4 | Train Acc: 0.6234 | Val Acc: 0.6735 | Train loss: 0.6275 Val Loss: 0.4921\n"
     ]
    },
    {
     "name": "stderr",
     "output_type": "stream",
     "text": [
      "c:\\Users\\User\\anaconda3\\envs\\ENVGAT\\lib\\site-packages\\optuna\\trial\\_trial.py:501: UserWarning: The reported value is ignored because this `step` 245 is already reported.\n",
      "  warnings.warn(\n"
     ]
    },
    {
     "name": "stdout",
     "output_type": "stream",
     "text": [
      "Epoch 246 | Fold 4 | Train Acc: 0.6035 | Val Acc: 0.6735 | Train loss: 0.6288 Val Loss: 0.4922\n"
     ]
    },
    {
     "name": "stderr",
     "output_type": "stream",
     "text": [
      "c:\\Users\\User\\anaconda3\\envs\\ENVGAT\\lib\\site-packages\\optuna\\trial\\_trial.py:501: UserWarning: The reported value is ignored because this `step` 246 is already reported.\n",
      "  warnings.warn(\n"
     ]
    },
    {
     "name": "stdout",
     "output_type": "stream",
     "text": [
      "Epoch 247 | Fold 4 | Train Acc: 0.6150 | Val Acc: 0.6735 | Train loss: 0.6174 Val Loss: 0.4920\n"
     ]
    },
    {
     "name": "stderr",
     "output_type": "stream",
     "text": [
      "c:\\Users\\User\\anaconda3\\envs\\ENVGAT\\lib\\site-packages\\optuna\\trial\\_trial.py:501: UserWarning: The reported value is ignored because this `step` 247 is already reported.\n",
      "  warnings.warn(\n"
     ]
    },
    {
     "name": "stdout",
     "output_type": "stream",
     "text": [
      "Epoch 248 | Fold 4 | Train Acc: 0.6098 | Val Acc: 0.6735 | Train loss: 0.6237 Val Loss: 0.4919\n"
     ]
    },
    {
     "name": "stderr",
     "output_type": "stream",
     "text": [
      "c:\\Users\\User\\anaconda3\\envs\\ENVGAT\\lib\\site-packages\\optuna\\trial\\_trial.py:501: UserWarning: The reported value is ignored because this `step` 248 is already reported.\n",
      "  warnings.warn(\n"
     ]
    },
    {
     "name": "stdout",
     "output_type": "stream",
     "text": [
      "Epoch 249 | Fold 4 | Train Acc: 0.6161 | Val Acc: 0.6735 | Train loss: 0.6200 Val Loss: 0.4914\n"
     ]
    },
    {
     "name": "stderr",
     "output_type": "stream",
     "text": [
      "c:\\Users\\User\\anaconda3\\envs\\ENVGAT\\lib\\site-packages\\optuna\\trial\\_trial.py:501: UserWarning: The reported value is ignored because this `step` 249 is already reported.\n",
      "  warnings.warn(\n"
     ]
    },
    {
     "name": "stdout",
     "output_type": "stream",
     "text": [
      "Epoch 250 | Fold 4 | Train Acc: 0.6008 | Val Acc: 0.6735 | Train loss: 0.6327 Val Loss: 0.4914\n"
     ]
    },
    {
     "name": "stderr",
     "output_type": "stream",
     "text": [
      "c:\\Users\\User\\anaconda3\\envs\\ENVGAT\\lib\\site-packages\\optuna\\trial\\_trial.py:501: UserWarning: The reported value is ignored because this `step` 250 is already reported.\n",
      "  warnings.warn(\n"
     ]
    },
    {
     "name": "stdout",
     "output_type": "stream",
     "text": [
      "Epoch 251 | Fold 4 | Train Acc: 0.6103 | Val Acc: 0.6735 | Train loss: 0.6213 Val Loss: 0.4913\n"
     ]
    },
    {
     "name": "stderr",
     "output_type": "stream",
     "text": [
      "c:\\Users\\User\\anaconda3\\envs\\ENVGAT\\lib\\site-packages\\optuna\\trial\\_trial.py:501: UserWarning: The reported value is ignored because this `step` 251 is already reported.\n",
      "  warnings.warn(\n"
     ]
    },
    {
     "name": "stdout",
     "output_type": "stream",
     "text": [
      "Epoch 252 | Fold 4 | Train Acc: 0.5982 | Val Acc: 0.6735 | Train loss: 0.6387 Val Loss: 0.4914\n"
     ]
    },
    {
     "name": "stderr",
     "output_type": "stream",
     "text": [
      "c:\\Users\\User\\anaconda3\\envs\\ENVGAT\\lib\\site-packages\\optuna\\trial\\_trial.py:501: UserWarning: The reported value is ignored because this `step` 252 is already reported.\n",
      "  warnings.warn(\n"
     ]
    },
    {
     "name": "stdout",
     "output_type": "stream",
     "text": [
      "Epoch 253 | Fold 4 | Train Acc: 0.6134 | Val Acc: 0.6735 | Train loss: 0.6105 Val Loss: 0.4914\n"
     ]
    },
    {
     "name": "stderr",
     "output_type": "stream",
     "text": [
      "c:\\Users\\User\\anaconda3\\envs\\ENVGAT\\lib\\site-packages\\optuna\\trial\\_trial.py:501: UserWarning: The reported value is ignored because this `step` 253 is already reported.\n",
      "  warnings.warn(\n"
     ]
    },
    {
     "name": "stdout",
     "output_type": "stream",
     "text": [
      "Epoch 254 | Fold 4 | Train Acc: 0.6129 | Val Acc: 0.6735 | Train loss: 0.6172 Val Loss: 0.4913\n"
     ]
    },
    {
     "name": "stderr",
     "output_type": "stream",
     "text": [
      "c:\\Users\\User\\anaconda3\\envs\\ENVGAT\\lib\\site-packages\\optuna\\trial\\_trial.py:501: UserWarning: The reported value is ignored because this `step` 254 is already reported.\n",
      "  warnings.warn(\n"
     ]
    },
    {
     "name": "stdout",
     "output_type": "stream",
     "text": [
      "Epoch 255 | Fold 4 | Train Acc: 0.6250 | Val Acc: 0.6735 | Train loss: 0.6109 Val Loss: 0.4911\n"
     ]
    },
    {
     "name": "stderr",
     "output_type": "stream",
     "text": [
      "c:\\Users\\User\\anaconda3\\envs\\ENVGAT\\lib\\site-packages\\optuna\\trial\\_trial.py:501: UserWarning: The reported value is ignored because this `step` 255 is already reported.\n",
      "  warnings.warn(\n"
     ]
    },
    {
     "name": "stdout",
     "output_type": "stream",
     "text": [
      "Epoch 256 | Fold 4 | Train Acc: 0.6056 | Val Acc: 0.6735 | Train loss: 0.6224 Val Loss: 0.4911\n"
     ]
    },
    {
     "name": "stderr",
     "output_type": "stream",
     "text": [
      "c:\\Users\\User\\anaconda3\\envs\\ENVGAT\\lib\\site-packages\\optuna\\trial\\_trial.py:501: UserWarning: The reported value is ignored because this `step` 256 is already reported.\n",
      "  warnings.warn(\n"
     ]
    },
    {
     "name": "stdout",
     "output_type": "stream",
     "text": [
      "Epoch 257 | Fold 4 | Train Acc: 0.6166 | Val Acc: 0.6735 | Train loss: 0.6177 Val Loss: 0.4914\n"
     ]
    },
    {
     "name": "stderr",
     "output_type": "stream",
     "text": [
      "c:\\Users\\User\\anaconda3\\envs\\ENVGAT\\lib\\site-packages\\optuna\\trial\\_trial.py:501: UserWarning: The reported value is ignored because this `step` 257 is already reported.\n",
      "  warnings.warn(\n"
     ]
    },
    {
     "name": "stdout",
     "output_type": "stream",
     "text": [
      "Epoch 258 | Fold 4 | Train Acc: 0.6014 | Val Acc: 0.6735 | Train loss: 0.6132 Val Loss: 0.4913\n"
     ]
    },
    {
     "name": "stderr",
     "output_type": "stream",
     "text": [
      "c:\\Users\\User\\anaconda3\\envs\\ENVGAT\\lib\\site-packages\\optuna\\trial\\_trial.py:501: UserWarning: The reported value is ignored because this `step` 258 is already reported.\n",
      "  warnings.warn(\n"
     ]
    },
    {
     "name": "stdout",
     "output_type": "stream",
     "text": [
      "Epoch 259 | Fold 4 | Train Acc: 0.6261 | Val Acc: 0.6735 | Train loss: 0.6231 Val Loss: 0.4912\n"
     ]
    },
    {
     "name": "stderr",
     "output_type": "stream",
     "text": [
      "c:\\Users\\User\\anaconda3\\envs\\ENVGAT\\lib\\site-packages\\optuna\\trial\\_trial.py:501: UserWarning: The reported value is ignored because this `step` 259 is already reported.\n",
      "  warnings.warn(\n"
     ]
    },
    {
     "name": "stdout",
     "output_type": "stream",
     "text": [
      "Epoch 260 | Fold 4 | Train Acc: 0.6082 | Val Acc: 0.6735 | Train loss: 0.6249 Val Loss: 0.4917\n"
     ]
    },
    {
     "name": "stderr",
     "output_type": "stream",
     "text": [
      "c:\\Users\\User\\anaconda3\\envs\\ENVGAT\\lib\\site-packages\\optuna\\trial\\_trial.py:501: UserWarning: The reported value is ignored because this `step` 260 is already reported.\n",
      "  warnings.warn(\n"
     ]
    },
    {
     "name": "stdout",
     "output_type": "stream",
     "text": [
      "Epoch 261 | Fold 4 | Train Acc: 0.5998 | Val Acc: 0.6735 | Train loss: 0.6199 Val Loss: 0.4913\n"
     ]
    },
    {
     "name": "stderr",
     "output_type": "stream",
     "text": [
      "c:\\Users\\User\\anaconda3\\envs\\ENVGAT\\lib\\site-packages\\optuna\\trial\\_trial.py:501: UserWarning: The reported value is ignored because this `step` 261 is already reported.\n",
      "  warnings.warn(\n"
     ]
    },
    {
     "name": "stdout",
     "output_type": "stream",
     "text": [
      "Epoch 262 | Fold 4 | Train Acc: 0.5998 | Val Acc: 0.6735 | Train loss: 0.6433 Val Loss: 0.4910\n"
     ]
    },
    {
     "name": "stderr",
     "output_type": "stream",
     "text": [
      "c:\\Users\\User\\anaconda3\\envs\\ENVGAT\\lib\\site-packages\\optuna\\trial\\_trial.py:501: UserWarning: The reported value is ignored because this `step` 262 is already reported.\n",
      "  warnings.warn(\n"
     ]
    },
    {
     "name": "stdout",
     "output_type": "stream",
     "text": [
      "Epoch 263 | Fold 4 | Train Acc: 0.6113 | Val Acc: 0.6735 | Train loss: 0.6382 Val Loss: 0.4914\n"
     ]
    },
    {
     "name": "stderr",
     "output_type": "stream",
     "text": [
      "c:\\Users\\User\\anaconda3\\envs\\ENVGAT\\lib\\site-packages\\optuna\\trial\\_trial.py:501: UserWarning: The reported value is ignored because this `step` 263 is already reported.\n",
      "  warnings.warn(\n"
     ]
    },
    {
     "name": "stdout",
     "output_type": "stream",
     "text": [
      "Epoch 264 | Fold 4 | Train Acc: 0.5966 | Val Acc: 0.6735 | Train loss: 0.6251 Val Loss: 0.4910\n"
     ]
    },
    {
     "name": "stderr",
     "output_type": "stream",
     "text": [
      "c:\\Users\\User\\anaconda3\\envs\\ENVGAT\\lib\\site-packages\\optuna\\trial\\_trial.py:501: UserWarning: The reported value is ignored because this `step` 264 is already reported.\n",
      "  warnings.warn(\n"
     ]
    },
    {
     "name": "stdout",
     "output_type": "stream",
     "text": [
      "Epoch 265 | Fold 4 | Train Acc: 0.6087 | Val Acc: 0.6735 | Train loss: 0.6096 Val Loss: 0.4914\n"
     ]
    },
    {
     "name": "stderr",
     "output_type": "stream",
     "text": [
      "c:\\Users\\User\\anaconda3\\envs\\ENVGAT\\lib\\site-packages\\optuna\\trial\\_trial.py:501: UserWarning: The reported value is ignored because this `step` 265 is already reported.\n",
      "  warnings.warn(\n"
     ]
    },
    {
     "name": "stdout",
     "output_type": "stream",
     "text": [
      "Epoch 266 | Fold 4 | Train Acc: 0.6192 | Val Acc: 0.6735 | Train loss: 0.6185 Val Loss: 0.4911\n"
     ]
    },
    {
     "name": "stderr",
     "output_type": "stream",
     "text": [
      "c:\\Users\\User\\anaconda3\\envs\\ENVGAT\\lib\\site-packages\\optuna\\trial\\_trial.py:501: UserWarning: The reported value is ignored because this `step` 266 is already reported.\n",
      "  warnings.warn(\n"
     ]
    },
    {
     "name": "stdout",
     "output_type": "stream",
     "text": [
      "Epoch 267 | Fold 4 | Train Acc: 0.6197 | Val Acc: 0.6735 | Train loss: 0.6023 Val Loss: 0.4909\n"
     ]
    },
    {
     "name": "stderr",
     "output_type": "stream",
     "text": [
      "c:\\Users\\User\\anaconda3\\envs\\ENVGAT\\lib\\site-packages\\optuna\\trial\\_trial.py:501: UserWarning: The reported value is ignored because this `step` 267 is already reported.\n",
      "  warnings.warn(\n"
     ]
    },
    {
     "name": "stdout",
     "output_type": "stream",
     "text": [
      "Epoch 268 | Fold 4 | Train Acc: 0.6045 | Val Acc: 0.6735 | Train loss: 0.5944 Val Loss: 0.4910\n"
     ]
    },
    {
     "name": "stderr",
     "output_type": "stream",
     "text": [
      "c:\\Users\\User\\anaconda3\\envs\\ENVGAT\\lib\\site-packages\\optuna\\trial\\_trial.py:501: UserWarning: The reported value is ignored because this `step` 268 is already reported.\n",
      "  warnings.warn(\n"
     ]
    },
    {
     "name": "stdout",
     "output_type": "stream",
     "text": [
      "Epoch 269 | Fold 4 | Train Acc: 0.6176 | Val Acc: 0.6735 | Train loss: 0.6169 Val Loss: 0.4912\n"
     ]
    },
    {
     "name": "stderr",
     "output_type": "stream",
     "text": [
      "c:\\Users\\User\\anaconda3\\envs\\ENVGAT\\lib\\site-packages\\optuna\\trial\\_trial.py:501: UserWarning: The reported value is ignored because this `step` 269 is already reported.\n",
      "  warnings.warn(\n"
     ]
    },
    {
     "name": "stdout",
     "output_type": "stream",
     "text": [
      "Epoch 270 | Fold 4 | Train Acc: 0.6145 | Val Acc: 0.6735 | Train loss: 0.6307 Val Loss: 0.4910\n"
     ]
    },
    {
     "name": "stderr",
     "output_type": "stream",
     "text": [
      "c:\\Users\\User\\anaconda3\\envs\\ENVGAT\\lib\\site-packages\\optuna\\trial\\_trial.py:501: UserWarning: The reported value is ignored because this `step` 270 is already reported.\n",
      "  warnings.warn(\n"
     ]
    },
    {
     "name": "stdout",
     "output_type": "stream",
     "text": [
      "Epoch 271 | Fold 4 | Train Acc: 0.6145 | Val Acc: 0.6735 | Train loss: 0.5989 Val Loss: 0.4910\n"
     ]
    },
    {
     "name": "stderr",
     "output_type": "stream",
     "text": [
      "c:\\Users\\User\\anaconda3\\envs\\ENVGAT\\lib\\site-packages\\optuna\\trial\\_trial.py:501: UserWarning: The reported value is ignored because this `step` 271 is already reported.\n",
      "  warnings.warn(\n"
     ]
    },
    {
     "name": "stdout",
     "output_type": "stream",
     "text": [
      "Epoch 272 | Fold 4 | Train Acc: 0.6218 | Val Acc: 0.6735 | Train loss: 0.5928 Val Loss: 0.4903\n"
     ]
    },
    {
     "name": "stderr",
     "output_type": "stream",
     "text": [
      "c:\\Users\\User\\anaconda3\\envs\\ENVGAT\\lib\\site-packages\\optuna\\trial\\_trial.py:501: UserWarning: The reported value is ignored because this `step` 272 is already reported.\n",
      "  warnings.warn(\n"
     ]
    },
    {
     "name": "stdout",
     "output_type": "stream",
     "text": [
      "Epoch 273 | Fold 4 | Train Acc: 0.6134 | Val Acc: 0.6735 | Train loss: 0.6207 Val Loss: 0.4904\n"
     ]
    },
    {
     "name": "stderr",
     "output_type": "stream",
     "text": [
      "c:\\Users\\User\\anaconda3\\envs\\ENVGAT\\lib\\site-packages\\optuna\\trial\\_trial.py:501: UserWarning: The reported value is ignored because this `step` 273 is already reported.\n",
      "  warnings.warn(\n"
     ]
    },
    {
     "name": "stdout",
     "output_type": "stream",
     "text": [
      "Epoch 274 | Fold 4 | Train Acc: 0.6171 | Val Acc: 0.6735 | Train loss: 0.5915 Val Loss: 0.4903\n"
     ]
    },
    {
     "name": "stderr",
     "output_type": "stream",
     "text": [
      "c:\\Users\\User\\anaconda3\\envs\\ENVGAT\\lib\\site-packages\\optuna\\trial\\_trial.py:501: UserWarning: The reported value is ignored because this `step` 274 is already reported.\n",
      "  warnings.warn(\n"
     ]
    },
    {
     "name": "stdout",
     "output_type": "stream",
     "text": [
      "Epoch 275 | Fold 4 | Train Acc: 0.6108 | Val Acc: 0.6735 | Train loss: 0.6267 Val Loss: 0.4904\n"
     ]
    },
    {
     "name": "stderr",
     "output_type": "stream",
     "text": [
      "c:\\Users\\User\\anaconda3\\envs\\ENVGAT\\lib\\site-packages\\optuna\\trial\\_trial.py:501: UserWarning: The reported value is ignored because this `step` 275 is already reported.\n",
      "  warnings.warn(\n"
     ]
    },
    {
     "name": "stdout",
     "output_type": "stream",
     "text": [
      "Epoch 276 | Fold 4 | Train Acc: 0.6029 | Val Acc: 0.6735 | Train loss: 0.6288 Val Loss: 0.4900\n"
     ]
    },
    {
     "name": "stderr",
     "output_type": "stream",
     "text": [
      "c:\\Users\\User\\anaconda3\\envs\\ENVGAT\\lib\\site-packages\\optuna\\trial\\_trial.py:501: UserWarning: The reported value is ignored because this `step` 276 is already reported.\n",
      "  warnings.warn(\n"
     ]
    },
    {
     "name": "stdout",
     "output_type": "stream",
     "text": [
      "Epoch 277 | Fold 4 | Train Acc: 0.6113 | Val Acc: 0.6735 | Train loss: 0.6276 Val Loss: 0.4903\n"
     ]
    },
    {
     "name": "stderr",
     "output_type": "stream",
     "text": [
      "c:\\Users\\User\\anaconda3\\envs\\ENVGAT\\lib\\site-packages\\optuna\\trial\\_trial.py:501: UserWarning: The reported value is ignored because this `step` 277 is already reported.\n",
      "  warnings.warn(\n"
     ]
    },
    {
     "name": "stdout",
     "output_type": "stream",
     "text": [
      "Epoch 278 | Fold 4 | Train Acc: 0.6166 | Val Acc: 0.6735 | Train loss: 0.6379 Val Loss: 0.4903\n"
     ]
    },
    {
     "name": "stderr",
     "output_type": "stream",
     "text": [
      "c:\\Users\\User\\anaconda3\\envs\\ENVGAT\\lib\\site-packages\\optuna\\trial\\_trial.py:501: UserWarning: The reported value is ignored because this `step` 278 is already reported.\n",
      "  warnings.warn(\n"
     ]
    },
    {
     "name": "stdout",
     "output_type": "stream",
     "text": [
      "Epoch 279 | Fold 4 | Train Acc: 0.6092 | Val Acc: 0.6735 | Train loss: 0.5997 Val Loss: 0.4907\n"
     ]
    },
    {
     "name": "stderr",
     "output_type": "stream",
     "text": [
      "c:\\Users\\User\\anaconda3\\envs\\ENVGAT\\lib\\site-packages\\optuna\\trial\\_trial.py:501: UserWarning: The reported value is ignored because this `step` 279 is already reported.\n",
      "  warnings.warn(\n"
     ]
    },
    {
     "name": "stdout",
     "output_type": "stream",
     "text": [
      "Epoch 280 | Fold 4 | Train Acc: 0.6103 | Val Acc: 0.6735 | Train loss: 0.6116 Val Loss: 0.4902\n",
      "Epoch 281 | Fold 4 | Train Acc: 0.6108 | Val Acc: 0.6735 | Train loss: 0.6133 Val Loss: 0.4903\n",
      "Epoch 282 | Fold 4 | Train Acc: 0.6287 | Val Acc: 0.6735 | Train loss: 0.6014 Val Loss: 0.4900\n",
      "Epoch 283 | Fold 4 | Train Acc: 0.6134 | Val Acc: 0.6735 | Train loss: 0.5970 Val Loss: 0.4898\n",
      "Epoch 284 | Fold 4 | Train Acc: 0.6129 | Val Acc: 0.6735 | Train loss: 0.6376 Val Loss: 0.4897\n",
      "Epoch 285 | Fold 4 | Train Acc: 0.6187 | Val Acc: 0.6735 | Train loss: 0.6160 Val Loss: 0.4903\n",
      "Epoch 286 | Fold 4 | Train Acc: 0.6124 | Val Acc: 0.6735 | Train loss: 0.5907 Val Loss: 0.4903\n",
      "Epoch 287 | Fold 4 | Train Acc: 0.6276 | Val Acc: 0.6735 | Train loss: 0.6018 Val Loss: 0.4906\n",
      "Epoch 288 | Fold 4 | Train Acc: 0.6124 | Val Acc: 0.6735 | Train loss: 0.6047 Val Loss: 0.4901\n",
      "Epoch 289 | Fold 4 | Train Acc: 0.6282 | Val Acc: 0.6735 | Train loss: 0.5961 Val Loss: 0.4898\n",
      "Epoch 290 | Fold 4 | Train Acc: 0.6040 | Val Acc: 0.6735 | Train loss: 0.6209 Val Loss: 0.4895\n",
      "Epoch 291 | Fold 4 | Train Acc: 0.6282 | Val Acc: 0.6735 | Train loss: 0.6124 Val Loss: 0.4898\n",
      "Epoch 292 | Fold 4 | Train Acc: 0.6019 | Val Acc: 0.6735 | Train loss: 0.6355 Val Loss: 0.4901\n",
      "Epoch 293 | Fold 4 | Train Acc: 0.6108 | Val Acc: 0.6735 | Train loss: 0.6210 Val Loss: 0.4901\n",
      "Epoch 294 | Fold 4 | Train Acc: 0.6197 | Val Acc: 0.6735 | Train loss: 0.6083 Val Loss: 0.4906\n",
      "Epoch 295 | Fold 4 | Train Acc: 0.6050 | Val Acc: 0.6735 | Train loss: 0.6471 Val Loss: 0.4906\n",
      "Epoch 296 | Fold 4 | Train Acc: 0.6124 | Val Acc: 0.6735 | Train loss: 0.6292 Val Loss: 0.4907\n",
      "Epoch 297 | Fold 4 | Train Acc: 0.6071 | Val Acc: 0.6735 | Train loss: 0.6028 Val Loss: 0.4905\n",
      "Epoch 298 | Fold 4 | Train Acc: 0.6124 | Val Acc: 0.6735 | Train loss: 0.6075 Val Loss: 0.4908\n",
      "Epoch 299 | Fold 4 | Train Acc: 0.6213 | Val Acc: 0.6735 | Train loss: 0.6066 Val Loss: 0.4908\n",
      "Epoch 300 | Fold 4 | Train Acc: 0.6113 | Val Acc: 0.6735 | Train loss: 0.6057 Val Loss: 0.4906\n",
      "Epoch 301 | Fold 4 | Train Acc: 0.6140 | Val Acc: 0.6735 | Train loss: 0.5972 Val Loss: 0.4906\n",
      "Epoch 302 | Fold 4 | Train Acc: 0.6245 | Val Acc: 0.6735 | Train loss: 0.6066 Val Loss: 0.4905\n",
      "Epoch 303 | Fold 4 | Train Acc: 0.6203 | Val Acc: 0.6735 | Train loss: 0.6327 Val Loss: 0.4906\n",
      "Epoch 304 | Fold 4 | Train Acc: 0.6113 | Val Acc: 0.6735 | Train loss: 0.6212 Val Loss: 0.4909\n",
      "Epoch 305 | Fold 4 | Train Acc: 0.6229 | Val Acc: 0.6735 | Train loss: 0.6072 Val Loss: 0.4910\n",
      "Epoch 306 | Fold 4 | Train Acc: 0.6261 | Val Acc: 0.6735 | Train loss: 0.5999 Val Loss: 0.4906\n",
      "Epoch 307 | Fold 4 | Train Acc: 0.6108 | Val Acc: 0.6735 | Train loss: 0.6155 Val Loss: 0.4907\n",
      "Epoch 308 | Fold 4 | Train Acc: 0.6197 | Val Acc: 0.6735 | Train loss: 0.6122 Val Loss: 0.4904\n",
      "Epoch 309 | Fold 4 | Train Acc: 0.6171 | Val Acc: 0.6735 | Train loss: 0.6051 Val Loss: 0.4903\n",
      "Epoch 310 | Fold 4 | Train Acc: 0.6119 | Val Acc: 0.6735 | Train loss: 0.6380 Val Loss: 0.4904\n",
      "Epoch 311 | Fold 4 | Train Acc: 0.6066 | Val Acc: 0.6735 | Train loss: 0.6108 Val Loss: 0.4904\n",
      "Epoch 312 | Fold 4 | Train Acc: 0.6161 | Val Acc: 0.6735 | Train loss: 0.6023 Val Loss: 0.4902\n",
      "Epoch 313 | Fold 4 | Train Acc: 0.6271 | Val Acc: 0.6735 | Train loss: 0.6018 Val Loss: 0.4902\n",
      "Epoch 314 | Fold 4 | Train Acc: 0.6261 | Val Acc: 0.6735 | Train loss: 0.6025 Val Loss: 0.4902\n",
      "Epoch 315 | Fold 4 | Train Acc: 0.6155 | Val Acc: 0.6735 | Train loss: 0.5971 Val Loss: 0.4903\n",
      "Epoch 316 | Fold 4 | Train Acc: 0.6182 | Val Acc: 0.6735 | Train loss: 0.5989 Val Loss: 0.4902\n",
      "Epoch 317 | Fold 4 | Train Acc: 0.6113 | Val Acc: 0.6735 | Train loss: 0.6270 Val Loss: 0.4902\n",
      "Epoch 318 | Fold 4 | Train Acc: 0.6140 | Val Acc: 0.6735 | Train loss: 0.6216 Val Loss: 0.4903\n",
      "Epoch 319 | Fold 4 | Train Acc: 0.6145 | Val Acc: 0.6735 | Train loss: 0.5919 Val Loss: 0.4903\n",
      "Epoch 320 | Fold 4 | Train Acc: 0.6171 | Val Acc: 0.6735 | Train loss: 0.6016 Val Loss: 0.4903\n",
      " Early stopping at epoch 320 for fold 4\n",
      " Fold 4: Best Val Acc = 0.6735\n",
      "Epoch 001 | Fold 5 | Train Acc: 0.1644 | Val Acc: 0.1131 | Train loss: 1.3897 Val Loss: 1.3932\n",
      "Epoch 002 | Fold 5 | Train Acc: 0.1740 | Val Acc: 0.1166 | Train loss: 1.3805 Val Loss: 1.3842\n",
      "Epoch 003 | Fold 5 | Train Acc: 0.1852 | Val Acc: 0.1166 | Train loss: 1.3731 Val Loss: 1.3724\n",
      "Epoch 004 | Fold 5 | Train Acc: 0.2196 | Val Acc: 0.1890 | Train loss: 1.3651 Val Loss: 1.3650\n",
      "Epoch 005 | Fold 5 | Train Acc: 0.2568 | Val Acc: 0.2173 | Train loss: 1.3554 Val Loss: 1.3584\n",
      "Epoch 006 | Fold 5 | Train Acc: 0.2630 | Val Acc: 0.3233 | Train loss: 1.3469 Val Loss: 1.3485\n",
      "Epoch 007 | Fold 5 | Train Acc: 0.2832 | Val Acc: 0.4134 | Train loss: 1.3388 Val Loss: 1.3345\n",
      "Epoch 008 | Fold 5 | Train Acc: 0.3215 | Val Acc: 0.4223 | Train loss: 1.3209 Val Loss: 1.3212\n",
      "Epoch 009 | Fold 5 | Train Acc: 0.3446 | Val Acc: 0.4435 | Train loss: 1.3031 Val Loss: 1.3028\n",
      "Epoch 010 | Fold 5 | Train Acc: 0.3727 | Val Acc: 0.4170 | Train loss: 1.2790 Val Loss: 1.2770\n",
      "Epoch 011 | Fold 5 | Train Acc: 0.4048 | Val Acc: 0.4258 | Train loss: 1.2385 Val Loss: 1.2478\n",
      "Epoch 012 | Fold 5 | Train Acc: 0.4003 | Val Acc: 0.4187 | Train loss: 1.2191 Val Loss: 1.2155\n",
      "Epoch 013 | Fold 5 | Train Acc: 0.4155 | Val Acc: 0.3993 | Train loss: 1.1685 Val Loss: 1.1825\n",
      "Epoch 014 | Fold 5 | Train Acc: 0.4167 | Val Acc: 0.4046 | Train loss: 1.1344 Val Loss: 1.1480\n",
      "Epoch 015 | Fold 5 | Train Acc: 0.4336 | Val Acc: 0.4152 | Train loss: 1.0901 Val Loss: 1.1135\n",
      "Epoch 016 | Fold 5 | Train Acc: 0.4521 | Val Acc: 0.4329 | Train loss: 1.0761 Val Loss: 1.0753\n",
      "Epoch 017 | Fold 5 | Train Acc: 0.4859 | Val Acc: 0.4258 | Train loss: 1.0484 Val Loss: 1.0492\n",
      "Epoch 018 | Fold 5 | Train Acc: 0.4493 | Val Acc: 0.4046 | Train loss: 1.0342 Val Loss: 1.0235\n",
      "Epoch 019 | Fold 5 | Train Acc: 0.4961 | Val Acc: 0.4134 | Train loss: 0.9751 Val Loss: 0.9944\n",
      "Epoch 020 | Fold 5 | Train Acc: 0.4764 | Val Acc: 0.4134 | Train loss: 0.9712 Val Loss: 0.9710\n",
      "Epoch 021 | Fold 5 | Train Acc: 0.4961 | Val Acc: 0.4223 | Train loss: 0.9744 Val Loss: 0.9508\n",
      "Epoch 022 | Fold 5 | Train Acc: 0.5282 | Val Acc: 0.4152 | Train loss: 0.8987 Val Loss: 0.9325\n",
      "Epoch 023 | Fold 5 | Train Acc: 0.5332 | Val Acc: 0.4223 | Train loss: 0.9192 Val Loss: 0.9026\n",
      "Epoch 024 | Fold 5 | Train Acc: 0.5411 | Val Acc: 0.4223 | Train loss: 0.8864 Val Loss: 0.8955\n",
      "Epoch 025 | Fold 5 | Train Acc: 0.5327 | Val Acc: 0.4240 | Train loss: 0.8928 Val Loss: 0.8748\n",
      "Epoch 026 | Fold 5 | Train Acc: 0.5417 | Val Acc: 0.4399 | Train loss: 0.8748 Val Loss: 0.8609\n",
      "Epoch 027 | Fold 5 | Train Acc: 0.5636 | Val Acc: 0.4399 | Train loss: 0.8406 Val Loss: 0.8381\n",
      "Epoch 028 | Fold 5 | Train Acc: 0.5569 | Val Acc: 0.4417 | Train loss: 0.8513 Val Loss: 0.8408\n",
      "Epoch 029 | Fold 5 | Train Acc: 0.5490 | Val Acc: 0.4417 | Train loss: 0.8377 Val Loss: 0.8323\n",
      "Epoch 030 | Fold 5 | Train Acc: 0.5524 | Val Acc: 0.4505 | Train loss: 0.8065 Val Loss: 0.8273\n",
      "Epoch 031 | Fold 5 | Train Acc: 0.5659 | Val Acc: 0.4541 | Train loss: 0.8119 Val Loss: 0.8140\n",
      "Epoch 032 | Fold 5 | Train Acc: 0.5541 | Val Acc: 0.4505 | Train loss: 0.8224 Val Loss: 0.8175\n",
      "Epoch 033 | Fold 5 | Train Acc: 0.5546 | Val Acc: 0.4523 | Train loss: 0.8027 Val Loss: 0.8038\n",
      "Epoch 034 | Fold 5 | Train Acc: 0.5552 | Val Acc: 0.4576 | Train loss: 0.7947 Val Loss: 0.7913\n",
      "Epoch 035 | Fold 5 | Train Acc: 0.5648 | Val Acc: 0.4717 | Train loss: 0.7879 Val Loss: 0.7861\n",
      "Epoch 036 | Fold 5 | Train Acc: 0.5749 | Val Acc: 0.4700 | Train loss: 0.7820 Val Loss: 0.7762\n",
      "Epoch 037 | Fold 5 | Train Acc: 0.5760 | Val Acc: 0.4629 | Train loss: 0.7862 Val Loss: 0.7788\n",
      "Epoch 038 | Fold 5 | Train Acc: 0.5546 | Val Acc: 0.4629 | Train loss: 0.7876 Val Loss: 0.7757\n",
      "Epoch 039 | Fold 5 | Train Acc: 0.5597 | Val Acc: 0.4629 | Train loss: 0.7838 Val Loss: 0.7605\n",
      "Epoch 040 | Fold 5 | Train Acc: 0.5625 | Val Acc: 0.4629 | Train loss: 0.7657 Val Loss: 0.7611\n",
      "Epoch 041 | Fold 5 | Train Acc: 0.5664 | Val Acc: 0.4629 | Train loss: 0.7666 Val Loss: 0.7560\n",
      "Epoch 042 | Fold 5 | Train Acc: 0.5856 | Val Acc: 0.4700 | Train loss: 0.7470 Val Loss: 0.7500\n",
      "Epoch 043 | Fold 5 | Train Acc: 0.5828 | Val Acc: 0.4735 | Train loss: 0.7594 Val Loss: 0.7468\n",
      "Epoch 044 | Fold 5 | Train Acc: 0.5923 | Val Acc: 0.4735 | Train loss: 0.7478 Val Loss: 0.7400\n",
      "Epoch 045 | Fold 5 | Train Acc: 0.5907 | Val Acc: 0.4700 | Train loss: 0.7564 Val Loss: 0.7393\n",
      "Epoch 046 | Fold 5 | Train Acc: 0.5890 | Val Acc: 0.4611 | Train loss: 0.7589 Val Loss: 0.7362\n",
      "Epoch 047 | Fold 5 | Train Acc: 0.5940 | Val Acc: 0.4611 | Train loss: 0.7191 Val Loss: 0.7414\n",
      "Epoch 048 | Fold 5 | Train Acc: 0.5811 | Val Acc: 0.4735 | Train loss: 0.7408 Val Loss: 0.7309\n",
      "Epoch 049 | Fold 5 | Train Acc: 0.5929 | Val Acc: 0.4735 | Train loss: 0.7083 Val Loss: 0.7246\n",
      "Epoch 050 | Fold 5 | Train Acc: 0.5963 | Val Acc: 0.4735 | Train loss: 0.7309 Val Loss: 0.7280\n",
      "Epoch 051 | Fold 5 | Train Acc: 0.5822 | Val Acc: 0.4735 | Train loss: 0.7155 Val Loss: 0.7298\n",
      "Epoch 052 | Fold 5 | Train Acc: 0.5940 | Val Acc: 0.4735 | Train loss: 0.7120 Val Loss: 0.7180\n",
      "Epoch 053 | Fold 5 | Train Acc: 0.5985 | Val Acc: 0.4735 | Train loss: 0.7262 Val Loss: 0.7225\n",
      "Epoch 054 | Fold 5 | Train Acc: 0.5816 | Val Acc: 0.4735 | Train loss: 0.7085 Val Loss: 0.7224\n",
      "Epoch 055 | Fold 5 | Train Acc: 0.6053 | Val Acc: 0.4735 | Train loss: 0.7133 Val Loss: 0.7214\n",
      "Epoch 056 | Fold 5 | Train Acc: 0.6042 | Val Acc: 0.4735 | Train loss: 0.7246 Val Loss: 0.7079\n",
      "Epoch 057 | Fold 5 | Train Acc: 0.5890 | Val Acc: 0.4735 | Train loss: 0.7401 Val Loss: 0.7070\n",
      "Epoch 058 | Fold 5 | Train Acc: 0.6059 | Val Acc: 0.4735 | Train loss: 0.7123 Val Loss: 0.7019\n",
      "Epoch 059 | Fold 5 | Train Acc: 0.5963 | Val Acc: 0.4735 | Train loss: 0.7056 Val Loss: 0.7076\n",
      "Epoch 060 | Fold 5 | Train Acc: 0.5867 | Val Acc: 0.4735 | Train loss: 0.7239 Val Loss: 0.7010\n",
      "Epoch 061 | Fold 5 | Train Acc: 0.6160 | Val Acc: 0.4682 | Train loss: 0.7060 Val Loss: 0.6981\n",
      "Epoch 062 | Fold 5 | Train Acc: 0.6030 | Val Acc: 0.4682 | Train loss: 0.7069 Val Loss: 0.7018\n",
      "Epoch 063 | Fold 5 | Train Acc: 0.5968 | Val Acc: 0.4717 | Train loss: 0.7008 Val Loss: 0.7048\n",
      "Epoch 064 | Fold 5 | Train Acc: 0.6166 | Val Acc: 0.4717 | Train loss: 0.6983 Val Loss: 0.7012\n",
      "Epoch 065 | Fold 5 | Train Acc: 0.6053 | Val Acc: 0.4717 | Train loss: 0.6907 Val Loss: 0.6959\n",
      "Epoch 066 | Fold 5 | Train Acc: 0.5968 | Val Acc: 0.4929 | Train loss: 0.6894 Val Loss: 0.6859\n",
      "Epoch 067 | Fold 5 | Train Acc: 0.6182 | Val Acc: 0.4717 | Train loss: 0.6861 Val Loss: 0.6896\n",
      "Epoch 068 | Fold 5 | Train Acc: 0.5929 | Val Acc: 0.4965 | Train loss: 0.6912 Val Loss: 0.6870\n",
      "Epoch 069 | Fold 5 | Train Acc: 0.5991 | Val Acc: 0.4664 | Train loss: 0.6912 Val Loss: 0.6922\n",
      "Epoch 070 | Fold 5 | Train Acc: 0.6109 | Val Acc: 0.4982 | Train loss: 0.7062 Val Loss: 0.6841\n",
      "Epoch 071 | Fold 5 | Train Acc: 0.6030 | Val Acc: 0.4929 | Train loss: 0.6958 Val Loss: 0.6875\n",
      "Epoch 072 | Fold 5 | Train Acc: 0.5963 | Val Acc: 0.4859 | Train loss: 0.6805 Val Loss: 0.6825\n",
      "Epoch 073 | Fold 5 | Train Acc: 0.6149 | Val Acc: 0.4965 | Train loss: 0.6627 Val Loss: 0.6836\n",
      "Epoch 074 | Fold 5 | Train Acc: 0.6025 | Val Acc: 0.4982 | Train loss: 0.6657 Val Loss: 0.6769\n",
      "Epoch 075 | Fold 5 | Train Acc: 0.5985 | Val Acc: 0.4982 | Train loss: 0.6832 Val Loss: 0.6756\n",
      "Epoch 076 | Fold 5 | Train Acc: 0.6143 | Val Acc: 0.4982 | Train loss: 0.6842 Val Loss: 0.6713\n",
      "Epoch 077 | Fold 5 | Train Acc: 0.6188 | Val Acc: 0.4965 | Train loss: 0.6689 Val Loss: 0.6721\n",
      "Epoch 078 | Fold 5 | Train Acc: 0.6143 | Val Acc: 0.4929 | Train loss: 0.6661 Val Loss: 0.6703\n",
      "Epoch 079 | Fold 5 | Train Acc: 0.6261 | Val Acc: 0.4965 | Train loss: 0.6526 Val Loss: 0.6729\n",
      "Epoch 080 | Fold 5 | Train Acc: 0.6166 | Val Acc: 0.5018 | Train loss: 0.6611 Val Loss: 0.6629\n",
      "Epoch 081 | Fold 5 | Train Acc: 0.6109 | Val Acc: 0.5000 | Train loss: 0.6909 Val Loss: 0.6627\n",
      "Epoch 082 | Fold 5 | Train Acc: 0.6177 | Val Acc: 0.5442 | Train loss: 0.6844 Val Loss: 0.6531\n",
      "Epoch 083 | Fold 5 | Train Acc: 0.6098 | Val Acc: 0.5212 | Train loss: 0.6821 Val Loss: 0.6580\n",
      "Epoch 084 | Fold 5 | Train Acc: 0.6216 | Val Acc: 0.4965 | Train loss: 0.6639 Val Loss: 0.6678\n",
      "Epoch 085 | Fold 5 | Train Acc: 0.6059 | Val Acc: 0.5194 | Train loss: 0.6846 Val Loss: 0.6655\n",
      "Epoch 086 | Fold 5 | Train Acc: 0.6182 | Val Acc: 0.4929 | Train loss: 0.6715 Val Loss: 0.6691\n",
      "Epoch 087 | Fold 5 | Train Acc: 0.6154 | Val Acc: 0.5194 | Train loss: 0.6623 Val Loss: 0.6606\n",
      "Epoch 088 | Fold 5 | Train Acc: 0.6115 | Val Acc: 0.5194 | Train loss: 0.6844 Val Loss: 0.6605\n",
      "Epoch 089 | Fold 5 | Train Acc: 0.6227 | Val Acc: 0.5194 | Train loss: 0.6695 Val Loss: 0.6567\n",
      "Epoch 090 | Fold 5 | Train Acc: 0.6329 | Val Acc: 0.5000 | Train loss: 0.6563 Val Loss: 0.6585\n",
      "Epoch 091 | Fold 5 | Train Acc: 0.6171 | Val Acc: 0.5406 | Train loss: 0.6721 Val Loss: 0.6480\n",
      "Epoch 092 | Fold 5 | Train Acc: 0.6295 | Val Acc: 0.5424 | Train loss: 0.6712 Val Loss: 0.6460\n",
      "Epoch 093 | Fold 5 | Train Acc: 0.6205 | Val Acc: 0.5194 | Train loss: 0.6478 Val Loss: 0.6549\n",
      "Epoch 094 | Fold 5 | Train Acc: 0.6098 | Val Acc: 0.5194 | Train loss: 0.6548 Val Loss: 0.6553\n",
      "Epoch 095 | Fold 5 | Train Acc: 0.6171 | Val Acc: 0.5194 | Train loss: 0.6702 Val Loss: 0.6506\n",
      "Epoch 096 | Fold 5 | Train Acc: 0.6098 | Val Acc: 0.5194 | Train loss: 0.6732 Val Loss: 0.6469\n",
      "Epoch 097 | Fold 5 | Train Acc: 0.6143 | Val Acc: 0.5194 | Train loss: 0.6753 Val Loss: 0.6488\n",
      "Epoch 098 | Fold 5 | Train Acc: 0.6284 | Val Acc: 0.5442 | Train loss: 0.6437 Val Loss: 0.6425\n",
      "Epoch 099 | Fold 5 | Train Acc: 0.6227 | Val Acc: 0.5194 | Train loss: 0.6436 Val Loss: 0.6489\n",
      "Epoch 100 | Fold 5 | Train Acc: 0.6211 | Val Acc: 0.5247 | Train loss: 0.6569 Val Loss: 0.6449\n",
      "Epoch 101 | Fold 5 | Train Acc: 0.6233 | Val Acc: 0.5177 | Train loss: 0.6416 Val Loss: 0.6496\n",
      "Epoch 102 | Fold 5 | Train Acc: 0.6323 | Val Acc: 0.5247 | Train loss: 0.6480 Val Loss: 0.6382\n",
      "Epoch 103 | Fold 5 | Train Acc: 0.6188 | Val Acc: 0.5177 | Train loss: 0.6669 Val Loss: 0.6445\n",
      "Epoch 104 | Fold 5 | Train Acc: 0.6380 | Val Acc: 0.5424 | Train loss: 0.6507 Val Loss: 0.6429\n",
      "Epoch 105 | Fold 5 | Train Acc: 0.6430 | Val Acc: 0.5424 | Train loss: 0.6597 Val Loss: 0.6410\n",
      "Epoch 106 | Fold 5 | Train Acc: 0.6261 | Val Acc: 0.5654 | Train loss: 0.6599 Val Loss: 0.6309\n",
      "Epoch 107 | Fold 5 | Train Acc: 0.6329 | Val Acc: 0.5230 | Train loss: 0.6504 Val Loss: 0.6362\n",
      "Epoch 108 | Fold 5 | Train Acc: 0.6199 | Val Acc: 0.5177 | Train loss: 0.6813 Val Loss: 0.6432\n",
      "Epoch 109 | Fold 5 | Train Acc: 0.6374 | Val Acc: 0.5230 | Train loss: 0.6368 Val Loss: 0.6371\n",
      "Epoch 110 | Fold 5 | Train Acc: 0.6312 | Val Acc: 0.5177 | Train loss: 0.6481 Val Loss: 0.6447\n",
      "Epoch 111 | Fold 5 | Train Acc: 0.6267 | Val Acc: 0.5424 | Train loss: 0.6472 Val Loss: 0.6375\n",
      "Epoch 112 | Fold 5 | Train Acc: 0.6329 | Val Acc: 0.5177 | Train loss: 0.6322 Val Loss: 0.6419\n",
      "Epoch 113 | Fold 5 | Train Acc: 0.6323 | Val Acc: 0.5230 | Train loss: 0.6423 Val Loss: 0.6369\n",
      "Epoch 114 | Fold 5 | Train Acc: 0.6120 | Val Acc: 0.5230 | Train loss: 0.6732 Val Loss: 0.6366\n",
      "Epoch 115 | Fold 5 | Train Acc: 0.6132 | Val Acc: 0.5424 | Train loss: 0.6483 Val Loss: 0.6346\n",
      "Epoch 116 | Fold 5 | Train Acc: 0.6334 | Val Acc: 0.5424 | Train loss: 0.6451 Val Loss: 0.6328\n",
      "Epoch 117 | Fold 5 | Train Acc: 0.6340 | Val Acc: 0.5424 | Train loss: 0.6372 Val Loss: 0.6342\n",
      "Epoch 118 | Fold 5 | Train Acc: 0.6273 | Val Acc: 0.5424 | Train loss: 0.6681 Val Loss: 0.6331\n",
      "Epoch 119 | Fold 5 | Train Acc: 0.6295 | Val Acc: 0.5424 | Train loss: 0.6621 Val Loss: 0.6316\n",
      "Epoch 120 | Fold 5 | Train Acc: 0.6334 | Val Acc: 0.5424 | Train loss: 0.6406 Val Loss: 0.6321\n",
      "Epoch 121 | Fold 5 | Train Acc: 0.6391 | Val Acc: 0.5424 | Train loss: 0.6469 Val Loss: 0.6295\n",
      "Epoch 122 | Fold 5 | Train Acc: 0.6374 | Val Acc: 0.5424 | Train loss: 0.6361 Val Loss: 0.6323\n",
      "Epoch 123 | Fold 5 | Train Acc: 0.6312 | Val Acc: 0.5424 | Train loss: 0.6402 Val Loss: 0.6307\n",
      "Epoch 124 | Fold 5 | Train Acc: 0.6256 | Val Acc: 0.5424 | Train loss: 0.6322 Val Loss: 0.6305\n",
      "Epoch 125 | Fold 5 | Train Acc: 0.6312 | Val Acc: 0.5424 | Train loss: 0.6387 Val Loss: 0.6315\n",
      "Epoch 126 | Fold 5 | Train Acc: 0.6453 | Val Acc: 0.5424 | Train loss: 0.6325 Val Loss: 0.6316\n",
      "Epoch 127 | Fold 5 | Train Acc: 0.6408 | Val Acc: 0.5424 | Train loss: 0.6346 Val Loss: 0.6287\n",
      "Epoch 128 | Fold 5 | Train Acc: 0.6301 | Val Acc: 0.5424 | Train loss: 0.6561 Val Loss: 0.6296\n",
      "Epoch 129 | Fold 5 | Train Acc: 0.6396 | Val Acc: 0.5424 | Train loss: 0.6364 Val Loss: 0.6329\n",
      "Epoch 130 | Fold 5 | Train Acc: 0.6273 | Val Acc: 0.5477 | Train loss: 0.6589 Val Loss: 0.6299\n",
      "Epoch 131 | Fold 5 | Train Acc: 0.6334 | Val Acc: 0.5707 | Train loss: 0.6447 Val Loss: 0.6248\n",
      "Epoch 132 | Fold 5 | Train Acc: 0.6289 | Val Acc: 0.5707 | Train loss: 0.6493 Val Loss: 0.6226\n",
      "Epoch 133 | Fold 5 | Train Acc: 0.6306 | Val Acc: 0.5707 | Train loss: 0.6389 Val Loss: 0.6259\n",
      "Epoch 134 | Fold 5 | Train Acc: 0.6261 | Val Acc: 0.5707 | Train loss: 0.6322 Val Loss: 0.6254\n",
      "Epoch 135 | Fold 5 | Train Acc: 0.6408 | Val Acc: 0.5707 | Train loss: 0.6527 Val Loss: 0.6239\n",
      "Epoch 136 | Fold 5 | Train Acc: 0.6486 | Val Acc: 0.5707 | Train loss: 0.6239 Val Loss: 0.6236\n",
      "Epoch 137 | Fold 5 | Train Acc: 0.6458 | Val Acc: 0.5707 | Train loss: 0.6407 Val Loss: 0.6249\n",
      "Epoch 138 | Fold 5 | Train Acc: 0.6402 | Val Acc: 0.5707 | Train loss: 0.6393 Val Loss: 0.6235\n",
      "Epoch 139 | Fold 5 | Train Acc: 0.6396 | Val Acc: 0.5477 | Train loss: 0.6486 Val Loss: 0.6258\n",
      "Epoch 140 | Fold 5 | Train Acc: 0.6334 | Val Acc: 0.5477 | Train loss: 0.6348 Val Loss: 0.6245\n",
      "Epoch 141 | Fold 5 | Train Acc: 0.6351 | Val Acc: 0.5477 | Train loss: 0.6466 Val Loss: 0.6239\n",
      "Epoch 142 | Fold 5 | Train Acc: 0.6441 | Val Acc: 0.5707 | Train loss: 0.6510 Val Loss: 0.6206\n",
      "Epoch 143 | Fold 5 | Train Acc: 0.6396 | Val Acc: 0.5724 | Train loss: 0.6432 Val Loss: 0.6192\n",
      "Epoch 144 | Fold 5 | Train Acc: 0.6453 | Val Acc: 0.5724 | Train loss: 0.6393 Val Loss: 0.6183\n",
      "Epoch 145 | Fold 5 | Train Acc: 0.6402 | Val Acc: 0.5707 | Train loss: 0.6415 Val Loss: 0.6216\n",
      "Epoch 146 | Fold 5 | Train Acc: 0.6312 | Val Acc: 0.5707 | Train loss: 0.6590 Val Loss: 0.6209\n",
      "Epoch 147 | Fold 5 | Train Acc: 0.6385 | Val Acc: 0.5477 | Train loss: 0.6378 Val Loss: 0.6267\n",
      "Epoch 148 | Fold 5 | Train Acc: 0.6363 | Val Acc: 0.5707 | Train loss: 0.6595 Val Loss: 0.6201\n",
      "Epoch 149 | Fold 5 | Train Acc: 0.6334 | Val Acc: 0.5707 | Train loss: 0.6324 Val Loss: 0.6221\n",
      "Epoch 150 | Fold 5 | Train Acc: 0.6565 | Val Acc: 0.5707 | Train loss: 0.6326 Val Loss: 0.6234\n",
      "Epoch 151 | Fold 5 | Train Acc: 0.6391 | Val Acc: 0.5707 | Train loss: 0.6205 Val Loss: 0.6262\n",
      "Epoch 152 | Fold 5 | Train Acc: 0.6391 | Val Acc: 0.5707 | Train loss: 0.6361 Val Loss: 0.6228\n",
      "Epoch 153 | Fold 5 | Train Acc: 0.6188 | Val Acc: 0.5707 | Train loss: 0.6455 Val Loss: 0.6236\n",
      "Epoch 154 | Fold 5 | Train Acc: 0.6380 | Val Acc: 0.5707 | Train loss: 0.6222 Val Loss: 0.6229\n",
      "Epoch 155 | Fold 5 | Train Acc: 0.6453 | Val Acc: 0.5724 | Train loss: 0.6522 Val Loss: 0.6232\n",
      "Epoch 156 | Fold 5 | Train Acc: 0.6351 | Val Acc: 0.5724 | Train loss: 0.6292 Val Loss: 0.6226\n",
      "Epoch 157 | Fold 5 | Train Acc: 0.6351 | Val Acc: 0.5724 | Train loss: 0.6539 Val Loss: 0.6219\n",
      "Epoch 158 | Fold 5 | Train Acc: 0.6368 | Val Acc: 0.5495 | Train loss: 0.6429 Val Loss: 0.6229\n",
      "Epoch 159 | Fold 5 | Train Acc: 0.6605 | Val Acc: 0.5724 | Train loss: 0.6268 Val Loss: 0.6199\n",
      "Epoch 160 | Fold 5 | Train Acc: 0.6425 | Val Acc: 0.5477 | Train loss: 0.6479 Val Loss: 0.6215\n",
      "Epoch 161 | Fold 5 | Train Acc: 0.6391 | Val Acc: 0.5707 | Train loss: 0.6676 Val Loss: 0.6201\n",
      "Epoch 162 | Fold 5 | Train Acc: 0.6441 | Val Acc: 0.5707 | Train loss: 0.6163 Val Loss: 0.6179\n",
      "Epoch 163 | Fold 5 | Train Acc: 0.6492 | Val Acc: 0.5707 | Train loss: 0.6149 Val Loss: 0.6192\n",
      "Epoch 164 | Fold 5 | Train Acc: 0.6334 | Val Acc: 0.5707 | Train loss: 0.6335 Val Loss: 0.6206\n",
      "Epoch 165 | Fold 5 | Train Acc: 0.6368 | Val Acc: 0.5707 | Train loss: 0.6412 Val Loss: 0.6200\n",
      "Epoch 166 | Fold 5 | Train Acc: 0.6385 | Val Acc: 0.5707 | Train loss: 0.6377 Val Loss: 0.6183\n",
      "Epoch 167 | Fold 5 | Train Acc: 0.6368 | Val Acc: 0.5707 | Train loss: 0.6476 Val Loss: 0.6184\n",
      "Epoch 168 | Fold 5 | Train Acc: 0.6470 | Val Acc: 0.5707 | Train loss: 0.6298 Val Loss: 0.6189\n",
      "Epoch 169 | Fold 5 | Train Acc: 0.6357 | Val Acc: 0.5707 | Train loss: 0.6412 Val Loss: 0.6176\n",
      "Epoch 170 | Fold 5 | Train Acc: 0.6256 | Val Acc: 0.5707 | Train loss: 0.6411 Val Loss: 0.6181\n",
      "Epoch 171 | Fold 5 | Train Acc: 0.6391 | Val Acc: 0.5724 | Train loss: 0.6251 Val Loss: 0.6177\n",
      "Epoch 172 | Fold 5 | Train Acc: 0.6475 | Val Acc: 0.5707 | Train loss: 0.6226 Val Loss: 0.6175\n",
      "Epoch 173 | Fold 5 | Train Acc: 0.6278 | Val Acc: 0.5707 | Train loss: 0.6522 Val Loss: 0.6159\n",
      "Epoch 174 | Fold 5 | Train Acc: 0.6509 | Val Acc: 0.5707 | Train loss: 0.6328 Val Loss: 0.6164\n",
      "Epoch 175 | Fold 5 | Train Acc: 0.6498 | Val Acc: 0.5724 | Train loss: 0.6356 Val Loss: 0.6150\n",
      "Epoch 176 | Fold 5 | Train Acc: 0.6447 | Val Acc: 0.5724 | Train loss: 0.6341 Val Loss: 0.6162\n",
      "Epoch 177 | Fold 5 | Train Acc: 0.6346 | Val Acc: 0.5724 | Train loss: 0.6329 Val Loss: 0.6161\n",
      "Epoch 178 | Fold 5 | Train Acc: 0.6334 | Val Acc: 0.5724 | Train loss: 0.6344 Val Loss: 0.6151\n",
      "Epoch 179 | Fold 5 | Train Acc: 0.6481 | Val Acc: 0.5724 | Train loss: 0.6317 Val Loss: 0.6145\n",
      "Epoch 180 | Fold 5 | Train Acc: 0.6498 | Val Acc: 0.5724 | Train loss: 0.6381 Val Loss: 0.6151\n",
      "Epoch 181 | Fold 5 | Train Acc: 0.6357 | Val Acc: 0.5724 | Train loss: 0.6291 Val Loss: 0.6165\n",
      "Epoch 182 | Fold 5 | Train Acc: 0.6340 | Val Acc: 0.5724 | Train loss: 0.6031 Val Loss: 0.6167\n",
      "Epoch 183 | Fold 5 | Train Acc: 0.6363 | Val Acc: 0.5724 | Train loss: 0.6379 Val Loss: 0.6167\n",
      "Epoch 184 | Fold 5 | Train Acc: 0.6475 | Val Acc: 0.5724 | Train loss: 0.6566 Val Loss: 0.6154\n",
      "Epoch 185 | Fold 5 | Train Acc: 0.6419 | Val Acc: 0.5724 | Train loss: 0.6284 Val Loss: 0.6162\n",
      "Epoch 186 | Fold 5 | Train Acc: 0.6385 | Val Acc: 0.5495 | Train loss: 0.6348 Val Loss: 0.6184\n",
      "Epoch 187 | Fold 5 | Train Acc: 0.6425 | Val Acc: 0.5724 | Train loss: 0.6346 Val Loss: 0.6182\n",
      "Epoch 188 | Fold 5 | Train Acc: 0.6340 | Val Acc: 0.5724 | Train loss: 0.6697 Val Loss: 0.6185\n",
      "Epoch 189 | Fold 5 | Train Acc: 0.6486 | Val Acc: 0.5724 | Train loss: 0.6397 Val Loss: 0.6159\n",
      "Epoch 190 | Fold 5 | Train Acc: 0.6486 | Val Acc: 0.5724 | Train loss: 0.6217 Val Loss: 0.6142\n",
      "Epoch 191 | Fold 5 | Train Acc: 0.6464 | Val Acc: 0.5724 | Train loss: 0.6253 Val Loss: 0.6157\n",
      "Epoch 192 | Fold 5 | Train Acc: 0.6363 | Val Acc: 0.5724 | Train loss: 0.6443 Val Loss: 0.6161\n",
      "Epoch 193 | Fold 5 | Train Acc: 0.6453 | Val Acc: 0.5724 | Train loss: 0.6229 Val Loss: 0.6179\n",
      "Epoch 194 | Fold 5 | Train Acc: 0.6413 | Val Acc: 0.5724 | Train loss: 0.6302 Val Loss: 0.6177\n",
      "Epoch 195 | Fold 5 | Train Acc: 0.6340 | Val Acc: 0.5724 | Train loss: 0.6278 Val Loss: 0.6167\n",
      "Epoch 196 | Fold 5 | Train Acc: 0.6475 | Val Acc: 0.5724 | Train loss: 0.6378 Val Loss: 0.6150\n",
      "Epoch 197 | Fold 5 | Train Acc: 0.6380 | Val Acc: 0.5724 | Train loss: 0.6140 Val Loss: 0.6165\n",
      "Epoch 198 | Fold 5 | Train Acc: 0.6318 | Val Acc: 0.5724 | Train loss: 0.6352 Val Loss: 0.6160\n",
      "Epoch 199 | Fold 5 | Train Acc: 0.6334 | Val Acc: 0.5724 | Train loss: 0.6294 Val Loss: 0.6176\n",
      "Epoch 200 | Fold 5 | Train Acc: 0.6368 | Val Acc: 0.5724 | Train loss: 0.6559 Val Loss: 0.6169\n",
      "Epoch 201 | Fold 5 | Train Acc: 0.6441 | Val Acc: 0.5724 | Train loss: 0.6301 Val Loss: 0.6161\n",
      "Epoch 202 | Fold 5 | Train Acc: 0.6475 | Val Acc: 0.5724 | Train loss: 0.6285 Val Loss: 0.6160\n",
      "Epoch 203 | Fold 5 | Train Acc: 0.6464 | Val Acc: 0.5724 | Train loss: 0.6224 Val Loss: 0.6152\n",
      "Epoch 204 | Fold 5 | Train Acc: 0.6329 | Val Acc: 0.5724 | Train loss: 0.6345 Val Loss: 0.6157\n",
      "Epoch 205 | Fold 5 | Train Acc: 0.6605 | Val Acc: 0.5724 | Train loss: 0.6179 Val Loss: 0.6156\n",
      "Epoch 206 | Fold 5 | Train Acc: 0.6363 | Val Acc: 0.5724 | Train loss: 0.6187 Val Loss: 0.6152\n",
      "Epoch 207 | Fold 5 | Train Acc: 0.6306 | Val Acc: 0.5724 | Train loss: 0.6419 Val Loss: 0.6149\n",
      "Epoch 208 | Fold 5 | Train Acc: 0.6346 | Val Acc: 0.5724 | Train loss: 0.6314 Val Loss: 0.6152\n",
      "Epoch 209 | Fold 5 | Train Acc: 0.6216 | Val Acc: 0.5707 | Train loss: 0.6585 Val Loss: 0.6152\n",
      "Epoch 210 | Fold 5 | Train Acc: 0.6363 | Val Acc: 0.5724 | Train loss: 0.6203 Val Loss: 0.6145\n",
      "Epoch 211 | Fold 5 | Train Acc: 0.6464 | Val Acc: 0.5724 | Train loss: 0.6390 Val Loss: 0.6137\n",
      "Epoch 212 | Fold 5 | Train Acc: 0.6425 | Val Acc: 0.5724 | Train loss: 0.6226 Val Loss: 0.6138\n",
      "Epoch 213 | Fold 5 | Train Acc: 0.6385 | Val Acc: 0.5724 | Train loss: 0.6417 Val Loss: 0.6133\n",
      "Epoch 214 | Fold 5 | Train Acc: 0.6306 | Val Acc: 0.5724 | Train loss: 0.6482 Val Loss: 0.6141\n",
      "Epoch 215 | Fold 5 | Train Acc: 0.6425 | Val Acc: 0.5724 | Train loss: 0.6327 Val Loss: 0.6139\n",
      "Epoch 216 | Fold 5 | Train Acc: 0.6441 | Val Acc: 0.5724 | Train loss: 0.6377 Val Loss: 0.6133\n",
      "Epoch 217 | Fold 5 | Train Acc: 0.6447 | Val Acc: 0.5724 | Train loss: 0.6196 Val Loss: 0.6147\n",
      "Epoch 218 | Fold 5 | Train Acc: 0.6334 | Val Acc: 0.5724 | Train loss: 0.6420 Val Loss: 0.6141\n",
      "Epoch 219 | Fold 5 | Train Acc: 0.6481 | Val Acc: 0.5724 | Train loss: 0.6287 Val Loss: 0.6143\n",
      "Epoch 220 | Fold 5 | Train Acc: 0.6509 | Val Acc: 0.5724 | Train loss: 0.6439 Val Loss: 0.6141\n",
      "Epoch 221 | Fold 5 | Train Acc: 0.6486 | Val Acc: 0.5724 | Train loss: 0.6351 Val Loss: 0.6141\n",
      "Epoch 222 | Fold 5 | Train Acc: 0.6470 | Val Acc: 0.5724 | Train loss: 0.6321 Val Loss: 0.6143\n",
      "Epoch 223 | Fold 5 | Train Acc: 0.6436 | Val Acc: 0.5724 | Train loss: 0.6389 Val Loss: 0.6137\n",
      "Epoch 224 | Fold 5 | Train Acc: 0.6402 | Val Acc: 0.5724 | Train loss: 0.6284 Val Loss: 0.6138\n",
      "Epoch 225 | Fold 5 | Train Acc: 0.6492 | Val Acc: 0.5724 | Train loss: 0.6240 Val Loss: 0.6132\n",
      "Epoch 226 | Fold 5 | Train Acc: 0.6419 | Val Acc: 0.5724 | Train loss: 0.6216 Val Loss: 0.6138\n",
      "Epoch 227 | Fold 5 | Train Acc: 0.6447 | Val Acc: 0.5724 | Train loss: 0.6302 Val Loss: 0.6142\n",
      "Epoch 228 | Fold 5 | Train Acc: 0.6441 | Val Acc: 0.5724 | Train loss: 0.6165 Val Loss: 0.6145\n",
      "Epoch 229 | Fold 5 | Train Acc: 0.6289 | Val Acc: 0.5724 | Train loss: 0.6256 Val Loss: 0.6141\n",
      "Epoch 230 | Fold 5 | Train Acc: 0.6329 | Val Acc: 0.5724 | Train loss: 0.6405 Val Loss: 0.6138\n",
      "Epoch 231 | Fold 5 | Train Acc: 0.6419 | Val Acc: 0.5724 | Train loss: 0.6182 Val Loss: 0.6139\n",
      "Epoch 232 | Fold 5 | Train Acc: 0.6363 | Val Acc: 0.5724 | Train loss: 0.6370 Val Loss: 0.6136\n",
      "Epoch 233 | Fold 5 | Train Acc: 0.6391 | Val Acc: 0.5724 | Train loss: 0.6254 Val Loss: 0.6136\n",
      "Epoch 234 | Fold 5 | Train Acc: 0.6492 | Val Acc: 0.5724 | Train loss: 0.6295 Val Loss: 0.6141\n",
      "Epoch 235 | Fold 5 | Train Acc: 0.6334 | Val Acc: 0.5724 | Train loss: 0.6349 Val Loss: 0.6140\n",
      "Epoch 236 | Fold 5 | Train Acc: 0.6346 | Val Acc: 0.5724 | Train loss: 0.6388 Val Loss: 0.6142\n",
      "Epoch 237 | Fold 5 | Train Acc: 0.6340 | Val Acc: 0.5724 | Train loss: 0.6506 Val Loss: 0.6140\n",
      "Epoch 238 | Fold 5 | Train Acc: 0.6334 | Val Acc: 0.5724 | Train loss: 0.6400 Val Loss: 0.6140\n",
      "Epoch 239 | Fold 5 | Train Acc: 0.6481 | Val Acc: 0.5724 | Train loss: 0.6274 Val Loss: 0.6141\n",
      "Epoch 240 | Fold 5 | Train Acc: 0.6532 | Val Acc: 0.5724 | Train loss: 0.6279 Val Loss: 0.6144\n",
      "Epoch 241 | Fold 5 | Train Acc: 0.6329 | Val Acc: 0.5724 | Train loss: 0.6366 Val Loss: 0.6143\n",
      "Epoch 242 | Fold 5 | Train Acc: 0.6515 | Val Acc: 0.5724 | Train loss: 0.6297 Val Loss: 0.6140\n",
      "Epoch 243 | Fold 5 | Train Acc: 0.6391 | Val Acc: 0.5724 | Train loss: 0.6342 Val Loss: 0.6141\n",
      " Early stopping at epoch 243 for fold 5\n",
      " Fold 5: Best Val Acc = 0.5724\n",
      "🏃 View run trial_3 at: http://127.0.0.1:5000/#/experiments/906754211394743286/runs/531d8fbfe6e447f792767ce5beeef0d1\n",
      "🧪 View experiment at: http://127.0.0.1:5000/#/experiments/906754211394743286\n"
     ]
    },
    {
     "name": "stderr",
     "output_type": "stream",
     "text": [
      "[I 2025-07-15 00:40:38,704] Trial 3 finished with value: 0.68405601989076 and parameters: {'hidden_channels': 64, 'num_layers': 2, 'heads': 2, 'dropout': 0.378994127986514, 'hidden_dim': 64}. Best is trial 0 with value: 0.6976193737506798.\n"
     ]
    },
    {
     "name": "stdout",
     "output_type": "stream",
     "text": [
      "Epoch 001 | Fold 1 | Train Acc: 0.2885 | Val Acc: 0.3082 | Train loss: 1.3866 Val Loss: 1.3785\n",
      "Epoch 002 | Fold 1 | Train Acc: 0.3113 | Val Acc: 0.4182 | Train loss: 1.3764 Val Loss: 1.3652\n",
      "Epoch 003 | Fold 1 | Train Acc: 0.2861 | Val Acc: 0.3962 | Train loss: 1.3693 Val Loss: 1.3507\n",
      "Epoch 004 | Fold 1 | Train Acc: 0.3350 | Val Acc: 0.5346 | Train loss: 1.3618 Val Loss: 1.3416\n",
      "Epoch 005 | Fold 1 | Train Acc: 0.3157 | Val Acc: 0.5283 | Train loss: 1.3531 Val Loss: 1.3167\n",
      "Epoch 006 | Fold 1 | Train Acc: 0.3355 | Val Acc: 0.5283 | Train loss: 1.3374 Val Loss: 1.2994\n",
      "Epoch 007 | Fold 1 | Train Acc: 0.3780 | Val Acc: 0.6006 | Train loss: 1.3177 Val Loss: 1.2583\n",
      "Epoch 008 | Fold 1 | Train Acc: 0.4674 | Val Acc: 0.6478 | Train loss: 1.2843 Val Loss: 1.2114\n",
      "Epoch 009 | Fold 1 | Train Acc: 0.5242 | Val Acc: 0.6950 | Train loss: 1.2397 Val Loss: 1.1424\n",
      "Epoch 010 | Fold 1 | Train Acc: 0.4753 | Val Acc: 0.7044 | Train loss: 1.1986 Val Loss: 1.0700\n",
      "Epoch 011 | Fold 1 | Train Acc: 0.4629 | Val Acc: 0.7233 | Train loss: 1.1505 Val Loss: 0.9981\n",
      "Epoch 012 | Fold 1 | Train Acc: 0.4279 | Val Acc: 0.7044 | Train loss: 1.0970 Val Loss: 0.9137\n",
      "Epoch 013 | Fold 1 | Train Acc: 0.4373 | Val Acc: 0.7327 | Train loss: 1.0353 Val Loss: 0.8246\n",
      "Epoch 014 | Fold 1 | Train Acc: 0.4279 | Val Acc: 0.7170 | Train loss: 0.9615 Val Loss: 0.6802\n",
      "Epoch 015 | Fold 1 | Train Acc: 0.5015 | Val Acc: 0.7421 | Train loss: 0.8509 Val Loss: 0.5490\n",
      "Epoch 016 | Fold 1 | Train Acc: 0.4625 | Val Acc: 0.7233 | Train loss: 0.7836 Val Loss: 0.5024\n",
      "Epoch 017 | Fold 1 | Train Acc: 0.4906 | Val Acc: 0.7453 | Train loss: 0.7400 Val Loss: 0.4611\n",
      "Epoch 018 | Fold 1 | Train Acc: 0.5208 | Val Acc: 0.7610 | Train loss: 0.6885 Val Loss: 0.4454\n",
      "Epoch 019 | Fold 1 | Train Acc: 0.5756 | Val Acc: 0.7610 | Train loss: 0.6600 Val Loss: 0.4601\n",
      "Epoch 020 | Fold 1 | Train Acc: 0.5563 | Val Acc: 0.7547 | Train loss: 0.6520 Val Loss: 0.4393\n",
      "Epoch 021 | Fold 1 | Train Acc: 0.5613 | Val Acc: 0.7610 | Train loss: 0.6379 Val Loss: 0.4434\n",
      "Epoch 022 | Fold 1 | Train Acc: 0.5613 | Val Acc: 0.7642 | Train loss: 0.6244 Val Loss: 0.4444\n",
      "Epoch 023 | Fold 1 | Train Acc: 0.5786 | Val Acc: 0.7610 | Train loss: 0.5973 Val Loss: 0.4412\n",
      "Epoch 024 | Fold 1 | Train Acc: 0.5657 | Val Acc: 0.7642 | Train loss: 0.6126 Val Loss: 0.4494\n",
      "Epoch 025 | Fold 1 | Train Acc: 0.5870 | Val Acc: 0.7642 | Train loss: 0.5893 Val Loss: 0.4478\n",
      "Epoch 026 | Fold 1 | Train Acc: 0.5914 | Val Acc: 0.7673 | Train loss: 0.5786 Val Loss: 0.4445\n",
      "Epoch 027 | Fold 1 | Train Acc: 0.5865 | Val Acc: 0.7736 | Train loss: 0.5830 Val Loss: 0.4430\n",
      "Epoch 028 | Fold 1 | Train Acc: 0.6131 | Val Acc: 0.7736 | Train loss: 0.5647 Val Loss: 0.4415\n",
      "Epoch 029 | Fold 1 | Train Acc: 0.5677 | Val Acc: 0.7736 | Train loss: 0.5654 Val Loss: 0.4455\n",
      "Epoch 030 | Fold 1 | Train Acc: 0.6077 | Val Acc: 0.7830 | Train loss: 0.5750 Val Loss: 0.4554\n",
      "Epoch 031 | Fold 1 | Train Acc: 0.6072 | Val Acc: 0.7736 | Train loss: 0.5636 Val Loss: 0.4383\n",
      "Epoch 032 | Fold 1 | Train Acc: 0.6136 | Val Acc: 0.7799 | Train loss: 0.5655 Val Loss: 0.4501\n",
      "Epoch 033 | Fold 1 | Train Acc: 0.5954 | Val Acc: 0.7893 | Train loss: 0.5603 Val Loss: 0.4398\n",
      "Epoch 034 | Fold 1 | Train Acc: 0.6181 | Val Acc: 0.7799 | Train loss: 0.5471 Val Loss: 0.4507\n",
      "Epoch 035 | Fold 1 | Train Acc: 0.6472 | Val Acc: 0.7767 | Train loss: 0.5307 Val Loss: 0.4448\n",
      "Epoch 036 | Fold 1 | Train Acc: 0.6018 | Val Acc: 0.7925 | Train loss: 0.5445 Val Loss: 0.4382\n",
      "Epoch 037 | Fold 1 | Train Acc: 0.6433 | Val Acc: 0.7799 | Train loss: 0.5390 Val Loss: 0.4559\n",
      "Epoch 038 | Fold 1 | Train Acc: 0.6369 | Val Acc: 0.7799 | Train loss: 0.5386 Val Loss: 0.4446\n",
      "Epoch 039 | Fold 1 | Train Acc: 0.6334 | Val Acc: 0.7799 | Train loss: 0.5272 Val Loss: 0.4491\n",
      "Epoch 040 | Fold 1 | Train Acc: 0.6596 | Val Acc: 0.7830 | Train loss: 0.5436 Val Loss: 0.4488\n",
      "Epoch 041 | Fold 1 | Train Acc: 0.6388 | Val Acc: 0.7736 | Train loss: 0.5288 Val Loss: 0.4435\n",
      "Epoch 042 | Fold 1 | Train Acc: 0.6215 | Val Acc: 0.7767 | Train loss: 0.5382 Val Loss: 0.4494\n",
      "Epoch 043 | Fold 1 | Train Acc: 0.6477 | Val Acc: 0.7767 | Train loss: 0.5070 Val Loss: 0.4494\n",
      "Epoch 044 | Fold 1 | Train Acc: 0.6591 | Val Acc: 0.7799 | Train loss: 0.5193 Val Loss: 0.4473\n",
      "Epoch 045 | Fold 1 | Train Acc: 0.6586 | Val Acc: 0.7767 | Train loss: 0.5220 Val Loss: 0.4525\n",
      "Epoch 046 | Fold 1 | Train Acc: 0.6270 | Val Acc: 0.7767 | Train loss: 0.5213 Val Loss: 0.4467\n",
      "Epoch 047 | Fold 1 | Train Acc: 0.6551 | Val Acc: 0.7799 | Train loss: 0.5112 Val Loss: 0.4580\n",
      "Epoch 048 | Fold 1 | Train Acc: 0.6709 | Val Acc: 0.7799 | Train loss: 0.5108 Val Loss: 0.4534\n",
      "Epoch 049 | Fold 1 | Train Acc: 0.6601 | Val Acc: 0.7767 | Train loss: 0.4991 Val Loss: 0.4519\n",
      "Epoch 050 | Fold 1 | Train Acc: 0.6571 | Val Acc: 0.7767 | Train loss: 0.5104 Val Loss: 0.4508\n",
      "Epoch 051 | Fold 1 | Train Acc: 0.6571 | Val Acc: 0.7767 | Train loss: 0.5058 Val Loss: 0.4473\n",
      "Epoch 052 | Fold 1 | Train Acc: 0.6690 | Val Acc: 0.7799 | Train loss: 0.5064 Val Loss: 0.4519\n",
      "Epoch 053 | Fold 1 | Train Acc: 0.6655 | Val Acc: 0.7799 | Train loss: 0.5150 Val Loss: 0.4524\n",
      "Epoch 054 | Fold 1 | Train Acc: 0.6670 | Val Acc: 0.7767 | Train loss: 0.5074 Val Loss: 0.4509\n",
      "Epoch 055 | Fold 1 | Train Acc: 0.6705 | Val Acc: 0.7830 | Train loss: 0.4952 Val Loss: 0.4547\n",
      "Epoch 056 | Fold 1 | Train Acc: 0.6675 | Val Acc: 0.7799 | Train loss: 0.5120 Val Loss: 0.4527\n",
      "Epoch 057 | Fold 1 | Train Acc: 0.6635 | Val Acc: 0.7830 | Train loss: 0.5044 Val Loss: 0.4547\n",
      "Epoch 058 | Fold 1 | Train Acc: 0.6719 | Val Acc: 0.7799 | Train loss: 0.5000 Val Loss: 0.4541\n",
      "Epoch 059 | Fold 1 | Train Acc: 0.6606 | Val Acc: 0.7799 | Train loss: 0.5035 Val Loss: 0.4538\n",
      "Epoch 060 | Fold 1 | Train Acc: 0.6601 | Val Acc: 0.7799 | Train loss: 0.5076 Val Loss: 0.4529\n",
      "Epoch 061 | Fold 1 | Train Acc: 0.6601 | Val Acc: 0.7767 | Train loss: 0.4990 Val Loss: 0.4521\n",
      "Epoch 062 | Fold 1 | Train Acc: 0.6616 | Val Acc: 0.7799 | Train loss: 0.4932 Val Loss: 0.4541\n",
      "Epoch 063 | Fold 1 | Train Acc: 0.6596 | Val Acc: 0.7799 | Train loss: 0.5026 Val Loss: 0.4532\n",
      "Epoch 064 | Fold 1 | Train Acc: 0.6630 | Val Acc: 0.7799 | Train loss: 0.5068 Val Loss: 0.4549\n",
      "Epoch 065 | Fold 1 | Train Acc: 0.6823 | Val Acc: 0.7830 | Train loss: 0.4916 Val Loss: 0.4574\n",
      "Epoch 066 | Fold 1 | Train Acc: 0.6714 | Val Acc: 0.7799 | Train loss: 0.4902 Val Loss: 0.4533\n",
      " Early stopping at epoch 66 for fold 1\n",
      " Fold 1: Best Val Acc = 0.7925\n",
      "Epoch 001 | Fold 2 | Train Acc: 0.3471 | Val Acc: 0.3850 | Train loss: 1.3881 Val Loss: 1.3806\n",
      "Epoch 002 | Fold 2 | Train Acc: 0.2905 | Val Acc: 0.3341 | Train loss: 1.3787 Val Loss: 1.3731\n",
      "Epoch 003 | Fold 2 | Train Acc: 0.2614 | Val Acc: 0.3009 | Train loss: 1.3731 Val Loss: 1.3649\n",
      "Epoch 004 | Fold 2 | Train Acc: 0.2735 | Val Acc: 0.4779 | Train loss: 1.3641 Val Loss: 1.3565\n",
      "Epoch 005 | Fold 2 | Train Acc: 0.3794 | Val Acc: 0.5597 | Train loss: 1.3534 Val Loss: 1.3438\n",
      "Epoch 006 | Fold 2 | Train Acc: 0.3730 | Val Acc: 0.5465 | Train loss: 1.3400 Val Loss: 1.3263\n",
      "Epoch 007 | Fold 2 | Train Acc: 0.4222 | Val Acc: 0.5553 | Train loss: 1.3169 Val Loss: 1.2990\n",
      "Epoch 008 | Fold 2 | Train Acc: 0.5090 | Val Acc: 0.5819 | Train loss: 1.2855 Val Loss: 1.2594\n",
      "Epoch 009 | Fold 2 | Train Acc: 0.5021 | Val Acc: 0.5487 | Train loss: 1.2459 Val Loss: 1.2105\n",
      "Epoch 010 | Fold 2 | Train Acc: 0.4825 | Val Acc: 0.4624 | Train loss: 1.1858 Val Loss: 1.1564\n",
      "Epoch 011 | Fold 2 | Train Acc: 0.5000 | Val Acc: 0.4624 | Train loss: 1.1322 Val Loss: 1.0893\n",
      "Epoch 012 | Fold 2 | Train Acc: 0.4783 | Val Acc: 0.4381 | Train loss: 1.0556 Val Loss: 0.9914\n",
      "Epoch 013 | Fold 2 | Train Acc: 0.4841 | Val Acc: 0.4712 | Train loss: 0.9701 Val Loss: 0.8975\n",
      "Epoch 014 | Fold 2 | Train Acc: 0.5164 | Val Acc: 0.5310 | Train loss: 0.8974 Val Loss: 0.8518\n",
      "Epoch 015 | Fold 2 | Train Acc: 0.5328 | Val Acc: 0.5619 | Train loss: 0.8547 Val Loss: 0.7909\n",
      "Epoch 016 | Fold 2 | Train Acc: 0.5466 | Val Acc: 0.5597 | Train loss: 0.8171 Val Loss: 0.7475\n",
      "Epoch 017 | Fold 2 | Train Acc: 0.5804 | Val Acc: 0.5531 | Train loss: 0.7862 Val Loss: 0.7206\n",
      "Epoch 018 | Fold 2 | Train Acc: 0.5810 | Val Acc: 0.5642 | Train loss: 0.7680 Val Loss: 0.6950\n",
      "Epoch 019 | Fold 2 | Train Acc: 0.5847 | Val Acc: 0.5730 | Train loss: 0.7495 Val Loss: 0.6844\n",
      "Epoch 020 | Fold 2 | Train Acc: 0.5873 | Val Acc: 0.5575 | Train loss: 0.7136 Val Loss: 0.6527\n",
      "Epoch 021 | Fold 2 | Train Acc: 0.5921 | Val Acc: 0.5708 | Train loss: 0.7018 Val Loss: 0.6391\n",
      "Epoch 022 | Fold 2 | Train Acc: 0.6032 | Val Acc: 0.5708 | Train loss: 0.6920 Val Loss: 0.6205\n",
      "Epoch 023 | Fold 2 | Train Acc: 0.6085 | Val Acc: 0.5575 | Train loss: 0.6744 Val Loss: 0.5898\n",
      "Epoch 024 | Fold 2 | Train Acc: 0.5974 | Val Acc: 0.5708 | Train loss: 0.6545 Val Loss: 0.5630\n",
      "Epoch 025 | Fold 2 | Train Acc: 0.5905 | Val Acc: 0.5642 | Train loss: 0.6395 Val Loss: 0.5468\n",
      "Epoch 026 | Fold 2 | Train Acc: 0.6111 | Val Acc: 0.5929 | Train loss: 0.6295 Val Loss: 0.5560\n",
      "Epoch 027 | Fold 2 | Train Acc: 0.6228 | Val Acc: 0.5863 | Train loss: 0.6265 Val Loss: 0.5374\n",
      "Epoch 028 | Fold 2 | Train Acc: 0.6074 | Val Acc: 0.5774 | Train loss: 0.6207 Val Loss: 0.5166\n",
      "Epoch 029 | Fold 2 | Train Acc: 0.6037 | Val Acc: 0.5973 | Train loss: 0.6180 Val Loss: 0.5148\n",
      "Epoch 030 | Fold 2 | Train Acc: 0.6291 | Val Acc: 0.6217 | Train loss: 0.6223 Val Loss: 0.5196\n",
      "Epoch 031 | Fold 2 | Train Acc: 0.6132 | Val Acc: 0.6062 | Train loss: 0.6000 Val Loss: 0.4973\n",
      "Epoch 032 | Fold 2 | Train Acc: 0.6206 | Val Acc: 0.6239 | Train loss: 0.5853 Val Loss: 0.4962\n",
      "Epoch 033 | Fold 2 | Train Acc: 0.6333 | Val Acc: 0.6239 | Train loss: 0.5852 Val Loss: 0.4933\n",
      "Epoch 034 | Fold 2 | Train Acc: 0.6127 | Val Acc: 0.6283 | Train loss: 0.5962 Val Loss: 0.4848\n",
      "Epoch 035 | Fold 2 | Train Acc: 0.6328 | Val Acc: 0.6460 | Train loss: 0.5777 Val Loss: 0.4822\n",
      "Epoch 036 | Fold 2 | Train Acc: 0.6296 | Val Acc: 0.6504 | Train loss: 0.5834 Val Loss: 0.4782\n",
      "Epoch 037 | Fold 2 | Train Acc: 0.6386 | Val Acc: 0.6305 | Train loss: 0.5896 Val Loss: 0.4720\n",
      "Epoch 038 | Fold 2 | Train Acc: 0.6434 | Val Acc: 0.6128 | Train loss: 0.5724 Val Loss: 0.4628\n",
      "Epoch 039 | Fold 2 | Train Acc: 0.6159 | Val Acc: 0.6504 | Train loss: 0.5881 Val Loss: 0.4681\n",
      "Epoch 040 | Fold 2 | Train Acc: 0.6466 | Val Acc: 0.6195 | Train loss: 0.5709 Val Loss: 0.4764\n",
      "Epoch 041 | Fold 2 | Train Acc: 0.6217 | Val Acc: 0.6217 | Train loss: 0.5870 Val Loss: 0.4654\n",
      "Epoch 042 | Fold 2 | Train Acc: 0.6360 | Val Acc: 0.6482 | Train loss: 0.5720 Val Loss: 0.4577\n",
      "Epoch 043 | Fold 2 | Train Acc: 0.6455 | Val Acc: 0.6350 | Train loss: 0.5680 Val Loss: 0.4539\n",
      "Epoch 044 | Fold 2 | Train Acc: 0.6397 | Val Acc: 0.6460 | Train loss: 0.5710 Val Loss: 0.4564\n",
      "Epoch 045 | Fold 2 | Train Acc: 0.6529 | Val Acc: 0.6836 | Train loss: 0.5720 Val Loss: 0.4526\n",
      "Epoch 046 | Fold 2 | Train Acc: 0.6556 | Val Acc: 0.6549 | Train loss: 0.5512 Val Loss: 0.4486\n",
      "Epoch 047 | Fold 2 | Train Acc: 0.6413 | Val Acc: 0.6527 | Train loss: 0.5521 Val Loss: 0.4384\n",
      "Epoch 048 | Fold 2 | Train Acc: 0.6704 | Val Acc: 0.6748 | Train loss: 0.5563 Val Loss: 0.4353\n",
      "Epoch 049 | Fold 2 | Train Acc: 0.6683 | Val Acc: 0.6748 | Train loss: 0.5509 Val Loss: 0.4331\n",
      "Epoch 050 | Fold 2 | Train Acc: 0.6402 | Val Acc: 0.6748 | Train loss: 0.5519 Val Loss: 0.4361\n",
      "Epoch 051 | Fold 2 | Train Acc: 0.6566 | Val Acc: 0.7058 | Train loss: 0.5492 Val Loss: 0.4361\n",
      "Epoch 052 | Fold 2 | Train Acc: 0.6847 | Val Acc: 0.6128 | Train loss: 0.5460 Val Loss: 0.4612\n",
      "Epoch 053 | Fold 2 | Train Acc: 0.6434 | Val Acc: 0.6350 | Train loss: 0.5537 Val Loss: 0.4372\n",
      "Epoch 054 | Fold 2 | Train Acc: 0.6497 | Val Acc: 0.6881 | Train loss: 0.5545 Val Loss: 0.4412\n",
      "Epoch 055 | Fold 2 | Train Acc: 0.6751 | Val Acc: 0.6858 | Train loss: 0.5434 Val Loss: 0.4306\n",
      "Epoch 056 | Fold 2 | Train Acc: 0.6640 | Val Acc: 0.6881 | Train loss: 0.5491 Val Loss: 0.4421\n",
      "Epoch 057 | Fold 2 | Train Acc: 0.6571 | Val Acc: 0.6704 | Train loss: 0.5541 Val Loss: 0.4314\n",
      "Epoch 058 | Fold 2 | Train Acc: 0.6556 | Val Acc: 0.7035 | Train loss: 0.5481 Val Loss: 0.4302\n",
      "Epoch 059 | Fold 2 | Train Acc: 0.6741 | Val Acc: 0.7035 | Train loss: 0.5309 Val Loss: 0.4195\n",
      "Epoch 060 | Fold 2 | Train Acc: 0.6577 | Val Acc: 0.6947 | Train loss: 0.5342 Val Loss: 0.4186\n",
      "Epoch 061 | Fold 2 | Train Acc: 0.6593 | Val Acc: 0.7102 | Train loss: 0.5372 Val Loss: 0.4253\n",
      "Epoch 062 | Fold 2 | Train Acc: 0.6799 | Val Acc: 0.7102 | Train loss: 0.5388 Val Loss: 0.4252\n",
      "Epoch 063 | Fold 2 | Train Acc: 0.6820 | Val Acc: 0.6637 | Train loss: 0.5390 Val Loss: 0.4187\n",
      "Epoch 064 | Fold 2 | Train Acc: 0.6608 | Val Acc: 0.7058 | Train loss: 0.5340 Val Loss: 0.4201\n",
      "Epoch 065 | Fold 2 | Train Acc: 0.6720 | Val Acc: 0.6969 | Train loss: 0.5218 Val Loss: 0.4152\n",
      "Epoch 066 | Fold 2 | Train Acc: 0.6804 | Val Acc: 0.7102 | Train loss: 0.5269 Val Loss: 0.4198\n",
      "Epoch 067 | Fold 2 | Train Acc: 0.6772 | Val Acc: 0.6925 | Train loss: 0.5453 Val Loss: 0.4164\n",
      "Epoch 068 | Fold 2 | Train Acc: 0.6868 | Val Acc: 0.7058 | Train loss: 0.5273 Val Loss: 0.4181\n",
      "Epoch 069 | Fold 2 | Train Acc: 0.6672 | Val Acc: 0.6438 | Train loss: 0.5344 Val Loss: 0.4157\n",
      "Epoch 070 | Fold 2 | Train Acc: 0.6783 | Val Acc: 0.7168 | Train loss: 0.5300 Val Loss: 0.4188\n",
      "Epoch 071 | Fold 2 | Train Acc: 0.6831 | Val Acc: 0.6881 | Train loss: 0.5275 Val Loss: 0.4140\n",
      "Epoch 072 | Fold 2 | Train Acc: 0.6910 | Val Acc: 0.6858 | Train loss: 0.5326 Val Loss: 0.4172\n",
      "Epoch 073 | Fold 2 | Train Acc: 0.6651 | Val Acc: 0.6903 | Train loss: 0.5336 Val Loss: 0.4147\n",
      "Epoch 074 | Fold 2 | Train Acc: 0.7074 | Val Acc: 0.7124 | Train loss: 0.5267 Val Loss: 0.4233\n",
      "Epoch 075 | Fold 2 | Train Acc: 0.6593 | Val Acc: 0.6527 | Train loss: 0.5348 Val Loss: 0.4134\n",
      "Epoch 076 | Fold 2 | Train Acc: 0.6677 | Val Acc: 0.7102 | Train loss: 0.5196 Val Loss: 0.4094\n",
      "Epoch 077 | Fold 2 | Train Acc: 0.6873 | Val Acc: 0.7146 | Train loss: 0.5277 Val Loss: 0.4134\n",
      "Epoch 078 | Fold 2 | Train Acc: 0.6635 | Val Acc: 0.6615 | Train loss: 0.5306 Val Loss: 0.4110\n",
      "Epoch 079 | Fold 2 | Train Acc: 0.6804 | Val Acc: 0.7035 | Train loss: 0.5038 Val Loss: 0.4100\n",
      "Epoch 080 | Fold 2 | Train Acc: 0.6926 | Val Acc: 0.7124 | Train loss: 0.5293 Val Loss: 0.4062\n",
      "Epoch 081 | Fold 2 | Train Acc: 0.6926 | Val Acc: 0.7058 | Train loss: 0.5246 Val Loss: 0.4119\n",
      "Epoch 082 | Fold 2 | Train Acc: 0.6862 | Val Acc: 0.7124 | Train loss: 0.5238 Val Loss: 0.4028\n",
      "Epoch 083 | Fold 2 | Train Acc: 0.6831 | Val Acc: 0.7102 | Train loss: 0.5171 Val Loss: 0.4050\n",
      "Epoch 084 | Fold 2 | Train Acc: 0.6762 | Val Acc: 0.7080 | Train loss: 0.5135 Val Loss: 0.4045\n",
      "Epoch 085 | Fold 2 | Train Acc: 0.6783 | Val Acc: 0.7124 | Train loss: 0.5151 Val Loss: 0.4084\n",
      "Epoch 086 | Fold 2 | Train Acc: 0.6952 | Val Acc: 0.7168 | Train loss: 0.5217 Val Loss: 0.4070\n",
      "Epoch 087 | Fold 2 | Train Acc: 0.6820 | Val Acc: 0.6881 | Train loss: 0.5145 Val Loss: 0.4047\n",
      "Epoch 088 | Fold 2 | Train Acc: 0.6952 | Val Acc: 0.7080 | Train loss: 0.5162 Val Loss: 0.4099\n",
      "Epoch 089 | Fold 2 | Train Acc: 0.6810 | Val Acc: 0.7080 | Train loss: 0.5162 Val Loss: 0.4032\n",
      "Epoch 090 | Fold 2 | Train Acc: 0.6841 | Val Acc: 0.7168 | Train loss: 0.5018 Val Loss: 0.4065\n",
      "Epoch 091 | Fold 2 | Train Acc: 0.6635 | Val Acc: 0.6814 | Train loss: 0.5119 Val Loss: 0.4020\n",
      "Epoch 092 | Fold 2 | Train Acc: 0.6778 | Val Acc: 0.7124 | Train loss: 0.5090 Val Loss: 0.4045\n",
      "Epoch 093 | Fold 2 | Train Acc: 0.7005 | Val Acc: 0.7190 | Train loss: 0.5065 Val Loss: 0.4011\n",
      "Epoch 094 | Fold 2 | Train Acc: 0.6926 | Val Acc: 0.7035 | Train loss: 0.5147 Val Loss: 0.4012\n",
      "Epoch 095 | Fold 2 | Train Acc: 0.6735 | Val Acc: 0.6925 | Train loss: 0.5180 Val Loss: 0.4016\n",
      "Epoch 096 | Fold 2 | Train Acc: 0.6820 | Val Acc: 0.7124 | Train loss: 0.5060 Val Loss: 0.4079\n",
      "Epoch 097 | Fold 2 | Train Acc: 0.6931 | Val Acc: 0.6881 | Train loss: 0.5179 Val Loss: 0.4060\n",
      "Epoch 098 | Fold 2 | Train Acc: 0.6989 | Val Acc: 0.7102 | Train loss: 0.5043 Val Loss: 0.4097\n",
      "Epoch 099 | Fold 2 | Train Acc: 0.6884 | Val Acc: 0.6881 | Train loss: 0.5070 Val Loss: 0.3987\n",
      "Epoch 100 | Fold 2 | Train Acc: 0.6804 | Val Acc: 0.7080 | Train loss: 0.4962 Val Loss: 0.4007\n",
      "Epoch 101 | Fold 2 | Train Acc: 0.6905 | Val Acc: 0.7124 | Train loss: 0.5120 Val Loss: 0.4003\n",
      "Epoch 102 | Fold 2 | Train Acc: 0.6741 | Val Acc: 0.7080 | Train loss: 0.5126 Val Loss: 0.3984\n",
      "Epoch 103 | Fold 2 | Train Acc: 0.6746 | Val Acc: 0.7035 | Train loss: 0.5196 Val Loss: 0.4018\n",
      "Epoch 104 | Fold 2 | Train Acc: 0.6963 | Val Acc: 0.7080 | Train loss: 0.5112 Val Loss: 0.4056\n",
      "Epoch 105 | Fold 2 | Train Acc: 0.6767 | Val Acc: 0.6991 | Train loss: 0.5224 Val Loss: 0.4049\n",
      "Epoch 106 | Fold 2 | Train Acc: 0.6831 | Val Acc: 0.6792 | Train loss: 0.5058 Val Loss: 0.3996\n",
      "Epoch 107 | Fold 2 | Train Acc: 0.6873 | Val Acc: 0.7124 | Train loss: 0.5064 Val Loss: 0.4008\n",
      "Epoch 108 | Fold 2 | Train Acc: 0.7005 | Val Acc: 0.7124 | Train loss: 0.5088 Val Loss: 0.3956\n",
      "Epoch 109 | Fold 2 | Train Acc: 0.6931 | Val Acc: 0.7168 | Train loss: 0.5084 Val Loss: 0.3973\n",
      "Epoch 110 | Fold 2 | Train Acc: 0.6952 | Val Acc: 0.7146 | Train loss: 0.5076 Val Loss: 0.3963\n",
      "Epoch 111 | Fold 2 | Train Acc: 0.6984 | Val Acc: 0.7102 | Train loss: 0.5010 Val Loss: 0.3958\n",
      "Epoch 112 | Fold 2 | Train Acc: 0.6815 | Val Acc: 0.7168 | Train loss: 0.5092 Val Loss: 0.3972\n",
      "Epoch 113 | Fold 2 | Train Acc: 0.7016 | Val Acc: 0.6903 | Train loss: 0.5120 Val Loss: 0.4021\n",
      "Epoch 114 | Fold 2 | Train Acc: 0.6868 | Val Acc: 0.7301 | Train loss: 0.5122 Val Loss: 0.4016\n",
      "Epoch 115 | Fold 2 | Train Acc: 0.6762 | Val Acc: 0.7102 | Train loss: 0.5016 Val Loss: 0.3934\n",
      "Epoch 116 | Fold 2 | Train Acc: 0.6921 | Val Acc: 0.7212 | Train loss: 0.4994 Val Loss: 0.4018\n",
      "Epoch 117 | Fold 2 | Train Acc: 0.6968 | Val Acc: 0.7124 | Train loss: 0.5024 Val Loss: 0.3984\n",
      "Epoch 118 | Fold 2 | Train Acc: 0.6820 | Val Acc: 0.7102 | Train loss: 0.5034 Val Loss: 0.3920\n",
      "Epoch 119 | Fold 2 | Train Acc: 0.6974 | Val Acc: 0.7124 | Train loss: 0.4972 Val Loss: 0.3952\n",
      "Epoch 120 | Fold 2 | Train Acc: 0.7021 | Val Acc: 0.7124 | Train loss: 0.5138 Val Loss: 0.3964\n",
      "Epoch 121 | Fold 2 | Train Acc: 0.6847 | Val Acc: 0.6792 | Train loss: 0.4976 Val Loss: 0.3959\n",
      "Epoch 122 | Fold 2 | Train Acc: 0.6899 | Val Acc: 0.7146 | Train loss: 0.4994 Val Loss: 0.3998\n",
      "Epoch 123 | Fold 2 | Train Acc: 0.6878 | Val Acc: 0.7102 | Train loss: 0.5079 Val Loss: 0.3933\n",
      "Epoch 124 | Fold 2 | Train Acc: 0.7021 | Val Acc: 0.7168 | Train loss: 0.5050 Val Loss: 0.3989\n",
      "Epoch 125 | Fold 2 | Train Acc: 0.6862 | Val Acc: 0.7080 | Train loss: 0.5023 Val Loss: 0.3962\n",
      "Epoch 126 | Fold 2 | Train Acc: 0.6783 | Val Acc: 0.7168 | Train loss: 0.5069 Val Loss: 0.3980\n",
      "Epoch 127 | Fold 2 | Train Acc: 0.6947 | Val Acc: 0.6969 | Train loss: 0.4961 Val Loss: 0.3958\n",
      "Epoch 128 | Fold 2 | Train Acc: 0.6857 | Val Acc: 0.7190 | Train loss: 0.5051 Val Loss: 0.4017\n",
      "Epoch 129 | Fold 2 | Train Acc: 0.7101 | Val Acc: 0.6947 | Train loss: 0.4894 Val Loss: 0.3970\n",
      "Epoch 130 | Fold 2 | Train Acc: 0.6868 | Val Acc: 0.6925 | Train loss: 0.5059 Val Loss: 0.3934\n",
      "Epoch 131 | Fold 2 | Train Acc: 0.6974 | Val Acc: 0.7124 | Train loss: 0.4946 Val Loss: 0.3973\n",
      "Epoch 132 | Fold 2 | Train Acc: 0.6958 | Val Acc: 0.7146 | Train loss: 0.4987 Val Loss: 0.3952\n",
      "Epoch 133 | Fold 2 | Train Acc: 0.6995 | Val Acc: 0.6969 | Train loss: 0.4892 Val Loss: 0.3935\n",
      "Epoch 134 | Fold 2 | Train Acc: 0.6995 | Val Acc: 0.6969 | Train loss: 0.4905 Val Loss: 0.3949\n",
      "Epoch 135 | Fold 2 | Train Acc: 0.6868 | Val Acc: 0.7124 | Train loss: 0.5008 Val Loss: 0.3938\n",
      "Epoch 136 | Fold 2 | Train Acc: 0.7090 | Val Acc: 0.7124 | Train loss: 0.4952 Val Loss: 0.3941\n",
      "Epoch 137 | Fold 2 | Train Acc: 0.6952 | Val Acc: 0.7124 | Train loss: 0.4959 Val Loss: 0.3906\n",
      "Epoch 138 | Fold 2 | Train Acc: 0.7032 | Val Acc: 0.7124 | Train loss: 0.4898 Val Loss: 0.3898\n",
      "Epoch 139 | Fold 2 | Train Acc: 0.6937 | Val Acc: 0.7124 | Train loss: 0.4988 Val Loss: 0.3904\n",
      "Epoch 140 | Fold 2 | Train Acc: 0.6947 | Val Acc: 0.7168 | Train loss: 0.5001 Val Loss: 0.3947\n",
      "Epoch 141 | Fold 2 | Train Acc: 0.6878 | Val Acc: 0.6969 | Train loss: 0.5104 Val Loss: 0.3958\n",
      "Epoch 142 | Fold 2 | Train Acc: 0.7032 | Val Acc: 0.7235 | Train loss: 0.4928 Val Loss: 0.3941\n",
      "Epoch 143 | Fold 2 | Train Acc: 0.7085 | Val Acc: 0.7124 | Train loss: 0.4769 Val Loss: 0.3903\n",
      "Epoch 144 | Fold 2 | Train Acc: 0.6899 | Val Acc: 0.7102 | Train loss: 0.4998 Val Loss: 0.3888\n",
      "Epoch 145 | Fold 2 | Train Acc: 0.6937 | Val Acc: 0.7124 | Train loss: 0.4914 Val Loss: 0.3928\n",
      "Epoch 146 | Fold 2 | Train Acc: 0.6958 | Val Acc: 0.7124 | Train loss: 0.4850 Val Loss: 0.3911\n",
      "Epoch 147 | Fold 2 | Train Acc: 0.6942 | Val Acc: 0.7124 | Train loss: 0.4907 Val Loss: 0.3894\n",
      "Epoch 148 | Fold 2 | Train Acc: 0.6952 | Val Acc: 0.7124 | Train loss: 0.5010 Val Loss: 0.3929\n",
      "Epoch 149 | Fold 2 | Train Acc: 0.6979 | Val Acc: 0.7124 | Train loss: 0.4952 Val Loss: 0.3911\n",
      "Epoch 150 | Fold 2 | Train Acc: 0.6889 | Val Acc: 0.6969 | Train loss: 0.4970 Val Loss: 0.3924\n",
      "Epoch 151 | Fold 2 | Train Acc: 0.6915 | Val Acc: 0.6969 | Train loss: 0.4902 Val Loss: 0.3905\n",
      "Epoch 152 | Fold 2 | Train Acc: 0.6884 | Val Acc: 0.6969 | Train loss: 0.4891 Val Loss: 0.3937\n",
      "Epoch 153 | Fold 2 | Train Acc: 0.7079 | Val Acc: 0.7124 | Train loss: 0.4943 Val Loss: 0.3946\n",
      "Epoch 154 | Fold 2 | Train Acc: 0.7069 | Val Acc: 0.7146 | Train loss: 0.4950 Val Loss: 0.3891\n",
      "Epoch 155 | Fold 2 | Train Acc: 0.7048 | Val Acc: 0.7146 | Train loss: 0.4859 Val Loss: 0.3873\n",
      "Epoch 156 | Fold 2 | Train Acc: 0.6963 | Val Acc: 0.6969 | Train loss: 0.4866 Val Loss: 0.3884\n",
      "Epoch 157 | Fold 2 | Train Acc: 0.7000 | Val Acc: 0.7146 | Train loss: 0.4883 Val Loss: 0.3942\n",
      "Epoch 158 | Fold 2 | Train Acc: 0.7016 | Val Acc: 0.7124 | Train loss: 0.4956 Val Loss: 0.3895\n",
      "Epoch 159 | Fold 2 | Train Acc: 0.7005 | Val Acc: 0.7124 | Train loss: 0.4831 Val Loss: 0.3888\n",
      "Epoch 160 | Fold 2 | Train Acc: 0.6963 | Val Acc: 0.7168 | Train loss: 0.4954 Val Loss: 0.3905\n",
      "Epoch 161 | Fold 2 | Train Acc: 0.7143 | Val Acc: 0.7168 | Train loss: 0.4896 Val Loss: 0.3922\n",
      "Epoch 162 | Fold 2 | Train Acc: 0.7016 | Val Acc: 0.7124 | Train loss: 0.4920 Val Loss: 0.3880\n",
      "Epoch 163 | Fold 2 | Train Acc: 0.6958 | Val Acc: 0.7146 | Train loss: 0.4919 Val Loss: 0.3884\n",
      "Epoch 164 | Fold 2 | Train Acc: 0.6947 | Val Acc: 0.6969 | Train loss: 0.4947 Val Loss: 0.3879\n",
      "Epoch 165 | Fold 2 | Train Acc: 0.7058 | Val Acc: 0.7257 | Train loss: 0.4772 Val Loss: 0.3908\n",
      "Epoch 166 | Fold 2 | Train Acc: 0.7116 | Val Acc: 0.6969 | Train loss: 0.4894 Val Loss: 0.3925\n",
      "Epoch 167 | Fold 2 | Train Acc: 0.7085 | Val Acc: 0.7146 | Train loss: 0.4886 Val Loss: 0.3894\n",
      "Epoch 168 | Fold 2 | Train Acc: 0.6894 | Val Acc: 0.6969 | Train loss: 0.5025 Val Loss: 0.3882\n",
      "Epoch 169 | Fold 2 | Train Acc: 0.6947 | Val Acc: 0.6969 | Train loss: 0.4847 Val Loss: 0.3898\n",
      "Epoch 170 | Fold 2 | Train Acc: 0.7021 | Val Acc: 0.6969 | Train loss: 0.4879 Val Loss: 0.3892\n",
      "Epoch 171 | Fold 2 | Train Acc: 0.7048 | Val Acc: 0.6969 | Train loss: 0.4869 Val Loss: 0.3892\n",
      "Epoch 172 | Fold 2 | Train Acc: 0.6952 | Val Acc: 0.7146 | Train loss: 0.4803 Val Loss: 0.3888\n",
      "Epoch 173 | Fold 2 | Train Acc: 0.6989 | Val Acc: 0.7146 | Train loss: 0.4880 Val Loss: 0.3884\n",
      "Epoch 174 | Fold 2 | Train Acc: 0.7016 | Val Acc: 0.6969 | Train loss: 0.4907 Val Loss: 0.3890\n",
      "Epoch 175 | Fold 2 | Train Acc: 0.7074 | Val Acc: 0.7146 | Train loss: 0.4911 Val Loss: 0.3890\n",
      "Epoch 176 | Fold 2 | Train Acc: 0.6931 | Val Acc: 0.7124 | Train loss: 0.4889 Val Loss: 0.3893\n",
      "Epoch 177 | Fold 2 | Train Acc: 0.7063 | Val Acc: 0.7146 | Train loss: 0.4797 Val Loss: 0.3908\n",
      "Epoch 178 | Fold 2 | Train Acc: 0.7037 | Val Acc: 0.7146 | Train loss: 0.4873 Val Loss: 0.3893\n",
      "Epoch 179 | Fold 2 | Train Acc: 0.7005 | Val Acc: 0.7124 | Train loss: 0.4876 Val Loss: 0.3894\n",
      "Epoch 180 | Fold 2 | Train Acc: 0.6963 | Val Acc: 0.7146 | Train loss: 0.4898 Val Loss: 0.3894\n",
      "Epoch 181 | Fold 2 | Train Acc: 0.6995 | Val Acc: 0.7146 | Train loss: 0.4848 Val Loss: 0.3898\n",
      "Epoch 182 | Fold 2 | Train Acc: 0.7042 | Val Acc: 0.7146 | Train loss: 0.4868 Val Loss: 0.3895\n",
      "Epoch 183 | Fold 2 | Train Acc: 0.7000 | Val Acc: 0.7146 | Train loss: 0.4853 Val Loss: 0.3884\n",
      "Epoch 184 | Fold 2 | Train Acc: 0.7021 | Val Acc: 0.7146 | Train loss: 0.4828 Val Loss: 0.3881\n",
      "Epoch 185 | Fold 2 | Train Acc: 0.7042 | Val Acc: 0.7146 | Train loss: 0.4810 Val Loss: 0.3882\n",
      " Early stopping at epoch 185 for fold 2\n",
      " Fold 2: Best Val Acc = 0.7146\n",
      "Epoch 001 | Fold 3 | Train Acc: 0.1714 | Val Acc: 0.1849 | Train loss: 1.3841 Val Loss: 1.3822\n",
      "Epoch 002 | Fold 3 | Train Acc: 0.1962 | Val Acc: 0.2518 | Train loss: 1.3749 Val Loss: 1.3775\n",
      "Epoch 003 | Fold 3 | Train Acc: 0.2052 | Val Acc: 0.2500 | Train loss: 1.3651 Val Loss: 1.3728\n",
      "Epoch 004 | Fold 3 | Train Acc: 0.2717 | Val Acc: 0.3257 | Train loss: 1.3498 Val Loss: 1.3680\n",
      "Epoch 005 | Fold 3 | Train Acc: 0.3675 | Val Acc: 0.4067 | Train loss: 1.3370 Val Loss: 1.3621\n",
      "Epoch 006 | Fold 3 | Train Acc: 0.3794 | Val Acc: 0.4173 | Train loss: 1.3157 Val Loss: 1.3502\n",
      "Epoch 007 | Fold 3 | Train Acc: 0.4983 | Val Acc: 0.5229 | Train loss: 1.2855 Val Loss: 1.3383\n",
      "Epoch 008 | Fold 3 | Train Acc: 0.5434 | Val Acc: 0.4489 | Train loss: 1.2362 Val Loss: 1.3112\n",
      "Epoch 009 | Fold 3 | Train Acc: 0.5355 | Val Acc: 0.5335 | Train loss: 1.1861 Val Loss: 1.2907\n",
      "Epoch 010 | Fold 3 | Train Acc: 0.6454 | Val Acc: 0.5546 | Train loss: 1.1235 Val Loss: 1.2891\n",
      "Epoch 011 | Fold 3 | Train Acc: 0.5648 | Val Acc: 0.4930 | Train loss: 1.0400 Val Loss: 1.2075\n",
      "Epoch 012 | Fold 3 | Train Acc: 0.5440 | Val Acc: 0.5194 | Train loss: 0.9271 Val Loss: 1.1642\n",
      "Epoch 013 | Fold 3 | Train Acc: 0.6172 | Val Acc: 0.5405 | Train loss: 0.8239 Val Loss: 1.0770\n",
      "Epoch 014 | Fold 3 | Train Acc: 0.5575 | Val Acc: 0.5475 | Train loss: 0.7545 Val Loss: 1.0018\n",
      "Epoch 015 | Fold 3 | Train Acc: 0.5344 | Val Acc: 0.5616 | Train loss: 0.7033 Val Loss: 0.9579\n",
      "Epoch 016 | Fold 3 | Train Acc: 0.6195 | Val Acc: 0.6021 | Train loss: 0.6832 Val Loss: 0.9792\n",
      "Epoch 017 | Fold 3 | Train Acc: 0.6415 | Val Acc: 0.6074 | Train loss: 0.6563 Val Loss: 0.8876\n",
      "Epoch 018 | Fold 3 | Train Acc: 0.5908 | Val Acc: 0.6092 | Train loss: 0.6223 Val Loss: 0.8722\n",
      "Epoch 019 | Fold 3 | Train Acc: 0.6105 | Val Acc: 0.6092 | Train loss: 0.6080 Val Loss: 0.8567\n",
      "Epoch 020 | Fold 3 | Train Acc: 0.6449 | Val Acc: 0.6039 | Train loss: 0.6094 Val Loss: 0.8260\n",
      "Epoch 021 | Fold 3 | Train Acc: 0.6240 | Val Acc: 0.5951 | Train loss: 0.5960 Val Loss: 0.8178\n",
      "Epoch 022 | Fold 3 | Train Acc: 0.6308 | Val Acc: 0.5915 | Train loss: 0.5777 Val Loss: 0.7950\n",
      "Epoch 023 | Fold 3 | Train Acc: 0.6353 | Val Acc: 0.6004 | Train loss: 0.5945 Val Loss: 0.7834\n",
      "Epoch 024 | Fold 3 | Train Acc: 0.6421 | Val Acc: 0.5968 | Train loss: 0.5782 Val Loss: 0.7830\n",
      "Epoch 025 | Fold 3 | Train Acc: 0.6601 | Val Acc: 0.5968 | Train loss: 0.5476 Val Loss: 0.7708\n",
      "Epoch 026 | Fold 3 | Train Acc: 0.6246 | Val Acc: 0.6215 | Train loss: 0.5667 Val Loss: 0.7530\n",
      "Epoch 027 | Fold 3 | Train Acc: 0.6511 | Val Acc: 0.6127 | Train loss: 0.5346 Val Loss: 0.7585\n",
      "Epoch 028 | Fold 3 | Train Acc: 0.6669 | Val Acc: 0.6109 | Train loss: 0.5356 Val Loss: 0.7704\n",
      "Epoch 029 | Fold 3 | Train Acc: 0.6494 | Val Acc: 0.6232 | Train loss: 0.5467 Val Loss: 0.7306\n",
      "Epoch 030 | Fold 3 | Train Acc: 0.6674 | Val Acc: 0.6426 | Train loss: 0.5533 Val Loss: 0.7512\n",
      "Epoch 031 | Fold 3 | Train Acc: 0.6375 | Val Acc: 0.6373 | Train loss: 0.5367 Val Loss: 0.7420\n",
      "Epoch 032 | Fold 3 | Train Acc: 0.6815 | Val Acc: 0.6356 | Train loss: 0.5424 Val Loss: 0.7766\n",
      "Epoch 033 | Fold 3 | Train Acc: 0.7165 | Val Acc: 0.6620 | Train loss: 0.5432 Val Loss: 0.7271\n",
      "Epoch 034 | Fold 3 | Train Acc: 0.6240 | Val Acc: 0.6549 | Train loss: 0.5302 Val Loss: 0.7094\n",
      "Epoch 035 | Fold 3 | Train Acc: 0.6657 | Val Acc: 0.6602 | Train loss: 0.5229 Val Loss: 0.7283\n",
      "Epoch 036 | Fold 3 | Train Acc: 0.6990 | Val Acc: 0.6655 | Train loss: 0.5261 Val Loss: 0.7434\n",
      "Epoch 037 | Fold 3 | Train Acc: 0.6697 | Val Acc: 0.6796 | Train loss: 0.5222 Val Loss: 0.7049\n",
      "Epoch 038 | Fold 3 | Train Acc: 0.6714 | Val Acc: 0.6655 | Train loss: 0.5097 Val Loss: 0.7408\n",
      "Epoch 039 | Fold 3 | Train Acc: 0.6815 | Val Acc: 0.6567 | Train loss: 0.4991 Val Loss: 0.7174\n",
      "Epoch 040 | Fold 3 | Train Acc: 0.6849 | Val Acc: 0.6866 | Train loss: 0.4951 Val Loss: 0.7051\n",
      "Epoch 041 | Fold 3 | Train Acc: 0.6685 | Val Acc: 0.7007 | Train loss: 0.5104 Val Loss: 0.7108\n",
      "Epoch 042 | Fold 3 | Train Acc: 0.7069 | Val Acc: 0.6690 | Train loss: 0.4945 Val Loss: 0.7230\n",
      "Epoch 043 | Fold 3 | Train Acc: 0.6781 | Val Acc: 0.7077 | Train loss: 0.4948 Val Loss: 0.7103\n",
      "Epoch 044 | Fold 3 | Train Acc: 0.6962 | Val Acc: 0.6937 | Train loss: 0.5032 Val Loss: 0.7089\n",
      "Epoch 045 | Fold 3 | Train Acc: 0.6849 | Val Acc: 0.7183 | Train loss: 0.5038 Val Loss: 0.7018\n",
      "Epoch 046 | Fold 3 | Train Acc: 0.6838 | Val Acc: 0.6866 | Train loss: 0.5169 Val Loss: 0.7115\n",
      "Epoch 047 | Fold 3 | Train Acc: 0.6917 | Val Acc: 0.6989 | Train loss: 0.4976 Val Loss: 0.6992\n",
      "Epoch 048 | Fold 3 | Train Acc: 0.7046 | Val Acc: 0.7095 | Train loss: 0.4944 Val Loss: 0.6964\n",
      "Epoch 049 | Fold 3 | Train Acc: 0.6849 | Val Acc: 0.6972 | Train loss: 0.4780 Val Loss: 0.7054\n",
      "Epoch 050 | Fold 3 | Train Acc: 0.6883 | Val Acc: 0.7060 | Train loss: 0.4915 Val Loss: 0.7041\n",
      "Epoch 051 | Fold 3 | Train Acc: 0.6815 | Val Acc: 0.7077 | Train loss: 0.4876 Val Loss: 0.6918\n",
      "Epoch 052 | Fold 3 | Train Acc: 0.7108 | Val Acc: 0.6743 | Train loss: 0.4912 Val Loss: 0.7182\n",
      "Epoch 053 | Fold 3 | Train Acc: 0.6962 | Val Acc: 0.7165 | Train loss: 0.4809 Val Loss: 0.6812\n",
      "Epoch 054 | Fold 3 | Train Acc: 0.6832 | Val Acc: 0.6989 | Train loss: 0.4809 Val Loss: 0.6999\n",
      "Epoch 055 | Fold 3 | Train Acc: 0.7131 | Val Acc: 0.6919 | Train loss: 0.4873 Val Loss: 0.7170\n",
      "Epoch 056 | Fold 3 | Train Acc: 0.7057 | Val Acc: 0.7113 | Train loss: 0.4751 Val Loss: 0.7009\n",
      "Epoch 057 | Fold 3 | Train Acc: 0.7029 | Val Acc: 0.7113 | Train loss: 0.4926 Val Loss: 0.6847\n",
      "Epoch 058 | Fold 3 | Train Acc: 0.6973 | Val Acc: 0.7042 | Train loss: 0.4968 Val Loss: 0.7089\n",
      "Epoch 059 | Fold 3 | Train Acc: 0.6731 | Val Acc: 0.7095 | Train loss: 0.4885 Val Loss: 0.6774\n",
      "Epoch 060 | Fold 3 | Train Acc: 0.7131 | Val Acc: 0.7113 | Train loss: 0.4773 Val Loss: 0.6824\n",
      "Epoch 061 | Fold 3 | Train Acc: 0.7012 | Val Acc: 0.7148 | Train loss: 0.4712 Val Loss: 0.6967\n",
      "Epoch 062 | Fold 3 | Train Acc: 0.7018 | Val Acc: 0.7025 | Train loss: 0.4858 Val Loss: 0.6784\n",
      "Epoch 063 | Fold 3 | Train Acc: 0.7041 | Val Acc: 0.6884 | Train loss: 0.4834 Val Loss: 0.7039\n",
      "Epoch 064 | Fold 3 | Train Acc: 0.7063 | Val Acc: 0.7236 | Train loss: 0.4643 Val Loss: 0.6914\n",
      "Epoch 065 | Fold 3 | Train Acc: 0.7024 | Val Acc: 0.7113 | Train loss: 0.4761 Val Loss: 0.6725\n",
      "Epoch 066 | Fold 3 | Train Acc: 0.6776 | Val Acc: 0.7148 | Train loss: 0.4879 Val Loss: 0.6879\n",
      "Epoch 067 | Fold 3 | Train Acc: 0.7057 | Val Acc: 0.6884 | Train loss: 0.4744 Val Loss: 0.7025\n",
      "Epoch 068 | Fold 3 | Train Acc: 0.7136 | Val Acc: 0.7130 | Train loss: 0.4737 Val Loss: 0.6777\n",
      "Epoch 069 | Fold 3 | Train Acc: 0.6860 | Val Acc: 0.7218 | Train loss: 0.4787 Val Loss: 0.6673\n",
      "Epoch 070 | Fold 3 | Train Acc: 0.7125 | Val Acc: 0.7130 | Train loss: 0.4729 Val Loss: 0.6829\n",
      "Epoch 071 | Fold 3 | Train Acc: 0.7182 | Val Acc: 0.7113 | Train loss: 0.4775 Val Loss: 0.6916\n",
      "Epoch 072 | Fold 3 | Train Acc: 0.6928 | Val Acc: 0.7130 | Train loss: 0.4750 Val Loss: 0.6856\n",
      "Epoch 073 | Fold 3 | Train Acc: 0.7086 | Val Acc: 0.7130 | Train loss: 0.4583 Val Loss: 0.6850\n",
      "Epoch 074 | Fold 3 | Train Acc: 0.7024 | Val Acc: 0.7165 | Train loss: 0.4713 Val Loss: 0.6870\n",
      "Epoch 075 | Fold 3 | Train Acc: 0.7193 | Val Acc: 0.7165 | Train loss: 0.4637 Val Loss: 0.6858\n",
      "Epoch 076 | Fold 3 | Train Acc: 0.7063 | Val Acc: 0.7130 | Train loss: 0.4689 Val Loss: 0.6799\n",
      "Epoch 077 | Fold 3 | Train Acc: 0.7074 | Val Acc: 0.7060 | Train loss: 0.4715 Val Loss: 0.6974\n",
      "Epoch 078 | Fold 3 | Train Acc: 0.7114 | Val Acc: 0.7130 | Train loss: 0.4726 Val Loss: 0.7004\n",
      "Epoch 079 | Fold 3 | Train Acc: 0.6922 | Val Acc: 0.7165 | Train loss: 0.4776 Val Loss: 0.6854\n",
      "Epoch 080 | Fold 3 | Train Acc: 0.7046 | Val Acc: 0.7113 | Train loss: 0.4486 Val Loss: 0.6883\n",
      "Epoch 081 | Fold 3 | Train Acc: 0.7170 | Val Acc: 0.6901 | Train loss: 0.4754 Val Loss: 0.7077\n",
      "Epoch 082 | Fold 3 | Train Acc: 0.7277 | Val Acc: 0.7148 | Train loss: 0.4725 Val Loss: 0.7014\n",
      "Epoch 083 | Fold 3 | Train Acc: 0.6995 | Val Acc: 0.7254 | Train loss: 0.4700 Val Loss: 0.6737\n",
      "Epoch 084 | Fold 3 | Train Acc: 0.6984 | Val Acc: 0.7183 | Train loss: 0.4618 Val Loss: 0.6906\n",
      "Epoch 085 | Fold 3 | Train Acc: 0.7170 | Val Acc: 0.7130 | Train loss: 0.4658 Val Loss: 0.6873\n",
      "Epoch 086 | Fold 3 | Train Acc: 0.7108 | Val Acc: 0.7165 | Train loss: 0.4566 Val Loss: 0.6816\n",
      "Epoch 087 | Fold 3 | Train Acc: 0.6866 | Val Acc: 0.7218 | Train loss: 0.4653 Val Loss: 0.6686\n",
      "Epoch 088 | Fold 3 | Train Acc: 0.7159 | Val Acc: 0.7165 | Train loss: 0.4503 Val Loss: 0.6788\n",
      "Epoch 089 | Fold 3 | Train Acc: 0.7165 | Val Acc: 0.7130 | Train loss: 0.4582 Val Loss: 0.6925\n",
      "Epoch 090 | Fold 3 | Train Acc: 0.7125 | Val Acc: 0.7165 | Train loss: 0.4639 Val Loss: 0.6887\n",
      "Epoch 091 | Fold 3 | Train Acc: 0.7057 | Val Acc: 0.7130 | Train loss: 0.4599 Val Loss: 0.6879\n",
      "Epoch 092 | Fold 3 | Train Acc: 0.7080 | Val Acc: 0.7165 | Train loss: 0.4580 Val Loss: 0.6828\n",
      "Epoch 093 | Fold 3 | Train Acc: 0.7193 | Val Acc: 0.7130 | Train loss: 0.4622 Val Loss: 0.6943\n",
      "Epoch 094 | Fold 3 | Train Acc: 0.6990 | Val Acc: 0.7165 | Train loss: 0.4676 Val Loss: 0.6835\n",
      "Epoch 095 | Fold 3 | Train Acc: 0.7136 | Val Acc: 0.7165 | Train loss: 0.4622 Val Loss: 0.6858\n",
      "Epoch 096 | Fold 3 | Train Acc: 0.7114 | Val Acc: 0.7165 | Train loss: 0.4528 Val Loss: 0.6869\n",
      "Epoch 097 | Fold 3 | Train Acc: 0.7063 | Val Acc: 0.7165 | Train loss: 0.4636 Val Loss: 0.6838\n",
      "Epoch 098 | Fold 3 | Train Acc: 0.7046 | Val Acc: 0.7130 | Train loss: 0.4703 Val Loss: 0.6871\n",
      "Epoch 099 | Fold 3 | Train Acc: 0.7182 | Val Acc: 0.7130 | Train loss: 0.4607 Val Loss: 0.6917\n",
      " Early stopping at epoch 99 for fold 3\n",
      " Fold 3: Best Val Acc = 0.7218\n",
      "Epoch 001 | Fold 4 | Train Acc: 0.2054 | Val Acc: 0.2260 | Train loss: 1.3897 Val Loss: 1.3856\n",
      "Epoch 002 | Fold 4 | Train Acc: 0.2159 | Val Acc: 0.2237 | Train loss: 1.3799 Val Loss: 1.3797\n",
      "Epoch 003 | Fold 4 | Train Acc: 0.2153 | Val Acc: 0.3174 | Train loss: 1.3732 Val Loss: 1.3737\n",
      "Epoch 004 | Fold 4 | Train Acc: 0.2405 | Val Acc: 0.3562 | Train loss: 1.3665 Val Loss: 1.3655\n",
      "Epoch 005 | Fold 4 | Train Acc: 0.2589 | Val Acc: 0.3402 | Train loss: 1.3570 Val Loss: 1.3553\n",
      "Epoch 006 | Fold 4 | Train Acc: 0.2810 | Val Acc: 0.3607 | Train loss: 1.3442 Val Loss: 1.3402\n",
      "Epoch 007 | Fold 4 | Train Acc: 0.3608 | Val Acc: 0.5023 | Train loss: 1.3288 Val Loss: 1.3172\n",
      "Epoch 008 | Fold 4 | Train Acc: 0.4270 | Val Acc: 0.4703 | Train loss: 1.3026 Val Loss: 1.2826\n",
      "Epoch 009 | Fold 4 | Train Acc: 0.3929 | Val Acc: 0.4635 | Train loss: 1.2738 Val Loss: 1.2325\n",
      "Epoch 010 | Fold 4 | Train Acc: 0.4170 | Val Acc: 0.4909 | Train loss: 1.2210 Val Loss: 1.1631\n",
      "Epoch 011 | Fold 4 | Train Acc: 0.4312 | Val Acc: 0.4795 | Train loss: 1.1411 Val Loss: 1.0459\n",
      "Epoch 012 | Fold 4 | Train Acc: 0.4228 | Val Acc: 0.4612 | Train loss: 1.0586 Val Loss: 0.9180\n",
      "Epoch 013 | Fold 4 | Train Acc: 0.4428 | Val Acc: 0.5023 | Train loss: 0.9484 Val Loss: 0.8122\n",
      "Epoch 014 | Fold 4 | Train Acc: 0.4716 | Val Acc: 0.5160 | Train loss: 0.8745 Val Loss: 0.7196\n",
      "Epoch 015 | Fold 4 | Train Acc: 0.5058 | Val Acc: 0.5685 | Train loss: 0.8160 Val Loss: 0.6692\n",
      "Epoch 016 | Fold 4 | Train Acc: 0.5126 | Val Acc: 0.5548 | Train loss: 0.7769 Val Loss: 0.6455\n",
      "Epoch 017 | Fold 4 | Train Acc: 0.5504 | Val Acc: 0.6050 | Train loss: 0.7243 Val Loss: 0.6136\n",
      "Epoch 018 | Fold 4 | Train Acc: 0.5583 | Val Acc: 0.6096 | Train loss: 0.7146 Val Loss: 0.5948\n",
      "Epoch 019 | Fold 4 | Train Acc: 0.5793 | Val Acc: 0.5616 | Train loss: 0.6791 Val Loss: 0.5906\n",
      "Epoch 020 | Fold 4 | Train Acc: 0.5467 | Val Acc: 0.5753 | Train loss: 0.6817 Val Loss: 0.5716\n",
      "Epoch 021 | Fold 4 | Train Acc: 0.5709 | Val Acc: 0.5639 | Train loss: 0.6543 Val Loss: 0.5691\n",
      "Epoch 022 | Fold 4 | Train Acc: 0.5646 | Val Acc: 0.5822 | Train loss: 0.6422 Val Loss: 0.5545\n",
      "Epoch 023 | Fold 4 | Train Acc: 0.5819 | Val Acc: 0.5639 | Train loss: 0.6457 Val Loss: 0.5542\n",
      "Epoch 024 | Fold 4 | Train Acc: 0.5783 | Val Acc: 0.5982 | Train loss: 0.6338 Val Loss: 0.5388\n",
      "Epoch 025 | Fold 4 | Train Acc: 0.5741 | Val Acc: 0.6005 | Train loss: 0.6108 Val Loss: 0.5553\n",
      "Epoch 026 | Fold 4 | Train Acc: 0.5777 | Val Acc: 0.5639 | Train loss: 0.6194 Val Loss: 0.5423\n",
      "Epoch 027 | Fold 4 | Train Acc: 0.5741 | Val Acc: 0.6005 | Train loss: 0.5981 Val Loss: 0.5395\n",
      "Epoch 028 | Fold 4 | Train Acc: 0.5830 | Val Acc: 0.6119 | Train loss: 0.6143 Val Loss: 0.5335\n",
      "Epoch 029 | Fold 4 | Train Acc: 0.5804 | Val Acc: 0.5662 | Train loss: 0.6013 Val Loss: 0.5311\n",
      "Epoch 030 | Fold 4 | Train Acc: 0.5793 | Val Acc: 0.6005 | Train loss: 0.5973 Val Loss: 0.5350\n",
      "Epoch 031 | Fold 4 | Train Acc: 0.5704 | Val Acc: 0.5639 | Train loss: 0.5961 Val Loss: 0.5331\n",
      "Epoch 032 | Fold 4 | Train Acc: 0.5856 | Val Acc: 0.5913 | Train loss: 0.5852 Val Loss: 0.5313\n",
      "Epoch 033 | Fold 4 | Train Acc: 0.6066 | Val Acc: 0.5685 | Train loss: 0.5950 Val Loss: 0.5150\n",
      "Epoch 034 | Fold 4 | Train Acc: 0.5872 | Val Acc: 0.5890 | Train loss: 0.5846 Val Loss: 0.5289\n",
      "Epoch 035 | Fold 4 | Train Acc: 0.5840 | Val Acc: 0.5685 | Train loss: 0.5889 Val Loss: 0.5280\n",
      "Epoch 036 | Fold 4 | Train Acc: 0.5882 | Val Acc: 0.6210 | Train loss: 0.5860 Val Loss: 0.5197\n",
      "Epoch 037 | Fold 4 | Train Acc: 0.5987 | Val Acc: 0.5708 | Train loss: 0.5903 Val Loss: 0.5144\n",
      "Epoch 038 | Fold 4 | Train Acc: 0.5940 | Val Acc: 0.5685 | Train loss: 0.5834 Val Loss: 0.5289\n",
      "Epoch 039 | Fold 4 | Train Acc: 0.5851 | Val Acc: 0.6210 | Train loss: 0.5636 Val Loss: 0.5137\n",
      "Epoch 040 | Fold 4 | Train Acc: 0.6092 | Val Acc: 0.6027 | Train loss: 0.5564 Val Loss: 0.5134\n",
      "Epoch 041 | Fold 4 | Train Acc: 0.6014 | Val Acc: 0.6119 | Train loss: 0.5687 Val Loss: 0.5238\n",
      "Epoch 042 | Fold 4 | Train Acc: 0.6045 | Val Acc: 0.6187 | Train loss: 0.5714 Val Loss: 0.5083\n",
      "Epoch 043 | Fold 4 | Train Acc: 0.6050 | Val Acc: 0.5799 | Train loss: 0.5652 Val Loss: 0.5179\n",
      "Epoch 044 | Fold 4 | Train Acc: 0.5903 | Val Acc: 0.6164 | Train loss: 0.5621 Val Loss: 0.5165\n",
      "Epoch 045 | Fold 4 | Train Acc: 0.6014 | Val Acc: 0.6096 | Train loss: 0.5646 Val Loss: 0.5161\n",
      "Epoch 046 | Fold 4 | Train Acc: 0.6092 | Val Acc: 0.6073 | Train loss: 0.5540 Val Loss: 0.5184\n",
      "Epoch 047 | Fold 4 | Train Acc: 0.6119 | Val Acc: 0.6164 | Train loss: 0.5611 Val Loss: 0.5078\n",
      "Epoch 048 | Fold 4 | Train Acc: 0.6103 | Val Acc: 0.6119 | Train loss: 0.5549 Val Loss: 0.5118\n",
      "Epoch 049 | Fold 4 | Train Acc: 0.5872 | Val Acc: 0.6187 | Train loss: 0.5602 Val Loss: 0.5076\n",
      "Epoch 050 | Fold 4 | Train Acc: 0.6145 | Val Acc: 0.6210 | Train loss: 0.5480 Val Loss: 0.5050\n",
      "Epoch 051 | Fold 4 | Train Acc: 0.6061 | Val Acc: 0.6142 | Train loss: 0.5564 Val Loss: 0.5134\n",
      "Epoch 052 | Fold 4 | Train Acc: 0.6171 | Val Acc: 0.6119 | Train loss: 0.5527 Val Loss: 0.5036\n",
      "Epoch 053 | Fold 4 | Train Acc: 0.6166 | Val Acc: 0.6187 | Train loss: 0.5435 Val Loss: 0.5058\n",
      "Epoch 054 | Fold 4 | Train Acc: 0.6203 | Val Acc: 0.6256 | Train loss: 0.5501 Val Loss: 0.5039\n",
      "Epoch 055 | Fold 4 | Train Acc: 0.6392 | Val Acc: 0.6233 | Train loss: 0.5447 Val Loss: 0.5053\n",
      "Epoch 056 | Fold 4 | Train Acc: 0.6108 | Val Acc: 0.6164 | Train loss: 0.5372 Val Loss: 0.5161\n",
      "Epoch 057 | Fold 4 | Train Acc: 0.6150 | Val Acc: 0.6324 | Train loss: 0.5481 Val Loss: 0.4948\n",
      "Epoch 058 | Fold 4 | Train Acc: 0.6239 | Val Acc: 0.6256 | Train loss: 0.5479 Val Loss: 0.5078\n",
      "Epoch 059 | Fold 4 | Train Acc: 0.6129 | Val Acc: 0.6279 | Train loss: 0.5443 Val Loss: 0.4988\n",
      "Epoch 060 | Fold 4 | Train Acc: 0.6276 | Val Acc: 0.6256 | Train loss: 0.5243 Val Loss: 0.5045\n",
      "Epoch 061 | Fold 4 | Train Acc: 0.6271 | Val Acc: 0.6233 | Train loss: 0.5279 Val Loss: 0.5048\n",
      "Epoch 062 | Fold 4 | Train Acc: 0.6239 | Val Acc: 0.6301 | Train loss: 0.5372 Val Loss: 0.4914\n",
      "Epoch 063 | Fold 4 | Train Acc: 0.6266 | Val Acc: 0.6279 | Train loss: 0.5399 Val Loss: 0.4949\n",
      "Epoch 064 | Fold 4 | Train Acc: 0.6366 | Val Acc: 0.6279 | Train loss: 0.5370 Val Loss: 0.4875\n",
      "Epoch 065 | Fold 4 | Train Acc: 0.6345 | Val Acc: 0.6279 | Train loss: 0.5326 Val Loss: 0.5025\n",
      "Epoch 066 | Fold 4 | Train Acc: 0.6313 | Val Acc: 0.6324 | Train loss: 0.5363 Val Loss: 0.4909\n",
      "Epoch 067 | Fold 4 | Train Acc: 0.6334 | Val Acc: 0.6279 | Train loss: 0.5294 Val Loss: 0.5073\n",
      "Epoch 068 | Fold 4 | Train Acc: 0.6371 | Val Acc: 0.6507 | Train loss: 0.5268 Val Loss: 0.4836\n",
      "Epoch 069 | Fold 4 | Train Acc: 0.6402 | Val Acc: 0.6324 | Train loss: 0.5297 Val Loss: 0.4902\n",
      "Epoch 070 | Fold 4 | Train Acc: 0.6560 | Val Acc: 0.6507 | Train loss: 0.5247 Val Loss: 0.4877\n",
      "Epoch 071 | Fold 4 | Train Acc: 0.6429 | Val Acc: 0.6484 | Train loss: 0.5259 Val Loss: 0.4829\n",
      "Epoch 072 | Fold 4 | Train Acc: 0.6523 | Val Acc: 0.6301 | Train loss: 0.5257 Val Loss: 0.4924\n",
      "Epoch 073 | Fold 4 | Train Acc: 0.6402 | Val Acc: 0.6461 | Train loss: 0.5259 Val Loss: 0.4855\n",
      "Epoch 074 | Fold 4 | Train Acc: 0.6639 | Val Acc: 0.6438 | Train loss: 0.5123 Val Loss: 0.4801\n",
      "Epoch 075 | Fold 4 | Train Acc: 0.6486 | Val Acc: 0.6416 | Train loss: 0.5203 Val Loss: 0.4874\n",
      "Epoch 076 | Fold 4 | Train Acc: 0.6544 | Val Acc: 0.6416 | Train loss: 0.5130 Val Loss: 0.4905\n",
      "Epoch 077 | Fold 4 | Train Acc: 0.6644 | Val Acc: 0.6530 | Train loss: 0.5080 Val Loss: 0.4790\n",
      "Epoch 078 | Fold 4 | Train Acc: 0.6560 | Val Acc: 0.6416 | Train loss: 0.5193 Val Loss: 0.4901\n",
      "Epoch 079 | Fold 4 | Train Acc: 0.6660 | Val Acc: 0.6507 | Train loss: 0.5049 Val Loss: 0.4820\n",
      "Epoch 080 | Fold 4 | Train Acc: 0.6675 | Val Acc: 0.6416 | Train loss: 0.5186 Val Loss: 0.4809\n",
      "Epoch 081 | Fold 4 | Train Acc: 0.6523 | Val Acc: 0.6461 | Train loss: 0.5111 Val Loss: 0.4858\n",
      "Epoch 082 | Fold 4 | Train Acc: 0.6565 | Val Acc: 0.6758 | Train loss: 0.5249 Val Loss: 0.4767\n",
      "Epoch 083 | Fold 4 | Train Acc: 0.6738 | Val Acc: 0.6712 | Train loss: 0.5065 Val Loss: 0.4741\n",
      "Epoch 084 | Fold 4 | Train Acc: 0.6513 | Val Acc: 0.6598 | Train loss: 0.5172 Val Loss: 0.4895\n",
      "Epoch 085 | Fold 4 | Train Acc: 0.6670 | Val Acc: 0.6689 | Train loss: 0.5139 Val Loss: 0.4728\n",
      "Epoch 086 | Fold 4 | Train Acc: 0.6660 | Val Acc: 0.6598 | Train loss: 0.5117 Val Loss: 0.4806\n",
      "Epoch 087 | Fold 4 | Train Acc: 0.6502 | Val Acc: 0.6530 | Train loss: 0.5189 Val Loss: 0.4922\n",
      "Epoch 088 | Fold 4 | Train Acc: 0.6549 | Val Acc: 0.6781 | Train loss: 0.5053 Val Loss: 0.4679\n",
      "Epoch 089 | Fold 4 | Train Acc: 0.6712 | Val Acc: 0.6667 | Train loss: 0.5135 Val Loss: 0.4788\n",
      "Epoch 090 | Fold 4 | Train Acc: 0.6675 | Val Acc: 0.6393 | Train loss: 0.5036 Val Loss: 0.4867\n",
      "Epoch 091 | Fold 4 | Train Acc: 0.6654 | Val Acc: 0.6735 | Train loss: 0.5007 Val Loss: 0.4720\n",
      "Epoch 092 | Fold 4 | Train Acc: 0.6796 | Val Acc: 0.6735 | Train loss: 0.5035 Val Loss: 0.4702\n",
      "Epoch 093 | Fold 4 | Train Acc: 0.6623 | Val Acc: 0.6689 | Train loss: 0.5068 Val Loss: 0.4844\n",
      "Epoch 094 | Fold 4 | Train Acc: 0.6791 | Val Acc: 0.6712 | Train loss: 0.5037 Val Loss: 0.4692\n",
      "Epoch 095 | Fold 4 | Train Acc: 0.6476 | Val Acc: 0.6735 | Train loss: 0.5138 Val Loss: 0.4853\n",
      "Epoch 096 | Fold 4 | Train Acc: 0.6628 | Val Acc: 0.6872 | Train loss: 0.5112 Val Loss: 0.4746\n",
      "Epoch 097 | Fold 4 | Train Acc: 0.6765 | Val Acc: 0.6826 | Train loss: 0.4996 Val Loss: 0.4716\n",
      "Epoch 098 | Fold 4 | Train Acc: 0.6749 | Val Acc: 0.6804 | Train loss: 0.5072 Val Loss: 0.4713\n",
      "Epoch 099 | Fold 4 | Train Acc: 0.6738 | Val Acc: 0.6735 | Train loss: 0.5041 Val Loss: 0.4822\n",
      "Epoch 100 | Fold 4 | Train Acc: 0.6812 | Val Acc: 0.6826 | Train loss: 0.4928 Val Loss: 0.4700\n",
      "Epoch 101 | Fold 4 | Train Acc: 0.6733 | Val Acc: 0.6804 | Train loss: 0.5049 Val Loss: 0.4703\n",
      "Epoch 102 | Fold 4 | Train Acc: 0.6775 | Val Acc: 0.6781 | Train loss: 0.5056 Val Loss: 0.4659\n",
      "Epoch 103 | Fold 4 | Train Acc: 0.6828 | Val Acc: 0.6781 | Train loss: 0.4921 Val Loss: 0.4693\n",
      "Epoch 104 | Fold 4 | Train Acc: 0.6838 | Val Acc: 0.6781 | Train loss: 0.5059 Val Loss: 0.4673\n",
      "Epoch 105 | Fold 4 | Train Acc: 0.6717 | Val Acc: 0.6804 | Train loss: 0.4921 Val Loss: 0.4707\n",
      "Epoch 106 | Fold 4 | Train Acc: 0.6759 | Val Acc: 0.6895 | Train loss: 0.5026 Val Loss: 0.4685\n",
      "Epoch 107 | Fold 4 | Train Acc: 0.6807 | Val Acc: 0.6826 | Train loss: 0.4956 Val Loss: 0.4692\n",
      "Epoch 108 | Fold 4 | Train Acc: 0.6817 | Val Acc: 0.6872 | Train loss: 0.4992 Val Loss: 0.4656\n",
      "Epoch 109 | Fold 4 | Train Acc: 0.6754 | Val Acc: 0.6735 | Train loss: 0.4859 Val Loss: 0.4710\n",
      "Epoch 110 | Fold 4 | Train Acc: 0.6791 | Val Acc: 0.6781 | Train loss: 0.4874 Val Loss: 0.4729\n",
      "Epoch 111 | Fold 4 | Train Acc: 0.6681 | Val Acc: 0.6804 | Train loss: 0.4984 Val Loss: 0.4697\n",
      "Epoch 112 | Fold 4 | Train Acc: 0.6807 | Val Acc: 0.6895 | Train loss: 0.4885 Val Loss: 0.4683\n",
      "Epoch 113 | Fold 4 | Train Acc: 0.6812 | Val Acc: 0.6826 | Train loss: 0.5008 Val Loss: 0.4697\n",
      "Epoch 114 | Fold 4 | Train Acc: 0.6796 | Val Acc: 0.6849 | Train loss: 0.4829 Val Loss: 0.4686\n",
      "Epoch 115 | Fold 4 | Train Acc: 0.6864 | Val Acc: 0.6918 | Train loss: 0.4840 Val Loss: 0.4677\n",
      "Epoch 116 | Fold 4 | Train Acc: 0.6870 | Val Acc: 0.6918 | Train loss: 0.4977 Val Loss: 0.4655\n",
      "Epoch 117 | Fold 4 | Train Acc: 0.6712 | Val Acc: 0.6895 | Train loss: 0.4860 Val Loss: 0.4711\n",
      "Epoch 118 | Fold 4 | Train Acc: 0.6896 | Val Acc: 0.6895 | Train loss: 0.4912 Val Loss: 0.4672\n",
      "Epoch 119 | Fold 4 | Train Acc: 0.6854 | Val Acc: 0.6941 | Train loss: 0.4912 Val Loss: 0.4649\n",
      "Epoch 120 | Fold 4 | Train Acc: 0.6765 | Val Acc: 0.6849 | Train loss: 0.4910 Val Loss: 0.4723\n",
      "Epoch 121 | Fold 4 | Train Acc: 0.6828 | Val Acc: 0.6941 | Train loss: 0.4852 Val Loss: 0.4639\n",
      "Epoch 122 | Fold 4 | Train Acc: 0.6864 | Val Acc: 0.6918 | Train loss: 0.4967 Val Loss: 0.4677\n",
      "Epoch 123 | Fold 4 | Train Acc: 0.6702 | Val Acc: 0.6872 | Train loss: 0.4988 Val Loss: 0.4686\n",
      "Epoch 124 | Fold 4 | Train Acc: 0.6849 | Val Acc: 0.6758 | Train loss: 0.4886 Val Loss: 0.4682\n",
      "Epoch 125 | Fold 4 | Train Acc: 0.6665 | Val Acc: 0.6712 | Train loss: 0.4918 Val Loss: 0.4763\n",
      "Epoch 126 | Fold 4 | Train Acc: 0.6717 | Val Acc: 0.6941 | Train loss: 0.4900 Val Loss: 0.4619\n",
      "Epoch 127 | Fold 4 | Train Acc: 0.6943 | Val Acc: 0.6941 | Train loss: 0.4845 Val Loss: 0.4662\n",
      "Epoch 128 | Fold 4 | Train Acc: 0.6765 | Val Acc: 0.6735 | Train loss: 0.4924 Val Loss: 0.4728\n",
      "Epoch 129 | Fold 4 | Train Acc: 0.6807 | Val Acc: 0.6941 | Train loss: 0.4818 Val Loss: 0.4699\n",
      "Epoch 130 | Fold 4 | Train Acc: 0.6854 | Val Acc: 0.6986 | Train loss: 0.4903 Val Loss: 0.4655\n",
      "Epoch 131 | Fold 4 | Train Acc: 0.6917 | Val Acc: 0.6986 | Train loss: 0.4879 Val Loss: 0.4627\n",
      "Epoch 132 | Fold 4 | Train Acc: 0.6775 | Val Acc: 0.6712 | Train loss: 0.4966 Val Loss: 0.4762\n",
      "Epoch 133 | Fold 4 | Train Acc: 0.6812 | Val Acc: 0.6986 | Train loss: 0.4925 Val Loss: 0.4655\n",
      "Epoch 134 | Fold 4 | Train Acc: 0.7006 | Val Acc: 0.6918 | Train loss: 0.4947 Val Loss: 0.4661\n",
      "Epoch 135 | Fold 4 | Train Acc: 0.6712 | Val Acc: 0.6758 | Train loss: 0.4905 Val Loss: 0.4729\n",
      "Epoch 136 | Fold 4 | Train Acc: 0.6817 | Val Acc: 0.6872 | Train loss: 0.4897 Val Loss: 0.4691\n",
      "Epoch 137 | Fold 4 | Train Acc: 0.6749 | Val Acc: 0.6963 | Train loss: 0.4902 Val Loss: 0.4716\n",
      "Epoch 138 | Fold 4 | Train Acc: 0.6770 | Val Acc: 0.6872 | Train loss: 0.4799 Val Loss: 0.4709\n",
      "Epoch 139 | Fold 4 | Train Acc: 0.6801 | Val Acc: 0.7009 | Train loss: 0.4826 Val Loss: 0.4676\n",
      "Epoch 140 | Fold 4 | Train Acc: 0.6928 | Val Acc: 0.6941 | Train loss: 0.4837 Val Loss: 0.4668\n",
      "Epoch 141 | Fold 4 | Train Acc: 0.6796 | Val Acc: 0.6963 | Train loss: 0.4949 Val Loss: 0.4666\n",
      "Epoch 142 | Fold 4 | Train Acc: 0.6822 | Val Acc: 0.6963 | Train loss: 0.4880 Val Loss: 0.4668\n",
      "Epoch 143 | Fold 4 | Train Acc: 0.6896 | Val Acc: 0.6872 | Train loss: 0.4872 Val Loss: 0.4675\n",
      "Epoch 144 | Fold 4 | Train Acc: 0.6812 | Val Acc: 0.6918 | Train loss: 0.4848 Val Loss: 0.4668\n",
      "Epoch 145 | Fold 4 | Train Acc: 0.6864 | Val Acc: 0.6963 | Train loss: 0.4893 Val Loss: 0.4652\n",
      "Epoch 146 | Fold 4 | Train Acc: 0.6801 | Val Acc: 0.6963 | Train loss: 0.4933 Val Loss: 0.4677\n",
      "Epoch 147 | Fold 4 | Train Acc: 0.6833 | Val Acc: 0.6849 | Train loss: 0.4823 Val Loss: 0.4717\n",
      "Epoch 148 | Fold 4 | Train Acc: 0.6812 | Val Acc: 0.6826 | Train loss: 0.4810 Val Loss: 0.4724\n",
      "Epoch 149 | Fold 4 | Train Acc: 0.6838 | Val Acc: 0.6941 | Train loss: 0.4805 Val Loss: 0.4690\n",
      "Epoch 150 | Fold 4 | Train Acc: 0.6854 | Val Acc: 0.6941 | Train loss: 0.4711 Val Loss: 0.4675\n",
      "Epoch 151 | Fold 4 | Train Acc: 0.6859 | Val Acc: 0.6872 | Train loss: 0.4744 Val Loss: 0.4701\n",
      "Epoch 152 | Fold 4 | Train Acc: 0.6880 | Val Acc: 0.6941 | Train loss: 0.4795 Val Loss: 0.4673\n",
      "Epoch 153 | Fold 4 | Train Acc: 0.6896 | Val Acc: 0.6941 | Train loss: 0.4760 Val Loss: 0.4676\n",
      "Epoch 154 | Fold 4 | Train Acc: 0.6780 | Val Acc: 0.6941 | Train loss: 0.4885 Val Loss: 0.4674\n",
      "Epoch 155 | Fold 4 | Train Acc: 0.6864 | Val Acc: 0.6963 | Train loss: 0.4775 Val Loss: 0.4663\n",
      "Epoch 156 | Fold 4 | Train Acc: 0.6901 | Val Acc: 0.6941 | Train loss: 0.4760 Val Loss: 0.4679\n",
      " Early stopping at epoch 156 for fold 4\n",
      " Fold 4: Best Val Acc = 0.6941\n",
      "Epoch 001 | Fold 5 | Train Acc: 0.1841 | Val Acc: 0.1661 | Train loss: 1.3842 Val Loss: 1.3814\n",
      "Epoch 002 | Fold 5 | Train Acc: 0.2658 | Val Acc: 0.1908 | Train loss: 1.3727 Val Loss: 1.3792\n",
      "Epoch 003 | Fold 5 | Train Acc: 0.2731 | Val Acc: 0.2191 | Train loss: 1.3622 Val Loss: 1.3721\n",
      "Epoch 004 | Fold 5 | Train Acc: 0.3288 | Val Acc: 0.2951 | Train loss: 1.3478 Val Loss: 1.3516\n",
      "Epoch 005 | Fold 5 | Train Acc: 0.3711 | Val Acc: 0.2951 | Train loss: 1.3228 Val Loss: 1.3298\n",
      "Epoch 006 | Fold 5 | Train Acc: 0.3801 | Val Acc: 0.3163 | Train loss: 1.2882 Val Loss: 1.3055\n",
      "Epoch 007 | Fold 5 | Train Acc: 0.4341 | Val Acc: 0.3640 | Train loss: 1.2416 Val Loss: 1.2532\n",
      "Epoch 008 | Fold 5 | Train Acc: 0.4803 | Val Acc: 0.3587 | Train loss: 1.1844 Val Loss: 1.2067\n",
      "Epoch 009 | Fold 5 | Train Acc: 0.4448 | Val Acc: 0.3710 | Train loss: 1.1175 Val Loss: 1.1331\n",
      "Epoch 010 | Fold 5 | Train Acc: 0.4735 | Val Acc: 0.3534 | Train loss: 1.0160 Val Loss: 1.0449\n",
      "Epoch 011 | Fold 5 | Train Acc: 0.5045 | Val Acc: 0.3887 | Train loss: 0.9265 Val Loss: 0.9794\n",
      "Epoch 012 | Fold 5 | Train Acc: 0.5479 | Val Acc: 0.4346 | Train loss: 0.8642 Val Loss: 0.9425\n",
      "Epoch 013 | Fold 5 | Train Acc: 0.5389 | Val Acc: 0.4382 | Train loss: 0.8290 Val Loss: 0.9113\n",
      "Epoch 014 | Fold 5 | Train Acc: 0.5693 | Val Acc: 0.4929 | Train loss: 0.7848 Val Loss: 0.8542\n",
      "Epoch 015 | Fold 5 | Train Acc: 0.5940 | Val Acc: 0.4965 | Train loss: 0.7531 Val Loss: 0.8012\n",
      "Epoch 016 | Fold 5 | Train Acc: 0.5901 | Val Acc: 0.4753 | Train loss: 0.7317 Val Loss: 0.8106\n",
      "Epoch 017 | Fold 5 | Train Acc: 0.6132 | Val Acc: 0.4965 | Train loss: 0.6993 Val Loss: 0.7647\n",
      "Epoch 018 | Fold 5 | Train Acc: 0.6256 | Val Acc: 0.4735 | Train loss: 0.6746 Val Loss: 0.7256\n",
      "Epoch 019 | Fold 5 | Train Acc: 0.6109 | Val Acc: 0.4965 | Train loss: 0.6572 Val Loss: 0.7299\n",
      "Epoch 020 | Fold 5 | Train Acc: 0.6154 | Val Acc: 0.5106 | Train loss: 0.6508 Val Loss: 0.7279\n",
      "Epoch 021 | Fold 5 | Train Acc: 0.6402 | Val Acc: 0.4982 | Train loss: 0.6188 Val Loss: 0.7257\n",
      "Epoch 022 | Fold 5 | Train Acc: 0.6391 | Val Acc: 0.5283 | Train loss: 0.6187 Val Loss: 0.6736\n",
      "Epoch 023 | Fold 5 | Train Acc: 0.6526 | Val Acc: 0.5371 | Train loss: 0.6031 Val Loss: 0.6604\n",
      "Epoch 024 | Fold 5 | Train Acc: 0.6227 | Val Acc: 0.5230 | Train loss: 0.6105 Val Loss: 0.6920\n",
      "Epoch 025 | Fold 5 | Train Acc: 0.6543 | Val Acc: 0.5389 | Train loss: 0.5918 Val Loss: 0.6492\n",
      "Epoch 026 | Fold 5 | Train Acc: 0.6577 | Val Acc: 0.5336 | Train loss: 0.5838 Val Loss: 0.6585\n",
      "Epoch 027 | Fold 5 | Train Acc: 0.6458 | Val Acc: 0.5141 | Train loss: 0.5965 Val Loss: 0.6722\n",
      "Epoch 028 | Fold 5 | Train Acc: 0.6588 | Val Acc: 0.5247 | Train loss: 0.5816 Val Loss: 0.6579\n",
      "Epoch 029 | Fold 5 | Train Acc: 0.6644 | Val Acc: 0.5866 | Train loss: 0.5742 Val Loss: 0.6127\n",
      "Epoch 030 | Fold 5 | Train Acc: 0.6779 | Val Acc: 0.5353 | Train loss: 0.5783 Val Loss: 0.6403\n",
      "Epoch 031 | Fold 5 | Train Acc: 0.6593 | Val Acc: 0.5442 | Train loss: 0.5572 Val Loss: 0.6376\n",
      "Epoch 032 | Fold 5 | Train Acc: 0.6605 | Val Acc: 0.5018 | Train loss: 0.5538 Val Loss: 0.6425\n",
      "Epoch 033 | Fold 5 | Train Acc: 0.6841 | Val Acc: 0.5707 | Train loss: 0.5469 Val Loss: 0.6240\n",
      "Epoch 034 | Fold 5 | Train Acc: 0.6678 | Val Acc: 0.5141 | Train loss: 0.5628 Val Loss: 0.6314\n",
      "Epoch 035 | Fold 5 | Train Acc: 0.6757 | Val Acc: 0.5177 | Train loss: 0.5482 Val Loss: 0.6128\n",
      "Epoch 036 | Fold 5 | Train Acc: 0.6943 | Val Acc: 0.5371 | Train loss: 0.5489 Val Loss: 0.6175\n",
      "Epoch 037 | Fold 5 | Train Acc: 0.6841 | Val Acc: 0.5459 | Train loss: 0.5496 Val Loss: 0.6165\n",
      "Epoch 038 | Fold 5 | Train Acc: 0.6802 | Val Acc: 0.4859 | Train loss: 0.5557 Val Loss: 0.6409\n",
      "Epoch 039 | Fold 5 | Train Acc: 0.6858 | Val Acc: 0.5371 | Train loss: 0.5516 Val Loss: 0.6199\n",
      "Epoch 040 | Fold 5 | Train Acc: 0.6717 | Val Acc: 0.4859 | Train loss: 0.5547 Val Loss: 0.6384\n",
      "Epoch 041 | Fold 5 | Train Acc: 0.6841 | Val Acc: 0.5512 | Train loss: 0.5399 Val Loss: 0.6040\n",
      "Epoch 042 | Fold 5 | Train Acc: 0.6988 | Val Acc: 0.5636 | Train loss: 0.5455 Val Loss: 0.6104\n",
      "Epoch 043 | Fold 5 | Train Acc: 0.6909 | Val Acc: 0.5495 | Train loss: 0.5225 Val Loss: 0.6101\n",
      "Epoch 044 | Fold 5 | Train Acc: 0.6712 | Val Acc: 0.5477 | Train loss: 0.5294 Val Loss: 0.6119\n",
      "Epoch 045 | Fold 5 | Train Acc: 0.6886 | Val Acc: 0.5495 | Train loss: 0.5143 Val Loss: 0.6152\n",
      "Epoch 046 | Fold 5 | Train Acc: 0.6971 | Val Acc: 0.5548 | Train loss: 0.5218 Val Loss: 0.6098\n",
      "Epoch 047 | Fold 5 | Train Acc: 0.6954 | Val Acc: 0.5601 | Train loss: 0.5176 Val Loss: 0.6099\n",
      "Epoch 048 | Fold 5 | Train Acc: 0.6903 | Val Acc: 0.5830 | Train loss: 0.5265 Val Loss: 0.5991\n",
      "Epoch 049 | Fold 5 | Train Acc: 0.6976 | Val Acc: 0.5636 | Train loss: 0.5337 Val Loss: 0.6087\n",
      "Epoch 050 | Fold 5 | Train Acc: 0.6920 | Val Acc: 0.5830 | Train loss: 0.5280 Val Loss: 0.6043\n",
      "Epoch 051 | Fold 5 | Train Acc: 0.6965 | Val Acc: 0.5530 | Train loss: 0.5090 Val Loss: 0.6101\n",
      "Epoch 052 | Fold 5 | Train Acc: 0.6982 | Val Acc: 0.5883 | Train loss: 0.5157 Val Loss: 0.5954\n",
      "Epoch 053 | Fold 5 | Train Acc: 0.6959 | Val Acc: 0.5618 | Train loss: 0.5213 Val Loss: 0.6052\n",
      "Epoch 054 | Fold 5 | Train Acc: 0.7005 | Val Acc: 0.5671 | Train loss: 0.5179 Val Loss: 0.6025\n",
      "Epoch 055 | Fold 5 | Train Acc: 0.6954 | Val Acc: 0.5901 | Train loss: 0.5201 Val Loss: 0.5978\n",
      "Epoch 056 | Fold 5 | Train Acc: 0.6914 | Val Acc: 0.5636 | Train loss: 0.5262 Val Loss: 0.6078\n",
      "Epoch 057 | Fold 5 | Train Acc: 0.6948 | Val Acc: 0.5919 | Train loss: 0.5169 Val Loss: 0.5967\n",
      "Epoch 058 | Fold 5 | Train Acc: 0.7010 | Val Acc: 0.5671 | Train loss: 0.5098 Val Loss: 0.6058\n",
      "Epoch 059 | Fold 5 | Train Acc: 0.7055 | Val Acc: 0.5901 | Train loss: 0.5092 Val Loss: 0.5968\n",
      "Epoch 060 | Fold 5 | Train Acc: 0.6988 | Val Acc: 0.5707 | Train loss: 0.5104 Val Loss: 0.6096\n",
      "Epoch 061 | Fold 5 | Train Acc: 0.7021 | Val Acc: 0.5936 | Train loss: 0.5226 Val Loss: 0.5936\n",
      "Epoch 062 | Fold 5 | Train Acc: 0.6847 | Val Acc: 0.5618 | Train loss: 0.5281 Val Loss: 0.6167\n",
      "Epoch 063 | Fold 5 | Train Acc: 0.6965 | Val Acc: 0.5936 | Train loss: 0.5157 Val Loss: 0.5911\n",
      "Epoch 064 | Fold 5 | Train Acc: 0.6982 | Val Acc: 0.5919 | Train loss: 0.5158 Val Loss: 0.6054\n",
      "Epoch 065 | Fold 5 | Train Acc: 0.7044 | Val Acc: 0.5972 | Train loss: 0.5019 Val Loss: 0.5921\n",
      "Epoch 066 | Fold 5 | Train Acc: 0.7145 | Val Acc: 0.6025 | Train loss: 0.5121 Val Loss: 0.5913\n",
      "Epoch 067 | Fold 5 | Train Acc: 0.7072 | Val Acc: 0.5989 | Train loss: 0.5050 Val Loss: 0.5976\n",
      "Epoch 068 | Fold 5 | Train Acc: 0.7128 | Val Acc: 0.5936 | Train loss: 0.5100 Val Loss: 0.5959\n",
      "Epoch 069 | Fold 5 | Train Acc: 0.6993 | Val Acc: 0.5936 | Train loss: 0.5156 Val Loss: 0.6004\n",
      "Epoch 070 | Fold 5 | Train Acc: 0.7157 | Val Acc: 0.5972 | Train loss: 0.5037 Val Loss: 0.5901\n",
      "Epoch 071 | Fold 5 | Train Acc: 0.6976 | Val Acc: 0.5972 | Train loss: 0.4945 Val Loss: 0.5902\n",
      "Epoch 072 | Fold 5 | Train Acc: 0.7151 | Val Acc: 0.5936 | Train loss: 0.5065 Val Loss: 0.5943\n",
      "Epoch 073 | Fold 5 | Train Acc: 0.7066 | Val Acc: 0.6007 | Train loss: 0.5133 Val Loss: 0.5996\n",
      "Epoch 074 | Fold 5 | Train Acc: 0.7117 | Val Acc: 0.5936 | Train loss: 0.5148 Val Loss: 0.5843\n",
      "Epoch 075 | Fold 5 | Train Acc: 0.6993 | Val Acc: 0.5936 | Train loss: 0.4962 Val Loss: 0.5860\n",
      "Epoch 076 | Fold 5 | Train Acc: 0.7252 | Val Acc: 0.5972 | Train loss: 0.5015 Val Loss: 0.5964\n",
      "Epoch 077 | Fold 5 | Train Acc: 0.7016 | Val Acc: 0.6025 | Train loss: 0.5157 Val Loss: 0.6007\n",
      "Epoch 078 | Fold 5 | Train Acc: 0.7050 | Val Acc: 0.6042 | Train loss: 0.4965 Val Loss: 0.5796\n",
      "Epoch 079 | Fold 5 | Train Acc: 0.7021 | Val Acc: 0.6025 | Train loss: 0.5182 Val Loss: 0.5844\n",
      "Epoch 080 | Fold 5 | Train Acc: 0.7275 | Val Acc: 0.6025 | Train loss: 0.4997 Val Loss: 0.5849\n",
      "Epoch 081 | Fold 5 | Train Acc: 0.6993 | Val Acc: 0.6025 | Train loss: 0.5101 Val Loss: 0.5997\n",
      "Epoch 082 | Fold 5 | Train Acc: 0.7128 | Val Acc: 0.5919 | Train loss: 0.5111 Val Loss: 0.6004\n",
      "Epoch 083 | Fold 5 | Train Acc: 0.7021 | Val Acc: 0.5972 | Train loss: 0.5147 Val Loss: 0.5999\n",
      "Epoch 084 | Fold 5 | Train Acc: 0.7061 | Val Acc: 0.6025 | Train loss: 0.5069 Val Loss: 0.5931\n",
      "Epoch 085 | Fold 5 | Train Acc: 0.7111 | Val Acc: 0.6025 | Train loss: 0.5013 Val Loss: 0.5909\n",
      "Epoch 086 | Fold 5 | Train Acc: 0.7168 | Val Acc: 0.5919 | Train loss: 0.4816 Val Loss: 0.5994\n",
      "Epoch 087 | Fold 5 | Train Acc: 0.7021 | Val Acc: 0.6007 | Train loss: 0.5056 Val Loss: 0.6108\n",
      "Epoch 088 | Fold 5 | Train Acc: 0.7078 | Val Acc: 0.5989 | Train loss: 0.5116 Val Loss: 0.5861\n",
      "Epoch 089 | Fold 5 | Train Acc: 0.7213 | Val Acc: 0.5954 | Train loss: 0.4933 Val Loss: 0.5966\n",
      "Epoch 090 | Fold 5 | Train Acc: 0.7185 | Val Acc: 0.5936 | Train loss: 0.4980 Val Loss: 0.5932\n",
      "Epoch 091 | Fold 5 | Train Acc: 0.7078 | Val Acc: 0.5954 | Train loss: 0.4938 Val Loss: 0.5935\n",
      "Epoch 092 | Fold 5 | Train Acc: 0.7151 | Val Acc: 0.6025 | Train loss: 0.4956 Val Loss: 0.5856\n",
      "Epoch 093 | Fold 5 | Train Acc: 0.7083 | Val Acc: 0.5936 | Train loss: 0.5044 Val Loss: 0.5913\n",
      "Epoch 094 | Fold 5 | Train Acc: 0.7123 | Val Acc: 0.5936 | Train loss: 0.4981 Val Loss: 0.5980\n",
      "Epoch 095 | Fold 5 | Train Acc: 0.7072 | Val Acc: 0.5972 | Train loss: 0.5090 Val Loss: 0.5951\n",
      "Epoch 096 | Fold 5 | Train Acc: 0.7123 | Val Acc: 0.5936 | Train loss: 0.4914 Val Loss: 0.5960\n",
      "Epoch 097 | Fold 5 | Train Acc: 0.7083 | Val Acc: 0.5936 | Train loss: 0.4875 Val Loss: 0.5988\n",
      "Epoch 098 | Fold 5 | Train Acc: 0.7061 | Val Acc: 0.5972 | Train loss: 0.5011 Val Loss: 0.5937\n",
      "Epoch 099 | Fold 5 | Train Acc: 0.7117 | Val Acc: 0.5936 | Train loss: 0.4965 Val Loss: 0.5887\n",
      "Epoch 100 | Fold 5 | Train Acc: 0.7066 | Val Acc: 0.5972 | Train loss: 0.4971 Val Loss: 0.5791\n",
      "Epoch 101 | Fold 5 | Train Acc: 0.7038 | Val Acc: 0.5936 | Train loss: 0.5105 Val Loss: 0.5890\n",
      "Epoch 102 | Fold 5 | Train Acc: 0.7162 | Val Acc: 0.5919 | Train loss: 0.4887 Val Loss: 0.5913\n",
      "Epoch 103 | Fold 5 | Train Acc: 0.7185 | Val Acc: 0.5972 | Train loss: 0.4974 Val Loss: 0.5856\n",
      "Epoch 104 | Fold 5 | Train Acc: 0.7100 | Val Acc: 0.5936 | Train loss: 0.5018 Val Loss: 0.5927\n",
      "Epoch 105 | Fold 5 | Train Acc: 0.7128 | Val Acc: 0.6042 | Train loss: 0.4934 Val Loss: 0.5886\n",
      "Epoch 106 | Fold 5 | Train Acc: 0.7061 | Val Acc: 0.5936 | Train loss: 0.5095 Val Loss: 0.5925\n",
      "Epoch 107 | Fold 5 | Train Acc: 0.7123 | Val Acc: 0.5936 | Train loss: 0.4932 Val Loss: 0.5943\n",
      "Epoch 108 | Fold 5 | Train Acc: 0.7083 | Val Acc: 0.5954 | Train loss: 0.4982 Val Loss: 0.5901\n",
      "Epoch 109 | Fold 5 | Train Acc: 0.7066 | Val Acc: 0.5954 | Train loss: 0.5024 Val Loss: 0.5892\n",
      "Epoch 110 | Fold 5 | Train Acc: 0.7157 | Val Acc: 0.5972 | Train loss: 0.4875 Val Loss: 0.5854\n",
      "Epoch 111 | Fold 5 | Train Acc: 0.7168 | Val Acc: 0.5954 | Train loss: 0.4931 Val Loss: 0.5926\n",
      "Epoch 112 | Fold 5 | Train Acc: 0.7117 | Val Acc: 0.5954 | Train loss: 0.4906 Val Loss: 0.5921\n",
      "Epoch 113 | Fold 5 | Train Acc: 0.7157 | Val Acc: 0.5954 | Train loss: 0.4986 Val Loss: 0.5906\n",
      "Epoch 114 | Fold 5 | Train Acc: 0.7117 | Val Acc: 0.5936 | Train loss: 0.4939 Val Loss: 0.5935\n",
      "Epoch 115 | Fold 5 | Train Acc: 0.7117 | Val Acc: 0.5954 | Train loss: 0.4948 Val Loss: 0.5903\n",
      "Epoch 116 | Fold 5 | Train Acc: 0.7196 | Val Acc: 0.5954 | Train loss: 0.5084 Val Loss: 0.5877\n",
      "Epoch 117 | Fold 5 | Train Acc: 0.7151 | Val Acc: 0.5936 | Train loss: 0.4995 Val Loss: 0.5891\n",
      "Epoch 118 | Fold 5 | Train Acc: 0.7168 | Val Acc: 0.5954 | Train loss: 0.4839 Val Loss: 0.5871\n",
      "Epoch 119 | Fold 5 | Train Acc: 0.7157 | Val Acc: 0.5954 | Train loss: 0.4917 Val Loss: 0.5891\n",
      "Epoch 120 | Fold 5 | Train Acc: 0.7072 | Val Acc: 0.5972 | Train loss: 0.4922 Val Loss: 0.5880\n",
      "Epoch 121 | Fold 5 | Train Acc: 0.7145 | Val Acc: 0.5936 | Train loss: 0.4958 Val Loss: 0.5890\n",
      "Epoch 122 | Fold 5 | Train Acc: 0.7072 | Val Acc: 0.5954 | Train loss: 0.4918 Val Loss: 0.5893\n",
      "Epoch 123 | Fold 5 | Train Acc: 0.7151 | Val Acc: 0.5936 | Train loss: 0.4837 Val Loss: 0.5912\n",
      "Epoch 124 | Fold 5 | Train Acc: 0.7016 | Val Acc: 0.5936 | Train loss: 0.4992 Val Loss: 0.5914\n",
      "Epoch 125 | Fold 5 | Train Acc: 0.7128 | Val Acc: 0.5954 | Train loss: 0.4796 Val Loss: 0.5901\n",
      "Epoch 126 | Fold 5 | Train Acc: 0.7117 | Val Acc: 0.5954 | Train loss: 0.4975 Val Loss: 0.5910\n",
      "Epoch 127 | Fold 5 | Train Acc: 0.7162 | Val Acc: 0.5954 | Train loss: 0.5024 Val Loss: 0.5903\n",
      "Epoch 128 | Fold 5 | Train Acc: 0.7044 | Val Acc: 0.5972 | Train loss: 0.5024 Val Loss: 0.5899\n",
      "Epoch 129 | Fold 5 | Train Acc: 0.7173 | Val Acc: 0.5972 | Train loss: 0.4975 Val Loss: 0.5893\n",
      "Epoch 130 | Fold 5 | Train Acc: 0.7173 | Val Acc: 0.5954 | Train loss: 0.4828 Val Loss: 0.5888\n",
      " Early stopping at epoch 130 for fold 5\n",
      " Fold 5: Best Val Acc = 0.5972\n",
      "🏃 View run trial_4 at: http://127.0.0.1:5000/#/experiments/906754211394743286/runs/843cc01c67694275aeafd52f55720178\n",
      "🧪 View experiment at: http://127.0.0.1:5000/#/experiments/906754211394743286\n"
     ]
    },
    {
     "name": "stderr",
     "output_type": "stream",
     "text": [
      "[I 2025-07-15 00:47:58,708] Trial 4 finished with value: 0.7040245315665283 and parameters: {'hidden_channels': 128, 'num_layers': 3, 'heads': 4, 'dropout': 0.17648574133410555, 'hidden_dim': 64}. Best is trial 4 with value: 0.7040245315665283.\n"
     ]
    },
    {
     "name": "stdout",
     "output_type": "stream",
     "text": [
      "Epoch 001 | Fold 1 | Train Acc: 0.1398 | Val Acc: 0.3333 | Train loss: 1.3908 Val Loss: 1.3717\n"
     ]
    },
    {
     "name": "stderr",
     "output_type": "stream",
     "text": [
      "[I 2025-07-15 00:48:00,666] Trial 5 pruned. \n"
     ]
    },
    {
     "name": "stdout",
     "output_type": "stream",
     "text": [
      "Epoch 002 | Fold 1 | Train Acc: 0.1724 | Val Acc: 0.3774 | Train loss: 1.3832 Val Loss: 1.3679\n",
      "🏃 View run trial_5 at: http://127.0.0.1:5000/#/experiments/906754211394743286/runs/0ac2f16dd12b438fa92ca1a57770e5e4\n",
      "🧪 View experiment at: http://127.0.0.1:5000/#/experiments/906754211394743286\n",
      "Epoch 001 | Fold 1 | Train Acc: 0.2381 | Val Acc: 0.2736 | Train loss: 1.3832 Val Loss: 1.3664\n",
      "Epoch 002 | Fold 1 | Train Acc: 0.2905 | Val Acc: 0.4874 | Train loss: 1.3652 Val Loss: 1.3401\n",
      "Epoch 003 | Fold 1 | Train Acc: 0.3809 | Val Acc: 0.5755 | Train loss: 1.3443 Val Loss: 1.3167\n",
      "Epoch 004 | Fold 1 | Train Acc: 0.4175 | Val Acc: 0.6761 | Train loss: 1.3228 Val Loss: 1.2865\n",
      "Epoch 005 | Fold 1 | Train Acc: 0.4333 | Val Acc: 0.6918 | Train loss: 1.3036 Val Loss: 1.2514\n",
      "Epoch 006 | Fold 1 | Train Acc: 0.4501 | Val Acc: 0.7013 | Train loss: 1.2723 Val Loss: 1.2147\n",
      "Epoch 007 | Fold 1 | Train Acc: 0.4812 | Val Acc: 0.7264 | Train loss: 1.2463 Val Loss: 1.1619\n",
      "Epoch 008 | Fold 1 | Train Acc: 0.4610 | Val Acc: 0.7138 | Train loss: 1.1969 Val Loss: 1.0980\n",
      "Epoch 009 | Fold 1 | Train Acc: 0.4852 | Val Acc: 0.7516 | Train loss: 1.1589 Val Loss: 1.0400\n",
      "Epoch 010 | Fold 1 | Train Acc: 0.5074 | Val Acc: 0.7421 | Train loss: 1.1059 Val Loss: 0.9674\n",
      "Epoch 011 | Fold 1 | Train Acc: 0.5084 | Val Acc: 0.7421 | Train loss: 1.0512 Val Loss: 0.8805\n",
      "Epoch 012 | Fold 1 | Train Acc: 0.5094 | Val Acc: 0.7547 | Train loss: 0.9955 Val Loss: 0.8108\n",
      "Epoch 013 | Fold 1 | Train Acc: 0.5168 | Val Acc: 0.7547 | Train loss: 0.9368 Val Loss: 0.7440\n",
      "Epoch 014 | Fold 1 | Train Acc: 0.5035 | Val Acc: 0.7484 | Train loss: 0.8914 Val Loss: 0.6828\n",
      "Epoch 015 | Fold 1 | Train Acc: 0.5040 | Val Acc: 0.7484 | Train loss: 0.8497 Val Loss: 0.6357\n",
      "Epoch 016 | Fold 1 | Train Acc: 0.5292 | Val Acc: 0.7610 | Train loss: 0.8165 Val Loss: 0.6040\n",
      "Epoch 017 | Fold 1 | Train Acc: 0.5371 | Val Acc: 0.7610 | Train loss: 0.7743 Val Loss: 0.5695\n",
      "Epoch 018 | Fold 1 | Train Acc: 0.5257 | Val Acc: 0.7642 | Train loss: 0.7506 Val Loss: 0.5348\n",
      "Epoch 019 | Fold 1 | Train Acc: 0.5455 | Val Acc: 0.7642 | Train loss: 0.7206 Val Loss: 0.5265\n",
      "Epoch 020 | Fold 1 | Train Acc: 0.5371 | Val Acc: 0.7642 | Train loss: 0.7070 Val Loss: 0.5011\n",
      "Epoch 021 | Fold 1 | Train Acc: 0.5455 | Val Acc: 0.7673 | Train loss: 0.6985 Val Loss: 0.5031\n",
      "Epoch 022 | Fold 1 | Train Acc: 0.5519 | Val Acc: 0.7610 | Train loss: 0.6680 Val Loss: 0.4820\n",
      "Epoch 023 | Fold 1 | Train Acc: 0.5459 | Val Acc: 0.7579 | Train loss: 0.6565 Val Loss: 0.4748\n",
      "Epoch 024 | Fold 1 | Train Acc: 0.5539 | Val Acc: 0.7547 | Train loss: 0.6561 Val Loss: 0.4672\n",
      "Epoch 025 | Fold 1 | Train Acc: 0.5445 | Val Acc: 0.7516 | Train loss: 0.6550 Val Loss: 0.4589\n",
      "Epoch 026 | Fold 1 | Train Acc: 0.5504 | Val Acc: 0.7579 | Train loss: 0.6355 Val Loss: 0.4571\n",
      "Epoch 027 | Fold 1 | Train Acc: 0.5563 | Val Acc: 0.7673 | Train loss: 0.6393 Val Loss: 0.4718\n",
      "Epoch 028 | Fold 1 | Train Acc: 0.5637 | Val Acc: 0.7642 | Train loss: 0.6216 Val Loss: 0.4538\n",
      "Epoch 029 | Fold 1 | Train Acc: 0.5558 | Val Acc: 0.7642 | Train loss: 0.6164 Val Loss: 0.4532\n",
      "Epoch 030 | Fold 1 | Train Acc: 0.5553 | Val Acc: 0.7642 | Train loss: 0.6198 Val Loss: 0.4490\n",
      "Epoch 031 | Fold 1 | Train Acc: 0.5563 | Val Acc: 0.7642 | Train loss: 0.6099 Val Loss: 0.4563\n"
     ]
    },
    {
     "name": "stderr",
     "output_type": "stream",
     "text": [
      "[I 2025-07-15 00:48:16,607] Trial 6 pruned. \n"
     ]
    },
    {
     "name": "stdout",
     "output_type": "stream",
     "text": [
      "Epoch 032 | Fold 1 | Train Acc: 0.5608 | Val Acc: 0.7642 | Train loss: 0.6078 Val Loss: 0.4490\n",
      "🏃 View run trial_6 at: http://127.0.0.1:5000/#/experiments/906754211394743286/runs/12fc3382aa3c481496b833b982af3f0e\n",
      "🧪 View experiment at: http://127.0.0.1:5000/#/experiments/906754211394743286\n",
      "Epoch 001 | Fold 1 | Train Acc: 0.3103 | Val Acc: 0.3113 | Train loss: 1.3923 Val Loss: 1.3905\n"
     ]
    },
    {
     "name": "stderr",
     "output_type": "stream",
     "text": [
      "[I 2025-07-15 00:48:18,202] Trial 7 pruned. \n"
     ]
    },
    {
     "name": "stdout",
     "output_type": "stream",
     "text": [
      "Epoch 002 | Fold 1 | Train Acc: 0.3315 | Val Acc: 0.3050 | Train loss: 1.3816 Val Loss: 1.3776\n",
      "🏃 View run trial_7 at: http://127.0.0.1:5000/#/experiments/906754211394743286/runs/27a0324977ea407cbbe88d67525f68c9\n",
      "🧪 View experiment at: http://127.0.0.1:5000/#/experiments/906754211394743286\n",
      "Epoch 001 | Fold 1 | Train Acc: 0.3893 | Val Acc: 0.2862 | Train loss: 1.3914 Val Loss: 1.3997\n"
     ]
    },
    {
     "name": "stderr",
     "output_type": "stream",
     "text": [
      "[I 2025-07-15 00:48:20,072] Trial 8 pruned. \n"
     ]
    },
    {
     "name": "stdout",
     "output_type": "stream",
     "text": [
      "Epoch 002 | Fold 1 | Train Acc: 0.4017 | Val Acc: 0.2925 | Train loss: 1.3780 Val Loss: 1.3842\n",
      "🏃 View run trial_8 at: http://127.0.0.1:5000/#/experiments/906754211394743286/runs/81261a57dbe341cfabe398d2c4aa500d\n",
      "🧪 View experiment at: http://127.0.0.1:5000/#/experiments/906754211394743286\n",
      "Epoch 001 | Fold 1 | Train Acc: 0.4071 | Val Acc: 0.2893 | Train loss: 1.3858 Val Loss: 1.3854\n"
     ]
    },
    {
     "name": "stderr",
     "output_type": "stream",
     "text": [
      "[I 2025-07-15 00:48:21,250] Trial 9 pruned. \n"
     ]
    },
    {
     "name": "stdout",
     "output_type": "stream",
     "text": [
      "Epoch 002 | Fold 1 | Train Acc: 0.4130 | Val Acc: 0.4088 | Train loss: 1.3688 Val Loss: 1.3656\n",
      "🏃 View run trial_9 at: http://127.0.0.1:5000/#/experiments/906754211394743286/runs/93c7945eedb54bd79d6a62b0a694fcea\n",
      "🧪 View experiment at: http://127.0.0.1:5000/#/experiments/906754211394743286\n",
      "Epoch 001 | Fold 1 | Train Acc: 0.2708 | Val Acc: 0.2767 | Train loss: 1.3864 Val Loss: 1.3829\n"
     ]
    },
    {
     "name": "stderr",
     "output_type": "stream",
     "text": [
      "[I 2025-07-15 00:48:23,046] Trial 10 pruned. \n"
     ]
    },
    {
     "name": "stdout",
     "output_type": "stream",
     "text": [
      "Epoch 002 | Fold 1 | Train Acc: 0.2540 | Val Acc: 0.3019 | Train loss: 1.3791 Val Loss: 1.3711\n",
      "🏃 View run trial_10 at: http://127.0.0.1:5000/#/experiments/906754211394743286/runs/345a2267ad65411d95d72c611e58e057\n",
      "🧪 View experiment at: http://127.0.0.1:5000/#/experiments/906754211394743286\n",
      "Epoch 001 | Fold 1 | Train Acc: 0.2016 | Val Acc: 0.3553 | Train loss: 1.3839 Val Loss: 1.3446\n",
      "Epoch 002 | Fold 1 | Train Acc: 0.2836 | Val Acc: 0.4403 | Train loss: 1.3661 Val Loss: 1.3410\n",
      "Epoch 003 | Fold 1 | Train Acc: 0.3794 | Val Acc: 0.5346 | Train loss: 1.3481 Val Loss: 1.3117\n",
      "Epoch 004 | Fold 1 | Train Acc: 0.4481 | Val Acc: 0.6258 | Train loss: 1.3275 Val Loss: 1.2852\n",
      "Epoch 005 | Fold 1 | Train Acc: 0.4649 | Val Acc: 0.5818 | Train loss: 1.3024 Val Loss: 1.2355\n",
      "Epoch 006 | Fold 1 | Train Acc: 0.4990 | Val Acc: 0.6572 | Train loss: 1.2617 Val Loss: 1.1802\n",
      "Epoch 007 | Fold 1 | Train Acc: 0.5168 | Val Acc: 0.5943 | Train loss: 1.2054 Val Loss: 1.0757\n",
      "Epoch 008 | Fold 1 | Train Acc: 0.4570 | Val Acc: 0.6824 | Train loss: 1.1131 Val Loss: 0.8526\n",
      "Epoch 009 | Fold 1 | Train Acc: 0.5479 | Val Acc: 0.7201 | Train loss: 0.9411 Val Loss: 0.6176\n",
      "Epoch 010 | Fold 1 | Train Acc: 0.5094 | Val Acc: 0.7579 | Train loss: 0.7957 Val Loss: 0.5036\n",
      "Epoch 011 | Fold 1 | Train Acc: 0.5509 | Val Acc: 0.7516 | Train loss: 0.7080 Val Loss: 0.4367\n",
      "Epoch 012 | Fold 1 | Train Acc: 0.6131 | Val Acc: 0.7956 | Train loss: 0.6590 Val Loss: 0.4505\n",
      "Epoch 013 | Fold 1 | Train Acc: 0.5326 | Val Acc: 0.7516 | Train loss: 0.6587 Val Loss: 0.4228\n",
      "Epoch 014 | Fold 1 | Train Acc: 0.5954 | Val Acc: 0.7767 | Train loss: 0.5903 Val Loss: 0.4590\n",
      "Epoch 015 | Fold 1 | Train Acc: 0.6250 | Val Acc: 0.7610 | Train loss: 0.5769 Val Loss: 0.4155\n",
      "Epoch 016 | Fold 1 | Train Acc: 0.5958 | Val Acc: 0.7516 | Train loss: 0.5717 Val Loss: 0.4470\n",
      "Epoch 017 | Fold 1 | Train Acc: 0.6117 | Val Acc: 0.7799 | Train loss: 0.5509 Val Loss: 0.4235\n",
      "Epoch 018 | Fold 1 | Train Acc: 0.6052 | Val Acc: 0.7642 | Train loss: 0.5550 Val Loss: 0.4192\n",
      "Epoch 019 | Fold 1 | Train Acc: 0.6151 | Val Acc: 0.7516 | Train loss: 0.5413 Val Loss: 0.4217\n",
      "Epoch 020 | Fold 1 | Train Acc: 0.6171 | Val Acc: 0.7736 | Train loss: 0.5378 Val Loss: 0.4372\n",
      "Epoch 021 | Fold 1 | Train Acc: 0.6280 | Val Acc: 0.7579 | Train loss: 0.5309 Val Loss: 0.4279\n",
      "Epoch 022 | Fold 1 | Train Acc: 0.6255 | Val Acc: 0.7704 | Train loss: 0.5210 Val Loss: 0.4372\n",
      "Epoch 023 | Fold 1 | Train Acc: 0.6467 | Val Acc: 0.7610 | Train loss: 0.5221 Val Loss: 0.4331\n",
      "Epoch 024 | Fold 1 | Train Acc: 0.6497 | Val Acc: 0.7704 | Train loss: 0.5102 Val Loss: 0.4250\n",
      "Epoch 025 | Fold 1 | Train Acc: 0.6685 | Val Acc: 0.7704 | Train loss: 0.5091 Val Loss: 0.4273\n",
      "Epoch 026 | Fold 1 | Train Acc: 0.6566 | Val Acc: 0.7704 | Train loss: 0.5191 Val Loss: 0.4361\n",
      "Epoch 027 | Fold 1 | Train Acc: 0.6438 | Val Acc: 0.7673 | Train loss: 0.5094 Val Loss: 0.4241\n",
      "Epoch 028 | Fold 1 | Train Acc: 0.6492 | Val Acc: 0.7925 | Train loss: 0.4955 Val Loss: 0.4402\n",
      "Epoch 029 | Fold 1 | Train Acc: 0.6769 | Val Acc: 0.7673 | Train loss: 0.4995 Val Loss: 0.4339\n",
      "Epoch 030 | Fold 1 | Train Acc: 0.6527 | Val Acc: 0.7673 | Train loss: 0.5022 Val Loss: 0.4378\n",
      "Epoch 031 | Fold 1 | Train Acc: 0.6586 | Val Acc: 0.7673 | Train loss: 0.4827 Val Loss: 0.4288\n",
      "Epoch 032 | Fold 1 | Train Acc: 0.6591 | Val Acc: 0.7673 | Train loss: 0.4911 Val Loss: 0.4317\n",
      "Epoch 033 | Fold 1 | Train Acc: 0.6655 | Val Acc: 0.7673 | Train loss: 0.5039 Val Loss: 0.4308\n",
      "Epoch 034 | Fold 1 | Train Acc: 0.6655 | Val Acc: 0.7673 | Train loss: 0.4820 Val Loss: 0.4400\n",
      "Epoch 035 | Fold 1 | Train Acc: 0.6650 | Val Acc: 0.7862 | Train loss: 0.4924 Val Loss: 0.4300\n",
      "Epoch 036 | Fold 1 | Train Acc: 0.6744 | Val Acc: 0.7642 | Train loss: 0.4879 Val Loss: 0.4358\n",
      "Epoch 037 | Fold 1 | Train Acc: 0.6700 | Val Acc: 0.7862 | Train loss: 0.4831 Val Loss: 0.4335\n",
      "Epoch 038 | Fold 1 | Train Acc: 0.6640 | Val Acc: 0.7673 | Train loss: 0.4802 Val Loss: 0.4349\n",
      "Epoch 039 | Fold 1 | Train Acc: 0.6724 | Val Acc: 0.7830 | Train loss: 0.4880 Val Loss: 0.4377\n",
      "Epoch 040 | Fold 1 | Train Acc: 0.6764 | Val Acc: 0.7830 | Train loss: 0.4848 Val Loss: 0.4352\n",
      "Epoch 041 | Fold 1 | Train Acc: 0.6833 | Val Acc: 0.7830 | Train loss: 0.4722 Val Loss: 0.4336\n",
      "Epoch 042 | Fold 1 | Train Acc: 0.6764 | Val Acc: 0.7862 | Train loss: 0.4828 Val Loss: 0.4329\n",
      "Epoch 043 | Fold 1 | Train Acc: 0.6695 | Val Acc: 0.7862 | Train loss: 0.4891 Val Loss: 0.4363\n",
      "Epoch 044 | Fold 1 | Train Acc: 0.6774 | Val Acc: 0.7862 | Train loss: 0.4777 Val Loss: 0.4361\n",
      "Epoch 045 | Fold 1 | Train Acc: 0.6714 | Val Acc: 0.7830 | Train loss: 0.4914 Val Loss: 0.4347\n",
      " Early stopping at epoch 45 for fold 1\n",
      " Fold 1: Best Val Acc = 0.7610\n",
      "Epoch 001 | Fold 2 | Train Acc: 0.2603 | Val Acc: 0.2854 | Train loss: 1.3814 Val Loss: 1.3689\n",
      "Epoch 002 | Fold 2 | Train Acc: 0.3243 | Val Acc: 0.3916 | Train loss: 1.3609 Val Loss: 1.3497\n",
      "Epoch 003 | Fold 2 | Train Acc: 0.3238 | Val Acc: 0.4535 | Train loss: 1.3419 Val Loss: 1.3273\n",
      "Epoch 004 | Fold 2 | Train Acc: 0.4852 | Val Acc: 0.5730 | Train loss: 1.3173 Val Loss: 1.3005\n",
      "Epoch 005 | Fold 2 | Train Acc: 0.4979 | Val Acc: 0.5398 | Train loss: 1.2822 Val Loss: 1.2581\n",
      "Epoch 006 | Fold 2 | Train Acc: 0.5095 | Val Acc: 0.5420 | Train loss: 1.2344 Val Loss: 1.1883\n",
      "Epoch 007 | Fold 2 | Train Acc: 0.5709 | Val Acc: 0.6549 | Train loss: 1.1489 Val Loss: 1.0674\n",
      "Epoch 008 | Fold 2 | Train Acc: 0.6185 | Val Acc: 0.5575 | Train loss: 1.0006 Val Loss: 0.9047\n",
      "Epoch 009 | Fold 2 | Train Acc: 0.5185 | Val Acc: 0.6018 | Train loss: 0.8762 Val Loss: 0.7663\n",
      "Epoch 010 | Fold 2 | Train Acc: 0.6132 | Val Acc: 0.5951 | Train loss: 0.7769 Val Loss: 0.6793\n",
      "Epoch 011 | Fold 2 | Train Acc: 0.5958 | Val Acc: 0.5885 | Train loss: 0.7072 Val Loss: 0.6319\n",
      "Epoch 012 | Fold 2 | Train Acc: 0.6545 | Val Acc: 0.5996 | Train loss: 0.6815 Val Loss: 0.5886\n",
      "Epoch 013 | Fold 2 | Train Acc: 0.6354 | Val Acc: 0.5774 | Train loss: 0.6400 Val Loss: 0.5586\n",
      "Epoch 014 | Fold 2 | Train Acc: 0.5873 | Val Acc: 0.5708 | Train loss: 0.6387 Val Loss: 0.5343\n",
      "Epoch 015 | Fold 2 | Train Acc: 0.6630 | Val Acc: 0.6438 | Train loss: 0.6089 Val Loss: 0.5278\n",
      "Epoch 016 | Fold 2 | Train Acc: 0.6508 | Val Acc: 0.5885 | Train loss: 0.5928 Val Loss: 0.5032\n",
      "Epoch 017 | Fold 2 | Train Acc: 0.6397 | Val Acc: 0.5973 | Train loss: 0.5827 Val Loss: 0.4947\n",
      "Epoch 018 | Fold 2 | Train Acc: 0.6127 | Val Acc: 0.6128 | Train loss: 0.5786 Val Loss: 0.4832\n",
      "Epoch 019 | Fold 2 | Train Acc: 0.6587 | Val Acc: 0.6482 | Train loss: 0.5643 Val Loss: 0.4821\n",
      "Epoch 020 | Fold 2 | Train Acc: 0.6693 | Val Acc: 0.6128 | Train loss: 0.5591 Val Loss: 0.4673\n",
      "Epoch 021 | Fold 2 | Train Acc: 0.6302 | Val Acc: 0.6350 | Train loss: 0.5618 Val Loss: 0.4682\n",
      "Epoch 022 | Fold 2 | Train Acc: 0.6593 | Val Acc: 0.6549 | Train loss: 0.5441 Val Loss: 0.4639\n",
      "Epoch 023 | Fold 2 | Train Acc: 0.6683 | Val Acc: 0.6571 | Train loss: 0.5508 Val Loss: 0.4540\n",
      "Epoch 024 | Fold 2 | Train Acc: 0.6772 | Val Acc: 0.6748 | Train loss: 0.5419 Val Loss: 0.4488\n",
      "Epoch 025 | Fold 2 | Train Acc: 0.6381 | Val Acc: 0.6659 | Train loss: 0.5476 Val Loss: 0.4472\n",
      "Epoch 026 | Fold 2 | Train Acc: 0.6693 | Val Acc: 0.6726 | Train loss: 0.5345 Val Loss: 0.4448\n",
      "Epoch 027 | Fold 2 | Train Acc: 0.6905 | Val Acc: 0.6394 | Train loss: 0.5424 Val Loss: 0.4389\n",
      "Epoch 028 | Fold 2 | Train Acc: 0.6672 | Val Acc: 0.6593 | Train loss: 0.5306 Val Loss: 0.4365\n",
      "Epoch 029 | Fold 2 | Train Acc: 0.6545 | Val Acc: 0.6770 | Train loss: 0.5312 Val Loss: 0.4366\n",
      "Epoch 030 | Fold 2 | Train Acc: 0.7026 | Val Acc: 0.6925 | Train loss: 0.5325 Val Loss: 0.4347\n",
      "Epoch 031 | Fold 2 | Train Acc: 0.6767 | Val Acc: 0.6350 | Train loss: 0.5212 Val Loss: 0.4298\n",
      "Epoch 032 | Fold 2 | Train Acc: 0.6619 | Val Acc: 0.6903 | Train loss: 0.5326 Val Loss: 0.4285\n",
      "Epoch 033 | Fold 2 | Train Acc: 0.6984 | Val Acc: 0.6969 | Train loss: 0.5182 Val Loss: 0.4333\n",
      "Epoch 034 | Fold 2 | Train Acc: 0.6688 | Val Acc: 0.6726 | Train loss: 0.5280 Val Loss: 0.4227\n",
      "Epoch 035 | Fold 2 | Train Acc: 0.6963 | Val Acc: 0.7013 | Train loss: 0.5250 Val Loss: 0.4334\n",
      "Epoch 036 | Fold 2 | Train Acc: 0.6963 | Val Acc: 0.6704 | Train loss: 0.5168 Val Loss: 0.4204\n",
      "Epoch 037 | Fold 2 | Train Acc: 0.6661 | Val Acc: 0.6881 | Train loss: 0.5144 Val Loss: 0.4221\n",
      "Epoch 038 | Fold 2 | Train Acc: 0.7127 | Val Acc: 0.7058 | Train loss: 0.5043 Val Loss: 0.4249\n",
      "Epoch 039 | Fold 2 | Train Acc: 0.6963 | Val Acc: 0.7102 | Train loss: 0.5236 Val Loss: 0.4151\n",
      "Epoch 040 | Fold 2 | Train Acc: 0.6788 | Val Acc: 0.6881 | Train loss: 0.5169 Val Loss: 0.4174\n",
      "Epoch 041 | Fold 2 | Train Acc: 0.6921 | Val Acc: 0.7058 | Train loss: 0.5081 Val Loss: 0.4148\n",
      "Epoch 042 | Fold 2 | Train Acc: 0.6852 | Val Acc: 0.7058 | Train loss: 0.5120 Val Loss: 0.4132\n",
      "Epoch 043 | Fold 2 | Train Acc: 0.7000 | Val Acc: 0.7058 | Train loss: 0.5209 Val Loss: 0.4124\n",
      "Epoch 044 | Fold 2 | Train Acc: 0.6794 | Val Acc: 0.7102 | Train loss: 0.5102 Val Loss: 0.4111\n",
      "Epoch 045 | Fold 2 | Train Acc: 0.7095 | Val Acc: 0.7124 | Train loss: 0.5353 Val Loss: 0.4127\n",
      "Epoch 046 | Fold 2 | Train Acc: 0.6899 | Val Acc: 0.6527 | Train loss: 0.5042 Val Loss: 0.4168\n",
      "Epoch 047 | Fold 2 | Train Acc: 0.6958 | Val Acc: 0.7212 | Train loss: 0.5025 Val Loss: 0.4127\n",
      "Epoch 048 | Fold 2 | Train Acc: 0.7048 | Val Acc: 0.7190 | Train loss: 0.4971 Val Loss: 0.4088\n",
      "Epoch 049 | Fold 2 | Train Acc: 0.6942 | Val Acc: 0.7190 | Train loss: 0.5084 Val Loss: 0.4087\n",
      "Epoch 050 | Fold 2 | Train Acc: 0.7190 | Val Acc: 0.7212 | Train loss: 0.4958 Val Loss: 0.4063\n",
      "Epoch 051 | Fold 2 | Train Acc: 0.6974 | Val Acc: 0.7146 | Train loss: 0.4985 Val Loss: 0.4044\n",
      "Epoch 052 | Fold 2 | Train Acc: 0.7011 | Val Acc: 0.7212 | Train loss: 0.5095 Val Loss: 0.4113\n",
      "Epoch 053 | Fold 2 | Train Acc: 0.6963 | Val Acc: 0.7124 | Train loss: 0.5066 Val Loss: 0.4041\n",
      "Epoch 054 | Fold 2 | Train Acc: 0.7011 | Val Acc: 0.7212 | Train loss: 0.5014 Val Loss: 0.4060\n",
      "Epoch 055 | Fold 2 | Train Acc: 0.7026 | Val Acc: 0.7212 | Train loss: 0.4985 Val Loss: 0.4055\n",
      "Epoch 056 | Fold 2 | Train Acc: 0.7074 | Val Acc: 0.7212 | Train loss: 0.4981 Val Loss: 0.4014\n",
      "Epoch 057 | Fold 2 | Train Acc: 0.6899 | Val Acc: 0.7190 | Train loss: 0.4963 Val Loss: 0.4044\n",
      "Epoch 058 | Fold 2 | Train Acc: 0.7011 | Val Acc: 0.7168 | Train loss: 0.5007 Val Loss: 0.3994\n",
      "Epoch 059 | Fold 2 | Train Acc: 0.6857 | Val Acc: 0.7190 | Train loss: 0.5009 Val Loss: 0.4030\n",
      "Epoch 060 | Fold 2 | Train Acc: 0.7074 | Val Acc: 0.7124 | Train loss: 0.5062 Val Loss: 0.4063\n",
      "Epoch 061 | Fold 2 | Train Acc: 0.6958 | Val Acc: 0.7124 | Train loss: 0.4864 Val Loss: 0.3969\n",
      "Epoch 062 | Fold 2 | Train Acc: 0.7074 | Val Acc: 0.7190 | Train loss: 0.4911 Val Loss: 0.3985\n",
      "Epoch 063 | Fold 2 | Train Acc: 0.7127 | Val Acc: 0.7190 | Train loss: 0.4864 Val Loss: 0.3995\n",
      "Epoch 064 | Fold 2 | Train Acc: 0.6968 | Val Acc: 0.7168 | Train loss: 0.4921 Val Loss: 0.3960\n",
      "Epoch 065 | Fold 2 | Train Acc: 0.7143 | Val Acc: 0.7301 | Train loss: 0.4944 Val Loss: 0.3978\n",
      "Epoch 066 | Fold 2 | Train Acc: 0.7005 | Val Acc: 0.7190 | Train loss: 0.4908 Val Loss: 0.3969\n",
      "Epoch 067 | Fold 2 | Train Acc: 0.7000 | Val Acc: 0.7190 | Train loss: 0.4940 Val Loss: 0.4056\n",
      "Epoch 068 | Fold 2 | Train Acc: 0.7148 | Val Acc: 0.7190 | Train loss: 0.4857 Val Loss: 0.3965\n",
      "Epoch 069 | Fold 2 | Train Acc: 0.7032 | Val Acc: 0.7190 | Train loss: 0.4934 Val Loss: 0.3936\n",
      "Epoch 070 | Fold 2 | Train Acc: 0.7058 | Val Acc: 0.7190 | Train loss: 0.4885 Val Loss: 0.3940\n",
      "Epoch 071 | Fold 2 | Train Acc: 0.7164 | Val Acc: 0.7212 | Train loss: 0.4852 Val Loss: 0.3952\n",
      "Epoch 072 | Fold 2 | Train Acc: 0.7090 | Val Acc: 0.7190 | Train loss: 0.4897 Val Loss: 0.3909\n",
      "Epoch 073 | Fold 2 | Train Acc: 0.7032 | Val Acc: 0.7190 | Train loss: 0.4832 Val Loss: 0.3922\n",
      "Epoch 074 | Fold 2 | Train Acc: 0.7138 | Val Acc: 0.7212 | Train loss: 0.4865 Val Loss: 0.3936\n",
      "Epoch 075 | Fold 2 | Train Acc: 0.7053 | Val Acc: 0.7190 | Train loss: 0.4810 Val Loss: 0.3947\n",
      "Epoch 076 | Fold 2 | Train Acc: 0.7016 | Val Acc: 0.7190 | Train loss: 0.4866 Val Loss: 0.3926\n",
      "Epoch 077 | Fold 2 | Train Acc: 0.7201 | Val Acc: 0.7168 | Train loss: 0.4856 Val Loss: 0.3953\n",
      "Epoch 078 | Fold 2 | Train Acc: 0.7058 | Val Acc: 0.7190 | Train loss: 0.4856 Val Loss: 0.3903\n",
      "Epoch 079 | Fold 2 | Train Acc: 0.7185 | Val Acc: 0.7212 | Train loss: 0.4859 Val Loss: 0.3978\n",
      "Epoch 080 | Fold 2 | Train Acc: 0.7127 | Val Acc: 0.7190 | Train loss: 0.4832 Val Loss: 0.3918\n",
      "Epoch 081 | Fold 2 | Train Acc: 0.7095 | Val Acc: 0.7124 | Train loss: 0.4814 Val Loss: 0.3885\n",
      "Epoch 082 | Fold 2 | Train Acc: 0.7095 | Val Acc: 0.7212 | Train loss: 0.4865 Val Loss: 0.3984\n",
      "Epoch 083 | Fold 2 | Train Acc: 0.7016 | Val Acc: 0.7235 | Train loss: 0.4860 Val Loss: 0.3903\n",
      "Epoch 084 | Fold 2 | Train Acc: 0.7127 | Val Acc: 0.7212 | Train loss: 0.4840 Val Loss: 0.3946\n",
      "Epoch 085 | Fold 2 | Train Acc: 0.7159 | Val Acc: 0.7212 | Train loss: 0.4899 Val Loss: 0.3886\n",
      "Epoch 086 | Fold 2 | Train Acc: 0.6921 | Val Acc: 0.7190 | Train loss: 0.4894 Val Loss: 0.3865\n",
      "Epoch 087 | Fold 2 | Train Acc: 0.7095 | Val Acc: 0.7279 | Train loss: 0.4776 Val Loss: 0.3951\n",
      "Epoch 088 | Fold 2 | Train Acc: 0.7201 | Val Acc: 0.7235 | Train loss: 0.4739 Val Loss: 0.3870\n",
      "Epoch 089 | Fold 2 | Train Acc: 0.6947 | Val Acc: 0.7124 | Train loss: 0.4716 Val Loss: 0.3868\n",
      "Epoch 090 | Fold 2 | Train Acc: 0.7185 | Val Acc: 0.7168 | Train loss: 0.4920 Val Loss: 0.3940\n",
      "Epoch 091 | Fold 2 | Train Acc: 0.7048 | Val Acc: 0.7235 | Train loss: 0.4866 Val Loss: 0.3822\n",
      "Epoch 092 | Fold 2 | Train Acc: 0.7180 | Val Acc: 0.7279 | Train loss: 0.4691 Val Loss: 0.3889\n",
      "Epoch 093 | Fold 2 | Train Acc: 0.7058 | Val Acc: 0.7124 | Train loss: 0.4849 Val Loss: 0.3870\n",
      "Epoch 094 | Fold 2 | Train Acc: 0.7138 | Val Acc: 0.7257 | Train loss: 0.4905 Val Loss: 0.3979\n",
      "Epoch 095 | Fold 2 | Train Acc: 0.7101 | Val Acc: 0.7235 | Train loss: 0.4746 Val Loss: 0.3820\n",
      "Epoch 096 | Fold 2 | Train Acc: 0.7111 | Val Acc: 0.7257 | Train loss: 0.4696 Val Loss: 0.3853\n",
      "Epoch 097 | Fold 2 | Train Acc: 0.7000 | Val Acc: 0.7190 | Train loss: 0.4729 Val Loss: 0.3876\n",
      "Epoch 098 | Fold 2 | Train Acc: 0.7074 | Val Acc: 0.7190 | Train loss: 0.4755 Val Loss: 0.3883\n",
      "Epoch 099 | Fold 2 | Train Acc: 0.7085 | Val Acc: 0.7301 | Train loss: 0.4813 Val Loss: 0.3860\n",
      "Epoch 100 | Fold 2 | Train Acc: 0.7058 | Val Acc: 0.7190 | Train loss: 0.4728 Val Loss: 0.3877\n",
      "Epoch 101 | Fold 2 | Train Acc: 0.7021 | Val Acc: 0.7257 | Train loss: 0.4752 Val Loss: 0.3860\n",
      "Epoch 102 | Fold 2 | Train Acc: 0.7143 | Val Acc: 0.7235 | Train loss: 0.4646 Val Loss: 0.3808\n",
      "Epoch 103 | Fold 2 | Train Acc: 0.7090 | Val Acc: 0.7190 | Train loss: 0.4814 Val Loss: 0.3841\n",
      "Epoch 104 | Fold 2 | Train Acc: 0.7037 | Val Acc: 0.7168 | Train loss: 0.4643 Val Loss: 0.3823\n",
      "Epoch 105 | Fold 2 | Train Acc: 0.7164 | Val Acc: 0.7323 | Train loss: 0.4734 Val Loss: 0.3919\n",
      "Epoch 106 | Fold 2 | Train Acc: 0.7026 | Val Acc: 0.7124 | Train loss: 0.4737 Val Loss: 0.3828\n",
      "Epoch 107 | Fold 2 | Train Acc: 0.7196 | Val Acc: 0.7279 | Train loss: 0.4684 Val Loss: 0.3906\n",
      "Epoch 108 | Fold 2 | Train Acc: 0.7153 | Val Acc: 0.7235 | Train loss: 0.4668 Val Loss: 0.3818\n",
      "Epoch 109 | Fold 2 | Train Acc: 0.7101 | Val Acc: 0.7257 | Train loss: 0.4702 Val Loss: 0.3822\n",
      "Epoch 110 | Fold 2 | Train Acc: 0.7111 | Val Acc: 0.7279 | Train loss: 0.4774 Val Loss: 0.3829\n",
      "Epoch 111 | Fold 2 | Train Acc: 0.7132 | Val Acc: 0.7257 | Train loss: 0.4721 Val Loss: 0.3848\n",
      "Epoch 112 | Fold 2 | Train Acc: 0.7021 | Val Acc: 0.7235 | Train loss: 0.4782 Val Loss: 0.3810\n",
      "Epoch 113 | Fold 2 | Train Acc: 0.7143 | Val Acc: 0.7257 | Train loss: 0.4639 Val Loss: 0.3852\n",
      "Epoch 114 | Fold 2 | Train Acc: 0.7190 | Val Acc: 0.7257 | Train loss: 0.4589 Val Loss: 0.3843\n",
      "Epoch 115 | Fold 2 | Train Acc: 0.7079 | Val Acc: 0.7257 | Train loss: 0.4628 Val Loss: 0.3787\n",
      "Epoch 116 | Fold 2 | Train Acc: 0.7138 | Val Acc: 0.7257 | Train loss: 0.4579 Val Loss: 0.3811\n",
      "Epoch 117 | Fold 2 | Train Acc: 0.7212 | Val Acc: 0.7257 | Train loss: 0.4653 Val Loss: 0.3813\n",
      "Epoch 118 | Fold 2 | Train Acc: 0.7127 | Val Acc: 0.7257 | Train loss: 0.4648 Val Loss: 0.3781\n",
      "Epoch 119 | Fold 2 | Train Acc: 0.7116 | Val Acc: 0.7301 | Train loss: 0.4604 Val Loss: 0.3803\n",
      "Epoch 120 | Fold 2 | Train Acc: 0.7116 | Val Acc: 0.7257 | Train loss: 0.4677 Val Loss: 0.3829\n",
      "Epoch 121 | Fold 2 | Train Acc: 0.7153 | Val Acc: 0.7301 | Train loss: 0.4623 Val Loss: 0.3782\n",
      "Epoch 122 | Fold 2 | Train Acc: 0.7074 | Val Acc: 0.7035 | Train loss: 0.4680 Val Loss: 0.3811\n",
      "Epoch 123 | Fold 2 | Train Acc: 0.7127 | Val Acc: 0.7257 | Train loss: 0.4540 Val Loss: 0.3804\n",
      "Epoch 124 | Fold 2 | Train Acc: 0.7185 | Val Acc: 0.7279 | Train loss: 0.4647 Val Loss: 0.3828\n",
      "Epoch 125 | Fold 2 | Train Acc: 0.7074 | Val Acc: 0.7080 | Train loss: 0.4627 Val Loss: 0.3794\n",
      "Epoch 126 | Fold 2 | Train Acc: 0.7095 | Val Acc: 0.7257 | Train loss: 0.4650 Val Loss: 0.3795\n",
      "Epoch 127 | Fold 2 | Train Acc: 0.7090 | Val Acc: 0.7257 | Train loss: 0.4518 Val Loss: 0.3808\n",
      "Epoch 128 | Fold 2 | Train Acc: 0.7169 | Val Acc: 0.7257 | Train loss: 0.4640 Val Loss: 0.3810\n",
      "Epoch 129 | Fold 2 | Train Acc: 0.7085 | Val Acc: 0.7257 | Train loss: 0.4689 Val Loss: 0.3784\n",
      "Epoch 130 | Fold 2 | Train Acc: 0.7153 | Val Acc: 0.7257 | Train loss: 0.4554 Val Loss: 0.3798\n",
      "Epoch 131 | Fold 2 | Train Acc: 0.7159 | Val Acc: 0.7257 | Train loss: 0.4642 Val Loss: 0.3793\n",
      "Epoch 132 | Fold 2 | Train Acc: 0.7164 | Val Acc: 0.7257 | Train loss: 0.4607 Val Loss: 0.3794\n",
      "Epoch 133 | Fold 2 | Train Acc: 0.7116 | Val Acc: 0.7257 | Train loss: 0.4590 Val Loss: 0.3794\n",
      "Epoch 134 | Fold 2 | Train Acc: 0.7111 | Val Acc: 0.7257 | Train loss: 0.4627 Val Loss: 0.3801\n",
      "Epoch 135 | Fold 2 | Train Acc: 0.7180 | Val Acc: 0.7257 | Train loss: 0.4549 Val Loss: 0.3788\n",
      "Epoch 136 | Fold 2 | Train Acc: 0.7127 | Val Acc: 0.7257 | Train loss: 0.4576 Val Loss: 0.3787\n",
      "Epoch 137 | Fold 2 | Train Acc: 0.7169 | Val Acc: 0.7257 | Train loss: 0.4641 Val Loss: 0.3805\n",
      "Epoch 138 | Fold 2 | Train Acc: 0.7153 | Val Acc: 0.7257 | Train loss: 0.4644 Val Loss: 0.3809\n",
      "Epoch 139 | Fold 2 | Train Acc: 0.7159 | Val Acc: 0.7257 | Train loss: 0.4581 Val Loss: 0.3790\n",
      "Epoch 140 | Fold 2 | Train Acc: 0.7185 | Val Acc: 0.7257 | Train loss: 0.4559 Val Loss: 0.3782\n",
      "Epoch 141 | Fold 2 | Train Acc: 0.7159 | Val Acc: 0.7257 | Train loss: 0.4578 Val Loss: 0.3771\n",
      "Epoch 142 | Fold 2 | Train Acc: 0.7132 | Val Acc: 0.7257 | Train loss: 0.4573 Val Loss: 0.3774\n",
      "Epoch 143 | Fold 2 | Train Acc: 0.7190 | Val Acc: 0.7257 | Train loss: 0.4537 Val Loss: 0.3788\n",
      "Epoch 144 | Fold 2 | Train Acc: 0.7138 | Val Acc: 0.7257 | Train loss: 0.4615 Val Loss: 0.3788\n",
      "Epoch 145 | Fold 2 | Train Acc: 0.7175 | Val Acc: 0.7257 | Train loss: 0.4555 Val Loss: 0.3798\n",
      "Epoch 146 | Fold 2 | Train Acc: 0.7206 | Val Acc: 0.7257 | Train loss: 0.4592 Val Loss: 0.3797\n",
      "Epoch 147 | Fold 2 | Train Acc: 0.7175 | Val Acc: 0.7257 | Train loss: 0.4621 Val Loss: 0.3780\n",
      "Epoch 148 | Fold 2 | Train Acc: 0.7190 | Val Acc: 0.7257 | Train loss: 0.4544 Val Loss: 0.3789\n",
      "Epoch 149 | Fold 2 | Train Acc: 0.7159 | Val Acc: 0.7257 | Train loss: 0.4569 Val Loss: 0.3782\n",
      "Epoch 150 | Fold 2 | Train Acc: 0.7169 | Val Acc: 0.7257 | Train loss: 0.4567 Val Loss: 0.3786\n",
      "Epoch 151 | Fold 2 | Train Acc: 0.7175 | Val Acc: 0.7257 | Train loss: 0.4595 Val Loss: 0.3792\n",
      "Epoch 152 | Fold 2 | Train Acc: 0.7169 | Val Acc: 0.7257 | Train loss: 0.4576 Val Loss: 0.3784\n",
      "Epoch 153 | Fold 2 | Train Acc: 0.7196 | Val Acc: 0.7257 | Train loss: 0.4567 Val Loss: 0.3782\n",
      "Epoch 154 | Fold 2 | Train Acc: 0.7106 | Val Acc: 0.7257 | Train loss: 0.4566 Val Loss: 0.3783\n",
      "Epoch 155 | Fold 2 | Train Acc: 0.7185 | Val Acc: 0.7257 | Train loss: 0.4571 Val Loss: 0.3781\n",
      "Epoch 156 | Fold 2 | Train Acc: 0.7159 | Val Acc: 0.7257 | Train loss: 0.4559 Val Loss: 0.3784\n",
      "Epoch 157 | Fold 2 | Train Acc: 0.7164 | Val Acc: 0.7257 | Train loss: 0.4548 Val Loss: 0.3785\n",
      "Epoch 158 | Fold 2 | Train Acc: 0.7132 | Val Acc: 0.7257 | Train loss: 0.4576 Val Loss: 0.3778\n",
      "Epoch 159 | Fold 2 | Train Acc: 0.7132 | Val Acc: 0.7257 | Train loss: 0.4596 Val Loss: 0.3783\n",
      "Epoch 160 | Fold 2 | Train Acc: 0.7101 | Val Acc: 0.7257 | Train loss: 0.4573 Val Loss: 0.3787\n",
      "Epoch 161 | Fold 2 | Train Acc: 0.7148 | Val Acc: 0.7257 | Train loss: 0.4611 Val Loss: 0.3784\n",
      "Epoch 162 | Fold 2 | Train Acc: 0.7090 | Val Acc: 0.7257 | Train loss: 0.4625 Val Loss: 0.3786\n",
      "Epoch 163 | Fold 2 | Train Acc: 0.7185 | Val Acc: 0.7257 | Train loss: 0.4537 Val Loss: 0.3784\n",
      "Epoch 164 | Fold 2 | Train Acc: 0.7169 | Val Acc: 0.7257 | Train loss: 0.4423 Val Loss: 0.3782\n",
      "Epoch 165 | Fold 2 | Train Acc: 0.7233 | Val Acc: 0.7257 | Train loss: 0.4567 Val Loss: 0.3783\n",
      "Epoch 166 | Fold 2 | Train Acc: 0.7254 | Val Acc: 0.7257 | Train loss: 0.4497 Val Loss: 0.3784\n",
      "Epoch 167 | Fold 2 | Train Acc: 0.7127 | Val Acc: 0.7257 | Train loss: 0.4514 Val Loss: 0.3784\n",
      "Epoch 168 | Fold 2 | Train Acc: 0.7159 | Val Acc: 0.7257 | Train loss: 0.4541 Val Loss: 0.3780\n",
      "Epoch 169 | Fold 2 | Train Acc: 0.7106 | Val Acc: 0.7257 | Train loss: 0.4595 Val Loss: 0.3781\n",
      "Epoch 170 | Fold 2 | Train Acc: 0.7190 | Val Acc: 0.7257 | Train loss: 0.4490 Val Loss: 0.3784\n",
      "Epoch 171 | Fold 2 | Train Acc: 0.7169 | Val Acc: 0.7257 | Train loss: 0.4615 Val Loss: 0.3781\n",
      " Early stopping at epoch 171 for fold 2\n",
      " Fold 2: Best Val Acc = 0.7257\n",
      "Epoch 001 | Fold 3 | Train Acc: 0.2165 | Val Acc: 0.3996 | Train loss: 1.3828 Val Loss: 1.3773\n",
      "Epoch 002 | Fold 3 | Train Acc: 0.2339 | Val Acc: 0.3433 | Train loss: 1.3636 Val Loss: 1.3678\n",
      "Epoch 003 | Fold 3 | Train Acc: 0.2711 | Val Acc: 0.3433 | Train loss: 1.3414 Val Loss: 1.3565\n",
      "Epoch 004 | Fold 3 | Train Acc: 0.3777 | Val Acc: 0.4912 | Train loss: 1.3200 Val Loss: 1.3456\n",
      "Epoch 005 | Fold 3 | Train Acc: 0.4414 | Val Acc: 0.4806 | Train loss: 1.2785 Val Loss: 1.3242\n",
      "Epoch 006 | Fold 3 | Train Acc: 0.4893 | Val Acc: 0.4542 | Train loss: 1.2305 Val Loss: 1.2948\n",
      "Epoch 007 | Fold 3 | Train Acc: 0.6263 | Val Acc: 0.5458 | Train loss: 1.1408 Val Loss: 1.2705\n",
      "Epoch 008 | Fold 3 | Train Acc: 0.6471 | Val Acc: 0.5475 | Train loss: 0.9961 Val Loss: 1.2237\n",
      "Epoch 009 | Fold 3 | Train Acc: 0.6561 | Val Acc: 0.5405 | Train loss: 0.8284 Val Loss: 1.1023\n",
      "Epoch 010 | Fold 3 | Train Acc: 0.5383 | Val Acc: 0.5563 | Train loss: 0.7381 Val Loss: 1.0634\n",
      "Epoch 011 | Fold 3 | Train Acc: 0.6054 | Val Acc: 0.5792 | Train loss: 0.6501 Val Loss: 0.9586\n",
      "Epoch 012 | Fold 3 | Train Acc: 0.6556 | Val Acc: 0.5581 | Train loss: 0.6151 Val Loss: 0.8893\n",
      "Epoch 013 | Fold 3 | Train Acc: 0.5992 | Val Acc: 0.5827 | Train loss: 0.5900 Val Loss: 0.8808\n",
      "Epoch 014 | Fold 3 | Train Acc: 0.7012 | Val Acc: 0.6004 | Train loss: 0.5607 Val Loss: 0.8302\n",
      "Epoch 015 | Fold 3 | Train Acc: 0.6206 | Val Acc: 0.5986 | Train loss: 0.5472 Val Loss: 0.7838\n",
      "Epoch 016 | Fold 3 | Train Acc: 0.6945 | Val Acc: 0.6514 | Train loss: 0.5298 Val Loss: 0.8330\n",
      "Epoch 017 | Fold 3 | Train Acc: 0.6178 | Val Acc: 0.6303 | Train loss: 0.5297 Val Loss: 0.7475\n",
      "Epoch 018 | Fold 3 | Train Acc: 0.6933 | Val Acc: 0.6461 | Train loss: 0.5116 Val Loss: 0.7837\n",
      "Epoch 019 | Fold 3 | Train Acc: 0.6736 | Val Acc: 0.6514 | Train loss: 0.4921 Val Loss: 0.7470\n",
      "Epoch 020 | Fold 3 | Train Acc: 0.6421 | Val Acc: 0.6444 | Train loss: 0.4897 Val Loss: 0.7297\n",
      "Epoch 021 | Fold 3 | Train Acc: 0.7148 | Val Acc: 0.6620 | Train loss: 0.4805 Val Loss: 0.7889\n",
      "Epoch 022 | Fold 3 | Train Acc: 0.6809 | Val Acc: 0.6655 | Train loss: 0.4889 Val Loss: 0.7432\n",
      "Epoch 023 | Fold 3 | Train Acc: 0.7080 | Val Acc: 0.6690 | Train loss: 0.4828 Val Loss: 0.7697\n",
      "Epoch 024 | Fold 3 | Train Acc: 0.7052 | Val Acc: 0.6972 | Train loss: 0.4756 Val Loss: 0.7245\n",
      "Epoch 025 | Fold 3 | Train Acc: 0.6781 | Val Acc: 0.6831 | Train loss: 0.4809 Val Loss: 0.7534\n",
      "Epoch 026 | Fold 3 | Train Acc: 0.7153 | Val Acc: 0.6532 | Train loss: 0.4728 Val Loss: 0.7050\n",
      "Epoch 027 | Fold 3 | Train Acc: 0.6556 | Val Acc: 0.6831 | Train loss: 0.4687 Val Loss: 0.7339\n",
      "Epoch 028 | Fold 3 | Train Acc: 0.7300 | Val Acc: 0.6901 | Train loss: 0.4693 Val Loss: 0.7645\n",
      "Epoch 029 | Fold 3 | Train Acc: 0.6995 | Val Acc: 0.6901 | Train loss: 0.4616 Val Loss: 0.7252\n",
      "Epoch 030 | Fold 3 | Train Acc: 0.7210 | Val Acc: 0.6884 | Train loss: 0.4573 Val Loss: 0.7394\n",
      "Epoch 031 | Fold 3 | Train Acc: 0.6928 | Val Acc: 0.7025 | Train loss: 0.4564 Val Loss: 0.7050\n",
      "Epoch 032 | Fold 3 | Train Acc: 0.7260 | Val Acc: 0.6954 | Train loss: 0.4687 Val Loss: 0.7560\n",
      "Epoch 033 | Fold 3 | Train Acc: 0.7024 | Val Acc: 0.6901 | Train loss: 0.4600 Val Loss: 0.7154\n",
      "Epoch 034 | Fold 3 | Train Acc: 0.6905 | Val Acc: 0.7077 | Train loss: 0.4641 Val Loss: 0.7157\n",
      "Epoch 035 | Fold 3 | Train Acc: 0.7441 | Val Acc: 0.6972 | Train loss: 0.4667 Val Loss: 0.7274\n",
      "Epoch 036 | Fold 3 | Train Acc: 0.6753 | Val Acc: 0.7148 | Train loss: 0.4594 Val Loss: 0.6873\n",
      "Epoch 037 | Fold 3 | Train Acc: 0.7125 | Val Acc: 0.7025 | Train loss: 0.4612 Val Loss: 0.6988\n",
      "Epoch 038 | Fold 3 | Train Acc: 0.7368 | Val Acc: 0.7025 | Train loss: 0.4474 Val Loss: 0.7343\n",
      "Epoch 039 | Fold 3 | Train Acc: 0.7390 | Val Acc: 0.7254 | Train loss: 0.4433 Val Loss: 0.7007\n",
      "Epoch 040 | Fold 3 | Train Acc: 0.6905 | Val Acc: 0.7130 | Train loss: 0.4470 Val Loss: 0.6913\n",
      "Epoch 041 | Fold 3 | Train Acc: 0.7283 | Val Acc: 0.7025 | Train loss: 0.4519 Val Loss: 0.7341\n",
      "Epoch 042 | Fold 3 | Train Acc: 0.6945 | Val Acc: 0.7042 | Train loss: 0.4532 Val Loss: 0.6648\n",
      "Epoch 043 | Fold 3 | Train Acc: 0.7069 | Val Acc: 0.6972 | Train loss: 0.4570 Val Loss: 0.7207\n",
      "Epoch 044 | Fold 3 | Train Acc: 0.7018 | Val Acc: 0.7130 | Train loss: 0.4377 Val Loss: 0.6837\n",
      "Epoch 045 | Fold 3 | Train Acc: 0.7159 | Val Acc: 0.7025 | Train loss: 0.4316 Val Loss: 0.7272\n",
      "Epoch 046 | Fold 3 | Train Acc: 0.7227 | Val Acc: 0.7077 | Train loss: 0.4350 Val Loss: 0.6962\n",
      "Epoch 047 | Fold 3 | Train Acc: 0.7176 | Val Acc: 0.7113 | Train loss: 0.4426 Val Loss: 0.6853\n",
      "Epoch 048 | Fold 3 | Train Acc: 0.7277 | Val Acc: 0.7060 | Train loss: 0.4399 Val Loss: 0.7163\n",
      "Epoch 049 | Fold 3 | Train Acc: 0.7238 | Val Acc: 0.7130 | Train loss: 0.4423 Val Loss: 0.6937\n",
      "Epoch 050 | Fold 3 | Train Acc: 0.7018 | Val Acc: 0.7130 | Train loss: 0.4446 Val Loss: 0.6763\n",
      "Epoch 051 | Fold 3 | Train Acc: 0.7227 | Val Acc: 0.7165 | Train loss: 0.4352 Val Loss: 0.7015\n",
      "Epoch 052 | Fold 3 | Train Acc: 0.7396 | Val Acc: 0.7060 | Train loss: 0.4506 Val Loss: 0.7028\n",
      "Epoch 053 | Fold 3 | Train Acc: 0.7176 | Val Acc: 0.7165 | Train loss: 0.4350 Val Loss: 0.6776\n",
      "Epoch 054 | Fold 3 | Train Acc: 0.7142 | Val Acc: 0.7113 | Train loss: 0.4303 Val Loss: 0.6991\n",
      "Epoch 055 | Fold 3 | Train Acc: 0.7187 | Val Acc: 0.7060 | Train loss: 0.4270 Val Loss: 0.6954\n",
      "Epoch 056 | Fold 3 | Train Acc: 0.7390 | Val Acc: 0.7042 | Train loss: 0.4348 Val Loss: 0.7088\n",
      "Epoch 057 | Fold 3 | Train Acc: 0.7266 | Val Acc: 0.7060 | Train loss: 0.4380 Val Loss: 0.6887\n",
      "Epoch 058 | Fold 3 | Train Acc: 0.7289 | Val Acc: 0.7095 | Train loss: 0.4242 Val Loss: 0.7004\n",
      "Epoch 059 | Fold 3 | Train Acc: 0.7148 | Val Acc: 0.7113 | Train loss: 0.4288 Val Loss: 0.6797\n",
      "Epoch 060 | Fold 3 | Train Acc: 0.7187 | Val Acc: 0.7077 | Train loss: 0.4234 Val Loss: 0.7052\n",
      "Epoch 061 | Fold 3 | Train Acc: 0.7503 | Val Acc: 0.7025 | Train loss: 0.4220 Val Loss: 0.7164\n",
      "Epoch 062 | Fold 3 | Train Acc: 0.7272 | Val Acc: 0.7060 | Train loss: 0.4241 Val Loss: 0.6967\n",
      "Epoch 063 | Fold 3 | Train Acc: 0.7249 | Val Acc: 0.7025 | Train loss: 0.4260 Val Loss: 0.6978\n",
      "Epoch 064 | Fold 3 | Train Acc: 0.7210 | Val Acc: 0.7060 | Train loss: 0.4314 Val Loss: 0.6879\n",
      "Epoch 065 | Fold 3 | Train Acc: 0.7176 | Val Acc: 0.7095 | Train loss: 0.4246 Val Loss: 0.6948\n",
      "Epoch 066 | Fold 3 | Train Acc: 0.7300 | Val Acc: 0.7148 | Train loss: 0.4199 Val Loss: 0.6962\n",
      "Epoch 067 | Fold 3 | Train Acc: 0.7317 | Val Acc: 0.7095 | Train loss: 0.4195 Val Loss: 0.6941\n",
      "Epoch 068 | Fold 3 | Train Acc: 0.7266 | Val Acc: 0.7060 | Train loss: 0.4218 Val Loss: 0.7029\n",
      "Epoch 069 | Fold 3 | Train Acc: 0.7300 | Val Acc: 0.7148 | Train loss: 0.4170 Val Loss: 0.6915\n",
      "Epoch 070 | Fold 3 | Train Acc: 0.7300 | Val Acc: 0.7095 | Train loss: 0.4249 Val Loss: 0.7013\n",
      "Epoch 071 | Fold 3 | Train Acc: 0.7277 | Val Acc: 0.7148 | Train loss: 0.4246 Val Loss: 0.6926\n",
      "Epoch 072 | Fold 3 | Train Acc: 0.7401 | Val Acc: 0.7077 | Train loss: 0.4248 Val Loss: 0.7084\n",
      " Early stopping at epoch 72 for fold 3\n",
      " Fold 3: Best Val Acc = 0.7042\n",
      "Epoch 001 | Fold 4 | Train Acc: 0.1402 | Val Acc: 0.1553 | Train loss: 1.3895 Val Loss: 1.3822\n",
      "Epoch 002 | Fold 4 | Train Acc: 0.2043 | Val Acc: 0.2763 | Train loss: 1.3745 Val Loss: 1.3690\n",
      "Epoch 003 | Fold 4 | Train Acc: 0.2637 | Val Acc: 0.3151 | Train loss: 1.3593 Val Loss: 1.3504\n",
      "Epoch 004 | Fold 4 | Train Acc: 0.2862 | Val Acc: 0.3470 | Train loss: 1.3412 Val Loss: 1.3288\n",
      "Epoch 005 | Fold 4 | Train Acc: 0.3146 | Val Acc: 0.4201 | Train loss: 1.3152 Val Loss: 1.2984\n",
      "Epoch 006 | Fold 4 | Train Acc: 0.3971 | Val Acc: 0.4269 | Train loss: 1.2826 Val Loss: 1.2522\n",
      "Epoch 007 | Fold 4 | Train Acc: 0.4480 | Val Acc: 0.5616 | Train loss: 1.2311 Val Loss: 1.1635\n",
      "Epoch 008 | Fold 4 | Train Acc: 0.5226 | Val Acc: 0.5708 | Train loss: 1.1381 Val Loss: 1.0006\n",
      "Epoch 009 | Fold 4 | Train Acc: 0.5604 | Val Acc: 0.5594 | Train loss: 0.9886 Val Loss: 0.8214\n",
      "Epoch 010 | Fold 4 | Train Acc: 0.5242 | Val Acc: 0.5616 | Train loss: 0.8557 Val Loss: 0.6989\n",
      "Epoch 011 | Fold 4 | Train Acc: 0.5305 | Val Acc: 0.5845 | Train loss: 0.7512 Val Loss: 0.6277\n",
      "Epoch 012 | Fold 4 | Train Acc: 0.6077 | Val Acc: 0.5411 | Train loss: 0.6753 Val Loss: 0.6119\n",
      "Epoch 013 | Fold 4 | Train Acc: 0.5410 | Val Acc: 0.6096 | Train loss: 0.6539 Val Loss: 0.5646\n",
      "Epoch 014 | Fold 4 | Train Acc: 0.6408 | Val Acc: 0.5822 | Train loss: 0.6129 Val Loss: 0.5580\n",
      "Epoch 015 | Fold 4 | Train Acc: 0.5888 | Val Acc: 0.5708 | Train loss: 0.5919 Val Loss: 0.5490\n",
      "Epoch 016 | Fold 4 | Train Acc: 0.6077 | Val Acc: 0.6142 | Train loss: 0.5757 Val Loss: 0.5283\n",
      "Epoch 017 | Fold 4 | Train Acc: 0.5767 | Val Acc: 0.5662 | Train loss: 0.5758 Val Loss: 0.5485\n",
      "Epoch 018 | Fold 4 | Train Acc: 0.6371 | Val Acc: 0.6575 | Train loss: 0.5560 Val Loss: 0.5017\n",
      "Epoch 019 | Fold 4 | Train Acc: 0.6213 | Val Acc: 0.5822 | Train loss: 0.5430 Val Loss: 0.5165\n",
      "Epoch 020 | Fold 4 | Train Acc: 0.6140 | Val Acc: 0.6461 | Train loss: 0.5360 Val Loss: 0.4997\n",
      "Epoch 021 | Fold 4 | Train Acc: 0.6681 | Val Acc: 0.6256 | Train loss: 0.5450 Val Loss: 0.4956\n",
      "Epoch 022 | Fold 4 | Train Acc: 0.5982 | Val Acc: 0.5936 | Train loss: 0.5489 Val Loss: 0.5094\n",
      "Epoch 023 | Fold 4 | Train Acc: 0.6565 | Val Acc: 0.6187 | Train loss: 0.5345 Val Loss: 0.5057\n",
      "Epoch 024 | Fold 4 | Train Acc: 0.6497 | Val Acc: 0.6005 | Train loss: 0.5250 Val Loss: 0.5109\n",
      "Epoch 025 | Fold 4 | Train Acc: 0.6497 | Val Acc: 0.6461 | Train loss: 0.5164 Val Loss: 0.4941\n",
      "Epoch 026 | Fold 4 | Train Acc: 0.6576 | Val Acc: 0.6804 | Train loss: 0.5273 Val Loss: 0.4822\n",
      "Epoch 027 | Fold 4 | Train Acc: 0.6649 | Val Acc: 0.6735 | Train loss: 0.5186 Val Loss: 0.4873\n",
      "Epoch 028 | Fold 4 | Train Acc: 0.6565 | Val Acc: 0.6781 | Train loss: 0.5069 Val Loss: 0.4877\n",
      "Epoch 029 | Fold 4 | Train Acc: 0.6544 | Val Acc: 0.6575 | Train loss: 0.5152 Val Loss: 0.4882\n",
      "Epoch 030 | Fold 4 | Train Acc: 0.6859 | Val Acc: 0.6758 | Train loss: 0.5021 Val Loss: 0.4859\n",
      "Epoch 031 | Fold 4 | Train Acc: 0.6854 | Val Acc: 0.6507 | Train loss: 0.4956 Val Loss: 0.4941\n",
      "Epoch 032 | Fold 4 | Train Acc: 0.6465 | Val Acc: 0.6461 | Train loss: 0.5112 Val Loss: 0.4971\n",
      "Epoch 033 | Fold 4 | Train Acc: 0.6859 | Val Acc: 0.7123 | Train loss: 0.5030 Val Loss: 0.4703\n",
      "Epoch 034 | Fold 4 | Train Acc: 0.6938 | Val Acc: 0.6416 | Train loss: 0.4890 Val Loss: 0.5084\n",
      "Epoch 035 | Fold 4 | Train Acc: 0.6282 | Val Acc: 0.6895 | Train loss: 0.5108 Val Loss: 0.4811\n",
      "Epoch 036 | Fold 4 | Train Acc: 0.6901 | Val Acc: 0.6986 | Train loss: 0.4999 Val Loss: 0.4767\n",
      "Epoch 037 | Fold 4 | Train Acc: 0.6770 | Val Acc: 0.6963 | Train loss: 0.4960 Val Loss: 0.4763\n",
      "Epoch 038 | Fold 4 | Train Acc: 0.6807 | Val Acc: 0.6986 | Train loss: 0.4966 Val Loss: 0.4805\n",
      "Epoch 039 | Fold 4 | Train Acc: 0.6938 | Val Acc: 0.7146 | Train loss: 0.4919 Val Loss: 0.4705\n",
      "Epoch 040 | Fold 4 | Train Acc: 0.6880 | Val Acc: 0.6735 | Train loss: 0.4886 Val Loss: 0.4958\n",
      "Epoch 041 | Fold 4 | Train Acc: 0.6886 | Val Acc: 0.7009 | Train loss: 0.4875 Val Loss: 0.4826\n",
      "Epoch 042 | Fold 4 | Train Acc: 0.6702 | Val Acc: 0.6918 | Train loss: 0.4973 Val Loss: 0.4907\n",
      "Epoch 043 | Fold 4 | Train Acc: 0.7017 | Val Acc: 0.7146 | Train loss: 0.4778 Val Loss: 0.4653\n",
      "Epoch 044 | Fold 4 | Train Acc: 0.6933 | Val Acc: 0.6963 | Train loss: 0.4836 Val Loss: 0.4745\n",
      "Epoch 045 | Fold 4 | Train Acc: 0.6796 | Val Acc: 0.6963 | Train loss: 0.4958 Val Loss: 0.4927\n",
      "Epoch 046 | Fold 4 | Train Acc: 0.6896 | Val Acc: 0.7169 | Train loss: 0.4786 Val Loss: 0.4655\n",
      "Epoch 047 | Fold 4 | Train Acc: 0.6980 | Val Acc: 0.7009 | Train loss: 0.4875 Val Loss: 0.4877\n",
      "Epoch 048 | Fold 4 | Train Acc: 0.6675 | Val Acc: 0.7032 | Train loss: 0.4800 Val Loss: 0.4826\n",
      "Epoch 049 | Fold 4 | Train Acc: 0.7080 | Val Acc: 0.6986 | Train loss: 0.4926 Val Loss: 0.4779\n",
      "Epoch 050 | Fold 4 | Train Acc: 0.6686 | Val Acc: 0.6963 | Train loss: 0.4886 Val Loss: 0.4937\n",
      "Epoch 051 | Fold 4 | Train Acc: 0.7127 | Val Acc: 0.7055 | Train loss: 0.4711 Val Loss: 0.4652\n",
      "Epoch 052 | Fold 4 | Train Acc: 0.7080 | Val Acc: 0.7078 | Train loss: 0.4820 Val Loss: 0.4866\n",
      "Epoch 053 | Fold 4 | Train Acc: 0.6822 | Val Acc: 0.7009 | Train loss: 0.4870 Val Loss: 0.4898\n",
      "Epoch 054 | Fold 4 | Train Acc: 0.6859 | Val Acc: 0.7192 | Train loss: 0.4702 Val Loss: 0.4674\n",
      "Epoch 055 | Fold 4 | Train Acc: 0.6996 | Val Acc: 0.7169 | Train loss: 0.4731 Val Loss: 0.4652\n",
      "Epoch 056 | Fold 4 | Train Acc: 0.6933 | Val Acc: 0.7055 | Train loss: 0.4829 Val Loss: 0.4779\n",
      "Epoch 057 | Fold 4 | Train Acc: 0.6943 | Val Acc: 0.7192 | Train loss: 0.4626 Val Loss: 0.4676\n",
      "Epoch 058 | Fold 4 | Train Acc: 0.7027 | Val Acc: 0.6986 | Train loss: 0.4737 Val Loss: 0.4837\n",
      "Epoch 059 | Fold 4 | Train Acc: 0.6975 | Val Acc: 0.7169 | Train loss: 0.4784 Val Loss: 0.4669\n",
      "Epoch 060 | Fold 4 | Train Acc: 0.7027 | Val Acc: 0.7009 | Train loss: 0.4676 Val Loss: 0.4903\n",
      "Epoch 061 | Fold 4 | Train Acc: 0.6833 | Val Acc: 0.7169 | Train loss: 0.4732 Val Loss: 0.4646\n",
      "Epoch 062 | Fold 4 | Train Acc: 0.7001 | Val Acc: 0.7192 | Train loss: 0.4730 Val Loss: 0.4671\n",
      "Epoch 063 | Fold 4 | Train Acc: 0.7080 | Val Acc: 0.7032 | Train loss: 0.4640 Val Loss: 0.4720\n",
      "Epoch 064 | Fold 4 | Train Acc: 0.6780 | Val Acc: 0.7009 | Train loss: 0.4700 Val Loss: 0.4885\n",
      "Epoch 065 | Fold 4 | Train Acc: 0.7075 | Val Acc: 0.7032 | Train loss: 0.4667 Val Loss: 0.4624\n",
      "Epoch 066 | Fold 4 | Train Acc: 0.6980 | Val Acc: 0.6986 | Train loss: 0.4678 Val Loss: 0.4928\n",
      "Epoch 067 | Fold 4 | Train Acc: 0.6964 | Val Acc: 0.7329 | Train loss: 0.4638 Val Loss: 0.4590\n",
      "Epoch 068 | Fold 4 | Train Acc: 0.6928 | Val Acc: 0.7192 | Train loss: 0.4652 Val Loss: 0.4778\n",
      "Epoch 069 | Fold 4 | Train Acc: 0.7111 | Val Acc: 0.7192 | Train loss: 0.4637 Val Loss: 0.4608\n",
      "Epoch 070 | Fold 4 | Train Acc: 0.7096 | Val Acc: 0.7032 | Train loss: 0.4658 Val Loss: 0.4828\n",
      "Epoch 071 | Fold 4 | Train Acc: 0.6765 | Val Acc: 0.7215 | Train loss: 0.4661 Val Loss: 0.4745\n",
      "Epoch 072 | Fold 4 | Train Acc: 0.7048 | Val Acc: 0.7055 | Train loss: 0.4706 Val Loss: 0.4736\n",
      "Epoch 073 | Fold 4 | Train Acc: 0.7090 | Val Acc: 0.7169 | Train loss: 0.4667 Val Loss: 0.4631\n",
      "Epoch 074 | Fold 4 | Train Acc: 0.6864 | Val Acc: 0.7169 | Train loss: 0.4688 Val Loss: 0.4812\n",
      "Epoch 075 | Fold 4 | Train Acc: 0.7033 | Val Acc: 0.7032 | Train loss: 0.4531 Val Loss: 0.4728\n",
      "Epoch 076 | Fold 4 | Train Acc: 0.7064 | Val Acc: 0.7192 | Train loss: 0.4591 Val Loss: 0.4715\n",
      "Epoch 077 | Fold 4 | Train Acc: 0.6938 | Val Acc: 0.7192 | Train loss: 0.4670 Val Loss: 0.4694\n",
      "Epoch 078 | Fold 4 | Train Acc: 0.7096 | Val Acc: 0.7009 | Train loss: 0.4688 Val Loss: 0.4703\n",
      "Epoch 079 | Fold 4 | Train Acc: 0.6954 | Val Acc: 0.7032 | Train loss: 0.4579 Val Loss: 0.4768\n",
      "Epoch 080 | Fold 4 | Train Acc: 0.7069 | Val Acc: 0.7215 | Train loss: 0.4535 Val Loss: 0.4702\n",
      "Epoch 081 | Fold 4 | Train Acc: 0.6975 | Val Acc: 0.7009 | Train loss: 0.4546 Val Loss: 0.4753\n",
      "Epoch 082 | Fold 4 | Train Acc: 0.7054 | Val Acc: 0.7215 | Train loss: 0.4547 Val Loss: 0.4704\n",
      "Epoch 083 | Fold 4 | Train Acc: 0.7080 | Val Acc: 0.7192 | Train loss: 0.4516 Val Loss: 0.4653\n",
      "Epoch 084 | Fold 4 | Train Acc: 0.7048 | Val Acc: 0.7078 | Train loss: 0.4522 Val Loss: 0.4683\n",
      "Epoch 085 | Fold 4 | Train Acc: 0.7043 | Val Acc: 0.7215 | Train loss: 0.4522 Val Loss: 0.4653\n",
      "Epoch 086 | Fold 4 | Train Acc: 0.7132 | Val Acc: 0.7192 | Train loss: 0.4487 Val Loss: 0.4597\n",
      "Epoch 087 | Fold 4 | Train Acc: 0.7085 | Val Acc: 0.7215 | Train loss: 0.4574 Val Loss: 0.4691\n",
      "Epoch 088 | Fold 4 | Train Acc: 0.7075 | Val Acc: 0.7055 | Train loss: 0.4453 Val Loss: 0.4660\n",
      "Epoch 089 | Fold 4 | Train Acc: 0.7127 | Val Acc: 0.7192 | Train loss: 0.4487 Val Loss: 0.4603\n",
      "Epoch 090 | Fold 4 | Train Acc: 0.7027 | Val Acc: 0.7215 | Train loss: 0.4583 Val Loss: 0.4707\n",
      "Epoch 091 | Fold 4 | Train Acc: 0.7038 | Val Acc: 0.7215 | Train loss: 0.4503 Val Loss: 0.4646\n",
      "Epoch 092 | Fold 4 | Train Acc: 0.7043 | Val Acc: 0.7192 | Train loss: 0.4487 Val Loss: 0.4657\n",
      "Epoch 093 | Fold 4 | Train Acc: 0.7038 | Val Acc: 0.7215 | Train loss: 0.4532 Val Loss: 0.4657\n",
      "Epoch 094 | Fold 4 | Train Acc: 0.7117 | Val Acc: 0.7169 | Train loss: 0.4489 Val Loss: 0.4632\n",
      "Epoch 095 | Fold 4 | Train Acc: 0.7096 | Val Acc: 0.7215 | Train loss: 0.4485 Val Loss: 0.4690\n",
      "Epoch 096 | Fold 4 | Train Acc: 0.7106 | Val Acc: 0.7215 | Train loss: 0.4485 Val Loss: 0.4696\n",
      "Epoch 097 | Fold 4 | Train Acc: 0.7069 | Val Acc: 0.7192 | Train loss: 0.4460 Val Loss: 0.4643\n",
      " Early stopping at epoch 97 for fold 4\n",
      " Fold 4: Best Val Acc = 0.7329\n",
      "Epoch 001 | Fold 5 | Train Acc: 0.2669 | Val Acc: 0.1378 | Train loss: 1.3783 Val Loss: 1.3822\n",
      "Epoch 002 | Fold 5 | Train Acc: 0.2815 | Val Acc: 0.2527 | Train loss: 1.3579 Val Loss: 1.3567\n",
      "Epoch 003 | Fold 5 | Train Acc: 0.4009 | Val Acc: 0.5141 | Train loss: 1.3354 Val Loss: 1.3320\n",
      "Epoch 004 | Fold 5 | Train Acc: 0.4735 | Val Acc: 0.6661 | Train loss: 1.3093 Val Loss: 1.2855\n",
      "Epoch 005 | Fold 5 | Train Acc: 0.4882 | Val Acc: 0.5477 | Train loss: 1.2701 Val Loss: 1.2577\n",
      "Epoch 006 | Fold 5 | Train Acc: 0.5856 | Val Acc: 0.7208 | Train loss: 1.2084 Val Loss: 1.1655\n",
      "Epoch 007 | Fold 5 | Train Acc: 0.5574 | Val Acc: 0.5000 | Train loss: 1.1091 Val Loss: 1.0701\n",
      "Epoch 008 | Fold 5 | Train Acc: 0.5664 | Val Acc: 0.4417 | Train loss: 0.9538 Val Loss: 0.9149\n",
      "Epoch 009 | Fold 5 | Train Acc: 0.5709 | Val Acc: 0.5618 | Train loss: 0.7973 Val Loss: 0.8298\n",
      "Epoch 010 | Fold 5 | Train Acc: 0.6194 | Val Acc: 0.5000 | Train loss: 0.7311 Val Loss: 0.7729\n",
      "Epoch 011 | Fold 5 | Train Acc: 0.6182 | Val Acc: 0.5389 | Train loss: 0.6679 Val Loss: 0.7066\n",
      "Epoch 012 | Fold 5 | Train Acc: 0.6413 | Val Acc: 0.4488 | Train loss: 0.6378 Val Loss: 0.7631\n",
      "Epoch 013 | Fold 5 | Train Acc: 0.6520 | Val Acc: 0.5071 | Train loss: 0.6224 Val Loss: 0.7231\n",
      "Epoch 014 | Fold 5 | Train Acc: 0.6363 | Val Acc: 0.5177 | Train loss: 0.5921 Val Loss: 0.6579\n",
      "Epoch 015 | Fold 5 | Train Acc: 0.6785 | Val Acc: 0.5177 | Train loss: 0.5673 Val Loss: 0.6475\n",
      "Epoch 016 | Fold 5 | Train Acc: 0.6532 | Val Acc: 0.4841 | Train loss: 0.5688 Val Loss: 0.6359\n",
      "Epoch 017 | Fold 5 | Train Acc: 0.6458 | Val Acc: 0.5159 | Train loss: 0.5708 Val Loss: 0.6290\n",
      "Epoch 018 | Fold 5 | Train Acc: 0.7016 | Val Acc: 0.5106 | Train loss: 0.5498 Val Loss: 0.6356\n",
      "Epoch 019 | Fold 5 | Train Acc: 0.6605 | Val Acc: 0.5283 | Train loss: 0.5409 Val Loss: 0.6261\n",
      "Epoch 020 | Fold 5 | Train Acc: 0.6948 | Val Acc: 0.4806 | Train loss: 0.5453 Val Loss: 0.6644\n",
      "Epoch 021 | Fold 5 | Train Acc: 0.6577 | Val Acc: 0.5459 | Train loss: 0.5427 Val Loss: 0.6062\n",
      "Epoch 022 | Fold 5 | Train Acc: 0.7055 | Val Acc: 0.4947 | Train loss: 0.5263 Val Loss: 0.6432\n",
      "Epoch 023 | Fold 5 | Train Acc: 0.6954 | Val Acc: 0.5989 | Train loss: 0.5166 Val Loss: 0.5719\n",
      "Epoch 024 | Fold 5 | Train Acc: 0.6926 | Val Acc: 0.4929 | Train loss: 0.5140 Val Loss: 0.6359\n",
      "Epoch 025 | Fold 5 | Train Acc: 0.6971 | Val Acc: 0.5671 | Train loss: 0.5126 Val Loss: 0.6036\n",
      "Epoch 026 | Fold 5 | Train Acc: 0.7157 | Val Acc: 0.5742 | Train loss: 0.5045 Val Loss: 0.5924\n",
      "Epoch 027 | Fold 5 | Train Acc: 0.7016 | Val Acc: 0.5495 | Train loss: 0.5163 Val Loss: 0.6141\n",
      "Epoch 028 | Fold 5 | Train Acc: 0.7100 | Val Acc: 0.5954 | Train loss: 0.5092 Val Loss: 0.6125\n",
      "Epoch 029 | Fold 5 | Train Acc: 0.7055 | Val Acc: 0.5424 | Train loss: 0.5103 Val Loss: 0.6399\n",
      "Epoch 030 | Fold 5 | Train Acc: 0.7185 | Val Acc: 0.5989 | Train loss: 0.4995 Val Loss: 0.5785\n",
      "Epoch 031 | Fold 5 | Train Acc: 0.7140 | Val Acc: 0.5618 | Train loss: 0.5053 Val Loss: 0.6293\n",
      "Epoch 032 | Fold 5 | Train Acc: 0.6959 | Val Acc: 0.6042 | Train loss: 0.4982 Val Loss: 0.5892\n",
      "Epoch 033 | Fold 5 | Train Acc: 0.7185 | Val Acc: 0.5689 | Train loss: 0.5183 Val Loss: 0.6302\n",
      "Epoch 034 | Fold 5 | Train Acc: 0.7134 | Val Acc: 0.5989 | Train loss: 0.4919 Val Loss: 0.6000\n",
      "Epoch 035 | Fold 5 | Train Acc: 0.7207 | Val Acc: 0.6219 | Train loss: 0.4919 Val Loss: 0.5759\n",
      "Epoch 036 | Fold 5 | Train Acc: 0.7280 | Val Acc: 0.6042 | Train loss: 0.4816 Val Loss: 0.5988\n",
      "Epoch 037 | Fold 5 | Train Acc: 0.7218 | Val Acc: 0.5972 | Train loss: 0.4910 Val Loss: 0.6071\n",
      "Epoch 038 | Fold 5 | Train Acc: 0.7218 | Val Acc: 0.5989 | Train loss: 0.4835 Val Loss: 0.5811\n",
      "Epoch 039 | Fold 5 | Train Acc: 0.7173 | Val Acc: 0.6042 | Train loss: 0.4945 Val Loss: 0.5857\n",
      "Epoch 040 | Fold 5 | Train Acc: 0.7179 | Val Acc: 0.5989 | Train loss: 0.4879 Val Loss: 0.5978\n",
      "Epoch 041 | Fold 5 | Train Acc: 0.7196 | Val Acc: 0.6095 | Train loss: 0.4826 Val Loss: 0.5720\n",
      "Epoch 042 | Fold 5 | Train Acc: 0.7264 | Val Acc: 0.5989 | Train loss: 0.4873 Val Loss: 0.5848\n",
      "Epoch 043 | Fold 5 | Train Acc: 0.7168 | Val Acc: 0.6078 | Train loss: 0.4862 Val Loss: 0.5862\n",
      "Epoch 044 | Fold 5 | Train Acc: 0.7140 | Val Acc: 0.5989 | Train loss: 0.4917 Val Loss: 0.5952\n",
      "Epoch 045 | Fold 5 | Train Acc: 0.7224 | Val Acc: 0.6078 | Train loss: 0.4839 Val Loss: 0.5772\n",
      "Epoch 046 | Fold 5 | Train Acc: 0.7365 | Val Acc: 0.6307 | Train loss: 0.4926 Val Loss: 0.5646\n",
      "Epoch 047 | Fold 5 | Train Acc: 0.7275 | Val Acc: 0.6025 | Train loss: 0.4841 Val Loss: 0.5797\n",
      "Epoch 048 | Fold 5 | Train Acc: 0.7370 | Val Acc: 0.6078 | Train loss: 0.4787 Val Loss: 0.5824\n",
      "Epoch 049 | Fold 5 | Train Acc: 0.7168 | Val Acc: 0.5989 | Train loss: 0.4925 Val Loss: 0.5973\n",
      "Epoch 050 | Fold 5 | Train Acc: 0.7247 | Val Acc: 0.6113 | Train loss: 0.4876 Val Loss: 0.5700\n",
      "Epoch 051 | Fold 5 | Train Acc: 0.7320 | Val Acc: 0.6095 | Train loss: 0.4805 Val Loss: 0.5841\n",
      "Epoch 052 | Fold 5 | Train Acc: 0.7134 | Val Acc: 0.5989 | Train loss: 0.4891 Val Loss: 0.5999\n",
      "Epoch 053 | Fold 5 | Train Acc: 0.7376 | Val Acc: 0.6078 | Train loss: 0.4868 Val Loss: 0.5739\n",
      "Epoch 054 | Fold 5 | Train Acc: 0.7286 | Val Acc: 0.5989 | Train loss: 0.4772 Val Loss: 0.5993\n",
      "Epoch 055 | Fold 5 | Train Acc: 0.7382 | Val Acc: 0.6113 | Train loss: 0.4769 Val Loss: 0.5702\n",
      "Epoch 056 | Fold 5 | Train Acc: 0.7235 | Val Acc: 0.6007 | Train loss: 0.4831 Val Loss: 0.5850\n",
      "Epoch 057 | Fold 5 | Train Acc: 0.7258 | Val Acc: 0.6007 | Train loss: 0.4827 Val Loss: 0.5797\n",
      "Epoch 058 | Fold 5 | Train Acc: 0.7314 | Val Acc: 0.6042 | Train loss: 0.4777 Val Loss: 0.5853\n",
      "Epoch 059 | Fold 5 | Train Acc: 0.7252 | Val Acc: 0.6042 | Train loss: 0.4748 Val Loss: 0.5832\n",
      "Epoch 060 | Fold 5 | Train Acc: 0.7264 | Val Acc: 0.6042 | Train loss: 0.4810 Val Loss: 0.5808\n",
      "Epoch 061 | Fold 5 | Train Acc: 0.7359 | Val Acc: 0.6042 | Train loss: 0.4744 Val Loss: 0.5831\n",
      "Epoch 062 | Fold 5 | Train Acc: 0.7280 | Val Acc: 0.6042 | Train loss: 0.4834 Val Loss: 0.5810\n",
      "Epoch 063 | Fold 5 | Train Acc: 0.7314 | Val Acc: 0.6042 | Train loss: 0.4816 Val Loss: 0.5785\n",
      "Epoch 064 | Fold 5 | Train Acc: 0.7196 | Val Acc: 0.6042 | Train loss: 0.4819 Val Loss: 0.5809\n",
      "Epoch 065 | Fold 5 | Train Acc: 0.7286 | Val Acc: 0.6042 | Train loss: 0.4788 Val Loss: 0.5838\n",
      "Epoch 066 | Fold 5 | Train Acc: 0.7292 | Val Acc: 0.6042 | Train loss: 0.4661 Val Loss: 0.5884\n",
      "Epoch 067 | Fold 5 | Train Acc: 0.7241 | Val Acc: 0.6095 | Train loss: 0.4785 Val Loss: 0.5805\n",
      "Epoch 068 | Fold 5 | Train Acc: 0.7354 | Val Acc: 0.6042 | Train loss: 0.4783 Val Loss: 0.5767\n",
      "Epoch 069 | Fold 5 | Train Acc: 0.7314 | Val Acc: 0.6042 | Train loss: 0.4770 Val Loss: 0.5793\n",
      "Epoch 070 | Fold 5 | Train Acc: 0.7286 | Val Acc: 0.6042 | Train loss: 0.4752 Val Loss: 0.5786\n",
      "Epoch 071 | Fold 5 | Train Acc: 0.7331 | Val Acc: 0.6042 | Train loss: 0.4730 Val Loss: 0.5823\n",
      "Epoch 072 | Fold 5 | Train Acc: 0.7275 | Val Acc: 0.6042 | Train loss: 0.4803 Val Loss: 0.5806\n",
      "Epoch 073 | Fold 5 | Train Acc: 0.7342 | Val Acc: 0.6042 | Train loss: 0.4730 Val Loss: 0.5802\n",
      "Epoch 074 | Fold 5 | Train Acc: 0.7320 | Val Acc: 0.6042 | Train loss: 0.4749 Val Loss: 0.5809\n",
      "Epoch 075 | Fold 5 | Train Acc: 0.7235 | Val Acc: 0.6042 | Train loss: 0.4788 Val Loss: 0.5826\n",
      "Epoch 076 | Fold 5 | Train Acc: 0.7224 | Val Acc: 0.6042 | Train loss: 0.4770 Val Loss: 0.5799\n",
      " Early stopping at epoch 76 for fold 5\n",
      " Fold 5: Best Val Acc = 0.6307\n",
      "🏃 View run trial_11 at: http://127.0.0.1:5000/#/experiments/906754211394743286/runs/687d6464e70c4ce1b65823c94c751c21\n",
      "🧪 View experiment at: http://127.0.0.1:5000/#/experiments/906754211394743286\n"
     ]
    },
    {
     "name": "stderr",
     "output_type": "stream",
     "text": [
      "[I 2025-07-15 00:53:21,849] Trial 11 finished with value: 0.7109028240067488 and parameters: {'hidden_channels': 256, 'num_layers': 2, 'heads': 8, 'dropout': 0.11669360855658244, 'hidden_dim': 256}. Best is trial 11 with value: 0.7109028240067488.\n"
     ]
    },
    {
     "name": "stdout",
     "output_type": "stream",
     "text": [
      "Epoch 001 | Fold 1 | Train Acc: 0.3493 | Val Acc: 0.4497 | Train loss: 1.3839 Val Loss: 1.3798\n",
      "Epoch 002 | Fold 1 | Train Acc: 0.5178 | Val Acc: 0.3711 | Train loss: 1.3700 Val Loss: 1.3544\n",
      "Epoch 003 | Fold 1 | Train Acc: 0.4298 | Val Acc: 0.4214 | Train loss: 1.3556 Val Loss: 1.3333\n"
     ]
    },
    {
     "name": "stderr",
     "output_type": "stream",
     "text": [
      "[I 2025-07-15 00:53:25,441] Trial 12 pruned. \n"
     ]
    },
    {
     "name": "stdout",
     "output_type": "stream",
     "text": [
      "Epoch 004 | Fold 1 | Train Acc: 0.5756 | Val Acc: 0.4811 | Train loss: 1.3366 Val Loss: 1.2984\n",
      "🏃 View run trial_12 at: http://127.0.0.1:5000/#/experiments/906754211394743286/runs/d072bdbc16f84073b7978dac1cb484d3\n",
      "🧪 View experiment at: http://127.0.0.1:5000/#/experiments/906754211394743286\n",
      "Epoch 001 | Fold 1 | Train Acc: 0.1947 | Val Acc: 0.3648 | Train loss: 1.3875 Val Loss: 1.3689\n",
      "Epoch 002 | Fold 1 | Train Acc: 0.3276 | Val Acc: 0.6195 | Train loss: 1.3711 Val Loss: 1.3521\n",
      "Epoch 003 | Fold 1 | Train Acc: 0.3631 | Val Acc: 0.5094 | Train loss: 1.3560 Val Loss: 1.3293\n",
      "Epoch 004 | Fold 1 | Train Acc: 0.3809 | Val Acc: 0.5189 | Train loss: 1.3407 Val Loss: 1.2998\n",
      "Epoch 005 | Fold 1 | Train Acc: 0.4422 | Val Acc: 0.6226 | Train loss: 1.3197 Val Loss: 1.2678\n",
      "Epoch 006 | Fold 1 | Train Acc: 0.4990 | Val Acc: 0.7044 | Train loss: 1.2873 Val Loss: 1.2180\n",
      "Epoch 007 | Fold 1 | Train Acc: 0.5287 | Val Acc: 0.7107 | Train loss: 1.2507 Val Loss: 1.1292\n",
      "Epoch 008 | Fold 1 | Train Acc: 0.5030 | Val Acc: 0.6981 | Train loss: 1.1840 Val Loss: 0.9825\n",
      "Epoch 009 | Fold 1 | Train Acc: 0.4392 | Val Acc: 0.7107 | Train loss: 1.0856 Val Loss: 0.7395\n",
      "Epoch 010 | Fold 1 | Train Acc: 0.5711 | Val Acc: 0.7673 | Train loss: 0.9431 Val Loss: 0.5444\n",
      "Epoch 011 | Fold 1 | Train Acc: 0.5217 | Val Acc: 0.7610 | Train loss: 0.8083 Val Loss: 0.4540\n",
      "Epoch 012 | Fold 1 | Train Acc: 0.5385 | Val Acc: 0.7642 | Train loss: 0.7651 Val Loss: 0.4526\n",
      "Epoch 013 | Fold 1 | Train Acc: 0.5598 | Val Acc: 0.7799 | Train loss: 0.7077 Val Loss: 0.4448\n",
      "Epoch 014 | Fold 1 | Train Acc: 0.5978 | Val Acc: 0.7610 | Train loss: 0.6694 Val Loss: 0.4508\n",
      "Epoch 015 | Fold 1 | Train Acc: 0.5410 | Val Acc: 0.7547 | Train loss: 0.6672 Val Loss: 0.4439\n",
      "Epoch 016 | Fold 1 | Train Acc: 0.5968 | Val Acc: 0.7704 | Train loss: 0.6311 Val Loss: 0.4651\n",
      "Epoch 017 | Fold 1 | Train Acc: 0.5904 | Val Acc: 0.7799 | Train loss: 0.6197 Val Loss: 0.4534\n",
      "Epoch 018 | Fold 1 | Train Acc: 0.5973 | Val Acc: 0.7579 | Train loss: 0.6158 Val Loss: 0.4376\n",
      "Epoch 019 | Fold 1 | Train Acc: 0.5978 | Val Acc: 0.7642 | Train loss: 0.6137 Val Loss: 0.4445\n",
      "Epoch 020 | Fold 1 | Train Acc: 0.5815 | Val Acc: 0.7610 | Train loss: 0.5906 Val Loss: 0.4410\n",
      "Epoch 021 | Fold 1 | Train Acc: 0.5978 | Val Acc: 0.7704 | Train loss: 0.5931 Val Loss: 0.4429\n",
      "Epoch 022 | Fold 1 | Train Acc: 0.6319 | Val Acc: 0.7673 | Train loss: 0.6011 Val Loss: 0.4357\n",
      "Epoch 023 | Fold 1 | Train Acc: 0.5850 | Val Acc: 0.7642 | Train loss: 0.5835 Val Loss: 0.4228\n",
      "Epoch 024 | Fold 1 | Train Acc: 0.6146 | Val Acc: 0.7736 | Train loss: 0.5881 Val Loss: 0.4519\n",
      "Epoch 025 | Fold 1 | Train Acc: 0.6403 | Val Acc: 0.7736 | Train loss: 0.5663 Val Loss: 0.4307\n",
      "Epoch 026 | Fold 1 | Train Acc: 0.6003 | Val Acc: 0.7673 | Train loss: 0.5724 Val Loss: 0.4333\n",
      "Epoch 027 | Fold 1 | Train Acc: 0.6403 | Val Acc: 0.7862 | Train loss: 0.5530 Val Loss: 0.4485\n",
      "Epoch 028 | Fold 1 | Train Acc: 0.6206 | Val Acc: 0.7956 | Train loss: 0.5618 Val Loss: 0.4317\n",
      "Epoch 029 | Fold 1 | Train Acc: 0.6462 | Val Acc: 0.7893 | Train loss: 0.5378 Val Loss: 0.4485\n",
      "Epoch 030 | Fold 1 | Train Acc: 0.6571 | Val Acc: 0.7830 | Train loss: 0.5591 Val Loss: 0.4392\n",
      "Epoch 031 | Fold 1 | Train Acc: 0.6532 | Val Acc: 0.7830 | Train loss: 0.5440 Val Loss: 0.4412\n",
      "Epoch 032 | Fold 1 | Train Acc: 0.6344 | Val Acc: 0.7893 | Train loss: 0.5592 Val Loss: 0.4464\n",
      "Epoch 033 | Fold 1 | Train Acc: 0.6507 | Val Acc: 0.7830 | Train loss: 0.5387 Val Loss: 0.4426\n",
      "Epoch 034 | Fold 1 | Train Acc: 0.6210 | Val Acc: 0.7830 | Train loss: 0.5508 Val Loss: 0.4344\n",
      "Epoch 035 | Fold 1 | Train Acc: 0.6522 | Val Acc: 0.7862 | Train loss: 0.5331 Val Loss: 0.4524\n",
      "Epoch 036 | Fold 1 | Train Acc: 0.6700 | Val Acc: 0.7893 | Train loss: 0.5331 Val Loss: 0.4444\n",
      "Epoch 037 | Fold 1 | Train Acc: 0.6527 | Val Acc: 0.7830 | Train loss: 0.5183 Val Loss: 0.4432\n",
      "Epoch 038 | Fold 1 | Train Acc: 0.6581 | Val Acc: 0.7862 | Train loss: 0.5227 Val Loss: 0.4530\n",
      "Epoch 039 | Fold 1 | Train Acc: 0.6571 | Val Acc: 0.7893 | Train loss: 0.5242 Val Loss: 0.4451\n",
      "Epoch 040 | Fold 1 | Train Acc: 0.6630 | Val Acc: 0.7893 | Train loss: 0.5254 Val Loss: 0.4506\n",
      "Epoch 041 | Fold 1 | Train Acc: 0.6709 | Val Acc: 0.7830 | Train loss: 0.5228 Val Loss: 0.4467\n",
      "Epoch 042 | Fold 1 | Train Acc: 0.6670 | Val Acc: 0.7862 | Train loss: 0.5157 Val Loss: 0.4578\n",
      "Epoch 043 | Fold 1 | Train Acc: 0.6719 | Val Acc: 0.7830 | Train loss: 0.5219 Val Loss: 0.4479\n",
      "Epoch 044 | Fold 1 | Train Acc: 0.6542 | Val Acc: 0.7799 | Train loss: 0.5211 Val Loss: 0.4498\n",
      "Epoch 045 | Fold 1 | Train Acc: 0.6532 | Val Acc: 0.7799 | Train loss: 0.5235 Val Loss: 0.4499\n",
      "Epoch 046 | Fold 1 | Train Acc: 0.6616 | Val Acc: 0.7799 | Train loss: 0.5105 Val Loss: 0.4560\n",
      "Epoch 047 | Fold 1 | Train Acc: 0.6616 | Val Acc: 0.7799 | Train loss: 0.5142 Val Loss: 0.4521\n",
      "Epoch 048 | Fold 1 | Train Acc: 0.6734 | Val Acc: 0.7799 | Train loss: 0.5184 Val Loss: 0.4517\n",
      "Epoch 049 | Fold 1 | Train Acc: 0.6670 | Val Acc: 0.7799 | Train loss: 0.5030 Val Loss: 0.4485\n",
      "Epoch 050 | Fold 1 | Train Acc: 0.6700 | Val Acc: 0.7799 | Train loss: 0.5186 Val Loss: 0.4551\n",
      "Epoch 051 | Fold 1 | Train Acc: 0.6754 | Val Acc: 0.7799 | Train loss: 0.5190 Val Loss: 0.4538\n",
      "Epoch 052 | Fold 1 | Train Acc: 0.6724 | Val Acc: 0.7799 | Train loss: 0.5100 Val Loss: 0.4487\n",
      "Epoch 053 | Fold 1 | Train Acc: 0.6601 | Val Acc: 0.7799 | Train loss: 0.5150 Val Loss: 0.4534\n",
      " Early stopping at epoch 53 for fold 1\n",
      " Fold 1: Best Val Acc = 0.7642\n",
      "Epoch 001 | Fold 2 | Train Acc: 0.2407 | Val Acc: 0.3252 | Train loss: 1.3787 Val Loss: 1.3647\n",
      "Epoch 002 | Fold 2 | Train Acc: 0.2751 | Val Acc: 0.3650 | Train loss: 1.3580 Val Loss: 1.3487\n",
      "Epoch 003 | Fold 2 | Train Acc: 0.3905 | Val Acc: 0.5310 | Train loss: 1.3406 Val Loss: 1.3256\n",
      "Epoch 004 | Fold 2 | Train Acc: 0.4598 | Val Acc: 0.5177 | Train loss: 1.3165 Val Loss: 1.2921\n",
      "Epoch 005 | Fold 2 | Train Acc: 0.5249 | Val Acc: 0.6195 | Train loss: 1.2756 Val Loss: 1.2546\n",
      "Epoch 006 | Fold 2 | Train Acc: 0.4921 | Val Acc: 0.4491 | Train loss: 1.2306 Val Loss: 1.1891\n",
      "Epoch 007 | Fold 2 | Train Acc: 0.4757 | Val Acc: 0.4646 | Train loss: 1.1523 Val Loss: 1.0910\n",
      "Epoch 008 | Fold 2 | Train Acc: 0.5153 | Val Acc: 0.5575 | Train loss: 1.0291 Val Loss: 0.9092\n",
      "Epoch 009 | Fold 2 | Train Acc: 0.5836 | Val Acc: 0.4889 | Train loss: 0.8795 Val Loss: 0.7466\n",
      "Epoch 010 | Fold 2 | Train Acc: 0.5460 | Val Acc: 0.5619 | Train loss: 0.7991 Val Loss: 0.6677\n",
      "Epoch 011 | Fold 2 | Train Acc: 0.6254 | Val Acc: 0.5420 | Train loss: 0.7369 Val Loss: 0.6104\n",
      "Epoch 012 | Fold 2 | Train Acc: 0.5656 | Val Acc: 0.5509 | Train loss: 0.6952 Val Loss: 0.5762\n",
      "Epoch 013 | Fold 2 | Train Acc: 0.6222 | Val Acc: 0.5664 | Train loss: 0.6873 Val Loss: 0.5590\n",
      "Epoch 014 | Fold 2 | Train Acc: 0.5873 | Val Acc: 0.5553 | Train loss: 0.6780 Val Loss: 0.5322\n",
      "Epoch 015 | Fold 2 | Train Acc: 0.5841 | Val Acc: 0.5642 | Train loss: 0.6679 Val Loss: 0.5254\n",
      "Epoch 016 | Fold 2 | Train Acc: 0.6397 | Val Acc: 0.5686 | Train loss: 0.6592 Val Loss: 0.5206\n",
      "Epoch 017 | Fold 2 | Train Acc: 0.5847 | Val Acc: 0.5642 | Train loss: 0.6484 Val Loss: 0.5036\n",
      "Epoch 018 | Fold 2 | Train Acc: 0.6153 | Val Acc: 0.5841 | Train loss: 0.6278 Val Loss: 0.5038\n",
      "Epoch 019 | Fold 2 | Train Acc: 0.6259 | Val Acc: 0.6128 | Train loss: 0.6112 Val Loss: 0.4980\n",
      "Epoch 020 | Fold 2 | Train Acc: 0.6550 | Val Acc: 0.5973 | Train loss: 0.6130 Val Loss: 0.4820\n",
      "Epoch 021 | Fold 2 | Train Acc: 0.6185 | Val Acc: 0.5796 | Train loss: 0.6034 Val Loss: 0.4792\n",
      "Epoch 022 | Fold 2 | Train Acc: 0.6418 | Val Acc: 0.6571 | Train loss: 0.5995 Val Loss: 0.4809\n",
      "Epoch 023 | Fold 2 | Train Acc: 0.6593 | Val Acc: 0.6040 | Train loss: 0.6039 Val Loss: 0.4666\n",
      "Epoch 024 | Fold 2 | Train Acc: 0.6132 | Val Acc: 0.6527 | Train loss: 0.6133 Val Loss: 0.4667\n",
      "Epoch 025 | Fold 2 | Train Acc: 0.6545 | Val Acc: 0.6394 | Train loss: 0.5833 Val Loss: 0.4626\n",
      "Epoch 026 | Fold 2 | Train Acc: 0.6413 | Val Acc: 0.6283 | Train loss: 0.6091 Val Loss: 0.4549\n",
      "Epoch 027 | Fold 2 | Train Acc: 0.6587 | Val Acc: 0.6659 | Train loss: 0.5755 Val Loss: 0.4578\n",
      "Epoch 028 | Fold 2 | Train Acc: 0.6714 | Val Acc: 0.6571 | Train loss: 0.5818 Val Loss: 0.4486\n",
      "Epoch 029 | Fold 2 | Train Acc: 0.6317 | Val Acc: 0.6460 | Train loss: 0.5790 Val Loss: 0.4547\n",
      "Epoch 030 | Fold 2 | Train Acc: 0.6566 | Val Acc: 0.6836 | Train loss: 0.5818 Val Loss: 0.4510\n",
      "Epoch 031 | Fold 2 | Train Acc: 0.6683 | Val Acc: 0.6593 | Train loss: 0.5752 Val Loss: 0.4490\n",
      "Epoch 032 | Fold 2 | Train Acc: 0.6450 | Val Acc: 0.6881 | Train loss: 0.5693 Val Loss: 0.4440\n",
      "Epoch 033 | Fold 2 | Train Acc: 0.6651 | Val Acc: 0.6748 | Train loss: 0.5675 Val Loss: 0.4441\n",
      "Epoch 034 | Fold 2 | Train Acc: 0.6762 | Val Acc: 0.6836 | Train loss: 0.5640 Val Loss: 0.4428\n",
      "Epoch 035 | Fold 2 | Train Acc: 0.6529 | Val Acc: 0.6593 | Train loss: 0.5724 Val Loss: 0.4395\n",
      "Epoch 036 | Fold 2 | Train Acc: 0.6878 | Val Acc: 0.7013 | Train loss: 0.5708 Val Loss: 0.4479\n",
      "Epoch 037 | Fold 2 | Train Acc: 0.6958 | Val Acc: 0.6681 | Train loss: 0.5482 Val Loss: 0.4307\n",
      "Epoch 038 | Fold 2 | Train Acc: 0.6450 | Val Acc: 0.6593 | Train loss: 0.5702 Val Loss: 0.4355\n",
      "Epoch 039 | Fold 2 | Train Acc: 0.6794 | Val Acc: 0.7080 | Train loss: 0.5660 Val Loss: 0.4448\n",
      "Epoch 040 | Fold 2 | Train Acc: 0.6661 | Val Acc: 0.6726 | Train loss: 0.5543 Val Loss: 0.4267\n",
      "Epoch 041 | Fold 2 | Train Acc: 0.6646 | Val Acc: 0.6836 | Train loss: 0.5785 Val Loss: 0.4340\n",
      "Epoch 042 | Fold 2 | Train Acc: 0.6730 | Val Acc: 0.6947 | Train loss: 0.5523 Val Loss: 0.4291\n",
      "Epoch 043 | Fold 2 | Train Acc: 0.6937 | Val Acc: 0.7102 | Train loss: 0.5548 Val Loss: 0.4314\n",
      "Epoch 044 | Fold 2 | Train Acc: 0.7042 | Val Acc: 0.7013 | Train loss: 0.5408 Val Loss: 0.4256\n",
      "Epoch 045 | Fold 2 | Train Acc: 0.6852 | Val Acc: 0.7102 | Train loss: 0.5532 Val Loss: 0.4259\n",
      "Epoch 046 | Fold 2 | Train Acc: 0.6857 | Val Acc: 0.7102 | Train loss: 0.5615 Val Loss: 0.4268\n",
      "Epoch 047 | Fold 2 | Train Acc: 0.6661 | Val Acc: 0.6836 | Train loss: 0.5502 Val Loss: 0.4253\n",
      "Epoch 048 | Fold 2 | Train Acc: 0.6841 | Val Acc: 0.7102 | Train loss: 0.5438 Val Loss: 0.4299\n",
      "Epoch 049 | Fold 2 | Train Acc: 0.6852 | Val Acc: 0.7080 | Train loss: 0.5463 Val Loss: 0.4210\n",
      "Epoch 050 | Fold 2 | Train Acc: 0.6831 | Val Acc: 0.7102 | Train loss: 0.5453 Val Loss: 0.4287\n",
      "Epoch 051 | Fold 2 | Train Acc: 0.6979 | Val Acc: 0.7168 | Train loss: 0.5432 Val Loss: 0.4224\n",
      "Epoch 052 | Fold 2 | Train Acc: 0.6683 | Val Acc: 0.7058 | Train loss: 0.5281 Val Loss: 0.4156\n",
      "Epoch 053 | Fold 2 | Train Acc: 0.6963 | Val Acc: 0.6925 | Train loss: 0.5304 Val Loss: 0.4291\n",
      "Epoch 054 | Fold 2 | Train Acc: 0.6810 | Val Acc: 0.7212 | Train loss: 0.5544 Val Loss: 0.4205\n",
      "Epoch 055 | Fold 2 | Train Acc: 0.6878 | Val Acc: 0.7102 | Train loss: 0.5377 Val Loss: 0.4203\n",
      "Epoch 056 | Fold 2 | Train Acc: 0.7005 | Val Acc: 0.7235 | Train loss: 0.5455 Val Loss: 0.4296\n",
      "Epoch 057 | Fold 2 | Train Acc: 0.6937 | Val Acc: 0.6903 | Train loss: 0.5375 Val Loss: 0.4162\n",
      "Epoch 058 | Fold 2 | Train Acc: 0.6630 | Val Acc: 0.7146 | Train loss: 0.5422 Val Loss: 0.4161\n",
      "Epoch 059 | Fold 2 | Train Acc: 0.6979 | Val Acc: 0.7212 | Train loss: 0.5527 Val Loss: 0.4267\n",
      "Epoch 060 | Fold 2 | Train Acc: 0.7101 | Val Acc: 0.7168 | Train loss: 0.5302 Val Loss: 0.4161\n",
      "Epoch 061 | Fold 2 | Train Acc: 0.6783 | Val Acc: 0.7190 | Train loss: 0.5394 Val Loss: 0.4104\n",
      "Epoch 062 | Fold 2 | Train Acc: 0.6915 | Val Acc: 0.7212 | Train loss: 0.5372 Val Loss: 0.4163\n",
      "Epoch 063 | Fold 2 | Train Acc: 0.6767 | Val Acc: 0.7013 | Train loss: 0.5301 Val Loss: 0.4084\n",
      "Epoch 064 | Fold 2 | Train Acc: 0.6868 | Val Acc: 0.7212 | Train loss: 0.5388 Val Loss: 0.4142\n",
      "Epoch 065 | Fold 2 | Train Acc: 0.6921 | Val Acc: 0.7212 | Train loss: 0.5289 Val Loss: 0.4103\n",
      "Epoch 066 | Fold 2 | Train Acc: 0.6937 | Val Acc: 0.7212 | Train loss: 0.5268 Val Loss: 0.4067\n",
      "Epoch 067 | Fold 2 | Train Acc: 0.6772 | Val Acc: 0.7190 | Train loss: 0.5328 Val Loss: 0.4105\n",
      "Epoch 068 | Fold 2 | Train Acc: 0.6873 | Val Acc: 0.7212 | Train loss: 0.5465 Val Loss: 0.4133\n",
      "Epoch 069 | Fold 2 | Train Acc: 0.6815 | Val Acc: 0.7168 | Train loss: 0.5482 Val Loss: 0.4098\n",
      "Epoch 070 | Fold 2 | Train Acc: 0.6735 | Val Acc: 0.7102 | Train loss: 0.5242 Val Loss: 0.4128\n",
      "Epoch 071 | Fold 2 | Train Acc: 0.6921 | Val Acc: 0.7190 | Train loss: 0.5327 Val Loss: 0.4116\n",
      "Epoch 072 | Fold 2 | Train Acc: 0.6783 | Val Acc: 0.7146 | Train loss: 0.5394 Val Loss: 0.4109\n",
      "Epoch 073 | Fold 2 | Train Acc: 0.6958 | Val Acc: 0.7168 | Train loss: 0.5125 Val Loss: 0.4143\n",
      "Epoch 074 | Fold 2 | Train Acc: 0.6862 | Val Acc: 0.7058 | Train loss: 0.5232 Val Loss: 0.4052\n",
      "Epoch 075 | Fold 2 | Train Acc: 0.6794 | Val Acc: 0.7168 | Train loss: 0.5120 Val Loss: 0.4120\n",
      "Epoch 076 | Fold 2 | Train Acc: 0.6899 | Val Acc: 0.7168 | Train loss: 0.5275 Val Loss: 0.4073\n",
      "Epoch 077 | Fold 2 | Train Acc: 0.6905 | Val Acc: 0.7168 | Train loss: 0.5341 Val Loss: 0.4014\n",
      "Epoch 078 | Fold 2 | Train Acc: 0.6942 | Val Acc: 0.7168 | Train loss: 0.5306 Val Loss: 0.4025\n",
      "Epoch 079 | Fold 2 | Train Acc: 0.6873 | Val Acc: 0.7146 | Train loss: 0.5103 Val Loss: 0.4075\n",
      "Epoch 080 | Fold 2 | Train Acc: 0.6937 | Val Acc: 0.7168 | Train loss: 0.5157 Val Loss: 0.4101\n",
      "Epoch 081 | Fold 2 | Train Acc: 0.6820 | Val Acc: 0.7190 | Train loss: 0.5281 Val Loss: 0.4087\n",
      "Epoch 082 | Fold 2 | Train Acc: 0.6958 | Val Acc: 0.7235 | Train loss: 0.5113 Val Loss: 0.4128\n",
      "Epoch 083 | Fold 2 | Train Acc: 0.6847 | Val Acc: 0.7168 | Train loss: 0.5234 Val Loss: 0.3968\n",
      "Epoch 084 | Fold 2 | Train Acc: 0.6852 | Val Acc: 0.7190 | Train loss: 0.5096 Val Loss: 0.4051\n",
      "Epoch 085 | Fold 2 | Train Acc: 0.7021 | Val Acc: 0.7257 | Train loss: 0.5056 Val Loss: 0.4038\n",
      "Epoch 086 | Fold 2 | Train Acc: 0.7005 | Val Acc: 0.7146 | Train loss: 0.5236 Val Loss: 0.3971\n",
      "Epoch 087 | Fold 2 | Train Acc: 0.6884 | Val Acc: 0.7168 | Train loss: 0.5114 Val Loss: 0.4005\n",
      "Epoch 088 | Fold 2 | Train Acc: 0.6831 | Val Acc: 0.7235 | Train loss: 0.5460 Val Loss: 0.4047\n",
      "Epoch 089 | Fold 2 | Train Acc: 0.6952 | Val Acc: 0.7212 | Train loss: 0.5155 Val Loss: 0.4066\n",
      "Epoch 090 | Fold 2 | Train Acc: 0.6931 | Val Acc: 0.7212 | Train loss: 0.5205 Val Loss: 0.4036\n",
      "Epoch 091 | Fold 2 | Train Acc: 0.7053 | Val Acc: 0.7235 | Train loss: 0.5140 Val Loss: 0.4022\n",
      "Epoch 092 | Fold 2 | Train Acc: 0.6825 | Val Acc: 0.7124 | Train loss: 0.5199 Val Loss: 0.3957\n",
      "Epoch 093 | Fold 2 | Train Acc: 0.6910 | Val Acc: 0.7235 | Train loss: 0.5163 Val Loss: 0.4073\n",
      "Epoch 094 | Fold 2 | Train Acc: 0.6889 | Val Acc: 0.7168 | Train loss: 0.5068 Val Loss: 0.3970\n",
      "Epoch 095 | Fold 2 | Train Acc: 0.6868 | Val Acc: 0.7279 | Train loss: 0.5191 Val Loss: 0.4097\n",
      "Epoch 096 | Fold 2 | Train Acc: 0.6894 | Val Acc: 0.7168 | Train loss: 0.5126 Val Loss: 0.3993\n",
      "Epoch 097 | Fold 2 | Train Acc: 0.6963 | Val Acc: 0.7257 | Train loss: 0.5137 Val Loss: 0.4103\n",
      "Epoch 098 | Fold 2 | Train Acc: 0.7058 | Val Acc: 0.7146 | Train loss: 0.5189 Val Loss: 0.3983\n",
      "Epoch 099 | Fold 2 | Train Acc: 0.6794 | Val Acc: 0.7168 | Train loss: 0.5118 Val Loss: 0.4026\n",
      "Epoch 100 | Fold 2 | Train Acc: 0.6947 | Val Acc: 0.7212 | Train loss: 0.5110 Val Loss: 0.4070\n",
      "Epoch 101 | Fold 2 | Train Acc: 0.6952 | Val Acc: 0.7168 | Train loss: 0.5057 Val Loss: 0.4015\n",
      "Epoch 102 | Fold 2 | Train Acc: 0.6847 | Val Acc: 0.7190 | Train loss: 0.5045 Val Loss: 0.3976\n",
      "Epoch 103 | Fold 2 | Train Acc: 0.6852 | Val Acc: 0.7235 | Train loss: 0.5105 Val Loss: 0.4062\n",
      "Epoch 104 | Fold 2 | Train Acc: 0.6873 | Val Acc: 0.7190 | Train loss: 0.5136 Val Loss: 0.3966\n",
      "Epoch 105 | Fold 2 | Train Acc: 0.6979 | Val Acc: 0.7190 | Train loss: 0.5073 Val Loss: 0.3990\n",
      "Epoch 106 | Fold 2 | Train Acc: 0.6947 | Val Acc: 0.7190 | Train loss: 0.5104 Val Loss: 0.3986\n",
      "Epoch 107 | Fold 2 | Train Acc: 0.6995 | Val Acc: 0.7212 | Train loss: 0.5125 Val Loss: 0.3998\n",
      "Epoch 108 | Fold 2 | Train Acc: 0.7000 | Val Acc: 0.7212 | Train loss: 0.5174 Val Loss: 0.4009\n",
      "Epoch 109 | Fold 2 | Train Acc: 0.6847 | Val Acc: 0.7102 | Train loss: 0.5102 Val Loss: 0.3949\n",
      "Epoch 110 | Fold 2 | Train Acc: 0.6958 | Val Acc: 0.7235 | Train loss: 0.4923 Val Loss: 0.3989\n",
      "Epoch 111 | Fold 2 | Train Acc: 0.7016 | Val Acc: 0.7235 | Train loss: 0.4967 Val Loss: 0.4059\n",
      "Epoch 112 | Fold 2 | Train Acc: 0.7037 | Val Acc: 0.7212 | Train loss: 0.4899 Val Loss: 0.4008\n",
      "Epoch 113 | Fold 2 | Train Acc: 0.6889 | Val Acc: 0.7168 | Train loss: 0.5035 Val Loss: 0.3981\n",
      "Epoch 114 | Fold 2 | Train Acc: 0.6963 | Val Acc: 0.7212 | Train loss: 0.5159 Val Loss: 0.4035\n",
      "Epoch 115 | Fold 2 | Train Acc: 0.7000 | Val Acc: 0.7168 | Train loss: 0.5000 Val Loss: 0.3997\n",
      "Epoch 116 | Fold 2 | Train Acc: 0.6868 | Val Acc: 0.7212 | Train loss: 0.5063 Val Loss: 0.4013\n",
      "Epoch 117 | Fold 2 | Train Acc: 0.6921 | Val Acc: 0.7190 | Train loss: 0.5028 Val Loss: 0.4018\n",
      "Epoch 118 | Fold 2 | Train Acc: 0.6926 | Val Acc: 0.7190 | Train loss: 0.5084 Val Loss: 0.4002\n",
      "Epoch 119 | Fold 2 | Train Acc: 0.7069 | Val Acc: 0.7212 | Train loss: 0.4954 Val Loss: 0.4006\n",
      "Epoch 120 | Fold 2 | Train Acc: 0.6947 | Val Acc: 0.7190 | Train loss: 0.5091 Val Loss: 0.3974\n",
      "Epoch 121 | Fold 2 | Train Acc: 0.6915 | Val Acc: 0.7190 | Train loss: 0.5159 Val Loss: 0.3975\n",
      "Epoch 122 | Fold 2 | Train Acc: 0.6958 | Val Acc: 0.7212 | Train loss: 0.5104 Val Loss: 0.3990\n",
      "Epoch 123 | Fold 2 | Train Acc: 0.7021 | Val Acc: 0.7212 | Train loss: 0.4979 Val Loss: 0.3987\n",
      "Epoch 124 | Fold 2 | Train Acc: 0.6899 | Val Acc: 0.7190 | Train loss: 0.5004 Val Loss: 0.3984\n",
      "Epoch 125 | Fold 2 | Train Acc: 0.7016 | Val Acc: 0.7212 | Train loss: 0.5039 Val Loss: 0.3987\n",
      "Epoch 126 | Fold 2 | Train Acc: 0.6910 | Val Acc: 0.7212 | Train loss: 0.5073 Val Loss: 0.3998\n",
      "Epoch 127 | Fold 2 | Train Acc: 0.6995 | Val Acc: 0.7212 | Train loss: 0.5025 Val Loss: 0.4004\n",
      "Epoch 128 | Fold 2 | Train Acc: 0.7058 | Val Acc: 0.7212 | Train loss: 0.4996 Val Loss: 0.3997\n",
      "Epoch 129 | Fold 2 | Train Acc: 0.7016 | Val Acc: 0.7212 | Train loss: 0.4946 Val Loss: 0.3978\n",
      "Epoch 130 | Fold 2 | Train Acc: 0.6947 | Val Acc: 0.7257 | Train loss: 0.5107 Val Loss: 0.3974\n",
      "Epoch 131 | Fold 2 | Train Acc: 0.6926 | Val Acc: 0.7190 | Train loss: 0.5046 Val Loss: 0.3944\n",
      "Epoch 132 | Fold 2 | Train Acc: 0.6915 | Val Acc: 0.7212 | Train loss: 0.4955 Val Loss: 0.3968\n",
      "Epoch 133 | Fold 2 | Train Acc: 0.7021 | Val Acc: 0.7212 | Train loss: 0.4955 Val Loss: 0.3986\n",
      "Epoch 134 | Fold 2 | Train Acc: 0.7000 | Val Acc: 0.7190 | Train loss: 0.4957 Val Loss: 0.3983\n",
      "Epoch 135 | Fold 2 | Train Acc: 0.6894 | Val Acc: 0.7212 | Train loss: 0.5112 Val Loss: 0.3973\n",
      "Epoch 136 | Fold 2 | Train Acc: 0.7011 | Val Acc: 0.7235 | Train loss: 0.5066 Val Loss: 0.4017\n",
      "Epoch 137 | Fold 2 | Train Acc: 0.7037 | Val Acc: 0.7212 | Train loss: 0.5080 Val Loss: 0.3969\n",
      "Epoch 138 | Fold 2 | Train Acc: 0.6915 | Val Acc: 0.7190 | Train loss: 0.5131 Val Loss: 0.3969\n",
      "Epoch 139 | Fold 2 | Train Acc: 0.6974 | Val Acc: 0.7235 | Train loss: 0.5089 Val Loss: 0.4002\n",
      "Epoch 140 | Fold 2 | Train Acc: 0.7053 | Val Acc: 0.7212 | Train loss: 0.4954 Val Loss: 0.3971\n",
      "Epoch 141 | Fold 2 | Train Acc: 0.6926 | Val Acc: 0.7212 | Train loss: 0.4931 Val Loss: 0.3948\n",
      "Epoch 142 | Fold 2 | Train Acc: 0.6905 | Val Acc: 0.7190 | Train loss: 0.5043 Val Loss: 0.3956\n",
      "Epoch 143 | Fold 2 | Train Acc: 0.7074 | Val Acc: 0.7190 | Train loss: 0.5044 Val Loss: 0.3977\n",
      "Epoch 144 | Fold 2 | Train Acc: 0.6979 | Val Acc: 0.7190 | Train loss: 0.5051 Val Loss: 0.3966\n",
      "Epoch 145 | Fold 2 | Train Acc: 0.6974 | Val Acc: 0.7190 | Train loss: 0.5035 Val Loss: 0.3951\n",
      "Epoch 146 | Fold 2 | Train Acc: 0.6878 | Val Acc: 0.7212 | Train loss: 0.5014 Val Loss: 0.3967\n",
      "Epoch 147 | Fold 2 | Train Acc: 0.6958 | Val Acc: 0.7212 | Train loss: 0.4904 Val Loss: 0.3967\n",
      "Epoch 148 | Fold 2 | Train Acc: 0.7058 | Val Acc: 0.7257 | Train loss: 0.4979 Val Loss: 0.3987\n",
      "Epoch 149 | Fold 2 | Train Acc: 0.7011 | Val Acc: 0.7212 | Train loss: 0.5031 Val Loss: 0.3963\n",
      "Epoch 150 | Fold 2 | Train Acc: 0.6974 | Val Acc: 0.7212 | Train loss: 0.5112 Val Loss: 0.3965\n",
      "Epoch 151 | Fold 2 | Train Acc: 0.6910 | Val Acc: 0.7212 | Train loss: 0.4979 Val Loss: 0.3975\n",
      "Epoch 152 | Fold 2 | Train Acc: 0.6979 | Val Acc: 0.7212 | Train loss: 0.5077 Val Loss: 0.3960\n",
      "Epoch 153 | Fold 2 | Train Acc: 0.7016 | Val Acc: 0.7212 | Train loss: 0.5071 Val Loss: 0.3958\n",
      "Epoch 154 | Fold 2 | Train Acc: 0.6989 | Val Acc: 0.7190 | Train loss: 0.4988 Val Loss: 0.3955\n",
      "Epoch 155 | Fold 2 | Train Acc: 0.6931 | Val Acc: 0.7190 | Train loss: 0.4973 Val Loss: 0.3957\n",
      "Epoch 156 | Fold 2 | Train Acc: 0.6937 | Val Acc: 0.7212 | Train loss: 0.5006 Val Loss: 0.3963\n",
      "Epoch 157 | Fold 2 | Train Acc: 0.6974 | Val Acc: 0.7190 | Train loss: 0.4953 Val Loss: 0.3953\n",
      "Epoch 158 | Fold 2 | Train Acc: 0.6937 | Val Acc: 0.7190 | Train loss: 0.4977 Val Loss: 0.3955\n",
      "Epoch 159 | Fold 2 | Train Acc: 0.7005 | Val Acc: 0.7190 | Train loss: 0.4946 Val Loss: 0.3959\n",
      "Epoch 160 | Fold 2 | Train Acc: 0.6984 | Val Acc: 0.7212 | Train loss: 0.4981 Val Loss: 0.3968\n",
      "Epoch 161 | Fold 2 | Train Acc: 0.6974 | Val Acc: 0.7212 | Train loss: 0.4978 Val Loss: 0.3965\n",
      " Early stopping at epoch 161 for fold 2\n",
      " Fold 2: Best Val Acc = 0.7190\n",
      "Epoch 001 | Fold 3 | Train Acc: 0.1798 | Val Acc: 0.3292 | Train loss: 1.3828 Val Loss: 1.3761\n",
      "Epoch 002 | Fold 3 | Train Acc: 0.2689 | Val Acc: 0.3398 | Train loss: 1.3625 Val Loss: 1.3695\n",
      "Epoch 003 | Fold 3 | Train Acc: 0.3388 | Val Acc: 0.3574 | Train loss: 1.3394 Val Loss: 1.3583\n",
      "Epoch 004 | Fold 3 | Train Acc: 0.3258 | Val Acc: 0.3803 | Train loss: 1.3126 Val Loss: 1.3432\n",
      "Epoch 005 | Fold 3 | Train Acc: 0.4109 | Val Acc: 0.4120 | Train loss: 1.2758 Val Loss: 1.3250\n",
      "Epoch 006 | Fold 3 | Train Acc: 0.4651 | Val Acc: 0.4049 | Train loss: 1.2189 Val Loss: 1.2778\n",
      "Epoch 007 | Fold 3 | Train Acc: 0.6218 | Val Acc: 0.5493 | Train loss: 1.0720 Val Loss: 1.2268\n",
      "Epoch 008 | Fold 3 | Train Acc: 0.5817 | Val Acc: 0.5176 | Train loss: 0.9016 Val Loss: 1.0669\n",
      "Epoch 009 | Fold 3 | Train Acc: 0.5614 | Val Acc: 0.5757 | Train loss: 0.7663 Val Loss: 0.9829\n",
      "Epoch 010 | Fold 3 | Train Acc: 0.6319 | Val Acc: 0.5493 | Train loss: 0.6992 Val Loss: 0.9272\n",
      "Epoch 011 | Fold 3 | Train Acc: 0.6032 | Val Acc: 0.6127 | Train loss: 0.6609 Val Loss: 0.8707\n",
      "Epoch 012 | Fold 3 | Train Acc: 0.6229 | Val Acc: 0.5898 | Train loss: 0.6508 Val Loss: 0.8598\n",
      "Epoch 013 | Fold 3 | Train Acc: 0.6167 | Val Acc: 0.6127 | Train loss: 0.6310 Val Loss: 0.8124\n",
      "Epoch 014 | Fold 3 | Train Acc: 0.6404 | Val Acc: 0.6004 | Train loss: 0.6081 Val Loss: 0.8142\n",
      "Epoch 015 | Fold 3 | Train Acc: 0.6421 | Val Acc: 0.5968 | Train loss: 0.5923 Val Loss: 0.8429\n",
      "Epoch 016 | Fold 3 | Train Acc: 0.6302 | Val Acc: 0.6180 | Train loss: 0.5918 Val Loss: 0.7682\n",
      "Epoch 017 | Fold 3 | Train Acc: 0.6370 | Val Acc: 0.6092 | Train loss: 0.5944 Val Loss: 0.7837\n",
      "Epoch 018 | Fold 3 | Train Acc: 0.6381 | Val Acc: 0.6320 | Train loss: 0.5544 Val Loss: 0.7795\n",
      "Epoch 019 | Fold 3 | Train Acc: 0.6607 | Val Acc: 0.5933 | Train loss: 0.5489 Val Loss: 0.7958\n",
      "Epoch 020 | Fold 3 | Train Acc: 0.6415 | Val Acc: 0.6215 | Train loss: 0.5611 Val Loss: 0.7760\n",
      "Epoch 021 | Fold 3 | Train Acc: 0.6545 | Val Acc: 0.6673 | Train loss: 0.5565 Val Loss: 0.7693\n",
      "Epoch 022 | Fold 3 | Train Acc: 0.7046 | Val Acc: 0.6778 | Train loss: 0.5383 Val Loss: 0.7776\n",
      "Epoch 023 | Fold 3 | Train Acc: 0.6539 | Val Acc: 0.6602 | Train loss: 0.5419 Val Loss: 0.7258\n",
      "Epoch 024 | Fold 3 | Train Acc: 0.6674 | Val Acc: 0.6831 | Train loss: 0.5399 Val Loss: 0.7378\n",
      "Epoch 025 | Fold 3 | Train Acc: 0.6793 | Val Acc: 0.6954 | Train loss: 0.5225 Val Loss: 0.7455\n",
      "Epoch 026 | Fold 3 | Train Acc: 0.7057 | Val Acc: 0.6884 | Train loss: 0.5170 Val Loss: 0.7591\n",
      "Epoch 027 | Fold 3 | Train Acc: 0.7007 | Val Acc: 0.6796 | Train loss: 0.5193 Val Loss: 0.7568\n",
      "Epoch 028 | Fold 3 | Train Acc: 0.6764 | Val Acc: 0.6989 | Train loss: 0.5196 Val Loss: 0.7148\n",
      "Epoch 029 | Fold 3 | Train Acc: 0.6787 | Val Acc: 0.7060 | Train loss: 0.5168 Val Loss: 0.7237\n",
      "Epoch 030 | Fold 3 | Train Acc: 0.6883 | Val Acc: 0.6919 | Train loss: 0.5068 Val Loss: 0.7405\n",
      "Epoch 031 | Fold 3 | Train Acc: 0.6990 | Val Acc: 0.7042 | Train loss: 0.4928 Val Loss: 0.7315\n",
      "Epoch 032 | Fold 3 | Train Acc: 0.6877 | Val Acc: 0.6972 | Train loss: 0.5235 Val Loss: 0.7569\n",
      "Epoch 033 | Fold 3 | Train Acc: 0.6855 | Val Acc: 0.7095 | Train loss: 0.4981 Val Loss: 0.7205\n",
      "Epoch 034 | Fold 3 | Train Acc: 0.7035 | Val Acc: 0.7007 | Train loss: 0.5052 Val Loss: 0.7384\n",
      "Epoch 035 | Fold 3 | Train Acc: 0.7176 | Val Acc: 0.7007 | Train loss: 0.4886 Val Loss: 0.7333\n",
      "Epoch 036 | Fold 3 | Train Acc: 0.6922 | Val Acc: 0.7060 | Train loss: 0.5057 Val Loss: 0.7337\n",
      "Epoch 037 | Fold 3 | Train Acc: 0.7024 | Val Acc: 0.7007 | Train loss: 0.5020 Val Loss: 0.7105\n",
      "Epoch 038 | Fold 3 | Train Acc: 0.7046 | Val Acc: 0.7042 | Train loss: 0.4954 Val Loss: 0.7372\n",
      "Epoch 039 | Fold 3 | Train Acc: 0.7007 | Val Acc: 0.7042 | Train loss: 0.4886 Val Loss: 0.6956\n",
      "Epoch 040 | Fold 3 | Train Acc: 0.6894 | Val Acc: 0.6937 | Train loss: 0.4999 Val Loss: 0.7279\n",
      "Epoch 041 | Fold 3 | Train Acc: 0.6821 | Val Acc: 0.7130 | Train loss: 0.5064 Val Loss: 0.6929\n",
      "Epoch 042 | Fold 3 | Train Acc: 0.7159 | Val Acc: 0.6972 | Train loss: 0.4834 Val Loss: 0.7411\n",
      "Epoch 043 | Fold 3 | Train Acc: 0.7300 | Val Acc: 0.7130 | Train loss: 0.4890 Val Loss: 0.6967\n",
      "Epoch 044 | Fold 3 | Train Acc: 0.6663 | Val Acc: 0.7077 | Train loss: 0.4959 Val Loss: 0.6826\n",
      "Epoch 045 | Fold 3 | Train Acc: 0.7142 | Val Acc: 0.6937 | Train loss: 0.4861 Val Loss: 0.7324\n",
      "Epoch 046 | Fold 3 | Train Acc: 0.7232 | Val Acc: 0.7095 | Train loss: 0.4798 Val Loss: 0.7278\n",
      "Epoch 047 | Fold 3 | Train Acc: 0.7035 | Val Acc: 0.7113 | Train loss: 0.4808 Val Loss: 0.6933\n",
      "Epoch 048 | Fold 3 | Train Acc: 0.7103 | Val Acc: 0.6831 | Train loss: 0.4936 Val Loss: 0.7395\n",
      "Epoch 049 | Fold 3 | Train Acc: 0.7097 | Val Acc: 0.7042 | Train loss: 0.4961 Val Loss: 0.7262\n",
      "Epoch 050 | Fold 3 | Train Acc: 0.6708 | Val Acc: 0.7060 | Train loss: 0.4958 Val Loss: 0.6977\n",
      "Epoch 051 | Fold 3 | Train Acc: 0.7080 | Val Acc: 0.7042 | Train loss: 0.4989 Val Loss: 0.7155\n",
      "Epoch 052 | Fold 3 | Train Acc: 0.6995 | Val Acc: 0.7218 | Train loss: 0.4760 Val Loss: 0.6881\n",
      "Epoch 053 | Fold 3 | Train Acc: 0.6933 | Val Acc: 0.7077 | Train loss: 0.4807 Val Loss: 0.6917\n",
      "Epoch 054 | Fold 3 | Train Acc: 0.7035 | Val Acc: 0.7077 | Train loss: 0.4778 Val Loss: 0.7250\n",
      "Epoch 055 | Fold 3 | Train Acc: 0.7277 | Val Acc: 0.7042 | Train loss: 0.4778 Val Loss: 0.7177\n",
      "Epoch 056 | Fold 3 | Train Acc: 0.7210 | Val Acc: 0.7077 | Train loss: 0.4715 Val Loss: 0.7067\n",
      "Epoch 057 | Fold 3 | Train Acc: 0.7001 | Val Acc: 0.7130 | Train loss: 0.4776 Val Loss: 0.6992\n",
      "Epoch 058 | Fold 3 | Train Acc: 0.7120 | Val Acc: 0.7042 | Train loss: 0.4786 Val Loss: 0.7179\n",
      "Epoch 059 | Fold 3 | Train Acc: 0.7142 | Val Acc: 0.7060 | Train loss: 0.4675 Val Loss: 0.7143\n",
      "Epoch 060 | Fold 3 | Train Acc: 0.7215 | Val Acc: 0.7042 | Train loss: 0.4658 Val Loss: 0.7149\n",
      "Epoch 061 | Fold 3 | Train Acc: 0.6995 | Val Acc: 0.7113 | Train loss: 0.4669 Val Loss: 0.6821\n",
      "Epoch 062 | Fold 3 | Train Acc: 0.7069 | Val Acc: 0.7113 | Train loss: 0.4703 Val Loss: 0.7021\n",
      "Epoch 063 | Fold 3 | Train Acc: 0.7120 | Val Acc: 0.7113 | Train loss: 0.4681 Val Loss: 0.7086\n",
      "Epoch 064 | Fold 3 | Train Acc: 0.7057 | Val Acc: 0.7113 | Train loss: 0.4784 Val Loss: 0.6858\n",
      "Epoch 065 | Fold 3 | Train Acc: 0.7198 | Val Acc: 0.7007 | Train loss: 0.4755 Val Loss: 0.7249\n",
      "Epoch 066 | Fold 3 | Train Acc: 0.7249 | Val Acc: 0.7113 | Train loss: 0.4623 Val Loss: 0.7008\n",
      "Epoch 067 | Fold 3 | Train Acc: 0.6894 | Val Acc: 0.7113 | Train loss: 0.4701 Val Loss: 0.6803\n",
      "Epoch 068 | Fold 3 | Train Acc: 0.7091 | Val Acc: 0.7042 | Train loss: 0.4743 Val Loss: 0.7176\n",
      "Epoch 069 | Fold 3 | Train Acc: 0.7142 | Val Acc: 0.7113 | Train loss: 0.4729 Val Loss: 0.6998\n",
      "Epoch 070 | Fold 3 | Train Acc: 0.7012 | Val Acc: 0.7113 | Train loss: 0.4594 Val Loss: 0.7002\n",
      "Epoch 071 | Fold 3 | Train Acc: 0.7125 | Val Acc: 0.7113 | Train loss: 0.4721 Val Loss: 0.7102\n",
      "Epoch 072 | Fold 3 | Train Acc: 0.7210 | Val Acc: 0.7007 | Train loss: 0.4782 Val Loss: 0.7290\n",
      "Epoch 073 | Fold 3 | Train Acc: 0.7103 | Val Acc: 0.7113 | Train loss: 0.4737 Val Loss: 0.7005\n",
      "Epoch 074 | Fold 3 | Train Acc: 0.7091 | Val Acc: 0.6989 | Train loss: 0.4598 Val Loss: 0.7094\n",
      "Epoch 075 | Fold 3 | Train Acc: 0.7272 | Val Acc: 0.7042 | Train loss: 0.4558 Val Loss: 0.7109\n",
      "Epoch 076 | Fold 3 | Train Acc: 0.7204 | Val Acc: 0.7042 | Train loss: 0.4706 Val Loss: 0.7087\n",
      "Epoch 077 | Fold 3 | Train Acc: 0.7086 | Val Acc: 0.7042 | Train loss: 0.4731 Val Loss: 0.7046\n",
      "Epoch 078 | Fold 3 | Train Acc: 0.7148 | Val Acc: 0.7025 | Train loss: 0.4679 Val Loss: 0.6943\n",
      "Epoch 079 | Fold 3 | Train Acc: 0.7097 | Val Acc: 0.7042 | Train loss: 0.4744 Val Loss: 0.7099\n",
      "Epoch 080 | Fold 3 | Train Acc: 0.7086 | Val Acc: 0.7060 | Train loss: 0.4635 Val Loss: 0.7006\n",
      "Epoch 081 | Fold 3 | Train Acc: 0.7317 | Val Acc: 0.6989 | Train loss: 0.4635 Val Loss: 0.7151\n",
      "Epoch 082 | Fold 3 | Train Acc: 0.7244 | Val Acc: 0.7077 | Train loss: 0.4545 Val Loss: 0.7107\n",
      "Epoch 083 | Fold 3 | Train Acc: 0.7170 | Val Acc: 0.7077 | Train loss: 0.4562 Val Loss: 0.7040\n",
      "Epoch 084 | Fold 3 | Train Acc: 0.7069 | Val Acc: 0.7077 | Train loss: 0.4750 Val Loss: 0.7007\n",
      "Epoch 085 | Fold 3 | Train Acc: 0.7221 | Val Acc: 0.7042 | Train loss: 0.4535 Val Loss: 0.7170\n",
      "Epoch 086 | Fold 3 | Train Acc: 0.7289 | Val Acc: 0.7007 | Train loss: 0.4584 Val Loss: 0.7153\n",
      "Epoch 087 | Fold 3 | Train Acc: 0.7091 | Val Acc: 0.7060 | Train loss: 0.4623 Val Loss: 0.6976\n",
      "Epoch 088 | Fold 3 | Train Acc: 0.7074 | Val Acc: 0.7060 | Train loss: 0.4581 Val Loss: 0.7027\n",
      "Epoch 089 | Fold 3 | Train Acc: 0.7215 | Val Acc: 0.7042 | Train loss: 0.4664 Val Loss: 0.7047\n",
      "Epoch 090 | Fold 3 | Train Acc: 0.7170 | Val Acc: 0.7060 | Train loss: 0.4610 Val Loss: 0.7023\n",
      "Epoch 091 | Fold 3 | Train Acc: 0.7215 | Val Acc: 0.7060 | Train loss: 0.4619 Val Loss: 0.7005\n",
      "Epoch 092 | Fold 3 | Train Acc: 0.7210 | Val Acc: 0.7042 | Train loss: 0.4568 Val Loss: 0.7039\n",
      "Epoch 093 | Fold 3 | Train Acc: 0.7182 | Val Acc: 0.7042 | Train loss: 0.4559 Val Loss: 0.7077\n",
      "Epoch 094 | Fold 3 | Train Acc: 0.7244 | Val Acc: 0.7077 | Train loss: 0.4623 Val Loss: 0.7002\n",
      "Epoch 095 | Fold 3 | Train Acc: 0.7131 | Val Acc: 0.7060 | Train loss: 0.4684 Val Loss: 0.7019\n",
      "Epoch 096 | Fold 3 | Train Acc: 0.7193 | Val Acc: 0.7042 | Train loss: 0.4622 Val Loss: 0.7077\n",
      "Epoch 097 | Fold 3 | Train Acc: 0.7142 | Val Acc: 0.7113 | Train loss: 0.4656 Val Loss: 0.6933\n",
      " Early stopping at epoch 97 for fold 3\n",
      " Fold 3: Best Val Acc = 0.7113\n",
      "Epoch 001 | Fold 4 | Train Acc: 0.2421 | Val Acc: 0.3539 | Train loss: 1.3852 Val Loss: 1.3741\n",
      "Epoch 002 | Fold 4 | Train Acc: 0.2700 | Val Acc: 0.3995 | Train loss: 1.3681 Val Loss: 1.3550\n",
      "Epoch 003 | Fold 4 | Train Acc: 0.3157 | Val Acc: 0.3995 | Train loss: 1.3493 Val Loss: 1.3361\n",
      "Epoch 004 | Fold 4 | Train Acc: 0.3561 | Val Acc: 0.4292 | Train loss: 1.3253 Val Loss: 1.3099\n",
      "Epoch 005 | Fold 4 | Train Acc: 0.3640 | Val Acc: 0.4315 | Train loss: 1.3022 Val Loss: 1.2744\n",
      "Epoch 006 | Fold 4 | Train Acc: 0.3881 | Val Acc: 0.4612 | Train loss: 1.2612 Val Loss: 1.2085\n",
      "Epoch 007 | Fold 4 | Train Acc: 0.4622 | Val Acc: 0.5251 | Train loss: 1.2013 Val Loss: 1.1010\n",
      "Epoch 008 | Fold 4 | Train Acc: 0.4569 | Val Acc: 0.5228 | Train loss: 1.0832 Val Loss: 0.8932\n",
      "Epoch 009 | Fold 4 | Train Acc: 0.5525 | Val Acc: 0.5297 | Train loss: 0.9184 Val Loss: 0.7095\n",
      "Epoch 010 | Fold 4 | Train Acc: 0.4968 | Val Acc: 0.5411 | Train loss: 0.8056 Val Loss: 0.6445\n",
      "Epoch 011 | Fold 4 | Train Acc: 0.5593 | Val Acc: 0.6119 | Train loss: 0.7273 Val Loss: 0.5891\n",
      "Epoch 012 | Fold 4 | Train Acc: 0.5872 | Val Acc: 0.5845 | Train loss: 0.7078 Val Loss: 0.5738\n",
      "Epoch 013 | Fold 4 | Train Acc: 0.5751 | Val Acc: 0.5822 | Train loss: 0.6817 Val Loss: 0.5630\n",
      "Epoch 014 | Fold 4 | Train Acc: 0.6045 | Val Acc: 0.5822 | Train loss: 0.6638 Val Loss: 0.5421\n",
      "Epoch 015 | Fold 4 | Train Acc: 0.5909 | Val Acc: 0.5685 | Train loss: 0.6319 Val Loss: 0.5525\n",
      "Epoch 016 | Fold 4 | Train Acc: 0.5788 | Val Acc: 0.5776 | Train loss: 0.6306 Val Loss: 0.5325\n",
      "Epoch 017 | Fold 4 | Train Acc: 0.6271 | Val Acc: 0.5776 | Train loss: 0.6232 Val Loss: 0.5264\n",
      "Epoch 018 | Fold 4 | Train Acc: 0.6050 | Val Acc: 0.5685 | Train loss: 0.6140 Val Loss: 0.5275\n",
      "Epoch 019 | Fold 4 | Train Acc: 0.5882 | Val Acc: 0.5662 | Train loss: 0.5980 Val Loss: 0.5351\n",
      "Epoch 020 | Fold 4 | Train Acc: 0.6313 | Val Acc: 0.6347 | Train loss: 0.5907 Val Loss: 0.5063\n",
      "Epoch 021 | Fold 4 | Train Acc: 0.6197 | Val Acc: 0.6164 | Train loss: 0.6095 Val Loss: 0.5078\n",
      "Epoch 022 | Fold 4 | Train Acc: 0.6334 | Val Acc: 0.5936 | Train loss: 0.5925 Val Loss: 0.5096\n",
      "Epoch 023 | Fold 4 | Train Acc: 0.6035 | Val Acc: 0.5799 | Train loss: 0.5854 Val Loss: 0.5226\n",
      "Epoch 024 | Fold 4 | Train Acc: 0.6387 | Val Acc: 0.6187 | Train loss: 0.6022 Val Loss: 0.4981\n",
      "Epoch 025 | Fold 4 | Train Acc: 0.5998 | Val Acc: 0.5799 | Train loss: 0.5932 Val Loss: 0.5275\n",
      "Epoch 026 | Fold 4 | Train Acc: 0.6355 | Val Acc: 0.6347 | Train loss: 0.5678 Val Loss: 0.4935\n",
      "Epoch 027 | Fold 4 | Train Acc: 0.6439 | Val Acc: 0.6210 | Train loss: 0.5853 Val Loss: 0.5095\n",
      "Epoch 028 | Fold 4 | Train Acc: 0.6439 | Val Acc: 0.6393 | Train loss: 0.5897 Val Loss: 0.4916\n",
      "Epoch 029 | Fold 4 | Train Acc: 0.6555 | Val Acc: 0.6187 | Train loss: 0.5410 Val Loss: 0.5050\n",
      "Epoch 030 | Fold 4 | Train Acc: 0.6397 | Val Acc: 0.6416 | Train loss: 0.5471 Val Loss: 0.4953\n",
      "Epoch 031 | Fold 4 | Train Acc: 0.6455 | Val Acc: 0.6416 | Train loss: 0.5627 Val Loss: 0.4905\n",
      "Epoch 032 | Fold 4 | Train Acc: 0.6387 | Val Acc: 0.6393 | Train loss: 0.5517 Val Loss: 0.5053\n",
      "Epoch 033 | Fold 4 | Train Acc: 0.6749 | Val Acc: 0.6849 | Train loss: 0.5399 Val Loss: 0.4786\n",
      "Epoch 034 | Fold 4 | Train Acc: 0.6759 | Val Acc: 0.6667 | Train loss: 0.5416 Val Loss: 0.4913\n",
      "Epoch 035 | Fold 4 | Train Acc: 0.6492 | Val Acc: 0.6667 | Train loss: 0.5458 Val Loss: 0.4966\n",
      "Epoch 036 | Fold 4 | Train Acc: 0.6828 | Val Acc: 0.7100 | Train loss: 0.5420 Val Loss: 0.4767\n",
      "Epoch 037 | Fold 4 | Train Acc: 0.6812 | Val Acc: 0.6689 | Train loss: 0.5307 Val Loss: 0.4958\n",
      "Epoch 038 | Fold 4 | Train Acc: 0.6471 | Val Acc: 0.6712 | Train loss: 0.5393 Val Loss: 0.4968\n",
      "Epoch 039 | Fold 4 | Train Acc: 0.6807 | Val Acc: 0.6872 | Train loss: 0.5322 Val Loss: 0.4835\n",
      "Epoch 040 | Fold 4 | Train Acc: 0.6623 | Val Acc: 0.6872 | Train loss: 0.5448 Val Loss: 0.4840\n",
      "Epoch 041 | Fold 4 | Train Acc: 0.6891 | Val Acc: 0.6872 | Train loss: 0.5473 Val Loss: 0.4797\n",
      "Epoch 042 | Fold 4 | Train Acc: 0.6681 | Val Acc: 0.6781 | Train loss: 0.5290 Val Loss: 0.4909\n",
      "Epoch 043 | Fold 4 | Train Acc: 0.6770 | Val Acc: 0.6895 | Train loss: 0.5325 Val Loss: 0.4809\n",
      "Epoch 044 | Fold 4 | Train Acc: 0.6838 | Val Acc: 0.6918 | Train loss: 0.5263 Val Loss: 0.4797\n",
      "Epoch 045 | Fold 4 | Train Acc: 0.6849 | Val Acc: 0.6872 | Train loss: 0.5376 Val Loss: 0.4877\n",
      "Epoch 046 | Fold 4 | Train Acc: 0.6675 | Val Acc: 0.6872 | Train loss: 0.5321 Val Loss: 0.4845\n",
      "Epoch 047 | Fold 4 | Train Acc: 0.6770 | Val Acc: 0.6895 | Train loss: 0.5281 Val Loss: 0.4747\n",
      "Epoch 048 | Fold 4 | Train Acc: 0.6612 | Val Acc: 0.6872 | Train loss: 0.5270 Val Loss: 0.4840\n",
      "Epoch 049 | Fold 4 | Train Acc: 0.6801 | Val Acc: 0.6918 | Train loss: 0.5257 Val Loss: 0.4752\n",
      "Epoch 050 | Fold 4 | Train Acc: 0.6801 | Val Acc: 0.6941 | Train loss: 0.5143 Val Loss: 0.4781\n",
      "Epoch 051 | Fold 4 | Train Acc: 0.6639 | Val Acc: 0.6895 | Train loss: 0.5349 Val Loss: 0.4797\n",
      "Epoch 052 | Fold 4 | Train Acc: 0.6886 | Val Acc: 0.7009 | Train loss: 0.5101 Val Loss: 0.4761\n",
      "Epoch 053 | Fold 4 | Train Acc: 0.6686 | Val Acc: 0.6895 | Train loss: 0.5107 Val Loss: 0.4848\n",
      "Epoch 054 | Fold 4 | Train Acc: 0.6828 | Val Acc: 0.6986 | Train loss: 0.5284 Val Loss: 0.4691\n",
      "Epoch 055 | Fold 4 | Train Acc: 0.6864 | Val Acc: 0.6872 | Train loss: 0.5227 Val Loss: 0.4779\n",
      "Epoch 056 | Fold 4 | Train Acc: 0.6843 | Val Acc: 0.6895 | Train loss: 0.5164 Val Loss: 0.4778\n",
      "Epoch 057 | Fold 4 | Train Acc: 0.6828 | Val Acc: 0.7055 | Train loss: 0.5150 Val Loss: 0.4710\n",
      "Epoch 058 | Fold 4 | Train Acc: 0.6796 | Val Acc: 0.6895 | Train loss: 0.5237 Val Loss: 0.4988\n",
      "Epoch 059 | Fold 4 | Train Acc: 0.6833 | Val Acc: 0.7169 | Train loss: 0.5331 Val Loss: 0.4695\n",
      "Epoch 060 | Fold 4 | Train Acc: 0.6901 | Val Acc: 0.6895 | Train loss: 0.5184 Val Loss: 0.4810\n",
      "Epoch 061 | Fold 4 | Train Acc: 0.6786 | Val Acc: 0.6872 | Train loss: 0.5280 Val Loss: 0.4825\n",
      "Epoch 062 | Fold 4 | Train Acc: 0.6696 | Val Acc: 0.6918 | Train loss: 0.5197 Val Loss: 0.4907\n",
      "Epoch 063 | Fold 4 | Train Acc: 0.7043 | Val Acc: 0.6963 | Train loss: 0.5013 Val Loss: 0.4709\n",
      "Epoch 064 | Fold 4 | Train Acc: 0.6843 | Val Acc: 0.7009 | Train loss: 0.5000 Val Loss: 0.4784\n",
      "Epoch 065 | Fold 4 | Train Acc: 0.6817 | Val Acc: 0.6986 | Train loss: 0.5084 Val Loss: 0.4745\n",
      "Epoch 066 | Fold 4 | Train Acc: 0.7080 | Val Acc: 0.6963 | Train loss: 0.5040 Val Loss: 0.4773\n",
      "Epoch 067 | Fold 4 | Train Acc: 0.6901 | Val Acc: 0.6963 | Train loss: 0.5047 Val Loss: 0.4766\n",
      "Epoch 068 | Fold 4 | Train Acc: 0.6886 | Val Acc: 0.6963 | Train loss: 0.5082 Val Loss: 0.4790\n",
      "Epoch 069 | Fold 4 | Train Acc: 0.6880 | Val Acc: 0.6963 | Train loss: 0.5035 Val Loss: 0.4757\n",
      "Epoch 070 | Fold 4 | Train Acc: 0.6780 | Val Acc: 0.6872 | Train loss: 0.5026 Val Loss: 0.4901\n",
      "Epoch 071 | Fold 4 | Train Acc: 0.6907 | Val Acc: 0.6963 | Train loss: 0.5031 Val Loss: 0.4746\n",
      "Epoch 072 | Fold 4 | Train Acc: 0.6901 | Val Acc: 0.6963 | Train loss: 0.4985 Val Loss: 0.4755\n",
      "Epoch 073 | Fold 4 | Train Acc: 0.6838 | Val Acc: 0.6963 | Train loss: 0.5075 Val Loss: 0.4719\n",
      "Epoch 074 | Fold 4 | Train Acc: 0.6901 | Val Acc: 0.6963 | Train loss: 0.5029 Val Loss: 0.4748\n",
      "Epoch 075 | Fold 4 | Train Acc: 0.6875 | Val Acc: 0.6986 | Train loss: 0.5035 Val Loss: 0.4793\n",
      "Epoch 076 | Fold 4 | Train Acc: 0.7006 | Val Acc: 0.6963 | Train loss: 0.4845 Val Loss: 0.4796\n",
      "Epoch 077 | Fold 4 | Train Acc: 0.6859 | Val Acc: 0.6986 | Train loss: 0.4979 Val Loss: 0.4785\n",
      "Epoch 078 | Fold 4 | Train Acc: 0.6938 | Val Acc: 0.6963 | Train loss: 0.4911 Val Loss: 0.4830\n",
      "Epoch 079 | Fold 4 | Train Acc: 0.6901 | Val Acc: 0.6986 | Train loss: 0.5062 Val Loss: 0.4747\n",
      "Epoch 080 | Fold 4 | Train Acc: 0.6943 | Val Acc: 0.6986 | Train loss: 0.5118 Val Loss: 0.4756\n",
      "Epoch 081 | Fold 4 | Train Acc: 0.6912 | Val Acc: 0.6963 | Train loss: 0.4910 Val Loss: 0.4793\n",
      "Epoch 082 | Fold 4 | Train Acc: 0.7006 | Val Acc: 0.6963 | Train loss: 0.4930 Val Loss: 0.4757\n",
      "Epoch 083 | Fold 4 | Train Acc: 0.6943 | Val Acc: 0.6986 | Train loss: 0.4977 Val Loss: 0.4735\n",
      "Epoch 084 | Fold 4 | Train Acc: 0.6875 | Val Acc: 0.6986 | Train loss: 0.5016 Val Loss: 0.4772\n",
      " Early stopping at epoch 84 for fold 4\n",
      " Fold 4: Best Val Acc = 0.6986\n",
      "Epoch 001 | Fold 5 | Train Acc: 0.1554 | Val Acc: 0.1519 | Train loss: 1.3878 Val Loss: 1.4011\n",
      "Epoch 002 | Fold 5 | Train Acc: 0.2235 | Val Acc: 0.1996 | Train loss: 1.3684 Val Loss: 1.3764\n",
      "Epoch 003 | Fold 5 | Train Acc: 0.3046 | Val Acc: 0.2756 | Train loss: 1.3543 Val Loss: 1.3574\n",
      "Epoch 004 | Fold 5 | Train Acc: 0.3902 | Val Acc: 0.7120 | Train loss: 1.3333 Val Loss: 1.3088\n",
      "Epoch 005 | Fold 5 | Train Acc: 0.4797 | Val Acc: 0.6714 | Train loss: 1.2989 Val Loss: 1.2813\n",
      "Epoch 006 | Fold 5 | Train Acc: 0.4893 | Val Acc: 0.6254 | Train loss: 1.2514 Val Loss: 1.2184\n",
      "Epoch 007 | Fold 5 | Train Acc: 0.5332 | Val Acc: 0.5972 | Train loss: 1.1668 Val Loss: 1.0887\n",
      "Epoch 008 | Fold 5 | Train Acc: 0.5152 | Val Acc: 0.5177 | Train loss: 0.9915 Val Loss: 0.8886\n",
      "Epoch 009 | Fold 5 | Train Acc: 0.5591 | Val Acc: 0.5300 | Train loss: 0.8242 Val Loss: 0.7912\n",
      "Epoch 010 | Fold 5 | Train Acc: 0.5884 | Val Acc: 0.4470 | Train loss: 0.7462 Val Loss: 0.7825\n",
      "Epoch 011 | Fold 5 | Train Acc: 0.6070 | Val Acc: 0.4541 | Train loss: 0.7228 Val Loss: 0.7744\n",
      "Epoch 012 | Fold 5 | Train Acc: 0.6436 | Val Acc: 0.4505 | Train loss: 0.6676 Val Loss: 0.7272\n",
      "Epoch 013 | Fold 5 | Train Acc: 0.6188 | Val Acc: 0.4912 | Train loss: 0.6498 Val Loss: 0.6750\n",
      "Epoch 014 | Fold 5 | Train Acc: 0.6537 | Val Acc: 0.4647 | Train loss: 0.6253 Val Loss: 0.7027\n",
      "Epoch 015 | Fold 5 | Train Acc: 0.6413 | Val Acc: 0.4894 | Train loss: 0.6210 Val Loss: 0.6590\n",
      "Epoch 016 | Fold 5 | Train Acc: 0.6644 | Val Acc: 0.4700 | Train loss: 0.6033 Val Loss: 0.6672\n",
      "Epoch 017 | Fold 5 | Train Acc: 0.6498 | Val Acc: 0.4647 | Train loss: 0.6187 Val Loss: 0.6602\n",
      "Epoch 018 | Fold 5 | Train Acc: 0.6464 | Val Acc: 0.4611 | Train loss: 0.6128 Val Loss: 0.6790\n",
      "Epoch 019 | Fold 5 | Train Acc: 0.6492 | Val Acc: 0.4982 | Train loss: 0.5849 Val Loss: 0.6295\n",
      "Epoch 020 | Fold 5 | Train Acc: 0.6700 | Val Acc: 0.4523 | Train loss: 0.6041 Val Loss: 0.6774\n",
      "Epoch 021 | Fold 5 | Train Acc: 0.6762 | Val Acc: 0.4929 | Train loss: 0.5787 Val Loss: 0.6218\n",
      "Epoch 022 | Fold 5 | Train Acc: 0.6830 | Val Acc: 0.4823 | Train loss: 0.5732 Val Loss: 0.6573\n",
      "Epoch 023 | Fold 5 | Train Acc: 0.6684 | Val Acc: 0.4965 | Train loss: 0.5679 Val Loss: 0.6252\n",
      "Epoch 024 | Fold 5 | Train Acc: 0.6819 | Val Acc: 0.4894 | Train loss: 0.5757 Val Loss: 0.6525\n",
      "Epoch 025 | Fold 5 | Train Acc: 0.6684 | Val Acc: 0.4965 | Train loss: 0.5761 Val Loss: 0.6217\n",
      "Epoch 026 | Fold 5 | Train Acc: 0.6852 | Val Acc: 0.4912 | Train loss: 0.5576 Val Loss: 0.6166\n",
      "Epoch 027 | Fold 5 | Train Acc: 0.6898 | Val Acc: 0.4770 | Train loss: 0.5667 Val Loss: 0.6533\n",
      "Epoch 028 | Fold 5 | Train Acc: 0.6745 | Val Acc: 0.5000 | Train loss: 0.5634 Val Loss: 0.6355\n",
      "Epoch 029 | Fold 5 | Train Acc: 0.6785 | Val Acc: 0.5671 | Train loss: 0.5592 Val Loss: 0.6031\n",
      "Epoch 030 | Fold 5 | Train Acc: 0.6909 | Val Acc: 0.5707 | Train loss: 0.5485 Val Loss: 0.5930\n",
      "Epoch 031 | Fold 5 | Train Acc: 0.7128 | Val Acc: 0.5724 | Train loss: 0.5411 Val Loss: 0.6068\n",
      "Epoch 032 | Fold 5 | Train Acc: 0.6892 | Val Acc: 0.6060 | Train loss: 0.5662 Val Loss: 0.5830\n",
      "Epoch 033 | Fold 5 | Train Acc: 0.6813 | Val Acc: 0.5848 | Train loss: 0.5527 Val Loss: 0.6071\n",
      "Epoch 034 | Fold 5 | Train Acc: 0.6926 | Val Acc: 0.6325 | Train loss: 0.5462 Val Loss: 0.5724\n",
      "Epoch 035 | Fold 5 | Train Acc: 0.6898 | Val Acc: 0.5883 | Train loss: 0.5405 Val Loss: 0.6080\n",
      "Epoch 036 | Fold 5 | Train Acc: 0.7117 | Val Acc: 0.6219 | Train loss: 0.5502 Val Loss: 0.5718\n",
      "Epoch 037 | Fold 5 | Train Acc: 0.7021 | Val Acc: 0.5936 | Train loss: 0.5245 Val Loss: 0.6040\n",
      "Epoch 038 | Fold 5 | Train Acc: 0.7095 | Val Acc: 0.6290 | Train loss: 0.5486 Val Loss: 0.5542\n",
      "Epoch 039 | Fold 5 | Train Acc: 0.7100 | Val Acc: 0.5919 | Train loss: 0.5439 Val Loss: 0.5998\n",
      "Epoch 040 | Fold 5 | Train Acc: 0.7134 | Val Acc: 0.5954 | Train loss: 0.5292 Val Loss: 0.6090\n",
      "Epoch 041 | Fold 5 | Train Acc: 0.6875 | Val Acc: 0.6060 | Train loss: 0.5374 Val Loss: 0.5787\n",
      "Epoch 042 | Fold 5 | Train Acc: 0.7134 | Val Acc: 0.6290 | Train loss: 0.5345 Val Loss: 0.5701\n",
      "Epoch 043 | Fold 5 | Train Acc: 0.7202 | Val Acc: 0.5901 | Train loss: 0.5416 Val Loss: 0.6119\n",
      "Epoch 044 | Fold 5 | Train Acc: 0.6959 | Val Acc: 0.6166 | Train loss: 0.5182 Val Loss: 0.5822\n",
      "Epoch 045 | Fold 5 | Train Acc: 0.7055 | Val Acc: 0.6078 | Train loss: 0.5291 Val Loss: 0.5924\n",
      "Epoch 046 | Fold 5 | Train Acc: 0.7083 | Val Acc: 0.6184 | Train loss: 0.5164 Val Loss: 0.5725\n",
      "Epoch 047 | Fold 5 | Train Acc: 0.7044 | Val Acc: 0.6148 | Train loss: 0.5178 Val Loss: 0.5845\n",
      "Epoch 048 | Fold 5 | Train Acc: 0.7145 | Val Acc: 0.6219 | Train loss: 0.5235 Val Loss: 0.5816\n",
      "Epoch 049 | Fold 5 | Train Acc: 0.7128 | Val Acc: 0.6078 | Train loss: 0.5241 Val Loss: 0.5664\n",
      "Epoch 050 | Fold 5 | Train Acc: 0.7157 | Val Acc: 0.6042 | Train loss: 0.5098 Val Loss: 0.6005\n",
      "Epoch 051 | Fold 5 | Train Acc: 0.7230 | Val Acc: 0.6254 | Train loss: 0.5045 Val Loss: 0.5756\n",
      "Epoch 052 | Fold 5 | Train Acc: 0.7218 | Val Acc: 0.6219 | Train loss: 0.5188 Val Loss: 0.5875\n",
      "Epoch 053 | Fold 5 | Train Acc: 0.7173 | Val Acc: 0.6237 | Train loss: 0.5237 Val Loss: 0.5579\n",
      "Epoch 054 | Fold 5 | Train Acc: 0.7218 | Val Acc: 0.6078 | Train loss: 0.5166 Val Loss: 0.5857\n",
      "Epoch 055 | Fold 5 | Train Acc: 0.7218 | Val Acc: 0.6307 | Train loss: 0.5054 Val Loss: 0.5570\n",
      "Epoch 056 | Fold 5 | Train Acc: 0.7179 | Val Acc: 0.6254 | Train loss: 0.5150 Val Loss: 0.5639\n",
      "Epoch 057 | Fold 5 | Train Acc: 0.7202 | Val Acc: 0.6254 | Train loss: 0.5040 Val Loss: 0.5733\n",
      "Epoch 058 | Fold 5 | Train Acc: 0.7106 | Val Acc: 0.6237 | Train loss: 0.5131 Val Loss: 0.5727\n",
      "Epoch 059 | Fold 5 | Train Acc: 0.7247 | Val Acc: 0.6025 | Train loss: 0.5121 Val Loss: 0.5751\n",
      "Epoch 060 | Fold 5 | Train Acc: 0.7134 | Val Acc: 0.6237 | Train loss: 0.5087 Val Loss: 0.5665\n",
      "Epoch 061 | Fold 5 | Train Acc: 0.7241 | Val Acc: 0.6078 | Train loss: 0.5129 Val Loss: 0.5735\n",
      "Epoch 062 | Fold 5 | Train Acc: 0.7241 | Val Acc: 0.6025 | Train loss: 0.5031 Val Loss: 0.5779\n",
      "Epoch 063 | Fold 5 | Train Acc: 0.7230 | Val Acc: 0.6025 | Train loss: 0.5038 Val Loss: 0.5798\n",
      "Epoch 064 | Fold 5 | Train Acc: 0.7117 | Val Acc: 0.6025 | Train loss: 0.5264 Val Loss: 0.5787\n",
      "Epoch 065 | Fold 5 | Train Acc: 0.7252 | Val Acc: 0.6290 | Train loss: 0.5167 Val Loss: 0.5559\n",
      "Epoch 066 | Fold 5 | Train Acc: 0.7185 | Val Acc: 0.6060 | Train loss: 0.5150 Val Loss: 0.5790\n",
      "Epoch 067 | Fold 5 | Train Acc: 0.7083 | Val Acc: 0.6237 | Train loss: 0.5119 Val Loss: 0.5730\n"
     ]
    },
    {
     "name": "stderr",
     "output_type": "stream",
     "text": [
      "[I 2025-07-15 00:58:19,797] Trial 13 finished with value: 0.704410099941313 and parameters: {'hidden_channels': 256, 'num_layers': 2, 'heads': 4, 'dropout': 0.21555796532391547, 'hidden_dim': 256}. Best is trial 11 with value: 0.7109028240067488.\n"
     ]
    },
    {
     "name": "stdout",
     "output_type": "stream",
     "text": [
      "Epoch 068 | Fold 5 | Train Acc: 0.7151 | Val Acc: 0.6290 | Train loss: 0.5148 Val Loss: 0.5653\n",
      " Early stopping at epoch 68 for fold 5\n",
      " Fold 5: Best Val Acc = 0.6290\n",
      "🏃 View run trial_13 at: http://127.0.0.1:5000/#/experiments/906754211394743286/runs/7cd88582b42a49f4a7b4b193e057da3b\n",
      "🧪 View experiment at: http://127.0.0.1:5000/#/experiments/906754211394743286\n",
      "Epoch 001 | Fold 1 | Train Acc: 0.2125 | Val Acc: 0.4308 | Train loss: 1.3878 Val Loss: 1.3475\n",
      "Epoch 002 | Fold 1 | Train Acc: 0.2218 | Val Acc: 0.4843 | Train loss: 1.3707 Val Loss: 1.3410\n",
      "Epoch 003 | Fold 1 | Train Acc: 0.3286 | Val Acc: 0.5818 | Train loss: 1.3594 Val Loss: 1.3332\n",
      "Epoch 004 | Fold 1 | Train Acc: 0.3379 | Val Acc: 0.6730 | Train loss: 1.3460 Val Loss: 1.2913\n",
      "Epoch 005 | Fold 1 | Train Acc: 0.3765 | Val Acc: 0.5692 | Train loss: 1.3208 Val Loss: 1.2590\n",
      "Epoch 006 | Fold 1 | Train Acc: 0.4827 | Val Acc: 0.6415 | Train loss: 1.2926 Val Loss: 1.2366\n",
      "Epoch 007 | Fold 1 | Train Acc: 0.5474 | Val Acc: 0.6698 | Train loss: 1.2520 Val Loss: 1.1571\n"
     ]
    },
    {
     "name": "stderr",
     "output_type": "stream",
     "text": [
      "[I 2025-07-15 00:58:24,860] Trial 14 pruned. \n"
     ]
    },
    {
     "name": "stdout",
     "output_type": "stream",
     "text": [
      "Epoch 008 | Fold 1 | Train Acc: 0.4881 | Val Acc: 0.6667 | Train loss: 1.1933 Val Loss: 1.0299\n",
      "🏃 View run trial_14 at: http://127.0.0.1:5000/#/experiments/906754211394743286/runs/26f341b4bfc245b88568c1b3f58056c6\n",
      "🧪 View experiment at: http://127.0.0.1:5000/#/experiments/906754211394743286\n",
      "Epoch 001 | Fold 1 | Train Acc: 0.2050 | Val Acc: 0.4748 | Train loss: 1.3848 Val Loss: 1.3696\n",
      "Epoch 002 | Fold 1 | Train Acc: 0.3177 | Val Acc: 0.5535 | Train loss: 1.3682 Val Loss: 1.3465\n",
      "Epoch 003 | Fold 1 | Train Acc: 0.3414 | Val Acc: 0.4906 | Train loss: 1.3531 Val Loss: 1.3188\n",
      "Epoch 004 | Fold 1 | Train Acc: 0.4531 | Val Acc: 0.6604 | Train loss: 1.3339 Val Loss: 1.2925\n",
      "Epoch 005 | Fold 1 | Train Acc: 0.5203 | Val Acc: 0.5755 | Train loss: 1.3053 Val Loss: 1.2499\n",
      "Epoch 006 | Fold 1 | Train Acc: 0.4704 | Val Acc: 0.6761 | Train loss: 1.2624 Val Loss: 1.1533\n",
      "Epoch 007 | Fold 1 | Train Acc: 0.4664 | Val Acc: 0.6981 | Train loss: 1.1846 Val Loss: 0.9984\n",
      "Epoch 008 | Fold 1 | Train Acc: 0.5114 | Val Acc: 0.7170 | Train loss: 1.0494 Val Loss: 0.7295\n",
      "Epoch 009 | Fold 1 | Train Acc: 0.5341 | Val Acc: 0.7610 | Train loss: 0.8551 Val Loss: 0.5022\n",
      "Epoch 010 | Fold 1 | Train Acc: 0.5074 | Val Acc: 0.7736 | Train loss: 0.7395 Val Loss: 0.4535\n",
      "Epoch 011 | Fold 1 | Train Acc: 0.6003 | Val Acc: 0.7642 | Train loss: 0.6729 Val Loss: 0.4334\n",
      "Epoch 012 | Fold 1 | Train Acc: 0.5375 | Val Acc: 0.7547 | Train loss: 0.6320 Val Loss: 0.4162\n",
      "Epoch 013 | Fold 1 | Train Acc: 0.5914 | Val Acc: 0.8113 | Train loss: 0.6006 Val Loss: 0.4531\n",
      "Epoch 014 | Fold 1 | Train Acc: 0.5588 | Val Acc: 0.7516 | Train loss: 0.6056 Val Loss: 0.4292\n",
      "Epoch 015 | Fold 1 | Train Acc: 0.5845 | Val Acc: 0.7579 | Train loss: 0.5686 Val Loss: 0.4447\n",
      "Epoch 016 | Fold 1 | Train Acc: 0.5865 | Val Acc: 0.7642 | Train loss: 0.5535 Val Loss: 0.4396\n",
      "Epoch 017 | Fold 1 | Train Acc: 0.6033 | Val Acc: 0.7704 | Train loss: 0.5485 Val Loss: 0.4445\n",
      "Epoch 018 | Fold 1 | Train Acc: 0.6003 | Val Acc: 0.7673 | Train loss: 0.5438 Val Loss: 0.4341\n",
      "Epoch 019 | Fold 1 | Train Acc: 0.6275 | Val Acc: 0.7673 | Train loss: 0.5579 Val Loss: 0.4218\n",
      "Epoch 020 | Fold 1 | Train Acc: 0.6057 | Val Acc: 0.7642 | Train loss: 0.5319 Val Loss: 0.4407\n",
      "Epoch 021 | Fold 1 | Train Acc: 0.6344 | Val Acc: 0.7642 | Train loss: 0.5332 Val Loss: 0.4394\n",
      "Epoch 022 | Fold 1 | Train Acc: 0.6250 | Val Acc: 0.7830 | Train loss: 0.5225 Val Loss: 0.4347\n",
      "Epoch 023 | Fold 1 | Train Acc: 0.6680 | Val Acc: 0.7925 | Train loss: 0.5185 Val Loss: 0.4480\n",
      "Epoch 024 | Fold 1 | Train Acc: 0.6482 | Val Acc: 0.7956 | Train loss: 0.5164 Val Loss: 0.4247\n",
      "Epoch 025 | Fold 1 | Train Acc: 0.6522 | Val Acc: 0.7799 | Train loss: 0.5135 Val Loss: 0.4451\n",
      "Epoch 026 | Fold 1 | Train Acc: 0.6670 | Val Acc: 0.7830 | Train loss: 0.5093 Val Loss: 0.4305\n",
      "Epoch 027 | Fold 1 | Train Acc: 0.6522 | Val Acc: 0.7799 | Train loss: 0.5038 Val Loss: 0.4405\n",
      "Epoch 028 | Fold 1 | Train Acc: 0.6709 | Val Acc: 0.7799 | Train loss: 0.5029 Val Loss: 0.4420\n",
      "Epoch 029 | Fold 1 | Train Acc: 0.6695 | Val Acc: 0.7799 | Train loss: 0.4999 Val Loss: 0.4374\n",
      "Epoch 030 | Fold 1 | Train Acc: 0.6719 | Val Acc: 0.7799 | Train loss: 0.5084 Val Loss: 0.4402\n",
      "Epoch 031 | Fold 1 | Train Acc: 0.6645 | Val Acc: 0.7799 | Train loss: 0.4990 Val Loss: 0.4398\n",
      "Epoch 032 | Fold 1 | Train Acc: 0.6700 | Val Acc: 0.7799 | Train loss: 0.5093 Val Loss: 0.4376\n",
      "Epoch 033 | Fold 1 | Train Acc: 0.6789 | Val Acc: 0.7799 | Train loss: 0.4931 Val Loss: 0.4412\n",
      "Epoch 034 | Fold 1 | Train Acc: 0.6729 | Val Acc: 0.7799 | Train loss: 0.4981 Val Loss: 0.4374\n",
      "Epoch 035 | Fold 1 | Train Acc: 0.6754 | Val Acc: 0.7799 | Train loss: 0.4857 Val Loss: 0.4374\n",
      "Epoch 036 | Fold 1 | Train Acc: 0.6556 | Val Acc: 0.7799 | Train loss: 0.5063 Val Loss: 0.4350\n",
      "Epoch 037 | Fold 1 | Train Acc: 0.6655 | Val Acc: 0.7799 | Train loss: 0.4890 Val Loss: 0.4434\n",
      "Epoch 038 | Fold 1 | Train Acc: 0.6764 | Val Acc: 0.7830 | Train loss: 0.4910 Val Loss: 0.4434\n",
      "Epoch 039 | Fold 1 | Train Acc: 0.6892 | Val Acc: 0.7799 | Train loss: 0.4899 Val Loss: 0.4431\n",
      "Epoch 040 | Fold 1 | Train Acc: 0.6833 | Val Acc: 0.7799 | Train loss: 0.4770 Val Loss: 0.4439\n",
      "Epoch 041 | Fold 1 | Train Acc: 0.6803 | Val Acc: 0.7799 | Train loss: 0.4974 Val Loss: 0.4414\n",
      "Epoch 042 | Fold 1 | Train Acc: 0.6754 | Val Acc: 0.7799 | Train loss: 0.4915 Val Loss: 0.4406\n",
      " Early stopping at epoch 42 for fold 1\n",
      " Fold 1: Best Val Acc = 0.7547\n",
      "Epoch 001 | Fold 2 | Train Acc: 0.4635 | Val Acc: 0.5509 | Train loss: 1.3843 Val Loss: 1.3736\n",
      "Epoch 002 | Fold 2 | Train Acc: 0.5021 | Val Acc: 0.5420 | Train loss: 1.3625 Val Loss: 1.3511\n",
      "Epoch 003 | Fold 2 | Train Acc: 0.4693 | Val Acc: 0.5044 | Train loss: 1.3409 Val Loss: 1.3260\n",
      "Epoch 004 | Fold 2 | Train Acc: 0.4132 | Val Acc: 0.4137 | Train loss: 1.3125 Val Loss: 1.2891\n",
      "Epoch 005 | Fold 2 | Train Acc: 0.5106 | Val Acc: 0.6106 | Train loss: 1.2677 Val Loss: 1.2358\n",
      "Epoch 006 | Fold 2 | Train Acc: 0.4683 | Val Acc: 0.4801 | Train loss: 1.1866 Val Loss: 1.1104\n",
      "Epoch 007 | Fold 2 | Train Acc: 0.5354 | Val Acc: 0.5597 | Train loss: 1.0103 Val Loss: 0.8794\n",
      "Epoch 008 | Fold 2 | Train Acc: 0.5693 | Val Acc: 0.5243 | Train loss: 0.8356 Val Loss: 0.7189\n",
      "Epoch 009 | Fold 2 | Train Acc: 0.5471 | Val Acc: 0.5420 | Train loss: 0.7375 Val Loss: 0.6398\n",
      "Epoch 010 | Fold 2 | Train Acc: 0.6212 | Val Acc: 0.5487 | Train loss: 0.6856 Val Loss: 0.6061\n",
      "Epoch 011 | Fold 2 | Train Acc: 0.6122 | Val Acc: 0.5774 | Train loss: 0.6423 Val Loss: 0.5638\n",
      "Epoch 012 | Fold 2 | Train Acc: 0.6323 | Val Acc: 0.5752 | Train loss: 0.6235 Val Loss: 0.5371\n",
      "Epoch 013 | Fold 2 | Train Acc: 0.5857 | Val Acc: 0.5619 | Train loss: 0.6195 Val Loss: 0.5171\n",
      "Epoch 014 | Fold 2 | Train Acc: 0.6037 | Val Acc: 0.5819 | Train loss: 0.5929 Val Loss: 0.5095\n",
      "Epoch 015 | Fold 2 | Train Acc: 0.6365 | Val Acc: 0.6659 | Train loss: 0.5855 Val Loss: 0.5073\n",
      "Epoch 016 | Fold 2 | Train Acc: 0.6593 | Val Acc: 0.5996 | Train loss: 0.5837 Val Loss: 0.4869\n",
      "Epoch 017 | Fold 2 | Train Acc: 0.6206 | Val Acc: 0.5863 | Train loss: 0.5795 Val Loss: 0.4748\n",
      "Epoch 018 | Fold 2 | Train Acc: 0.6354 | Val Acc: 0.6681 | Train loss: 0.5751 Val Loss: 0.4766\n",
      "Epoch 019 | Fold 2 | Train Acc: 0.6476 | Val Acc: 0.6482 | Train loss: 0.5642 Val Loss: 0.4646\n",
      "Epoch 020 | Fold 2 | Train Acc: 0.6323 | Val Acc: 0.6681 | Train loss: 0.5629 Val Loss: 0.4610\n",
      "Epoch 021 | Fold 2 | Train Acc: 0.6561 | Val Acc: 0.6881 | Train loss: 0.5493 Val Loss: 0.4553\n",
      "Epoch 022 | Fold 2 | Train Acc: 0.6630 | Val Acc: 0.6704 | Train loss: 0.5608 Val Loss: 0.4487\n",
      "Epoch 023 | Fold 2 | Train Acc: 0.6672 | Val Acc: 0.6748 | Train loss: 0.5499 Val Loss: 0.4450\n",
      "Epoch 024 | Fold 2 | Train Acc: 0.6683 | Val Acc: 0.6770 | Train loss: 0.5468 Val Loss: 0.4435\n",
      "Epoch 025 | Fold 2 | Train Acc: 0.6513 | Val Acc: 0.6504 | Train loss: 0.5511 Val Loss: 0.4392\n",
      "Epoch 026 | Fold 2 | Train Acc: 0.6804 | Val Acc: 0.7124 | Train loss: 0.5362 Val Loss: 0.4503\n",
      "Epoch 027 | Fold 2 | Train Acc: 0.6894 | Val Acc: 0.7168 | Train loss: 0.5433 Val Loss: 0.4373\n",
      "Epoch 028 | Fold 2 | Train Acc: 0.6778 | Val Acc: 0.7058 | Train loss: 0.5362 Val Loss: 0.4308\n",
      "Epoch 029 | Fold 2 | Train Acc: 0.6889 | Val Acc: 0.7124 | Train loss: 0.5291 Val Loss: 0.4338\n",
      "Epoch 030 | Fold 2 | Train Acc: 0.6767 | Val Acc: 0.6925 | Train loss: 0.5377 Val Loss: 0.4277\n",
      "Epoch 031 | Fold 2 | Train Acc: 0.7079 | Val Acc: 0.7146 | Train loss: 0.5318 Val Loss: 0.4250\n",
      "Epoch 032 | Fold 2 | Train Acc: 0.6656 | Val Acc: 0.6881 | Train loss: 0.5388 Val Loss: 0.4240\n",
      "Epoch 033 | Fold 2 | Train Acc: 0.6947 | Val Acc: 0.7146 | Train loss: 0.5262 Val Loss: 0.4259\n",
      "Epoch 034 | Fold 2 | Train Acc: 0.6762 | Val Acc: 0.7146 | Train loss: 0.5300 Val Loss: 0.4227\n",
      "Epoch 035 | Fold 2 | Train Acc: 0.7037 | Val Acc: 0.7146 | Train loss: 0.5311 Val Loss: 0.4177\n",
      "Epoch 036 | Fold 2 | Train Acc: 0.7016 | Val Acc: 0.7146 | Train loss: 0.5289 Val Loss: 0.4153\n",
      "Epoch 037 | Fold 2 | Train Acc: 0.6926 | Val Acc: 0.7190 | Train loss: 0.5167 Val Loss: 0.4188\n",
      "Epoch 038 | Fold 2 | Train Acc: 0.6942 | Val Acc: 0.7146 | Train loss: 0.5364 Val Loss: 0.4160\n",
      "Epoch 039 | Fold 2 | Train Acc: 0.6788 | Val Acc: 0.7190 | Train loss: 0.5350 Val Loss: 0.4184\n",
      "Epoch 040 | Fold 2 | Train Acc: 0.7116 | Val Acc: 0.7190 | Train loss: 0.5142 Val Loss: 0.4104\n",
      "Epoch 041 | Fold 2 | Train Acc: 0.6899 | Val Acc: 0.7190 | Train loss: 0.5014 Val Loss: 0.4093\n",
      "Epoch 042 | Fold 2 | Train Acc: 0.6746 | Val Acc: 0.7190 | Train loss: 0.5241 Val Loss: 0.4105\n",
      "Epoch 043 | Fold 2 | Train Acc: 0.6995 | Val Acc: 0.7190 | Train loss: 0.5064 Val Loss: 0.4176\n",
      "Epoch 044 | Fold 2 | Train Acc: 0.6937 | Val Acc: 0.7146 | Train loss: 0.5112 Val Loss: 0.4088\n",
      "Epoch 045 | Fold 2 | Train Acc: 0.7042 | Val Acc: 0.7257 | Train loss: 0.5087 Val Loss: 0.4153\n",
      "Epoch 046 | Fold 2 | Train Acc: 0.7085 | Val Acc: 0.7013 | Train loss: 0.5129 Val Loss: 0.4060\n",
      "Epoch 047 | Fold 2 | Train Acc: 0.6841 | Val Acc: 0.7146 | Train loss: 0.5167 Val Loss: 0.4048\n",
      "Epoch 048 | Fold 2 | Train Acc: 0.6984 | Val Acc: 0.7190 | Train loss: 0.5030 Val Loss: 0.4093\n",
      "Epoch 049 | Fold 2 | Train Acc: 0.7032 | Val Acc: 0.7190 | Train loss: 0.5080 Val Loss: 0.4065\n",
      "Epoch 050 | Fold 2 | Train Acc: 0.6841 | Val Acc: 0.7190 | Train loss: 0.5110 Val Loss: 0.4067\n",
      "Epoch 051 | Fold 2 | Train Acc: 0.6926 | Val Acc: 0.7146 | Train loss: 0.5025 Val Loss: 0.4012\n",
      "Epoch 052 | Fold 2 | Train Acc: 0.6995 | Val Acc: 0.7257 | Train loss: 0.5072 Val Loss: 0.4098\n",
      "Epoch 053 | Fold 2 | Train Acc: 0.7037 | Val Acc: 0.7190 | Train loss: 0.5035 Val Loss: 0.4040\n",
      "Epoch 054 | Fold 2 | Train Acc: 0.7111 | Val Acc: 0.7146 | Train loss: 0.5004 Val Loss: 0.3969\n",
      "Epoch 055 | Fold 2 | Train Acc: 0.6942 | Val Acc: 0.7190 | Train loss: 0.5009 Val Loss: 0.4039\n",
      "Epoch 056 | Fold 2 | Train Acc: 0.6963 | Val Acc: 0.7190 | Train loss: 0.5049 Val Loss: 0.4019\n",
      "Epoch 057 | Fold 2 | Train Acc: 0.6995 | Val Acc: 0.7190 | Train loss: 0.4950 Val Loss: 0.4044\n",
      "Epoch 058 | Fold 2 | Train Acc: 0.7069 | Val Acc: 0.7235 | Train loss: 0.5080 Val Loss: 0.4036\n",
      "Epoch 059 | Fold 2 | Train Acc: 0.7000 | Val Acc: 0.7190 | Train loss: 0.4937 Val Loss: 0.3989\n",
      "Epoch 060 | Fold 2 | Train Acc: 0.6989 | Val Acc: 0.7212 | Train loss: 0.4985 Val Loss: 0.3994\n",
      "Epoch 061 | Fold 2 | Train Acc: 0.7042 | Val Acc: 0.7168 | Train loss: 0.5091 Val Loss: 0.3996\n",
      "Epoch 062 | Fold 2 | Train Acc: 0.6974 | Val Acc: 0.7235 | Train loss: 0.5036 Val Loss: 0.4099\n",
      "Epoch 063 | Fold 2 | Train Acc: 0.7090 | Val Acc: 0.7168 | Train loss: 0.5030 Val Loss: 0.3969\n",
      "Epoch 064 | Fold 2 | Train Acc: 0.6672 | Val Acc: 0.7168 | Train loss: 0.5220 Val Loss: 0.4001\n",
      "Epoch 065 | Fold 2 | Train Acc: 0.7058 | Val Acc: 0.7279 | Train loss: 0.5253 Val Loss: 0.4018\n",
      "Epoch 066 | Fold 2 | Train Acc: 0.6942 | Val Acc: 0.7124 | Train loss: 0.4945 Val Loss: 0.3939\n",
      "Epoch 067 | Fold 2 | Train Acc: 0.6958 | Val Acc: 0.7212 | Train loss: 0.5049 Val Loss: 0.3997\n",
      "Epoch 068 | Fold 2 | Train Acc: 0.6968 | Val Acc: 0.7212 | Train loss: 0.4954 Val Loss: 0.3960\n",
      "Epoch 069 | Fold 2 | Train Acc: 0.7021 | Val Acc: 0.7168 | Train loss: 0.4971 Val Loss: 0.3965\n",
      "Epoch 070 | Fold 2 | Train Acc: 0.6979 | Val Acc: 0.7168 | Train loss: 0.4929 Val Loss: 0.3959\n",
      "Epoch 071 | Fold 2 | Train Acc: 0.7021 | Val Acc: 0.7235 | Train loss: 0.4927 Val Loss: 0.3997\n",
      "Epoch 072 | Fold 2 | Train Acc: 0.7201 | Val Acc: 0.7212 | Train loss: 0.4945 Val Loss: 0.3932\n",
      "Epoch 073 | Fold 2 | Train Acc: 0.7042 | Val Acc: 0.7168 | Train loss: 0.4919 Val Loss: 0.3930\n",
      "Epoch 074 | Fold 2 | Train Acc: 0.6947 | Val Acc: 0.7235 | Train loss: 0.4898 Val Loss: 0.4013\n",
      "Epoch 075 | Fold 2 | Train Acc: 0.7011 | Val Acc: 0.7212 | Train loss: 0.4876 Val Loss: 0.3942\n",
      "Epoch 076 | Fold 2 | Train Acc: 0.7116 | Val Acc: 0.7235 | Train loss: 0.4857 Val Loss: 0.3953\n",
      "Epoch 077 | Fold 2 | Train Acc: 0.7095 | Val Acc: 0.7168 | Train loss: 0.4940 Val Loss: 0.3915\n",
      "Epoch 078 | Fold 2 | Train Acc: 0.6947 | Val Acc: 0.7190 | Train loss: 0.4904 Val Loss: 0.3931\n",
      "Epoch 079 | Fold 2 | Train Acc: 0.7090 | Val Acc: 0.7190 | Train loss: 0.4782 Val Loss: 0.3979\n",
      "Epoch 080 | Fold 2 | Train Acc: 0.7069 | Val Acc: 0.7168 | Train loss: 0.4869 Val Loss: 0.3912\n",
      "Epoch 081 | Fold 2 | Train Acc: 0.7026 | Val Acc: 0.7212 | Train loss: 0.4832 Val Loss: 0.3932\n",
      "Epoch 082 | Fold 2 | Train Acc: 0.7079 | Val Acc: 0.7190 | Train loss: 0.4870 Val Loss: 0.3902\n",
      "Epoch 083 | Fold 2 | Train Acc: 0.7101 | Val Acc: 0.7257 | Train loss: 0.4851 Val Loss: 0.3901\n",
      "Epoch 084 | Fold 2 | Train Acc: 0.7085 | Val Acc: 0.7257 | Train loss: 0.4895 Val Loss: 0.3892\n",
      "Epoch 085 | Fold 2 | Train Acc: 0.6952 | Val Acc: 0.7190 | Train loss: 0.4896 Val Loss: 0.3911\n",
      "Epoch 086 | Fold 2 | Train Acc: 0.7180 | Val Acc: 0.7257 | Train loss: 0.4848 Val Loss: 0.3945\n",
      "Epoch 087 | Fold 2 | Train Acc: 0.7122 | Val Acc: 0.7212 | Train loss: 0.4789 Val Loss: 0.3891\n",
      "Epoch 088 | Fold 2 | Train Acc: 0.7122 | Val Acc: 0.7257 | Train loss: 0.4704 Val Loss: 0.3901\n",
      "Epoch 089 | Fold 2 | Train Acc: 0.6974 | Val Acc: 0.7168 | Train loss: 0.4858 Val Loss: 0.3828\n",
      "Epoch 090 | Fold 2 | Train Acc: 0.6952 | Val Acc: 0.7235 | Train loss: 0.4909 Val Loss: 0.3914\n",
      "Epoch 091 | Fold 2 | Train Acc: 0.7106 | Val Acc: 0.7235 | Train loss: 0.4807 Val Loss: 0.3903\n",
      "Epoch 092 | Fold 2 | Train Acc: 0.7026 | Val Acc: 0.7279 | Train loss: 0.4841 Val Loss: 0.3961\n",
      "Epoch 093 | Fold 2 | Train Acc: 0.7032 | Val Acc: 0.7235 | Train loss: 0.4803 Val Loss: 0.3852\n",
      "Epoch 094 | Fold 2 | Train Acc: 0.7190 | Val Acc: 0.7279 | Train loss: 0.4811 Val Loss: 0.3885\n",
      "Epoch 095 | Fold 2 | Train Acc: 0.7048 | Val Acc: 0.7235 | Train loss: 0.4879 Val Loss: 0.3855\n",
      "Epoch 096 | Fold 2 | Train Acc: 0.7000 | Val Acc: 0.7257 | Train loss: 0.4872 Val Loss: 0.3906\n",
      "Epoch 097 | Fold 2 | Train Acc: 0.7243 | Val Acc: 0.7279 | Train loss: 0.4814 Val Loss: 0.3938\n",
      "Epoch 098 | Fold 2 | Train Acc: 0.7101 | Val Acc: 0.7257 | Train loss: 0.4740 Val Loss: 0.3845\n",
      "Epoch 099 | Fold 2 | Train Acc: 0.7048 | Val Acc: 0.7235 | Train loss: 0.4879 Val Loss: 0.3854\n",
      "Epoch 100 | Fold 2 | Train Acc: 0.7037 | Val Acc: 0.7389 | Train loss: 0.4914 Val Loss: 0.3878\n",
      "Epoch 101 | Fold 2 | Train Acc: 0.7143 | Val Acc: 0.7279 | Train loss: 0.4774 Val Loss: 0.3896\n",
      "Epoch 102 | Fold 2 | Train Acc: 0.7190 | Val Acc: 0.7235 | Train loss: 0.4753 Val Loss: 0.3848\n",
      "Epoch 103 | Fold 2 | Train Acc: 0.7143 | Val Acc: 0.7279 | Train loss: 0.4625 Val Loss: 0.3898\n",
      "Epoch 104 | Fold 2 | Train Acc: 0.7132 | Val Acc: 0.7279 | Train loss: 0.4811 Val Loss: 0.3875\n",
      "Epoch 105 | Fold 2 | Train Acc: 0.7164 | Val Acc: 0.7279 | Train loss: 0.4784 Val Loss: 0.3859\n",
      "Epoch 106 | Fold 2 | Train Acc: 0.7053 | Val Acc: 0.7168 | Train loss: 0.4737 Val Loss: 0.3835\n",
      "Epoch 107 | Fold 2 | Train Acc: 0.6979 | Val Acc: 0.7235 | Train loss: 0.4809 Val Loss: 0.3860\n",
      "Epoch 108 | Fold 2 | Train Acc: 0.7212 | Val Acc: 0.7279 | Train loss: 0.4690 Val Loss: 0.3913\n",
      "Epoch 109 | Fold 2 | Train Acc: 0.7259 | Val Acc: 0.7279 | Train loss: 0.4692 Val Loss: 0.3891\n",
      "Epoch 110 | Fold 2 | Train Acc: 0.7185 | Val Acc: 0.7279 | Train loss: 0.4739 Val Loss: 0.3877\n",
      "Epoch 111 | Fold 2 | Train Acc: 0.7005 | Val Acc: 0.7013 | Train loss: 0.4759 Val Loss: 0.3870\n",
      "Epoch 112 | Fold 2 | Train Acc: 0.7011 | Val Acc: 0.7235 | Train loss: 0.4712 Val Loss: 0.3839\n",
      "Epoch 113 | Fold 2 | Train Acc: 0.7238 | Val Acc: 0.7279 | Train loss: 0.4727 Val Loss: 0.3883\n",
      "Epoch 114 | Fold 2 | Train Acc: 0.7122 | Val Acc: 0.7235 | Train loss: 0.4699 Val Loss: 0.3837\n",
      "Epoch 115 | Fold 2 | Train Acc: 0.7159 | Val Acc: 0.7235 | Train loss: 0.4608 Val Loss: 0.3851\n",
      "Epoch 116 | Fold 2 | Train Acc: 0.7032 | Val Acc: 0.7257 | Train loss: 0.4679 Val Loss: 0.3872\n",
      "Epoch 117 | Fold 2 | Train Acc: 0.7122 | Val Acc: 0.7257 | Train loss: 0.4755 Val Loss: 0.3862\n",
      "Epoch 118 | Fold 2 | Train Acc: 0.7201 | Val Acc: 0.7257 | Train loss: 0.4593 Val Loss: 0.3859\n",
      "Epoch 119 | Fold 2 | Train Acc: 0.7159 | Val Acc: 0.7257 | Train loss: 0.4787 Val Loss: 0.3840\n",
      " Early stopping at epoch 119 for fold 2\n",
      " Fold 2: Best Val Acc = 0.7168\n",
      "Epoch 001 | Fold 3 | Train Acc: 0.1905 | Val Acc: 0.3187 | Train loss: 1.3846 Val Loss: 1.3788\n",
      "Epoch 002 | Fold 3 | Train Acc: 0.2943 | Val Acc: 0.3345 | Train loss: 1.3625 Val Loss: 1.3672\n",
      "Epoch 003 | Fold 3 | Train Acc: 0.3681 | Val Acc: 0.3979 | Train loss: 1.3359 Val Loss: 1.3566\n",
      "Epoch 004 | Fold 3 | Train Acc: 0.4177 | Val Acc: 0.3486 | Train loss: 1.3070 Val Loss: 1.3353\n",
      "Epoch 005 | Fold 3 | Train Acc: 0.5552 | Val Acc: 0.5352 | Train loss: 1.2538 Val Loss: 1.3109\n",
      "Epoch 006 | Fold 3 | Train Acc: 0.6319 | Val Acc: 0.5370 | Train loss: 1.1450 Val Loss: 1.2363\n",
      "Epoch 007 | Fold 3 | Train Acc: 0.5468 | Val Acc: 0.5246 | Train loss: 0.9511 Val Loss: 1.0913\n",
      "Epoch 008 | Fold 3 | Train Acc: 0.5941 | Val Acc: 0.5581 | Train loss: 0.7604 Val Loss: 1.0044\n",
      "Epoch 009 | Fold 3 | Train Acc: 0.5885 | Val Acc: 0.5722 | Train loss: 0.6756 Val Loss: 0.9293\n",
      "Epoch 010 | Fold 3 | Train Acc: 0.6229 | Val Acc: 0.5634 | Train loss: 0.6369 Val Loss: 0.8943\n",
      "Epoch 011 | Fold 3 | Train Acc: 0.6443 | Val Acc: 0.5475 | Train loss: 0.5948 Val Loss: 0.8245\n",
      "Epoch 012 | Fold 3 | Train Acc: 0.5502 | Val Acc: 0.5810 | Train loss: 0.6113 Val Loss: 0.8058\n",
      "Epoch 013 | Fold 3 | Train Acc: 0.6685 | Val Acc: 0.5863 | Train loss: 0.5626 Val Loss: 0.8359\n",
      "Epoch 014 | Fold 3 | Train Acc: 0.6652 | Val Acc: 0.5827 | Train loss: 0.5521 Val Loss: 0.7684\n",
      "Epoch 015 | Fold 3 | Train Acc: 0.5953 | Val Acc: 0.6127 | Train loss: 0.5531 Val Loss: 0.7821\n",
      "Epoch 016 | Fold 3 | Train Acc: 0.6798 | Val Acc: 0.6215 | Train loss: 0.5299 Val Loss: 0.7817\n",
      "Epoch 017 | Fold 3 | Train Acc: 0.6240 | Val Acc: 0.6250 | Train loss: 0.5292 Val Loss: 0.7470\n",
      "Epoch 018 | Fold 3 | Train Acc: 0.6967 | Val Acc: 0.6356 | Train loss: 0.5062 Val Loss: 0.7992\n",
      "Epoch 019 | Fold 3 | Train Acc: 0.6561 | Val Acc: 0.6708 | Train loss: 0.5248 Val Loss: 0.7266\n",
      "Epoch 020 | Fold 3 | Train Acc: 0.6680 | Val Acc: 0.6813 | Train loss: 0.5027 Val Loss: 0.7385\n",
      "Epoch 021 | Fold 3 | Train Acc: 0.7091 | Val Acc: 0.7007 | Train loss: 0.4965 Val Loss: 0.7443\n",
      "Epoch 022 | Fold 3 | Train Acc: 0.6375 | Val Acc: 0.7007 | Train loss: 0.4965 Val Loss: 0.7133\n",
      "Epoch 023 | Fold 3 | Train Acc: 0.7136 | Val Acc: 0.6919 | Train loss: 0.5052 Val Loss: 0.7332\n",
      "Epoch 024 | Fold 3 | Train Acc: 0.6511 | Val Acc: 0.6761 | Train loss: 0.4953 Val Loss: 0.6983\n",
      "Epoch 025 | Fold 3 | Train Acc: 0.6787 | Val Acc: 0.7095 | Train loss: 0.4926 Val Loss: 0.7209\n",
      "Epoch 026 | Fold 3 | Train Acc: 0.7272 | Val Acc: 0.6919 | Train loss: 0.4859 Val Loss: 0.7414\n",
      "Epoch 027 | Fold 3 | Train Acc: 0.6809 | Val Acc: 0.7130 | Train loss: 0.4725 Val Loss: 0.7110\n",
      "Epoch 028 | Fold 3 | Train Acc: 0.7249 | Val Acc: 0.6831 | Train loss: 0.4699 Val Loss: 0.7342\n",
      "Epoch 029 | Fold 3 | Train Acc: 0.6911 | Val Acc: 0.7148 | Train loss: 0.4705 Val Loss: 0.6990\n",
      "Epoch 030 | Fold 3 | Train Acc: 0.7159 | Val Acc: 0.6989 | Train loss: 0.4607 Val Loss: 0.7418\n",
      "Epoch 031 | Fold 3 | Train Acc: 0.7317 | Val Acc: 0.7042 | Train loss: 0.4756 Val Loss: 0.6881\n",
      "Epoch 032 | Fold 3 | Train Acc: 0.6742 | Val Acc: 0.7236 | Train loss: 0.4735 Val Loss: 0.7080\n",
      "Epoch 033 | Fold 3 | Train Acc: 0.7103 | Val Acc: 0.7113 | Train loss: 0.4615 Val Loss: 0.7126\n",
      "Epoch 034 | Fold 3 | Train Acc: 0.7249 | Val Acc: 0.7183 | Train loss: 0.4593 Val Loss: 0.7088\n",
      "Epoch 035 | Fold 3 | Train Acc: 0.7125 | Val Acc: 0.7218 | Train loss: 0.4661 Val Loss: 0.7023\n",
      "Epoch 036 | Fold 3 | Train Acc: 0.7041 | Val Acc: 0.7201 | Train loss: 0.4615 Val Loss: 0.7096\n",
      "Epoch 037 | Fold 3 | Train Acc: 0.7052 | Val Acc: 0.7077 | Train loss: 0.4600 Val Loss: 0.7134\n",
      "Epoch 038 | Fold 3 | Train Acc: 0.7266 | Val Acc: 0.7077 | Train loss: 0.4491 Val Loss: 0.7037\n",
      "Epoch 039 | Fold 3 | Train Acc: 0.6979 | Val Acc: 0.7218 | Train loss: 0.4574 Val Loss: 0.6706\n",
      "Epoch 040 | Fold 3 | Train Acc: 0.7306 | Val Acc: 0.7077 | Train loss: 0.4393 Val Loss: 0.7033\n",
      "Epoch 041 | Fold 3 | Train Acc: 0.7469 | Val Acc: 0.7025 | Train loss: 0.4649 Val Loss: 0.7090\n",
      "Epoch 042 | Fold 3 | Train Acc: 0.7063 | Val Acc: 0.7165 | Train loss: 0.4545 Val Loss: 0.6959\n",
      "Epoch 043 | Fold 3 | Train Acc: 0.7176 | Val Acc: 0.7007 | Train loss: 0.4658 Val Loss: 0.7164\n",
      "Epoch 044 | Fold 3 | Train Acc: 0.7029 | Val Acc: 0.7218 | Train loss: 0.4511 Val Loss: 0.6803\n",
      "Epoch 045 | Fold 3 | Train Acc: 0.7328 | Val Acc: 0.7025 | Train loss: 0.4432 Val Loss: 0.7278\n",
      "Epoch 046 | Fold 3 | Train Acc: 0.7176 | Val Acc: 0.7201 | Train loss: 0.4495 Val Loss: 0.6676\n",
      "Epoch 047 | Fold 3 | Train Acc: 0.7091 | Val Acc: 0.7042 | Train loss: 0.4425 Val Loss: 0.7121\n",
      "Epoch 048 | Fold 3 | Train Acc: 0.7322 | Val Acc: 0.7042 | Train loss: 0.4607 Val Loss: 0.7034\n",
      "Epoch 049 | Fold 3 | Train Acc: 0.6855 | Val Acc: 0.7201 | Train loss: 0.4596 Val Loss: 0.6653\n",
      "Epoch 050 | Fold 3 | Train Acc: 0.7080 | Val Acc: 0.7095 | Train loss: 0.4420 Val Loss: 0.7165\n",
      "Epoch 051 | Fold 3 | Train Acc: 0.7244 | Val Acc: 0.7095 | Train loss: 0.4455 Val Loss: 0.7043\n",
      "Epoch 052 | Fold 3 | Train Acc: 0.7170 | Val Acc: 0.7201 | Train loss: 0.4610 Val Loss: 0.6899\n",
      "Epoch 053 | Fold 3 | Train Acc: 0.7142 | Val Acc: 0.7113 | Train loss: 0.4398 Val Loss: 0.6958\n",
      "Epoch 054 | Fold 3 | Train Acc: 0.7255 | Val Acc: 0.7025 | Train loss: 0.4381 Val Loss: 0.7155\n",
      "Epoch 055 | Fold 3 | Train Acc: 0.7362 | Val Acc: 0.7060 | Train loss: 0.4315 Val Loss: 0.6961\n",
      "Epoch 056 | Fold 3 | Train Acc: 0.7159 | Val Acc: 0.7218 | Train loss: 0.4376 Val Loss: 0.6678\n",
      "Epoch 057 | Fold 3 | Train Acc: 0.7074 | Val Acc: 0.7218 | Train loss: 0.4397 Val Loss: 0.6633\n",
      "Epoch 058 | Fold 3 | Train Acc: 0.7153 | Val Acc: 0.7060 | Train loss: 0.4401 Val Loss: 0.7254\n",
      "Epoch 059 | Fold 3 | Train Acc: 0.7277 | Val Acc: 0.7060 | Train loss: 0.4312 Val Loss: 0.6933\n",
      "Epoch 060 | Fold 3 | Train Acc: 0.7148 | Val Acc: 0.7077 | Train loss: 0.4420 Val Loss: 0.6982\n",
      "Epoch 061 | Fold 3 | Train Acc: 0.7260 | Val Acc: 0.7077 | Train loss: 0.4423 Val Loss: 0.6972\n",
      "Epoch 062 | Fold 3 | Train Acc: 0.7334 | Val Acc: 0.7095 | Train loss: 0.4283 Val Loss: 0.7164\n",
      "Epoch 063 | Fold 3 | Train Acc: 0.7193 | Val Acc: 0.7077 | Train loss: 0.4424 Val Loss: 0.6822\n",
      "Epoch 064 | Fold 3 | Train Acc: 0.7041 | Val Acc: 0.7060 | Train loss: 0.4423 Val Loss: 0.6862\n",
      "Epoch 065 | Fold 3 | Train Acc: 0.7356 | Val Acc: 0.7113 | Train loss: 0.4273 Val Loss: 0.7088\n",
      "Epoch 066 | Fold 3 | Train Acc: 0.7300 | Val Acc: 0.7077 | Train loss: 0.4382 Val Loss: 0.6744\n",
      "Epoch 067 | Fold 3 | Train Acc: 0.7198 | Val Acc: 0.7060 | Train loss: 0.4436 Val Loss: 0.6830\n",
      "Epoch 068 | Fold 3 | Train Acc: 0.6984 | Val Acc: 0.7077 | Train loss: 0.4405 Val Loss: 0.6839\n",
      "Epoch 069 | Fold 3 | Train Acc: 0.7232 | Val Acc: 0.7060 | Train loss: 0.4285 Val Loss: 0.6848\n",
      "Epoch 070 | Fold 3 | Train Acc: 0.7238 | Val Acc: 0.7095 | Train loss: 0.4353 Val Loss: 0.6988\n",
      "Epoch 071 | Fold 3 | Train Acc: 0.7198 | Val Acc: 0.7060 | Train loss: 0.4337 Val Loss: 0.6835\n",
      "Epoch 072 | Fold 3 | Train Acc: 0.7272 | Val Acc: 0.7077 | Train loss: 0.4269 Val Loss: 0.6939\n",
      "Epoch 073 | Fold 3 | Train Acc: 0.7210 | Val Acc: 0.7113 | Train loss: 0.4353 Val Loss: 0.7092\n",
      "Epoch 074 | Fold 3 | Train Acc: 0.7238 | Val Acc: 0.7060 | Train loss: 0.4281 Val Loss: 0.6905\n",
      "Epoch 075 | Fold 3 | Train Acc: 0.7215 | Val Acc: 0.7060 | Train loss: 0.4261 Val Loss: 0.6834\n",
      "Epoch 076 | Fold 3 | Train Acc: 0.7136 | Val Acc: 0.7060 | Train loss: 0.4266 Val Loss: 0.6884\n",
      "Epoch 077 | Fold 3 | Train Acc: 0.7193 | Val Acc: 0.7060 | Train loss: 0.4297 Val Loss: 0.6906\n",
      "Epoch 078 | Fold 3 | Train Acc: 0.7272 | Val Acc: 0.7095 | Train loss: 0.4237 Val Loss: 0.6922\n",
      "Epoch 079 | Fold 3 | Train Acc: 0.7244 | Val Acc: 0.7095 | Train loss: 0.4308 Val Loss: 0.7103\n",
      "Epoch 080 | Fold 3 | Train Acc: 0.7277 | Val Acc: 0.7095 | Train loss: 0.4323 Val Loss: 0.7056\n",
      "Epoch 081 | Fold 3 | Train Acc: 0.7227 | Val Acc: 0.7060 | Train loss: 0.4259 Val Loss: 0.6745\n",
      "Epoch 082 | Fold 3 | Train Acc: 0.7210 | Val Acc: 0.7113 | Train loss: 0.4286 Val Loss: 0.6998\n",
      "Epoch 083 | Fold 3 | Train Acc: 0.7249 | Val Acc: 0.7113 | Train loss: 0.4261 Val Loss: 0.7068\n",
      "Epoch 084 | Fold 3 | Train Acc: 0.7187 | Val Acc: 0.7060 | Train loss: 0.4284 Val Loss: 0.6983\n",
      "Epoch 085 | Fold 3 | Train Acc: 0.7238 | Val Acc: 0.7060 | Train loss: 0.4310 Val Loss: 0.6996\n",
      "Epoch 086 | Fold 3 | Train Acc: 0.7193 | Val Acc: 0.7095 | Train loss: 0.4241 Val Loss: 0.6759\n",
      "Epoch 087 | Fold 3 | Train Acc: 0.7204 | Val Acc: 0.7077 | Train loss: 0.4203 Val Loss: 0.7010\n",
      " Early stopping at epoch 87 for fold 3\n",
      " Fold 3: Best Val Acc = 0.7218\n",
      "Epoch 001 | Fold 4 | Train Acc: 0.4858 | Val Acc: 0.4932 | Train loss: 1.3944 Val Loss: 1.3752\n",
      "Epoch 002 | Fold 4 | Train Acc: 0.4328 | Val Acc: 0.3105 | Train loss: 1.3724 Val Loss: 1.3634\n",
      "Epoch 003 | Fold 4 | Train Acc: 0.2285 | Val Acc: 0.2808 | Train loss: 1.3585 Val Loss: 1.3487\n",
      "Epoch 004 | Fold 4 | Train Acc: 0.3325 | Val Acc: 0.4658 | Train loss: 1.3358 Val Loss: 1.3217\n",
      "Epoch 005 | Fold 4 | Train Acc: 0.3729 | Val Acc: 0.4384 | Train loss: 1.3129 Val Loss: 1.2871\n",
      "Epoch 006 | Fold 4 | Train Acc: 0.4438 | Val Acc: 0.4886 | Train loss: 1.2693 Val Loss: 1.2212\n",
      "Epoch 007 | Fold 4 | Train Acc: 0.5546 | Val Acc: 0.6005 | Train loss: 1.1976 Val Loss: 1.0825\n",
      "Epoch 008 | Fold 4 | Train Acc: 0.4937 | Val Acc: 0.5228 | Train loss: 1.0451 Val Loss: 0.8730\n",
      "Epoch 009 | Fold 4 | Train Acc: 0.4643 | Val Acc: 0.5685 | Train loss: 0.8817 Val Loss: 0.7010\n",
      "Epoch 010 | Fold 4 | Train Acc: 0.6161 | Val Acc: 0.6370 | Train loss: 0.7420 Val Loss: 0.6111\n",
      "Epoch 011 | Fold 4 | Train Acc: 0.5914 | Val Acc: 0.5662 | Train loss: 0.6764 Val Loss: 0.5965\n",
      "Epoch 012 | Fold 4 | Train Acc: 0.5462 | Val Acc: 0.5594 | Train loss: 0.6477 Val Loss: 0.5871\n",
      "Epoch 013 | Fold 4 | Train Acc: 0.6082 | Val Acc: 0.5753 | Train loss: 0.6216 Val Loss: 0.5490\n",
      "Epoch 014 | Fold 4 | Train Acc: 0.6056 | Val Acc: 0.5685 | Train loss: 0.5964 Val Loss: 0.5424\n",
      "Epoch 015 | Fold 4 | Train Acc: 0.5877 | Val Acc: 0.5776 | Train loss: 0.5870 Val Loss: 0.5333\n",
      "Epoch 016 | Fold 4 | Train Acc: 0.6444 | Val Acc: 0.5776 | Train loss: 0.5903 Val Loss: 0.5196\n",
      "Epoch 017 | Fold 4 | Train Acc: 0.6014 | Val Acc: 0.5845 | Train loss: 0.5844 Val Loss: 0.5223\n",
      "Epoch 018 | Fold 4 | Train Acc: 0.6087 | Val Acc: 0.5799 | Train loss: 0.5654 Val Loss: 0.5212\n",
      "Epoch 019 | Fold 4 | Train Acc: 0.6255 | Val Acc: 0.6005 | Train loss: 0.5498 Val Loss: 0.5140\n",
      "Epoch 020 | Fold 4 | Train Acc: 0.6675 | Val Acc: 0.6553 | Train loss: 0.5403 Val Loss: 0.4930\n",
      "Epoch 021 | Fold 4 | Train Acc: 0.6423 | Val Acc: 0.5822 | Train loss: 0.5460 Val Loss: 0.5142\n",
      "Epoch 022 | Fold 4 | Train Acc: 0.6429 | Val Acc: 0.6461 | Train loss: 0.5472 Val Loss: 0.4936\n",
      "Epoch 023 | Fold 4 | Train Acc: 0.6549 | Val Acc: 0.6484 | Train loss: 0.5327 Val Loss: 0.5020\n",
      "Epoch 024 | Fold 4 | Train Acc: 0.6665 | Val Acc: 0.6187 | Train loss: 0.5275 Val Loss: 0.5065\n",
      "Epoch 025 | Fold 4 | Train Acc: 0.6712 | Val Acc: 0.6598 | Train loss: 0.5287 Val Loss: 0.5035\n",
      "Epoch 026 | Fold 4 | Train Acc: 0.6429 | Val Acc: 0.6096 | Train loss: 0.5204 Val Loss: 0.5175\n",
      "Epoch 027 | Fold 4 | Train Acc: 0.6675 | Val Acc: 0.7100 | Train loss: 0.5106 Val Loss: 0.4788\n",
      "Epoch 028 | Fold 4 | Train Acc: 0.6959 | Val Acc: 0.7032 | Train loss: 0.5160 Val Loss: 0.4819\n",
      "Epoch 029 | Fold 4 | Train Acc: 0.6570 | Val Acc: 0.6461 | Train loss: 0.5236 Val Loss: 0.5138\n",
      "Epoch 030 | Fold 4 | Train Acc: 0.6828 | Val Acc: 0.7169 | Train loss: 0.5274 Val Loss: 0.4763\n",
      "Epoch 031 | Fold 4 | Train Acc: 0.6980 | Val Acc: 0.6621 | Train loss: 0.5000 Val Loss: 0.5136\n",
      "Epoch 032 | Fold 4 | Train Acc: 0.6675 | Val Acc: 0.7009 | Train loss: 0.5105 Val Loss: 0.4825\n",
      "Epoch 033 | Fold 4 | Train Acc: 0.6828 | Val Acc: 0.7009 | Train loss: 0.5068 Val Loss: 0.4916\n",
      "Epoch 034 | Fold 4 | Train Acc: 0.6949 | Val Acc: 0.6849 | Train loss: 0.5187 Val Loss: 0.4930\n",
      "Epoch 035 | Fold 4 | Train Acc: 0.6665 | Val Acc: 0.6735 | Train loss: 0.5105 Val Loss: 0.5007\n",
      "Epoch 036 | Fold 4 | Train Acc: 0.6849 | Val Acc: 0.7078 | Train loss: 0.5007 Val Loss: 0.4813\n",
      "Epoch 037 | Fold 4 | Train Acc: 0.6970 | Val Acc: 0.6941 | Train loss: 0.4976 Val Loss: 0.4785\n",
      "Epoch 038 | Fold 4 | Train Acc: 0.6907 | Val Acc: 0.6963 | Train loss: 0.5115 Val Loss: 0.4936\n",
      "Epoch 039 | Fold 4 | Train Acc: 0.6864 | Val Acc: 0.7009 | Train loss: 0.4993 Val Loss: 0.4822\n",
      "Epoch 040 | Fold 4 | Train Acc: 0.7022 | Val Acc: 0.7032 | Train loss: 0.4846 Val Loss: 0.4809\n",
      "Epoch 041 | Fold 4 | Train Acc: 0.6744 | Val Acc: 0.6849 | Train loss: 0.5021 Val Loss: 0.5020\n",
      "Epoch 042 | Fold 4 | Train Acc: 0.6822 | Val Acc: 0.6941 | Train loss: 0.4891 Val Loss: 0.4856\n",
      "Epoch 043 | Fold 4 | Train Acc: 0.7069 | Val Acc: 0.7169 | Train loss: 0.4966 Val Loss: 0.4669\n",
      "Epoch 044 | Fold 4 | Train Acc: 0.7132 | Val Acc: 0.6986 | Train loss: 0.4876 Val Loss: 0.4829\n",
      "Epoch 045 | Fold 4 | Train Acc: 0.7033 | Val Acc: 0.6963 | Train loss: 0.4830 Val Loss: 0.4898\n",
      "Epoch 046 | Fold 4 | Train Acc: 0.6896 | Val Acc: 0.6826 | Train loss: 0.4833 Val Loss: 0.4977\n",
      "Epoch 047 | Fold 4 | Train Acc: 0.7064 | Val Acc: 0.7009 | Train loss: 0.4958 Val Loss: 0.4732\n",
      "Epoch 048 | Fold 4 | Train Acc: 0.7075 | Val Acc: 0.7009 | Train loss: 0.4761 Val Loss: 0.4816\n",
      "Epoch 049 | Fold 4 | Train Acc: 0.6991 | Val Acc: 0.6986 | Train loss: 0.4946 Val Loss: 0.4804\n",
      "Epoch 050 | Fold 4 | Train Acc: 0.6896 | Val Acc: 0.7009 | Train loss: 0.4806 Val Loss: 0.4870\n",
      "Epoch 051 | Fold 4 | Train Acc: 0.7043 | Val Acc: 0.7009 | Train loss: 0.4876 Val Loss: 0.4730\n",
      "Epoch 052 | Fold 4 | Train Acc: 0.7085 | Val Acc: 0.7032 | Train loss: 0.4919 Val Loss: 0.4786\n",
      "Epoch 053 | Fold 4 | Train Acc: 0.6964 | Val Acc: 0.6941 | Train loss: 0.4879 Val Loss: 0.4892\n",
      "Epoch 054 | Fold 4 | Train Acc: 0.6970 | Val Acc: 0.7009 | Train loss: 0.4919 Val Loss: 0.4753\n",
      "Epoch 055 | Fold 4 | Train Acc: 0.7122 | Val Acc: 0.7032 | Train loss: 0.4869 Val Loss: 0.4763\n",
      "Epoch 056 | Fold 4 | Train Acc: 0.7080 | Val Acc: 0.6963 | Train loss: 0.4837 Val Loss: 0.4905\n",
      "Epoch 057 | Fold 4 | Train Acc: 0.6975 | Val Acc: 0.6963 | Train loss: 0.4780 Val Loss: 0.4894\n",
      "Epoch 058 | Fold 4 | Train Acc: 0.6991 | Val Acc: 0.7009 | Train loss: 0.4838 Val Loss: 0.4783\n",
      "Epoch 059 | Fold 4 | Train Acc: 0.7075 | Val Acc: 0.7009 | Train loss: 0.4774 Val Loss: 0.4764\n",
      "Epoch 060 | Fold 4 | Train Acc: 0.7117 | Val Acc: 0.7009 | Train loss: 0.4689 Val Loss: 0.4807\n",
      "Epoch 061 | Fold 4 | Train Acc: 0.6928 | Val Acc: 0.6963 | Train loss: 0.4822 Val Loss: 0.4890\n",
      "Epoch 062 | Fold 4 | Train Acc: 0.7022 | Val Acc: 0.7009 | Train loss: 0.4723 Val Loss: 0.4772\n",
      "Epoch 063 | Fold 4 | Train Acc: 0.7111 | Val Acc: 0.7055 | Train loss: 0.4773 Val Loss: 0.4744\n",
      "Epoch 064 | Fold 4 | Train Acc: 0.7075 | Val Acc: 0.7009 | Train loss: 0.4779 Val Loss: 0.4793\n",
      "Epoch 065 | Fold 4 | Train Acc: 0.7033 | Val Acc: 0.7009 | Train loss: 0.4734 Val Loss: 0.4830\n",
      "Epoch 066 | Fold 4 | Train Acc: 0.7111 | Val Acc: 0.7009 | Train loss: 0.4690 Val Loss: 0.4803\n",
      "Epoch 067 | Fold 4 | Train Acc: 0.7033 | Val Acc: 0.7009 | Train loss: 0.4760 Val Loss: 0.4807\n",
      "Epoch 068 | Fold 4 | Train Acc: 0.6975 | Val Acc: 0.7009 | Train loss: 0.4680 Val Loss: 0.4778\n",
      "Epoch 069 | Fold 4 | Train Acc: 0.7043 | Val Acc: 0.7009 | Train loss: 0.4716 Val Loss: 0.4794\n",
      "Epoch 070 | Fold 4 | Train Acc: 0.7101 | Val Acc: 0.7009 | Train loss: 0.4749 Val Loss: 0.4777\n",
      "Epoch 071 | Fold 4 | Train Acc: 0.7017 | Val Acc: 0.7009 | Train loss: 0.4835 Val Loss: 0.4774\n",
      "Epoch 072 | Fold 4 | Train Acc: 0.7069 | Val Acc: 0.7009 | Train loss: 0.4790 Val Loss: 0.4809\n",
      "Epoch 073 | Fold 4 | Train Acc: 0.6996 | Val Acc: 0.7009 | Train loss: 0.4785 Val Loss: 0.4775\n",
      " Early stopping at epoch 73 for fold 4\n",
      " Fold 4: Best Val Acc = 0.7169\n",
      "Epoch 001 | Fold 5 | Train Acc: 0.3114 | Val Acc: 0.4664 | Train loss: 1.3780 Val Loss: 1.3694\n",
      "Epoch 002 | Fold 5 | Train Acc: 0.4037 | Val Acc: 0.3498 | Train loss: 1.3539 Val Loss: 1.3571\n",
      "Epoch 003 | Fold 5 | Train Acc: 0.4285 | Val Acc: 0.3887 | Train loss: 1.3259 Val Loss: 1.3211\n",
      "Epoch 004 | Fold 5 | Train Acc: 0.4961 | Val Acc: 0.5230 | Train loss: 1.2824 Val Loss: 1.2611\n",
      "Epoch 005 | Fold 5 | Train Acc: 0.5236 | Val Acc: 0.4947 | Train loss: 1.1855 Val Loss: 1.1447\n",
      "Epoch 006 | Fold 5 | Train Acc: 0.5253 | Val Acc: 0.4735 | Train loss: 1.0126 Val Loss: 0.9362\n",
      "Epoch 007 | Fold 5 | Train Acc: 0.5777 | Val Acc: 0.5530 | Train loss: 0.8122 Val Loss: 0.8190\n",
      "Epoch 008 | Fold 5 | Train Acc: 0.6098 | Val Acc: 0.4859 | Train loss: 0.7116 Val Loss: 0.7488\n",
      "Epoch 009 | Fold 5 | Train Acc: 0.6098 | Val Acc: 0.5212 | Train loss: 0.6754 Val Loss: 0.7390\n",
      "Epoch 010 | Fold 5 | Train Acc: 0.6430 | Val Acc: 0.4717 | Train loss: 0.6347 Val Loss: 0.7225\n",
      "Epoch 011 | Fold 5 | Train Acc: 0.6475 | Val Acc: 0.5265 | Train loss: 0.6034 Val Loss: 0.7002\n",
      "Epoch 012 | Fold 5 | Train Acc: 0.6447 | Val Acc: 0.4488 | Train loss: 0.5951 Val Loss: 0.7097\n",
      "Epoch 013 | Fold 5 | Train Acc: 0.6447 | Val Acc: 0.5018 | Train loss: 0.5847 Val Loss: 0.6431\n",
      "Epoch 014 | Fold 5 | Train Acc: 0.6909 | Val Acc: 0.4700 | Train loss: 0.5580 Val Loss: 0.7093\n",
      "Epoch 015 | Fold 5 | Train Acc: 0.6554 | Val Acc: 0.4876 | Train loss: 0.5685 Val Loss: 0.6829\n",
      "Epoch 016 | Fold 5 | Train Acc: 0.6560 | Val Acc: 0.5053 | Train loss: 0.5531 Val Loss: 0.6544\n",
      "Epoch 017 | Fold 5 | Train Acc: 0.6774 | Val Acc: 0.4947 | Train loss: 0.5488 Val Loss: 0.6333\n",
      "Epoch 018 | Fold 5 | Train Acc: 0.6717 | Val Acc: 0.5018 | Train loss: 0.5474 Val Loss: 0.6333\n",
      "Epoch 019 | Fold 5 | Train Acc: 0.6791 | Val Acc: 0.5424 | Train loss: 0.5368 Val Loss: 0.6191\n",
      "Epoch 020 | Fold 5 | Train Acc: 0.6650 | Val Acc: 0.4806 | Train loss: 0.5451 Val Loss: 0.6784\n",
      "Epoch 021 | Fold 5 | Train Acc: 0.6931 | Val Acc: 0.4982 | Train loss: 0.5448 Val Loss: 0.6342\n",
      "Epoch 022 | Fold 5 | Train Acc: 0.6745 | Val Acc: 0.5565 | Train loss: 0.5322 Val Loss: 0.6332\n",
      "Epoch 023 | Fold 5 | Train Acc: 0.7117 | Val Acc: 0.4965 | Train loss: 0.5212 Val Loss: 0.6424\n",
      "Epoch 024 | Fold 5 | Train Acc: 0.7010 | Val Acc: 0.5689 | Train loss: 0.5319 Val Loss: 0.5889\n",
      "Epoch 025 | Fold 5 | Train Acc: 0.7055 | Val Acc: 0.5671 | Train loss: 0.5300 Val Loss: 0.6293\n",
      "Epoch 026 | Fold 5 | Train Acc: 0.7202 | Val Acc: 0.5866 | Train loss: 0.5182 Val Loss: 0.5888\n",
      "Epoch 027 | Fold 5 | Train Acc: 0.6886 | Val Acc: 0.5901 | Train loss: 0.5313 Val Loss: 0.6069\n",
      "Epoch 028 | Fold 5 | Train Acc: 0.7168 | Val Acc: 0.5972 | Train loss: 0.5184 Val Loss: 0.5960\n",
      "Epoch 029 | Fold 5 | Train Acc: 0.7078 | Val Acc: 0.6290 | Train loss: 0.5139 Val Loss: 0.5994\n",
      "Epoch 030 | Fold 5 | Train Acc: 0.7151 | Val Acc: 0.5972 | Train loss: 0.5104 Val Loss: 0.5963\n",
      "Epoch 031 | Fold 5 | Train Acc: 0.7140 | Val Acc: 0.6184 | Train loss: 0.5041 Val Loss: 0.6072\n",
      "Epoch 032 | Fold 5 | Train Acc: 0.7123 | Val Acc: 0.6219 | Train loss: 0.4963 Val Loss: 0.5904\n",
      "Epoch 033 | Fold 5 | Train Acc: 0.7213 | Val Acc: 0.6201 | Train loss: 0.5005 Val Loss: 0.5934\n",
      "Epoch 034 | Fold 5 | Train Acc: 0.7083 | Val Acc: 0.6360 | Train loss: 0.5131 Val Loss: 0.5708\n",
      "Epoch 035 | Fold 5 | Train Acc: 0.7275 | Val Acc: 0.6201 | Train loss: 0.5024 Val Loss: 0.5810\n",
      "Epoch 036 | Fold 5 | Train Acc: 0.7151 | Val Acc: 0.6007 | Train loss: 0.5054 Val Loss: 0.6023\n",
      "Epoch 037 | Fold 5 | Train Acc: 0.7100 | Val Acc: 0.6254 | Train loss: 0.5002 Val Loss: 0.5754\n",
      "Epoch 038 | Fold 5 | Train Acc: 0.7280 | Val Acc: 0.6025 | Train loss: 0.4919 Val Loss: 0.5984\n",
      "Epoch 039 | Fold 5 | Train Acc: 0.7280 | Val Acc: 0.6272 | Train loss: 0.4916 Val Loss: 0.5584\n",
      "Epoch 040 | Fold 5 | Train Acc: 0.7342 | Val Acc: 0.6007 | Train loss: 0.5011 Val Loss: 0.6212\n",
      "Epoch 041 | Fold 5 | Train Acc: 0.7207 | Val Acc: 0.6254 | Train loss: 0.5087 Val Loss: 0.5710\n",
      "Epoch 042 | Fold 5 | Train Acc: 0.7190 | Val Acc: 0.6007 | Train loss: 0.4891 Val Loss: 0.5841\n",
      "Epoch 043 | Fold 5 | Train Acc: 0.7314 | Val Acc: 0.6237 | Train loss: 0.4893 Val Loss: 0.5791\n",
      "Epoch 044 | Fold 5 | Train Acc: 0.7235 | Val Acc: 0.6272 | Train loss: 0.4963 Val Loss: 0.5810\n",
      "Epoch 045 | Fold 5 | Train Acc: 0.7292 | Val Acc: 0.6290 | Train loss: 0.4851 Val Loss: 0.5672\n",
      "Epoch 046 | Fold 5 | Train Acc: 0.7314 | Val Acc: 0.5972 | Train loss: 0.4913 Val Loss: 0.6227\n",
      "Epoch 047 | Fold 5 | Train Acc: 0.7348 | Val Acc: 0.6325 | Train loss: 0.4914 Val Loss: 0.5725\n",
      "Epoch 048 | Fold 5 | Train Acc: 0.7342 | Val Acc: 0.6237 | Train loss: 0.4909 Val Loss: 0.5698\n",
      "Epoch 049 | Fold 5 | Train Acc: 0.7173 | Val Acc: 0.6307 | Train loss: 0.4873 Val Loss: 0.5760\n",
      "Epoch 050 | Fold 5 | Train Acc: 0.7365 | Val Acc: 0.6025 | Train loss: 0.4935 Val Loss: 0.6061\n",
      "Epoch 051 | Fold 5 | Train Acc: 0.7331 | Val Acc: 0.6290 | Train loss: 0.4813 Val Loss: 0.5782\n",
      "Epoch 052 | Fold 5 | Train Acc: 0.7314 | Val Acc: 0.6254 | Train loss: 0.4753 Val Loss: 0.5787\n",
      "Epoch 053 | Fold 5 | Train Acc: 0.7416 | Val Acc: 0.6290 | Train loss: 0.4768 Val Loss: 0.5545\n",
      "Epoch 054 | Fold 5 | Train Acc: 0.7303 | Val Acc: 0.6290 | Train loss: 0.4758 Val Loss: 0.5768\n",
      "Epoch 055 | Fold 5 | Train Acc: 0.7337 | Val Acc: 0.6290 | Train loss: 0.4881 Val Loss: 0.5656\n",
      "Epoch 056 | Fold 5 | Train Acc: 0.7280 | Val Acc: 0.6272 | Train loss: 0.4752 Val Loss: 0.5744\n",
      "Epoch 057 | Fold 5 | Train Acc: 0.7337 | Val Acc: 0.6290 | Train loss: 0.4849 Val Loss: 0.5653\n",
      "Epoch 058 | Fold 5 | Train Acc: 0.7185 | Val Acc: 0.6219 | Train loss: 0.4816 Val Loss: 0.6099\n",
      "Epoch 059 | Fold 5 | Train Acc: 0.7337 | Val Acc: 0.6307 | Train loss: 0.4793 Val Loss: 0.5438\n",
      "Epoch 060 | Fold 5 | Train Acc: 0.7399 | Val Acc: 0.6272 | Train loss: 0.4750 Val Loss: 0.5760\n",
      "Epoch 061 | Fold 5 | Train Acc: 0.7342 | Val Acc: 0.6290 | Train loss: 0.4705 Val Loss: 0.5777\n",
      "Epoch 062 | Fold 5 | Train Acc: 0.7354 | Val Acc: 0.6290 | Train loss: 0.4773 Val Loss: 0.5640\n",
      "Epoch 063 | Fold 5 | Train Acc: 0.7382 | Val Acc: 0.6325 | Train loss: 0.4738 Val Loss: 0.5550\n",
      "Epoch 064 | Fold 5 | Train Acc: 0.7342 | Val Acc: 0.6272 | Train loss: 0.4777 Val Loss: 0.5673\n",
      "Epoch 065 | Fold 5 | Train Acc: 0.7365 | Val Acc: 0.6290 | Train loss: 0.4687 Val Loss: 0.5687\n",
      "Epoch 066 | Fold 5 | Train Acc: 0.7325 | Val Acc: 0.6325 | Train loss: 0.4701 Val Loss: 0.5623\n",
      "Epoch 067 | Fold 5 | Train Acc: 0.7337 | Val Acc: 0.6254 | Train loss: 0.4612 Val Loss: 0.5798\n",
      "Epoch 068 | Fold 5 | Train Acc: 0.7370 | Val Acc: 0.6290 | Train loss: 0.4800 Val Loss: 0.5626\n",
      "Epoch 069 | Fold 5 | Train Acc: 0.7348 | Val Acc: 0.6290 | Train loss: 0.4745 Val Loss: 0.5749\n",
      "Epoch 070 | Fold 5 | Train Acc: 0.7382 | Val Acc: 0.6254 | Train loss: 0.4693 Val Loss: 0.5782\n",
      "Epoch 071 | Fold 5 | Train Acc: 0.7252 | Val Acc: 0.6272 | Train loss: 0.4626 Val Loss: 0.5752\n",
      "Epoch 072 | Fold 5 | Train Acc: 0.7325 | Val Acc: 0.6290 | Train loss: 0.4695 Val Loss: 0.5624\n",
      "Epoch 073 | Fold 5 | Train Acc: 0.7269 | Val Acc: 0.6272 | Train loss: 0.4696 Val Loss: 0.5771\n",
      "Epoch 074 | Fold 5 | Train Acc: 0.7399 | Val Acc: 0.6290 | Train loss: 0.4646 Val Loss: 0.5677\n",
      "Epoch 075 | Fold 5 | Train Acc: 0.7421 | Val Acc: 0.6290 | Train loss: 0.4661 Val Loss: 0.5613\n",
      "Epoch 076 | Fold 5 | Train Acc: 0.7269 | Val Acc: 0.6272 | Train loss: 0.4747 Val Loss: 0.5725\n",
      "Epoch 077 | Fold 5 | Train Acc: 0.7387 | Val Acc: 0.6325 | Train loss: 0.4718 Val Loss: 0.5522\n",
      "Epoch 078 | Fold 5 | Train Acc: 0.7297 | Val Acc: 0.6272 | Train loss: 0.4783 Val Loss: 0.5609\n",
      "Epoch 079 | Fold 5 | Train Acc: 0.7365 | Val Acc: 0.6272 | Train loss: 0.4727 Val Loss: 0.5761\n",
      "Epoch 080 | Fold 5 | Train Acc: 0.7359 | Val Acc: 0.6272 | Train loss: 0.4769 Val Loss: 0.5714\n",
      "Epoch 081 | Fold 5 | Train Acc: 0.7359 | Val Acc: 0.6290 | Train loss: 0.4725 Val Loss: 0.5580\n",
      "Epoch 082 | Fold 5 | Train Acc: 0.7314 | Val Acc: 0.6290 | Train loss: 0.4678 Val Loss: 0.5608\n",
      "Epoch 083 | Fold 5 | Train Acc: 0.7438 | Val Acc: 0.6290 | Train loss: 0.4694 Val Loss: 0.5591\n",
      "Epoch 084 | Fold 5 | Train Acc: 0.7309 | Val Acc: 0.6290 | Train loss: 0.4632 Val Loss: 0.5574\n",
      "Epoch 085 | Fold 5 | Train Acc: 0.7292 | Val Acc: 0.6290 | Train loss: 0.4733 Val Loss: 0.5589\n",
      "Epoch 086 | Fold 5 | Train Acc: 0.7427 | Val Acc: 0.6272 | Train loss: 0.4634 Val Loss: 0.5656\n",
      "Epoch 087 | Fold 5 | Train Acc: 0.7399 | Val Acc: 0.6272 | Train loss: 0.4590 Val Loss: 0.5662\n",
      "Epoch 088 | Fold 5 | Train Acc: 0.7376 | Val Acc: 0.6290 | Train loss: 0.4663 Val Loss: 0.5534\n"
     ]
    },
    {
     "name": "stderr",
     "output_type": "stream",
     "text": [
      "[I 2025-07-15 01:02:48,343] Trial 15 finished with value: 0.7081998305957037 and parameters: {'hidden_channels': 256, 'num_layers': 2, 'heads': 4, 'dropout': 0.10848973176201585, 'hidden_dim': 256}. Best is trial 11 with value: 0.7109028240067488.\n"
     ]
    },
    {
     "name": "stdout",
     "output_type": "stream",
     "text": [
      "Epoch 089 | Fold 5 | Train Acc: 0.7348 | Val Acc: 0.6272 | Train loss: 0.4647 Val Loss: 0.5652\n",
      " Early stopping at epoch 89 for fold 5\n",
      " Fold 5: Best Val Acc = 0.6307\n",
      "🏃 View run trial_15 at: http://127.0.0.1:5000/#/experiments/906754211394743286/runs/f04bea5ae99c4816985325d2d7c1cacd\n",
      "🧪 View experiment at: http://127.0.0.1:5000/#/experiments/906754211394743286\n",
      "Epoch 001 | Fold 1 | Train Acc: 0.2120 | Val Acc: 0.4623 | Train loss: 1.3806 Val Loss: 1.3571\n",
      "Epoch 002 | Fold 1 | Train Acc: 0.2984 | Val Acc: 0.4088 | Train loss: 1.3623 Val Loss: 1.3375\n",
      "Epoch 003 | Fold 1 | Train Acc: 0.3977 | Val Acc: 0.5283 | Train loss: 1.3415 Val Loss: 1.3037\n",
      "Epoch 004 | Fold 1 | Train Acc: 0.5198 | Val Acc: 0.7044 | Train loss: 1.3097 Val Loss: 1.2316\n",
      "Epoch 005 | Fold 1 | Train Acc: 0.4397 | Val Acc: 0.7044 | Train loss: 1.2407 Val Loss: 1.0806\n",
      "Epoch 006 | Fold 1 | Train Acc: 0.4155 | Val Acc: 0.7358 | Train loss: 1.1050 Val Loss: 0.7714\n",
      "Epoch 007 | Fold 1 | Train Acc: 0.4763 | Val Acc: 0.7767 | Train loss: 0.8947 Val Loss: 0.5693\n",
      "Epoch 008 | Fold 1 | Train Acc: 0.4876 | Val Acc: 0.7642 | Train loss: 0.8085 Val Loss: 0.5107\n",
      "Epoch 009 | Fold 1 | Train Acc: 0.4817 | Val Acc: 0.7547 | Train loss: 0.7555 Val Loss: 0.5037\n",
      "Epoch 010 | Fold 1 | Train Acc: 0.5025 | Val Acc: 0.7673 | Train loss: 0.7350 Val Loss: 0.5083\n",
      "Epoch 011 | Fold 1 | Train Acc: 0.5030 | Val Acc: 0.7642 | Train loss: 0.7078 Val Loss: 0.4711\n",
      "Epoch 012 | Fold 1 | Train Acc: 0.5183 | Val Acc: 0.7516 | Train loss: 0.6759 Val Loss: 0.4921\n",
      "Epoch 013 | Fold 1 | Train Acc: 0.5153 | Val Acc: 0.7704 | Train loss: 0.6698 Val Loss: 0.4895\n",
      "Epoch 014 | Fold 1 | Train Acc: 0.5524 | Val Acc: 0.7610 | Train loss: 0.6526 Val Loss: 0.4900\n",
      "Epoch 015 | Fold 1 | Train Acc: 0.5262 | Val Acc: 0.7610 | Train loss: 0.6542 Val Loss: 0.4626\n",
      "Epoch 016 | Fold 1 | Train Acc: 0.5262 | Val Acc: 0.7610 | Train loss: 0.6544 Val Loss: 0.4735\n",
      "Epoch 017 | Fold 1 | Train Acc: 0.5227 | Val Acc: 0.7642 | Train loss: 0.6713 Val Loss: 0.4528\n",
      "Epoch 018 | Fold 1 | Train Acc: 0.5929 | Val Acc: 0.7862 | Train loss: 0.6414 Val Loss: 0.4736\n",
      "Epoch 019 | Fold 1 | Train Acc: 0.5440 | Val Acc: 0.7704 | Train loss: 0.6556 Val Loss: 0.4691\n",
      "Epoch 020 | Fold 1 | Train Acc: 0.5983 | Val Acc: 0.7893 | Train loss: 0.6192 Val Loss: 0.4766\n",
      "Epoch 021 | Fold 1 | Train Acc: 0.5568 | Val Acc: 0.7925 | Train loss: 0.6492 Val Loss: 0.4601\n",
      "Epoch 022 | Fold 1 | Train Acc: 0.6028 | Val Acc: 0.7925 | Train loss: 0.6356 Val Loss: 0.4609\n",
      "Epoch 023 | Fold 1 | Train Acc: 0.5756 | Val Acc: 0.7862 | Train loss: 0.6339 Val Loss: 0.4543\n",
      "Epoch 024 | Fold 1 | Train Acc: 0.6156 | Val Acc: 0.7893 | Train loss: 0.6226 Val Loss: 0.4733\n",
      "Epoch 025 | Fold 1 | Train Acc: 0.6166 | Val Acc: 0.7862 | Train loss: 0.6240 Val Loss: 0.4361\n",
      "Epoch 026 | Fold 1 | Train Acc: 0.6171 | Val Acc: 0.7925 | Train loss: 0.6005 Val Loss: 0.4345\n",
      "Epoch 027 | Fold 1 | Train Acc: 0.6369 | Val Acc: 0.7893 | Train loss: 0.6264 Val Loss: 0.4672\n",
      "Epoch 028 | Fold 1 | Train Acc: 0.6196 | Val Acc: 0.7893 | Train loss: 0.5940 Val Loss: 0.4387\n",
      "Epoch 029 | Fold 1 | Train Acc: 0.6210 | Val Acc: 0.7830 | Train loss: 0.6109 Val Loss: 0.4557\n",
      "Epoch 030 | Fold 1 | Train Acc: 0.6512 | Val Acc: 0.7893 | Train loss: 0.5871 Val Loss: 0.4356\n",
      "Epoch 031 | Fold 1 | Train Acc: 0.6003 | Val Acc: 0.7830 | Train loss: 0.6195 Val Loss: 0.4368\n",
      "Epoch 032 | Fold 1 | Train Acc: 0.6462 | Val Acc: 0.7925 | Train loss: 0.5739 Val Loss: 0.4841\n",
      "Epoch 033 | Fold 1 | Train Acc: 0.6403 | Val Acc: 0.7830 | Train loss: 0.5785 Val Loss: 0.4431\n",
      "Epoch 034 | Fold 1 | Train Acc: 0.6290 | Val Acc: 0.7862 | Train loss: 0.5858 Val Loss: 0.4338\n",
      "Epoch 035 | Fold 1 | Train Acc: 0.6230 | Val Acc: 0.7830 | Train loss: 0.5884 Val Loss: 0.4349\n",
      "Epoch 036 | Fold 1 | Train Acc: 0.6482 | Val Acc: 0.7830 | Train loss: 0.5713 Val Loss: 0.4440\n",
      "Epoch 037 | Fold 1 | Train Acc: 0.6344 | Val Acc: 0.7830 | Train loss: 0.5718 Val Loss: 0.4458\n",
      "Epoch 038 | Fold 1 | Train Acc: 0.6245 | Val Acc: 0.7893 | Train loss: 0.5824 Val Loss: 0.4646\n",
      "Epoch 039 | Fold 1 | Train Acc: 0.6537 | Val Acc: 0.7830 | Train loss: 0.5899 Val Loss: 0.4526\n",
      "Epoch 040 | Fold 1 | Train Acc: 0.6255 | Val Acc: 0.7830 | Train loss: 0.5621 Val Loss: 0.4429\n",
      "Epoch 041 | Fold 1 | Train Acc: 0.6304 | Val Acc: 0.7862 | Train loss: 0.5621 Val Loss: 0.4499\n",
      "Epoch 042 | Fold 1 | Train Acc: 0.6798 | Val Acc: 0.7830 | Train loss: 0.5542 Val Loss: 0.4591\n",
      "Epoch 043 | Fold 1 | Train Acc: 0.6507 | Val Acc: 0.7830 | Train loss: 0.5785 Val Loss: 0.4446\n",
      "Epoch 044 | Fold 1 | Train Acc: 0.6319 | Val Acc: 0.7830 | Train loss: 0.5776 Val Loss: 0.4475\n",
      "Epoch 045 | Fold 1 | Train Acc: 0.6408 | Val Acc: 0.7925 | Train loss: 0.5808 Val Loss: 0.4586\n",
      "Epoch 046 | Fold 1 | Train Acc: 0.6561 | Val Acc: 0.7893 | Train loss: 0.5601 Val Loss: 0.4476\n",
      "Epoch 047 | Fold 1 | Train Acc: 0.6393 | Val Acc: 0.7862 | Train loss: 0.5731 Val Loss: 0.4410\n",
      "Epoch 048 | Fold 1 | Train Acc: 0.6374 | Val Acc: 0.7830 | Train loss: 0.5618 Val Loss: 0.4452\n",
      "Epoch 049 | Fold 1 | Train Acc: 0.6393 | Val Acc: 0.7862 | Train loss: 0.5792 Val Loss: 0.4531\n",
      "Epoch 050 | Fold 1 | Train Acc: 0.6542 | Val Acc: 0.7925 | Train loss: 0.5765 Val Loss: 0.4725\n",
      "Epoch 051 | Fold 1 | Train Acc: 0.6354 | Val Acc: 0.7862 | Train loss: 0.5769 Val Loss: 0.4396\n",
      "Epoch 052 | Fold 1 | Train Acc: 0.6250 | Val Acc: 0.7830 | Train loss: 0.5710 Val Loss: 0.4502\n",
      "Epoch 053 | Fold 1 | Train Acc: 0.6393 | Val Acc: 0.7925 | Train loss: 0.5617 Val Loss: 0.4604\n",
      "Epoch 054 | Fold 1 | Train Acc: 0.6571 | Val Acc: 0.7862 | Train loss: 0.5536 Val Loss: 0.4516\n",
      "Epoch 055 | Fold 1 | Train Acc: 0.6398 | Val Acc: 0.7862 | Train loss: 0.5613 Val Loss: 0.4505\n",
      "Epoch 056 | Fold 1 | Train Acc: 0.6453 | Val Acc: 0.7862 | Train loss: 0.5486 Val Loss: 0.4594\n",
      "Epoch 057 | Fold 1 | Train Acc: 0.6512 | Val Acc: 0.7862 | Train loss: 0.5504 Val Loss: 0.4565\n",
      "Epoch 058 | Fold 1 | Train Acc: 0.6472 | Val Acc: 0.7830 | Train loss: 0.5613 Val Loss: 0.4507\n",
      "Epoch 059 | Fold 1 | Train Acc: 0.6453 | Val Acc: 0.7862 | Train loss: 0.5603 Val Loss: 0.4550\n",
      "Epoch 060 | Fold 1 | Train Acc: 0.6423 | Val Acc: 0.7862 | Train loss: 0.5731 Val Loss: 0.4494\n",
      "Epoch 061 | Fold 1 | Train Acc: 0.6428 | Val Acc: 0.7862 | Train loss: 0.5654 Val Loss: 0.4590\n",
      "Epoch 062 | Fold 1 | Train Acc: 0.6438 | Val Acc: 0.7862 | Train loss: 0.5504 Val Loss: 0.4549\n",
      "Epoch 063 | Fold 1 | Train Acc: 0.6482 | Val Acc: 0.7830 | Train loss: 0.5633 Val Loss: 0.4545\n",
      "Epoch 064 | Fold 1 | Train Acc: 0.6433 | Val Acc: 0.7925 | Train loss: 0.5617 Val Loss: 0.4555\n",
      " Early stopping at epoch 64 for fold 1\n",
      " Fold 1: Best Val Acc = 0.7862\n",
      "Epoch 001 | Fold 2 | Train Acc: 0.1688 | Val Acc: 0.2699 | Train loss: 1.3858 Val Loss: 1.3712\n",
      "Epoch 002 | Fold 2 | Train Acc: 0.3122 | Val Acc: 0.3540 | Train loss: 1.3616 Val Loss: 1.3492\n",
      "Epoch 003 | Fold 2 | Train Acc: 0.3069 | Val Acc: 0.3429 | Train loss: 1.3378 Val Loss: 1.3172\n",
      "Epoch 004 | Fold 2 | Train Acc: 0.3672 | Val Acc: 0.3960 | Train loss: 1.2964 Val Loss: 1.2651\n",
      "Epoch 005 | Fold 2 | Train Acc: 0.4905 | Val Acc: 0.5819 | Train loss: 1.2125 Val Loss: 1.1473\n",
      "Epoch 006 | Fold 2 | Train Acc: 0.4852 | Val Acc: 0.4845 | Train loss: 1.0246 Val Loss: 0.8643\n",
      "Epoch 007 | Fold 2 | Train Acc: 0.5069 | Val Acc: 0.5531 | Train loss: 0.8547 Val Loss: 0.7383\n",
      "Epoch 008 | Fold 2 | Train Acc: 0.5286 | Val Acc: 0.5133 | Train loss: 0.7988 Val Loss: 0.6569\n",
      "Epoch 009 | Fold 2 | Train Acc: 0.5598 | Val Acc: 0.5531 | Train loss: 0.7850 Val Loss: 0.6380\n",
      "Epoch 010 | Fold 2 | Train Acc: 0.5545 | Val Acc: 0.5465 | Train loss: 0.7420 Val Loss: 0.5966\n",
      "Epoch 011 | Fold 2 | Train Acc: 0.5344 | Val Acc: 0.5509 | Train loss: 0.6987 Val Loss: 0.5784\n",
      "Epoch 012 | Fold 2 | Train Acc: 0.5698 | Val Acc: 0.5774 | Train loss: 0.7032 Val Loss: 0.5737\n",
      "Epoch 013 | Fold 2 | Train Acc: 0.5439 | Val Acc: 0.5487 | Train loss: 0.7073 Val Loss: 0.5465\n",
      "Epoch 014 | Fold 2 | Train Acc: 0.5720 | Val Acc: 0.6239 | Train loss: 0.6839 Val Loss: 0.5532\n",
      "Epoch 015 | Fold 2 | Train Acc: 0.5995 | Val Acc: 0.5841 | Train loss: 0.6774 Val Loss: 0.5272\n",
      "Epoch 016 | Fold 2 | Train Acc: 0.5508 | Val Acc: 0.5863 | Train loss: 0.6962 Val Loss: 0.5233\n",
      "Epoch 017 | Fold 2 | Train Acc: 0.5735 | Val Acc: 0.6726 | Train loss: 0.6945 Val Loss: 0.5331\n",
      "Epoch 018 | Fold 2 | Train Acc: 0.6233 | Val Acc: 0.6173 | Train loss: 0.6675 Val Loss: 0.5039\n",
      "Epoch 019 | Fold 2 | Train Acc: 0.5656 | Val Acc: 0.6504 | Train loss: 0.6644 Val Loss: 0.5024\n",
      "Epoch 020 | Fold 2 | Train Acc: 0.6222 | Val Acc: 0.6881 | Train loss: 0.6559 Val Loss: 0.5092\n",
      "Epoch 021 | Fold 2 | Train Acc: 0.6407 | Val Acc: 0.6726 | Train loss: 0.6514 Val Loss: 0.4951\n",
      "Epoch 022 | Fold 2 | Train Acc: 0.6212 | Val Acc: 0.6748 | Train loss: 0.6336 Val Loss: 0.4912\n",
      "Epoch 023 | Fold 2 | Train Acc: 0.6418 | Val Acc: 0.6947 | Train loss: 0.6362 Val Loss: 0.4888\n",
      "Epoch 024 | Fold 2 | Train Acc: 0.6079 | Val Acc: 0.6704 | Train loss: 0.6359 Val Loss: 0.4787\n",
      "Epoch 025 | Fold 2 | Train Acc: 0.6190 | Val Acc: 0.7102 | Train loss: 0.6388 Val Loss: 0.4904\n",
      "Epoch 026 | Fold 2 | Train Acc: 0.6307 | Val Acc: 0.6659 | Train loss: 0.6274 Val Loss: 0.4812\n",
      "Epoch 027 | Fold 2 | Train Acc: 0.6063 | Val Acc: 0.6903 | Train loss: 0.6362 Val Loss: 0.4801\n",
      "Epoch 028 | Fold 2 | Train Acc: 0.6265 | Val Acc: 0.6925 | Train loss: 0.6367 Val Loss: 0.4791\n",
      "Epoch 029 | Fold 2 | Train Acc: 0.6116 | Val Acc: 0.6947 | Train loss: 0.6222 Val Loss: 0.4660\n",
      "Epoch 030 | Fold 2 | Train Acc: 0.6302 | Val Acc: 0.7124 | Train loss: 0.6257 Val Loss: 0.4693\n",
      "Epoch 031 | Fold 2 | Train Acc: 0.6460 | Val Acc: 0.7146 | Train loss: 0.6078 Val Loss: 0.4603\n",
      "Epoch 032 | Fold 2 | Train Acc: 0.6328 | Val Acc: 0.6858 | Train loss: 0.6297 Val Loss: 0.4543\n",
      "Epoch 033 | Fold 2 | Train Acc: 0.6481 | Val Acc: 0.7102 | Train loss: 0.6161 Val Loss: 0.4612\n",
      "Epoch 034 | Fold 2 | Train Acc: 0.6291 | Val Acc: 0.6947 | Train loss: 0.6142 Val Loss: 0.4554\n",
      "Epoch 035 | Fold 2 | Train Acc: 0.6540 | Val Acc: 0.7146 | Train loss: 0.5983 Val Loss: 0.4687\n",
      "Epoch 036 | Fold 2 | Train Acc: 0.6640 | Val Acc: 0.7102 | Train loss: 0.6111 Val Loss: 0.4468\n",
      "Epoch 037 | Fold 2 | Train Acc: 0.6249 | Val Acc: 0.6925 | Train loss: 0.6136 Val Loss: 0.4471\n",
      "Epoch 038 | Fold 2 | Train Acc: 0.6233 | Val Acc: 0.7168 | Train loss: 0.6130 Val Loss: 0.4658\n",
      "Epoch 039 | Fold 2 | Train Acc: 0.6608 | Val Acc: 0.6991 | Train loss: 0.6002 Val Loss: 0.4500\n",
      "Epoch 040 | Fold 2 | Train Acc: 0.6582 | Val Acc: 0.6991 | Train loss: 0.5895 Val Loss: 0.4457\n",
      "Epoch 041 | Fold 2 | Train Acc: 0.6513 | Val Acc: 0.7124 | Train loss: 0.6118 Val Loss: 0.4479\n",
      "Epoch 042 | Fold 2 | Train Acc: 0.6492 | Val Acc: 0.6704 | Train loss: 0.5872 Val Loss: 0.4391\n",
      "Epoch 043 | Fold 2 | Train Acc: 0.6460 | Val Acc: 0.7146 | Train loss: 0.6117 Val Loss: 0.4464\n",
      "Epoch 044 | Fold 2 | Train Acc: 0.6370 | Val Acc: 0.7124 | Train loss: 0.5874 Val Loss: 0.4466\n",
      "Epoch 045 | Fold 2 | Train Acc: 0.6455 | Val Acc: 0.6991 | Train loss: 0.5934 Val Loss: 0.4335\n",
      "Epoch 046 | Fold 2 | Train Acc: 0.6455 | Val Acc: 0.7168 | Train loss: 0.6007 Val Loss: 0.4372\n",
      "Epoch 047 | Fold 2 | Train Acc: 0.6434 | Val Acc: 0.7124 | Train loss: 0.5953 Val Loss: 0.4441\n",
      "Epoch 048 | Fold 2 | Train Acc: 0.6741 | Val Acc: 0.7146 | Train loss: 0.5836 Val Loss: 0.4377\n",
      "Epoch 049 | Fold 2 | Train Acc: 0.6603 | Val Acc: 0.7124 | Train loss: 0.5989 Val Loss: 0.4278\n",
      "Epoch 050 | Fold 2 | Train Acc: 0.6206 | Val Acc: 0.7102 | Train loss: 0.6094 Val Loss: 0.4470\n",
      "Epoch 051 | Fold 2 | Train Acc: 0.6608 | Val Acc: 0.7190 | Train loss: 0.5979 Val Loss: 0.4408\n",
      "Epoch 052 | Fold 2 | Train Acc: 0.6344 | Val Acc: 0.7058 | Train loss: 0.6017 Val Loss: 0.4217\n",
      "Epoch 053 | Fold 2 | Train Acc: 0.6513 | Val Acc: 0.7190 | Train loss: 0.5772 Val Loss: 0.4436\n",
      "Epoch 054 | Fold 2 | Train Acc: 0.6667 | Val Acc: 0.7212 | Train loss: 0.5897 Val Loss: 0.4302\n",
      "Epoch 055 | Fold 2 | Train Acc: 0.6593 | Val Acc: 0.7124 | Train loss: 0.5584 Val Loss: 0.4181\n",
      "Epoch 056 | Fold 2 | Train Acc: 0.6466 | Val Acc: 0.7168 | Train loss: 0.5885 Val Loss: 0.4322\n",
      "Epoch 057 | Fold 2 | Train Acc: 0.6704 | Val Acc: 0.7212 | Train loss: 0.5898 Val Loss: 0.4389\n",
      "Epoch 058 | Fold 2 | Train Acc: 0.6540 | Val Acc: 0.7013 | Train loss: 0.5813 Val Loss: 0.4251\n",
      "Epoch 059 | Fold 2 | Train Acc: 0.6624 | Val Acc: 0.7190 | Train loss: 0.5796 Val Loss: 0.4489\n",
      "Epoch 060 | Fold 2 | Train Acc: 0.6683 | Val Acc: 0.7301 | Train loss: 0.5877 Val Loss: 0.4227\n",
      "Epoch 061 | Fold 2 | Train Acc: 0.6524 | Val Acc: 0.7168 | Train loss: 0.5796 Val Loss: 0.4228\n",
      "Epoch 062 | Fold 2 | Train Acc: 0.6481 | Val Acc: 0.7102 | Train loss: 0.5778 Val Loss: 0.4253\n",
      "Epoch 063 | Fold 2 | Train Acc: 0.6545 | Val Acc: 0.7168 | Train loss: 0.5681 Val Loss: 0.4181\n",
      "Epoch 064 | Fold 2 | Train Acc: 0.6354 | Val Acc: 0.7168 | Train loss: 0.5806 Val Loss: 0.4286\n",
      "Epoch 065 | Fold 2 | Train Acc: 0.6635 | Val Acc: 0.7190 | Train loss: 0.5776 Val Loss: 0.4217\n",
      "Epoch 066 | Fold 2 | Train Acc: 0.6481 | Val Acc: 0.7102 | Train loss: 0.5724 Val Loss: 0.4201\n",
      "Epoch 067 | Fold 2 | Train Acc: 0.6630 | Val Acc: 0.7257 | Train loss: 0.5764 Val Loss: 0.4318\n",
      "Epoch 068 | Fold 2 | Train Acc: 0.6646 | Val Acc: 0.7212 | Train loss: 0.5701 Val Loss: 0.4154\n",
      "Epoch 069 | Fold 2 | Train Acc: 0.6481 | Val Acc: 0.7212 | Train loss: 0.5972 Val Loss: 0.4204\n",
      "Epoch 070 | Fold 2 | Train Acc: 0.6651 | Val Acc: 0.7257 | Train loss: 0.5711 Val Loss: 0.4293\n",
      "Epoch 071 | Fold 2 | Train Acc: 0.6603 | Val Acc: 0.7212 | Train loss: 0.5802 Val Loss: 0.4263\n",
      "Epoch 072 | Fold 2 | Train Acc: 0.6693 | Val Acc: 0.7212 | Train loss: 0.5555 Val Loss: 0.4157\n",
      "Epoch 073 | Fold 2 | Train Acc: 0.6534 | Val Acc: 0.7124 | Train loss: 0.5591 Val Loss: 0.4170\n",
      "Epoch 074 | Fold 2 | Train Acc: 0.6508 | Val Acc: 0.7212 | Train loss: 0.5771 Val Loss: 0.4246\n",
      "Epoch 075 | Fold 2 | Train Acc: 0.6603 | Val Acc: 0.7257 | Train loss: 0.5617 Val Loss: 0.4233\n",
      "Epoch 076 | Fold 2 | Train Acc: 0.6709 | Val Acc: 0.7212 | Train loss: 0.5627 Val Loss: 0.4231\n",
      "Epoch 077 | Fold 2 | Train Acc: 0.6556 | Val Acc: 0.7212 | Train loss: 0.5722 Val Loss: 0.4225\n",
      "Epoch 078 | Fold 2 | Train Acc: 0.6545 | Val Acc: 0.7257 | Train loss: 0.5838 Val Loss: 0.4200\n",
      "Epoch 079 | Fold 2 | Train Acc: 0.6593 | Val Acc: 0.7212 | Train loss: 0.5571 Val Loss: 0.4191\n",
      "Epoch 080 | Fold 2 | Train Acc: 0.6587 | Val Acc: 0.7212 | Train loss: 0.5503 Val Loss: 0.4216\n",
      "Epoch 081 | Fold 2 | Train Acc: 0.6614 | Val Acc: 0.7212 | Train loss: 0.5588 Val Loss: 0.4201\n",
      "Epoch 082 | Fold 2 | Train Acc: 0.6667 | Val Acc: 0.7257 | Train loss: 0.5679 Val Loss: 0.4203\n",
      "Epoch 083 | Fold 2 | Train Acc: 0.6635 | Val Acc: 0.7257 | Train loss: 0.5609 Val Loss: 0.4180\n",
      "Epoch 084 | Fold 2 | Train Acc: 0.6545 | Val Acc: 0.7212 | Train loss: 0.5685 Val Loss: 0.4191\n",
      "Epoch 085 | Fold 2 | Train Acc: 0.6582 | Val Acc: 0.7257 | Train loss: 0.5539 Val Loss: 0.4160\n",
      "Epoch 086 | Fold 2 | Train Acc: 0.6571 | Val Acc: 0.7257 | Train loss: 0.5592 Val Loss: 0.4165\n",
      "Epoch 087 | Fold 2 | Train Acc: 0.6571 | Val Acc: 0.7257 | Train loss: 0.5672 Val Loss: 0.4141\n",
      "Epoch 088 | Fold 2 | Train Acc: 0.6651 | Val Acc: 0.7257 | Train loss: 0.5556 Val Loss: 0.4164\n",
      "Epoch 089 | Fold 2 | Train Acc: 0.6614 | Val Acc: 0.7257 | Train loss: 0.5775 Val Loss: 0.4202\n",
      "Epoch 090 | Fold 2 | Train Acc: 0.6640 | Val Acc: 0.7212 | Train loss: 0.5751 Val Loss: 0.4179\n",
      "Epoch 091 | Fold 2 | Train Acc: 0.6630 | Val Acc: 0.7279 | Train loss: 0.5672 Val Loss: 0.4223\n",
      "Epoch 092 | Fold 2 | Train Acc: 0.6635 | Val Acc: 0.7257 | Train loss: 0.5657 Val Loss: 0.4176\n",
      "Epoch 093 | Fold 2 | Train Acc: 0.6598 | Val Acc: 0.7257 | Train loss: 0.5650 Val Loss: 0.4155\n",
      "Epoch 094 | Fold 2 | Train Acc: 0.6693 | Val Acc: 0.7257 | Train loss: 0.5305 Val Loss: 0.4135\n",
      "Epoch 095 | Fold 2 | Train Acc: 0.6693 | Val Acc: 0.7257 | Train loss: 0.5675 Val Loss: 0.4171\n",
      "Epoch 096 | Fold 2 | Train Acc: 0.6720 | Val Acc: 0.7257 | Train loss: 0.5461 Val Loss: 0.4183\n",
      "Epoch 097 | Fold 2 | Train Acc: 0.6651 | Val Acc: 0.7257 | Train loss: 0.5632 Val Loss: 0.4129\n",
      "Epoch 098 | Fold 2 | Train Acc: 0.6466 | Val Acc: 0.7257 | Train loss: 0.5721 Val Loss: 0.4129\n",
      "Epoch 099 | Fold 2 | Train Acc: 0.6667 | Val Acc: 0.7257 | Train loss: 0.5479 Val Loss: 0.4135\n",
      "Epoch 100 | Fold 2 | Train Acc: 0.6556 | Val Acc: 0.7257 | Train loss: 0.5614 Val Loss: 0.4173\n",
      "Epoch 101 | Fold 2 | Train Acc: 0.6672 | Val Acc: 0.7257 | Train loss: 0.5570 Val Loss: 0.4186\n",
      "Epoch 102 | Fold 2 | Train Acc: 0.6661 | Val Acc: 0.7257 | Train loss: 0.5576 Val Loss: 0.4180\n",
      "Epoch 103 | Fold 2 | Train Acc: 0.6587 | Val Acc: 0.7257 | Train loss: 0.5621 Val Loss: 0.4148\n",
      "Epoch 104 | Fold 2 | Train Acc: 0.6577 | Val Acc: 0.7279 | Train loss: 0.5591 Val Loss: 0.4178\n",
      "Epoch 105 | Fold 2 | Train Acc: 0.6640 | Val Acc: 0.7257 | Train loss: 0.5450 Val Loss: 0.4179\n",
      "Epoch 106 | Fold 2 | Train Acc: 0.6720 | Val Acc: 0.7257 | Train loss: 0.5600 Val Loss: 0.4161\n",
      "Epoch 107 | Fold 2 | Train Acc: 0.6561 | Val Acc: 0.7257 | Train loss: 0.5640 Val Loss: 0.4147\n",
      "Epoch 108 | Fold 2 | Train Acc: 0.6730 | Val Acc: 0.7257 | Train loss: 0.5448 Val Loss: 0.4127\n",
      "Epoch 109 | Fold 2 | Train Acc: 0.6434 | Val Acc: 0.7257 | Train loss: 0.5822 Val Loss: 0.4150\n",
      "Epoch 110 | Fold 2 | Train Acc: 0.6598 | Val Acc: 0.7279 | Train loss: 0.5742 Val Loss: 0.4198\n",
      "Epoch 111 | Fold 2 | Train Acc: 0.6646 | Val Acc: 0.7257 | Train loss: 0.5706 Val Loss: 0.4172\n",
      "Epoch 112 | Fold 2 | Train Acc: 0.6577 | Val Acc: 0.7257 | Train loss: 0.5718 Val Loss: 0.4153\n",
      "Epoch 113 | Fold 2 | Train Acc: 0.6661 | Val Acc: 0.7257 | Train loss: 0.5702 Val Loss: 0.4150\n",
      "Epoch 114 | Fold 2 | Train Acc: 0.6566 | Val Acc: 0.7279 | Train loss: 0.5802 Val Loss: 0.4208\n",
      "Epoch 115 | Fold 2 | Train Acc: 0.6529 | Val Acc: 0.7257 | Train loss: 0.5854 Val Loss: 0.4148\n",
      "Epoch 116 | Fold 2 | Train Acc: 0.6593 | Val Acc: 0.7279 | Train loss: 0.5678 Val Loss: 0.4177\n",
      "Epoch 117 | Fold 2 | Train Acc: 0.6751 | Val Acc: 0.7279 | Train loss: 0.5403 Val Loss: 0.4178\n",
      "Epoch 118 | Fold 2 | Train Acc: 0.6624 | Val Acc: 0.7257 | Train loss: 0.5461 Val Loss: 0.4139\n",
      "Epoch 119 | Fold 2 | Train Acc: 0.6667 | Val Acc: 0.7257 | Train loss: 0.5541 Val Loss: 0.4149\n",
      "Epoch 120 | Fold 2 | Train Acc: 0.6630 | Val Acc: 0.7257 | Train loss: 0.5554 Val Loss: 0.4179\n",
      "Epoch 121 | Fold 2 | Train Acc: 0.6661 | Val Acc: 0.7257 | Train loss: 0.5555 Val Loss: 0.4148\n",
      "Epoch 122 | Fold 2 | Train Acc: 0.6577 | Val Acc: 0.7279 | Train loss: 0.5577 Val Loss: 0.4179\n",
      "Epoch 123 | Fold 2 | Train Acc: 0.6545 | Val Acc: 0.7257 | Train loss: 0.5610 Val Loss: 0.4168\n",
      "Epoch 124 | Fold 2 | Train Acc: 0.6630 | Val Acc: 0.7257 | Train loss: 0.5564 Val Loss: 0.4175\n",
      "Epoch 125 | Fold 2 | Train Acc: 0.6677 | Val Acc: 0.7279 | Train loss: 0.5483 Val Loss: 0.4147\n",
      "Epoch 126 | Fold 2 | Train Acc: 0.6619 | Val Acc: 0.7279 | Train loss: 0.5355 Val Loss: 0.4131\n",
      "Epoch 127 | Fold 2 | Train Acc: 0.6582 | Val Acc: 0.7257 | Train loss: 0.5534 Val Loss: 0.4164\n",
      "Epoch 128 | Fold 2 | Train Acc: 0.6778 | Val Acc: 0.7257 | Train loss: 0.5419 Val Loss: 0.4133\n",
      "Epoch 129 | Fold 2 | Train Acc: 0.6667 | Val Acc: 0.7257 | Train loss: 0.5626 Val Loss: 0.4157\n",
      "Epoch 130 | Fold 2 | Train Acc: 0.6757 | Val Acc: 0.7279 | Train loss: 0.5428 Val Loss: 0.4166\n",
      "Epoch 131 | Fold 2 | Train Acc: 0.6688 | Val Acc: 0.7257 | Train loss: 0.5484 Val Loss: 0.4145\n",
      "Epoch 132 | Fold 2 | Train Acc: 0.6677 | Val Acc: 0.7279 | Train loss: 0.5452 Val Loss: 0.4144\n",
      "Epoch 133 | Fold 2 | Train Acc: 0.6693 | Val Acc: 0.7279 | Train loss: 0.5651 Val Loss: 0.4151\n",
      "Epoch 134 | Fold 2 | Train Acc: 0.6746 | Val Acc: 0.7257 | Train loss: 0.5386 Val Loss: 0.4150\n",
      "Epoch 135 | Fold 2 | Train Acc: 0.6852 | Val Acc: 0.7279 | Train loss: 0.5336 Val Loss: 0.4150\n",
      "Epoch 136 | Fold 2 | Train Acc: 0.6698 | Val Acc: 0.7257 | Train loss: 0.5537 Val Loss: 0.4141\n",
      "Epoch 137 | Fold 2 | Train Acc: 0.6730 | Val Acc: 0.7257 | Train loss: 0.5533 Val Loss: 0.4134\n",
      "Epoch 138 | Fold 2 | Train Acc: 0.6608 | Val Acc: 0.7257 | Train loss: 0.5689 Val Loss: 0.4138\n",
      " Early stopping at epoch 138 for fold 2\n",
      " Fold 2: Best Val Acc = 0.7257\n",
      "Epoch 001 | Fold 3 | Train Acc: 0.1922 | Val Acc: 0.3592 | Train loss: 1.3799 Val Loss: 1.3717\n",
      "Epoch 002 | Fold 3 | Train Acc: 0.2864 | Val Acc: 0.4032 | Train loss: 1.3578 Val Loss: 1.3586\n",
      "Epoch 003 | Fold 3 | Train Acc: 0.3292 | Val Acc: 0.4754 | Train loss: 1.3279 Val Loss: 1.3386\n",
      "Epoch 004 | Fold 3 | Train Acc: 0.4014 | Val Acc: 0.4771 | Train loss: 1.2708 Val Loss: 1.2990\n",
      "Epoch 005 | Fold 3 | Train Acc: 0.4205 | Val Acc: 0.4806 | Train loss: 1.1660 Val Loss: 1.1928\n",
      "Epoch 006 | Fold 3 | Train Acc: 0.4684 | Val Acc: 0.5511 | Train loss: 0.9226 Val Loss: 1.0358\n",
      "Epoch 007 | Fold 3 | Train Acc: 0.4972 | Val Acc: 0.5651 | Train loss: 0.7779 Val Loss: 0.9545\n",
      "Epoch 008 | Fold 3 | Train Acc: 0.6229 | Val Acc: 0.5599 | Train loss: 0.7435 Val Loss: 0.9095\n",
      "Epoch 009 | Fold 3 | Train Acc: 0.5056 | Val Acc: 0.5687 | Train loss: 0.7227 Val Loss: 0.8278\n",
      "Epoch 010 | Fold 3 | Train Acc: 0.5671 | Val Acc: 0.5739 | Train loss: 0.6787 Val Loss: 0.8702\n",
      "Epoch 011 | Fold 3 | Train Acc: 0.5902 | Val Acc: 0.5827 | Train loss: 0.6396 Val Loss: 0.8036\n",
      "Epoch 012 | Fold 3 | Train Acc: 0.5738 | Val Acc: 0.5757 | Train loss: 0.6534 Val Loss: 0.8048\n",
      "Epoch 013 | Fold 3 | Train Acc: 0.5891 | Val Acc: 0.6268 | Train loss: 0.6212 Val Loss: 0.7723\n",
      "Epoch 014 | Fold 3 | Train Acc: 0.5519 | Val Acc: 0.6127 | Train loss: 0.6358 Val Loss: 0.8007\n",
      "Epoch 015 | Fold 3 | Train Acc: 0.6048 | Val Acc: 0.6444 | Train loss: 0.6209 Val Loss: 0.7630\n",
      "Epoch 016 | Fold 3 | Train Acc: 0.5857 | Val Acc: 0.6831 | Train loss: 0.6121 Val Loss: 0.7835\n",
      "Epoch 017 | Fold 3 | Train Acc: 0.6218 | Val Acc: 0.6761 | Train loss: 0.6113 Val Loss: 0.7381\n",
      "Epoch 018 | Fold 3 | Train Acc: 0.6229 | Val Acc: 0.7025 | Train loss: 0.5868 Val Loss: 0.7554\n",
      "Epoch 019 | Fold 3 | Train Acc: 0.6398 | Val Acc: 0.7042 | Train loss: 0.5827 Val Loss: 0.7447\n",
      "Epoch 020 | Fold 3 | Train Acc: 0.6725 | Val Acc: 0.6831 | Train loss: 0.5859 Val Loss: 0.7722\n",
      "Epoch 021 | Fold 3 | Train Acc: 0.6663 | Val Acc: 0.6937 | Train loss: 0.5681 Val Loss: 0.7491\n",
      "Epoch 022 | Fold 3 | Train Acc: 0.6268 | Val Acc: 0.6725 | Train loss: 0.5886 Val Loss: 0.7510\n",
      "Epoch 023 | Fold 3 | Train Acc: 0.6680 | Val Acc: 0.7042 | Train loss: 0.5710 Val Loss: 0.7499\n",
      "Epoch 024 | Fold 3 | Train Acc: 0.6240 | Val Acc: 0.6725 | Train loss: 0.5868 Val Loss: 0.7518\n",
      "Epoch 025 | Fold 3 | Train Acc: 0.6719 | Val Acc: 0.7165 | Train loss: 0.6018 Val Loss: 0.7384\n",
      "Epoch 026 | Fold 3 | Train Acc: 0.6415 | Val Acc: 0.6708 | Train loss: 0.5721 Val Loss: 0.7376\n",
      "Epoch 027 | Fold 3 | Train Acc: 0.6522 | Val Acc: 0.7042 | Train loss: 0.5782 Val Loss: 0.7282\n",
      "Epoch 028 | Fold 3 | Train Acc: 0.6550 | Val Acc: 0.6831 | Train loss: 0.5624 Val Loss: 0.7372\n",
      "Epoch 029 | Fold 3 | Train Acc: 0.6928 | Val Acc: 0.7095 | Train loss: 0.5567 Val Loss: 0.7265\n",
      "Epoch 030 | Fold 3 | Train Acc: 0.6409 | Val Acc: 0.7183 | Train loss: 0.5639 Val Loss: 0.6760\n",
      "Epoch 031 | Fold 3 | Train Acc: 0.6618 | Val Acc: 0.6708 | Train loss: 0.5604 Val Loss: 0.7773\n",
      "Epoch 032 | Fold 3 | Train Acc: 0.6646 | Val Acc: 0.6884 | Train loss: 0.5409 Val Loss: 0.7168\n",
      "Epoch 033 | Fold 3 | Train Acc: 0.6674 | Val Acc: 0.7095 | Train loss: 0.5519 Val Loss: 0.6801\n",
      "Epoch 034 | Fold 3 | Train Acc: 0.6528 | Val Acc: 0.7113 | Train loss: 0.5601 Val Loss: 0.7264\n",
      "Epoch 035 | Fold 3 | Train Acc: 0.6623 | Val Acc: 0.7060 | Train loss: 0.5426 Val Loss: 0.6863\n",
      "Epoch 036 | Fold 3 | Train Acc: 0.6550 | Val Acc: 0.7095 | Train loss: 0.5580 Val Loss: 0.7101\n",
      "Epoch 037 | Fold 3 | Train Acc: 0.6533 | Val Acc: 0.7113 | Train loss: 0.5516 Val Loss: 0.6848\n",
      "Epoch 038 | Fold 3 | Train Acc: 0.6522 | Val Acc: 0.6989 | Train loss: 0.5560 Val Loss: 0.7290\n",
      "Epoch 039 | Fold 3 | Train Acc: 0.6793 | Val Acc: 0.7025 | Train loss: 0.5411 Val Loss: 0.7001\n",
      "Epoch 040 | Fold 3 | Train Acc: 0.6342 | Val Acc: 0.7165 | Train loss: 0.5273 Val Loss: 0.6768\n",
      "Epoch 041 | Fold 3 | Train Acc: 0.6685 | Val Acc: 0.6901 | Train loss: 0.5506 Val Loss: 0.7608\n",
      "Epoch 042 | Fold 3 | Train Acc: 0.6680 | Val Acc: 0.7077 | Train loss: 0.5649 Val Loss: 0.7077\n",
      "Epoch 043 | Fold 3 | Train Acc: 0.6511 | Val Acc: 0.7060 | Train loss: 0.5373 Val Loss: 0.6893\n",
      "Epoch 044 | Fold 3 | Train Acc: 0.6674 | Val Acc: 0.7113 | Train loss: 0.5231 Val Loss: 0.7083\n",
      "Epoch 045 | Fold 3 | Train Acc: 0.6719 | Val Acc: 0.7113 | Train loss: 0.5321 Val Loss: 0.7086\n",
      "Epoch 046 | Fold 3 | Train Acc: 0.6821 | Val Acc: 0.6937 | Train loss: 0.5505 Val Loss: 0.7304\n",
      "Epoch 047 | Fold 3 | Train Acc: 0.6725 | Val Acc: 0.7095 | Train loss: 0.5455 Val Loss: 0.6895\n",
      "Epoch 048 | Fold 3 | Train Acc: 0.6528 | Val Acc: 0.7095 | Train loss: 0.5140 Val Loss: 0.7020\n",
      "Epoch 049 | Fold 3 | Train Acc: 0.6708 | Val Acc: 0.6901 | Train loss: 0.5386 Val Loss: 0.7299\n",
      "Epoch 050 | Fold 3 | Train Acc: 0.6528 | Val Acc: 0.7130 | Train loss: 0.5247 Val Loss: 0.7004\n",
      "Epoch 051 | Fold 3 | Train Acc: 0.6793 | Val Acc: 0.7148 | Train loss: 0.5122 Val Loss: 0.7089\n",
      "Epoch 052 | Fold 3 | Train Acc: 0.6657 | Val Acc: 0.7095 | Train loss: 0.5331 Val Loss: 0.7078\n",
      "Epoch 053 | Fold 3 | Train Acc: 0.6697 | Val Acc: 0.7095 | Train loss: 0.5328 Val Loss: 0.7024\n",
      "Epoch 054 | Fold 3 | Train Acc: 0.6742 | Val Acc: 0.7095 | Train loss: 0.5172 Val Loss: 0.7029\n",
      "Epoch 055 | Fold 3 | Train Acc: 0.6708 | Val Acc: 0.7130 | Train loss: 0.5307 Val Loss: 0.7102\n",
      "Epoch 056 | Fold 3 | Train Acc: 0.6815 | Val Acc: 0.7113 | Train loss: 0.5109 Val Loss: 0.7066\n",
      "Epoch 057 | Fold 3 | Train Acc: 0.6635 | Val Acc: 0.7130 | Train loss: 0.5123 Val Loss: 0.7031\n",
      "Epoch 058 | Fold 3 | Train Acc: 0.6629 | Val Acc: 0.7113 | Train loss: 0.5209 Val Loss: 0.6945\n",
      "Epoch 059 | Fold 3 | Train Acc: 0.6685 | Val Acc: 0.6937 | Train loss: 0.5257 Val Loss: 0.7164\n",
      "Epoch 060 | Fold 3 | Train Acc: 0.6708 | Val Acc: 0.7113 | Train loss: 0.5104 Val Loss: 0.7023\n",
      " Early stopping at epoch 60 for fold 3\n",
      " Fold 3: Best Val Acc = 0.7183\n",
      "Epoch 001 | Fold 4 | Train Acc: 0.1696 | Val Acc: 0.2283 | Train loss: 1.3821 Val Loss: 1.3704\n",
      "Epoch 002 | Fold 4 | Train Acc: 0.2799 | Val Acc: 0.3790 | Train loss: 1.3620 Val Loss: 1.3486\n",
      "Epoch 003 | Fold 4 | Train Acc: 0.3382 | Val Acc: 0.3744 | Train loss: 1.3408 Val Loss: 1.3178\n",
      "Epoch 004 | Fold 4 | Train Acc: 0.3655 | Val Acc: 0.5411 | Train loss: 1.3047 Val Loss: 1.2537\n",
      "Epoch 005 | Fold 4 | Train Acc: 0.4811 | Val Acc: 0.4817 | Train loss: 1.2356 Val Loss: 1.1232\n",
      "Epoch 006 | Fold 4 | Train Acc: 0.4013 | Val Acc: 0.4817 | Train loss: 1.0966 Val Loss: 0.8848\n",
      "Epoch 007 | Fold 4 | Train Acc: 0.4774 | Val Acc: 0.5502 | Train loss: 0.9093 Val Loss: 0.7127\n",
      "Epoch 008 | Fold 4 | Train Acc: 0.4816 | Val Acc: 0.5776 | Train loss: 0.8402 Val Loss: 0.6375\n",
      "Epoch 009 | Fold 4 | Train Acc: 0.5284 | Val Acc: 0.5662 | Train loss: 0.7795 Val Loss: 0.6088\n",
      "Epoch 010 | Fold 4 | Train Acc: 0.5320 | Val Acc: 0.5639 | Train loss: 0.7288 Val Loss: 0.5901\n",
      "Epoch 011 | Fold 4 | Train Acc: 0.5121 | Val Acc: 0.5662 | Train loss: 0.7136 Val Loss: 0.5737\n",
      "Epoch 012 | Fold 4 | Train Acc: 0.5179 | Val Acc: 0.5594 | Train loss: 0.7162 Val Loss: 0.5541\n",
      "Epoch 013 | Fold 4 | Train Acc: 0.5273 | Val Acc: 0.5662 | Train loss: 0.6851 Val Loss: 0.5467\n",
      "Epoch 014 | Fold 4 | Train Acc: 0.5662 | Val Acc: 0.6507 | Train loss: 0.6893 Val Loss: 0.5295\n",
      "Epoch 015 | Fold 4 | Train Acc: 0.5798 | Val Acc: 0.6256 | Train loss: 0.6610 Val Loss: 0.5368\n",
      "Epoch 016 | Fold 4 | Train Acc: 0.5893 | Val Acc: 0.6005 | Train loss: 0.6548 Val Loss: 0.5206\n",
      "Epoch 017 | Fold 4 | Train Acc: 0.5483 | Val Acc: 0.6119 | Train loss: 0.6608 Val Loss: 0.5338\n",
      "Epoch 018 | Fold 4 | Train Acc: 0.6008 | Val Acc: 0.7055 | Train loss: 0.6600 Val Loss: 0.5081\n",
      "Epoch 019 | Fold 4 | Train Acc: 0.5977 | Val Acc: 0.6256 | Train loss: 0.6267 Val Loss: 0.5190\n",
      "Epoch 020 | Fold 4 | Train Acc: 0.5783 | Val Acc: 0.6781 | Train loss: 0.6436 Val Loss: 0.5072\n",
      "Epoch 021 | Fold 4 | Train Acc: 0.6313 | Val Acc: 0.6735 | Train loss: 0.6254 Val Loss: 0.5030\n",
      "Epoch 022 | Fold 4 | Train Acc: 0.6119 | Val Acc: 0.6598 | Train loss: 0.6410 Val Loss: 0.5053\n",
      "Epoch 023 | Fold 4 | Train Acc: 0.6197 | Val Acc: 0.6689 | Train loss: 0.5977 Val Loss: 0.5015\n",
      "Epoch 024 | Fold 4 | Train Acc: 0.6203 | Val Acc: 0.6781 | Train loss: 0.6166 Val Loss: 0.5020\n",
      "Epoch 025 | Fold 4 | Train Acc: 0.6203 | Val Acc: 0.6712 | Train loss: 0.6318 Val Loss: 0.4921\n",
      "Epoch 026 | Fold 4 | Train Acc: 0.6192 | Val Acc: 0.6918 | Train loss: 0.6207 Val Loss: 0.4892\n",
      "Epoch 027 | Fold 4 | Train Acc: 0.6140 | Val Acc: 0.6781 | Train loss: 0.5910 Val Loss: 0.4994\n",
      "Epoch 028 | Fold 4 | Train Acc: 0.6381 | Val Acc: 0.6758 | Train loss: 0.6172 Val Loss: 0.4920\n",
      "Epoch 029 | Fold 4 | Train Acc: 0.6071 | Val Acc: 0.6781 | Train loss: 0.6212 Val Loss: 0.4908\n",
      "Epoch 030 | Fold 4 | Train Acc: 0.6255 | Val Acc: 0.6758 | Train loss: 0.5997 Val Loss: 0.4947\n",
      "Epoch 031 | Fold 4 | Train Acc: 0.6292 | Val Acc: 0.7055 | Train loss: 0.5965 Val Loss: 0.4812\n",
      "Epoch 032 | Fold 4 | Train Acc: 0.6350 | Val Acc: 0.6872 | Train loss: 0.5876 Val Loss: 0.4862\n",
      "Epoch 033 | Fold 4 | Train Acc: 0.6255 | Val Acc: 0.6895 | Train loss: 0.5925 Val Loss: 0.4844\n",
      "Epoch 034 | Fold 4 | Train Acc: 0.6324 | Val Acc: 0.6941 | Train loss: 0.5817 Val Loss: 0.4807\n",
      "Epoch 035 | Fold 4 | Train Acc: 0.6513 | Val Acc: 0.7009 | Train loss: 0.5774 Val Loss: 0.4795\n",
      "Epoch 036 | Fold 4 | Train Acc: 0.6460 | Val Acc: 0.6804 | Train loss: 0.5906 Val Loss: 0.4897\n",
      "Epoch 037 | Fold 4 | Train Acc: 0.6345 | Val Acc: 0.6872 | Train loss: 0.6044 Val Loss: 0.4856\n",
      "Epoch 038 | Fold 4 | Train Acc: 0.6408 | Val Acc: 0.6872 | Train loss: 0.5814 Val Loss: 0.4840\n",
      "Epoch 039 | Fold 4 | Train Acc: 0.6434 | Val Acc: 0.7009 | Train loss: 0.5903 Val Loss: 0.4795\n",
      "Epoch 040 | Fold 4 | Train Acc: 0.6371 | Val Acc: 0.6941 | Train loss: 0.6000 Val Loss: 0.4805\n",
      "Epoch 041 | Fold 4 | Train Acc: 0.6460 | Val Acc: 0.6986 | Train loss: 0.5779 Val Loss: 0.4789\n",
      "Epoch 042 | Fold 4 | Train Acc: 0.6329 | Val Acc: 0.7100 | Train loss: 0.5829 Val Loss: 0.4717\n",
      "Epoch 043 | Fold 4 | Train Acc: 0.6434 | Val Acc: 0.6986 | Train loss: 0.5686 Val Loss: 0.4808\n",
      "Epoch 044 | Fold 4 | Train Acc: 0.6423 | Val Acc: 0.6986 | Train loss: 0.5715 Val Loss: 0.4853\n",
      "Epoch 045 | Fold 4 | Train Acc: 0.6497 | Val Acc: 0.6918 | Train loss: 0.5630 Val Loss: 0.4756\n",
      "Epoch 046 | Fold 4 | Train Acc: 0.6276 | Val Acc: 0.7009 | Train loss: 0.6032 Val Loss: 0.4750\n",
      "Epoch 047 | Fold 4 | Train Acc: 0.6381 | Val Acc: 0.7009 | Train loss: 0.5646 Val Loss: 0.4734\n",
      "Epoch 048 | Fold 4 | Train Acc: 0.6528 | Val Acc: 0.7078 | Train loss: 0.5663 Val Loss: 0.4712\n",
      "Epoch 049 | Fold 4 | Train Acc: 0.6460 | Val Acc: 0.6986 | Train loss: 0.5807 Val Loss: 0.4779\n",
      "Epoch 050 | Fold 4 | Train Acc: 0.6387 | Val Acc: 0.7032 | Train loss: 0.5713 Val Loss: 0.4768\n",
      "Epoch 051 | Fold 4 | Train Acc: 0.6544 | Val Acc: 0.7009 | Train loss: 0.5659 Val Loss: 0.4698\n",
      "Epoch 052 | Fold 4 | Train Acc: 0.6518 | Val Acc: 0.7009 | Train loss: 0.5634 Val Loss: 0.4735\n",
      "Epoch 053 | Fold 4 | Train Acc: 0.6549 | Val Acc: 0.7009 | Train loss: 0.5635 Val Loss: 0.4752\n",
      "Epoch 054 | Fold 4 | Train Acc: 0.6397 | Val Acc: 0.7009 | Train loss: 0.5503 Val Loss: 0.4717\n",
      "Epoch 055 | Fold 4 | Train Acc: 0.6402 | Val Acc: 0.7009 | Train loss: 0.5738 Val Loss: 0.4731\n",
      "Epoch 056 | Fold 4 | Train Acc: 0.6591 | Val Acc: 0.7009 | Train loss: 0.5602 Val Loss: 0.4744\n",
      "Epoch 057 | Fold 4 | Train Acc: 0.6429 | Val Acc: 0.6986 | Train loss: 0.5585 Val Loss: 0.4755\n",
      "Epoch 058 | Fold 4 | Train Acc: 0.6576 | Val Acc: 0.6986 | Train loss: 0.5591 Val Loss: 0.4730\n",
      "Epoch 059 | Fold 4 | Train Acc: 0.6560 | Val Acc: 0.7009 | Train loss: 0.5662 Val Loss: 0.4706\n",
      "Epoch 060 | Fold 4 | Train Acc: 0.6712 | Val Acc: 0.7009 | Train loss: 0.5507 Val Loss: 0.4678\n",
      "Epoch 061 | Fold 4 | Train Acc: 0.6549 | Val Acc: 0.7009 | Train loss: 0.5517 Val Loss: 0.4753\n",
      "Epoch 062 | Fold 4 | Train Acc: 0.6497 | Val Acc: 0.7009 | Train loss: 0.5489 Val Loss: 0.4733\n",
      "Epoch 063 | Fold 4 | Train Acc: 0.6759 | Val Acc: 0.7009 | Train loss: 0.5524 Val Loss: 0.4742\n",
      "Epoch 064 | Fold 4 | Train Acc: 0.6555 | Val Acc: 0.6986 | Train loss: 0.5629 Val Loss: 0.4757\n",
      "Epoch 065 | Fold 4 | Train Acc: 0.6618 | Val Acc: 0.6986 | Train loss: 0.5427 Val Loss: 0.4713\n",
      "Epoch 066 | Fold 4 | Train Acc: 0.6749 | Val Acc: 0.6986 | Train loss: 0.5648 Val Loss: 0.4745\n",
      "Epoch 067 | Fold 4 | Train Acc: 0.6649 | Val Acc: 0.7009 | Train loss: 0.5489 Val Loss: 0.4758\n",
      "Epoch 068 | Fold 4 | Train Acc: 0.6660 | Val Acc: 0.7032 | Train loss: 0.5411 Val Loss: 0.4740\n",
      "Epoch 069 | Fold 4 | Train Acc: 0.6686 | Val Acc: 0.6986 | Train loss: 0.5513 Val Loss: 0.4725\n",
      "Epoch 070 | Fold 4 | Train Acc: 0.6681 | Val Acc: 0.7146 | Train loss: 0.5504 Val Loss: 0.4714\n",
      "Epoch 071 | Fold 4 | Train Acc: 0.6633 | Val Acc: 0.7009 | Train loss: 0.5406 Val Loss: 0.4747\n",
      "Epoch 072 | Fold 4 | Train Acc: 0.6775 | Val Acc: 0.6986 | Train loss: 0.5470 Val Loss: 0.4714\n",
      "Epoch 073 | Fold 4 | Train Acc: 0.6644 | Val Acc: 0.7009 | Train loss: 0.5353 Val Loss: 0.4747\n",
      "Epoch 074 | Fold 4 | Train Acc: 0.6801 | Val Acc: 0.6986 | Train loss: 0.5405 Val Loss: 0.4679\n",
      "Epoch 075 | Fold 4 | Train Acc: 0.6775 | Val Acc: 0.6986 | Train loss: 0.5186 Val Loss: 0.4700\n",
      "Epoch 076 | Fold 4 | Train Acc: 0.6696 | Val Acc: 0.7032 | Train loss: 0.5408 Val Loss: 0.4712\n",
      "Epoch 077 | Fold 4 | Train Acc: 0.6775 | Val Acc: 0.7009 | Train loss: 0.5283 Val Loss: 0.4660\n",
      "Epoch 078 | Fold 4 | Train Acc: 0.6723 | Val Acc: 0.7009 | Train loss: 0.5428 Val Loss: 0.4695\n",
      "Epoch 079 | Fold 4 | Train Acc: 0.6849 | Val Acc: 0.7032 | Train loss: 0.5071 Val Loss: 0.4684\n",
      "Epoch 080 | Fold 4 | Train Acc: 0.6849 | Val Acc: 0.6986 | Train loss: 0.5148 Val Loss: 0.4693\n",
      "Epoch 081 | Fold 4 | Train Acc: 0.6754 | Val Acc: 0.7009 | Train loss: 0.5442 Val Loss: 0.4688\n",
      "Epoch 082 | Fold 4 | Train Acc: 0.6623 | Val Acc: 0.6986 | Train loss: 0.5335 Val Loss: 0.4683\n",
      "Epoch 083 | Fold 4 | Train Acc: 0.6717 | Val Acc: 0.6986 | Train loss: 0.5458 Val Loss: 0.4669\n",
      "Epoch 084 | Fold 4 | Train Acc: 0.6859 | Val Acc: 0.7123 | Train loss: 0.5219 Val Loss: 0.4667\n",
      "Epoch 085 | Fold 4 | Train Acc: 0.6618 | Val Acc: 0.6986 | Train loss: 0.5382 Val Loss: 0.4670\n",
      "Epoch 086 | Fold 4 | Train Acc: 0.6665 | Val Acc: 0.7032 | Train loss: 0.5290 Val Loss: 0.4692\n",
      "Epoch 087 | Fold 4 | Train Acc: 0.6765 | Val Acc: 0.7009 | Train loss: 0.5238 Val Loss: 0.4654\n",
      "Epoch 088 | Fold 4 | Train Acc: 0.6712 | Val Acc: 0.6986 | Train loss: 0.5535 Val Loss: 0.4673\n",
      "Epoch 089 | Fold 4 | Train Acc: 0.6707 | Val Acc: 0.7009 | Train loss: 0.5247 Val Loss: 0.4731\n",
      "Epoch 090 | Fold 4 | Train Acc: 0.6880 | Val Acc: 0.7032 | Train loss: 0.5204 Val Loss: 0.4690\n",
      "Epoch 091 | Fold 4 | Train Acc: 0.6717 | Val Acc: 0.7009 | Train loss: 0.5321 Val Loss: 0.4729\n",
      "Epoch 092 | Fold 4 | Train Acc: 0.6807 | Val Acc: 0.7146 | Train loss: 0.5184 Val Loss: 0.4665\n",
      "Epoch 093 | Fold 4 | Train Acc: 0.6985 | Val Acc: 0.7146 | Train loss: 0.5012 Val Loss: 0.4673\n",
      "Epoch 094 | Fold 4 | Train Acc: 0.6759 | Val Acc: 0.7032 | Train loss: 0.5258 Val Loss: 0.4706\n",
      "Epoch 095 | Fold 4 | Train Acc: 0.6822 | Val Acc: 0.7032 | Train loss: 0.5175 Val Loss: 0.4692\n",
      "Epoch 096 | Fold 4 | Train Acc: 0.6812 | Val Acc: 0.7009 | Train loss: 0.5337 Val Loss: 0.4692\n",
      "Epoch 097 | Fold 4 | Train Acc: 0.6807 | Val Acc: 0.7032 | Train loss: 0.5117 Val Loss: 0.4738\n",
      "Epoch 098 | Fold 4 | Train Acc: 0.6749 | Val Acc: 0.7055 | Train loss: 0.5234 Val Loss: 0.4655\n",
      "Epoch 099 | Fold 4 | Train Acc: 0.6928 | Val Acc: 0.7032 | Train loss: 0.5043 Val Loss: 0.4655\n",
      "Epoch 100 | Fold 4 | Train Acc: 0.6765 | Val Acc: 0.7032 | Train loss: 0.5258 Val Loss: 0.4698\n",
      "Epoch 101 | Fold 4 | Train Acc: 0.6812 | Val Acc: 0.7032 | Train loss: 0.5108 Val Loss: 0.4695\n",
      "Epoch 102 | Fold 4 | Train Acc: 0.6896 | Val Acc: 0.7032 | Train loss: 0.5175 Val Loss: 0.4664\n",
      "Epoch 103 | Fold 4 | Train Acc: 0.6812 | Val Acc: 0.7032 | Train loss: 0.5274 Val Loss: 0.4689\n",
      "Epoch 104 | Fold 4 | Train Acc: 0.6928 | Val Acc: 0.7169 | Train loss: 0.5200 Val Loss: 0.4679\n",
      "Epoch 105 | Fold 4 | Train Acc: 0.6859 | Val Acc: 0.7032 | Train loss: 0.5079 Val Loss: 0.4678\n",
      "Epoch 106 | Fold 4 | Train Acc: 0.6880 | Val Acc: 0.7032 | Train loss: 0.5071 Val Loss: 0.4670\n",
      "Epoch 107 | Fold 4 | Train Acc: 0.6812 | Val Acc: 0.7055 | Train loss: 0.5287 Val Loss: 0.4651\n",
      "Epoch 108 | Fold 4 | Train Acc: 0.6859 | Val Acc: 0.7032 | Train loss: 0.5104 Val Loss: 0.4650\n",
      "Epoch 109 | Fold 4 | Train Acc: 0.6896 | Val Acc: 0.7032 | Train loss: 0.5186 Val Loss: 0.4656\n",
      "Epoch 110 | Fold 4 | Train Acc: 0.6754 | Val Acc: 0.7032 | Train loss: 0.5253 Val Loss: 0.4670\n",
      "Epoch 111 | Fold 4 | Train Acc: 0.6880 | Val Acc: 0.7009 | Train loss: 0.5258 Val Loss: 0.4671\n",
      "Epoch 112 | Fold 4 | Train Acc: 0.6828 | Val Acc: 0.7009 | Train loss: 0.5096 Val Loss: 0.4676\n",
      "Epoch 113 | Fold 4 | Train Acc: 0.6807 | Val Acc: 0.7009 | Train loss: 0.5069 Val Loss: 0.4693\n",
      "Epoch 114 | Fold 4 | Train Acc: 0.6980 | Val Acc: 0.7032 | Train loss: 0.5070 Val Loss: 0.4651\n",
      "Epoch 115 | Fold 4 | Train Acc: 0.6964 | Val Acc: 0.7215 | Train loss: 0.5279 Val Loss: 0.4638\n",
      "Epoch 116 | Fold 4 | Train Acc: 0.6833 | Val Acc: 0.7032 | Train loss: 0.5122 Val Loss: 0.4654\n",
      "Epoch 117 | Fold 4 | Train Acc: 0.6870 | Val Acc: 0.7032 | Train loss: 0.5137 Val Loss: 0.4660\n",
      "Epoch 118 | Fold 4 | Train Acc: 0.6843 | Val Acc: 0.7009 | Train loss: 0.5030 Val Loss: 0.4706\n",
      "Epoch 119 | Fold 4 | Train Acc: 0.6943 | Val Acc: 0.7009 | Train loss: 0.4939 Val Loss: 0.4666\n",
      "Epoch 120 | Fold 4 | Train Acc: 0.6770 | Val Acc: 0.7009 | Train loss: 0.5202 Val Loss: 0.4693\n",
      "Epoch 121 | Fold 4 | Train Acc: 0.6917 | Val Acc: 0.7009 | Train loss: 0.5177 Val Loss: 0.4650\n",
      "Epoch 122 | Fold 4 | Train Acc: 0.6886 | Val Acc: 0.7009 | Train loss: 0.4982 Val Loss: 0.4638\n",
      "Epoch 123 | Fold 4 | Train Acc: 0.6870 | Val Acc: 0.7009 | Train loss: 0.5137 Val Loss: 0.4657\n",
      "Epoch 124 | Fold 4 | Train Acc: 0.6775 | Val Acc: 0.7009 | Train loss: 0.5111 Val Loss: 0.4680\n",
      "Epoch 125 | Fold 4 | Train Acc: 0.6886 | Val Acc: 0.7032 | Train loss: 0.5127 Val Loss: 0.4660\n",
      "Epoch 126 | Fold 4 | Train Acc: 0.6843 | Val Acc: 0.7055 | Train loss: 0.5101 Val Loss: 0.4652\n",
      "Epoch 127 | Fold 4 | Train Acc: 0.6938 | Val Acc: 0.7009 | Train loss: 0.5146 Val Loss: 0.4648\n",
      "Epoch 128 | Fold 4 | Train Acc: 0.6870 | Val Acc: 0.7032 | Train loss: 0.5121 Val Loss: 0.4668\n",
      "Epoch 129 | Fold 4 | Train Acc: 0.6922 | Val Acc: 0.7032 | Train loss: 0.5160 Val Loss: 0.4661\n",
      "Epoch 130 | Fold 4 | Train Acc: 0.6938 | Val Acc: 0.7032 | Train loss: 0.5112 Val Loss: 0.4655\n",
      "Epoch 131 | Fold 4 | Train Acc: 0.6859 | Val Acc: 0.7009 | Train loss: 0.5127 Val Loss: 0.4668\n",
      "Epoch 132 | Fold 4 | Train Acc: 0.6886 | Val Acc: 0.7009 | Train loss: 0.5087 Val Loss: 0.4663\n",
      "Epoch 133 | Fold 4 | Train Acc: 0.6859 | Val Acc: 0.7032 | Train loss: 0.5181 Val Loss: 0.4659\n",
      "Epoch 134 | Fold 4 | Train Acc: 0.6864 | Val Acc: 0.7032 | Train loss: 0.5075 Val Loss: 0.4653\n",
      "Epoch 135 | Fold 4 | Train Acc: 0.6991 | Val Acc: 0.7032 | Train loss: 0.5010 Val Loss: 0.4659\n",
      "Epoch 136 | Fold 4 | Train Acc: 0.6970 | Val Acc: 0.7032 | Train loss: 0.5040 Val Loss: 0.4657\n",
      "Epoch 137 | Fold 4 | Train Acc: 0.7033 | Val Acc: 0.7032 | Train loss: 0.5092 Val Loss: 0.4650\n",
      "Epoch 138 | Fold 4 | Train Acc: 0.6817 | Val Acc: 0.7032 | Train loss: 0.5112 Val Loss: 0.4658\n",
      "Epoch 139 | Fold 4 | Train Acc: 0.6928 | Val Acc: 0.7032 | Train loss: 0.5108 Val Loss: 0.4656\n",
      "Epoch 140 | Fold 4 | Train Acc: 0.6991 | Val Acc: 0.7032 | Train loss: 0.5044 Val Loss: 0.4671\n",
      "Epoch 141 | Fold 4 | Train Acc: 0.6886 | Val Acc: 0.7032 | Train loss: 0.4953 Val Loss: 0.4665\n",
      "Epoch 142 | Fold 4 | Train Acc: 0.6870 | Val Acc: 0.7032 | Train loss: 0.5149 Val Loss: 0.4668\n",
      "Epoch 143 | Fold 4 | Train Acc: 0.6875 | Val Acc: 0.7032 | Train loss: 0.4999 Val Loss: 0.4658\n",
      "Epoch 144 | Fold 4 | Train Acc: 0.6891 | Val Acc: 0.7032 | Train loss: 0.5231 Val Loss: 0.4664\n",
      "Epoch 145 | Fold 4 | Train Acc: 0.6975 | Val Acc: 0.7032 | Train loss: 0.5012 Val Loss: 0.4666\n",
      " Early stopping at epoch 145 for fold 4\n",
      " Fold 4: Best Val Acc = 0.7215\n",
      "Epoch 001 | Fold 5 | Train Acc: 0.4178 | Val Acc: 0.5194 | Train loss: 1.3836 Val Loss: 1.3681\n",
      "Epoch 002 | Fold 5 | Train Acc: 0.3305 | Val Acc: 0.2226 | Train loss: 1.3619 Val Loss: 1.3741\n",
      "Epoch 003 | Fold 5 | Train Acc: 0.4077 | Val Acc: 0.5318 | Train loss: 1.3345 Val Loss: 1.3255\n",
      "Epoch 004 | Fold 5 | Train Acc: 0.4685 | Val Acc: 0.3834 | Train loss: 1.2820 Val Loss: 1.2756\n",
      "Epoch 005 | Fold 5 | Train Acc: 0.5056 | Val Acc: 0.5177 | Train loss: 1.1711 Val Loss: 1.1082\n",
      "Epoch 006 | Fold 5 | Train Acc: 0.5400 | Val Acc: 0.4170 | Train loss: 0.9801 Val Loss: 0.9182\n",
      "Epoch 007 | Fold 5 | Train Acc: 0.5405 | Val Acc: 0.5777 | Train loss: 0.8212 Val Loss: 0.7748\n",
      "Epoch 008 | Fold 5 | Train Acc: 0.5794 | Val Acc: 0.5194 | Train loss: 0.7709 Val Loss: 0.7555\n",
      "Epoch 009 | Fold 5 | Train Acc: 0.5861 | Val Acc: 0.5194 | Train loss: 0.7408 Val Loss: 0.7129\n",
      "Epoch 010 | Fold 5 | Train Acc: 0.5968 | Val Acc: 0.4682 | Train loss: 0.7196 Val Loss: 0.7022\n",
      "Epoch 011 | Fold 5 | Train Acc: 0.6289 | Val Acc: 0.4929 | Train loss: 0.6663 Val Loss: 0.6694\n",
      "Epoch 012 | Fold 5 | Train Acc: 0.6047 | Val Acc: 0.4770 | Train loss: 0.6720 Val Loss: 0.6844\n",
      "Epoch 013 | Fold 5 | Train Acc: 0.6385 | Val Acc: 0.4876 | Train loss: 0.6633 Val Loss: 0.6707\n",
      "Epoch 014 | Fold 5 | Train Acc: 0.6256 | Val Acc: 0.5141 | Train loss: 0.6690 Val Loss: 0.6436\n",
      "Epoch 015 | Fold 5 | Train Acc: 0.6464 | Val Acc: 0.5194 | Train loss: 0.6377 Val Loss: 0.6406\n",
      "Epoch 016 | Fold 5 | Train Acc: 0.6509 | Val Acc: 0.5018 | Train loss: 0.6305 Val Loss: 0.6591\n",
      "Epoch 017 | Fold 5 | Train Acc: 0.6385 | Val Acc: 0.6201 | Train loss: 0.6391 Val Loss: 0.6050\n",
      "Epoch 018 | Fold 5 | Train Acc: 0.6622 | Val Acc: 0.5283 | Train loss: 0.6192 Val Loss: 0.6355\n",
      "Epoch 019 | Fold 5 | Train Acc: 0.6734 | Val Acc: 0.6184 | Train loss: 0.6271 Val Loss: 0.5963\n",
      "Epoch 020 | Fold 5 | Train Acc: 0.6458 | Val Acc: 0.6184 | Train loss: 0.6402 Val Loss: 0.5945\n",
      "Epoch 021 | Fold 5 | Train Acc: 0.6650 | Val Acc: 0.5724 | Train loss: 0.6222 Val Loss: 0.6139\n",
      "Epoch 022 | Fold 5 | Train Acc: 0.6464 | Val Acc: 0.6272 | Train loss: 0.6234 Val Loss: 0.5830\n",
      "Epoch 023 | Fold 5 | Train Acc: 0.6639 | Val Acc: 0.6325 | Train loss: 0.6078 Val Loss: 0.5709\n",
      "Epoch 024 | Fold 5 | Train Acc: 0.6622 | Val Acc: 0.5477 | Train loss: 0.6134 Val Loss: 0.6426\n",
      "Epoch 025 | Fold 5 | Train Acc: 0.6582 | Val Acc: 0.6219 | Train loss: 0.5978 Val Loss: 0.5827\n",
      "Epoch 026 | Fold 5 | Train Acc: 0.6554 | Val Acc: 0.5866 | Train loss: 0.6049 Val Loss: 0.6380\n",
      "Epoch 027 | Fold 5 | Train Acc: 0.6622 | Val Acc: 0.6254 | Train loss: 0.6129 Val Loss: 0.5828\n",
      "Epoch 028 | Fold 5 | Train Acc: 0.6774 | Val Acc: 0.6148 | Train loss: 0.6229 Val Loss: 0.6012\n",
      "Epoch 029 | Fold 5 | Train Acc: 0.6391 | Val Acc: 0.6237 | Train loss: 0.6209 Val Loss: 0.5946\n",
      "Epoch 030 | Fold 5 | Train Acc: 0.6700 | Val Acc: 0.6307 | Train loss: 0.6197 Val Loss: 0.5554\n",
      "Epoch 031 | Fold 5 | Train Acc: 0.6819 | Val Acc: 0.6237 | Train loss: 0.5888 Val Loss: 0.6007\n",
      "Epoch 032 | Fold 5 | Train Acc: 0.6852 | Val Acc: 0.6307 | Train loss: 0.5670 Val Loss: 0.5766\n",
      "Epoch 033 | Fold 5 | Train Acc: 0.6712 | Val Acc: 0.6166 | Train loss: 0.6084 Val Loss: 0.5922\n",
      "Epoch 034 | Fold 5 | Train Acc: 0.6588 | Val Acc: 0.6184 | Train loss: 0.5859 Val Loss: 0.5958\n",
      "Epoch 035 | Fold 5 | Train Acc: 0.6852 | Val Acc: 0.6254 | Train loss: 0.5885 Val Loss: 0.5818\n",
      "Epoch 036 | Fold 5 | Train Acc: 0.6745 | Val Acc: 0.6237 | Train loss: 0.5950 Val Loss: 0.5723\n",
      "Epoch 037 | Fold 5 | Train Acc: 0.6774 | Val Acc: 0.6325 | Train loss: 0.5909 Val Loss: 0.5490\n",
      "Epoch 038 | Fold 5 | Train Acc: 0.6706 | Val Acc: 0.5972 | Train loss: 0.6027 Val Loss: 0.6043\n",
      "Epoch 039 | Fold 5 | Train Acc: 0.6864 | Val Acc: 0.6307 | Train loss: 0.5807 Val Loss: 0.5614\n",
      "Epoch 040 | Fold 5 | Train Acc: 0.6684 | Val Acc: 0.6290 | Train loss: 0.5661 Val Loss: 0.5692\n",
      "Epoch 041 | Fold 5 | Train Acc: 0.6948 | Val Acc: 0.6272 | Train loss: 0.5803 Val Loss: 0.5883\n",
      "Epoch 042 | Fold 5 | Train Acc: 0.6869 | Val Acc: 0.6325 | Train loss: 0.5622 Val Loss: 0.5509\n",
      "Epoch 043 | Fold 5 | Train Acc: 0.6914 | Val Acc: 0.6272 | Train loss: 0.5684 Val Loss: 0.5621\n",
      "Epoch 044 | Fold 5 | Train Acc: 0.6706 | Val Acc: 0.6272 | Train loss: 0.5758 Val Loss: 0.5596\n",
      "Epoch 045 | Fold 5 | Train Acc: 0.6898 | Val Acc: 0.6290 | Train loss: 0.5667 Val Loss: 0.5573\n",
      "Epoch 046 | Fold 5 | Train Acc: 0.6886 | Val Acc: 0.6060 | Train loss: 0.5820 Val Loss: 0.5966\n",
      "Epoch 047 | Fold 5 | Train Acc: 0.6836 | Val Acc: 0.6307 | Train loss: 0.5724 Val Loss: 0.5559\n",
      "Epoch 048 | Fold 5 | Train Acc: 0.7010 | Val Acc: 0.6343 | Train loss: 0.5410 Val Loss: 0.5477\n",
      "Epoch 049 | Fold 5 | Train Acc: 0.6875 | Val Acc: 0.6378 | Train loss: 0.5704 Val Loss: 0.5766\n",
      "Epoch 050 | Fold 5 | Train Acc: 0.6943 | Val Acc: 0.6307 | Train loss: 0.5555 Val Loss: 0.5514\n",
      "Epoch 051 | Fold 5 | Train Acc: 0.6948 | Val Acc: 0.6307 | Train loss: 0.5572 Val Loss: 0.5501\n",
      "Epoch 052 | Fold 5 | Train Acc: 0.6836 | Val Acc: 0.6307 | Train loss: 0.5606 Val Loss: 0.5639\n",
      "Epoch 053 | Fold 5 | Train Acc: 0.6819 | Val Acc: 0.6360 | Train loss: 0.5596 Val Loss: 0.5338\n",
      "Epoch 054 | Fold 5 | Train Acc: 0.6909 | Val Acc: 0.6095 | Train loss: 0.5623 Val Loss: 0.5776\n",
      "Epoch 055 | Fold 5 | Train Acc: 0.6959 | Val Acc: 0.6325 | Train loss: 0.5422 Val Loss: 0.5551\n",
      "Epoch 056 | Fold 5 | Train Acc: 0.7010 | Val Acc: 0.6343 | Train loss: 0.5539 Val Loss: 0.5515\n",
      "Epoch 057 | Fold 5 | Train Acc: 0.6740 | Val Acc: 0.6343 | Train loss: 0.5590 Val Loss: 0.5486\n",
      "Epoch 058 | Fold 5 | Train Acc: 0.6909 | Val Acc: 0.6184 | Train loss: 0.5570 Val Loss: 0.5807\n",
      "Epoch 059 | Fold 5 | Train Acc: 0.6858 | Val Acc: 0.6396 | Train loss: 0.5576 Val Loss: 0.5557\n",
      "Epoch 060 | Fold 5 | Train Acc: 0.6999 | Val Acc: 0.6272 | Train loss: 0.5610 Val Loss: 0.5788\n",
      "Epoch 061 | Fold 5 | Train Acc: 0.6869 | Val Acc: 0.6413 | Train loss: 0.5398 Val Loss: 0.5392\n",
      "Epoch 062 | Fold 5 | Train Acc: 0.6982 | Val Acc: 0.6113 | Train loss: 0.5537 Val Loss: 0.5594\n",
      "Epoch 063 | Fold 5 | Train Acc: 0.6982 | Val Acc: 0.6272 | Train loss: 0.5569 Val Loss: 0.5619\n",
      "Epoch 064 | Fold 5 | Train Acc: 0.6999 | Val Acc: 0.6360 | Train loss: 0.5398 Val Loss: 0.5692\n",
      "Epoch 065 | Fold 5 | Train Acc: 0.7027 | Val Acc: 0.6343 | Train loss: 0.5554 Val Loss: 0.5353\n",
      "Epoch 066 | Fold 5 | Train Acc: 0.7044 | Val Acc: 0.6325 | Train loss: 0.5493 Val Loss: 0.5536\n",
      "Epoch 067 | Fold 5 | Train Acc: 0.7050 | Val Acc: 0.6325 | Train loss: 0.5465 Val Loss: 0.5535\n",
      "Epoch 068 | Fold 5 | Train Acc: 0.6976 | Val Acc: 0.6325 | Train loss: 0.5395 Val Loss: 0.5427\n",
      "Epoch 069 | Fold 5 | Train Acc: 0.7066 | Val Acc: 0.6325 | Train loss: 0.5250 Val Loss: 0.5529\n",
      "Epoch 070 | Fold 5 | Train Acc: 0.7123 | Val Acc: 0.6343 | Train loss: 0.5426 Val Loss: 0.5395\n",
      "Epoch 071 | Fold 5 | Train Acc: 0.7089 | Val Acc: 0.6307 | Train loss: 0.5405 Val Loss: 0.5409\n",
      "Epoch 072 | Fold 5 | Train Acc: 0.7033 | Val Acc: 0.6325 | Train loss: 0.5323 Val Loss: 0.5558\n",
      "Epoch 073 | Fold 5 | Train Acc: 0.7179 | Val Acc: 0.6325 | Train loss: 0.5342 Val Loss: 0.5532\n",
      "Epoch 074 | Fold 5 | Train Acc: 0.7050 | Val Acc: 0.6325 | Train loss: 0.5453 Val Loss: 0.5561\n",
      "Epoch 075 | Fold 5 | Train Acc: 0.7252 | Val Acc: 0.6343 | Train loss: 0.5125 Val Loss: 0.5374\n",
      "Epoch 076 | Fold 5 | Train Acc: 0.7089 | Val Acc: 0.6325 | Train loss: 0.5388 Val Loss: 0.5512\n",
      "Epoch 077 | Fold 5 | Train Acc: 0.7089 | Val Acc: 0.6325 | Train loss: 0.5272 Val Loss: 0.5621\n",
      "Epoch 078 | Fold 5 | Train Acc: 0.7061 | Val Acc: 0.6360 | Train loss: 0.5352 Val Loss: 0.5513\n",
      "Epoch 079 | Fold 5 | Train Acc: 0.7089 | Val Acc: 0.6360 | Train loss: 0.5356 Val Loss: 0.5567\n",
      "Epoch 080 | Fold 5 | Train Acc: 0.7061 | Val Acc: 0.6325 | Train loss: 0.5416 Val Loss: 0.5582\n",
      "Epoch 081 | Fold 5 | Train Acc: 0.7095 | Val Acc: 0.6360 | Train loss: 0.5281 Val Loss: 0.5473\n",
      "Epoch 082 | Fold 5 | Train Acc: 0.7128 | Val Acc: 0.6360 | Train loss: 0.5407 Val Loss: 0.5439\n"
     ]
    },
    {
     "name": "stderr",
     "output_type": "stream",
     "text": [
      "[I 2025-07-15 01:08:00,411] Trial 16 finished with value: 0.717528137604627 and parameters: {'hidden_channels': 256, 'num_layers': 2, 'heads': 1, 'dropout': 0.09613910035252272, 'hidden_dim': 256}. Best is trial 16 with value: 0.717528137604627.\n"
     ]
    },
    {
     "name": "stdout",
     "output_type": "stream",
     "text": [
      "Epoch 083 | Fold 5 | Train Acc: 0.7106 | Val Acc: 0.6325 | Train loss: 0.5177 Val Loss: 0.5482\n",
      " Early stopping at epoch 83 for fold 5\n",
      " Fold 5: Best Val Acc = 0.6360\n",
      "🏃 View run trial_16 at: http://127.0.0.1:5000/#/experiments/906754211394743286/runs/211c7c2976dd43a9acd98d95e45c6ab2\n",
      "🧪 View experiment at: http://127.0.0.1:5000/#/experiments/906754211394743286\n"
     ]
    },
    {
     "name": "stderr",
     "output_type": "stream",
     "text": [
      "[I 2025-07-15 01:08:01,332] Trial 17 pruned. \n"
     ]
    },
    {
     "name": "stdout",
     "output_type": "stream",
     "text": [
      "Epoch 001 | Fold 1 | Train Acc: 0.2816 | Val Acc: 0.2862 | Train loss: 1.3754 Val Loss: 1.3514\n",
      "🏃 View run trial_17 at: http://127.0.0.1:5000/#/experiments/906754211394743286/runs/496601ae384145e8a2c4c144c48a0d08\n",
      "🧪 View experiment at: http://127.0.0.1:5000/#/experiments/906754211394743286\n",
      "Epoch 001 | Fold 1 | Train Acc: 0.2184 | Val Acc: 0.3553 | Train loss: 1.3771 Val Loss: 1.3581\n",
      "Epoch 002 | Fold 1 | Train Acc: 0.2856 | Val Acc: 0.4780 | Train loss: 1.3661 Val Loss: 1.3448\n"
     ]
    },
    {
     "name": "stderr",
     "output_type": "stream",
     "text": [
      "[I 2025-07-15 01:08:03,065] Trial 18 pruned. \n"
     ]
    },
    {
     "name": "stdout",
     "output_type": "stream",
     "text": [
      "Epoch 003 | Fold 1 | Train Acc: 0.3073 | Val Acc: 0.4748 | Train loss: 1.3548 Val Loss: 1.3303\n",
      "🏃 View run trial_18 at: http://127.0.0.1:5000/#/experiments/906754211394743286/runs/401b69bd6bc9413fa007df2bde4ee70f\n",
      "🧪 View experiment at: http://127.0.0.1:5000/#/experiments/906754211394743286\n",
      "Epoch 001 | Fold 1 | Train Acc: 0.2732 | Val Acc: 0.5157 | Train loss: 1.3878 Val Loss: 1.3724\n",
      "Epoch 002 | Fold 1 | Train Acc: 0.3360 | Val Acc: 0.6541 | Train loss: 1.3748 Val Loss: 1.3538\n",
      "Epoch 003 | Fold 1 | Train Acc: 0.3473 | Val Acc: 0.6855 | Train loss: 1.3603 Val Loss: 1.3327\n",
      "Epoch 004 | Fold 1 | Train Acc: 0.3424 | Val Acc: 0.7107 | Train loss: 1.3398 Val Loss: 1.2974\n",
      "Epoch 005 | Fold 1 | Train Acc: 0.4427 | Val Acc: 0.7327 | Train loss: 1.3129 Val Loss: 1.2474\n",
      "Epoch 006 | Fold 1 | Train Acc: 0.4452 | Val Acc: 0.7264 | Train loss: 1.2471 Val Loss: 1.1240\n",
      "Epoch 007 | Fold 1 | Train Acc: 0.3839 | Val Acc: 0.7358 | Train loss: 1.1275 Val Loss: 0.8161\n",
      "Epoch 008 | Fold 1 | Train Acc: 0.4659 | Val Acc: 0.7107 | Train loss: 1.0230 Val Loss: 0.7460\n",
      "Epoch 009 | Fold 1 | Train Acc: 0.4590 | Val Acc: 0.7736 | Train loss: 0.9448 Val Loss: 0.6253\n",
      "Epoch 010 | Fold 1 | Train Acc: 0.4970 | Val Acc: 0.7704 | Train loss: 0.9119 Val Loss: 0.6399\n",
      "Epoch 011 | Fold 1 | Train Acc: 0.4792 | Val Acc: 0.7610 | Train loss: 0.9088 Val Loss: 0.5889\n",
      "Epoch 012 | Fold 1 | Train Acc: 0.5148 | Val Acc: 0.7610 | Train loss: 0.8880 Val Loss: 0.5916\n",
      "Epoch 013 | Fold 1 | Train Acc: 0.4876 | Val Acc: 0.7642 | Train loss: 0.8910 Val Loss: 0.6000\n",
      "Epoch 014 | Fold 1 | Train Acc: 0.5306 | Val Acc: 0.7704 | Train loss: 0.8736 Val Loss: 0.6013\n",
      "Epoch 015 | Fold 1 | Train Acc: 0.5405 | Val Acc: 0.7610 | Train loss: 0.8360 Val Loss: 0.5625\n",
      "Epoch 016 | Fold 1 | Train Acc: 0.4985 | Val Acc: 0.7673 | Train loss: 0.8492 Val Loss: 0.5702\n",
      "Epoch 017 | Fold 1 | Train Acc: 0.5420 | Val Acc: 0.8050 | Train loss: 0.8338 Val Loss: 0.5782\n",
      "Epoch 018 | Fold 1 | Train Acc: 0.5578 | Val Acc: 0.7704 | Train loss: 0.8335 Val Loss: 0.5437\n",
      "Epoch 019 | Fold 1 | Train Acc: 0.4847 | Val Acc: 0.7579 | Train loss: 0.8338 Val Loss: 0.5565\n",
      "Epoch 020 | Fold 1 | Train Acc: 0.5128 | Val Acc: 0.8050 | Train loss: 0.8064 Val Loss: 0.5565\n",
      "Epoch 021 | Fold 1 | Train Acc: 0.5469 | Val Acc: 0.7610 | Train loss: 0.8118 Val Loss: 0.5607\n",
      "Epoch 022 | Fold 1 | Train Acc: 0.5608 | Val Acc: 0.7956 | Train loss: 0.8228 Val Loss: 0.5366\n",
      "Epoch 023 | Fold 1 | Train Acc: 0.5109 | Val Acc: 0.7547 | Train loss: 0.8177 Val Loss: 0.5475\n",
      "Epoch 024 | Fold 1 | Train Acc: 0.5499 | Val Acc: 0.7893 | Train loss: 0.8038 Val Loss: 0.5372\n",
      "Epoch 025 | Fold 1 | Train Acc: 0.5143 | Val Acc: 0.7767 | Train loss: 0.7987 Val Loss: 0.5237\n",
      "Epoch 026 | Fold 1 | Train Acc: 0.5064 | Val Acc: 0.7893 | Train loss: 0.8175 Val Loss: 0.5255\n",
      "Epoch 027 | Fold 1 | Train Acc: 0.5361 | Val Acc: 0.7767 | Train loss: 0.8092 Val Loss: 0.5424\n",
      "Epoch 028 | Fold 1 | Train Acc: 0.5178 | Val Acc: 0.7925 | Train loss: 0.7952 Val Loss: 0.5055\n",
      "Epoch 029 | Fold 1 | Train Acc: 0.5410 | Val Acc: 0.7893 | Train loss: 0.7912 Val Loss: 0.5330\n",
      "Epoch 030 | Fold 1 | Train Acc: 0.5306 | Val Acc: 0.7673 | Train loss: 0.7858 Val Loss: 0.5142\n",
      "Epoch 031 | Fold 1 | Train Acc: 0.5504 | Val Acc: 0.7862 | Train loss: 0.7518 Val Loss: 0.5114\n",
      "Epoch 032 | Fold 1 | Train Acc: 0.5489 | Val Acc: 0.7893 | Train loss: 0.7960 Val Loss: 0.5277\n",
      "Epoch 033 | Fold 1 | Train Acc: 0.5415 | Val Acc: 0.7862 | Train loss: 0.7670 Val Loss: 0.5092\n",
      "Epoch 034 | Fold 1 | Train Acc: 0.5539 | Val Acc: 0.7862 | Train loss: 0.7654 Val Loss: 0.5295\n",
      "Epoch 035 | Fold 1 | Train Acc: 0.5548 | Val Acc: 0.7862 | Train loss: 0.7677 Val Loss: 0.5418\n",
      "Epoch 036 | Fold 1 | Train Acc: 0.5425 | Val Acc: 0.7893 | Train loss: 0.7692 Val Loss: 0.4993\n",
      "Epoch 037 | Fold 1 | Train Acc: 0.5598 | Val Acc: 0.7925 | Train loss: 0.7660 Val Loss: 0.5453\n",
      "Epoch 038 | Fold 1 | Train Acc: 0.5682 | Val Acc: 0.7893 | Train loss: 0.7684 Val Loss: 0.4942\n",
      "Epoch 039 | Fold 1 | Train Acc: 0.5657 | Val Acc: 0.7830 | Train loss: 0.7308 Val Loss: 0.5188\n",
      "Epoch 040 | Fold 1 | Train Acc: 0.5459 | Val Acc: 0.7862 | Train loss: 0.7321 Val Loss: 0.5099\n",
      "Epoch 041 | Fold 1 | Train Acc: 0.5771 | Val Acc: 0.7956 | Train loss: 0.7209 Val Loss: 0.5282\n",
      "Epoch 042 | Fold 1 | Train Acc: 0.5830 | Val Acc: 0.7862 | Train loss: 0.7506 Val Loss: 0.4918\n",
      "Epoch 043 | Fold 1 | Train Acc: 0.5425 | Val Acc: 0.7862 | Train loss: 0.7484 Val Loss: 0.5060\n",
      "Epoch 044 | Fold 1 | Train Acc: 0.5504 | Val Acc: 0.7893 | Train loss: 0.7470 Val Loss: 0.5306\n",
      "Epoch 045 | Fold 1 | Train Acc: 0.5756 | Val Acc: 0.7862 | Train loss: 0.7433 Val Loss: 0.5106\n",
      "Epoch 046 | Fold 1 | Train Acc: 0.5716 | Val Acc: 0.7862 | Train loss: 0.7273 Val Loss: 0.5118\n",
      "Epoch 047 | Fold 1 | Train Acc: 0.5677 | Val Acc: 0.7925 | Train loss: 0.7136 Val Loss: 0.5279\n",
      "Epoch 048 | Fold 1 | Train Acc: 0.5860 | Val Acc: 0.7704 | Train loss: 0.7231 Val Loss: 0.5164\n",
      "Epoch 049 | Fold 1 | Train Acc: 0.5830 | Val Acc: 0.7862 | Train loss: 0.7149 Val Loss: 0.4999\n",
      "Epoch 050 | Fold 1 | Train Acc: 0.5623 | Val Acc: 0.7862 | Train loss: 0.7506 Val Loss: 0.5071\n",
      "Epoch 051 | Fold 1 | Train Acc: 0.5608 | Val Acc: 0.7736 | Train loss: 0.7287 Val Loss: 0.5564\n",
      "Epoch 052 | Fold 1 | Train Acc: 0.5815 | Val Acc: 0.7956 | Train loss: 0.7195 Val Loss: 0.5463\n",
      "Epoch 053 | Fold 1 | Train Acc: 0.6057 | Val Acc: 0.7862 | Train loss: 0.7083 Val Loss: 0.5018\n",
      "Epoch 054 | Fold 1 | Train Acc: 0.5810 | Val Acc: 0.7704 | Train loss: 0.7082 Val Loss: 0.5109\n",
      "Epoch 055 | Fold 1 | Train Acc: 0.5568 | Val Acc: 0.7673 | Train loss: 0.7140 Val Loss: 0.5267\n",
      "Epoch 056 | Fold 1 | Train Acc: 0.5593 | Val Acc: 0.7893 | Train loss: 0.7093 Val Loss: 0.4990\n",
      "Epoch 057 | Fold 1 | Train Acc: 0.5875 | Val Acc: 0.7704 | Train loss: 0.7208 Val Loss: 0.5461\n",
      "Epoch 058 | Fold 1 | Train Acc: 0.5899 | Val Acc: 0.7704 | Train loss: 0.7231 Val Loss: 0.5343\n",
      "Epoch 059 | Fold 1 | Train Acc: 0.5939 | Val Acc: 0.7893 | Train loss: 0.7088 Val Loss: 0.5221\n",
      "Epoch 060 | Fold 1 | Train Acc: 0.5850 | Val Acc: 0.7862 | Train loss: 0.6906 Val Loss: 0.5029\n",
      "Epoch 061 | Fold 1 | Train Acc: 0.5879 | Val Acc: 0.7925 | Train loss: 0.7207 Val Loss: 0.5289\n",
      "Epoch 062 | Fold 1 | Train Acc: 0.5894 | Val Acc: 0.7736 | Train loss: 0.7021 Val Loss: 0.5324\n",
      "Epoch 063 | Fold 1 | Train Acc: 0.5909 | Val Acc: 0.7704 | Train loss: 0.7065 Val Loss: 0.5400\n",
      "Epoch 064 | Fold 1 | Train Acc: 0.5865 | Val Acc: 0.7704 | Train loss: 0.6879 Val Loss: 0.5396\n",
      "Epoch 065 | Fold 1 | Train Acc: 0.5998 | Val Acc: 0.7893 | Train loss: 0.6959 Val Loss: 0.5227\n",
      "Epoch 066 | Fold 1 | Train Acc: 0.5875 | Val Acc: 0.7862 | Train loss: 0.6906 Val Loss: 0.5162\n",
      "Epoch 067 | Fold 1 | Train Acc: 0.5815 | Val Acc: 0.7704 | Train loss: 0.6937 Val Loss: 0.5271\n",
      "Epoch 068 | Fold 1 | Train Acc: 0.6018 | Val Acc: 0.7767 | Train loss: 0.6698 Val Loss: 0.5258\n",
      "Epoch 069 | Fold 1 | Train Acc: 0.5968 | Val Acc: 0.7767 | Train loss: 0.6822 Val Loss: 0.5324\n",
      "Epoch 070 | Fold 1 | Train Acc: 0.5870 | Val Acc: 0.7925 | Train loss: 0.6884 Val Loss: 0.5153\n",
      "Epoch 071 | Fold 1 | Train Acc: 0.5815 | Val Acc: 0.7925 | Train loss: 0.6817 Val Loss: 0.5233\n",
      "Epoch 072 | Fold 1 | Train Acc: 0.5870 | Val Acc: 0.7736 | Train loss: 0.6962 Val Loss: 0.5229\n",
      " Early stopping at epoch 72 for fold 1\n",
      " Fold 1: Best Val Acc = 0.7862\n",
      "Epoch 001 | Fold 2 | Train Acc: 0.1614 | Val Acc: 0.2146 | Train loss: 1.3832 Val Loss: 1.3721\n",
      "Epoch 002 | Fold 2 | Train Acc: 0.2021 | Val Acc: 0.2788 | Train loss: 1.3650 Val Loss: 1.3583\n",
      "Epoch 003 | Fold 2 | Train Acc: 0.2571 | Val Acc: 0.2765 | Train loss: 1.3469 Val Loss: 1.3334\n",
      "Epoch 004 | Fold 2 | Train Acc: 0.3169 | Val Acc: 0.5310 | Train loss: 1.3204 Val Loss: 1.2984\n",
      "Epoch 005 | Fold 2 | Train Acc: 0.4582 | Val Acc: 0.5575 | Train loss: 1.2678 Val Loss: 1.2217\n",
      "Epoch 006 | Fold 2 | Train Acc: 0.4513 | Val Acc: 0.4845 | Train loss: 1.1528 Val Loss: 1.0440\n",
      "Epoch 007 | Fold 2 | Train Acc: 0.4206 | Val Acc: 0.5553 | Train loss: 1.0573 Val Loss: 0.8961\n",
      "Epoch 008 | Fold 2 | Train Acc: 0.4931 | Val Acc: 0.5597 | Train loss: 0.9975 Val Loss: 0.8298\n",
      "Epoch 009 | Fold 2 | Train Acc: 0.5000 | Val Acc: 0.5398 | Train loss: 0.9767 Val Loss: 0.7867\n",
      "Epoch 010 | Fold 2 | Train Acc: 0.4778 | Val Acc: 0.5442 | Train loss: 0.9237 Val Loss: 0.7480\n",
      "Epoch 011 | Fold 2 | Train Acc: 0.4630 | Val Acc: 0.5376 | Train loss: 0.9035 Val Loss: 0.7258\n",
      "Epoch 012 | Fold 2 | Train Acc: 0.4651 | Val Acc: 0.5796 | Train loss: 0.8865 Val Loss: 0.7025\n",
      "Epoch 013 | Fold 2 | Train Acc: 0.4979 | Val Acc: 0.5597 | Train loss: 0.9074 Val Loss: 0.6965\n",
      "Epoch 014 | Fold 2 | Train Acc: 0.4741 | Val Acc: 0.5575 | Train loss: 0.8783 Val Loss: 0.6869\n",
      "Epoch 015 | Fold 2 | Train Acc: 0.4942 | Val Acc: 0.5996 | Train loss: 0.8727 Val Loss: 0.6707\n",
      "Epoch 016 | Fold 2 | Train Acc: 0.4979 | Val Acc: 0.5951 | Train loss: 0.8680 Val Loss: 0.6708\n",
      "Epoch 017 | Fold 2 | Train Acc: 0.5175 | Val Acc: 0.5973 | Train loss: 0.8453 Val Loss: 0.6711\n",
      "Epoch 018 | Fold 2 | Train Acc: 0.5111 | Val Acc: 0.5796 | Train loss: 0.8394 Val Loss: 0.6540\n",
      "Epoch 019 | Fold 2 | Train Acc: 0.5032 | Val Acc: 0.6438 | Train loss: 0.8660 Val Loss: 0.6674\n",
      "Epoch 020 | Fold 2 | Train Acc: 0.5206 | Val Acc: 0.5642 | Train loss: 0.8238 Val Loss: 0.6378\n",
      "Epoch 021 | Fold 2 | Train Acc: 0.4836 | Val Acc: 0.5686 | Train loss: 0.8342 Val Loss: 0.6712\n",
      "Epoch 022 | Fold 2 | Train Acc: 0.5143 | Val Acc: 0.6195 | Train loss: 0.8185 Val Loss: 0.6521\n",
      "Epoch 023 | Fold 2 | Train Acc: 0.5302 | Val Acc: 0.6527 | Train loss: 0.8380 Val Loss: 0.6335\n",
      "Epoch 024 | Fold 2 | Train Acc: 0.5206 | Val Acc: 0.6372 | Train loss: 0.8158 Val Loss: 0.6254\n",
      "Epoch 025 | Fold 2 | Train Acc: 0.4931 | Val Acc: 0.6173 | Train loss: 0.8416 Val Loss: 0.6136\n",
      "Epoch 026 | Fold 2 | Train Acc: 0.5148 | Val Acc: 0.6947 | Train loss: 0.8194 Val Loss: 0.6644\n",
      "Epoch 027 | Fold 2 | Train Acc: 0.5259 | Val Acc: 0.6150 | Train loss: 0.8141 Val Loss: 0.6346\n",
      "Epoch 028 | Fold 2 | Train Acc: 0.5317 | Val Acc: 0.7035 | Train loss: 0.8046 Val Loss: 0.6102\n",
      "Epoch 029 | Fold 2 | Train Acc: 0.5312 | Val Acc: 0.6881 | Train loss: 0.8433 Val Loss: 0.6033\n",
      "Epoch 030 | Fold 2 | Train Acc: 0.5429 | Val Acc: 0.7102 | Train loss: 0.8143 Val Loss: 0.6095\n",
      "Epoch 031 | Fold 2 | Train Acc: 0.5418 | Val Acc: 0.6903 | Train loss: 0.7911 Val Loss: 0.6063\n",
      "Epoch 032 | Fold 2 | Train Acc: 0.5201 | Val Acc: 0.7080 | Train loss: 0.8179 Val Loss: 0.6127\n",
      "Epoch 033 | Fold 2 | Train Acc: 0.5519 | Val Acc: 0.7124 | Train loss: 0.7907 Val Loss: 0.6063\n",
      "Epoch 034 | Fold 2 | Train Acc: 0.5392 | Val Acc: 0.6969 | Train loss: 0.7889 Val Loss: 0.5946\n",
      "Epoch 035 | Fold 2 | Train Acc: 0.5503 | Val Acc: 0.7124 | Train loss: 0.7614 Val Loss: 0.5929\n",
      "Epoch 036 | Fold 2 | Train Acc: 0.5503 | Val Acc: 0.7190 | Train loss: 0.7893 Val Loss: 0.6087\n",
      "Epoch 037 | Fold 2 | Train Acc: 0.5693 | Val Acc: 0.7279 | Train loss: 0.7946 Val Loss: 0.6065\n",
      "Epoch 038 | Fold 2 | Train Acc: 0.5582 | Val Acc: 0.7058 | Train loss: 0.8011 Val Loss: 0.5798\n",
      "Epoch 039 | Fold 2 | Train Acc: 0.5111 | Val Acc: 0.6593 | Train loss: 0.8152 Val Loss: 0.6129\n",
      "Epoch 040 | Fold 2 | Train Acc: 0.5386 | Val Acc: 0.7058 | Train loss: 0.7746 Val Loss: 0.6218\n",
      "Epoch 041 | Fold 2 | Train Acc: 0.5693 | Val Acc: 0.7058 | Train loss: 0.7782 Val Loss: 0.5803\n",
      "Epoch 042 | Fold 2 | Train Acc: 0.5492 | Val Acc: 0.6925 | Train loss: 0.7584 Val Loss: 0.5768\n",
      "Epoch 043 | Fold 2 | Train Acc: 0.5571 | Val Acc: 0.7235 | Train loss: 0.7855 Val Loss: 0.6012\n",
      "Epoch 044 | Fold 2 | Train Acc: 0.5788 | Val Acc: 0.7102 | Train loss: 0.7666 Val Loss: 0.5887\n",
      "Epoch 045 | Fold 2 | Train Acc: 0.5783 | Val Acc: 0.7058 | Train loss: 0.7577 Val Loss: 0.5739\n",
      "Epoch 046 | Fold 2 | Train Acc: 0.5947 | Val Acc: 0.7389 | Train loss: 0.7704 Val Loss: 0.6004\n",
      "Epoch 047 | Fold 2 | Train Acc: 0.5667 | Val Acc: 0.7035 | Train loss: 0.7722 Val Loss: 0.5720\n",
      "Epoch 048 | Fold 2 | Train Acc: 0.5656 | Val Acc: 0.7389 | Train loss: 0.7700 Val Loss: 0.6363\n",
      "Epoch 049 | Fold 2 | Train Acc: 0.5704 | Val Acc: 0.7035 | Train loss: 0.7307 Val Loss: 0.5713\n",
      "Epoch 050 | Fold 2 | Train Acc: 0.5984 | Val Acc: 0.7279 | Train loss: 0.7681 Val Loss: 0.5746\n",
      "Epoch 051 | Fold 2 | Train Acc: 0.5995 | Val Acc: 0.7235 | Train loss: 0.7396 Val Loss: 0.5781\n",
      "Epoch 052 | Fold 2 | Train Acc: 0.5831 | Val Acc: 0.7168 | Train loss: 0.7369 Val Loss: 0.5647\n",
      "Epoch 053 | Fold 2 | Train Acc: 0.5767 | Val Acc: 0.7124 | Train loss: 0.7421 Val Loss: 0.6032\n",
      "Epoch 054 | Fold 2 | Train Acc: 0.6090 | Val Acc: 0.7257 | Train loss: 0.7095 Val Loss: 0.5991\n",
      "Epoch 055 | Fold 2 | Train Acc: 0.5905 | Val Acc: 0.6991 | Train loss: 0.7237 Val Loss: 0.5678\n",
      "Epoch 056 | Fold 2 | Train Acc: 0.5873 | Val Acc: 0.7212 | Train loss: 0.7350 Val Loss: 0.5847\n",
      "Epoch 057 | Fold 2 | Train Acc: 0.5741 | Val Acc: 0.6991 | Train loss: 0.7219 Val Loss: 0.5668\n",
      "Epoch 058 | Fold 2 | Train Acc: 0.6079 | Val Acc: 0.7367 | Train loss: 0.7372 Val Loss: 0.6198\n",
      "Epoch 059 | Fold 2 | Train Acc: 0.6153 | Val Acc: 0.7235 | Train loss: 0.7211 Val Loss: 0.5629\n",
      "Epoch 060 | Fold 2 | Train Acc: 0.5767 | Val Acc: 0.6947 | Train loss: 0.7321 Val Loss: 0.5445\n",
      "Epoch 061 | Fold 2 | Train Acc: 0.5762 | Val Acc: 0.7389 | Train loss: 0.7438 Val Loss: 0.5943\n",
      "Epoch 062 | Fold 2 | Train Acc: 0.6037 | Val Acc: 0.7080 | Train loss: 0.7180 Val Loss: 0.5745\n",
      "Epoch 063 | Fold 2 | Train Acc: 0.5688 | Val Acc: 0.7235 | Train loss: 0.7242 Val Loss: 0.5810\n",
      "Epoch 064 | Fold 2 | Train Acc: 0.5931 | Val Acc: 0.7323 | Train loss: 0.7398 Val Loss: 0.5726\n",
      "Epoch 065 | Fold 2 | Train Acc: 0.5820 | Val Acc: 0.7257 | Train loss: 0.7199 Val Loss: 0.5669\n",
      "Epoch 066 | Fold 2 | Train Acc: 0.6063 | Val Acc: 0.7257 | Train loss: 0.7110 Val Loss: 0.5894\n",
      "Epoch 067 | Fold 2 | Train Acc: 0.6063 | Val Acc: 0.6947 | Train loss: 0.6995 Val Loss: 0.5827\n",
      "Epoch 068 | Fold 2 | Train Acc: 0.5937 | Val Acc: 0.7301 | Train loss: 0.6925 Val Loss: 0.5716\n",
      "Epoch 069 | Fold 2 | Train Acc: 0.5942 | Val Acc: 0.7389 | Train loss: 0.7251 Val Loss: 0.6034\n",
      "Epoch 070 | Fold 2 | Train Acc: 0.6212 | Val Acc: 0.7080 | Train loss: 0.7001 Val Loss: 0.5532\n",
      "Epoch 071 | Fold 2 | Train Acc: 0.5937 | Val Acc: 0.7257 | Train loss: 0.6986 Val Loss: 0.5769\n",
      "Epoch 072 | Fold 2 | Train Acc: 0.6175 | Val Acc: 0.7323 | Train loss: 0.6965 Val Loss: 0.5934\n",
      "Epoch 073 | Fold 2 | Train Acc: 0.6048 | Val Acc: 0.7323 | Train loss: 0.7039 Val Loss: 0.5560\n",
      "Epoch 074 | Fold 2 | Train Acc: 0.5810 | Val Acc: 0.7323 | Train loss: 0.7219 Val Loss: 0.5626\n",
      "Epoch 075 | Fold 2 | Train Acc: 0.5937 | Val Acc: 0.7279 | Train loss: 0.7022 Val Loss: 0.5770\n",
      "Epoch 076 | Fold 2 | Train Acc: 0.6101 | Val Acc: 0.7323 | Train loss: 0.7025 Val Loss: 0.6017\n",
      "Epoch 077 | Fold 2 | Train Acc: 0.6127 | Val Acc: 0.7389 | Train loss: 0.6968 Val Loss: 0.5756\n",
      "Epoch 078 | Fold 2 | Train Acc: 0.6079 | Val Acc: 0.7102 | Train loss: 0.6801 Val Loss: 0.5854\n",
      "Epoch 079 | Fold 2 | Train Acc: 0.6048 | Val Acc: 0.7168 | Train loss: 0.6809 Val Loss: 0.5762\n",
      "Epoch 080 | Fold 2 | Train Acc: 0.6138 | Val Acc: 0.7389 | Train loss: 0.6636 Val Loss: 0.5725\n",
      "Epoch 081 | Fold 2 | Train Acc: 0.6053 | Val Acc: 0.7412 | Train loss: 0.7033 Val Loss: 0.5860\n",
      "Epoch 082 | Fold 2 | Train Acc: 0.6090 | Val Acc: 0.7323 | Train loss: 0.6683 Val Loss: 0.5729\n",
      "Epoch 083 | Fold 2 | Train Acc: 0.5984 | Val Acc: 0.7301 | Train loss: 0.6907 Val Loss: 0.5686\n",
      "Epoch 084 | Fold 2 | Train Acc: 0.6143 | Val Acc: 0.7367 | Train loss: 0.6785 Val Loss: 0.5730\n",
      "Epoch 085 | Fold 2 | Train Acc: 0.6222 | Val Acc: 0.7367 | Train loss: 0.6726 Val Loss: 0.5813\n",
      "Epoch 086 | Fold 2 | Train Acc: 0.6180 | Val Acc: 0.7345 | Train loss: 0.6726 Val Loss: 0.5729\n",
      "Epoch 087 | Fold 2 | Train Acc: 0.5995 | Val Acc: 0.7412 | Train loss: 0.6914 Val Loss: 0.5655\n",
      "Epoch 088 | Fold 2 | Train Acc: 0.6111 | Val Acc: 0.7367 | Train loss: 0.6863 Val Loss: 0.5791\n",
      "Epoch 089 | Fold 2 | Train Acc: 0.6079 | Val Acc: 0.7367 | Train loss: 0.6928 Val Loss: 0.5763\n",
      "Epoch 090 | Fold 2 | Train Acc: 0.6063 | Val Acc: 0.7323 | Train loss: 0.6800 Val Loss: 0.5763\n",
      " Early stopping at epoch 90 for fold 2\n",
      " Fold 2: Best Val Acc = 0.6947\n",
      "Epoch 001 | Fold 3 | Train Acc: 0.1933 | Val Acc: 0.3239 | Train loss: 1.3773 Val Loss: 1.3726\n",
      "Epoch 002 | Fold 3 | Train Acc: 0.2723 | Val Acc: 0.3908 | Train loss: 1.3580 Val Loss: 1.3628\n",
      "Epoch 003 | Fold 3 | Train Acc: 0.2892 | Val Acc: 0.3768 | Train loss: 1.3338 Val Loss: 1.3458\n",
      "Epoch 004 | Fold 3 | Train Acc: 0.3715 | Val Acc: 0.3891 | Train loss: 1.2901 Val Loss: 1.3210\n",
      "Epoch 005 | Fold 3 | Train Acc: 0.3501 | Val Acc: 0.3768 | Train loss: 1.2432 Val Loss: 1.2744\n",
      "Epoch 006 | Fold 3 | Train Acc: 0.4250 | Val Acc: 0.5035 | Train loss: 1.1308 Val Loss: 1.1983\n",
      "Epoch 007 | Fold 3 | Train Acc: 0.4532 | Val Acc: 0.4155 | Train loss: 1.0252 Val Loss: 1.1086\n",
      "Epoch 008 | Fold 3 | Train Acc: 0.4476 | Val Acc: 0.6162 | Train loss: 0.9713 Val Loss: 1.0466\n",
      "Epoch 009 | Fold 3 | Train Acc: 0.4673 | Val Acc: 0.5792 | Train loss: 0.9226 Val Loss: 1.0063\n",
      "Epoch 010 | Fold 3 | Train Acc: 0.5214 | Val Acc: 0.6232 | Train loss: 0.8788 Val Loss: 1.0038\n",
      "Epoch 011 | Fold 3 | Train Acc: 0.4977 | Val Acc: 0.5915 | Train loss: 0.8671 Val Loss: 0.9751\n",
      "Epoch 012 | Fold 3 | Train Acc: 0.5096 | Val Acc: 0.6250 | Train loss: 0.8555 Val Loss: 0.9644\n",
      "Epoch 013 | Fold 3 | Train Acc: 0.5479 | Val Acc: 0.6356 | Train loss: 0.8250 Val Loss: 0.9402\n",
      "Epoch 014 | Fold 3 | Train Acc: 0.5643 | Val Acc: 0.6074 | Train loss: 0.8249 Val Loss: 0.9219\n",
      "Epoch 015 | Fold 3 | Train Acc: 0.5068 | Val Acc: 0.6144 | Train loss: 0.7963 Val Loss: 0.9089\n",
      "Epoch 016 | Fold 3 | Train Acc: 0.5727 | Val Acc: 0.6056 | Train loss: 0.7873 Val Loss: 0.9140\n",
      "Epoch 017 | Fold 3 | Train Acc: 0.5682 | Val Acc: 0.6356 | Train loss: 0.7741 Val Loss: 0.8627\n",
      "Epoch 018 | Fold 3 | Train Acc: 0.5073 | Val Acc: 0.6127 | Train loss: 0.8135 Val Loss: 0.8596\n",
      "Epoch 019 | Fold 3 | Train Acc: 0.5474 | Val Acc: 0.6637 | Train loss: 0.7949 Val Loss: 0.8893\n",
      "Epoch 020 | Fold 3 | Train Acc: 0.5259 | Val Acc: 0.6215 | Train loss: 0.7992 Val Loss: 0.8506\n",
      "Epoch 021 | Fold 3 | Train Acc: 0.5068 | Val Acc: 0.6708 | Train loss: 0.7438 Val Loss: 0.8141\n",
      "Epoch 022 | Fold 3 | Train Acc: 0.5671 | Val Acc: 0.6373 | Train loss: 0.7846 Val Loss: 0.8801\n",
      "Epoch 023 | Fold 3 | Train Acc: 0.5530 | Val Acc: 0.6585 | Train loss: 0.7546 Val Loss: 0.8190\n",
      "Epoch 024 | Fold 3 | Train Acc: 0.5462 | Val Acc: 0.6426 | Train loss: 0.7897 Val Loss: 0.8617\n",
      "Epoch 025 | Fold 3 | Train Acc: 0.5705 | Val Acc: 0.6796 | Train loss: 0.7564 Val Loss: 0.8337\n",
      "Epoch 026 | Fold 3 | Train Acc: 0.5693 | Val Acc: 0.6532 | Train loss: 0.7725 Val Loss: 0.8291\n",
      "Epoch 027 | Fold 3 | Train Acc: 0.5761 | Val Acc: 0.6778 | Train loss: 0.7273 Val Loss: 0.8149\n",
      "Epoch 028 | Fold 3 | Train Acc: 0.5372 | Val Acc: 0.7007 | Train loss: 0.7577 Val Loss: 0.8033\n",
      "Epoch 029 | Fold 3 | Train Acc: 0.5575 | Val Acc: 0.6356 | Train loss: 0.7533 Val Loss: 0.8331\n",
      "Epoch 030 | Fold 3 | Train Acc: 0.5479 | Val Acc: 0.6655 | Train loss: 0.7661 Val Loss: 0.8107\n",
      "Epoch 031 | Fold 3 | Train Acc: 0.5079 | Val Acc: 0.6637 | Train loss: 0.7761 Val Loss: 0.8001\n",
      "Epoch 032 | Fold 3 | Train Acc: 0.5485 | Val Acc: 0.6673 | Train loss: 0.7477 Val Loss: 0.8247\n",
      "Epoch 033 | Fold 3 | Train Acc: 0.5924 | Val Acc: 0.6849 | Train loss: 0.7417 Val Loss: 0.8366\n",
      "Epoch 034 | Fold 3 | Train Acc: 0.5676 | Val Acc: 0.6532 | Train loss: 0.7260 Val Loss: 0.8219\n",
      "Epoch 035 | Fold 3 | Train Acc: 0.5846 | Val Acc: 0.6954 | Train loss: 0.7426 Val Loss: 0.7919\n",
      "Epoch 036 | Fold 3 | Train Acc: 0.5400 | Val Acc: 0.6725 | Train loss: 0.7520 Val Loss: 0.8078\n",
      "Epoch 037 | Fold 3 | Train Acc: 0.5772 | Val Acc: 0.6708 | Train loss: 0.7165 Val Loss: 0.7947\n",
      "Epoch 038 | Fold 3 | Train Acc: 0.5344 | Val Acc: 0.6813 | Train loss: 0.7642 Val Loss: 0.8096\n",
      "Epoch 039 | Fold 3 | Train Acc: 0.5817 | Val Acc: 0.6849 | Train loss: 0.7127 Val Loss: 0.8070\n",
      "Epoch 040 | Fold 3 | Train Acc: 0.5772 | Val Acc: 0.6884 | Train loss: 0.6985 Val Loss: 0.7863\n",
      "Epoch 041 | Fold 3 | Train Acc: 0.5744 | Val Acc: 0.6919 | Train loss: 0.7016 Val Loss: 0.7892\n",
      "Epoch 042 | Fold 3 | Train Acc: 0.5564 | Val Acc: 0.6637 | Train loss: 0.7229 Val Loss: 0.7949\n",
      "Epoch 043 | Fold 3 | Train Acc: 0.5755 | Val Acc: 0.6813 | Train loss: 0.7411 Val Loss: 0.8438\n",
      "Epoch 044 | Fold 3 | Train Acc: 0.5812 | Val Acc: 0.6919 | Train loss: 0.7066 Val Loss: 0.8002\n",
      "Epoch 045 | Fold 3 | Train Acc: 0.5530 | Val Acc: 0.6725 | Train loss: 0.7210 Val Loss: 0.7672\n",
      "Epoch 046 | Fold 3 | Train Acc: 0.5812 | Val Acc: 0.6479 | Train loss: 0.6867 Val Loss: 0.8371\n",
      "Epoch 047 | Fold 3 | Train Acc: 0.5986 | Val Acc: 0.6972 | Train loss: 0.6906 Val Loss: 0.8056\n",
      "Epoch 048 | Fold 3 | Train Acc: 0.6054 | Val Acc: 0.6444 | Train loss: 0.6846 Val Loss: 0.8199\n",
      "Epoch 049 | Fold 3 | Train Acc: 0.5654 | Val Acc: 0.7025 | Train loss: 0.6916 Val Loss: 0.7800\n",
      "Epoch 050 | Fold 3 | Train Acc: 0.5885 | Val Acc: 0.6602 | Train loss: 0.6777 Val Loss: 0.8258\n",
      "Epoch 051 | Fold 3 | Train Acc: 0.6032 | Val Acc: 0.6479 | Train loss: 0.6847 Val Loss: 0.8154\n",
      "Epoch 052 | Fold 3 | Train Acc: 0.5637 | Val Acc: 0.6884 | Train loss: 0.6858 Val Loss: 0.7968\n",
      "Epoch 053 | Fold 3 | Train Acc: 0.5840 | Val Acc: 0.6761 | Train loss: 0.6666 Val Loss: 0.8237\n",
      "Epoch 054 | Fold 3 | Train Acc: 0.6060 | Val Acc: 0.6567 | Train loss: 0.6976 Val Loss: 0.8288\n",
      "Epoch 055 | Fold 3 | Train Acc: 0.5885 | Val Acc: 0.6250 | Train loss: 0.6905 Val Loss: 0.8426\n",
      "Epoch 056 | Fold 3 | Train Acc: 0.5924 | Val Acc: 0.6761 | Train loss: 0.6929 Val Loss: 0.8317\n",
      "Epoch 057 | Fold 3 | Train Acc: 0.6060 | Val Acc: 0.6761 | Train loss: 0.6667 Val Loss: 0.8317\n",
      "Epoch 058 | Fold 3 | Train Acc: 0.5975 | Val Acc: 0.6725 | Train loss: 0.6604 Val Loss: 0.8186\n",
      "Epoch 059 | Fold 3 | Train Acc: 0.6082 | Val Acc: 0.6796 | Train loss: 0.6298 Val Loss: 0.7721\n",
      "Epoch 060 | Fold 3 | Train Acc: 0.5913 | Val Acc: 0.6725 | Train loss: 0.6931 Val Loss: 0.8010\n",
      "Epoch 061 | Fold 3 | Train Acc: 0.6094 | Val Acc: 0.6725 | Train loss: 0.6531 Val Loss: 0.7998\n",
      "Epoch 062 | Fold 3 | Train Acc: 0.6150 | Val Acc: 0.6796 | Train loss: 0.6589 Val Loss: 0.8080\n",
      "Epoch 063 | Fold 3 | Train Acc: 0.6015 | Val Acc: 0.6813 | Train loss: 0.6507 Val Loss: 0.8031\n",
      "Epoch 064 | Fold 3 | Train Acc: 0.6094 | Val Acc: 0.6725 | Train loss: 0.6778 Val Loss: 0.8030\n",
      "Epoch 065 | Fold 3 | Train Acc: 0.6201 | Val Acc: 0.6813 | Train loss: 0.6441 Val Loss: 0.7965\n",
      "Epoch 066 | Fold 3 | Train Acc: 0.6223 | Val Acc: 0.6743 | Train loss: 0.6578 Val Loss: 0.8096\n",
      "Epoch 067 | Fold 3 | Train Acc: 0.6054 | Val Acc: 0.6778 | Train loss: 0.6608 Val Loss: 0.7996\n",
      "Epoch 068 | Fold 3 | Train Acc: 0.6139 | Val Acc: 0.6743 | Train loss: 0.6628 Val Loss: 0.8157\n",
      "Epoch 069 | Fold 3 | Train Acc: 0.6167 | Val Acc: 0.6673 | Train loss: 0.6609 Val Loss: 0.8325\n",
      "Epoch 070 | Fold 3 | Train Acc: 0.6263 | Val Acc: 0.6778 | Train loss: 0.6586 Val Loss: 0.8063\n",
      "Epoch 071 | Fold 3 | Train Acc: 0.6105 | Val Acc: 0.6813 | Train loss: 0.6530 Val Loss: 0.7936\n",
      "Epoch 072 | Fold 3 | Train Acc: 0.6161 | Val Acc: 0.6796 | Train loss: 0.6517 Val Loss: 0.8043\n",
      "Epoch 073 | Fold 3 | Train Acc: 0.6263 | Val Acc: 0.6673 | Train loss: 0.6467 Val Loss: 0.8364\n",
      "Epoch 074 | Fold 3 | Train Acc: 0.6257 | Val Acc: 0.6743 | Train loss: 0.6465 Val Loss: 0.8335\n",
      "Epoch 075 | Fold 3 | Train Acc: 0.6206 | Val Acc: 0.6673 | Train loss: 0.6408 Val Loss: 0.8285\n",
      " Early stopping at epoch 75 for fold 3\n",
      " Fold 3: Best Val Acc = 0.6725\n",
      "Epoch 001 | Fold 4 | Train Acc: 0.2742 | Val Acc: 0.1644 | Train loss: 1.3844 Val Loss: 1.3755\n",
      "Epoch 002 | Fold 4 | Train Acc: 0.2153 | Val Acc: 0.3037 | Train loss: 1.3743 Val Loss: 1.3642\n",
      "Epoch 003 | Fold 4 | Train Acc: 0.2820 | Val Acc: 0.4155 | Train loss: 1.3580 Val Loss: 1.3462\n",
      "Epoch 004 | Fold 4 | Train Acc: 0.3330 | Val Acc: 0.4795 | Train loss: 1.3376 Val Loss: 1.3187\n",
      "Epoch 005 | Fold 4 | Train Acc: 0.4112 | Val Acc: 0.5845 | Train loss: 1.3116 Val Loss: 1.2708\n",
      "Epoch 006 | Fold 4 | Train Acc: 0.4538 | Val Acc: 0.4817 | Train loss: 1.2493 Val Loss: 1.1770\n",
      "Epoch 007 | Fold 4 | Train Acc: 0.3950 | Val Acc: 0.5342 | Train loss: 1.1619 Val Loss: 0.9713\n",
      "Epoch 008 | Fold 4 | Train Acc: 0.4916 | Val Acc: 0.5616 | Train loss: 1.0546 Val Loss: 0.8458\n",
      "Epoch 009 | Fold 4 | Train Acc: 0.4049 | Val Acc: 0.5594 | Train loss: 0.9787 Val Loss: 0.7587\n",
      "Epoch 010 | Fold 4 | Train Acc: 0.4422 | Val Acc: 0.5822 | Train loss: 0.9490 Val Loss: 0.7239\n",
      "Epoch 011 | Fold 4 | Train Acc: 0.4664 | Val Acc: 0.5594 | Train loss: 0.9136 Val Loss: 0.6967\n",
      "Epoch 012 | Fold 4 | Train Acc: 0.4333 | Val Acc: 0.5594 | Train loss: 0.8993 Val Loss: 0.6656\n",
      "Epoch 013 | Fold 4 | Train Acc: 0.4711 | Val Acc: 0.5982 | Train loss: 0.8741 Val Loss: 0.6606\n",
      "Epoch 014 | Fold 4 | Train Acc: 0.4590 | Val Acc: 0.5685 | Train loss: 0.8792 Val Loss: 0.6546\n",
      "Epoch 015 | Fold 4 | Train Acc: 0.4701 | Val Acc: 0.5868 | Train loss: 0.8560 Val Loss: 0.6282\n",
      "Epoch 016 | Fold 4 | Train Acc: 0.4853 | Val Acc: 0.5959 | Train loss: 0.8558 Val Loss: 0.6361\n",
      "Epoch 017 | Fold 4 | Train Acc: 0.4743 | Val Acc: 0.5639 | Train loss: 0.8424 Val Loss: 0.6322\n",
      "Epoch 018 | Fold 4 | Train Acc: 0.4564 | Val Acc: 0.5913 | Train loss: 0.8609 Val Loss: 0.6427\n",
      "Epoch 019 | Fold 4 | Train Acc: 0.4869 | Val Acc: 0.5662 | Train loss: 0.8189 Val Loss: 0.6148\n",
      "Epoch 020 | Fold 4 | Train Acc: 0.4942 | Val Acc: 0.6484 | Train loss: 0.8327 Val Loss: 0.6224\n",
      "Epoch 021 | Fold 4 | Train Acc: 0.5242 | Val Acc: 0.5799 | Train loss: 0.8172 Val Loss: 0.5978\n",
      "Epoch 022 | Fold 4 | Train Acc: 0.4821 | Val Acc: 0.6187 | Train loss: 0.8343 Val Loss: 0.6194\n",
      "Epoch 023 | Fold 4 | Train Acc: 0.4984 | Val Acc: 0.6164 | Train loss: 0.8295 Val Loss: 0.6011\n",
      "Epoch 024 | Fold 4 | Train Acc: 0.4932 | Val Acc: 0.6210 | Train loss: 0.8196 Val Loss: 0.5982\n",
      "Epoch 025 | Fold 4 | Train Acc: 0.5126 | Val Acc: 0.6895 | Train loss: 0.7975 Val Loss: 0.5999\n",
      "Epoch 026 | Fold 4 | Train Acc: 0.4979 | Val Acc: 0.6484 | Train loss: 0.8059 Val Loss: 0.5959\n",
      "Epoch 027 | Fold 4 | Train Acc: 0.5546 | Val Acc: 0.6872 | Train loss: 0.7639 Val Loss: 0.5978\n",
      "Epoch 028 | Fold 4 | Train Acc: 0.5494 | Val Acc: 0.6872 | Train loss: 0.7701 Val Loss: 0.5843\n",
      "Epoch 029 | Fold 4 | Train Acc: 0.5399 | Val Acc: 0.6826 | Train loss: 0.7410 Val Loss: 0.5701\n",
      "Epoch 030 | Fold 4 | Train Acc: 0.5441 | Val Acc: 0.6895 | Train loss: 0.8096 Val Loss: 0.5883\n",
      "Epoch 031 | Fold 4 | Train Acc: 0.5236 | Val Acc: 0.6689 | Train loss: 0.7888 Val Loss: 0.5900\n",
      "Epoch 032 | Fold 4 | Train Acc: 0.5530 | Val Acc: 0.6781 | Train loss: 0.7674 Val Loss: 0.5687\n",
      "Epoch 033 | Fold 4 | Train Acc: 0.5063 | Val Acc: 0.6484 | Train loss: 0.7954 Val Loss: 0.5794\n",
      "Epoch 034 | Fold 4 | Train Acc: 0.5515 | Val Acc: 0.7283 | Train loss: 0.7561 Val Loss: 0.6075\n",
      "Epoch 035 | Fold 4 | Train Acc: 0.5641 | Val Acc: 0.6849 | Train loss: 0.7533 Val Loss: 0.5754\n",
      "Epoch 036 | Fold 4 | Train Acc: 0.5126 | Val Acc: 0.6849 | Train loss: 0.7722 Val Loss: 0.5805\n",
      "Epoch 037 | Fold 4 | Train Acc: 0.5536 | Val Acc: 0.6918 | Train loss: 0.7271 Val Loss: 0.5676\n",
      "Epoch 038 | Fold 4 | Train Acc: 0.5604 | Val Acc: 0.7078 | Train loss: 0.7505 Val Loss: 0.5846\n",
      "Epoch 039 | Fold 4 | Train Acc: 0.5567 | Val Acc: 0.6895 | Train loss: 0.7512 Val Loss: 0.5783\n",
      "Epoch 040 | Fold 4 | Train Acc: 0.5730 | Val Acc: 0.7123 | Train loss: 0.7255 Val Loss: 0.5833\n",
      "Epoch 041 | Fold 4 | Train Acc: 0.5767 | Val Acc: 0.6804 | Train loss: 0.7340 Val Loss: 0.5839\n",
      "Epoch 042 | Fold 4 | Train Acc: 0.5683 | Val Acc: 0.6826 | Train loss: 0.7279 Val Loss: 0.5778\n",
      "Epoch 043 | Fold 4 | Train Acc: 0.5567 | Val Acc: 0.6872 | Train loss: 0.7512 Val Loss: 0.5770\n",
      "Epoch 044 | Fold 4 | Train Acc: 0.5735 | Val Acc: 0.6918 | Train loss: 0.7377 Val Loss: 0.5686\n",
      "Epoch 045 | Fold 4 | Train Acc: 0.5436 | Val Acc: 0.6963 | Train loss: 0.7398 Val Loss: 0.5844\n",
      "Epoch 046 | Fold 4 | Train Acc: 0.5924 | Val Acc: 0.7352 | Train loss: 0.7193 Val Loss: 0.5802\n",
      "Epoch 047 | Fold 4 | Train Acc: 0.5804 | Val Acc: 0.6986 | Train loss: 0.7261 Val Loss: 0.5667\n",
      "Epoch 048 | Fold 4 | Train Acc: 0.5672 | Val Acc: 0.7009 | Train loss: 0.7533 Val Loss: 0.5819\n",
      "Epoch 049 | Fold 4 | Train Acc: 0.5678 | Val Acc: 0.6758 | Train loss: 0.7258 Val Loss: 0.5820\n",
      "Epoch 050 | Fold 4 | Train Acc: 0.5567 | Val Acc: 0.7146 | Train loss: 0.7334 Val Loss: 0.6004\n",
      "Epoch 051 | Fold 4 | Train Acc: 0.5572 | Val Acc: 0.6986 | Train loss: 0.7243 Val Loss: 0.5732\n",
      "Epoch 052 | Fold 4 | Train Acc: 0.5704 | Val Acc: 0.6963 | Train loss: 0.7155 Val Loss: 0.5749\n",
      "Epoch 053 | Fold 4 | Train Acc: 0.5688 | Val Acc: 0.7078 | Train loss: 0.7062 Val Loss: 0.5605\n",
      "Epoch 054 | Fold 4 | Train Acc: 0.5856 | Val Acc: 0.7078 | Train loss: 0.6891 Val Loss: 0.5758\n",
      "Epoch 055 | Fold 4 | Train Acc: 0.5762 | Val Acc: 0.6963 | Train loss: 0.7274 Val Loss: 0.5697\n",
      "Epoch 056 | Fold 4 | Train Acc: 0.5614 | Val Acc: 0.6963 | Train loss: 0.6994 Val Loss: 0.5737\n",
      "Epoch 057 | Fold 4 | Train Acc: 0.5693 | Val Acc: 0.6986 | Train loss: 0.7160 Val Loss: 0.5737\n",
      "Epoch 058 | Fold 4 | Train Acc: 0.5662 | Val Acc: 0.7009 | Train loss: 0.7086 Val Loss: 0.5707\n",
      "Epoch 059 | Fold 4 | Train Acc: 0.5977 | Val Acc: 0.7146 | Train loss: 0.7054 Val Loss: 0.5682\n",
      "Epoch 060 | Fold 4 | Train Acc: 0.5730 | Val Acc: 0.7169 | Train loss: 0.6942 Val Loss: 0.5581\n",
      "Epoch 061 | Fold 4 | Train Acc: 0.5657 | Val Acc: 0.7009 | Train loss: 0.6837 Val Loss: 0.5509\n",
      "Epoch 062 | Fold 4 | Train Acc: 0.5998 | Val Acc: 0.7192 | Train loss: 0.6756 Val Loss: 0.5685\n",
      "Epoch 063 | Fold 4 | Train Acc: 0.5924 | Val Acc: 0.7123 | Train loss: 0.6830 Val Loss: 0.5704\n",
      "Epoch 064 | Fold 4 | Train Acc: 0.5825 | Val Acc: 0.7237 | Train loss: 0.7049 Val Loss: 0.5804\n",
      "Epoch 065 | Fold 4 | Train Acc: 0.5909 | Val Acc: 0.7192 | Train loss: 0.6825 Val Loss: 0.5647\n",
      "Epoch 066 | Fold 4 | Train Acc: 0.5667 | Val Acc: 0.7283 | Train loss: 0.6925 Val Loss: 0.5589\n",
      "Epoch 067 | Fold 4 | Train Acc: 0.5903 | Val Acc: 0.7123 | Train loss: 0.6800 Val Loss: 0.5650\n",
      "Epoch 068 | Fold 4 | Train Acc: 0.5966 | Val Acc: 0.7283 | Train loss: 0.6905 Val Loss: 0.5604\n",
      "Epoch 069 | Fold 4 | Train Acc: 0.5746 | Val Acc: 0.7169 | Train loss: 0.6858 Val Loss: 0.5617\n",
      "Epoch 070 | Fold 4 | Train Acc: 0.5835 | Val Acc: 0.7237 | Train loss: 0.7157 Val Loss: 0.5637\n",
      "Epoch 071 | Fold 4 | Train Acc: 0.5945 | Val Acc: 0.7055 | Train loss: 0.6743 Val Loss: 0.5923\n",
      "Epoch 072 | Fold 4 | Train Acc: 0.6035 | Val Acc: 0.7237 | Train loss: 0.6900 Val Loss: 0.5638\n",
      "Epoch 073 | Fold 4 | Train Acc: 0.5961 | Val Acc: 0.7123 | Train loss: 0.6950 Val Loss: 0.5548\n",
      "Epoch 074 | Fold 4 | Train Acc: 0.5930 | Val Acc: 0.7146 | Train loss: 0.6642 Val Loss: 0.5539\n",
      "Epoch 075 | Fold 4 | Train Acc: 0.5919 | Val Acc: 0.7283 | Train loss: 0.6820 Val Loss: 0.5493\n",
      "Epoch 076 | Fold 4 | Train Acc: 0.5977 | Val Acc: 0.7260 | Train loss: 0.6846 Val Loss: 0.5550\n",
      "Epoch 077 | Fold 4 | Train Acc: 0.5987 | Val Acc: 0.7237 | Train loss: 0.6849 Val Loss: 0.5787\n",
      "Epoch 078 | Fold 4 | Train Acc: 0.6261 | Val Acc: 0.7169 | Train loss: 0.6796 Val Loss: 0.5736\n",
      "Epoch 079 | Fold 4 | Train Acc: 0.6140 | Val Acc: 0.7260 | Train loss: 0.6470 Val Loss: 0.5650\n",
      "Epoch 080 | Fold 4 | Train Acc: 0.5956 | Val Acc: 0.7146 | Train loss: 0.6700 Val Loss: 0.5569\n",
      "Epoch 081 | Fold 4 | Train Acc: 0.6077 | Val Acc: 0.7169 | Train loss: 0.6698 Val Loss: 0.5690\n",
      "Epoch 082 | Fold 4 | Train Acc: 0.6014 | Val Acc: 0.7169 | Train loss: 0.6706 Val Loss: 0.5588\n",
      "Epoch 083 | Fold 4 | Train Acc: 0.6208 | Val Acc: 0.7329 | Train loss: 0.6736 Val Loss: 0.5582\n",
      "Epoch 084 | Fold 4 | Train Acc: 0.6266 | Val Acc: 0.7329 | Train loss: 0.6624 Val Loss: 0.5500\n",
      "Epoch 085 | Fold 4 | Train Acc: 0.5966 | Val Acc: 0.7192 | Train loss: 0.6727 Val Loss: 0.5531\n",
      "Epoch 086 | Fold 4 | Train Acc: 0.6014 | Val Acc: 0.7283 | Train loss: 0.6618 Val Loss: 0.5425\n",
      "Epoch 087 | Fold 4 | Train Acc: 0.6061 | Val Acc: 0.7306 | Train loss: 0.6869 Val Loss: 0.5422\n",
      "Epoch 088 | Fold 4 | Train Acc: 0.6297 | Val Acc: 0.7215 | Train loss: 0.6787 Val Loss: 0.5532\n",
      "Epoch 089 | Fold 4 | Train Acc: 0.5909 | Val Acc: 0.7192 | Train loss: 0.6776 Val Loss: 0.5606\n",
      "Epoch 090 | Fold 4 | Train Acc: 0.6087 | Val Acc: 0.7192 | Train loss: 0.6807 Val Loss: 0.5557\n",
      "Epoch 091 | Fold 4 | Train Acc: 0.6176 | Val Acc: 0.7306 | Train loss: 0.6760 Val Loss: 0.5750\n",
      "Epoch 092 | Fold 4 | Train Acc: 0.6297 | Val Acc: 0.7306 | Train loss: 0.6472 Val Loss: 0.5497\n",
      "Epoch 093 | Fold 4 | Train Acc: 0.6155 | Val Acc: 0.7237 | Train loss: 0.6740 Val Loss: 0.5482\n",
      "Epoch 094 | Fold 4 | Train Acc: 0.6040 | Val Acc: 0.7215 | Train loss: 0.6702 Val Loss: 0.5561\n",
      "Epoch 095 | Fold 4 | Train Acc: 0.6061 | Val Acc: 0.7306 | Train loss: 0.6732 Val Loss: 0.5576\n",
      "Epoch 096 | Fold 4 | Train Acc: 0.6229 | Val Acc: 0.7237 | Train loss: 0.6805 Val Loss: 0.5597\n",
      "Epoch 097 | Fold 4 | Train Acc: 0.5877 | Val Acc: 0.7260 | Train loss: 0.6923 Val Loss: 0.5486\n",
      "Epoch 098 | Fold 4 | Train Acc: 0.5998 | Val Acc: 0.7283 | Train loss: 0.6627 Val Loss: 0.5596\n",
      "Epoch 099 | Fold 4 | Train Acc: 0.6255 | Val Acc: 0.7329 | Train loss: 0.6411 Val Loss: 0.5598\n",
      "Epoch 100 | Fold 4 | Train Acc: 0.6239 | Val Acc: 0.7260 | Train loss: 0.6511 Val Loss: 0.5548\n",
      "Epoch 101 | Fold 4 | Train Acc: 0.6150 | Val Acc: 0.7215 | Train loss: 0.6494 Val Loss: 0.5498\n",
      "Epoch 102 | Fold 4 | Train Acc: 0.6250 | Val Acc: 0.7306 | Train loss: 0.6540 Val Loss: 0.5496\n",
      "Epoch 103 | Fold 4 | Train Acc: 0.6161 | Val Acc: 0.7283 | Train loss: 0.6847 Val Loss: 0.5470\n",
      "Epoch 104 | Fold 4 | Train Acc: 0.6176 | Val Acc: 0.7169 | Train loss: 0.6821 Val Loss: 0.5543\n",
      "Epoch 105 | Fold 4 | Train Acc: 0.6187 | Val Acc: 0.7283 | Train loss: 0.6475 Val Loss: 0.5507\n",
      "Epoch 106 | Fold 4 | Train Acc: 0.6271 | Val Acc: 0.7283 | Train loss: 0.6508 Val Loss: 0.5559\n",
      "Epoch 107 | Fold 4 | Train Acc: 0.6255 | Val Acc: 0.7283 | Train loss: 0.6471 Val Loss: 0.5611\n",
      "Epoch 108 | Fold 4 | Train Acc: 0.6213 | Val Acc: 0.7283 | Train loss: 0.6714 Val Loss: 0.5634\n",
      "Epoch 109 | Fold 4 | Train Acc: 0.6324 | Val Acc: 0.7192 | Train loss: 0.6676 Val Loss: 0.5630\n",
      "Epoch 110 | Fold 4 | Train Acc: 0.6150 | Val Acc: 0.7283 | Train loss: 0.6685 Val Loss: 0.5534\n",
      "Epoch 111 | Fold 4 | Train Acc: 0.6224 | Val Acc: 0.7260 | Train loss: 0.6514 Val Loss: 0.5508\n",
      "Epoch 112 | Fold 4 | Train Acc: 0.6176 | Val Acc: 0.7237 | Train loss: 0.6710 Val Loss: 0.5572\n",
      "Epoch 113 | Fold 4 | Train Acc: 0.6245 | Val Acc: 0.7237 | Train loss: 0.6460 Val Loss: 0.5595\n",
      "Epoch 114 | Fold 4 | Train Acc: 0.6171 | Val Acc: 0.7237 | Train loss: 0.6532 Val Loss: 0.5605\n",
      "Epoch 115 | Fold 4 | Train Acc: 0.6113 | Val Acc: 0.7237 | Train loss: 0.6471 Val Loss: 0.5583\n",
      "Epoch 116 | Fold 4 | Train Acc: 0.6171 | Val Acc: 0.7283 | Train loss: 0.6693 Val Loss: 0.5629\n",
      "Epoch 117 | Fold 4 | Train Acc: 0.6119 | Val Acc: 0.7283 | Train loss: 0.6446 Val Loss: 0.5589\n",
      " Early stopping at epoch 117 for fold 4\n",
      " Fold 4: Best Val Acc = 0.7306\n",
      "Epoch 001 | Fold 5 | Train Acc: 0.3615 | Val Acc: 0.6290 | Train loss: 1.3805 Val Loss: 1.3573\n",
      "Epoch 002 | Fold 5 | Train Acc: 0.3981 | Val Acc: 0.4258 | Train loss: 1.3592 Val Loss: 1.3532\n",
      "Epoch 003 | Fold 5 | Train Acc: 0.3868 | Val Acc: 0.3304 | Train loss: 1.3412 Val Loss: 1.3394\n",
      "Epoch 004 | Fold 5 | Train Acc: 0.4471 | Val Acc: 0.5212 | Train loss: 1.3097 Val Loss: 1.2933\n",
      "Epoch 005 | Fold 5 | Train Acc: 0.4296 | Val Acc: 0.4081 | Train loss: 1.2547 Val Loss: 1.2369\n",
      "Epoch 006 | Fold 5 | Train Acc: 0.4786 | Val Acc: 0.6131 | Train loss: 1.1581 Val Loss: 1.0741\n",
      "Epoch 007 | Fold 5 | Train Acc: 0.4668 | Val Acc: 0.6025 | Train loss: 1.0309 Val Loss: 0.9243\n",
      "Epoch 008 | Fold 5 | Train Acc: 0.5107 | Val Acc: 0.4682 | Train loss: 0.9583 Val Loss: 0.8756\n",
      "Epoch 009 | Fold 5 | Train Acc: 0.4966 | Val Acc: 0.5760 | Train loss: 0.9151 Val Loss: 0.8256\n",
      "Epoch 010 | Fold 5 | Train Acc: 0.5405 | Val Acc: 0.5318 | Train loss: 0.9030 Val Loss: 0.8078\n",
      "Epoch 011 | Fold 5 | Train Acc: 0.5270 | Val Acc: 0.4629 | Train loss: 0.8625 Val Loss: 0.7983\n",
      "Epoch 012 | Fold 5 | Train Acc: 0.5327 | Val Acc: 0.4647 | Train loss: 0.8836 Val Loss: 0.7748\n",
      "Epoch 013 | Fold 5 | Train Acc: 0.5445 | Val Acc: 0.4965 | Train loss: 0.8504 Val Loss: 0.7595\n",
      "Epoch 014 | Fold 5 | Train Acc: 0.5282 | Val Acc: 0.4382 | Train loss: 0.8794 Val Loss: 0.8034\n",
      "Epoch 015 | Fold 5 | Train Acc: 0.5079 | Val Acc: 0.5177 | Train loss: 0.8492 Val Loss: 0.7527\n",
      "Epoch 016 | Fold 5 | Train Acc: 0.5304 | Val Acc: 0.4682 | Train loss: 0.8574 Val Loss: 0.7537\n",
      "Epoch 017 | Fold 5 | Train Acc: 0.5467 | Val Acc: 0.5124 | Train loss: 0.8248 Val Loss: 0.7360\n",
      "Epoch 018 | Fold 5 | Train Acc: 0.5400 | Val Acc: 0.4682 | Train loss: 0.8443 Val Loss: 0.7498\n",
      "Epoch 019 | Fold 5 | Train Acc: 0.5383 | Val Acc: 0.5124 | Train loss: 0.8035 Val Loss: 0.7313\n",
      "Epoch 020 | Fold 5 | Train Acc: 0.5248 | Val Acc: 0.5618 | Train loss: 0.8186 Val Loss: 0.7021\n",
      "Epoch 021 | Fold 5 | Train Acc: 0.5541 | Val Acc: 0.5866 | Train loss: 0.8036 Val Loss: 0.7070\n",
      "Epoch 022 | Fold 5 | Train Acc: 0.5681 | Val Acc: 0.5177 | Train loss: 0.7972 Val Loss: 0.7109\n",
      "Epoch 023 | Fold 5 | Train Acc: 0.5383 | Val Acc: 0.4982 | Train loss: 0.8117 Val Loss: 0.7069\n",
      "Epoch 024 | Fold 5 | Train Acc: 0.5771 | Val Acc: 0.5989 | Train loss: 0.7816 Val Loss: 0.6791\n",
      "Epoch 025 | Fold 5 | Train Acc: 0.5619 | Val Acc: 0.5124 | Train loss: 0.8175 Val Loss: 0.7010\n",
      "Epoch 026 | Fold 5 | Train Acc: 0.5648 | Val Acc: 0.6254 | Train loss: 0.8009 Val Loss: 0.6924\n",
      "Epoch 027 | Fold 5 | Train Acc: 0.5766 | Val Acc: 0.5318 | Train loss: 0.7816 Val Loss: 0.7066\n",
      "Epoch 028 | Fold 5 | Train Acc: 0.5507 | Val Acc: 0.5689 | Train loss: 0.7867 Val Loss: 0.6872\n",
      "Epoch 029 | Fold 5 | Train Acc: 0.5625 | Val Acc: 0.5901 | Train loss: 0.7807 Val Loss: 0.6871\n",
      "Epoch 030 | Fold 5 | Train Acc: 0.5591 | Val Acc: 0.6237 | Train loss: 0.8153 Val Loss: 0.7054\n",
      "Epoch 031 | Fold 5 | Train Acc: 0.5878 | Val Acc: 0.6378 | Train loss: 0.7996 Val Loss: 0.6732\n",
      "Epoch 032 | Fold 5 | Train Acc: 0.5771 | Val Acc: 0.6307 | Train loss: 0.7819 Val Loss: 0.6675\n",
      "Epoch 033 | Fold 5 | Train Acc: 0.5693 | Val Acc: 0.6113 | Train loss: 0.7791 Val Loss: 0.6880\n",
      "Epoch 034 | Fold 5 | Train Acc: 0.5704 | Val Acc: 0.5936 | Train loss: 0.7687 Val Loss: 0.6847\n",
      "Epoch 035 | Fold 5 | Train Acc: 0.6171 | Val Acc: 0.6484 | Train loss: 0.7455 Val Loss: 0.6460\n",
      "Epoch 036 | Fold 5 | Train Acc: 0.6019 | Val Acc: 0.6184 | Train loss: 0.7723 Val Loss: 0.6730\n",
      "Epoch 037 | Fold 5 | Train Acc: 0.6120 | Val Acc: 0.6078 | Train loss: 0.7462 Val Loss: 0.6695\n",
      "Epoch 038 | Fold 5 | Train Acc: 0.5726 | Val Acc: 0.5707 | Train loss: 0.7736 Val Loss: 0.7323\n",
      "Epoch 039 | Fold 5 | Train Acc: 0.6132 | Val Acc: 0.6519 | Train loss: 0.7504 Val Loss: 0.6616\n",
      "Epoch 040 | Fold 5 | Train Acc: 0.6104 | Val Acc: 0.6749 | Train loss: 0.7716 Val Loss: 0.6641\n",
      "Epoch 041 | Fold 5 | Train Acc: 0.6087 | Val Acc: 0.5654 | Train loss: 0.7469 Val Loss: 0.6783\n",
      "Epoch 042 | Fold 5 | Train Acc: 0.6244 | Val Acc: 0.6237 | Train loss: 0.7230 Val Loss: 0.6596\n",
      "Epoch 043 | Fold 5 | Train Acc: 0.6014 | Val Acc: 0.5919 | Train loss: 0.7375 Val Loss: 0.6757\n",
      "Epoch 044 | Fold 5 | Train Acc: 0.6199 | Val Acc: 0.7155 | Train loss: 0.7055 Val Loss: 0.6612\n",
      "Epoch 045 | Fold 5 | Train Acc: 0.6182 | Val Acc: 0.7014 | Train loss: 0.7286 Val Loss: 0.6677\n",
      "Epoch 046 | Fold 5 | Train Acc: 0.6250 | Val Acc: 0.5936 | Train loss: 0.7298 Val Loss: 0.6717\n",
      "Epoch 047 | Fold 5 | Train Acc: 0.5980 | Val Acc: 0.6396 | Train loss: 0.7166 Val Loss: 0.6778\n",
      "Epoch 048 | Fold 5 | Train Acc: 0.6064 | Val Acc: 0.6378 | Train loss: 0.7215 Val Loss: 0.6777\n",
      "Epoch 049 | Fold 5 | Train Acc: 0.6278 | Val Acc: 0.6449 | Train loss: 0.7105 Val Loss: 0.6742\n",
      "Epoch 050 | Fold 5 | Train Acc: 0.6166 | Val Acc: 0.6378 | Train loss: 0.7061 Val Loss: 0.6745\n",
      "Epoch 051 | Fold 5 | Train Acc: 0.6182 | Val Acc: 0.6996 | Train loss: 0.7028 Val Loss: 0.6768\n",
      "Epoch 052 | Fold 5 | Train Acc: 0.6318 | Val Acc: 0.6466 | Train loss: 0.7014 Val Loss: 0.6742\n",
      "Epoch 053 | Fold 5 | Train Acc: 0.6211 | Val Acc: 0.6237 | Train loss: 0.7137 Val Loss: 0.6702\n",
      "Epoch 054 | Fold 5 | Train Acc: 0.6334 | Val Acc: 0.6184 | Train loss: 0.6925 Val Loss: 0.6607\n",
      "Epoch 055 | Fold 5 | Train Acc: 0.6188 | Val Acc: 0.6148 | Train loss: 0.7313 Val Loss: 0.6656\n",
      "Epoch 056 | Fold 5 | Train Acc: 0.6160 | Val Acc: 0.6678 | Train loss: 0.7113 Val Loss: 0.6695\n",
      "Epoch 057 | Fold 5 | Train Acc: 0.6284 | Val Acc: 0.6979 | Train loss: 0.7089 Val Loss: 0.6734\n",
      "Epoch 058 | Fold 5 | Train Acc: 0.6205 | Val Acc: 0.6166 | Train loss: 0.7105 Val Loss: 0.6766\n",
      "Epoch 059 | Fold 5 | Train Acc: 0.6171 | Val Acc: 0.6396 | Train loss: 0.7139 Val Loss: 0.6670\n",
      "Epoch 060 | Fold 5 | Train Acc: 0.6098 | Val Acc: 0.6413 | Train loss: 0.7117 Val Loss: 0.6693\n",
      "Epoch 061 | Fold 5 | Train Acc: 0.6149 | Val Acc: 0.6413 | Train loss: 0.7066 Val Loss: 0.6733\n",
      "Epoch 062 | Fold 5 | Train Acc: 0.6227 | Val Acc: 0.6696 | Train loss: 0.7171 Val Loss: 0.6755\n",
      "Epoch 063 | Fold 5 | Train Acc: 0.6261 | Val Acc: 0.6678 | Train loss: 0.6985 Val Loss: 0.6730\n",
      "Epoch 064 | Fold 5 | Train Acc: 0.6385 | Val Acc: 0.6678 | Train loss: 0.6736 Val Loss: 0.6735\n"
     ]
    },
    {
     "name": "stderr",
     "output_type": "stream",
     "text": [
      "[I 2025-07-15 01:12:21,187] Trial 19 finished with value: 0.7064785000131557 and parameters: {'hidden_channels': 256, 'num_layers': 2, 'heads': 1, 'dropout': 0.2810297442994563, 'hidden_dim': 256}. Best is trial 16 with value: 0.717528137604627.\n"
     ]
    },
    {
     "name": "stdout",
     "output_type": "stream",
     "text": [
      "Epoch 065 | Fold 5 | Train Acc: 0.6115 | Val Acc: 0.6396 | Train loss: 0.7126 Val Loss: 0.6729\n",
      " Early stopping at epoch 65 for fold 5\n",
      " Fold 5: Best Val Acc = 0.6484\n",
      "🏃 View run trial_19 at: http://127.0.0.1:5000/#/experiments/906754211394743286/runs/454f4505fe34435d929c27546fc70f53\n",
      "🧪 View experiment at: http://127.0.0.1:5000/#/experiments/906754211394743286\n"
     ]
    },
    {
     "name": "stderr",
     "output_type": "stream",
     "text": [
      "[I 2025-07-15 01:12:22,018] Trial 20 pruned. \n"
     ]
    },
    {
     "name": "stdout",
     "output_type": "stream",
     "text": [
      "Epoch 001 | Fold 1 | Train Acc: 0.4753 | Val Acc: 0.2610 | Train loss: 1.3874 Val Loss: 1.3922\n",
      "🏃 View run trial_20 at: http://127.0.0.1:5000/#/experiments/906754211394743286/runs/44e2ae9743634845b4040624153889cb\n",
      "🧪 View experiment at: http://127.0.0.1:5000/#/experiments/906754211394743286\n",
      "Epoch 001 | Fold 1 | Train Acc: 0.2055 | Val Acc: 0.4308 | Train loss: 1.3830 Val Loss: 1.3649\n"
     ]
    },
    {
     "name": "stderr",
     "output_type": "stream",
     "text": [
      "[I 2025-07-15 01:12:23,288] Trial 21 pruned. \n"
     ]
    },
    {
     "name": "stdout",
     "output_type": "stream",
     "text": [
      "Epoch 002 | Fold 1 | Train Acc: 0.2984 | Val Acc: 0.4245 | Train loss: 1.3636 Val Loss: 1.3420\n",
      "🏃 View run trial_21 at: http://127.0.0.1:5000/#/experiments/906754211394743286/runs/f887c255a3f6458a98a559d07ef95188\n",
      "🧪 View experiment at: http://127.0.0.1:5000/#/experiments/906754211394743286\n",
      "Epoch 001 | Fold 1 | Train Acc: 0.1873 | Val Acc: 0.3679 | Train loss: 1.3807 Val Loss: 1.3543\n"
     ]
    },
    {
     "name": "stderr",
     "output_type": "stream",
     "text": [
      "[I 2025-07-15 01:12:24,611] Trial 22 pruned. \n"
     ]
    },
    {
     "name": "stdout",
     "output_type": "stream",
     "text": [
      "Epoch 002 | Fold 1 | Train Acc: 0.3429 | Val Acc: 0.4057 | Train loss: 1.3621 Val Loss: 1.3333\n",
      "🏃 View run trial_22 at: http://127.0.0.1:5000/#/experiments/906754211394743286/runs/8f31dfdb289f4768a93ddf16a6a32360\n",
      "🧪 View experiment at: http://127.0.0.1:5000/#/experiments/906754211394743286\n",
      "Epoch 001 | Fold 1 | Train Acc: 0.4704 | Val Acc: 0.3742 | Train loss: 1.3893 Val Loss: 1.3806\n"
     ]
    },
    {
     "name": "stderr",
     "output_type": "stream",
     "text": [
      "[I 2025-07-15 01:12:25,844] Trial 23 pruned. \n"
     ]
    },
    {
     "name": "stdout",
     "output_type": "stream",
     "text": [
      "Epoch 002 | Fold 1 | Train Acc: 0.4837 | Val Acc: 0.4434 | Train loss: 1.3686 Val Loss: 1.3533\n",
      "🏃 View run trial_23 at: http://127.0.0.1:5000/#/experiments/906754211394743286/runs/aefbecbbb4e1414c8fa0af50d9a9dd31\n",
      "🧪 View experiment at: http://127.0.0.1:5000/#/experiments/906754211394743286\n",
      "Epoch 001 | Fold 1 | Train Acc: 0.2110 | Val Acc: 0.5409 | Train loss: 1.3848 Val Loss: 1.3517\n",
      "Epoch 002 | Fold 1 | Train Acc: 0.2925 | Val Acc: 0.3428 | Train loss: 1.3642 Val Loss: 1.3355\n",
      "Epoch 003 | Fold 1 | Train Acc: 0.2900 | Val Acc: 0.4214 | Train loss: 1.3473 Val Loss: 1.3059\n",
      "Epoch 004 | Fold 1 | Train Acc: 0.4125 | Val Acc: 0.5503 | Train loss: 1.3260 Val Loss: 1.2678\n",
      "Epoch 005 | Fold 1 | Train Acc: 0.5450 | Val Acc: 0.6415 | Train loss: 1.2964 Val Loss: 1.2206\n"
     ]
    },
    {
     "name": "stderr",
     "output_type": "stream",
     "text": [
      "[I 2025-07-15 01:12:29,307] Trial 24 pruned. \n"
     ]
    },
    {
     "name": "stdout",
     "output_type": "stream",
     "text": [
      "Epoch 006 | Fold 1 | Train Acc: 0.5573 | Val Acc: 0.6352 | Train loss: 1.2517 Val Loss: 1.1529\n",
      "🏃 View run trial_24 at: http://127.0.0.1:5000/#/experiments/906754211394743286/runs/3fc8f5ac035846578b9f18a41b95068f\n",
      "🧪 View experiment at: http://127.0.0.1:5000/#/experiments/906754211394743286\n"
     ]
    },
    {
     "name": "stderr",
     "output_type": "stream",
     "text": [
      "[I 2025-07-15 01:12:30,034] Trial 25 pruned. \n"
     ]
    },
    {
     "name": "stdout",
     "output_type": "stream",
     "text": [
      "Epoch 001 | Fold 1 | Train Acc: 0.1477 | Val Acc: 0.3050 | Train loss: 1.3852 Val Loss: 1.3761\n",
      "🏃 View run trial_25 at: http://127.0.0.1:5000/#/experiments/906754211394743286/runs/17c8caf628be4f79b20475553efadfb3\n",
      "🧪 View experiment at: http://127.0.0.1:5000/#/experiments/906754211394743286\n",
      "Epoch 001 | Fold 1 | Train Acc: 0.2347 | Val Acc: 0.3899 | Train loss: 1.3805 Val Loss: 1.3467\n"
     ]
    },
    {
     "name": "stderr",
     "output_type": "stream",
     "text": [
      "[I 2025-07-15 01:12:31,602] Trial 26 pruned. \n"
     ]
    },
    {
     "name": "stdout",
     "output_type": "stream",
     "text": [
      "Epoch 002 | Fold 1 | Train Acc: 0.2134 | Val Acc: 0.3805 | Train loss: 1.3665 Val Loss: 1.3356\n",
      "🏃 View run trial_26 at: http://127.0.0.1:5000/#/experiments/906754211394743286/runs/6da0e58a94b649519d392d76a4ac1406\n",
      "🧪 View experiment at: http://127.0.0.1:5000/#/experiments/906754211394743286\n",
      "Epoch 001 | Fold 1 | Train Acc: 0.1779 | Val Acc: 0.5818 | Train loss: 1.3848 Val Loss: 1.3411\n",
      "Epoch 002 | Fold 1 | Train Acc: 0.2643 | Val Acc: 0.5283 | Train loss: 1.3616 Val Loss: 1.3187\n",
      "Epoch 003 | Fold 1 | Train Acc: 0.3251 | Val Acc: 0.6195 | Train loss: 1.3391 Val Loss: 1.2892\n",
      "Epoch 004 | Fold 1 | Train Acc: 0.3612 | Val Acc: 0.6855 | Train loss: 1.3180 Val Loss: 1.2473\n",
      "Epoch 005 | Fold 1 | Train Acc: 0.4185 | Val Acc: 0.7075 | Train loss: 1.2847 Val Loss: 1.1977\n",
      "Epoch 006 | Fold 1 | Train Acc: 0.5040 | Val Acc: 0.7296 | Train loss: 1.2424 Val Loss: 1.1411\n",
      "Epoch 007 | Fold 1 | Train Acc: 0.5069 | Val Acc: 0.7642 | Train loss: 1.1882 Val Loss: 1.0575\n",
      "Epoch 008 | Fold 1 | Train Acc: 0.4807 | Val Acc: 0.7610 | Train loss: 1.1274 Val Loss: 0.9483\n",
      "Epoch 009 | Fold 1 | Train Acc: 0.4970 | Val Acc: 0.7673 | Train loss: 1.0559 Val Loss: 0.8704\n",
      "Epoch 010 | Fold 1 | Train Acc: 0.5094 | Val Acc: 0.7610 | Train loss: 0.9945 Val Loss: 0.7600\n",
      "Epoch 011 | Fold 1 | Train Acc: 0.4867 | Val Acc: 0.7547 | Train loss: 0.9283 Val Loss: 0.6699\n",
      "Epoch 012 | Fold 1 | Train Acc: 0.5005 | Val Acc: 0.7704 | Train loss: 0.8733 Val Loss: 0.6205\n",
      "Epoch 013 | Fold 1 | Train Acc: 0.5104 | Val Acc: 0.7610 | Train loss: 0.8254 Val Loss: 0.5753\n",
      "Epoch 014 | Fold 1 | Train Acc: 0.5104 | Val Acc: 0.7673 | Train loss: 0.7842 Val Loss: 0.5474\n",
      "Epoch 015 | Fold 1 | Train Acc: 0.5168 | Val Acc: 0.7642 | Train loss: 0.7618 Val Loss: 0.5268\n",
      "Epoch 016 | Fold 1 | Train Acc: 0.5212 | Val Acc: 0.7642 | Train loss: 0.7434 Val Loss: 0.5218\n",
      "Epoch 017 | Fold 1 | Train Acc: 0.5277 | Val Acc: 0.7610 | Train loss: 0.7057 Val Loss: 0.4985\n",
      "Epoch 018 | Fold 1 | Train Acc: 0.5227 | Val Acc: 0.7610 | Train loss: 0.6958 Val Loss: 0.4888\n",
      "Epoch 019 | Fold 1 | Train Acc: 0.5232 | Val Acc: 0.7610 | Train loss: 0.6876 Val Loss: 0.4804\n",
      "Epoch 020 | Fold 1 | Train Acc: 0.5282 | Val Acc: 0.7610 | Train loss: 0.6740 Val Loss: 0.4684\n",
      "Epoch 021 | Fold 1 | Train Acc: 0.5306 | Val Acc: 0.7610 | Train loss: 0.6778 Val Loss: 0.4849\n",
      "Epoch 022 | Fold 1 | Train Acc: 0.5440 | Val Acc: 0.7704 | Train loss: 0.6657 Val Loss: 0.4852\n",
      "Epoch 023 | Fold 1 | Train Acc: 0.5356 | Val Acc: 0.7547 | Train loss: 0.6582 Val Loss: 0.4651\n"
     ]
    },
    {
     "name": "stderr",
     "output_type": "stream",
     "text": [
      "[I 2025-07-15 01:12:43,434] Trial 27 pruned. \n"
     ]
    },
    {
     "name": "stdout",
     "output_type": "stream",
     "text": [
      "Epoch 024 | Fold 1 | Train Acc: 0.5306 | Val Acc: 0.7516 | Train loss: 0.6560 Val Loss: 0.4648\n",
      "🏃 View run trial_27 at: http://127.0.0.1:5000/#/experiments/906754211394743286/runs/3df79352a3da4eeda45b204e8eefa738\n",
      "🧪 View experiment at: http://127.0.0.1:5000/#/experiments/906754211394743286\n",
      "Epoch 001 | Fold 1 | Train Acc: 0.5242 | Val Acc: 0.3648 | Train loss: 1.3874 Val Loss: 1.3875\n"
     ]
    },
    {
     "name": "stderr",
     "output_type": "stream",
     "text": [
      "[I 2025-07-15 01:12:45,305] Trial 28 pruned. \n"
     ]
    },
    {
     "name": "stdout",
     "output_type": "stream",
     "text": [
      "Epoch 002 | Fold 1 | Train Acc: 0.5109 | Val Acc: 0.3522 | Train loss: 1.3689 Val Loss: 1.3553\n",
      "🏃 View run trial_28 at: http://127.0.0.1:5000/#/experiments/906754211394743286/runs/7fd567ae0dce4f02ac2f3e98fe0c7a6a\n",
      "🧪 View experiment at: http://127.0.0.1:5000/#/experiments/906754211394743286\n",
      "Epoch 001 | Fold 1 | Train Acc: 0.1986 | Val Acc: 0.4560 | Train loss: 1.3859 Val Loss: 1.3622\n",
      "Epoch 002 | Fold 1 | Train Acc: 0.2737 | Val Acc: 0.5409 | Train loss: 1.3722 Val Loss: 1.3461\n",
      "Epoch 003 | Fold 1 | Train Acc: 0.3839 | Val Acc: 0.6572 | Train loss: 1.3568 Val Loss: 1.3316\n",
      "Epoch 004 | Fold 1 | Train Acc: 0.3577 | Val Acc: 0.6384 | Train loss: 1.3390 Val Loss: 1.2979\n",
      "Epoch 005 | Fold 1 | Train Acc: 0.4580 | Val Acc: 0.6761 | Train loss: 1.3188 Val Loss: 1.2757\n",
      "Epoch 006 | Fold 1 | Train Acc: 0.5524 | Val Acc: 0.6761 | Train loss: 1.2833 Val Loss: 1.2213\n",
      "Epoch 007 | Fold 1 | Train Acc: 0.4946 | Val Acc: 0.6887 | Train loss: 1.2342 Val Loss: 1.1198\n"
     ]
    },
    {
     "name": "stderr",
     "output_type": "stream",
     "text": [
      "[I 2025-07-15 01:12:50,179] Trial 29 pruned. \n"
     ]
    },
    {
     "name": "stdout",
     "output_type": "stream",
     "text": [
      "Epoch 008 | Fold 1 | Train Acc: 0.4580 | Val Acc: 0.6667 | Train loss: 1.1481 Val Loss: 0.9260\n",
      "🏃 View run trial_29 at: http://127.0.0.1:5000/#/experiments/906754211394743286/runs/c9053c68dbd54fba8b1d06b3e80e47ba\n",
      "🧪 View experiment at: http://127.0.0.1:5000/#/experiments/906754211394743286\n",
      "Best trial:\n",
      "Accuracy: 0.717528137604627\n",
      "Params: {'hidden_channels': 256, 'num_layers': 2, 'heads': 1, 'dropout': 0.09613910035252272, 'hidden_dim': 256}\n"
     ]
    }
   ],
   "source": [
    "import mlflow\n",
    "\n",
    "# Set MLflow experiment name — all trials/logs will be grouped under this\n",
    "mlflow.set_experiment(\"GATv2_Optuna_Experiment\")\n",
    "mlflow.set_tracking_uri(\"http://127.0.0.1:5000\") \n",
    "\n",
    "# Create and run the Optuna study\n",
    "study = optuna.create_study(direction='maximize')\n",
    "study.optimize(objective, n_trials=30)\n",
    "\n",
    "print(\"Best trial:\")\n",
    "print(\"Accuracy:\", study.best_trial.value)\n",
    "print(\"Params:\", study.best_trial.params)\n"
   ]
  },
  {
   "cell_type": "code",
   "execution_count": 13,
   "id": "f20cf880",
   "metadata": {},
   "outputs": [
    {
     "name": "stdout",
     "output_type": "stream",
     "text": [
      "Best trial:\n",
      "Accuracy: 0.717528137604627\n",
      "Params: {'hidden_channels': 256, 'num_layers': 2, 'heads': 1, 'dropout': 0.09613910035252272, 'hidden_dim': 256}\n"
     ]
    }
   ],
   "source": [
    "print(\"Best trial:\")\n",
    "print(\"Accuracy:\", study.best_trial.value)\n",
    "print(\"Params:\", study.best_trial.params)"
   ]
  },
  {
   "cell_type": "code",
   "execution_count": 12,
   "id": "c8d756ef",
   "metadata": {},
   "outputs": [
    {
     "data": {
      "text/plain": [
       "tensor([0, 1, 3, 2, 0, 3, 3, 2, 1, 0, 1, 2, 2, 0, 1, 2, 2, 0, 3, 1, 2, 2, 0, 2,\n",
       "        3, 2, 1, 0, 1, 3, 3, 2, 0, 2, 2, 1, 0, 1, 2, 2, 0, 3, 2, 2, 1, 0, 1, 2,\n",
       "        2, 0, 1, 2, 2, 0, 2, 2, 1, 0, 1, 2, 3, 0, 2, 1, 2, 2, 0, 1, 3, 2, 0, 3,\n",
       "        3, 3, 1, 0, 2, 2, 1, 0, 2, 2, 1, 0, 1, 2, 2, 3, 3, 3, 3, 0, 2, 2, 2, 1,\n",
       "        0, 1, 2, 0, 2, 2, 1], device='cuda:0')"
      ]
     },
     "execution_count": 12,
     "metadata": {},
     "output_type": "execute_result"
    }
   ],
   "source": [
    "data_list[0].y"
   ]
  },
  {
   "cell_type": "code",
   "execution_count": null,
   "id": "5b8a216b",
   "metadata": {},
   "outputs": [],
   "source": [
    "import os\n",
    "import json\n",
    "import torch\n",
    "import numpy as np\n",
    "import matplotlib.pyplot as plt\n",
    "import mlflow\n",
    "import mlflow.pytorch\n",
    "from torch.nn import CrossEntropyLoss\n",
    "from torch_geometric.loader import DataLoader\n",
    "\n",
    "# ----------------- SET MLFLOW CONFIG ----------------------\n",
    "mlflow.set_tracking_uri(\"http://127.0.0.1:5000\")\n",
    "mlflow.set_experiment(\"GATv2_Final_Training\")\n",
    "\n",
    "# ----------------- LOAD BEST HYPERPARAMETERS ----------------------\n",
    "best_params_path = os.path.join(model_dir, \"best_params.json\")\n",
    "best_params = study.best_trial.params\n",
    "with open(best_params_path, \"w\") as f:\n",
    "    json.dump(best_params, f, indent=4)\n",
    "\n",
    "# ----------------- SETUP FINAL TRAINING ----------------------\n",
    "final_model = GAT(\n",
    "    in_channels=in_channels,\n",
    "    hidden_channels=best_params['hidden_channels'],\n",
    "    num_layers=best_params['num_layers'],\n",
    "    out_channels=num_classes,\n",
    "    dropout=best_params['dropout'],\n",
    "    heads=best_params['heads'],\n",
    "    v2=True,\n",
    "    edge_dim=1,\n",
    "    jk='lstm'\n",
    ").to(device)\n",
    "\n",
    "# Class-weighted loss\n",
    "all_labels = torch.cat([data.y for data in train_loader.dataset])\n",
    "class_counts = torch.bincount(all_labels, minlength=num_classes)\n",
    "class_weights = 1.0 / (class_counts.float() + 1e-6)\n",
    "class_weights = class_weights / class_weights.sum()\n",
    "class_weights = class_weights.to(device)\n",
    "\n",
    "criterion = CrossEntropyLoss(weight=class_weights)\n",
    "optimizer = torch.optim.Adam(final_model.parameters(), lr=0.0005, weight_decay=5e-4)\n",
    "\n",
    "train_losses = []\n",
    "val_losses = []\n",
    "best_val_loss = float('inf')\n",
    "best_model_path = os.path.join(model_dir, \"GAT_full_model_best_001.pt\")\n",
    "\n",
    "# ----------------- TRAINING LOOP ----------------------\n",
    "for epoch in range(500):\n",
    "    final_model.train()\n",
    "    train_loss = 0\n",
    "    for data in train_loader:\n",
    "        data = data.to(device)\n",
    "        optimizer.zero_grad()\n",
    "        out = final_model(data.x, data.edge_index, edge_weight=data.edge_attr)\n",
    "        loss = criterion(out, data.y)\n",
    "        loss.backward()\n",
    "        optimizer.step()\n",
    "        train_loss += loss.item()\n",
    "    avg_train_loss = train_loss / len(train_loader)\n",
    "    train_losses.append(avg_train_loss)\n",
    "\n",
    "    # Validation\n",
    "    final_model.eval()\n",
    "    val_loss = 0\n",
    "    with torch.no_grad():\n",
    "        for data in val_loader:\n",
    "            data = data.to(device)\n",
    "            out = final_model(data.x, data.edge_index, edge_weight=data.edge_attr)\n",
    "            loss = criterion(out, data.y)\n",
    "            val_loss += loss.item()\n",
    "    avg_val_loss = val_loss / len(val_loader)\n",
    "    val_losses.append(avg_val_loss)\n",
    "\n",
    "    # Save best weights\n",
    "    if avg_val_loss < best_val_loss:\n",
    "        best_val_loss = avg_val_loss\n",
    "        torch.save(final_model.state_dict(), best_model_path)\n",
    "\n",
    "    print(f\"[FINAL TRAIN] Epoch {epoch+1:03d} | Train Loss: {avg_train_loss:.4f} | Val Loss: {avg_val_loss:.4f}\")\n",
    "\n",
    "# Save full model (.pt)\n",
    "full_model_path = os.path.join(model_dir, \"GAT_final_model.pt\")\n",
    "torch.save(final_model, full_model_path)\n",
    "print(f\"Full model saved to {full_model_path}\")\n",
    "print(f\" Best model (lowest val loss) saved to {best_model_path}\")\n",
    "\n",
    "# ----------------- PLOT LOSS CURVE ----------------------\n",
    "plt.figure(figsize=(8,5))\n",
    "plt.plot(train_losses, label='Train Loss')\n",
    "plt.plot(val_losses, label='Validation Loss')\n",
    "plt.xlabel('Epoch')\n",
    "plt.ylabel('Loss')\n",
    "plt.title('Final Model Training and Validation Loss')\n",
    "plt.legend()\n",
    "plt.grid(True)\n",
    "plt.tight_layout()\n",
    "plot_path = os.path.join(plots_dir, \"final_train_val_loss.png\")\n",
    "plt.savefig(plot_path)\n",
    "plt.show()\n",
    "\n",
    "# ----------------- MLFLOW LOGGING ----------------------\n",
    "# Load best weights before logging\n",
    "final_model.load_state_dict(torch.load(best_model_path))\n",
    "\n",
    "with mlflow.start_run(run_name=\"final_retrain\"):\n",
    "    mlflow.log_params(best_params)\n",
    "    mlflow.log_artifact(best_params_path)\n",
    "    mlflow.log_artifact(plot_path)\n",
    "\n",
    "    for epoch, (train_l, val_l) in enumerate(zip(train_losses, val_losses)):\n",
    "        mlflow.log_metric(\"train_loss\", train_l, step=epoch)\n",
    "        mlflow.log_metric(\"val_loss\", val_l, step=epoch)\n",
    "\n",
    "    # ✅ Log model\n",
    "    mlflow.pytorch.log_model(final_model, artifact_path=\"final_model\")\n",
    "    print(\" Final model logged to MLflow.\")\n"
   ]
  },
  {
   "cell_type": "code",
   "execution_count": 34,
   "id": "cd195700",
   "metadata": {},
   "outputs": [
    {
     "name": "stdout",
     "output_type": "stream",
     "text": [
      "Type: <class 'torch.Tensor'>\n",
      "Shape: torch.Size([103])\n",
      "Value: tensor([0, 1, 3, 2, 0, 3, 3, 2, 1, 0, 1, 2, 2, 0, 1, 2, 2, 0, 3, 1, 2, 2, 0, 2,\n",
      "        3, 2, 1, 0, 1, 3, 3, 2, 0, 2, 2, 1, 0, 1, 2, 2, 0, 3, 2, 2, 1, 0, 1, 2,\n",
      "        2, 0, 1, 2, 2, 0, 2, 2, 1, 0, 1, 2, 3, 0, 2, 1, 2, 2, 0, 1, 3, 2, 0, 3,\n",
      "        3, 3, 1, 0, 2, 2, 1, 0, 2, 2, 1, 0, 1, 2, 2, 3, 3, 3, 3, 0, 2, 2, 2, 1,\n",
      "        0, 1, 2, 0, 2, 2, 1], device='cuda:0')\n"
     ]
    }
   ],
   "source": [
    "print(\"Type:\", type(data_list[0].y))\n",
    "print(\"Shape:\", data_list[0].y.shape)\n",
    "print(\"Value:\", data_list[0].y)\n"
   ]
  }
 ],
 "metadata": {
  "kernelspec": {
   "display_name": "ENVGAT",
   "language": "python",
   "name": "python3"
  },
  "language_info": {
   "codemirror_mode": {
    "name": "ipython",
    "version": 3
   },
   "file_extension": ".py",
   "mimetype": "text/x-python",
   "name": "python",
   "nbconvert_exporter": "python",
   "pygments_lexer": "ipython3",
   "version": "3.10.18"
  }
 },
 "nbformat": 4,
 "nbformat_minor": 5
}
