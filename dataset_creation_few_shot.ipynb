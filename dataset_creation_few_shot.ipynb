{
 "cells": [
  {
   "cell_type": "markdown",
   "id": "2f3bd097",
   "metadata": {},
   "source": [
    "### Training data creation:"
   ]
  },
  {
   "cell_type": "code",
   "execution_count": null,
   "id": "3ca8baa6",
   "metadata": {},
   "outputs": [],
   "source": [
    "import os\n",
    "import torch\n",
    "from torch_geometric.data import Data\n",
    "\n",
    "# Define your document types and their data folder paths\n",
    "task_folders = {\n",
    "    \"Invoice\": \"data/invoice/\",\n",
    "    \"Loan\": \"data/loan/\",\n",
    "    \"Final Bill\": \"data/final_bill/\",\n",
    "#     \"Background Verification\": \"data/background_verification/\",\n",
    "#     \"Operative Report\": \"data/operative_report/\"\n",
    "}\n",
    "\n",
    "all_graphs = []\n",
    "\n",
    "for task_name, folder_path in task_folders.items():\n",
    "    if not os.path.exists(folder_path):\n",
    "        print(f\"⚠️ Folder not found: {folder_path}\")\n",
    "        continue\n",
    "    graph_files = [f for f in os.listdir(folder_path) if f.endswith(\".pt\")]\n",
    "\n",
    "    print(f\"🔍 Processing {len(graph_files)} files for task: {task_name}\")\n",
    "    for file in graph_files:\n",
    "        graph_path = os.path.join(folder_path, file)\n",
    "        data = torch.load(graph_path)\n",
    "        if isinstance(data, list):\n",
    "           for d in data:\n",
    "               d.task = task_name\n",
    "               all_graphs.append(d)\n",
    "        else:\n",
    "            data.task = task_name\n",
    "            all_graphs.append(data)\n",
    "\n",
    "# Save to one master file\n",
    "os.makedirs(\"data/training_data\", exist_ok=True)\n",
    "torch.save(all_graphs, \"data/training_data/training_dataset.pt\")\n",
    "print(f\"Saved all {len(all_graphs)} graphs to training_dataset.pt\")\n"
   ]
  },
  {
   "cell_type": "markdown",
   "id": "48b49ff7",
   "metadata": {},
   "source": [
    "### Testing data creation:"
   ]
  },
  {
   "cell_type": "code",
   "execution_count": null,
   "id": "4ec11743",
   "metadata": {},
   "outputs": [],
   "source": [
    "import os\n",
    "import torch\n",
    "from torch_geometric.data import Data\n",
    "\n",
    "# Define your document types and their data folder paths\n",
    "task_folders = {\n",
    "    # \"Operative Report\": \"data/operative_report/\"\n",
    "    \"Loan\": \"data/loan/\",\n",
    "}\n",
    "\n",
    "all_graphs = []\n",
    "\n",
    "for task_name, folder_path in task_folders.items():\n",
    "    if not os.path.exists(folder_path):\n",
    "        print(f\" Folder not found: {folder_path}\")\n",
    "        continue\n",
    "    graph_files = [f for f in os.listdir(folder_path) if f.endswith(\"\")]\n",
    "\n",
    "    print(f\"🔍 Processing {len(graph_files)} files for task: {task_name}\")\n",
    "    for file in graph_files:\n",
    "        graph_path = os.path.join(folder_path, file)\n",
    "        data = torch.load(graph_path)\n",
    "        if isinstance(data, list):\n",
    "           for d in data:\n",
    "               d.task = task_name\n",
    "               all_graphs.append(d)\n",
    "        else:\n",
    "            data.task = task_name\n",
    "            all_graphs.append(data)\n",
    "\n",
    "# Save to one master file\n",
    "os.makedirs(\"data/test_data\", exist_ok=True)\n",
    "torch.save(all_graphs, \"data/test_data/test_dataset_loan.pt\")\n",
    "print(f\"Saved all {len(all_graphs)} graphs to test_dataset_loan.pt\")\n"
   ]
  }
 ],
 "metadata": {
  "language_info": {
   "name": "python"
  }
 },
 "nbformat": 4,
 "nbformat_minor": 5
}
